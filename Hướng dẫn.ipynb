{
 "cells": [
  {
   "cell_type": "markdown",
   "id": "4cc83230-cbc0-4e11-9df3-1f2dc54613c5",
   "metadata": {},
   "source": [
    "# Hướng dẫn soạn slide môn học KHDL bằng ipynb và smartdoc"
   ]
  },
  {
   "cell_type": "markdown",
   "id": "af03f2f5-a562-4e61-b02b-27a1581af78c",
   "metadata": {},
   "source": [
    "## 1. Tệp .ipynb là gì? (Nếu đã biết thì có thể bỏ qua phần này :))\n",
    "\n",
    "- Phần mở rộng `.ipynb` là viết tắt của *IPython Notebook*.\n",
    "- Đây là định dạng tệp đặc trưng của **Jupyter Notebook**, một công cụ rất phổ biến trong các lĩnh vực như:\n",
    "\n",
    "  - Khoa học dữ liệu\n",
    "  - Học máy (Machine Learning)\n",
    "  - Phân tích thống kê\n",
    "  - Giảng dạy lập trình và trực quan hóa dữ liệu\n",
    "\n",
    "- Tệp `.ipynb` có thể chứa:\n",
    "\n",
    "  - Các ô mã lệnh (code cells) để thực thi Python hoặc các ngôn ngữ khác\n",
    "  - Các ô văn bản (Markdown) để ghi chú, trình bày nội dung\n",
    "  - Công thức toán học viết bằng cú pháp LaTeX\n",
    "  - Hình ảnh, bảng biểu, biểu đồ và kết quả đầu ra từ mã đã chạy"
   ]
  },
  {
   "cell_type": "markdown",
   "id": "d40d1da0-ea73-4a1b-88b9-0e46800e9928",
   "metadata": {},
   "source": [
    "## 2. Cài đặt công cụ để soạn thảo .ipynb\n",
    "\n",
    "### ✅ Phương án 1: Cài đặt Anaconda (khuyên dùng cho người mới)\n",
    "\n",
    "- Truy cập: [https://www.anaconda.com/products/distribution](https://www.anaconda.com/products/distribution)\n",
    "- Tải và cài đặt bản phù hợp với hệ điều hành\n",
    "- Sau khi cài xong, bạn có thể mở:\n",
    "  - **Jupyter Notebook**\n",
    "  - **JupyterLab** (phiên bản hiện đại hơn)\n",
    "\n",
    "### ✅ Phương án 2: Cài đặt thủ công bằng pip\n",
    "\n",
    "Yêu cầu: đã cài sẵn Python\n",
    "\n",
    "**Mở cửa sổ bash**\n",
    "\n",
    "Mở Start Menu → gõ cmd → Enter\n",
    "\n",
    "**Cài Jupyter Notebook**: chạy câu lệnh\n",
    "\n",
    "pip install notebook\n",
    "\n",
    "**Hoặc cài JupyterLab (giao diện nâng cao hơn)**: chạy câu lệnh\n",
    "\n",
    "pip install jupyterlab\n",
    "\n",
    "\n",
    "### ✅ Phương án 3: Sử dụng Google Colab (không cần cài đặt)\n",
    "\n",
    "- Truy cập: [https://colab.research.google.com/](https://colab.research.google.com/)\n",
    "- Đăng nhập bằng tài khoản Google\n",
    "- Chọn:\n",
    "  \n",
    "  - **Upload notebook** (từ máy tính)\n",
    "  - Hoặc mở từ **Google Drive**\n",
    "\n",
    "- Colab cho phép bạn chạy mã Python miễn phí trên cloud (máy chủ của Google)\n",
    "- Hỗ trợ GPU/TPU, cài thư viện dễ dàng, tiện lợi cho cả giảng dạy và nghiên cứu\n",
    "\n",
    "---\n",
    "\n",
    "### ✅ Phương án 4: Sử dụng Visual Studio Code (VS Code)\n",
    "\n",
    "1. Tải Visual Studio Code tại: [https://code.visualstudio.com/](https://code.visualstudio.com/)\n",
    "2. Cài đặt Python từ: [https://www.python.org/downloads/](https://www.python.org/downloads/)\n",
    "3. Mở VS Code, cài các extension sau:\n",
    "   - **Python**\n",
    "   - **Jupyter**\n",
    "4. Mở file `.ipynb` trực tiếp bằng VS Code\n",
    "5. Có thể chạy từng ô lệnh, viết markdown, và trực quan hóa dữ liệu giống như Jupyter"
   ]
  },
  {
   "cell_type": "markdown",
   "id": "31e99ad8-79fc-40cb-8768-bdc61442be51",
   "metadata": {},
   "source": [
    "## 3. Soạn thảo slide/bài thực hành môn học KHDL cơ bản"
   ]
  },
  {
   "cell_type": "markdown",
   "id": "6bd47d6b-d6fd-43d8-badc-ac14f5d3f6b3",
   "metadata": {},
   "source": [
    "### Giáo trình\n",
    "\n",
    "- Giáo trình được xây dựng hoàn toàn online, lưu trữ trên GitHub nhằm giúp người học dễ dàng truy cập và sử dụng.\n",
    "- Truy cập giáo trình tại: [https://nct-neu.github.io/Sach_Khoa_hoc_du_lieu_python](https://nct-neu.github.io/Sach_Khoa_hoc_du_lieu_python)\n",
    "\n",
    "### Đề cương môn học\n",
    "\n",
    "*(Phần này cần bổ sung nội dung nếu có)*\n",
    "\n",
    "### Đường dẫn đến thư mục chứa Slides và Bài thực hành\n",
    "\n",
    "- Truy cập thư mục Slides và bài thực hành tại:  \n",
    "  [https://github.com/NCT-NEU/Sach_Khoa_hoc_du_lieu_python/tree/main/Slides](https://github.com/NCT-NEU/Sach_Khoa_hoc_du_lieu_python/tree/main/Slides)\n",
    "\n",
    "- Cấu trúc:\n",
    "\n",
    "  - Có **8 bài giảng**, tương ứng với các thư mục dạng `\"bai_giang\"`  \n",
    "  - Có **7 bài thực hành**, tương ứng với các thư mục dạng `\"bai_thuc_hanh\"`\n",
    "\n",
    "- Giảng viên lấy file '.ipynb' từ thư mục tương ứng trên Github về máy tính cá nhân.\n",
    "\n",
    "- Giảng viên sửa bài giảng trên file `.ipynb` trên máy tính cá nhân, sau đó tải lên thư mục tương ứng trên GitHub (ghi đè lên file đã có)\n",
    "\n",
    "### Nguyên tắc thêm ảnh/GIF/video khi soạn bài giảng\n",
    "\n",
    "- Hình ảnh được lưu trong thư mục con `\"Hinh_anh/\"` nằm trong thư mục của từng bài giảng.  \n",
    "  Ví dụ: tất cả hình ảnh của **bài giảng 1** phải được lưu tại:  \n",
    "  `Sach_Khoa_hoc_du_lieu_python/Slides/1_bai_giang_1/Hinh_anh/`\n",
    "\n",
    "- Khi chèn ảnh vào slide, sử dụng đường dẫn trực tiếp đến ảnh trên GitHub. Ví dụ:\n",
    "\n",
    "  - Tải ảnh `intro1.png` lên thư mục:  \n",
    "    `Sach_Khoa_hoc_du_lieu_python/Slides/1_bai_giang_1/Hinh_anh/`\n",
    "  - Chèn ảnh trong notebook bằng đường dẫn sau:\n",
    "  \n",
    "    *https://raw.githubusercontent.com/NCT-NEU/Sach_Khoa_hoc_du_lieu_python/main/Slides/1_bai_giang_1/Hinh_anh/intro1.png*\n",
    "\n",
    "- Thử chèn ảnh logo NEU tại đây\n",
    "https://raw.githubusercontent.com/NCT-NEU/Sach_Khoa_hoc_du_lieu_python/main/Slides/1_bai_giang_1/Hinh_anh/LogoKTQD.jpg\n",
    "\n",
    "### Nguyên tắc sử dụng dữ liệu trong Slides và Bài thực hành\n",
    "\n",
    "- Tất cả dữ liệu được sử dụng trong môn học cần được lưu trong thư mục chung:  \n",
    "  `Sach_Khoa_hoc_du_lieu_python/datasets/`\n",
    "\n",
    "- Ví dụ: sử dụng tệp dữ liệu `\"Sales_dataset.csv\"` cần thực hiện các bước sau:\n",
    "\n",
    "  - **Bước 1**: Tải tệp `Sales_dataset.csv` lên thư mục:  \n",
    "    `Sach_Khoa_hoc_du_lieu_python/datasets/`\n",
    "  - **Bước 2**: Sử dụng đường dẫn trực tiếp sau để đọc dữ liệu trong Python:\n",
    "    *https://raw.githubusercontent.com/NCT-NEU/Sach_Khoa_hoc_du_lieu_python/main/datasets/Sales_dataset.csv*"
   ]
  },
  {
   "cell_type": "markdown",
   "id": "2b2efc16-24bd-47cf-9515-8d12103cad24",
   "metadata": {},
   "source": [
    "## 4. Công cụ Smartdoc"
   ]
  },
  {
   "attachments": {},
   "cell_type": "markdown",
   "id": "74d8c5eb-921b-41cf-97d9-190b09d6a7d1",
   "metadata": {},
   "source": [
    "- Link truy cập [tại đây](https://fit.neu.edu.vn/smartdoc)\n",
    "\n",
    "- Trong mục **1. Cung cấp tài liệu** chọn **Tệp tin**\n",
    "\n",
    "- Vào **Chọn file**\n",
    "\n",
    "- Lựa chọn file .ipynb\n",
    "\n",
    "- Trong **2. Yêu cầu đối với tài liệu:** lựa chọn **Tạo slide**\n",
    "\n",
    "- Click vào mũi tên sang bên phải -> **DONE**"
   ]
  }
 ],
 "metadata": {
  "kernelspec": {
   "display_name": "Python 3 (ipykernel)",
   "language": "python",
   "name": "python3"
  },
  "language_info": {
   "codemirror_mode": {
    "name": "ipython",
    "version": 3
   },
   "file_extension": ".py",
   "mimetype": "text/x-python",
   "name": "python",
   "nbconvert_exporter": "python",
   "pygments_lexer": "ipython3",
   "version": "3.13.2"
  }
 },
 "nbformat": 4,
 "nbformat_minor": 5
}
