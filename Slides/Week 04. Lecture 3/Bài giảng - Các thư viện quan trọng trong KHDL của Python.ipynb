{
 "cells": [
  {
   "cell_type": "markdown",
   "id": "6c35c700-8a43-4c3d-816b-bd590813e0b4",
   "metadata": {},
   "source": [
    "# Các thư viện Python được dùng phổ biến trong Khoa học Dữ liệu"
   ]
  },
  {
   "cell_type": "markdown",
   "id": "d4cdef8e-c9ee-4b0a-8c75-dfc198b0e9e0",
   "metadata": {
    "slideshow": {
     "slide_type": "slide"
    }
   },
   "source": [
    "## Thư viện Numpy"
   ]
  },
  {
   "cell_type": "markdown",
   "id": "8947352f-249b-4a06-bd9e-96bd7dc72cfe",
   "metadata": {
    "slideshow": {
     "slide_type": "slide"
    }
   },
   "source": [
    "### Giới thiệu chung về Numpy"
   ]
  },
  {
   "cell_type": "markdown",
   "id": "38d19e18",
   "metadata": {
    "slideshow": {
     "slide_type": "subslide"
    }
   },
   "source": [
    "**🧮 Thư viện NumPy trong Khoa học Dữ liệu**\n",
    "\n",
    "- `NumPy` (viết tắt của *Numerical Python*) là **thư viện nền tảng** cho tính toán số học trong Python.\n",
    "- Nhiều thư viện khoa học dữ liệu khác như `SciPy` và `pandas` sử dụng cấu trúc mảng của `NumPy` làm nền tảng.\n",
    "\n",
    "**🔧 Các tính năng chính của NumPy**\n",
    "\n",
    "- `ndarray`: đối tượng mảng N-chiều hiệu quả, hỗ trợ **phép toán vector hóa** và lan truyền linh hoạt.\n",
    "- Tập hợp các **hàm chuẩn** để thực hiện phép toán trên toàn bộ mảng hoặc từng phần tử, **không cần viết vòng lặp**.\n",
    "- Công cụ để **đọc/ghi dữ liệu mảng**, bao gồm hỗ trợ tệp **ánh xạ bộ nhớ** (*memory-mapped files*).\n",
    "- Cung cấp các công cụ cho:\n",
    "  - **Đại số tuyến tính**\n",
    "  - **Biến đổi Fourier**\n",
    "  - **Sinh số ngẫu nhiên**\n",
    "\n",
    "**📌 Ứng dụng điển hình của NumPy**\n",
    "\n",
    "- **Chuẩn bị dữ liệu**: làm sạch, thao tác, chuẩn hóa, định hình lại, sắp xếp và lọc mảng.\n",
    "- **Phân tích và mô hình hóa dữ liệu**: áp dụng các phép toán, thống kê và hàm tổng hợp cho toàn bộ tập dữ liệu hoặc các tập con cụ thể.\n",
    "- **Mô phỏng**: tạo dữ liệu ngẫu nhiên theo các phân phối đã biết và chạy mô hình mô phỏng.\n",
    "- **Các thuật toán số khác**: xử lý tín hiệu, lọc, và các tác vụ tính toán số hiệu năng cao.\n",
    "\n",
    "**📘 Quy ước sử dụng**\n",
    "\n",
    "- Trong chương này và xuyên suốt cuốn sách, `NumPy` sẽ được nhập khẩu với tên **np**"
   ]
  },
  {
   "cell_type": "code",
   "execution_count": null,
   "id": "8f2f5d1d",
   "metadata": {
    "slideshow": {
     "slide_type": "fragment"
    }
   },
   "outputs": [],
   "source": [
    "import numpy as np"
   ]
  },
  {
   "cell_type": "markdown",
   "id": "ba025bd2",
   "metadata": {
    "slideshow": {
     "slide_type": "subslide"
    }
   },
   "source": [
    "**⚠️ Lưu ý về cách nhập khẩu thư viện NumPy**\n",
    "\n",
    "- Mặc dù cú pháp `from numpy import *` có thể giúp rút ngắn mã nguồn, **cách làm này không được khuyến khích**, vì các lý do sau:\n",
    "\n",
    "  - Không gian tên của `NumPy` rất lớn và chứa nhiều hàm trùng tên với các hàm tích hợp sẵn trong Python, chẳng hạn như `min` và `max`.\n",
    "  - Việc ghi đè các hàm tích hợp này có thể dẫn đến **xung đột tên** và gây ra các lỗi khó phát hiện, đặc biệt trong các dự án lớn hoặc khi làm việc nhóm.\n",
    "\n",
    "- Khi bạn thấy đoạn mã như `np.some_function`, điều này có nghĩa là:ư\n",
    "\n",
    "  - Hàm hoặc đối tượng đó nằm trong **không gian tên cấp cao nhất của thư viện NumPy**.\n",
    "  - Cách gọi này rõ ràng, giúp mã dễ đọc và dễ bảo trì hơn."
   ]
  },
  {
   "cell_type": "markdown",
   "id": "4003319c",
   "metadata": {
    "slideshow": {
     "slide_type": "slide"
    }
   },
   "source": [
    "### Đối tượng ndarray của NumPy\n",
    "\n",
    "Một trong những đặc điểm quan trọng của `NumPy` là đối tượng mảng N-chiều, hay `ndarray`. Đây là một đối tượng đa chiều, nhanh chóng và linh hoạt cho các tập dữ liệu lớn trong Python.\n",
    "\n",
    "Giả sử chúng ta muốn nhân mỗi phần tử trong một chuỗi lớn với 2."
   ]
  },
  {
   "cell_type": "code",
   "execution_count": null,
   "id": "a13c8a7b",
   "metadata": {
    "slideshow": {
     "slide_type": "fragment"
    }
   },
   "outputs": [],
   "source": [
    "my_arr = np.arange(1000000) # Đối tượng mảng của Numpy\n",
    "my_list = list(range(1000000)) # Đối tượng mảng của Python"
   ]
  },
  {
   "cell_type": "markdown",
   "id": "7331bc34",
   "metadata": {
    "slideshow": {
     "slide_type": "fragment"
    }
   },
   "source": [
    "Với **Python list**, chúng ta phải lặp qua danh sách:"
   ]
  },
  {
   "cell_type": "code",
   "execution_count": null,
   "id": "1cd32efd",
   "metadata": {
    "slideshow": {
     "slide_type": "fragment"
    }
   },
   "outputs": [],
   "source": [
    "for _ in range(10): my_list2 = [x * 2 for x in my_list]"
   ]
  },
  {
   "cell_type": "markdown",
   "id": "26b4bcb6",
   "metadata": {
    "slideshow": {
     "slide_type": "fragment"
    }
   },
   "source": [
    "Với **NumPy array**, phép toán được *vector hóa*:"
   ]
  },
  {
   "cell_type": "code",
   "execution_count": null,
   "id": "415d42d6",
   "metadata": {
    "slideshow": {
     "slide_type": "fragment"
    }
   },
   "outputs": [],
   "source": [
    "for _ in range(10): my_arr2 = my_arr * 2"
   ]
  },
  {
   "cell_type": "markdown",
   "id": "dd1f0968-2",
   "metadata": {
    "slideshow": {
     "slide_type": "fragment"
    }
   },
   "source": [
    "Chúng ta có thể đo thời gian thực thi:"
   ]
  },
  {
   "cell_type": "code",
   "execution_count": null,
   "id": "7ca7fa50",
   "metadata": {
    "slideshow": {
     "slide_type": "fragment"
    }
   },
   "outputs": [],
   "source": [
    "import time\n",
    "t0 = time.time()\n",
    "for _ in range(10): my_list2 = [x * 2 for x in my_list]\n",
    "t1 = time.time()\n",
    "print(f\"List comprehension: {t1 - t0:.4f} s\")\n",
    "\n",
    "t0 = time.time()\n",
    "for _ in range(10): my_arr2 = my_arr * 2\n",
    "t1 = time.time()\n",
    "print(f\"NumPy array: {t1 - t0:.4f} s\")"
   ]
  },
  {
   "cell_type": "markdown",
   "id": "93217c57",
   "metadata": {
    "slideshow": {
     "slide_type": "subslide"
    }
   },
   "source": [
    "Một `ndarray` là một đối tượng chứa dữ liệu **đồng nhất** (homogeneous); nghĩa là, tất cả các phần tử của nó phải có cùng một kiểu.\n",
    "\n",
    "Mỗi đối tượng có một phương thức `shape` trả lại giá trị là một `tuple` biểu thị kích thước của mỗi chiều, và phương thức `dtype`, một đối tượng mô tả **kiểu dữ liệu** của mảng:"
   ]
  },
  {
   "cell_type": "code",
   "execution_count": null,
   "id": "28e75fa8",
   "metadata": {
    "slideshow": {
     "slide_type": "fragment"
    }
   },
   "outputs": [],
   "source": [
    "data = np.array([[1.5, -0.1, 3], [0, -3, 6.5]])\n",
    "data"
   ]
  },
  {
   "cell_type": "code",
   "execution_count": null,
   "id": "c16183a9",
   "metadata": {
    "slideshow": {
     "slide_type": "fragment"
    }
   },
   "outputs": [],
   "source": [
    "data.shape"
   ]
  },
  {
   "cell_type": "code",
   "execution_count": null,
   "id": "28d45156",
   "metadata": {
    "slideshow": {
     "slide_type": "fragment"
    }
   },
   "outputs": [],
   "source": [
    "data.dtype"
   ]
  },
  {
   "cell_type": "markdown",
   "id": "0e0d51b1-5d97-4855-a937-5a3297774936",
   "metadata": {
    "slideshow": {
     "slide_type": "slide"
    }
   },
   "source": [
    "#### Tạo một ndarray\n",
    "<hr>"
   ]
  },
  {
   "cell_type": "markdown",
   "id": "f87b9966",
   "metadata": {
    "slideshow": {
     "slide_type": "subslide"
    }
   },
   "source": [
    "Cách dễ nhất để tạo một mảng trong Numpy là sử dụng hàm `np.array`."
   ]
  },
  {
   "cell_type": "code",
   "execution_count": null,
   "id": "d4006066",
   "metadata": {
    "slideshow": {
     "slide_type": "fragment"
    }
   },
   "outputs": [],
   "source": [
    "data1 = [6, 7.5, 8, 0, 1]\n",
    "arr1 = np.array(data1)\n",
    "arr1"
   ]
  },
  {
   "cell_type": "markdown",
   "id": "2807fd5b",
   "metadata": {
    "slideshow": {
     "slide_type": "subslide"
    }
   },
   "source": [
    "Khi khởi tạo mảng bằng các danh sách lồng nhau, Python sẽ chuyển đổi thành mảng nhiều chiều:"
   ]
  },
  {
   "cell_type": "code",
   "execution_count": null,
   "id": "e352bdb0",
   "metadata": {
    "slideshow": {
     "slide_type": "fragment"
    }
   },
   "outputs": [],
   "source": [
    "data2 = [[1, 2, 3, 4], [5, 6, 7, 8]]\n",
    "arr2 = np.array(data2)\n",
    "arr2"
   ]
  },
  {
   "cell_type": "markdown",
   "id": "beaeb73b",
   "metadata": {
    "slideshow": {
     "slide_type": "fragment"
    }
   },
   "source": [
    "Chúng ta có thể xác nhận điều này bằng cách kiểm tra các thuộc tính `ndim` và `shape`:"
   ]
  },
  {
   "cell_type": "code",
   "execution_count": null,
   "id": "45374530",
   "metadata": {
    "slideshow": {
     "slide_type": "fragment"
    }
   },
   "outputs": [],
   "source": [
    "arr2.ndim"
   ]
  },
  {
   "cell_type": "code",
   "execution_count": null,
   "id": "c1c58ede",
   "metadata": {
    "slideshow": {
     "slide_type": "fragment"
    }
   },
   "outputs": [],
   "source": [
    "arr2.shape"
   ]
  },
  {
   "cell_type": "markdown",
   "id": "4a43d3de",
   "metadata": {
    "slideshow": {
     "slide_type": "subslide"
    }
   },
   "source": [
    "Ngoài `np.array`, có một số hàm khác để tạo mảng mới. \n",
    "\n",
    "- `np.zeros` và `np.ones` tạo ra các mảng chỉ có các số 0 hoặc số 1.\n",
    "- `np.empty` tạo ra một mảng mà không khởi tạo các giá trị.\n",
    "- `np.arange` là một phiên bản giống như hàm `range`."
   ]
  },
  {
   "cell_type": "code",
   "execution_count": null,
   "id": "6f1fccce",
   "metadata": {
    "slideshow": {
     "slide_type": "fragment"
    }
   },
   "outputs": [],
   "source": [
    "np.zeros((3, 6))"
   ]
  },
  {
   "cell_type": "code",
   "execution_count": null,
   "id": "374014bc",
   "metadata": {
    "slideshow": {
     "slide_type": "fragment"
    }
   },
   "outputs": [],
   "source": [
    "np.empty((2, 3, 2))"
   ]
  },
  {
   "cell_type": "code",
   "execution_count": null,
   "id": "8bd804f1",
   "metadata": {
    "slideshow": {
     "slide_type": "fragment"
    }
   },
   "outputs": [],
   "source": [
    "np.arange(15)"
   ]
  },
  {
   "cell_type": "markdown",
   "id": "9d3c0e40",
   "metadata": {
    "slideshow": {
     "slide_type": "subslide"
    }
   },
   "source": [
    "**Một số hàm tạo mảng NumPy quan trọng**\n",
    "\n",
    "| Hàm | Mô tả |\n",
    "|---|---|\n",
    "| `array` | Chuyển đổi dữ liệu đầu vào thành một ndarray. |\n",
    "| `asarray` | Chuyển đổi đầu vào thành ndarray, nhưng không sao chép nếu đầu vào đã là một ndarray. |\n",
    "| `arange` | Giống như `range` nhưng trả về một ndarray. |\n",
    "| `ones`, `ones_like` | Tạo mảng chứa toàn số 1. |\n",
    "| `zeros`, `zeros_like` | Tạo mảng chứa toàn số 0. |\n",
    "| `empty`, `empty_like` | Tạo các mảng mới mà không điền bất kỳ giá trị nào. |\n",
    "| `full`, `full_like` | Tạo một mảng với tất cả các giá trị được đặt thành \"giá trị điền\" được chỉ định. |\n",
    "| `eye`, `identity` | Tạo một ma trận đơn vị (identity matrix) vuông N × N. |"
   ]
  },
  {
   "cell_type": "markdown",
   "id": "d890f09e",
   "metadata": {
    "slideshow": {
     "slide_type": "slide"
    }
   },
   "source": [
    "#### Kiểu dữ liệu của ndarray\n",
    "\n",
    "**Kiểu dữ liệu**, hay `dtype`, là một đối tượng đặc biệt chứa thông tin mà `ndarray` cần để diễn giải một khối bộ nhớ là một loại dữ liệu cụ thể."
   ]
  },
  {
   "cell_type": "code",
   "execution_count": null,
   "id": "47472dba",
   "metadata": {
    "slideshow": {
     "slide_type": "fragment"
    }
   },
   "outputs": [],
   "source": [
    "arr1_dtype = np.array([1, 2, 3], dtype=np.float64)\n",
    "arr2_dtype = np.array([1, 2, 3], dtype=np.int32)\n",
    "arr1_dtype.dtype"
   ]
  },
  {
   "cell_type": "code",
   "execution_count": null,
   "id": "77c376e5",
   "metadata": {
    "slideshow": {
     "slide_type": "fragment"
    }
   },
   "outputs": [],
   "source": [
    "arr2_dtype.dtype"
   ]
  },
  {
   "cell_type": "markdown",
   "id": "92a6fedf",
   "metadata": {
    "slideshow": {
     "slide_type": "subslide"
    }
   },
   "source": [
    "**Các kiểu dữ liệu NumPy**\n",
    "\n",
    "| Kiểu | Mã kiểu | Mô tả |\n",
    "|---|---|---|\n",
    "| `int8`, `uint8` | `i1`, `u1` | Số nguyên 8 bit có dấu và không dấu |\n",
    "| `int16`, `uint16` | `i2`, `u2` | Số nguyên 16 bit có dấu và không dấu |\n",
    "| `int32`, `uint32` | `i4`, `u4` | Số nguyên 32 bit có dấu và không dấu |\n",
    "| `int64`, `uint64` | `i8`, `u8` | Số nguyên 64 bit có dấu và không dấu |\n",
    "| `float16` | `f2` | Số thực dấu phẩy động nửa độ chính xác |\n",
    "| `float32` | `f4` hoặc `f` | Số thực dấu phẩy động đơn độ chính xác |\n",
    "| `float64` | `f8` hoặc `d` | Số thực dấu phẩy động độ chính xác kép |\n",
    "| `complex64`, `complex128` | `c8`, `c16` | Số phức |\n",
    "| `bool` | `?` | Kiểu Boolean (`True` và `False`) |\n",
    "| `object` | `O` | Kiểu đối tượng Python |\n",
    "| `string_` | `S` | Kiểu chuỗi ASCII có độ dài cố định |\n",
    "| `unicode_` | `U` | Kiểu Unicode có độ dài cố định |"
   ]
  },
  {
   "cell_type": "markdown",
   "id": "44070872",
   "metadata": {
    "slideshow": {
     "slide_type": "subslide"
    }
   },
   "source": [
    "#### Chuyển đổi kiểu dữ liệu với `astype`\n",
    "\n",
    "Bạn có thể chuyển đổi, hay còn gọi là `cast`, một mảng từ `dtype` này sang `dtype` khác bằng phương thức `astype`.\n",
    "\n",
    "Khi ép kiểu một số số thực dấu phẩy động thành kiểu số nguyên, phần thập phân sẽ bị **cắt bỏ**:"
   ]
  },
  {
   "cell_type": "code",
   "execution_count": null,
   "id": "88fedbe2",
   "metadata": {
    "slideshow": {
     "slide_type": "fragment"
    }
   },
   "outputs": [],
   "source": [
    "arr_fp_to_int = np.array([3.7, -1.2, -2.6, 0.5, 12.9, 10.1])\n",
    "arr_fp_to_int"
   ]
  },
  {
   "cell_type": "code",
   "execution_count": null,
   "id": "b8dbe2a3",
   "metadata": {
    "slideshow": {
     "slide_type": "fragment"
    }
   },
   "outputs": [],
   "source": [
    "arr_fp_to_int.astype(np.int32)"
   ]
  },
  {
   "cell_type": "markdown",
   "id": "99f4c4d2",
   "metadata": {
    "slideshow": {
     "slide_type": "fragment"
    }
   },
   "source": [
    "Nếu bạn có một mảng kiểu chuỗi ký tự nhưng bản chất là biểu diễn các số, bạn có thể sử dụng `astype` để chuyển đổi chúng thành dạng số:"
   ]
  },
  {
   "cell_type": "code",
   "execution_count": null,
   "id": "19afbf75",
   "metadata": {
    "slideshow": {
     "slide_type": "fragment"
    }
   },
   "outputs": [],
   "source": [
    "numeric_strings = np.array([\"1.25\", \"-9.6\", \"42\"], dtype=np.string_)\n",
    "numeric_strings.astype(float) # NumPy sẽ tự động suy ra np.float64"
   ]
  },
  {
   "cell_type": "markdown",
   "id": "ec2e30a7",
   "metadata": {
    "slideshow": {
     "slide_type": "fragment"
    }
   },
   "source": [
    "> **Lưu ý:** Việc gọi `astype` *luôn* tạo ra một mảng mới (một bản sao của dữ liệu), ngay cả khi `dtype` mới giống với `dtype` cũ."
   ]
  },
  {
   "cell_type": "markdown",
   "id": "7b429904",
   "metadata": {
    "slideshow": {
     "slide_type": "slide"
    }
   },
   "source": [
    "### Các phép toán số học với mảng `NumPy`\n",
    "\n",
    "Đối tượng mảng cho phép chúng ta thể hiện các phép toán theo nhóm trên dữ liệu mà không cần viết vòng lặp `for`. `NumPy` gọi tính năng này là **véc-tơ hóa** (vectorization). Bất kỳ phép toán số học nào giữa các mảng có kích thước bằng nhau đều áp dụng phép toán đó theo từng phần tử:"
   ]
  },
  {
   "cell_type": "code",
   "execution_count": null,
   "id": "fe174566",
   "metadata": {
    "slideshow": {
     "slide_type": "fragment"
    }
   },
   "outputs": [],
   "source": [
    "arr_arith = np.array([[1., 2., 3.], [4., 5., 6.]])\n",
    "arr_arith"
   ]
  },
  {
   "cell_type": "code",
   "execution_count": null,
   "id": "bdca420e",
   "metadata": {
    "slideshow": {
     "slide_type": "fragment"
    }
   },
   "outputs": [],
   "source": [
    "arr_arith * arr_arith"
   ]
  },
  {
   "cell_type": "code",
   "execution_count": null,
   "id": "46889326",
   "metadata": {
    "slideshow": {
     "slide_type": "fragment"
    }
   },
   "outputs": [],
   "source": [
    "arr_arith - arr_arith"
   ]
  },
  {
   "cell_type": "markdown",
   "id": "2f5d1fe1",
   "metadata": {
    "slideshow": {
     "slide_type": "subslide"
    }
   },
   "source": [
    "Các phép toán số học với các đại lượng vô hướng (scalar) sẽ truyền giá trị vô hướng đó cho mỗi phần tử trong mảng:"
   ]
  },
  {
   "cell_type": "code",
   "execution_count": null,
   "id": "715fa8d1",
   "metadata": {
    "slideshow": {
     "slide_type": "fragment"
    }
   },
   "outputs": [],
   "source": [
    "1 / arr_arith"
   ]
  },
  {
   "cell_type": "code",
   "execution_count": null,
   "id": "f0477a12",
   "metadata": {
    "slideshow": {
     "slide_type": "fragment"
    }
   },
   "outputs": [],
   "source": [
    "arr_arith ** 2"
   ]
  },
  {
   "cell_type": "markdown",
   "id": "aa0af79b",
   "metadata": {
    "slideshow": {
     "slide_type": "subslide"
    }
   },
   "source": [
    "Các phép so sánh giữa các mảng có cùng kích thước tạo ra một mảng kiểu logical (boolean array)"
   ]
  },
  {
   "cell_type": "code",
   "execution_count": null,
   "id": "55cea4aa",
   "metadata": {
    "slideshow": {
     "slide_type": "fragment"
    }
   },
   "outputs": [],
   "source": [
    "arr2_arith = np.array([[0., 4., 1.], [7., 2., 12.]])\n",
    "arr2_arith"
   ]
  },
  {
   "cell_type": "code",
   "execution_count": null,
   "id": "4abe6725",
   "metadata": {
    "slideshow": {
     "slide_type": "fragment"
    }
   },
   "outputs": [],
   "source": [
    "arr2_arith > arr_arith"
   ]
  },
  {
   "cell_type": "markdown",
   "id": "f7b8389d",
   "metadata": {
    "slideshow": {
     "slide_type": "slide"
    }
   },
   "source": [
    "### Chỉ số trong mảng (Indexing and Slicing)"
   ]
  },
  {
   "cell_type": "markdown",
   "id": "f7b8389d-part2",
   "metadata": {
    "slideshow": {
     "slide_type": "subslide"
    }
   },
   "source": [
    "#### Chỉ số trong mảng một chiều\n",
    "Các mảng một chiều hoạt động tương tự như một `list` trong Python:"
   ]
  },
  {
   "cell_type": "code",
   "execution_count": null,
   "id": "d6c9196e",
   "metadata": {
    "slideshow": {
     "slide_type": "fragment"
    }
   },
   "outputs": [],
   "source": [
    "arr_slice_basic = np.arange(10)\n",
    "arr_slice_basic"
   ]
  },
  {
   "cell_type": "code",
   "execution_count": null,
   "id": "b1969bc7",
   "metadata": {
    "slideshow": {
     "slide_type": "fragment"
    }
   },
   "outputs": [],
   "source": [
    "arr_slice_basic[5]"
   ]
  },
  {
   "cell_type": "code",
   "execution_count": null,
   "id": "7b95b4cb",
   "metadata": {
    "slideshow": {
     "slide_type": "fragment"
    }
   },
   "outputs": [],
   "source": [
    "arr_slice_basic[5:8]"
   ]
  },
  {
   "cell_type": "code",
   "execution_count": null,
   "id": "495f4b9d",
   "metadata": {
    "slideshow": {
     "slide_type": "fragment"
    }
   },
   "outputs": [],
   "source": [
    "arr_slice_basic[5:8] = 12\n",
    "arr_slice_basic"
   ]
  },
  {
   "cell_type": "markdown",
   "id": "9fc8e209",
   "metadata": {
    "slideshow": {
     "slide_type": "subslide"
    }
   },
   "source": [
    "Sự khác biệt quan trọng so với `list`: các lát cắt mảng là các **khung nhìn** (*views*) trên mảng gốc. Điều này có nghĩa là dữ liệu **không được sao chép**, và bất kỳ sửa đổi nào đối với khung nhìn sẽ được phản ánh trong mảng ban đầu."
   ]
  },
  {
   "cell_type": "code",
   "execution_count": null,
   "id": "8b9c74c0",
   "metadata": {
    "slideshow": {
     "slide_type": "fragment"
    }
   },
   "outputs": [],
   "source": [
    "arr_slice_view = arr_slice_basic[5:8]\n",
    "arr_slice_view"
   ]
  },
  {
   "cell_type": "markdown",
   "id": "950e8e22",
   "metadata": {
    "slideshow": {
     "slide_type": "fragment"
    }
   },
   "source": [
    "Khi chúng ta thay đổi các giá trị trong `arr_slice_view`, các thay đổi đó được phản ánh trong mảng gốc `arr_slice_basic`:"
   ]
  },
  {
   "cell_type": "code",
   "execution_count": null,
   "id": "a7fc03e7",
   "metadata": {
    "slideshow": {
     "slide_type": "fragment"
    }
   },
   "outputs": [],
   "source": [
    "arr_slice_view[1] = 12345\n",
    "arr_slice_basic # Giá trị tương ứng với chỉ số 6 sẽ thay đổi"
   ]
  },
  {
   "cell_type": "markdown",
   "id": "1be15b9d",
   "metadata": {
    "slideshow": {
     "slide_type": "subslide"
    }
   },
   "source": [
    "Nếu bạn muốn có một **bản sao** của một lát cắt thay vì một khung nhìn, bạn sẽ cần phải sao chép mảng một cách rõ ràng bằng phương thức `.copy()`."
   ]
  },
  {
   "cell_type": "markdown",
   "id": "1be15b9d-part2",
   "metadata": {
    "slideshow": {
     "slide_type": "subslide"
    }
   },
   "source": [
    "#### Chỉ số trong mảng đa chiều\n",
    "Trong một mảng hai chiều, các phần tử tại mỗi chỉ mục là các mảng một chiều:"
   ]
  },
  {
   "cell_type": "code",
   "execution_count": null,
   "id": "a4a28770",
   "metadata": {
    "slideshow": {
     "slide_type": "fragment"
    }
   },
   "outputs": [],
   "source": [
    "arr2d = np.array([[1, 2, 3], [4, 5, 6], [7, 8, 9]])\n",
    "arr2d[2]"
   ]
  },
  {
   "cell_type": "markdown",
   "id": "0202b784",
   "metadata": {
    "slideshow": {
     "slide_type": "fragment"
    }
   },
   "source": [
    "Các phần tử riêng lẻ có thể được truy cập bằng chỉ số đệ quy `arr2d[0][2]` hoặc cú pháp ngắn gọn `arr2d[0, 2]`:"
   ]
  },
  {
   "cell_type": "code",
   "execution_count": null,
   "id": "24102eff",
   "metadata": {
    "slideshow": {
     "slide_type": "fragment"
    }
   },
   "outputs": [],
   "source": [
    "arr2d[0][2]"
   ]
  },
  {
   "cell_type": "code",
   "execution_count": null,
   "id": "135e3f31",
   "metadata": {
    "slideshow": {
     "slide_type": "fragment"
    }
   },
   "outputs": [],
   "source": [
    "arr2d[0, 2]"
   ]
  },
  {
   "cell_type": "markdown",
   "id": "7fa3b92d",
   "metadata": {
    "slideshow": {
     "slide_type": "subslide"
    }
   },
   "source": [
    "Trong các mảng nhiều chiều, nếu bạn bỏ qua các chỉ số phía sau, đối tượng được trả về sẽ là một `ndarray` có chiều thấp hơn. \n",
    "Ví dụ, mảng 2 × 2 × 3 `arr3d`:"
   ]
  },
  {
   "cell_type": "code",
   "execution_count": null,
   "id": "89306a68",
   "metadata": {
    "slideshow": {
     "slide_type": "fragment"
    }
   },
   "outputs": [],
   "source": [
    "arr3d = np.array([[[1, 2, 3], [4, 5, 6]], [[7, 8, 9], [10, 11, 12]]])\n",
    "arr3d"
   ]
  },
  {
   "cell_type": "markdown",
   "id": "e330329b",
   "metadata": {
    "slideshow": {
     "slide_type": "fragment"
    }
   },
   "source": [
    "`arr3d[0]` sẽ là một mảng 2 × 3:"
   ]
  },
  {
   "cell_type": "code",
   "execution_count": null,
   "id": "a99ca909",
   "metadata": {
    "slideshow": {
     "slide_type": "fragment"
    }
   },
   "outputs": [],
   "source": [
    "arr3d[0]"
   ]
  },
  {
   "cell_type": "markdown",
   "id": "ce4ca99c",
   "metadata": {
    "slideshow": {
     "slide_type": "fragment"
    }
   },
   "source": [
    "Tương tự, `arr3d[1, 0]` cung cấp tất cả các giá trị có chỉ mục bắt đầu bằng `(1, 0)`, tạo thành một mảng một chiều:"
   ]
  },
  {
   "cell_type": "code",
   "execution_count": null,
   "id": "e474f503",
   "metadata": {
    "slideshow": {
     "slide_type": "fragment"
    }
   },
   "outputs": [],
   "source": [
    "arr3d[1, 0]"
   ]
  },
  {
   "cell_type": "markdown",
   "id": "31dabe2c-c5ef-42d3-9d6f-4390c4193b28",
   "metadata": {
    "slideshow": {
     "slide_type": "subslide"
    }
   },
   "source": [
    "#### Sử dụng lát cắt trên mảng\n",
    "<hr>"
   ]
  },
  {
   "cell_type": "code",
   "execution_count": null,
   "id": "d8c3c851",
   "metadata": {
    "slideshow": {
     "slide_type": "fragment"
    }
   },
   "outputs": [],
   "source": [
    "arr2d = np.array([[1, 2, 3], [4, 5, 6], [7, 8, 9]])\n",
    "arr2d"
   ]
  },
  {
   "cell_type": "code",
   "execution_count": null,
   "id": "b70db5b9",
   "metadata": {
    "slideshow": {
     "slide_type": "fragment"
    }
   },
   "outputs": [],
   "source": [
    "arr2d[:2]"
   ]
  },
  {
   "cell_type": "code",
   "execution_count": null,
   "id": "2bcc5c09",
   "metadata": {
    "slideshow": {
     "slide_type": "fragment"
    }
   },
   "outputs": [],
   "source": [
    "arr2d[:2, 1:]"
   ]
  },
  {
   "cell_type": "markdown",
   "id": "938e713f",
   "metadata": {
    "slideshow": {
     "slide_type": "subslide"
    }
   },
   "source": [
    "Bằng cách sử dụng đồng thời các chỉ mục số nguyên và lát cắt, bạn có thể nhận được các lát cắt có chiều thấp hơn.\n",
    "\n",
    "Ví dụ, chọn hàng thứ hai nhưng chỉ hai cột đầu tiên:"
   ]
  },
  {
   "cell_type": "code",
   "execution_count": null,
   "id": "f41dfb98",
   "metadata": {
    "slideshow": {
     "slide_type": "fragment"
    }
   },
   "outputs": [],
   "source": [
    "arr2d[1, :2]"
   ]
  },
  {
   "cell_type": "markdown",
   "id": "618e00a9",
   "metadata": {
    "slideshow": {
     "slide_type": "fragment"
    }
   },
   "source": [
    "Chọn cột thứ ba nhưng chỉ hai hàng đầu tiên:"
   ]
  },
  {
   "cell_type": "code",
   "execution_count": null,
   "id": "10420fb4",
   "metadata": {
    "slideshow": {
     "slide_type": "fragment"
    }
   },
   "outputs": [],
   "source": [
    "arr2d[:2, 2]"
   ]
  },
  {
   "cell_type": "markdown",
   "id": "9ddc6f55",
   "metadata": {
    "slideshow": {
     "slide_type": "fragment"
    }
   },
   "source": [
    "Dấu hai chấm (`:`) đứng một mình có nghĩa là lấy toàn bộ trục:"
   ]
  },
  {
   "cell_type": "code",
   "execution_count": null,
   "id": "d352fcfb",
   "metadata": {
    "slideshow": {
     "slide_type": "fragment"
    }
   },
   "outputs": [],
   "source": [
    "arr2d[:, :1]"
   ]
  },
  {
   "cell_type": "markdown",
   "id": "73dfaeac",
   "metadata": {
    "slideshow": {
     "slide_type": "slide"
    }
   },
   "source": [
    "#### Sử dụng chỉ số kiểu logical (Boolean Indexing)\n",
    "Giả sử mỗi tên trong mảng `names` tương ứng với một hàng trong mảng `data`."
   ]
  },
  {
   "cell_type": "code",
   "execution_count": null,
   "id": "6829b164",
   "metadata": {
    "slideshow": {
     "slide_type": "fragment"
    }
   },
   "outputs": [],
   "source": [
    "names = np.array([\"Bob\", \"Joe\", \"Will\", \"Bob\", \"Will\", \"Joe\", \"Joe\"])\n",
    "data_bool = np.array([[4, 7], [0, 2], [-5, 6], [0, 0], [1, 2], [-12, -4], [3, 4]])\n",
    "data_bool"
   ]
  },
  {
   "cell_type": "markdown",
   "id": "c3688d65",
   "metadata": {
    "slideshow": {
     "slide_type": "subslide"
    }
   },
   "source": [
    "Chúng ta muốn chọn tất cả các hàng có tên tương ứng là `'Bob'`. Phép so sánh `names == 'Bob'` tạo ra một mảng kiểu logical:"
   ]
  },
  {
   "cell_type": "code",
   "execution_count": null,
   "id": "cb52e1c9",
   "metadata": {
    "slideshow": {
     "slide_type": "fragment"
    }
   },
   "outputs": [],
   "source": [
    "names == \"Bob\""
   ]
  },
  {
   "cell_type": "markdown",
   "id": "78232a39",
   "metadata": {
    "slideshow": {
     "slide_type": "fragment"
    }
   },
   "source": [
    "Mảng logical này có thể được sử dụng như chỉ số để lấy ra một mảng con:"
   ]
  },
  {
   "cell_type": "code",
   "execution_count": null,
   "id": "273306b8",
   "metadata": {
    "slideshow": {
     "slide_type": "fragment"
    }
   },
   "outputs": [],
   "source": [
    "data_bool[names == \"Bob\"]"
   ]
  },
  {
   "cell_type": "markdown",
   "id": "5a0d8004",
   "metadata": {
    "slideshow": {
     "slide_type": "subslide"
    }
   },
   "source": [
    "> **Chú ý:**\n",
    "> - Chỉ số kiểu logical *luôn* tạo ra một bản sao của dữ liệu.\n",
    "> - Từ khóa `and` và `or` của Python không hoạt động với các mảng kiểu logical. Thay vào đó, hãy sử dụng `&` (và) và `|` (hoặc).\n",
    "\n",
    "Ví dụ, chọn các hàng mà `names == \"Bob\"` đồng thời lấy chỉ số cột theo kiểu cắt lát:"
   ]
  },
  {
   "cell_type": "code",
   "execution_count": null,
   "id": "6bebd78f",
   "metadata": {
    "slideshow": {
     "slide_type": "fragment"
    }
   },
   "outputs": [],
   "source": [
    "data_bool[names == \"Bob\", 1:]"
   ]
  },
  {
   "cell_type": "markdown",
   "id": "951913c9",
   "metadata": {
    "slideshow": {
     "slide_type": "subslide"
    }
   },
   "source": [
    "Để chọn mọi tên ngoại trừ `'Bob'`, bạn có thể sử dụng `!=` hoặc phủ định điều kiện bằng `~`:"
   ]
  },
  {
   "cell_type": "code",
   "execution_count": null,
   "id": "66501d01",
   "metadata": {
    "slideshow": {
     "slide_type": "fragment"
    }
   },
   "outputs": [],
   "source": [
    "data_bool[~(names == \"Bob\")]"
   ]
  },
  {
   "cell_type": "markdown",
   "id": "0d47ae99",
   "metadata": {
    "slideshow": {
     "slide_type": "fragment"
    }
   },
   "source": [
    "Để kết hợp các điều kiện logical, sử dụng `&` và `|`. Ví dụ, chọn tên hàng là `Bob` hoặc `Will`:"
   ]
  },
  {
   "cell_type": "code",
   "execution_count": null,
   "id": "650173a3",
   "metadata": {
    "slideshow": {
     "slide_type": "fragment"
    }
   },
   "outputs": [],
   "source": [
    "mask = (names == \"Bob\") | (names == \"Will\")\n",
    "mask"
   ]
  },
  {
   "cell_type": "code",
   "execution_count": null,
   "id": "f8bdbd39",
   "metadata": {
    "slideshow": {
     "slide_type": "fragment"
    }
   },
   "outputs": [],
   "source": [
    "data_bool[mask]"
   ]
  },
  {
   "cell_type": "markdown",
   "id": "bdacb495",
   "metadata": {
    "slideshow": {
     "slide_type": "subslide"
    }
   },
   "source": [
    "Việc thay thế giá trị trong mảng sử dụng chỉ số kiểu logical cũng rất đơn giản. Ví dụ, để đặt tất cả các giá trị âm trong `data_bool` thành 0:"
   ]
  },
  {
   "cell_type": "code",
   "execution_count": null,
   "id": "9a641cb6",
   "metadata": {
    "slideshow": {
     "slide_type": "fragment"
    }
   },
   "outputs": [],
   "source": [
    "data_bool_copy = data_bool.copy()\n",
    "data_bool_copy[data_bool_copy < 0] = 0\n",
    "data_bool_copy"
   ]
  },
  {
   "cell_type": "markdown",
   "id": "70aa7d2b-bb84-4d78-9e35-33ed9b488b04",
   "metadata": {
    "slideshow": {
     "slide_type": "slide"
    }
   },
   "source": [
    "### Chỉ số mảng nâng cao (Fancy Indexing)\n",
    "*Kỹ thuật chỉ số nâng cao* là một thuật ngữ của NumPy để mô tả việc tạo chỉ số bằng các **mảng số nguyên**."
   ]
  },
  {
   "cell_type": "code",
   "execution_count": null,
   "id": "0b94ce14",
   "metadata": {
    "slideshow": {
     "slide_type": "subslide"
    }
   },
   "outputs": [],
   "source": [
    "arr_fancy = np.zeros((8, 4))\n",
    "for i in range(8):\n",
    "    arr_fancy[i] = i\n",
    "arr_fancy"
   ]
  },
  {
   "cell_type": "markdown",
   "id": "f02667e4",
   "metadata": {
    "slideshow": {
     "slide_type": "fragment"
    }
   },
   "source": [
    "Để chọn một tập con các hàng theo một thứ tự cụ thể, ta có thể truyền một danh sách các chỉ số:"
   ]
  },
  {
   "cell_type": "code",
   "execution_count": null,
   "id": "837d03e0",
   "metadata": {
    "slideshow": {
     "slide_type": "fragment"
    }
   },
   "outputs": [],
   "source": [
    "arr_fancy[[4, 3, 0, 6]]"
   ]
  },
  {
   "cell_type": "markdown",
   "id": "43cd9962",
   "metadata": {
    "slideshow": {
     "slide_type": "subslide"
    }
   },
   "source": [
    "Khi chúng ta sử dụng chỉ số là mảng nhiều chiều, kết quả trả lại sẽ là một mảng **một chiều** các phần tử tương ứng với mỗi cặp chỉ số."
   ]
  },
  {
   "cell_type": "code",
   "execution_count": null,
   "id": "0fbdf032",
   "metadata": {
    "slideshow": {
     "slide_type": "fragment"
    }
   },
   "outputs": [],
   "source": [
    "arr_fancy_reshape = np.arange(32).reshape((8, 4))\n",
    "arr_fancy_reshape"
   ]
  },
  {
   "cell_type": "code",
   "execution_count": null,
   "id": "8ada7416",
   "metadata": {
    "slideshow": {
     "slide_type": "fragment"
    }
   },
   "outputs": [],
   "source": [
    "# Lấy các phần tử tại (1,0), (5,3), (7,1), và (2,2)\n",
    "arr_fancy_reshape[[1, 5, 7, 2], [0, 3, 1, 2]]"
   ]
  },
  {
   "cell_type": "markdown",
   "id": "e78112eb",
   "metadata": {
    "slideshow": {
     "slide_type": "fragment"
    }
   },
   "source": [
    "Kết quả của chỉ số nâng cao luôn là một **bản sao** của dữ liệu."
   ]
  },
  {
   "cell_type": "markdown",
   "id": "ca8593b0",
   "metadata": {
    "slideshow": {
     "slide_type": "subslide"
    }
   },
   "source": [
    "Để chọn một vùng hình chữ nhật từ một mảng, bạn có thể sử dụng `np.ix_`. Hàm này chuyển đổi hai mảng số nguyên một chiều thành một kiểu chỉ số đặc biệt:"
   ]
  },
  {
   "cell_type": "code",
   "execution_count": null,
   "id": "29df5345",
   "metadata": {
    "slideshow": {
     "slide_type": "fragment"
    }
   },
   "outputs": [],
   "source": [
    "arr_fancy_ix = np.arange(32).reshape((8, 4))\n",
    "arr_fancy_ix[np.ix_([1, 5, 7, 2], [0, 3, 1, 2])]"
   ]
  },
  {
   "cell_type": "markdown",
   "id": "7717d52d-3364-46ff-8e76-04b3e007d86f",
   "metadata": {
    "slideshow": {
     "slide_type": "slide"
    }
   },
   "source": [
    "### Chuyển vị mảng và hoán đổi thứ tự trục\n",
    "<hr>\n",
    "Chuyển vị là một dạng đặc biệt của việc định hình lại (reshaping), trả về một **khung nhìn** của dữ liệu ban đầu. Các mảng có thuộc tính `T` và phương thức `transpose`:"
   ]
  },
  {
   "cell_type": "code",
   "execution_count": null,
   "id": "fb149002",
   "metadata": {
    "slideshow": {
     "slide_type": "fragment"
    }
   },
   "outputs": [],
   "source": [
    "arr_T = np.arange(15).reshape((3, 5))\n",
    "arr_T"
   ]
  },
  {
   "cell_type": "code",
   "execution_count": null,
   "id": "96954584",
   "metadata": {
    "slideshow": {
     "slide_type": "fragment"
    }
   },
   "outputs": [],
   "source": [
    "arr_T.T"
   ]
  },
  {
   "cell_type": "markdown",
   "id": "3bc67002",
   "metadata": {
    "slideshow": {
     "slide_type": "subslide"
    }
   },
   "source": [
    "Phép nhân ma trận trong Numpy được thực hiện bằng hàm `np.dot`:"
   ]
  },
  {
   "cell_type": "code",
   "execution_count": null,
   "id": "a85a3ccc",
   "metadata": {
    "slideshow": {
     "slide_type": "fragment"
    }
   },
   "outputs": [],
   "source": [
    "arr_dot_T = np.array([[0, 1, 0], [1, 2, -2], [6, 3, 2], [-1, 0, -1], [1, 0, 1]])\n",
    "arr_dot_T"
   ]
  },
  {
   "cell_type": "code",
   "execution_count": null,
   "id": "093f5b28",
   "metadata": {
    "slideshow": {
     "slide_type": "fragment"
    }
   },
   "outputs": [],
   "source": [
    "np.dot(arr_dot_T.T, arr_dot_T)"
   ]
  },
  {
   "cell_type": "markdown",
   "id": "40356040",
   "metadata": {
    "slideshow": {
     "slide_type": "subslide"
    }
   },
   "source": [
    "Phương thức `transpose` được dùng tổng quát hơn để hoán vị các trục. `swapaxes` nhận một cặp số trục và chuyển đổi chúng."
   ]
  },
  {
   "cell_type": "code",
   "execution_count": null,
   "id": "b0194324",
   "metadata": {
    "slideshow": {
     "slide_type": "fragment"
    }
   },
   "outputs": [],
   "source": [
    "arr_transpose_axes = np.arange(16).reshape((2, 2, 4))\n",
    "arr_transpose_axes"
   ]
  },
  {
   "cell_type": "code",
   "execution_count": null,
   "id": "58544e1f",
   "metadata": {
    "slideshow": {
     "slide_type": "fragment"
    }
   },
   "outputs": [],
   "source": [
    "arr_transpose_axes.transpose((1, 0, 2)) # Hoán đổi trục 0 và trục 1"
   ]
  },
  {
   "cell_type": "code",
   "execution_count": null,
   "id": "5263908e",
   "metadata": {
    "slideshow": {
     "slide_type": "fragment"
    }
   },
   "outputs": [],
   "source": [
    "arr_transpose_axes.swapaxes(0, 1)"
   ]
  },
  {
   "cell_type": "markdown",
   "id": "c4a03e4a",
   "metadata": {
    "slideshow": {
     "slide_type": "slide"
    }
   },
   "source": [
    "### Hàm xử lý trên từng phần tử trong mảng (UFuncs)\n",
    "\n",
    "**Universal functions**, hay *ufunc*, là các hàm thực hiện các phép toán theo từng phần tử trên dữ liệu trong `ndarray`."
   ]
  },
  {
   "cell_type": "markdown",
   "id": "04dda200",
   "metadata": {
    "slideshow": {
     "slide_type": "subslide"
    }
   },
   "source": [
    "**Unary ufuncs** chỉ thực hiện tính toán trên từng phần tử của một mảng."
   ]
  },
  {
   "cell_type": "code",
   "execution_count": null,
   "id": "071e1955",
   "metadata": {
    "slideshow": {
     "slide_type": "fragment"
    }
   },
   "outputs": [],
   "source": [
    "arr_ufunc = np.arange(10)\n",
    "arr_ufunc"
   ]
  },
  {
   "cell_type": "code",
   "execution_count": null,
   "id": "12116117",
   "metadata": {
    "slideshow": {
     "slide_type": "fragment"
    }
   },
   "outputs": [],
   "source": [
    "np.sqrt(arr_ufunc)"
   ]
  },
  {
   "cell_type": "code",
   "execution_count": null,
   "id": "0ea0455a",
   "metadata": {
    "slideshow": {
     "slide_type": "fragment"
    }
   },
   "outputs": [],
   "source": [
    "np.exp(arr_ufunc)"
   ]
  },
  {
   "cell_type": "markdown",
   "id": "04dda200-part2",
   "metadata": {
    "slideshow": {
     "slide_type": "subslide"
    }
   },
   "source": [
    "**Binary ufuncs** nhận hai mảng và trả về một mảng duy nhất."
   ]
  },
  {
   "cell_type": "code",
   "execution_count": null,
   "id": "bfe3bbe4",
   "metadata": {
    "slideshow": {
     "slide_type": "fragment"
    }
   },
   "outputs": [],
   "source": [
    "x_ufunc = np.random.standard_normal(8)\n",
    "y_ufunc = np.random.standard_normal(8)\n",
    "x_ufunc"
   ]
  },
  {
   "cell_type": "code",
   "execution_count": null,
   "id": "21f25f96",
   "metadata": {
    "slideshow": {
     "slide_type": "fragment"
    }
   },
   "outputs": [],
   "source": [
    "np.maximum(x_ufunc, y_ufunc)"
   ]
  },
  {
   "cell_type": "markdown",
   "id": "e55d18b6",
   "metadata": {
    "slideshow": {
     "slide_type": "subslide"
    }
   },
   "source": [
    "Một ufunc có thể trả về nhiều mảng. Ví dụ `np.modf` trả về phần thập phân và phần nguyên của một mảng:"
   ]
  },
  {
   "cell_type": "code",
   "execution_count": null,
   "id": "5b11bdf5",
   "metadata": {
    "slideshow": {
     "slide_type": "fragment"
    }
   },
   "outputs": [],
   "source": [
    "arr_modf = np.random.standard_normal(7) * 5\n",
    "arr_modf"
   ]
  },
  {
   "cell_type": "code",
   "execution_count": null,
   "id": "b92710cb",
   "metadata": {
    "slideshow": {
     "slide_type": "fragment"
    }
   },
   "outputs": [],
   "source": [
    "np.modf(arr_modf)"
   ]
  },
  {
   "cell_type": "markdown",
   "id": "4e0c0cc8",
   "metadata": {
    "slideshow": {
     "slide_type": "slide"
    }
   },
   "source": [
    "**Một số unary ufunc**\n",
    "\n",
    "| Hàm | Mô tả |\n",
    "|---|---|\n",
    "| `abs`, `fabs` | Tính giá trị tuyệt đối. |\n",
    "| `sqrt` | Tính căn bậc hai (`arr ** 0.5`). |\n",
    "| `square` | Tính bình phương (`arr ** 2`). |\n",
    "| `exp` | Tính lũy thừa e^x. |\n",
    "| `log`, `log10`, `log2`, `log1p` | Logarit tự nhiên, cơ số 10, cơ số 2, và log(1 + x). |\n",
    "| `sign` | Tính dấu của mỗi phần tử: 1 (dương), 0 (zero), hoặc –1 (âm). |\n",
    "| `ceil`, `floor` | Tính trần và sàn. |\n",
    "| `rint` | Làm tròn đến số nguyên gần nhất. |\n",
    "| `modf` | Trả về phần phân số và phần nguyên. |\n",
    "| `isnan`, `isfinite`, `isinf` | Trả về mảng boolean. |\n",
    "| `cos`, `sin`, `tan`... | Các hàm lượng giác. |"
   ]
  },
  {
   "cell_type": "markdown",
   "id": "4e0c0cc8-part2",
   "metadata": {
    "slideshow": {
     "slide_type": "subslide"
    }
   },
   "source": [
    "**Một số binary ufunc**\n",
    "\n",
    "| Hàm | Mô tả |\n",
    "|---|---|\n",
    "| `add`, `subtract`, `multiply`, `divide` | Các phép toán số học cơ bản. |\n",
    "| `power` | Nâng lũy thừa. |\n",
    "| `maximum`, `minimum` | Tối đa/tối thiểu theo từng phần tử. |\n",
    "| `mod` | Phần dư. |\n",
    "| `greater`, `less`, `equal`... | Các phép so sánh, trả về mảng boolean. |\n",
    "| `logical_and`, `logical_or`, `logical_xor` | Các phép toán logic (`&`, `|`, `^`). |"
   ]
  },
  {
   "cell_type": "markdown",
   "id": "d96faf18-9dbd-4871-abf0-190c5a3076ae",
   "metadata": {
    "slideshow": {
     "slide_type": "slide"
    }
   },
   "source": [
    "### Xử lý dữ liệu dựa trên mảng Numpy\n",
    "Việc sử dụng mảng NumPy cho phép biểu diễn nhiều tác vụ xử lý dữ liệu dưới dạng các biểu thức mảng ngắn gọn và hiệu quả (kỹ thuật **vectorization**)."
   ]
  },
  {
   "cell_type": "markdown",
   "id": "4067dc76",
   "metadata": {
    "slideshow": {
     "slide_type": "subslide"
    }
   },
   "source": [
    "Ví dụ: đánh giá biểu thức hàm số $f(x, y) = \\sqrt{x^2 + y^2}$ trên một lưới điểm.\n",
    "\n",
    "Hàm `np.meshgrid` nhận vào hai mảng một chiều và tạo ra hai mảng hai chiều (ma trận tọa độ) biểu diễn toàn bộ các cặp giá trị \\((x, y)\\)."
   ]
  },
  {
   "cell_type": "code",
   "execution_count": null,
   "id": "2d494fdd",
   "metadata": {
    "slideshow": {
     "slide_type": "fragment"
    }
   },
   "outputs": [],
   "source": [
    "points = np.arange(-5, 5, 0.01) # 1000 điểm cách đều nhau\n",
    "xs, ys = np.meshgrid(points, points)\n",
    "ys"
   ]
  },
  {
   "cell_type": "markdown",
   "id": "701d40b1",
   "metadata": {
    "slideshow": {
     "slide_type": "fragment"
    }
   },
   "source": [
    "Việc đánh giá hàm trở nên rất đơn giản:"
   ]
  },
  {
   "cell_type": "code",
   "execution_count": null,
   "id": "897be899",
   "metadata": {
    "slideshow": {
     "slide_type": "fragment"
    }
   },
   "outputs": [],
   "source": [
    "z = np.sqrt(xs ** 2 + ys ** 2)\n",
    "z"
   ]
  },
  {
   "cell_type": "markdown",
   "id": "122d3f17-14e4-4830-848b-0391aeb1036e",
   "metadata": {
    "slideshow": {
     "slide_type": "slide"
    }
   },
   "source": [
    "### Biểu thức điều kiện với `np.where`\n",
    "<hr>\n",
    "Hàm `numpy.where` là một phiên bản vector hóa của biểu thức `x if condition else y`."
   ]
  },
  {
   "cell_type": "code",
   "execution_count": null,
   "id": "0b8ebc0c",
   "metadata": {
    "slideshow": {
     "slide_type": "fragment"
    }
   },
   "outputs": [],
   "source": [
    "xarr = np.array([1.1, 1.2, 1.3, 1.4, 1.5])\n",
    "yarr = np.array([2.1, 2.2, 2.3, 2.4, 2.5])\n",
    "cond_where = np.array([True, False, True, True, False])"
   ]
  },
  {
   "cell_type": "markdown",
   "id": "b1fe5936",
   "metadata": {
    "slideshow": {
     "slide_type": "fragment"
    }
   },
   "source": [
    "Cách thông thường sẽ cần vòng lặp, nhưng với `np.where` thì không:"
   ]
  },
  {
   "cell_type": "code",
   "execution_count": null,
   "id": "1ff08250",
   "metadata": {
    "slideshow": {
     "slide_type": "fragment"
    }
   },
   "outputs": [],
   "source": [
    "result_where = np.where(cond_where, xarr, yarr)\n",
    "result_where"
   ]
  },
  {
   "cell_type": "markdown",
   "id": "e725b48e",
   "metadata": {
    "slideshow": {
     "slide_type": "subslide"
    }
   },
   "source": [
    "Một công dụng điển hình của `where` là tạo ra một mảng mới dựa trên một mảng khác. \n",
    "\n",
    "Ví dụ: thay thế tất cả các giá trị dương bằng 2 và tất cả các giá trị âm bằng –2."
   ]
  },
  {
   "cell_type": "code",
   "execution_count": null,
   "id": "799cfab2",
   "metadata": {
    "slideshow": {
     "slide_type": "fragment"
    }
   },
   "outputs": [],
   "source": [
    "arr_rand_where = np.random.standard_normal((4, 4))\n",
    "arr_rand_where"
   ]
  },
  {
   "cell_type": "code",
   "execution_count": null,
   "id": "c8ba758d",
   "metadata": {
    "slideshow": {
     "slide_type": "fragment"
    }
   },
   "outputs": [],
   "source": [
    "np.where(arr_rand_where > 0, 2, -2)"
   ]
  },
  {
   "cell_type": "markdown",
   "id": "26f68c02-e2b0-4636-98b0-68a36e8057e1",
   "metadata": {
    "slideshow": {
     "slide_type": "slide"
    }
   },
   "source": [
    "### Các phương thức thống kê toán học\n",
    "Các phép toán tổng hợp (reductions) có thể được truy cập dưới dạng phương thức của đối tượng mảng hoặc các hàm cấp cao của NumPy."
   ]
  },
  {
   "cell_type": "code",
   "execution_count": null,
   "id": "d04f0409",
   "metadata": {
    "slideshow": {
     "slide_type": "fragment"
    }
   },
   "outputs": [],
   "source": [
    "arr_stats = np.random.standard_normal((5, 4))\n",
    "arr_stats"
   ]
  },
  {
   "cell_type": "code",
   "execution_count": null,
   "id": "6b0f74c7",
   "metadata": {
    "slideshow": {
     "slide_type": "fragment"
    }
   },
   "outputs": [],
   "source": [
    "arr_stats.mean()"
   ]
  },
  {
   "cell_type": "code",
   "execution_count": null,
   "id": "75adf242",
   "metadata": {
    "slideshow": {
     "slide_type": "fragment"
    }
   },
   "outputs": [],
   "source": [
    "np.mean(arr_stats)"
   ]
  },
  {
   "cell_type": "code",
   "execution_count": null,
   "id": "48641659",
   "metadata": {
    "slideshow": {
     "slide_type": "fragment"
    }
   },
   "outputs": [],
   "source": [
    "arr_stats.sum()"
   ]
  },
  {
   "cell_type": "markdown",
   "id": "d1ced28c",
   "metadata": {
    "slideshow": {
     "slide_type": "subslide"
    }
   },
   "source": [
    "Các hàm `mean` và `sum` có tham số `axis` tùy chọn để tính toán thống kê trên trục được chỉ định.\n",
    "- `axis=0`: tính toán trên các hàng (thu gọn cột).\n",
    "- `axis=1`: tính toán trên các cột (thu gọn hàng)."
   ]
  },
  {
   "cell_type": "code",
   "execution_count": null,
   "id": "e64398cc",
   "metadata": {
    "slideshow": {
     "slide_type": "fragment"
    }
   },
   "outputs": [],
   "source": [
    "arr_stats.mean(axis=1) # Trung bình của từng hàng"
   ]
  },
  {
   "cell_type": "code",
   "execution_count": null,
   "id": "f1891c50",
   "metadata": {
    "slideshow": {
     "slide_type": "fragment"
    }
   },
   "outputs": [],
   "source": [
    "arr_stats.sum(axis=0) # Tổng của từng cột"
   ]
  },
  {
   "cell_type": "markdown",
   "id": "c92a9263",
   "metadata": {
    "slideshow": {
     "slide_type": "subslide"
    }
   },
   "source": [
    "Các phương thức khác như `cumsum` (tổng tích lũy) và `cumprod` (tích tích lũy) không tổng hợp, mà tạo ra một mảng các kết quả trung gian:"
   ]
  },
  {
   "cell_type": "code",
   "execution_count": null,
   "id": "6632c9bd",
   "metadata": {
    "slideshow": {
     "slide_type": "fragment"
    }
   },
   "outputs": [],
   "source": [
    "arr_cumsum_2d = np.array([[0, 1, 2], [3, 4, 5], [6, 7, 8]])\n",
    "arr_cumsum_2d"
   ]
  },
  {
   "cell_type": "code",
   "execution_count": null,
   "id": "5ce4e5fa",
   "metadata": {
    "slideshow": {
     "slide_type": "fragment"
    }
   },
   "outputs": [],
   "source": [
    "arr_cumsum_2d.cumsum(axis=0)"
   ]
  },
  {
   "cell_type": "code",
   "execution_count": null,
   "id": "fdfe05ea",
   "metadata": {
    "slideshow": {
     "slide_type": "fragment"
    }
   },
   "outputs": [],
   "source": [
    "arr_cumsum_2d.cumsum(axis=1)"
   ]
  },
  {
   "cell_type": "markdown",
   "id": "3c3d733a",
   "metadata": {
    "slideshow": {
     "slide_type": "slide"
    }
   },
   "source": [
    "**Các phương thức thống kê mảng cơ bản**\n",
    "\n",
    "| Phương thức | Mô tả |\n",
    "|---|---|\n",
    "| `sum` | Tổng của tất cả các phần tử. |\n",
    "| `mean` | Trung bình số học. |\n",
    "| `std`, `var` | Độ lệch chuẩn và phương sai. |\n",
    "| `min`, `max` | Giá trị tối thiểu và tối đa. |\n",
    "| `argmin`, `argmax` | Chỉ mục của các phần tử tối thiểu và tối đa. |\n",
    "| `cumsum` | Tổng tích lũy của các phần tử. |\n",
    "| `cumprod` | Tích tích lũy của các phần tử. |"
   ]
  },
  {
   "cell_type": "markdown",
   "id": "4d056c6e",
   "metadata": {
    "slideshow": {
     "slide_type": "subslide"
    }
   },
   "source": [
    "### Các phương thức cho mảng kiểu logical\n",
    "Giá trị kiểu logical được biến đổi thành 1 (`True`) và 0 (`False`). Do đó, `sum` thường được dùng để đếm các giá trị `True`:"
   ]
  },
  {
   "cell_type": "code",
   "execution_count": null,
   "id": "4af58b96",
   "metadata": {
    "slideshow": {
     "slide_type": "fragment"
    }
   },
   "outputs": [],
   "source": [
    "arr_bool_sum = np.random.standard_normal(100)\n",
    "(arr_bool_sum > 0).sum() # Số lượng các giá trị dương"
   ]
  },
  {
   "cell_type": "markdown",
   "id": "e44e12fe",
   "metadata": {
    "slideshow": {
     "slide_type": "fragment"
    }
   },
   "source": [
    "Hai phương thức `any` và `all` đặc biệt hữu ích cho các mảng kiểu logical.\n",
    "- `any` kiểm tra xem có ít nhất một giá trị `True` hay không.\n",
    "- `all` kiểm tra xem mọi giá trị có phải là `True` hay không:"
   ]
  },
  {
   "cell_type": "code",
   "execution_count": null,
   "id": "42cf46ba",
   "metadata": {
    "slideshow": {
     "slide_type": "fragment"
    }
   },
   "outputs": [],
   "source": [
    "bools = np.array([False, False, True, False])\n",
    "bools.any()"
   ]
  },
  {
   "cell_type": "code",
   "execution_count": null,
   "id": "341f7348",
   "metadata": {
    "slideshow": {
     "slide_type": "fragment"
    }
   },
   "outputs": [],
   "source": [
    "bools.all()"
   ]
  },
  {
   "cell_type": "markdown",
   "id": "ff042298-fc1f-4697-bce7-fdf3fb7667bd",
   "metadata": {
    "slideshow": {
     "slide_type": "slide"
    }
   },
   "source": [
    "### Sắp xếp giá trị trong mảng Numpy\n",
    "<hr>\n",
    "Mảng Numpy có thể được sắp xếp **tại chỗ** (in-place) bằng phương thức `.sort()`."
   ]
  },
  {
   "cell_type": "code",
   "execution_count": null,
   "id": "45f36a33",
   "metadata": {
    "slideshow": {
     "slide_type": "fragment"
    }
   },
   "outputs": [],
   "source": [
    "arr_sort = np.random.standard_normal(6)\n",
    "arr_sort"
   ]
  },
  {
   "cell_type": "code",
   "execution_count": null,
   "id": "21b617fc",
   "metadata": {
    "slideshow": {
     "slide_type": "fragment"
    }
   },
   "outputs": [],
   "source": [
    "arr_sort.sort()\n",
    "arr_sort"
   ]
  },
  {
   "cell_type": "markdown",
   "id": "7179a36a",
   "metadata": {
    "slideshow": {
     "slide_type": "subslide"
    }
   },
   "source": [
    "Bạn có thể sắp xếp mỗi thành phần của mảng nhiều chiều dọc theo một trục bằng cách truyền số trục cho `sort`:"
   ]
  },
  {
   "cell_type": "code",
   "execution_count": null,
   "id": "0279d083",
   "metadata": {
    "slideshow": {
     "slide_type": "fragment"
    }
   },
   "outputs": [],
   "source": [
    "arr_sort_2d = np.random.standard_normal((5, 3))\n",
    "arr_sort_2d"
   ]
  },
  {
   "cell_type": "code",
   "execution_count": null,
   "id": "9dd6ba25",
   "metadata": {
    "slideshow": {
     "slide_type": "fragment"
    }
   },
   "outputs": [],
   "source": [
    "arr_sort_2d_copy_2 = arr_sort_2d.copy()\n",
    "arr_sort_2d_copy_2.sort(axis=1) # Sắp xếp các hàng\n",
    "arr_sort_2d_copy_2"
   ]
  },
  {
   "cell_type": "markdown",
   "id": "51149fa1",
   "metadata": {
    "slideshow": {
     "slide_type": "subslide"
    }
   },
   "source": [
    "Hàm `np.sort` trả về một **bản sao đã sắp xếp** của một mảng thay vì sửa đổi mảng tại chỗ.\n",
    "\n",
    "Một cách nhanh chóng để tính toán các phân vị (quantile) của một mảng là sắp xếp nó và chọn giá trị tại một hạng cụ thể:"
   ]
  },
  {
   "cell_type": "code",
   "execution_count": null,
   "id": "0edf87e7",
   "metadata": {
    "slideshow": {
     "slide_type": "fragment"
    }
   },
   "outputs": [],
   "source": [
    "large_arr_sort = np.random.standard_normal(1000)\n",
    "large_arr_sort.sort()\n",
    "large_arr_sort[int(0.05 * len(large_arr_sort))] # 5% quantile"
   ]
  },
  {
   "cell_type": "markdown",
   "id": "f835ef2f-e758-41fa-8d97-1a2680121e1f",
   "metadata": {
    "slideshow": {
     "slide_type": "slide"
    }
   },
   "source": [
    "### Các phép toán cho tập hợp (Set Operations)\n",
    "<hr>\n",
    "Hàm `np.unique` trả về các phần tử duy nhất **đã được sắp xếp** trong một mảng:"
   ]
  },
  {
   "cell_type": "code",
   "execution_count": null,
   "id": "9928f63a",
   "metadata": {
    "slideshow": {
     "slide_type": "fragment"
    }
   },
   "outputs": [],
   "source": [
    "names_set = np.array([\"Bob\", \"Joe\", \"Will\", \"Bob\", \"Will\", \"Joe\", \"Joe\"])\n",
    "np.unique(names_set)"
   ]
  },
  {
   "cell_type": "code",
   "execution_count": null,
   "id": "a3adb872",
   "metadata": {
    "slideshow": {
     "slide_type": "fragment"
    }
   },
   "outputs": [],
   "source": [
    "ints_set = np.array([3, 3, 3, 2, 2, 1, 1, 4, 4])\n",
    "np.unique(ints_set)"
   ]
  },
  {
   "cell_type": "markdown",
   "id": "24008d28",
   "metadata": {
    "slideshow": {
     "slide_type": "subslide"
    }
   },
   "source": [
    "Hàm `np.in1d` dùng để kiểm tra nếu các giá trị trong một mảng có nằm trong một mảng khác, và giá trị trả về là một mảng kiểu logical:"
   ]
  },
  {
   "cell_type": "code",
   "execution_count": null,
   "id": "c1288b83",
   "metadata": {
    "slideshow": {
     "slide_type": "fragment"
    }
   },
   "outputs": [],
   "source": [
    "values_set = np.array([6, 0, 0, 3, 2, 5, 6])\n",
    "np.in1d(values_set, [2, 3, 6])"
   ]
  },
  {
   "cell_type": "markdown",
   "id": "04e3464d",
   "metadata": {
    "slideshow": {
     "slide_type": "slide"
    }
   },
   "source": [
    "**Các phép toán tập hợp mảng**\n",
    "\n",
    "| Phương thức | Mô tả |\n",
    "|---|---|\n",
    "| `unique(x)` | Tính toán các phần tử duy nhất đã được sắp xếp trong `x`. |\n",
    "| `intersect1d(x, y)` | Tính toán các phần tử chung đã được sắp xếp (giao). |\n",
    "| `union1d(x, y)` | Tính toán hợp của các phần tử đã được sắp xếp. |\n",
    "| `in1d(x, y)` | Tính toán một mảng boolean cho biết liệu mỗi phần tử của `x` có chứa trong `y` hay không. |\n",
    "| `setdiff1d(x, y)` | Hiệu tập hợp; các phần tử trong `x` không có trong `y`. |\n",
    "| `setxor1d(x, y)` | Hiệu đối xứng tập hợp; các phần tử nằm trong một trong các mảng nhưng không nằm trong cả hai. |"
   ]
  },
  {
   "cell_type": "markdown",
   "id": "ed673e9e-c8dd-42b6-832f-55dc1113e037",
   "metadata": {
    "slideshow": {
     "slide_type": "slide"
    }
   },
   "source": [
    "### Nhập và xuất file với mảng Numpy"
   ]
  },
  {
   "cell_type": "markdown",
   "id": "c2530e42",
   "metadata": {
    "slideshow": {
     "slide_type": "subslide"
    }
   },
   "source": [
    "Các mảng được lưu vào đĩa ở **định dạng nhị phân** bằng `np.save` và được tải bằng `np.load`.\n",
    "Nếu tên tệp chưa có phần mở rộng `.npy`, nó sẽ được tự động thêm vào."
   ]
  },
  {
   "cell_type": "code",
   "execution_count": null,
   "id": "afe010ba",
   "metadata": {
    "slideshow": {
     "slide_type": "fragment"
    }
   },
   "outputs": [],
   "source": [
    "arr_io = np.arange(10)\n",
    "np.save(\"some_array\", arr_io)"
   ]
  },
  {
   "cell_type": "code",
   "execution_count": null,
   "id": "5d40620d",
   "metadata": {
    "slideshow": {
     "slide_type": "fragment"
    }
   },
   "outputs": [],
   "source": [
    "np.load(\"some_array.npy\")"
   ]
  },
  {
   "cell_type": "markdown",
   "id": "73de3584",
   "metadata": {
    "slideshow": {
     "slide_type": "subslide"
    }
   },
   "source": [
    "Bạn có thể lưu nhiều mảng trong một tệp `.npz` không nén bằng `np.savez`:"
   ]
  },
  {
   "cell_type": "code",
   "execution_count": null,
   "id": "db211ce8",
   "metadata": {
    "slideshow": {
     "slide_type": "fragment"
    }
   },
   "outputs": [],
   "source": [
    "np.savez(\"array_archive.npz\", a=arr_io, b=arr_io)"
   ]
  },
  {
   "cell_type": "markdown",
   "id": "66dd4580",
   "metadata": {
    "slideshow": {
     "slide_type": "fragment"
    }
   },
   "source": [
    "Khi tải một tệp `.npz`, bạn nhận được một đối tượng giống như từ điển:"
   ]
  },
  {
   "cell_type": "code",
   "execution_count": null,
   "id": "8873e597",
   "metadata": {
    "slideshow": {
     "slide_type": "fragment"
    }
   },
   "outputs": [],
   "source": [
    "arch = np.load(\"array_archive.npz\")\n",
    "arch[\"b\"]"
   ]
  },
  {
   "cell_type": "markdown",
   "id": "5b8bd776-da15-4933-b6e5-eaf735eefe96",
   "metadata": {
    "slideshow": {
     "slide_type": "subslide"
    }
   },
   "source": [
    "### Lưu và tải tệp văn bản"
   ]
  },
  {
   "cell_type": "markdown",
   "id": "e7572a20",
   "metadata": {
    "slideshow": {
     "slide_type": "fragment"
    }
   },
   "source": [
    "Việc tải dữ liệu văn bản có thể được thực hiện bằng `np.loadtxt` hoặc `np.genfromtxt`."
   ]
  },
  {
   "cell_type": "code",
   "execution_count": null,
   "id": "26b15969",
   "metadata": {
    "slideshow": {
     "slide_type": "fragment"
    }
   },
   "outputs": [],
   "source": [
    "# Tạo một file ví dụ\n",
    "with open(\"array_ex.txt\", \"w\") as f:\n",
    "    f.write(\"1,2,3,4\\n\")\n",
    "    f.write(\"5,6,7,8\\n\")\n",
    "    f.write(\"9,10,11,12\\n\")\n",
    "\n",
    "arr_loadtxt = np.loadtxt(\"array_ex.txt\", delimiter=\",\")\n",
    "arr_loadtxt"
   ]
  },
  {
   "cell_type": "markdown",
   "id": "0e5ebf44",
   "metadata": {
    "slideshow": {
     "slide_type": "fragment"
    }
   },
   "source": [
    "`np.savetxt` thực hiện thao tác ngược lại: ghi một mảng vào một tệp văn bản.\n",
    "\n",
    "> **Lưu ý:** Thư viện `pandas` (sẽ học ở chương sau) cung cấp các công cụ mạnh mẽ và tiện lợi hơn để làm việc với các tệp văn bản (như CSV)."
   ]
  },
  {
   "cell_type": "markdown",
   "id": "3d413d8c-47d0-49b3-94f9-59f42f6c2c70",
   "metadata": {
    "slideshow": {
     "slide_type": "slide"
    }
   },
   "source": [
    "### Các phép toán đại số tuyến tính"
   ]
  },
  {
   "cell_type": "markdown",
   "id": "74b0ab1d",
   "metadata": {
    "slideshow": {
     "slide_type": "subslide"
    }
   },
   "source": [
    "Việc nhân hai mảng hai chiều bằng `*` là một phép nhân **theo từng phần tử**.\n",
    "\n",
    "Để thực hiện **nhân ma trận**, ta sử dụng hàm `dot` hoặc toán tử `@`."
   ]
  },
  {
   "cell_type": "code",
   "execution_count": null,
   "id": "d153b975",
   "metadata": {
    "slideshow": {
     "slide_type": "fragment"
    }
   },
   "outputs": [],
   "source": [
    "x_linalg = np.array([[1., 2., 3.], [4., 5., 6.]])\n",
    "y_linalg = np.array([[6., 23.], [-1, 7], [8, 9]])\n",
    "x_linalg"
   ]
  },
  {
   "cell_type": "code",
   "execution_count": null,
   "id": "3234bfa9",
   "metadata": {
    "slideshow": {
     "slide_type": "fragment"
    }
   },
   "outputs": [],
   "source": [
    "y_linalg"
   ]
  },
  {
   "cell_type": "code",
   "execution_count": null,
   "id": "8e79a2fd",
   "metadata": {
    "slideshow": {
     "slide_type": "fragment"
    }
   },
   "outputs": [],
   "source": [
    "x_linalg.dot(y_linalg)"
   ]
  },
  {
   "cell_type": "code",
   "execution_count": null,
   "id": "fa84cdcd",
   "metadata": {
    "slideshow": {
     "slide_type": "fragment"
    }
   },
   "outputs": [],
   "source": [
    "x_linalg @ np.ones(3)"
   ]
  },
  {
   "cell_type": "markdown",
   "id": "eff915a9",
   "metadata": {
    "slideshow": {
     "slide_type": "subslide"
    }
   },
   "source": [
    "Thư viện con `numpy.linalg` có một tập hợp chuẩn các phép phân tích ma trận và những phép toán thường dùng như nghịch đảo (`inv`) và định thức (`det`)."
   ]
  },
  {
   "cell_type": "code",
   "execution_count": null,
   "id": "dc7265a0",
   "metadata": {
    "slideshow": {
     "slide_type": "fragment"
    }
   },
   "outputs": [],
   "source": [
    "from numpy.linalg import inv, qr\n",
    "X_inv = np.random.standard_normal((5, 5))\n",
    "mat_inv = X_inv.T @ X_inv\n",
    "inv(mat_inv)"
   ]
  },
  {
   "cell_type": "code",
   "execution_count": null,
   "id": "7eaa4c97",
   "metadata": {
    "slideshow": {
     "slide_type": "fragment"
    }
   },
   "outputs": [],
   "source": [
    "# mat_inv @ inv(mat_inv) sẽ ra ma trận đơn vị\n",
    "mat_inv @ inv(mat_inv)"
   ]
  },
  {
   "cell_type": "markdown",
   "id": "f38f016d",
   "metadata": {
    "slideshow": {
     "slide_type": "slide"
    }
   },
   "source": [
    "**Các hàm `numpy.linalg` thường được sử dụng**\n",
    "\n",
    "| Hàm | Mô tả |\n",
    "|---|---|\n",
    "| `diag` | Trả về các phần tử đường chéo. |\n",
    "| `dot` | Nhân ma trận. |\n",
    "| `trace` | Tính tổng các phần tử đường chéo. |\n",
    "| `det` | Tính định thức ma trận. |\n",
    "| `eig` | Tính trị riêng và vector riêng. |\n",
    "| `inv` | Tính nghịch đảo của một ma trận vuông. |\n",
    "| `pinv` | Tính nghịch đảo giả Moore-Penrose. |\n",
    "| `qr` | Tính phân rã QR. |\n",
    "| `svd` | Tính phân rã giá trị suy biến (SVD). |\n",
    "| `solve` | Giải hệ phương trình tuyến tính Ax = b. |\n",
    "| `lstsq` | Tính nghiệm bình phương tối thiểu cho Ax = b. |"
   ]
  },
  {
   "cell_type": "markdown",
   "id": "b6d57714",
   "metadata": {
    "slideshow": {
     "slide_type": "slide"
    }
   },
   "source": [
    "### Sinh số ngẫu nhiên\n",
    "\n",
    "Mô-đun `numpy.random` bổ sung cho mô-đun `random` tích hợp sẵn của Python với các hàm để tạo hiệu quả toàn bộ mảng các giá trị mẫu từ nhiều loại phân phối xác suất."
   ]
  },
  {
   "cell_type": "code",
   "execution_count": null,
   "id": "369fa9e5",
   "metadata": {
    "slideshow": {
     "slide_type": "subslide"
    }
   },
   "outputs": [],
   "source": [
    "import time\n",
    "from random import normalvariate\n",
    "N = 1_000_000\n",
    "\n",
    "# `numpy.random` nhanh hơn nhiều để tạo ra số lượng lớn các số ngẫu nhiên:\n",
    "t0 = time.time()\n",
    "samples_py_rng = [normalvariate(0, 1) for _ in range(N)]\n",
    "t1 = time.time()\n",
    "print(f\"Python random: {t1 - t0:.4f} s\")\n",
    "\n",
    "t0 = time.time()\n",
    "samples_np_rng = np.random.standard_normal(N)\n",
    "t1 = time.time()\n",
    "print(f\"NumPy random: {t1 - t0:.4f} s\")"
   ]
  },
  {
   "cell_type": "markdown",
   "id": "7f7febe5",
   "metadata": {
    "slideshow": {
     "slide_type": "subslide"
    }
   },
   "source": [
    "Các con số này là *giả ngẫu nhiên* (pseudorandom) vì chúng được tạo ra bởi một thuật toán với hành vi xác định dựa trên *mầm* (seed) của trình tạo số ngẫu nhiên.\n",
    "\n",
    "Để có khả năng tái tạo tốt hơn, nên sử dụng một thể hiện của `numpy.random.Generator`, được tạo bằng `numpy.random.default_rng`."
   ]
  },
  {
   "cell_type": "code",
   "execution_count": null,
   "id": "a54d77a6",
   "metadata": {
    "slideshow": {
     "slide_type": "fragment"
    }
   },
   "outputs": [],
   "source": [
    "rng = np.random.default_rng(seed=12345)\n",
    "data_rng = rng.standard_normal((2,3))\n",
    "data_rng"
   ]
  },
  {
   "cell_type": "code",
   "execution_count": null,
   "id": "a23d1843",
   "metadata": {
    "slideshow": {
     "slide_type": "fragment"
    }
   },
   "outputs": [],
   "source": [
    "rng2 = np.random.default_rng(seed=12345)\n",
    "data2_rng = rng2.standard_normal((2,3))\n",
    "data2_rng"
   ]
  },
  {
   "cell_type": "markdown",
   "id": "4c280456",
   "metadata": {
    "slideshow": {
     "slide_type": "slide"
    }
   },
   "source": [
    "**Một số hàm `numpy.random` (trên đối tượng `Generator`)**\n",
    "\n",
    "| Hàm | Mô tả |\n",
    "|---|---|\n",
    "| `permutation` | Trả về một hoán vị ngẫu nhiên của một chuỗi. |\n",
    "| `shuffle` | Hoán vị ngẫu nhiên một chuỗi tại chỗ. |\n",
    "| `uniform` | Rút các mẫu từ một phân phối đều. |\n",
    "| `integers` | Rút các số nguyên ngẫu nhiên từ một phạm vi cho trước. |\n",
    "| `standard_normal` | Rút các mẫu từ một phân phối chuẩn với trung bình 0 và độ lệch chuẩn 1. |\n",
    "| `binomial` | Rút các mẫu từ một phân phối nhị thức. |\n",
    "| `normal` | Rút các mẫu từ một phân phối chuẩn (Gaussian). |\n",
    "| `beta` | Rút các mẫu từ một phân phối beta. |\n",
    "| `chisquare` | Rút các mẫu từ một phân phối chi bình phương. |\n",
    "| `gamma` | Rút các mẫu từ một phân phối gamma. |\n",
    "| `poisson` | Rút các mẫu từ một phân phối Poisson. |"
   ]
  },
  {
   "cell_type": "markdown",
   "id": "1b34ce1c",
   "metadata": {
    "slideshow": {
     "slide_type": "slide"
    }
   },
   "source": [
    "### Tổng kết về thư viện NumPy**\n",
    "\n",
    "- Việc nắm vững các thao tác với mảng `NumPy` và kỹ thuật **tính toán véc-tơ** là nền tảng để sử dụng hiệu quả các thư viện cấp cao hơn như `pandas`.\n",
    "\n",
    "- Cấu trúc `ndarray` của NumPy cung cấp:\n",
    "  - Một đối tượng lưu trữ dữ liệu **mạnh mẽ**, **linh hoạt** và **hiệu suất cao**.\n",
    "  - Hỗ trợ các thao tác vector hóa, xử lý mảng nhiều chiều và tích hợp tốt với các thư viện khoa học dữ liệu khác.\n",
    "\n",
    "**📚 Chuyển tiếp nội dung**\n",
    "\n",
    "- Trong chương tiếp theo, chúng ta sẽ tìm hiểu sâu hơn về **pandas** – thư viện cho phép áp dụng các khái niệm từ NumPy vào các **tình huống phân tích dữ liệu thực tế**."
   ]
  },
  {
   "cell_type": "markdown",
   "id": "pandas-chapter-title",
   "metadata": {
    "slideshow": {
     "slide_type": "slide"
    }
   },
   "source": [
    "## Thư viện pandas"
   ]
  },
  {
   "cell_type": "markdown",
   "id": "b06f1545",
   "metadata": {
    "slideshow": {
     "slide_type": "subslide"
    }
   },
   "source": [
    "### Giới thiệu về thư viện pandas**\n",
    "\n",
    "- `pandas` là **công cụ không thể thiếu** đối với các nhà phân tích dữ liệu và nhà khoa học dữ liệu khi làm việc với Python.\n",
    "- Thư viện cung cấp:\n",
    "  - **Cấu trúc dữ liệu hiệu suất cao**, dễ sử dụng.\n",
    "  - **Công cụ phân tích dữ liệu tiên tiến** cho dữ liệu dạng bảng.\n",
    "\n",
    "- Tên gọi `pandas` bắt nguồn từ:\n",
    "  - \"panel data\" – thuật ngữ trong kinh tế lượng để chỉ **dữ liệu bảng nhiều chiều có cấu trúc**.\n",
    "  - \"Python data analysis\".\n",
    "\n",
    "**Hai cấu trúc dữ liệu cốt lõi của pandas**\n",
    "\n",
    "- `Series`: một *chuỗi* dữ liệu một chiều có nhãn (label).\n",
    "- `DataFrame`: một *bảng dữ liệu hai chiều* với hàng và cột có nhãn.\n",
    "\n",
    "- Mặc dù không phải là công cụ phù hợp cho mọi thao tác dữ liệu chuyên sâu, nhưng:\n",
    "  - `Series` và `DataFrame` thường là lựa chọn hiệu quả và trực quan trong hầu hết các tình huống xử lý dữ liệu thực tế.\n",
    "\n",
    "**Mối quan hệ với NumPy**\n",
    "\n",
    "- `pandas` kế thừa nhiều ý tưởng từ **lập trình mảng của NumPy** nhưng:\n",
    "  - Được thiết kế tối ưu cho dữ liệu dạng bảng và không đồng nhất.\n",
    "- Trong thực hành:\n",
    "  - `pandas` và `NumPy` **được sử dụng cùng nhau**.\n",
    "  - Dữ liệu thường được xử lý trước với `pandas`, sau đó chuyển sang `NumPy` để huấn luyện mô hình với `scikit-learn`.\n",
    "\n",
    "**Quy ước nhập khẩu thư viện pandas**\n",
    "\n",
    "```python\n",
    "import pandas as pd\n",
    "```\n",
    "\n",
    "Theo quy ước này:\n",
    "\n",
    "- Mỗi khi bạn thấy pd. trong mã nguồn, đó là đang tham chiếu đến thư viện pandas.\n",
    "\n",
    "**Chương này sẽ giới thiệu:**\n",
    "\n",
    "- Các cấu trúc dữ liệu cơ bản của pandas, bao gồm **series** và **dataframe**\n",
    "- Cách tương tác và thao tác dữ liệu hiệu quả với Series và DataFrame."
   ]
  },
  {
   "cell_type": "markdown",
   "id": "e8c9f9d3-1ff0-43c0-b659-987457348a9f",
   "metadata": {
    "slideshow": {
     "slide_type": "subslide"
    }
   },
   "source": [
    "### Series (chuỗi)\n",
    "\n",
    "**Khái niệm về Series trong pandas**\n",
    "\n",
    "- Một **chuỗi** (*Series*) là:\n",
    "  - Một đối tượng **giống mảng một chiều** (`1D`) trong `pandas`.\n",
    "  - Chứa **một tập hợp các giá trị** và **một mảng các nhãn dữ liệu** (tên gọi là *chỉ số* – `index`).\n",
    "\n",
    "- Mỗi phần tử trong `Series` gồm:\n",
    "  - **Giá trị dữ liệu** (data).\n",
    "  - **Chỉ số** (index) liên kết – giúp truy cập và định danh từng giá trị.\n",
    "\n",
    "- Trường hợp đơn giản nhất:\n",
    "  - Một `Series` có thể được hình thành từ **một mảng dữ liệu duy nhất**, `pandas` sẽ tự sinh các chỉ số mặc định từ `0`."
   ]
  },
  {
   "cell_type": "code",
   "execution_count": null,
   "id": "c528d0e5",
   "metadata": {
    "slideshow": {
     "slide_type": "fragment"
    }
   },
   "outputs": [],
   "source": [
    "import numpy as np\n",
    "import pandas as pd\n",
    "\n",
    "obj = pd.Series([4, 7, -5, 3])\n",
    "obj"
   ]
  },
  {
   "cell_type": "markdown",
   "id": "b2eb2b15",
   "metadata": {
    "slideshow": {
     "slide_type": "subslide"
    }
   },
   "source": [
    "Biểu diễn chuỗi của một `Series` được hiển thị cho thấy chỉ số ở bên trái và các giá trị ở bên phải. Vì chúng ta không chỉ định chỉ số cho dữ liệu, một chỉ số mặc định bao gồm các số nguyên từ 0 đến `n - 1`, được tạo ra, với `n` là độ dài của dữ liệu. Bạn có thể trích xuất biểu diễn mảng của giá trị và chỉ số của `Series` thông qua các thuộc tính `array` và `index`:"
   ]
  },
  {
   "cell_type": "code",
   "execution_count": null,
   "id": "4ae33662",
   "metadata": {
    "slideshow": {
     "slide_type": "fragment"
    }
   },
   "outputs": [],
   "source": [
    "obj.array"
   ]
  },
  {
   "cell_type": "code",
   "execution_count": null,
   "id": "504df4de",
   "metadata": {
    "slideshow": {
     "slide_type": "fragment"
    }
   },
   "outputs": [],
   "source": [
    "obj.index"
   ]
  },
  {
   "cell_type": "markdown",
   "id": "be1ac3fc",
   "metadata": {
    "slideshow": {
     "slide_type": "subslide"
    }
   },
   "source": [
    "Thông thường, bạn có thể tạo một `Series` với một chỉ số xác định từng điểm dữ liệu bằng một nhãn:"
   ]
  },
  {
   "cell_type": "code",
   "execution_count": null,
   "id": "158c0f76",
   "metadata": {
    "slideshow": {
     "slide_type": "fragment"
    }
   },
   "outputs": [],
   "source": [
    "obj2 = pd.Series([4, 7, -5, 3], index=[\"d\", \"b\", \"a\", \"c\"])\n",
    "obj2"
   ]
  },
  {
   "cell_type": "markdown",
   "id": "8c335e79",
   "metadata": {
    "slideshow": {
     "slide_type": "subslide"
    }
   },
   "source": [
    "So với một mảng trong `NumPy`, bạn có thể sử dụng các tên thay cho chỉ số khi chọn các giá trị đơn lẻ hoặc một tập hợp các giá trị:"
   ]
  },
  {
   "cell_type": "code",
   "execution_count": null,
   "id": "1cd5095a",
   "metadata": {
    "slideshow": {
     "slide_type": "fragment"
    }
   },
   "outputs": [],
   "source": [
    "obj2[\"a\"]"
   ]
  },
  {
   "cell_type": "code",
   "execution_count": null,
   "id": "2ad87186",
   "metadata": {
    "slideshow": {
     "slide_type": "fragment"
    }
   },
   "outputs": [],
   "source": [
    "obj2[\"d\"] = 6\n",
    "obj2[[\"c\", \"a\", \"d\"]]"
   ]
  },
  {
   "cell_type": "markdown",
   "id": "50ca4f65",
   "metadata": {
    "slideshow": {
     "slide_type": "subslide"
    }
   },
   "source": [
    "Chuỗi của `pandas` có thể sử dụng các hàm `Numpy` hoặc các phép toán giống như `Numpy`, chẳng hạn như lọc với một mảng logical, các phép toán số học vô hướng, hoặc áp dụng các hàm toán học, và kết quả trả lại sẽ bảo toàn liên kết giữa chỉ số với giá trị:"
   ]
  },
  {
   "cell_type": "code",
   "execution_count": null,
   "id": "71ef07b4",
   "metadata": {
    "slideshow": {
     "slide_type": "fragment"
    }
   },
   "outputs": [],
   "source": [
    "import numpy as np\n",
    "obj2[obj2 > 0]"
   ]
  },
  {
   "cell_type": "code",
   "execution_count": null,
   "id": "06292b60",
   "metadata": {
    "slideshow": {
     "slide_type": "fragment"
    }
   },
   "outputs": [],
   "source": [
    "obj2 * 2"
   ]
  },
  {
   "cell_type": "code",
   "execution_count": null,
   "id": "445f558b",
   "metadata": {
    "slideshow": {
     "slide_type": "fragment"
    }
   },
   "outputs": [],
   "source": [
    "np.exp(obj2)"
   ]
  },
  {
   "cell_type": "markdown",
   "id": "face88ee",
   "metadata": {
    "slideshow": {
     "slide_type": "subslide"
    }
   },
   "source": [
    "Một cách khác để hình dung về `Series` của `pandas` là một từ điển có thứ tự cố định. Trong nhiều ngữ cảnh mà bạn có thể sử dụng như một `dict`:"
   ]
  },
  {
   "cell_type": "code",
   "execution_count": null,
   "id": "95170616",
   "metadata": {
    "slideshow": {
     "slide_type": "fragment"
    }
   },
   "outputs": [],
   "source": [
    "\"b\" in obj2"
   ]
  },
  {
   "cell_type": "code",
   "execution_count": null,
   "id": "56be442a",
   "metadata": {
    "slideshow": {
     "slide_type": "fragment"
    }
   },
   "outputs": [],
   "source": [
    "\"e\" in obj2"
   ]
  },
  {
   "cell_type": "markdown",
   "id": "c9063407",
   "metadata": {
    "slideshow": {
     "slide_type": "subslide"
    }
   },
   "source": [
    "Nếu bạn có dữ liệu được chứa trong một `dict` của Python, bạn có thể tạo một `Series` bằng hàm `Series`"
   ]
  },
  {
   "cell_type": "code",
   "execution_count": null,
   "id": "517e8241",
   "metadata": {
    "slideshow": {
     "slide_type": "fragment"
    }
   },
   "outputs": [],
   "source": [
    "sdata = {\"Ohio\": 35000, \"Texas\": 71000, \"Oregon\": 16000, \"Utah\": 5000}\n",
    "obj3 = pd.Series(sdata)\n",
    "obj3"
   ]
  },
  {
   "cell_type": "markdown",
   "id": "9d78557d",
   "metadata": {
    "slideshow": {
     "slide_type": "subslide"
    }
   },
   "source": [
    "Khi bạn chỉ sử dụng một `dict`, chỉ số trong `Series` kết quả sẽ là các khóa của `dict` theo thứ tự. Bạn có thể ghi đè lên chỉ số bằng cách truyền các khóa `dict` theo thứ tự bạn muốn chúng xuất hiện trong `Series` kết quả:"
   ]
  },
  {
   "cell_type": "code",
   "execution_count": null,
   "id": "e0afc6a3",
   "metadata": {
    "slideshow": {
     "slide_type": "fragment"
    }
   },
   "outputs": [],
   "source": [
    "states = [\"California\", \"Ohio\", \"Oregon\", \"Texas\"]\n",
    "obj4 = pd.Series(sdata, index=states)\n",
    "obj4"
   ]
  },
  {
   "cell_type": "markdown",
   "id": "318db543",
   "metadata": {
    "slideshow": {
     "slide_type": "subslide"
    }
   },
   "source": [
    "Cuốn sách này sẽ sử dụng thuật ngữ \"missing value\" hoặc \"NA\" để chỉ dữ liệu không quan sát được. Các hàm `isna` và `notna` trong `pandas` được sử dụng để phát hiện dữ liệu bị thiếu:"
   ]
  },
  {
   "cell_type": "code",
   "execution_count": null,
   "id": "3c25cb58",
   "metadata": {
    "slideshow": {
     "slide_type": "fragment"
    }
   },
   "outputs": [],
   "source": [
    "pd.isna(obj4)"
   ]
  },
  {
   "cell_type": "code",
   "execution_count": null,
   "id": "64dc8013",
   "metadata": {
    "slideshow": {
     "slide_type": "fragment"
    }
   },
   "outputs": [],
   "source": [
    "pd.notna(obj4)"
   ]
  },
  {
   "cell_type": "markdown",
   "id": "3a51961b",
   "metadata": {
    "slideshow": {
     "slide_type": "subslide"
    }
   },
   "source": [
    "`Series` cũng có các phương thức `.isna()`để xác định giá trị không quan sát được:"
   ]
  },
  {
   "cell_type": "code",
   "execution_count": null,
   "id": "f56e94a1",
   "metadata": {
    "slideshow": {
     "slide_type": "fragment"
    }
   },
   "outputs": [],
   "source": [
    "obj4.isna()"
   ]
  },
  {
   "cell_type": "markdown",
   "id": "0157e896",
   "metadata": {
    "slideshow": {
     "slide_type": "subslide"
    }
   },
   "source": [
    "Một tính năng hữu ích của `Series` cho nhiều ứng dụng là đối tượng này **tự động căn chỉnh theo chỉ số** trong các phép toán số học. Bạn đọc quan sát ví dụ sau:"
   ]
  },
  {
   "cell_type": "code",
   "execution_count": null,
   "id": "6d13a5a9",
   "metadata": {
    "slideshow": {
     "slide_type": "fragment"
    }
   },
   "outputs": [],
   "source": [
    "obj3"
   ]
  },
  {
   "cell_type": "code",
   "execution_count": null,
   "id": "fc752461",
   "metadata": {
    "slideshow": {
     "slide_type": "fragment"
    }
   },
   "outputs": [],
   "source": [
    "obj4"
   ]
  },
  {
   "cell_type": "code",
   "execution_count": null,
   "id": "f4ff4df3",
   "metadata": {
    "slideshow": {
     "slide_type": "fragment"
    }
   },
   "outputs": [],
   "source": [
    "obj3 + obj4"
   ]
  },
  {
   "cell_type": "markdown",
   "id": "c3792760",
   "metadata": {
    "slideshow": {
     "slide_type": "subslide"
    }
   },
   "source": [
    "Cả đối tượng `Series` và chỉ số của đối tượng này đều có thuộc tính `name`, được tích hợp với các chức năng khác của `pandas`. Chỉ số của một `Series` có thể được thay đổi trực tiếp bằng cách gán:"
   ]
  },
  {
   "cell_type": "code",
   "execution_count": null,
   "id": "1c7fa99c",
   "metadata": {
    "slideshow": {
     "slide_type": "fragment"
    }
   },
   "outputs": [],
   "source": [
    "obj4.name = \"population\"\n",
    "obj4.index.name = \"state\"\n",
    "obj4"
   ]
  },
  {
   "cell_type": "code",
   "execution_count": null,
   "id": "e60b4825",
   "metadata": {
    "slideshow": {
     "slide_type": "fragment"
    }
   },
   "outputs": [],
   "source": [
    "obj.index = [\"Bob\", \"Steve\", \"Jeff\", \"Ryan\"]\n",
    "obj"
   ]
  },
  {
   "cell_type": "markdown",
   "id": "417f02e2-bf1c-463d-9b31-a63704a7df45",
   "metadata": {
    "slideshow": {
     "slide_type": "slide"
    }
   },
   "source": [
    "### DataFrame"
   ]
  },
  {
   "cell_type": "markdown",
   "id": "15a8944e",
   "metadata": {
    "slideshow": {
     "slide_type": "subslide"
    }
   },
   "source": [
    "`DataFrame` biểu diễn dữ liệu dạng bảng bảng chữ nhật và chứa một tập hợp các cột có thứ tự, mỗi cột có thể là một kiểu giá trị khác nhau. `DataFrame` có cả chỉ số hàng và chỉ số cột. Cũng có thể hiểu `DataFrame` là một từ điển (`dict`) của các chuỗi (`Series`) có cùng một mảng chỉ số. \n",
    "\n",
    "Có nhiều cách để xây dựng một `DataFrame`, mặc dù một trong những cách phổ biến nhất là từ một từ điển (`dict`) của các danh sách (`list`) có độ dài bằng nhau:"
   ]
  },
  {
   "cell_type": "code",
   "execution_count": null,
   "id": "eef93e0c",
   "metadata": {
    "slideshow": {
     "slide_type": "fragment"
    }
   },
   "outputs": [],
   "source": [
    "data = {\"state\": [\"Ohio\", \"Ohio\", \"Ohio\", \"Nevada\", \"Nevada\", \"Nevada\"],\n",
    "        \"year\": [2000, 2001, 2002, 2001, 2002, 2003],\n",
    "        \"pop\": [1.5, 1.7, 3.6, 2.4, 2.9, 3.2]}\n",
    "frame = pd.DataFrame(data)\n",
    "frame"
   ]
  },
  {
   "cell_type": "markdown",
   "id": "8f3b6f60",
   "metadata": {
    "slideshow": {
     "slide_type": "subslide"
    }
   },
   "source": [
    "Đối với các `DataFrame` lớn, phương thức `head` được sử dụng để lựa chọn các hàng đầu tiên:"
   ]
  },
  {
   "cell_type": "code",
   "execution_count": null,
   "id": "4df978c8",
   "metadata": {
    "slideshow": {
     "slide_type": "fragment"
    }
   },
   "outputs": [],
   "source": [
    "frame.head()"
   ]
  },
  {
   "cell_type": "markdown",
   "id": "610e88be",
   "metadata": {
    "slideshow": {
     "slide_type": "subslide"
    }
   },
   "source": [
    "Tương tự, phương thức `tail` được sử dụng để lựa chọn các hàng dưới cùng:"
   ]
  },
  {
   "cell_type": "code",
   "execution_count": null,
   "id": "6e9280d8",
   "metadata": {
    "slideshow": {
     "slide_type": "fragment"
    }
   },
   "outputs": [],
   "source": [
    "frame.tail()"
   ]
  },
  {
   "cell_type": "markdown",
   "id": "24276131",
   "metadata": {
    "slideshow": {
     "slide_type": "subslide"
    }
   },
   "source": [
    "Bạn có thể sắp xếp lại thứ tự các cột bằng cách sử dụng tham số `columns`"
   ]
  },
  {
   "cell_type": "code",
   "execution_count": null,
   "id": "3e6d5481",
   "metadata": {
    "slideshow": {
     "slide_type": "fragment"
    }
   },
   "outputs": [],
   "source": [
    "pd.DataFrame(data, columns=[\"year\", \"state\", \"pop\"])"
   ]
  },
  {
   "cell_type": "markdown",
   "id": "e0df4899",
   "metadata": {
    "slideshow": {
     "slide_type": "subslide"
    }
   },
   "source": [
    "Nếu bạn tạo `DataFrame` với một cột không có trong `dict`, giá trị cột đó sẽ chỉ bao gồm các giá trị `NA`"
   ]
  },
  {
   "cell_type": "code",
   "execution_count": null,
   "id": "0bb58bf0",
   "metadata": {
    "slideshow": {
     "slide_type": "fragment"
    }
   },
   "outputs": [],
   "source": [
    "frame2 = pd.DataFrame(data, columns=[\"year\", \"state\", \"pop\", \"debt\"])\n",
    "frame2"
   ]
  },
  {
   "cell_type": "markdown",
   "id": "6780b452",
   "metadata": {
    "slideshow": {
     "slide_type": "subslide"
    }
   },
   "source": [
    "Một cột trong `DataFrame` có thể được truy xuất dưới dạng `Series` bằng cách sử dụng ký hiệu kiểu `dict` hoặc bằng cách gọi như một thuộc tính:"
   ]
  },
  {
   "cell_type": "code",
   "execution_count": null,
   "id": "11cceb9c",
   "metadata": {
    "slideshow": {
     "slide_type": "fragment"
    }
   },
   "outputs": [],
   "source": [
    "frame2[\"state\"] # gọi tên"
   ]
  },
  {
   "cell_type": "code",
   "execution_count": null,
   "id": "5aa0bf9d",
   "metadata": {
    "slideshow": {
     "slide_type": "fragment"
    }
   },
   "outputs": [],
   "source": [
    "frame2.year # gọi theo kiểu thuộc tính"
   ]
  },
  {
   "cell_type": "markdown",
   "id": "ba569976",
   "metadata": {
    "slideshow": {
     "slide_type": "subslide"
    }
   },
   "source": [
    "Các hàng của `DataFrame` cũng có thể được truy xuất theo vị trí hoặc tên với thuộc tính đặc biệt `loc`:"
   ]
  },
  {
   "cell_type": "code",
   "execution_count": null,
   "id": "f31a60da",
   "metadata": {
    "slideshow": {
     "slide_type": "fragment"
    }
   },
   "outputs": [],
   "source": [
    "frame2.loc[1]"
   ]
  },
  {
   "cell_type": "markdown",
   "id": "d93aceba",
   "metadata": {
    "slideshow": {
     "slide_type": "subslide"
    }
   },
   "source": [
    "Các cột của `DataFrame` có thể được sửa đổi bằng cách gán giá trị một cách trực tiếp. Ví dụ, cột `\"debt\"` trống có thể được gán một giá trị vô hướng hoặc một mảng các giá trị:"
   ]
  },
  {
   "cell_type": "code",
   "execution_count": null,
   "id": "a1d8b9f0",
   "metadata": {
    "slideshow": {
     "slide_type": "fragment"
    }
   },
   "outputs": [],
   "source": [
    "frame2[\"debt\"] = 11.5\n",
    "frame2"
   ]
  },
  {
   "cell_type": "code",
   "execution_count": null,
   "id": "0e7cf8a2",
   "metadata": {
    "slideshow": {
     "slide_type": "fragment"
    }
   },
   "outputs": [],
   "source": [
    "frame2[\"debt\"] = np.arange(6.0)\n",
    "frame2"
   ]
  },
  {
   "cell_type": "markdown",
   "id": "69401fa6",
   "metadata": {
    "slideshow": {
     "slide_type": "subslide"
    }
   },
   "source": [
    "Khi bạn đọc sử dụng một danh sách hoặc một mảng để gán cho một cột, độ dài phải khớp với độ dài của `DataFrame`. Nếu bạn gán một `Series`, các chỉ số  sẽ được **tự động căn chỉnh** theo chỉ số của `DataFrame`, chèn các giá trị bị thiếu vào bất kỳ lỗ hổng nào:"
   ]
  },
  {
   "cell_type": "code",
   "execution_count": null,
   "id": "435a1efc",
   "metadata": {
    "slideshow": {
     "slide_type": "fragment"
    }
   },
   "outputs": [],
   "source": [
    "val = pd.Series([-1.2, -1.5, -1.7], index=[0, \"four\", \"five\"])\n",
    "frame2[\"debt\"] = val\n",
    "frame2"
   ]
  },
  {
   "cell_type": "markdown",
   "id": "26831465",
   "metadata": {
    "slideshow": {
     "slide_type": "subslide"
    }
   },
   "source": [
    "Việc gán một cột không tồn tại trong `DataFrame` sẽ tự động tạo ra một cột mới. Từ khóa `del` được sử dụng để xóa các cột. Bạn đọc quan sát ví dụ sau, khi chúng ta thêm một cột mới có tên `eastern` chứa dữ liệu kiểu logical sau đó sử dụng từ khóa `del` để xóa cột này: "
   ]
  },
  {
   "cell_type": "code",
   "execution_count": null,
   "id": "6b925d72",
   "metadata": {
    "slideshow": {
     "slide_type": "fragment"
    }
   },
   "outputs": [],
   "source": [
    "frame2[\"eastern\"] = frame2[\"state\"] == \"Ohio\"\n",
    "frame2"
   ]
  },
  {
   "cell_type": "code",
   "execution_count": null,
   "id": "1ef320c0",
   "metadata": {
    "slideshow": {
     "slide_type": "fragment"
    }
   },
   "outputs": [],
   "source": [
    "del frame2[\"eastern\"]\n",
    "frame2.columns"
   ]
  },
  {
   "cell_type": "markdown",
   "id": "7f469a63",
   "metadata": {
    "slideshow": {
     "slide_type": "subslide"
    }
   },
   "source": [
    "Một dạng dữ liệu phổ biến khác là một từ điển của các từ điển, hay còn gọi là các từ điển lồng nhau. Nếu từ điển lồng nhau được dùng để khởi tạo cho `DataFrame`, `pandas` sẽ hiểu các khóa `dict` bên ngoài là các cột và các khóa bên trong là các chỉ số hàng:"
   ]
  },
  {
   "cell_type": "code",
   "execution_count": null,
   "id": "2a78a806",
   "metadata": {
    "slideshow": {
     "slide_type": "fragment"
    }
   },
   "outputs": [],
   "source": [
    "populations = {\"Ohio\": {2000: 1.5, 2001: 1.7, 2002: 3.6},\n",
    "               \"Nevada\": {2001: 2.4, 2002: 2.9}}\n",
    "frame3 = pd.DataFrame(populations)\n",
    "frame3"
   ]
  },
  {
   "cell_type": "markdown",
   "id": "69b9f494",
   "metadata": {
    "slideshow": {
     "slide_type": "subslide"
    }
   },
   "source": [
    "Bạn có thể chuyển vị `DataFrame`, nghĩa là hoán đổi hàng và cột, bằng cách sử dụng phương thức `.T` tương tự như một mảng `NumPy`:"
   ]
  },
  {
   "cell_type": "code",
   "execution_count": null,
   "id": "79bf88f8",
   "metadata": {
    "slideshow": {
     "slide_type": "fragment"
    }
   },
   "outputs": [],
   "source": [
    "frame3.T"
   ]
  },
  {
   "cell_type": "markdown",
   "id": "194db32c",
   "metadata": {
    "slideshow": {
     "slide_type": "subslide"
    }
   },
   "source": [
    "**Các đầu vào dữ liệu khả thi cho hàm tạo DataFrame**\n",
    "\n",
    "| Loại | Ghi chú |\n",
    "|---|---|\n",
    "| `dict` của các mảng một chiều, danh sách, `dict`, hoặc `Series` | Mỗi `ndarray` phải có cùng độ dài. Nếu một chỉ số được khởi tạo, độ dài của chỉ số phải khớp với độ dài của các mảng. |\n",
    "| Mảng hai chiều của NumPy (`ndarray`) | Được xử lý như một ma trận dữ liệu, chuyển đổi thành một `DataFrame` với các chỉ số hàng và cột. |\n",
    "| `ndarray` có cấu trúc hoặc bản ghi | Được xử lý tương tự như một `dict` của các `Series`. |\n",
    "| Một `Series` khác | Chỉ số của `Series` được sử dụng làm chỉ số hàng của `DataFrame` kết quả. |\n",
    "| Một `DataFrame` khác | Chỉ số của `DataFrame` được giữ lại trừ khi một chỉ số khác được truyền. |"
   ]
  },
  {
   "cell_type": "markdown",
   "id": "7079969a-2320-4d27-b74e-8f7fbe789c96",
   "metadata": {
    "slideshow": {
     "slide_type": "slide"
    }
   },
   "source": [
    "### Chỉ số trong series và dataframe"
   ]
  },
  {
   "cell_type": "markdown",
   "id": "46116f75-089e-481c-a03c-799ccbb0178c",
   "metadata": {
    "slideshow": {
     "slide_type": "subslide"
    }
   },
   "source": [
    "Đối tượng `Index` của `pandas` chịu trách nhiệm lưu trữ các nhãn hay tên của các trục. Bất kỳ mảng hoặc chuỗi nào khác mà bạn sử dụng khi xây dựng một `Series` hoặc `DataFrame` đều được chuyển đổi nội bộ thành một `Index`:"
   ]
  },
  {
   "cell_type": "code",
   "execution_count": null,
   "id": "12114618",
   "metadata": {
    "slideshow": {
     "slide_type": "fragment"
    }
   },
   "outputs": [],
   "source": [
    "obj = pd.Series(np.arange(3), index=[\"a\", \"b\", \"c\"])\n",
    "index = obj.index\n",
    "index"
   ]
  },
  {
   "cell_type": "markdown",
   "id": "1685693b",
   "metadata": {
    "slideshow": {
     "slide_type": "subslide"
    }
   },
   "source": [
    "Các đối tượng `Index` của `pandas` là **bất biến** và do đó không thể được sửa đổi bởi người dùng:"
   ]
  },
  {
   "cell_type": "code",
   "execution_count": null,
   "id": "38a22261",
   "metadata": {
    "slideshow": {
     "slide_type": "fragment"
    },
    "tags": [
     "raises-exception"
    ]
   },
   "outputs": [],
   "source": [
    "# index[1] = \"d\"  # Sẽ báo lỗi TypeError"
   ]
  },
  {
   "cell_type": "markdown",
   "id": "62403e19",
   "metadata": {
    "slideshow": {
     "slide_type": "subslide"
    }
   },
   "source": [
    "Ngoài việc giống như một mảng, một `Index` cũng hoạt động giống như một tập hợp có kích thước cố định:"
   ]
  },
  {
   "cell_type": "code",
   "execution_count": null,
   "id": "09dedca4",
   "metadata": {
    "slideshow": {
     "slide_type": "fragment"
    }
   },
   "outputs": [],
   "source": [
    "\"Ohio\" in frame3.columns"
   ]
  },
  {
   "cell_type": "code",
   "execution_count": null,
   "id": "4683cfd8",
   "metadata": {
    "slideshow": {
     "slide_type": "fragment"
    }
   },
   "outputs": [],
   "source": [
    "2003 in frame3.index"
   ]
  },
  {
   "cell_type": "markdown",
   "id": "aa154c40",
   "metadata": {
    "slideshow": {
     "slide_type": "subslide"
    }
   },
   "source": [
    "Không giống như các tập hợp của Python, một `pd.Index` của `pandas` có thể chứa các nhãn trùng lặp. Việc chọn các nhãn trùng lặp sẽ chọn tất cả các lần xuất hiện của nhãn đó."
   ]
  },
  {
   "cell_type": "code",
   "execution_count": null,
   "id": "2e5e5a70",
   "metadata": {
    "slideshow": {
     "slide_type": "fragment"
    }
   },
   "outputs": [],
   "source": [
    "pd.Index([\"foo\", \"foo\", \"bar\", \"bar\"])"
   ]
  },
  {
   "cell_type": "markdown",
   "id": "294b318b",
   "metadata": {
    "slideshow": {
     "slide_type": "subslide"
    }
   },
   "source": [
    "**Các phương thức và thuộc tính chính của Index**\n",
    "\n",
    "| Phương thức | Mô tả |\n",
    "|---|---|\n",
    "| `append` | Nối thêm các đối tượng `Index` bổ sung, tạo ra một `Index` mới. |\n",
    "| `difference` | Tính toán hiệu tập hợp dưới dạng một `Index`. |\n",
    "| `intersection` | Tính toán giao tập hợp. |\n",
    "| `union` | Tính toán hợp tập hợp. |\n",
    "| `isin` | Tính toán một mảng boolean cho biết liệu mỗi giá trị có nằm trong tập hợp được truyền hay không. |\n",
    "| `delete` | Tính toán `Index` mới bằng cách xóa phần tử ở vị trí `i`. |\n",
    "| `drop` | Tính toán `Index` mới bằng cách xóa các giá trị được truyền. |\n",
    "| `insert` | Tính toán `Index` mới bằng cách chèn phần tử ở vị trí `i`. |\n",
    "| `is_monotonic_increasing` | Trả về `True` nếu mỗi phần tử lớn hơn hoặc bằng phần tử trước đó. |\n",
    "| `is_monotonic_decreasing` | Trả về `True` nếu mỗi phần tử nhỏ hơn hoặc bằng phần tử trước đó. |\n",
    "| `is_unique` | Trả về `True` nếu `Index` không có nhãn trùng lặp. |\n",
    "| `unique` | Tính toán mảng các nhãn duy nhất trong `Index`. |\n",
    "| `name` | Thuộc tính để gán tên cho một đối tượng `Index`. |\n",
    "| `values` | Trả về `Index` dưới dạng một `ndarray`. |"
   ]
  }
 ],
 "metadata": {
  "kernelspec": {
   "display_name": "Python 3 (ipykernel)",
   "language": "python",
   "name": "python3"
  },
  "language_info": {
   "codemirror_mode": {
    "name": "ipython",
    "version": 3
   },
   "file_extension": ".py",
   "mimetype": "text/x-python",
   "name": "python",
   "nbconvert_exporter": "python",
   "pygments_lexer": "ipython3",
   "version": "3.13.2"
  }
 },
 "nbformat": 4,
 "nbformat_minor": 5
}
