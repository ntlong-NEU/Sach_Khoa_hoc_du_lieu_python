{
 "cells": [
  {
   "cell_type": "markdown",
   "id": "7078a0e2-1be1-4a12-9a3e-ee25b039d1b5",
   "metadata": {},
   "source": [
    "# Test"
   ]
  },
  {
   "cell_type": "markdown",
   "id": "2736c9e9-e342-4760-9683-d28ff068026d",
   "metadata": {},
   "source": [
    "| Đâu là thủ đô của nước Pháp |   |\n",
    "|-----------------------------|---|\n",
    "| Paris                       |   |\n",
    "| London                      |   |\n",
    "| Berlin                      |   |\n",
    "| Madrid                      |   |"
   ]
  },
  {
   "cell_type": "markdown",
   "id": "f54409be-e3e9-4bb9-bdbe-0ce0ce736579",
   "metadata": {},
   "source": [
    "Đoạn tiếp"
   ]
  },
  {
   "cell_type": "markdown",
   "id": "b789bf23-cd46-4474-8f0a-a8d9462cabdc",
   "metadata": {},
   "source": [
    "| Một bài tập gì đó |OJ Python|\n",
    "|-------------------|-|\n",
    "|                   | |"
   ]
  },
  {
   "cell_type": "code",
   "execution_count": null,
   "id": "7799d3b8-da27-43cf-8d76-393aa551235c",
   "metadata": {},
   "outputs": [],
   "source": []
  }
 ],
 "metadata": {
  "kernelspec": {
   "display_name": "Python [conda env:base] *",
   "language": "python",
   "name": "conda-base-py"
  },
  "language_info": {
   "codemirror_mode": {
    "name": "ipython",
    "version": 3
   },
   "file_extension": ".py",
   "mimetype": "text/x-python",
   "name": "python",
   "nbconvert_exporter": "python",
   "pygments_lexer": "ipython3",
   "version": "3.13.5"
  }
 },
 "nbformat": 4,
 "nbformat_minor": 5
}
