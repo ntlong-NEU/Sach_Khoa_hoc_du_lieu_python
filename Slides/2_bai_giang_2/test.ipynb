{
 "cells": [
  {
   "cell_type": "code",
   "execution_count": 2,
   "id": "c0f8a50f-b8c1-4538-9aeb-2c64a45d6c49",
   "metadata": {},
   "outputs": [],
   "source": [
    "#Test"
   ]
  },
  {
   "cell_type": "markdown",
   "id": "2736c9e9-e342-4760-9683-d28ff068026d",
   "metadata": {},
   "source": [
    "| Đâu là thủ đô của nước Pháp3 |  . |\n",
    "|-----------------------------|---|\n",
    "| Paris                       |   |\n",
    "| London                      |   |\n",
    "| Berlin                      |   |\n",
    "| Madrid                      |   |"
   ]
  }
 ],
 "metadata": {
  "kernelspec": {
   "display_name": "Python [conda env:base] *",
   "language": "python",
   "name": "conda-base-py"
  },
  "language_info": {
   "codemirror_mode": {
    "name": "ipython",
    "version": 3
   },
   "file_extension": ".py",
   "mimetype": "text/x-python",
   "name": "python",
   "nbconvert_exporter": "python",
   "pygments_lexer": "ipython3",
   "version": "3.13.5"
  }
 },
 "nbformat": 4,
 "nbformat_minor": 5
}
