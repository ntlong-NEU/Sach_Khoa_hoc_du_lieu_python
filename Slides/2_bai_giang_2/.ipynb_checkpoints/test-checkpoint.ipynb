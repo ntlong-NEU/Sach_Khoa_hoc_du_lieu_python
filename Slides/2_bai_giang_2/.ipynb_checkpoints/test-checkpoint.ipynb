{
 "cells": [
  {
   "cell_type": "markdown",
   "id": "7078a0e2-1be1-4a12-9a3e-ee25b039d1b5",
   "metadata": {},
   "source": [
    "# Test"
   ]
  },
  {
   "cell_type": "markdown",
   "id": "2736c9e9-e342-4760-9683-d28ff068026d",
   "metadata": {},
   "source": [
    "| Đâu là thủ đô của nước Pháp |   |\n",
    "|-----------------------------|---|\n",
    "| Paris                       |   |\n",
    "| London                      |   |\n",
    "| Berlin                      |   |\n",
    "| Madrid                      |   |\n",
    "trong cell"
   ]
  },
  {
   "cell_type": "code",
   "execution_count": null,
   "id": "392defb2-64d3-45ea-ab3b-adfc85baa25d",
   "metadata": {},
   "outputs": [],
   "source": [
    "Đoạn tiếp"
   ]
  }
 ],
 "metadata": {
  "kernelspec": {
   "display_name": "Python [conda env:base] *",
   "language": "python",
   "name": "conda-base-py"
  },
  "language_info": {
   "codemirror_mode": {
    "name": "ipython",
    "version": 3
   },
   "file_extension": ".py",
   "mimetype": "text/x-python",
   "name": "python",
   "nbconvert_exporter": "python",
   "pygments_lexer": "ipython3",
   "version": "3.13.5"
  }
 },
 "nbformat": 4,
 "nbformat_minor": 5
}
