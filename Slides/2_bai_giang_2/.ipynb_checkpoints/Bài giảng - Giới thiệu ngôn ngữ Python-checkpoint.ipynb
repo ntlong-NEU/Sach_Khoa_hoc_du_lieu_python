{
 "cells": [
  {
   "cell_type": "markdown",
   "metadata": {
    "slideshow": {
     "slide_type": "slide"
    }
   },
   "source": [
    "# Python cơ bản"
   ]
  },
  {
   "cell_type": "markdown",
   "metadata": {
    "slideshow": {
     "slide_type": "slide"
    }
   },
   "source": [
    "## Các kiểu dữ liệu cơ bản trong Python"
   ]
  },
  {
   "cell_type": "markdown",
   "metadata": {
    "slideshow": {
     "slide_type": "subslide"
    }
   },
   "source": [
    "### Khái niệm về biến"
   ]
  },
  {
   "cell_type": "markdown",
   "metadata": {
    "slideshow": {
     "slide_type": "fragment"
    }
   },
   "source": [
    "- **Giá trị** là đơn vị dữ liệu mà máy tính xử lý (ví dụ: số, chuỗi văn bản)\n",
    "  - `4` là **số nguyên**\n",
    "  - `\"Hello!\"` là **chuỗi ký tự**\n",
    "\n",
    "- **Biến** là tên gọi đại diện cho một giá trị\n",
    "  - Trong toán học: thường dùng $x$, $y$\n",
    "  - Trong Python: tên biến có thể là bất kỳ từ nào **bắt đầu bằng chữ cái hoặc dấu gạch dưới**\n",
    "\n",
    "- ⚠️ **Không nên dùng từ khóa dành riêng** làm tên biến:\n",
    "  - Ví dụ: `for`, `while`, `class`, `lambda`, v.v.\n",
    "  - Đây là các từ khóa có chức năng đặc biệt trong Python\n",
    "\n",
    "- Hình dung **biến giống như một chiếc hộp** chứa dữ liệu (số, chuỗi, danh sách...)\n",
    "\n",
    "![](https://raw.githubusercontent.com/NCT-NEU/Sach_Khoa_hoc_du_lieu_python/main/Slides/2_bai_giang_2/Hinh_anh/box.png)\n",
    "\n",
    "- **Toán tử gán** `=` dùng để gán giá trị cho biến:\n",
    "  - Ví dụ: `x = 10` gán giá trị `10` cho biến `x`"
   ]
  },
  {
   "cell_type": "markdown",
   "metadata": {
    "slideshow": {
     "slide_type": "fragment"
    }
   },
   "source": [
    "**Các kiểu giá trị** của biến, hay tắt là **kiểu biến** cơ bản có sẵn trong Python bao gồm:"
   ]
  },
  {
   "cell_type": "markdown",
   "metadata": {
    "slideshow": {
     "slide_type": "fragment"
    }
   },
   "source": [
    "| Kiểu biến             | Kiểu (python)  | Nhóm  | Mô tả                                   | Ví dụ                                    |\n",
    "| :-------------------- | :--------- | :------------- | :-------------------------------------------- | :----------------------------------------- |\n",
    "| integer               | `int`      | Kiểu số   | các số nguyên              | `4`                                       |\n",
    "| floating point number | `float`    | Kiểu số   | các số thực                    | `3.14159`                                  |\n",
    "| boolean               | `bool`     | Kiểu logical | nhận giá trị `True` hoặc `False`                                 | `True`                                     |\n",
    "| string                | `str`      | Kiểu chuỗi ký tự  | Ký tự, chuỗi ký tự, đoạn văn bản                                          | `\"Khoa học dữ liệu?\"`                 |\n",
    "| list                  | `list`     | Kiểu tuần tự (dãy)  | một tập hợp các phần tử có thứ tự  | `['Python', 'R', 'Java']`               |\n",
    "| tuple                 | `tuple`    | Kiểu tuần tự (dãy)  | một tập hợp các phần tử có thứ tự và không thể thay đổi | `('Sunday', 6, 3, 2025)`                 |\n",
    "| dictionary            | `dict`     | Kiểu mapping (ánh xạ)  | ánh xạ giữa khóa - giá trị                    | `{'name':'KHDL', 'code':123, 'credits':3}` |"
   ]
  },
  {
   "cell_type": "markdown",
   "metadata": {
    "slideshow": {
     "slide_type": "subslide"
    }
   },
   "source": [
    "### Dữ liệu kiểu số và toán tử số học"
   ]
  },
  {
   "cell_type": "markdown",
   "metadata": {
    "slideshow": {
     "slide_type": "fragment"
    }
   },
   "source": [
    "- Python hỗ trợ nhiều **kiểu số khác nhau**:\n",
    "  - **Số nguyên** (*integers*): ví dụ `10`, `-3`\n",
    "  - **Số thực** (*floating point numbers*): ví dụ `3.14`, `-0.5`\n",
    "  - **Số phức** (*complex numbers*): ví dụ `2 + 3j`  \n",
    "    → (Không đề cập trong phần này)\n",
    "\n",
    "- Để tạo một **biến kiểu số**:\n",
    "  - Gán giá trị số cho một tên biến  \n",
    "    → Ví dụ: `a = 5`, `b = 3.14`\n",
    "\n",
    "- Dùng hàm `type()` để **kiểm tra kiểu dữ liệu** của biến  \n",
    "  → Ví dụ: `type(a)` → `<class 'int'>`\n",
    "\n",
    "- Dùng hàm `print()` để **in giá trị ra màn hình**  \n",
    "  → Ví dụ: `print(a)` → `5`"
   ]
  },
  {
   "cell_type": "code",
   "execution_count": null,
   "metadata": {
    "slideshow": {
     "slide_type": "fragment"
    }
   },
   "outputs": [],
   "source": [
    "x = 4              # Gán giá trị 4 (số nguyên) cho biến x\n",
    "type(x)            # Trả về kiểu dữ liệu của x (ở đây là <class 'int'>)\n",
    "print(x)           # In giá trị của biến x ra màn hình (kết quả: 4)"
   ]
  },
  {
   "cell_type": "markdown",
   "metadata": {
    "slideshow": {
     "slide_type": "subslide"
    }
   },
   "source": [
    "### Toán tử số học"
   ]
  },
  {
   "cell_type": "markdown",
   "metadata": {
    "slideshow": {
     "slide_type": "fragment"
    }
   },
   "source": [
    "Trong Python, các toán tử số học được sử dụng để thực hiện các phép tính giữa các biến kiểu số. Dưới đây là một số toán tử phổ biến:\n",
    "\n",
    "| Toán tử | Mô tả              | Ví dụ        | Kết quả |\n",
    "|--------|---------------------|--------------|---------|\n",
    "| `+`    | Cộng                | `2 + 3`      | `5`     |\n",
    "| `-`    | Trừ                 | `5 - 2`      | `3`     |\n",
    "| `*`    | Nhân                | `4 * 2`      | `8`     |\n",
    "| `/`    | Chia                | `6 / 3`      | `2.0`   |\n",
    "| `//`   | Chia lấy phần nguyên| `7 // 2`     | `3`     |\n",
    "| `%`    | Chia lấy dư         | `7 % 2`      | `1`     |\n",
    "| `**`   | Lũy thừa            | `2 ** 3`     | `8`     |"
   ]
  },
  {
   "cell_type": "code",
   "execution_count": null,
   "metadata": {
    "slideshow": {
     "slide_type": "fragment"
    }
   },
   "outputs": [],
   "source": [
    "1 + 2 + 3 + 4 + 5  # cộng\n",
    "2 * 3.14159  # nhân\n",
    "2 ** 10  # hàm mũ"
   ]
  },
  {
   "cell_type": "markdown",
   "metadata": {
    "slideshow": {
     "slide_type": "fragment"
    }
   },
   "source": [
    "- Phép chia trong Python có thể tạo ra một kiểu dữ liệu khác so với kiểu ban đầu mong đợi.\n",
    "\n",
    "- Cụ thể, phép chia sử dụng toán tử / sẽ luôn trả về kết quả thuộc kiểu số thực (float), ngay cả khi cả hai toán hạng đều là số nguyên (int).\n",
    "\n",
    "- Điều này giúp đảm bảo độ chính xác trong các phép toán có thể tạo ra giá trị thập phân."
   ]
  },
  {
   "cell_type": "code",
   "execution_count": null,
   "metadata": {
    "slideshow": {
     "slide_type": "fragment"
    }
   },
   "outputs": [],
   "source": [
    "int_2 = 2                    # Gán giá trị 2 cho biến int_2 (kiểu số nguyên - integer)\n",
    "type(int_2)                 # Kiểm tra kiểu dữ liệu của biến int_2 (kết quả: <class 'int'>)\n",
    "int_2 / int_2               # Thực hiện phép chia 2 chia cho 2 (kết quả: 1.0)\n",
    "type(int_2 / int_2)         # Kiểm tra kiểu dữ liệu của kết quả phép chia (kết quả: <class 'float'>)"
   ]
  },
  {
   "cell_type": "markdown",
   "metadata": {
    "slideshow": {
     "slide_type": "subslide"
    }
   },
   "source": [
    "#### Chia lấy phần nguyên và phần dư"
   ]
  },
  {
   "cell_type": "markdown",
   "metadata": {
    "slideshow": {
     "slide_type": "fragment"
    }
   },
   "source": [
    "Toán tử `//` cho phép chúng ta thực hiện phép chia lấy phần nguyên, còn gọi là *floor division*, và giữ nguyên kiểu dữ liệu `int`. Phép toán này luôn làm tròn xuống:"
   ]
  },
  {
   "cell_type": "code",
   "execution_count": null,
   "metadata": {
    "slideshow": {
     "slide_type": "fragment"
    }
   },
   "outputs": [],
   "source": [
    "101 / 2"
   ]
  },
  {
   "cell_type": "code",
   "execution_count": null,
   "metadata": {
    "slideshow": {
     "slide_type": "fragment"
    }
   },
   "outputs": [],
   "source": [
    "101 // 2  # phép chia làm tròn xuống"
   ]
  },
  {
   "cell_type": "markdown",
   "metadata": {
    "slideshow": {
     "slide_type": "fragment"
    }
   },
   "source": [
    "Toán tử `%`, còn được gọi là **modulo**, trả về phần dư sau khi thực hiện phép chia."
   ]
  },
  {
   "cell_type": "code",
   "execution_count": null,
   "metadata": {
    "slideshow": {
     "slide_type": "fragment"
    }
   },
   "outputs": [],
   "source": [
    "101 % 2  # 101 mod 2"
   ]
  },
  {
   "cell_type": "markdown",
   "metadata": {
    "slideshow": {
     "slide_type": "slide"
    }
   },
   "source": [
    "### Biến kiểu chuỗi ký tự"
   ]
  },
  {
   "cell_type": "markdown",
   "metadata": {
    "slideshow": {
     "slide_type": "fragment"
    }
   },
   "source": [
    "Ký tự, **chuỗi ký tự**, hay văn bản được lưu trữ dưới dạng một kiểu biến gọi là chuỗi ký tự, hay `string`. Trong nhiều ngôn ngữ lập trình, chuỗi ký tự còn được gọi **dãy các ký tự**.\n",
    "\n",
    "Để tạo biến dạng chuỗi ký tự, bạn đọc lựa chọn tên biến và gán giá trị kiểu chuỗi ký tự cho biến:"
   ]
  },
  {
   "cell_type": "code",
   "execution_count": null,
   "metadata": {
    "slideshow": {
     "slide_type": "fragment"
    }
   },
   "outputs": [],
   "source": [
    "my_name = \"Trường Công nghệ\""
   ]
  },
  {
   "cell_type": "code",
   "execution_count": null,
   "metadata": {
    "slideshow": {
     "slide_type": "fragment"
    }
   },
   "outputs": [],
   "source": [
    "my_name"
   ]
  },
  {
   "cell_type": "markdown",
   "metadata": {
    "slideshow": {
     "slide_type": "fragment"
    }
   },
   "source": [
    "Nếu chuỗi ký tự chứa dấu ngoặc kép `\"` hoặc dấu nháy đơn `'`, chúng ta có thể sử dụng kết hợp giữa dấu nháy đơn và dấu ngoặc kép để định nghĩa chuỗi một cách linh hoạt:"
   ]
  },
  {
   "cell_type": "code",
   "execution_count": null,
   "metadata": {
    "slideshow": {
     "slide_type": "fragment"
    }
   },
   "outputs": [],
   "source": [
    "quote = 'Paven: \"Cái quý nhất của con người ta là cuộc sống.\"'"
   ]
  },
  {
   "cell_type": "code",
   "execution_count": null,
   "metadata": {
    "slideshow": {
     "slide_type": "fragment"
    }
   },
   "outputs": [],
   "source": [
    "quote"
   ]
  },
  {
   "cell_type": "markdown",
   "metadata": {
    "slideshow": {
     "slide_type": "slide"
    }
   },
   "source": [
    "### Biến kiểu logical"
   ]
  },
  {
   "cell_type": "markdown",
   "metadata": {
    "slideshow": {
     "slide_type": "fragment"
    }
   },
   "source": [
    "Biến kiểu logical, hay được gọi trong Python là kiểu `bool` là biến chỉ có hai giá trị là: `True` và `False`."
   ]
  },
  {
   "cell_type": "code",
   "execution_count": null,
   "metadata": {
    "slideshow": {
     "slide_type": "fragment"
    }
   },
   "outputs": [],
   "source": [
    "the_truth = True\n",
    "type(the_truth)"
   ]
  },
  {
   "cell_type": "markdown",
   "metadata": {
    "slideshow": {
     "slide_type": "subslide"
    }
   },
   "source": [
    "#### Toán tử so sánh"
   ]
  },
  {
   "cell_type": "markdown",
   "metadata": {
    "slideshow": {
     "slide_type": "fragment"
    }
   },
   "source": [
    "Thực tế thì biến kiểu logical được tạo từ kết quả của các toán tử so sánh hơn là được gán trực tiếp từ các giá trị. Chúng ta có thể so sánh các đối tượng trong Python bằng cách sử dụng các **toán tử so sánh**, và kết quả trả về sẽ là một giá trị logical:\n",
    "\n",
    "| Toán tử   | Mô tả                                      |\n",
    "| :-------- | :------------------------------------------ |\n",
    "| `x == y`  | `x` có bằng `y` không?                      |\n",
    "| `x != y`  | `x` có khác `y` không?                      |\n",
    "| `x > y`   | `x` có lớn hơn `y` không?                   |\n",
    "| `x >= y`  | `x` có lớn hơn hoặc bằng `y` không?         |\n",
    "| `x < y`   | `x` có nhỏ hơn `y` không?                   |\n",
    "| `x <= y`  | `x` có nhỏ hơn hoặc bằng `y` không?         |\n",
    "| `x is y`  | `x` có phải là cùng một đối tượng với `y`? |"
   ]
  },
  {
   "cell_type": "code",
   "execution_count": null,
   "metadata": {
    "slideshow": {
     "slide_type": "fragment"
    }
   },
   "outputs": [],
   "source": [
    "2 < 3"
   ]
  },
  {
   "cell_type": "code",
   "execution_count": null,
   "metadata": {
    "slideshow": {
     "slide_type": "fragment"
    }
   },
   "outputs": [],
   "source": [
    "\"AI\" == \"Có thể giải quyết mọi vấn đề\""
   ]
  },
  {
   "cell_type": "markdown",
   "metadata": {
    "slideshow": {
     "slide_type": "subslide"
    }
   },
   "source": [
    "#### Toán tử logic"
   ]
  },
  {
   "cell_type": "markdown",
   "metadata": {
    "slideshow": {
     "slide_type": "fragment"
    }
   },
   "source": [
    "Chúng ta cũng có các **toán tử logical** dùng để kiểm tra điều kiện, và kết quả trả về cũng là `True` hoặc `False`:\n",
    "\n",
    "| Toán tử    | Mô tả                                               |\n",
    "|:---------:|:-----------------------------------------------------|\n",
    "| `x and y` | Cả `x` và `y` đều đúng (`True`) hay không?           |\n",
    "| `x or y`  | Có ít nhất một trong hai giá trị `x` hoặc `y` đúng? |\n",
    "| `not x`   | `x` có sai (`False`) hay không?                      |"
   ]
  },
  {
   "cell_type": "code",
   "execution_count": null,
   "metadata": {
    "slideshow": {
     "slide_type": "fragment"
    }
   },
   "outputs": [],
   "source": [
    "True and True"
   ]
  },
  {
   "cell_type": "code",
   "execution_count": null,
   "metadata": {
    "slideshow": {
     "slide_type": "fragment"
    }
   },
   "outputs": [],
   "source": [
    "(\"Python 2\" != \"Python 3\") and (2 <= 3)"
   ]
  },
  {
   "cell_type": "code",
   "execution_count": null,
   "metadata": {
    "slideshow": {
     "slide_type": "fragment"
    }
   },
   "outputs": [],
   "source": [
    "not True"
   ]
  },
  {
   "cell_type": "markdown",
   "metadata": {
    "slideshow": {
     "slide_type": "subslide"
    }
   },
   "source": [
    "#### Chuyển đổi kiểu dữ liệu"
   ]
  },
  {
   "cell_type": "markdown",
   "metadata": {
    "slideshow": {
     "slide_type": "fragment"
    }
   },
   "source": [
    "Đôi khi chúng ta cần đổi kiểu biến, hay **cast**, một giá trị từ kiểu biến này sang kiểu biến khác một cách tường minh. Điều này có thể thực hiện bằng cách sử dụng các hàm như `str()`, `int()`, và `float()`. Python sẽ cố gắng thực hiện việc chuyển đổi; nếu không thể, kết quả sẽ được trả về là một thông báo lỗi."
   ]
  },
  {
   "cell_type": "code",
   "execution_count": null,
   "metadata": {
    "slideshow": {
     "slide_type": "fragment"
    }
   },
   "outputs": [],
   "source": [
    "x = str(5.0)\n",
    "x"
   ]
  },
  {
   "cell_type": "code",
   "execution_count": null,
   "metadata": {
    "slideshow": {
     "slide_type": "fragment"
    }
   },
   "outputs": [],
   "source": [
    "type(x)"
   ]
  },
  {
   "cell_type": "code",
   "execution_count": null,
   "metadata": {
    "slideshow": {
     "slide_type": "fragment"
    }
   },
   "outputs": [],
   "source": [
    "#float(\"Trường Công nghệ\") # Gây ra lỗi"
   ]
  },
  {
   "cell_type": "markdown",
   "metadata": {
    "slideshow": {
     "slide_type": "slide"
    }
   },
   "source": [
    "## Cấu trúc dữ liệu tuần tự"
   ]
  },
  {
   "cell_type": "markdown",
   "metadata": {
    "slideshow": {
     "slide_type": "subslide"
    }
   },
   "source": [
    "### List và tuple"
   ]
  },
  {
   "cell_type": "markdown",
   "metadata": {
    "slideshow": {
     "slide_type": "fragment"
    }
   },
   "source": [
    "`List` và `tuple` là các đối tượng của Python cho phép chúng ta lưu trữ nhiều giá trị. Các đối tượng này lưu phần tử theo thứ tự, hay **ordered**.\n",
    "\n",
    "Trước tiên, chúng ta sẽ bắt đầu với `list`. `List` được khởi tạo bằng **dấu ngoặc vuông** `[]`:"
   ]
  },
  {
   "cell_type": "code",
   "execution_count": null,
   "metadata": {
    "slideshow": {
     "slide_type": "fragment"
    }
   },
   "outputs": [],
   "source": [
    "my_list = [1, 2, \"ba\", 4, 0.5]"
   ]
  },
  {
   "cell_type": "code",
   "execution_count": null,
   "metadata": {
    "slideshow": {
     "slide_type": "fragment"
    }
   },
   "outputs": [],
   "source": [
    "my_list"
   ]
  },
  {
   "cell_type": "markdown",
   "metadata": {
    "slideshow": {
     "slide_type": "fragment"
    }
   },
   "source": [
    "`List` là kiểu đối tượng có thể chứa bất kỳ kiểu dữ liệu nào — thậm chí là cả những `list` khác!"
   ]
  },
  {
   "cell_type": "code",
   "execution_count": null,
   "metadata": {
    "slideshow": {
     "slide_type": "fragment"
    }
   },
   "outputs": [],
   "source": [
    "another_list = [1, \"hai\", [3, 4, \"năm\"], True, None, {\"key\": \"value\"}]\n",
    "another_list"
   ]
  },
  {
   "cell_type": "markdown",
   "metadata": {
    "slideshow": {
     "slide_type": "fragment"
    }
   },
   "source": [
    "Tương tự như `list`, đối tượng `Tuple` cũng lưu được nhiều phần tử ở nhiều kiểu khác nhau theo thứ tự. `Tuple` được định nghĩa bằng cách sử dụng **dấu ngoặc tròn** `()`:"
   ]
  },
  {
   "cell_type": "code",
   "execution_count": null,
   "metadata": {
    "slideshow": {
     "slide_type": "fragment"
    }
   },
   "outputs": [],
   "source": [
    "today = (1, 2, \"ba\", 4, 0.5)\n",
    "today"
   ]
  },
  {
   "cell_type": "markdown",
   "metadata": {
    "slideshow": {
     "slide_type": "subslide"
    }
   },
   "source": [
    "#### Truy cập phần tử (Indexing & Slicing)"
   ]
  },
  {
   "cell_type": "markdown",
   "metadata": {
    "slideshow": {
     "slide_type": "fragment"
    }
   },
   "source": [
    "Chúng ta có thể truy cập các giá trị bên trong một `list`, `tuple` hoặc `string` bằng cú pháp dấu ngoặc vuông `[]`. Python sử dụng **đánh chỉ số bắt đầu từ 0**."
   ]
  },
  {
   "cell_type": "code",
   "execution_count": null,
   "metadata": {
    "slideshow": {
     "slide_type": "fragment"
    }
   },
   "outputs": [],
   "source": [
    "my_list[0]"
   ]
  },
  {
   "cell_type": "code",
   "execution_count": null,
   "metadata": {
    "slideshow": {
     "slide_type": "fragment"
    }
   },
   "outputs": [],
   "source": [
    "my_list[2]"
   ]
  },
  {
   "cell_type": "markdown",
   "metadata": {
    "slideshow": {
     "slide_type": "fragment"
    }
   },
   "source": [
    "Đặc biệt trong Python, chúng ta có thể sử dụng **chỉ số âm** để đếm ngược từ cuối danh sách. `-1` là phần tử cuối cùng."
   ]
  },
  {
   "cell_type": "code",
   "execution_count": null,
   "metadata": {
    "slideshow": {
     "slide_type": "fragment"
    }
   },
   "outputs": [],
   "source": [
    "my_list[-1]"
   ]
  },
  {
   "cell_type": "markdown",
   "metadata": {
    "slideshow": {
     "slide_type": "fragment"
    }
   },
   "source": [
    "Chúng ta có thể sử dụng dấu hai chấm `:` để truy cập một phần con của dãy. Cách làm này được gọi là **cắt lát** hay **slicing**."
   ]
  },
  {
   "cell_type": "code",
   "execution_count": null,
   "metadata": {
    "slideshow": {
     "slide_type": "fragment"
    }
   },
   "outputs": [],
   "source": [
    "my_list[1:3]"
   ]
  },
  {
   "cell_type": "markdown",
   "metadata": {
    "slideshow": {
     "slide_type": "subslide"
    }
   },
   "source": [
    "### Tập hợp"
   ]
  },
  {
   "cell_type": "markdown",
   "metadata": {
    "slideshow": {
     "slide_type": "fragment"
    }
   },
   "source": [
    "Một kiểu dữ liệu có sẵn khác trong Python là `set`, dùng để lưu trữ một danh sách các phần tử **không có thứ tự** và các phần tử trong tập hợp phải là **duy nhất**.\n",
    "\n",
    "Do không có thứ tự, `set` không hỗ trợ indexing. Tập hợp được khởi tạo bằng cách sử dụng dấu ngoặc nhọn `{}`"
   ]
  },
  {
   "cell_type": "code",
   "execution_count": null,
   "metadata": {
    "slideshow": {
     "slide_type": "fragment"
    }
   },
   "outputs": [],
   "source": [
    "s = {2, 3, 5, 11}\n",
    "s"
   ]
  },
  {
   "cell_type": "code",
   "execution_count": null,
   "metadata": {
    "slideshow": {
     "slide_type": "fragment"
    }
   },
   "outputs": [],
   "source": [
    "{1, 2, 3} == {3, 2, 1}"
   ]
  },
  {
   "cell_type": "code",
   "execution_count": null,
   "metadata": {
    "slideshow": {
     "slide_type": "fragment"
    }
   },
   "outputs": [],
   "source": [
    "[1, 2, 3] == [3, 2, 1]"
   ]
  },
  {
   "cell_type": "markdown",
   "metadata": {
    "slideshow": {
     "slide_type": "slide"
    }
   },
   "source": [
    "### Tính bất biến"
   ]
  },
  {
   "cell_type": "markdown",
   "metadata": {
    "slideshow": {
     "slide_type": "fragment"
    }
   },
   "source": [
    "`String` và `tuple` là các kiểu dữ liệu **không thể thay đổi** (immutable), một khi đã được tạo ra, chúng không thể bị sửa đổi.\n",
    "\n",
    "Ngược lại, `list` là kiểu dữ liệu **có thể thay đổi** (mutable), vì vậy chúng ta có thể gán lại giá trị mới cho các phần tử trong `list`.\n",
    "\n",
    "Đây chính là sự khác biệt quan trọng nhất giữa `list` và `tuple`."
   ]
  },
  {
   "cell_type": "code",
   "execution_count": null,
   "metadata": {
    "slideshow": {
     "slide_type": "fragment"
    }
   },
   "outputs": [],
   "source": [
    "names_list = [\"Nam Định\", \"Hà Nam\", \"Ninh Bình\"]\n",
    "names_list[0] = \"Thiên Trường\"\n",
    "names_list"
   ]
  },
  {
   "cell_type": "code",
   "execution_count": null,
   "metadata": {
    "slideshow": {
     "slide_type": "fragment"
    }
   },
   "outputs": [],
   "source": [
    "names_tuple = (\"Nam Định\", \"Hà Nam\", \"Ninh Bình\")\n",
    "#names_tuple[0] = \"Thiên Trường\" # Sẽ báo lỗi"
   ]
  },
  {
   "cell_type": "markdown",
   "metadata": {
    "slideshow": {
     "slide_type": "slide"
    }
   },
   "source": [
    "## Phương thức chuỗi, từ điển và cấu trúc điều kiện"
   ]
  },
  {
   "cell_type": "markdown",
   "metadata": {
    "slideshow": {
     "slide_type": "subslide"
    }
   },
   "source": [
    "### Các phương thức của chuỗi"
   ]
  },
  {
   "cell_type": "markdown",
   "metadata": {
    "slideshow": {
     "slide_type": "fragment"
    }
   },
   "source": [
    "Trong Python, chuỗi ký tự có nhiều **phương thức tích hợp sẵn** để thao tác với dữ liệu văn bản. Các phương thức này được gọi bằng cú pháp dấu chấm, ví dụ: `my_string.method_name()`.\n",
    "\n",
    "| Phương thức        | Mô tả                                                        | Ví dụ                          |\n",
    "|--------------------|--------------------------------------------------------------|--------------------------------|\n",
    "| `lower()`          | Chuyển tất cả ký tự thành chữ thường                         | `\"Hello\".lower()` → `'hello'` |\n",
    "| `upper()`          | Chuyển tất cả ký tự thành chữ hoa                            | `\"abc\".upper()` → `'ABC'`     |\n",
    "| `strip()`          | Loại bỏ khoảng trắng đầu và cuối chuỗi                      | `\" hello \".strip()` → `'hello'`|\n",
    "| `replace(a, b)`    | Thay tất cả `a` bằng `b`                                     | `\"cat\".replace(\"c\", \"b\")` → `'bat'` |\n",
    "| `split()`          | Tách chuỗi thành danh sách dựa trên khoảng trắng | `\"a b c\".split()` → `['a', 'b', 'c']` |\n",
    "| `join(list)`       | Ghép danh sách chuỗi thành một chuỗi, dùng ký tự nối         | `\" \".join(['a', 'b'])` → `'a b'` |\n"
   ]
  },
  {
   "cell_type": "code",
   "execution_count": null,
   "metadata": {
    "slideshow": {
     "slide_type": "fragment"
    }
   },
   "outputs": [],
   "source": [
    "all_caps = \"XIN CHÀO NEUTECH?\"\n",
    "new_str = all_caps.lower()\n",
    "new_str"
   ]
  },
  {
   "cell_type": "markdown",
   "metadata": {
    "slideshow": {
     "slide_type": "fragment"
    }
   },
   "source": [
    "Lưu ý rằng phương thức `lower()` không thay đổi chuỗi ban đầu, mà thay vào đó **trả về một chuỗi mới**. Nhắc lại rằng chuỗi trong Python là kiểu **bất biến**."
   ]
  },
  {
   "cell_type": "code",
   "execution_count": null,
   "metadata": {
    "slideshow": {
     "slide_type": "fragment"
    }
   },
   "outputs": [],
   "source": [
    "all_caps.split()"
   ]
  },
  {
   "cell_type": "markdown",
   "metadata": {
    "slideshow": {
     "slide_type": "subslide"
    }
   },
   "source": [
    "#### Định dạng chuỗi (f-strings)"
   ]
  },
  {
   "cell_type": "markdown",
   "metadata": {
    "slideshow": {
     "slide_type": "fragment"
    }
   },
   "source": [
    "Phương pháp được khuyến nghị sử dụng để định dạng chuỗi là **f-strings**. Với f-strings, bạn đọc chỉ cần thêm chữ cái `f` ở đầu chuỗi, và chèn biến trực tiếp vào trong **ngoặc nhọn `{}`**."
   ]
  },
  {
   "cell_type": "code",
   "execution_count": null,
   "metadata": {
    "slideshow": {
     "slide_type": "fragment"
    }
   },
   "outputs": [],
   "source": [
    "name = \"NeuTech\"\n",
    "age = 16/12\n",
    "day = 16\n",
    "month = 12\n",
    "year = 2023\n",
    "template_new = f\"Xin chào, tôi là {name}. Tôi {age:.2f} tuổi. Tôi sinh ngày {day}/{month:02}/{year}.\"\n",
    "template_new"
   ]
  },
  {
   "cell_type": "markdown",
   "metadata": {
    "slideshow": {
     "slide_type": "slide"
    }
   },
   "source": [
    "### Từ điển"
   ]
  },
  {
   "cell_type": "markdown",
   "metadata": {
    "slideshow": {
     "slide_type": "fragment"
    }
   },
   "source": [
    "Một từ điển, hay **dictionary**, là một cấu trúc ánh xạ giữa các **cặp khóa–giá trị** và được định nghĩa bằng dấu ngoặc nhọn `{}`."
   ]
  },
  {
   "cell_type": "code",
   "execution_count": null,
   "metadata": {
    "slideshow": {
     "slide_type": "fragment"
    }
   },
   "outputs": [],
   "source": [
    "house = {\n",
    "    \"Phòng ngủ\": 5,\n",
    "    \"Phòng vệ sinh\": 5,\n",
    "    \"Thành phố\": \"Hà Nội\",\n",
    "    \"Giá\": \"15 tỷ\",\n",
    "    \"Ngày bán\": (1, 3, 2025),\n",
    "}"
   ]
  },
  {
   "cell_type": "markdown",
   "metadata": {
    "slideshow": {
     "slide_type": "fragment"
    }
   },
   "source": [
    "Chúng ta có thể truy cập một trường cụ thể trong `dictionary` bằng cách sử dụng **dấu ngoặc vuông `[]`**, với **tên khóa** bên trong."
   ]
  },
  {
   "cell_type": "code",
   "execution_count": null,
   "metadata": {
    "slideshow": {
     "slide_type": "fragment"
    }
   },
   "outputs": [],
   "source": [
    "house[\"Giá\"]"
   ]
  },
  {
   "cell_type": "markdown",
   "metadata": {
    "slideshow": {
     "slide_type": "fragment"
    }
   },
   "source": [
    "Chúng ta cũng có thể chỉnh sửa từ điển vì đây là kiểu dữ liệu **có thể thay đổi**."
   ]
  },
  {
   "cell_type": "code",
   "execution_count": null,
   "metadata": {
    "slideshow": {
     "slide_type": "fragment"
    }
   },
   "outputs": [],
   "source": [
    "house[\"Giá\"] = \"16 tỷ\"  # Sửa giá trị của key đã có\n",
    "house[\"Sàn nhà\"] = \"Gạch\" # Thêm cặp key-value mới\n",
    "house"
   ]
  },
  {
   "cell_type": "markdown",
   "metadata": {
    "slideshow": {
     "slide_type": "slide"
    }
   },
   "source": [
    "### Câu lệnh điều kiện"
   ]
  },
  {
   "cell_type": "markdown",
   "metadata": {
    "slideshow": {
     "slide_type": "fragment"
    }
   },
   "source": [
    "[**Câu lệnh điều kiện**](https://docs.python.org/3/tutorial/controlflow.html) cho phép chúng ta viết các chương trình mà trong đó chỉ những khối câu lệnh nhất định được thực thi, tùy thuộc vào trạng thái hiện tại của chương trình.\n",
    "\n",
    "Chú ý đến các **từ khóa**, **cú pháp**, và **cách thụt đầu dòng (indentation)**."
   ]
  },
  {
   "cell_type": "code",
   "execution_count": null,
   "metadata": {
    "slideshow": {
     "slide_type": "fragment"
    }
   },
   "outputs": [],
   "source": [
    "name = \"NeuTech\"\n",
    "\n",
    "if name.lower() == \"neutech\":\n",
    "    print(\"That's my name too!\")\n",
    "elif name.lower() == \"santa\":\n",
    "    print(\"That's a funny name.\")\n",
    "else:\n",
    "    print(f\"Hello {name}! That's a cool name!\")\n",
    "print(\"Nice to meet you!\")"
   ]
  },
  {
   "cell_type": "markdown",
   "metadata": {
    "slideshow": {
     "slide_type": "subslide"
    }
   },
   "source": [
    "#### Những điểm cần lưu ý với `if/elif/else`:\n",
    "\n",
    "- Sử dụng các từ khóa `if`, `elif` và `else`.\n",
    "- Dấu hai chấm `:` kết thúc mỗi biểu thức điều kiện.\n",
    "- Thụt đầu dòng (4 dấu cách) để xác định khối lệnh.\n",
    "- Trong một câu lệnh `if`, khối lệnh đầu tiên có điều kiện `True` sẽ được thực thi.\n",
    "- `else` sẽ thực hiện một khối mặc định nếu tất cả các điều kiện khác đều `False`."
   ]
  },
  {
   "cell_type": "markdown",
   "metadata": {
    "slideshow": {
     "slide_type": "subslide"
    }
   },
   "source": [
    "#### Câu lệnh `if` lồng nhau và `if` một dòng"
   ]
  },
  {
   "cell_type": "code",
   "execution_count": null,
   "metadata": {
    "slideshow": {
     "slide_type": "fragment"
    }
   },
   "outputs": [],
   "source": [
    "name = \"Super NeuTech\"\n",
    "\n",
    "if name.lower().startswith(\"super\"):\n",
    "    print(\"Bạn có một cái tên thật ngầu!\")\n",
    "    if len(name) > 10:\n",
    "        print(\"Tên của bạn cũng dài nữa!\")"
   ]
  },
  {
   "cell_type": "code",
   "execution_count": null,
   "metadata": {
    "slideshow": {
     "slide_type": "fragment"
    }
   },
   "outputs": [],
   "source": [
    "words = [\"the\", \"list\", \"of\", \"words\"]\n",
    "\n",
    "# Viết if/else trên một dòng\n",
    "x = \"long list\" if len(words) > 10 else \"short list\"\n",
    "x"
   ]
  },
  {
   "cell_type": "markdown",
   "metadata": {
    "slideshow": {
     "slide_type": "slide"
    }
   },
   "source": [
    "## Viết vòng lặp"
   ]
  },
  {
   "cell_type": "markdown",
   "metadata": {
    "slideshow": {
     "slide_type": "subslide"
    }
   },
   "source": [
    "### Vòng lặp `for`"
   ]
  },
  {
   "cell_type": "markdown",
   "metadata": {
    "slideshow": {
     "slide_type": "fragment"
    }
   },
   "source": [
    "Vòng lặp `for` trong Python được sử dụng để thực thi một đoạn code lặp lại nhiều lần trên một đối tượng có thể lặp (danh sách, chuỗi, ...)."
   ]
  },
  {
   "cell_type": "code",
   "execution_count": null,
   "metadata": {
    "slideshow": {
     "slide_type": "fragment"
    }
   },
   "outputs": [],
   "source": [
    "for n in [1, 3, -1, 5]:\n",
    "    print(f\"Số được chọn là {n} và bình phương của nó là {n**2}\")\n",
    "print(\"Kết thúc vòng lặp\")"
   ]
  },
  {
   "cell_type": "markdown",
   "metadata": {
    "slideshow": {
     "slide_type": "fragment"
    }
   },
   "source": [
    "Có thể lặp qua bất kỳ đối tượng nào là **iterable**, bao gồm: `list`, `tuple`, `range`, `set`, `string`."
   ]
  },
  {
   "cell_type": "code",
   "execution_count": null,
   "metadata": {
    "slideshow": {
     "slide_type": "fragment"
    }
   },
   "outputs": [],
   "source": [
    "word = \"Trường Công nghệ\"\n",
    "for letter in word:\n",
    "    print(\"Ký tự hiện tại là: \" + letter)"
   ]
  },
  {
   "cell_type": "markdown",
   "metadata": {
    "slideshow": {
     "slide_type": "subslide"
    }
   },
   "source": [
    "#### Vòng lặp `for` với `range()`, `zip()` và `enumerate()`"
   ]
  },
  {
   "cell_type": "code",
   "execution_count": null,
   "metadata": {
    "slideshow": {
     "slide_type": "fragment"
    }
   },
   "outputs": [],
   "source": [
    "# range() tạo ra một dãy số nguyên tuần tự\n",
    "for i in range(5):\n",
    "    print(i)"
   ]
  },
  {
   "cell_type": "code",
   "execution_count": null,
   "metadata": {
    "slideshow": {
     "slide_type": "fragment"
    }
   },
   "outputs": [],
   "source": [
    "list_1 = [0, 1, 2]\n",
    "list_2 = [\"a\", \"b\", \"c\"]\n",
    "\n",
    "# zip() kết hợp các phần tử từ nhiều list\n",
    "for i, j in zip(list_1, list_2):\n",
    "    print(i, j)"
   ]
  },
  {
   "cell_type": "code",
   "execution_count": null,
   "metadata": {
    "slideshow": {
     "slide_type": "fragment"
    }
   },
   "outputs": [],
   "source": [
    "# enumerate() thêm một bộ đếm vào đối tượng lặp\n",
    "for n, i in enumerate(list_2):\n",
    "    print(f\"index {n}, value {i}\")"
   ]
  },
  {
   "cell_type": "markdown",
   "metadata": {
    "slideshow": {
     "slide_type": "subslide"
    }
   },
   "source": [
    "### Vòng lặp `while`"
   ]
  },
  {
   "cell_type": "markdown",
   "metadata": {
    "slideshow": {
     "slide_type": "fragment"
    }
   },
   "source": [
    "Vòng lặp `while` thực thi một khối lệnh lặp đi lặp lại miễn là biểu thức điều kiện còn đúng (`True`)."
   ]
  },
  {
   "cell_type": "code",
   "execution_count": null,
   "metadata": {
    "slideshow": {
     "slide_type": "fragment"
    }
   },
   "outputs": [],
   "source": [
    "n = 5\n",
    "while n > 0:\n",
    "    print(n)\n",
    "    n -= 1\n",
    "print(\"Done!\")"
   ]
  },
  {
   "cell_type": "markdown",
   "metadata": {
    "slideshow": {
     "slide_type": "subslide"
    }
   },
   "source": [
    "### Tạo danh sách rút gọn (List Comprehension)"
   ]
  },
  {
   "cell_type": "markdown",
   "metadata": {
    "slideshow": {
     "slide_type": "fragment"
    }
   },
   "source": [
    "**Tạo danh sách rút gọn** cho phép chúng ta khởi tạo `list`, `set`, `dictionary` trong một dòng lệnh một cách tiện lợi, nhỏ gọn."
   ]
  },
  {
   "cell_type": "code",
   "execution_count": null,
   "metadata": {
    "slideshow": {
     "slide_type": "fragment"
    }
   },
   "outputs": [],
   "source": [
    "mylist = ['Trường', 'Công', 'nghệ', 'là', 'đơn', 'vị']\n",
    "\n",
    "# Cách thông thường\n",
    "first_letters = []\n",
    "for word in mylist:\n",
    "    first_letters.append(word[0])"
   ]
  },
  {
   "cell_type": "code",
   "execution_count": null,
   "metadata": {
    "slideshow": {
     "slide_type": "fragment"
    }
   },
   "outputs": [],
   "source": [
    "# Sử dụng list comprehension\n",
    "first_letters_comp = [word[0] for word in mylist]\n",
    "first_letters_comp"
   ]
  },
  {
   "cell_type": "code",
   "execution_count": null,
   "metadata": {
    "slideshow": {
     "slide_type": "fragment"
    }
   },
   "outputs": [],
   "source": [
    "# List comprehension với điều kiện\n",
    "[i for i in range(11) if i % 2 == 0]  # Chỉ lấy số chẵn"
   ]
  },
  {
   "cell_type": "markdown",
   "metadata": {
    "slideshow": {
     "slide_type": "slide"
    }
   },
   "source": [
    "## Viết hàm"
   ]
  },
  {
   "cell_type": "markdown",
   "metadata": {
    "slideshow": {
     "slide_type": "fragment"
    }
   },
   "source": [
    "Một [hàm](https://docs.python.org/3/tutorial/controlflow.html#defining-functions) là một đoạn câu lệnh được viết để tái sử dụng, có thể chấp nhận các tham số đầu vào.\n",
    "\n",
    "Hàm bắt đầu bằng từ khóa `def`, sau đó là tên hàm, các tham số trong dấu ngoặc đơn, và sau đó là dấu hai chấm (`:`). Giá trị trả về của hàm được chỉ định bằng từ khóa `return`."
   ]
  },
  {
   "cell_type": "code",
   "execution_count": null,
   "metadata": {
    "slideshow": {
     "slide_type": "fragment"
    }
   },
   "outputs": [],
   "source": [
    "def square(n):\n",
    "    n_squared = n**2\n",
    "    return n_squared"
   ]
  },
  {
   "cell_type": "code",
   "execution_count": null,
   "metadata": {
    "slideshow": {
     "slide_type": "fragment"
    }
   },
   "outputs": [],
   "source": [
    "square(100)"
   ]
  },
  {
   "cell_type": "markdown",
   "metadata": {
    "slideshow": {
     "slide_type": "subslide"
    }
   },
   "source": [
    "### Tham số tùy chọn và bắt buộc"
   ]
  },
  {
   "cell_type": "markdown",
   "metadata": {
    "slideshow": {
     "slide_type": "fragment"
    }
   },
   "source": [
    "Chúng ta có thể gán *giá trị mặc định* cho một số tham số, biến chúng thành \"tham số tùy chọn\".\n",
    "\n",
    "- Tất cả các tham số tùy chọn phải đứng sau các tham số bắt buộc."
   ]
  },
  {
   "cell_type": "code",
   "execution_count": null,
   "metadata": {
    "slideshow": {
     "slide_type": "fragment"
    }
   },
   "outputs": [],
   "source": [
    "def repeat_string(s, n=2): # n là tham số tùy chọn với giá trị mặc định là 2\n",
    "    return s*n"
   ]
  },
  {
   "cell_type": "code",
   "execution_count": null,
   "metadata": {
    "slideshow": {
     "slide_type": "fragment"
    }
   },
   "outputs": [],
   "source": [
    "repeat_string(\"Hello \") # Sử dụng giá trị mặc định của n"
   ]
  },
  {
   "cell_type": "code",
   "execution_count": null,
   "metadata": {
    "slideshow": {
     "slide_type": "fragment"
    }
   },
   "outputs": [],
   "source": [
    "repeat_string(\"Hello \", 3) # Truyền giá trị mới cho n"
   ]
  },
  {
   "cell_type": "markdown",
   "metadata": {
    "slideshow": {
     "slide_type": "subslide"
    }
   },
   "source": [
    "### Hàm trả về nhiều giá trị"
   ]
  },
  {
   "cell_type": "markdown",
   "metadata": {
    "slideshow": {
     "slide_type": "fragment"
    }
   },
   "source": [
    "Về mặt kỹ thuật, hàm trong Python chỉ trả về một đối tượng. Tuy nhiên, ta có thể thiết kế hàm trả về một `tuple` để chứa nhiều giá trị."
   ]
  },
  {
   "cell_type": "code",
   "execution_count": null,
   "metadata": {
    "slideshow": {
     "slide_type": "fragment"
    }
   },
   "outputs": [],
   "source": [
    "def sum_and_product(x, y):\n",
    "    return (x + y, x * y)"
   ]
  },
  {
   "cell_type": "code",
   "execution_count": null,
   "metadata": {
    "slideshow": {
     "slide_type": "fragment"
    }
   },
   "outputs": [],
   "source": [
    "s, p = sum_and_product(5, 6)\n",
    "print(f\"Tổng là: {s}\")\n",
    "print(f\"Tích là: {p}\")"
   ]
  },
  {
   "cell_type": "markdown",
   "metadata": {
    "slideshow": {
     "slide_type": "subslide"
    }
   },
   "source": [
    "### Hàm ẩn"
   ]
  },
  {
   "cell_type": "markdown",
   "metadata": {
    "slideshow": {
     "slide_type": "fragment"
    }
   },
   "source": [
    "Một cách khác để khai báo hàm (đặc biệt là các hàm đơn giản) là sử dụng từ khóa `lambda`."
   ]
  },
  {
   "cell_type": "code",
   "execution_count": null,
   "metadata": {
    "slideshow": {
     "slide_type": "fragment"
    }
   },
   "outputs": [],
   "source": [
    "# Dùng def\n",
    "def add_one_def(x):\n",
    "    return x+1\n",
    "\n",
    "# Dùng lambda\n",
    "add_one_lambda = lambda x: x+1\n",
    "\n",
    "print(add_one_def(5))\n",
    "print(add_one_lambda(5))"
   ]
  },
  {
   "cell_type": "markdown",
   "metadata": {
    "slideshow": {
     "slide_type": "slide"
    }
   },
   "source": [
    "## Kết thúc chương\n",
    "\n",
    "Trong chương này, chúng ta đã được giới thiệu tương đối đầy đủ về kiến thức nền tảng của ngôn ngữ Python.\n",
    "\n",
    "Các chương tiếp theo sẽ thảo luận về các thư viện quan trọng của Python trong xử lý và phân tích dữ liệu, bao gồm `numpy`, `pandas`, và `matplotlib`."
   ]
  }
 ],
 "metadata": {
  "kernelspec": {
   "display_name": "Python 3 (ipykernel)",
   "language": "python",
   "name": "python3"
  },
  "language_info": {
   "codemirror_mode": {
    "name": "ipython",
    "version": 3
   },
   "file_extension": ".py",
   "mimetype": "text/x-python",
   "name": "python",
   "nbconvert_exporter": "python",
   "pygments_lexer": "ipython3",
   "version": "3.13.2"
  }
 },
 "nbformat": 4,
 "nbformat_minor": 4
}
