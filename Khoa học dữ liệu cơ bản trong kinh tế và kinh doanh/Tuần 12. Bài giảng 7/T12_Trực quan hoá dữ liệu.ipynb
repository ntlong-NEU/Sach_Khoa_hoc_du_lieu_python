{
  "cells": [
    {
      "cell_type": "markdown",
      "id": "8eb47eb1-9b87-4b99-ae9a-34f0921e7c74",
      "metadata": {
        "id": "8eb47eb1-9b87-4b99-ae9a-34f0921e7c74"
      },
      "source": [
        "![](../docs/banner.png)"
      ]
    },
    {
      "cell_type": "markdown",
      "id": "92ac13cd-f5f6-4db2-9c0a-6e37b6230be6",
      "metadata": {
        "id": "92ac13cd-f5f6-4db2-9c0a-6e37b6230be6"
      },
      "source": [
        "# Trực quan hóa dữ liệu\n",
        "<hr>"
      ]
    },
    {
      "cell_type": "markdown",
      "id": "2cead763",
      "metadata": {
        "id": "2cead763"
      },
      "source": [
        "Việc tạo ra các hình ảnh trực quan chứa đựng thông tin, thường được gọi là đồ thị, là một trong những nhiệm vụ quan trọng nhất trong phân tích dữ liệu. Trực quan hóa có thể đóng vai trò là một phần của quá trình khám phá dữ liệu – ví dụ, nhằm xác định các điểm ngoại lai hoặc gợi ý những phép biến đổi cần thiết cho dữ liệu đầu vào, hoặc đơn giản là nhằm tìm kiếm ý tưởng cho việc xây dựng mô hình phân tích. Trong một số tình huống khác, mục tiêu cuối cùng có thể là xây dựng một hình ảnh trực quan có tính tương tác để trình bày trên nền tảng web.\n",
        "\n",
        "Python cung cấp nhiều thư viện hỗ trợ trực quan hóa dữ liệu, cả dưới dạng biểu đồ tĩnh lẫn biểu đồ động. Tuy nhiên, trong phạm vi cuốn sách này, chúng ta sẽ tập trung chủ yếu vào thư viện `matplotlib` và các thư viện được xây dựng trên nền tảng của nó.\n",
        "\n",
        "**matplotlib** là một thư viện phần mềm vẽ đồ thị trên máy tính để bàn, được thiết kế để tạo ra các biểu đồ chất lượng cao phù hợp cho việc công bố và in ấn. Dự án này được khởi xướng bởi John Hunter vào năm 2002 với mục tiêu xây dựng một giao diện vẽ đồ thị tương tự như MATLAB trong ngôn ngữ Python. Nhờ sự hợp tác chặt chẽ giữa cộng đồng phát triển matplotlib và IPython, việc tạo ra các biểu đồ tương tác từ môi trường IPython shell, và hiện nay là Jupyter notebook, đã trở nên dễ dàng hơn rất nhiều.\n",
        "\n",
        "matplotlib hỗ trợ nhiều giao diện người dùng trên tất cả các hệ điều hành chính, và cho phép xuất đồ thị sang nhiều định dạng đồ họa phổ biến, cả dạng vector và raster, bao gồm: PDF, SVG, JPG, PNG, BMP, GIF, v.v.. Ngoại trừ một số sơ đồ minh họa đặc biệt, hầu hết các biểu đồ trong cuốn sách này đều được tạo bằng matplotlib.\n",
        "\n",
        "Theo thời gian, matplotlib đã trở thành nền tảng cho nhiều thư viện bổ trợ khác nhằm mở rộng khả năng trực quan hóa. Một trong những thư viện nổi bật đó là `seaborn`, mà chúng ta sẽ khám phá trong phần sau của chương này.\n",
        "\n",
        "Cách đơn giản nhất để theo dõi các ví dụ minh họa trong chương là hiển thị đồ thị ngay trong Jupyter notebook. Để thực hiện điều đó, hãy chạy lệnh sau trong một ô của notebook:"
      ]
    },
    {
      "cell_type": "code",
      "execution_count": null,
      "id": "85cfb9f9",
      "metadata": {
        "id": "85cfb9f9"
      },
      "outputs": [],
      "source": [
        "%matplotlib inline"
      ]
    },
    {
      "cell_type": "markdown",
      "id": "81309fa3",
      "metadata": {
        "id": "81309fa3"
      },
      "source": [
        "**Lưu ý**\n",
        "\n",
        "Nhiều thư viện trực quan hóa dữ liệu tận dụng công nghệ web hiện đại để tạo ra các hình ảnh trực quan tương tác tích hợp tốt với Jupyter notebook. Thay vì sử dụng nhiều công cụ trực quan hóa trong cuốn sách này, chúng tôi quyết định gắn bó với matplotlib để dạy các nguyên tắc cơ bản, đặc biệt là vì pandas có tích hợp tốt với matplotlib. Bạn cũng có thể điều chỉnh các nguyên tắc từ chương này để học cách sử dụng các thư viện trực quan hóa khác."
      ]
    },
    {
      "cell_type": "markdown",
      "id": "3c614018-5569-4364-af9e-219e79c2dade",
      "metadata": {
        "id": "3c614018-5569-4364-af9e-219e79c2dade"
      },
      "source": [
        "# Giới thiệu và vai trò của trực quan hóa\n",
        "<hr>"
      ]
    },
    {
      "cell_type": "markdown",
      "id": "9f823e96",
      "metadata": {
        "id": "9f823e96"
      },
      "source": [
        "Trực quan hóa dữ liệu là quá trình chuyển đổi dữ liệu số và thông tin trừu tượng thành hình ảnh (biểu đồ, đồ thị, bản đồ, sơ đồ…) để con người nhìn–hiểu–ra quyết định nhanh hơn. Thay vì yêu cầu người đọc ghi nhớ và so sánh nhiều con số, trực quan hóa tận dụng khả năng nhận dạng hình mẫu của mắt và não để làm lộ ra cấu trúc, xu hướng và quan hệ trong dữ liệu. Theo tinh thần của Fundamentals of Data Visualization (Claus O. Wilke), trực quan hóa đóng vai trò cây cầu giữa dữ liệu thô và tri thức: nó không chỉ làm đẹp, mà chủ yếu là làm rõ và làm đúng thông tin.\n",
        "\n",
        "![](https://raw.githubusercontent.com/toantran249/NEU_KHDL/6c436952736e736ff2357efdeac9d3406dcf27ff/cover.png)"
      ]
    },
    {
      "cell_type": "markdown",
      "id": "780bbdd7-5e42-4c3c-8ac6-2d826c06237b",
      "metadata": {
        "id": "780bbdd7-5e42-4c3c-8ac6-2d826c06237b"
      },
      "source": [
        "## Vai trò của trực quan hóa\n",
        "<hr>"
      ]
    },
    {
      "cell_type": "markdown",
      "id": "3c8fb839",
      "metadata": {
        "id": "3c8fb839"
      },
      "source": [
        "Trực quan hóa phục vụ hai mục đích chính: Khám phá (exploration) và Giải thích (explanation). Ở giai đoạn khám phá, ta tạo các biểu đồ nhanh, giản lược để “soi” dữ liệu, tìm xu hướng, mẫu lặp, ngoại lệ và đặt ra câu hỏi tiếp theo. Ở giai đoạn giải thích, ta chọn hình thức và thiết kế phù hợp để truyền đạt một thông điệp rõ ràng cho người xem, nhấn mạnh kết luận chính và bối cảnh đi kèm. Cùng một bộ dữ liệu có thể cần hai cách vẽ khác nhau cho hai mục đích này. Như Wilke nhấn mạnh: “Visualization makes patterns of data visible that are otherwise hidden in tables.” Trực quan hóa vì thế vừa là công cụ tư duy, vừa là kênh truyền thông."
      ]
    },
    {
      "cell_type": "markdown",
      "source": [],
      "metadata": {
        "id": "Gx5ZX6UoFm3c"
      },
      "id": "Gx5ZX6UoFm3c"
    },
    {
      "cell_type": "markdown",
      "id": "9b4aa045",
      "metadata": {
        "id": "9b4aa045"
      },
      "source": [
        "Vì sao biểu đồ thường hiệu quả hơn bảng?"
      ]
    },
    {
      "cell_type": "markdown",
      "id": "214ecbfa",
      "metadata": {
        "id": "214ecbfa"
      },
      "source": [
        "\n",
        "Bảng số liệu hữu ích khi cần tra cứu chính xác từng giá trị, nhưng không tối ưu để nhận ra xu hướng tổng quát; người đọc phải quét nhiều hàng/cột, vượt quá giới hạn trí nhớ làm việc. Biểu đồ tận dụng các kênh thị giác mạnh (vị trí, độ dài, độ dốc, đường xu hướng) nên giúp não bộ nhận ra mùa vụ, chu kỳ, điểm bất thường gần như tức thì. Ví dụ: với dữ liệu nhiệt độ trung bình theo tháng, bảng cho ta con số chi tiết, nhưng biểu đồ đường ngay lập tức cho thấy mùa hè tăng dần – đỉnh nhiệt – rồi giảm, kể cả khi chênh lệch giữa các tháng không lớn. Vì vậy, bảng để tra cứu, biểu đồ để nhìn tổng thể; kết hợp cả hai sẽ giúp báo cáo vừa chính xác vừa dễ hiểu.\n",
        "\n",
        "![](https://raw.githubusercontent.com/toantran249/NEU_KHDL/6c436952736e736ff2357efdeac9d3406dcf27ff/12_1.png)\n",
        "\n",
        "![](https://raw.githubusercontent.com/toantran249/NEU_KHDL/6c436952736e736ff2357efdeac9d3406dcf27ff/12_2.png)\n"
      ]
    },
    {
      "cell_type": "markdown",
      "id": "ea1e2c38-e427-4f34-b89d-a42bd1ee5e7c",
      "metadata": {
        "id": "ea1e2c38-e427-4f34-b89d-a42bd1ee5e7c"
      },
      "source": [
        "## Nguyên tắc cơ bản\n",
        "<hr>"
      ]
    },
    {
      "cell_type": "markdown",
      "id": "dae25a87",
      "metadata": {
        "id": "dae25a87"
      },
      "source": [
        "- Rõ ràng: loại bỏ yếu tố gây nhiễu (3D không cần thiết, hiệu ứng rườm rà, tỷ lệ trục méo), dùng mã hóa phù hợp (vị trí/độ dài tốt hơn góc/diện tích, màu sắc dùng tiết kiệm để phân nhóm hoặc nhấn mạnh).\n",
        "\n",
        "- Trung thực: không “bẻ” trục gây hiểu lầm, không cắt bớt bối cảnh cần thiết, ghi đơn vị và nguồn dữ liệu đầy đủ.\n",
        "\n",
        "- Có mục tiêu: mỗi biểu đồ nên trả lời một câu hỏi cụ thể; tiêu đề như một thông điệp thay vì mô tả máy móc. Như Wilke viết: “Good visualizations show the data clearly. Bad visualizations obscure it, or worse, mislead.” Hãy ưu tiên nội dung và khả dụng, rồi mới đến thẩm mỹ."
      ]
    },
    {
      "cell_type": "markdown",
      "id": "848379ef",
      "metadata": {
        "id": "848379ef"
      },
      "source": [
        "Một biểu đồ tốt có thể cô đọng câu chuyện dữ liệu mà hàng trăm dòng chữ khó truyền đạt: mở ra bối cảnh (What/When/Where), nêu phát hiện chính (So what), và gợi ý hành động (Now what). Trong khoa học, nó giúp minh họa giả thuyết và kết quả thí nghiệm; trong kinh doanh, nó làm rõ hiệu quả, nguyên nhân gốc rễ và lựa chọn chiến lược; trong truyền thông, nó giúp công chúng nắm bắt vấn đề phức tạp nhanh và đúng. Hãy dùng tiêu đề mang thông điệp, chú thích/annotation để dẫn mắt người xem, và điểm nhấn bằng màu tiết kiệm để làm nổi bật điều quan trọng nhất. Câu chuyện thuyết phục là câu chuyện đúng dữ liệu, đúng bối cảnh, đúng khán giả."
      ]
    },
    {
      "cell_type": "markdown",
      "metadata": {
        "id": "FEWRg-1h56RX"
      },
      "source": [
        "# Nguyên tắc thiết kế tốt\n",
        "<hr>"
      ],
      "id": "FEWRg-1h56RX"
    },
    {
      "cell_type": "markdown",
      "metadata": {
        "id": "XtcrriSk56RY"
      },
      "source": [
        "- Thiết kế tốt = dữ liệu rõ ràng, người xem hiểu nhanh, không bị lừa bởi hình thức.\n",
        "\n",
        "- Thiết kế xấu = dữ liệu bị che giấu, gây nhầm lẫn, hoặc làm người xem hiểu sai.\n",
        "\n",
        "- Trích dẫn: “Good design makes data clear. Bad design hides or misleads.” (Claus O. Wilke)"
      ],
      "id": "XtcrriSk56RY"
    },
    {
      "cell_type": "markdown",
      "metadata": {
        "id": "gAh42Miu56Rc"
      },
      "source": [
        "## Tránh gây hiểu lầm: Trục không bắt đầu từ 0\n",
        "<hr>"
      ],
      "id": "gAh42Miu56Rc"
    },
    {
      "cell_type": "markdown",
      "metadata": {
        "id": "vjnhaSop56Rc"
      },
      "source": [
        "- Một lỗi phổ biến trong biểu đồ cột là cắt trục y để phóng đại sự khác biệt.\n",
        "\n",
        "- Nếu trục y không bắt đầu từ 0 → chênh lệch nhỏ có thể bị “thổi phồng” thành rất lớn.\n",
        "\n",
        "![](https://raw.githubusercontent.com/toantran249/NEU_KHDL/6c436952736e736ff2357efdeac9d3406dcf27ff/12_3.png)"
      ],
      "id": "vjnhaSop56Rc"
    },
    {
      "cell_type": "markdown",
      "metadata": {
        "id": "6k5P6Fz463jN"
      },
      "source": [
        "## Tránh 3D không cần thiết\n",
        "<hr>"
      ],
      "id": "6k5P6Fz463jN"
    },
    {
      "cell_type": "markdown",
      "metadata": {
        "id": "L74Uhi2U7SHs"
      },
      "source": [
        "- Biểu đồ 3D thường làm mất đi tính chính xác, gây khó so sánh chiều cao hoặc diện tích.\n",
        "\n",
        "- Nó tạo cảm giác “ấn tượng” nhưng hiếm khi thêm giá trị phân tích.\n",
        "\n",
        "![](https://raw.githubusercontent.com/toantran249/NEU_KHDL/6c436952736e736ff2357efdeac9d3406dcf27ff/12_5.png)"
      ],
      "id": "L74Uhi2U7SHs"
    },
    {
      "cell_type": "markdown",
      "metadata": {
        "id": "E6vMMxXH64AD"
      },
      "source": [
        "## Sử dụng màu sắc đúng cách\n",
        "<hr>"
      ],
      "id": "E6vMMxXH64AD"
    },
    {
      "cell_type": "markdown",
      "metadata": {
        "id": "cIqREZ7q7Skv"
      },
      "source": [
        "Nguyên tắc cơ bản:\n",
        "\n",
        "- Dữ liệu phân loại (categorical) → dùng bảng màu khác biệt (qualitative palette).\n",
        "\n",
        "- Dữ liệu liên tục (sequential) → dùng thang màu từ nhạt → đậm.\n",
        "\n",
        "- Dữ liệu có hai cực (diverging) → dùng thang đối xứng, ví dụ xanh – trắng – đỏ.\n",
        "\n",
        "Tránh:\n",
        "\n",
        "- Quá nhiều màu khiến người xem bị rối.\n",
        "\n",
        "- Dùng màu không thân thiện với người mù màu (colorblind).\n",
        "\n",
        "![](https://raw.githubusercontent.com/toantran249/NEU_KHDL/6c436952736e736ff2357efdeac9d3406dcf27ff/12_4.png)"
      ],
      "id": "cIqREZ7q7Skv"
    },
    {
      "cell_type": "markdown",
      "metadata": {
        "id": "Pn099sSL64QJ"
      },
      "source": [
        "## Nhãn và chú thích (Labels & Annotations)\n",
        "<hr>"
      ],
      "id": "Pn099sSL64QJ"
    },
    {
      "cell_type": "markdown",
      "metadata": {
        "id": "VJUsmua556Rd"
      },
      "source": [
        "- Biểu đồ cần có tiêu đề rõ ràng, tên trục, đơn vị đo.\n",
        "\n",
        "- Hạn chế viết tắt khó hiểu (vd: “GDPpc” thay vì “GDP per capita”).\n",
        "\n",
        "- Tránh legend rời rạc → nên gắn nhãn trực tiếp lên biểu đồ nếu có thể.\n",
        "\n",
        "- Chú thích/annotation giúp dẫn dắt mắt người xem tới điểm quan trọng.\n",
        "\n",
        "![](https://raw.githubusercontent.com/toantran249/NEU_KHDL/6c436952736e736ff2357efdeac9d3406dcf27ff/12_6.png)"
      ],
      "id": "VJUsmua556Rd"
    },
    {
      "cell_type": "markdown",
      "metadata": {
        "id": "7qvCHwzUhB7p"
      },
      "source": [
        "# Các loại biểu đồ cơ bản và khi nào dùng\n",
        "<hr>"
      ],
      "id": "7qvCHwzUhB7p"
    },
    {
      "cell_type": "markdown",
      "metadata": {
        "id": "9rCnIrSlhB7v"
      },
      "source": [
        "- Mỗi loại biểu đồ sẽ làm nổi bật những khía cạnh khác nhau của dữ liệu.\n",
        "\n",
        "- Không có biểu đồ nào là “tốt nhất” cho mọi tình huống – mà phải chọn loại biểu đồ phù hợp với mục đích phân tích.\n",
        "\n",
        "- Nguyên tắc: Hãy nghĩ trước tiên bạn muốn nhấn mạnh điều gì – so sánh, phân bố, mối quan hệ hay thành phần."
      ],
      "id": "9rCnIrSlhB7v"
    },
    {
      "cell_type": "markdown",
      "metadata": {
        "id": "rz3w2uP9hB7w"
      },
      "source": [
        "## So sánh số lượng (Comparisons)\n",
        "<hr>"
      ],
      "id": "rz3w2uP9hB7w"
    },
    {
      "cell_type": "markdown",
      "metadata": {
        "id": "Kzj_gEwqhB7w"
      },
      "source": [
        "Biểu đồ cột & thanh (Bar chart)\n",
        "- Mỗi loại biểu đồ sẽ làm nổi bật những khía cạnh khác nhau của dữ liệu.\n",
        "\n",
        "- Không có biểu đồ nào là “tốt nhất” cho mọi tình huống – mà phải chọn loại biểu đồ phù hợp với mục đích phân tích.\n",
        "\n",
        "- Nguyên tắc: Hãy nghĩ trước tiên bạn muốn nhấn mạnh điều gì – so sánh, phân bố, mối quan hệ hay thành phần.\n",
        "\n",
        "![](https://raw.githubusercontent.com/toantran249/NEU_KHDL/6c436952736e736ff2357efdeac9d3406dcf27ff/12_slide02_bar.png)"
      ],
      "id": "Kzj_gEwqhB7w"
    },
    {
      "cell_type": "markdown",
      "metadata": {
        "id": "WLS_PFXAi5pe"
      },
      "source": [
        "Dot plot (Biểu đồ chấm)\n",
        "- Là một cách thay thế gọn gàng hơn bar chart.\n",
        "\n",
        "- Mỗi danh mục được biểu diễn bằng một dấu chấm, đặt ở vị trí giá trị tương ứng.\n",
        "\n",
        "- Dễ đọc hơn bar chart khi có nhiều danh mục → vì không bị quá nhiều cột dày đặc.\n",
        "\n",
        "- Giúp nhấn mạnh vào giá trị chính xác thay vì diện tích của cột.\n",
        "\n",
        "![](https://raw.githubusercontent.com/toantran249/NEU_KHDL/6c436952736e736ff2357efdeac9d3406dcf27ff/12_slide03_dotplot.png)"
      ],
      "id": "WLS_PFXAi5pe"
    },
    {
      "cell_type": "markdown",
      "metadata": {
        "id": "TITQ9FFjhB7w"
      },
      "source": [
        "## Phân bố dữ liệu (Distributions)\n",
        "<hr>"
      ],
      "id": "TITQ9FFjhB7w"
    },
    {
      "cell_type": "markdown",
      "metadata": {
        "id": "6zEzmdgDhB7w"
      },
      "source": [
        "Histogram\n",
        "- Dùng để hiển thị phân bố của dữ liệu liên tục.\n",
        "\n",
        "- Dữ liệu được chia thành các “bin” (khoảng giá trị), mỗi cột biểu diễn tần suất.\n",
        "\n",
        "- Quan trọng: chọn bin width hợp lý. Bin quá rộng → mất chi tiết; quá hẹp → nhiễu.\n",
        "\n",
        "- Cho thấy hình dạng tổng thể của phân bố (chuẩn, lệch, nhiều đỉnh...).\n",
        "![](https://raw.githubusercontent.com/toantran249/NEU_KHDL/6c436952736e736ff2357efdeac9d3406dcf27ff/12_slide04_histogram.png)"
      ],
      "id": "6zEzmdgDhB7w"
    },
    {
      "cell_type": "markdown",
      "metadata": {
        "id": "V-elv-TfjTJK"
      },
      "source": [
        "Density plot\n",
        "- Là phiên bản “mềm” của histogram, ước lượng mật độ xác suất.\n",
        "\n",
        "- Giúp hình dung phân bố mượt hơn, không phụ thuộc vào số bin.\n",
        "\n",
        "- Rất trực quan khi so sánh nhiều phân bố (ví dụ nam vs nữ).\n",
        "\n",
        "- Tuy nhiên cần giải thích cẩn thận vì trục y là mật độ, không phải số lượng tuyệt đối.\n",
        "![](https://raw.githubusercontent.com/toantran249/NEU_KHDL/6c436952736e736ff2357efdeac9d3406dcf27ff/12_slide05_density.png)"
      ],
      "id": "V-elv-TfjTJK"
    },
    {
      "cell_type": "markdown",
      "metadata": {
        "id": "ALk-py-SjbPx"
      },
      "source": [
        "Boxplot & Violin plot\n",
        "- Boxplot: tóm tắt dữ liệu bằng median, quartiles, và outliers.\n",
        "\n",
        "      Thể hiện phạm vi, độ lệch và sự khác biệt giữa nhóm.\n",
        "\n",
        "      Dùng khi cần so sánh nhiều nhóm nhanh chóng.\n",
        "\n",
        "- Violin plot: kết hợp boxplot và mật độ → cho biết thêm về phân bố chi tiết.\n",
        "\n",
        "- Ưu điểm: tiết kiệm không gian, dễ so sánh nhiều nhóm trong một biểu đồ.\n",
        "![](https://raw.githubusercontent.com/toantran249/NEU_KHDL/6c436952736e736ff2357efdeac9d3406dcf27ff/12_slide06_boxplot.png)"
      ],
      "id": "ALk-py-SjbPx"
    },
    {
      "cell_type": "markdown",
      "source": [
        "![](https://raw.githubusercontent.com/toantran249/NEU_KHDL/6c436952736e736ff2357efdeac9d3406dcf27ff/12_slide06_violin.png)"
      ],
      "metadata": {
        "id": "uHXKC57FmWw3"
      },
      "id": "uHXKC57FmWw3"
    },
    {
      "cell_type": "markdown",
      "metadata": {
        "id": "mAb85mmZhB7x"
      },
      "source": [
        "## Mối quan hệ (Relationships)\n",
        "<hr>"
      ],
      "id": "mAb85mmZhB7x"
    },
    {
      "cell_type": "markdown",
      "metadata": {
        "id": "sKI4GmJ4hB7x"
      },
      "source": [
        "Scatter plot:\n",
        "- Dùng tốt nhất để thể hiện quan hệ giữa 2 biến liên tục.\n",
        "\n",
        "- Mỗi điểm biểu diễn một quan sát.\n",
        "\n",
        "- Có thể thêm màu, kích thước, hoặc hình dạng để biểu diễn biến thứ 3.\n",
        "\n",
        "- Dễ phát hiện xu hướng tuyến tính, phi tuyến, hay các điểm ngoại lai.\n",
        "![](https://raw.githubusercontent.com/toantran249/NEU_KHDL/6c436952736e736ff2357efdeac9d3406dcf27ff/12_slide07_scatter.png)"
      ],
      "id": "sKI4GmJ4hB7x"
    },
    {
      "cell_type": "markdown",
      "metadata": {
        "id": "b6vzihxSjxVS"
      },
      "source": [
        "Line chart:\n",
        "- Dùng cho dữ liệu theo thời gian hoặc dữ liệu có thứ tự liên tục.\n",
        "\n",
        "- Các điểm được nối với nhau bằng đường để nhấn mạnh xu hướng.\n",
        "\n",
        "- Chỉ nên nối nếu dữ liệu có nghĩa theo thứ tự thời gian hoặc liên tục.\n",
        "\n",
        "- Giúp nhận ra xu hướng, chu kỳ, sự biến động.\n",
        "![](https://raw.githubusercontent.com/toantran249/NEU_KHDL/6c436952736e736ff2357efdeac9d3406dcf27ff/12_slide08_line.png)"
      ],
      "id": "b6vzihxSjxVS"
    },
    {
      "cell_type": "markdown",
      "metadata": {
        "id": "AR4PvbzykSWB"
      },
      "source": [
        "## Thành phần (Composition)\n",
        "<hr>"
      ],
      "id": "AR4PvbzykSWB"
    },
    {
      "cell_type": "markdown",
      "metadata": {
        "id": "9vN5QzsThB7x"
      },
      "source": [
        "Stacked bar chart:\n",
        "- Thể hiện thành phần trong một tổng thể.\n",
        "\n",
        "- Mỗi thanh gồm nhiều phần nhỏ, mỗi phần đại diện cho một nhóm.\n",
        "\n",
        "- Dùng tốt khi muốn thấy vừa tổng vừa tỷ lệ.\n",
        "\n",
        "- Nhưng nếu quá nhiều nhóm → dễ rối.\n",
        "![](https://raw.githubusercontent.com/toantran249/NEU_KHDL/6c436952736e736ff2357efdeac9d3406dcf27ff/12_slide09_stacked_bar.png)"
      ],
      "id": "9vN5QzsThB7x"
    },
    {
      "cell_type": "markdown",
      "metadata": {
        "id": "epIizNLGkJ2R"
      },
      "source": [
        "Pie chart (Biểu đồ tròn):\n",
        "- Biểu đồ tròn thường được dùng nhưng có nhiều hạn chế.\n",
        "\n",
        "- Con người khó so sánh chính xác diện tích góc → dễ gây nhầm lẫn.\n",
        "\n",
        "- Wilke khuyến nghị: nên dùng bar chart thay thế, dễ đọc hơn nhiều.\n",
        "![](https://raw.githubusercontent.com/toantran249/NEU_KHDL/6c436952736e736ff2357efdeac9d3406dcf27ff/12_slide10_pie.png)"
      ],
      "id": "epIizNLGkJ2R"
    },
    {
      "cell_type": "markdown",
      "metadata": {
        "id": "j03ToPnukVX5"
      },
      "source": [
        "## Biểu đồ nâng cao\n",
        "<hr>"
      ],
      "id": "j03ToPnukVX5"
    },
    {
      "cell_type": "markdown",
      "metadata": {
        "id": "6z8F9yEzkVX5"
      },
      "source": [
        "Heatmap:\n",
        "- Dùng để hiển thị ma trận dữ liệu bằng màu sắc.\n",
        "\n",
        "- Mỗi ô trong ma trận biểu thị giá trị bằng cường độ màu.\n",
        "\n",
        "- Rất mạnh khi dữ liệu dạng bảng 2 chiều (ví dụ: correlation matrix).\n",
        "\n",
        "- Giúp phát hiện mẫu và mối quan hệ ẩn nhanh chóng.\n",
        "![](https://raw.githubusercontent.com/toantran249/NEU_KHDL/6c436952736e736ff2357efdeac9d3406dcf27ff/12_slide11_heatmap.png)"
      ],
      "id": "6z8F9yEzkVX5"
    },
    {
      "cell_type": "markdown",
      "metadata": {
        "id": "iV1PE6pakUkS"
      },
      "source": [
        "Small multiples (Nhiều biểu đồ nhỏ song song):\n",
        "- Là kỹ thuật tách dữ liệu thành nhiều biểu đồ nhỏ, cùng một kiểu.\n",
        "\n",
        "- Giúp so sánh nhiều nhóm mà không cần overlay trên cùng biểu đồ.\n",
        "\n",
        "- Tránh gây rối, đồng thời cho thấy xu hướng riêng của từng nhóm."
      ],
      "id": "iV1PE6pakUkS"
    },
    {
      "cell_type": "markdown",
      "metadata": {
        "id": "HmF2QUWhn_8G"
      },
      "source": [
        "# Vẽ đồ thị cơ bản với matplotlib\n",
        "<hr>"
      ],
      "id": "HmF2QUWhn_8G"
    },
    {
      "cell_type": "markdown",
      "metadata": {
        "id": "nn_kYeG8n_8G"
      },
      "source": [
        "Với matplotlib, chúng ta sử dụng quy ước import sau:"
      ],
      "id": "nn_kYeG8n_8G"
    },
    {
      "cell_type": "code",
      "execution_count": null,
      "metadata": {
        "id": "EBeFrm3xn_8G"
      },
      "outputs": [],
      "source": [
        "import matplotlib.pyplot as plt\n",
        "import numpy as np\n",
        "import pandas as pd"
      ],
      "id": "EBeFrm3xn_8G"
    },
    {
      "cell_type": "markdown",
      "metadata": {
        "id": "wqtyfxG8n_8H"
      },
      "source": [
        "Sau khi chạy `%matplotlib notebook` trong Jupyter (hoặc đơn giản là `%matplotlib` trong IPython), chúng ta có thể thử tạo một đồ thị đơn giản. Nếu mọi thứ được thiết lập đúng, một đồ thị đường như *Đồ thị đường đơn giản* sẽ xuất hiện:"
      ],
      "id": "wqtyfxG8n_8H"
    },
    {
      "cell_type": "code",
      "execution_count": null,
      "metadata": {
        "outputId": "8a27a745-aa90-4342-e719-cb3ebecca035",
        "id": "EktYGCwcn_8H",
        "colab": {
          "base_uri": "https://localhost:8080/"
        }
      },
      "outputs": [
        {
          "output_type": "execute_result",
          "data": {
            "text/plain": [
              "array([ 0,  1,  2,  3,  4,  5,  6,  7,  8,  9, 10, 11, 12, 13, 14, 15, 16,\n",
              "       17, 18, 19, 20, 21, 22, 23, 24, 25, 26, 27, 28, 29, 30, 31, 32, 33,\n",
              "       34, 35, 36, 37, 38, 39, 40, 41, 42, 43, 44, 45, 46, 47, 48, 49, 50,\n",
              "       51, 52, 53, 54, 55, 56, 57, 58, 59, 60, 61, 62, 63, 64, 65, 66, 67,\n",
              "       68, 69, 70, 71, 72, 73, 74, 75, 76, 77, 78, 79, 80, 81, 82, 83, 84,\n",
              "       85, 86, 87, 88, 89, 90, 91, 92, 93, 94, 95, 96, 97, 98, 99])"
            ]
          },
          "metadata": {},
          "execution_count": 4
        }
      ],
      "source": [
        "data = np.arange(100)\n",
        "data"
      ],
      "id": "EktYGCwcn_8H"
    },
    {
      "cell_type": "code",
      "execution_count": null,
      "metadata": {
        "id": "IUm-RJhpn_8H"
      },
      "outputs": [],
      "source": [
        "plt.plot(data)\n",
        "plt.savefig(\"chart.png\")"
      ],
      "id": "IUm-RJhpn_8H"
    },
    {
      "cell_type": "markdown",
      "source": [
        "![](https://raw.githubusercontent.com/toantran249/NEU_KHDL/70c3dcccbc152116fd201f1b380767d116132165/chart.png)"
      ],
      "metadata": {
        "id": "VjDNbT3_uKVN"
      },
      "id": "VjDNbT3_uKVN"
    },
    {
      "cell_type": "markdown",
      "metadata": {
        "id": "hPQeLLPsn_8H"
      },
      "source": [
        "Trong khi các thư viện như `seaborn` và các hàm vẽ đồ thị tích hợp sẵn của `pandas` sẽ xử lý nhiều chi tiết thông thường của việc tạo đồ thị, nếu bạn muốn tùy chỉnh chúng vượt ra ngoài các tùy chọn hàm được cung cấp, bạn sẽ cần học một chút về API matplotlib."
      ],
      "id": "hPQeLLPsn_8H"
    },
    {
      "cell_type": "markdown",
      "metadata": {
        "id": "yEP6NTW1n_8H"
      },
      "source": [
        "## Hình (figures) và đồ thị con (subplots)\n",
        "<hr>"
      ],
      "id": "yEP6NTW1n_8H"
    },
    {
      "cell_type": "markdown",
      "metadata": {
        "id": "hsjSa4Whn_8H"
      },
      "source": [
        "Các đồ thị trong `matplotlib` nằm trong một đối tượng được gọi là `Figure`. Bạn có thể tạo một hình mới bằng `plt.figure`:"
      ],
      "id": "hsjSa4Whn_8H"
    },
    {
      "cell_type": "code",
      "execution_count": null,
      "metadata": {
        "outputId": "030f8cb1-76d0-47bf-e590-75b49c62eb71",
        "id": "cqtj-tp-n_8H",
        "colab": {
          "base_uri": "https://localhost:8080/",
          "height": 34
        }
      },
      "outputs": [
        {
          "output_type": "display_data",
          "data": {
            "text/plain": [
              "<Figure size 640x480 with 0 Axes>"
            ]
          },
          "metadata": {}
        }
      ],
      "source": [
        "fig = plt.figure()"
      ],
      "id": "cqtj-tp-n_8H"
    },
    {
      "cell_type": "markdown",
      "metadata": {
        "id": "_0U9aRhln_8H"
      },
      "source": [
        "Trong IPython, nếu bạn chạy `%matplotlib` trước để thiết lập tích hợp matplotlib, một cửa sổ đồ thị trống sẽ xuất hiện, nhưng trong Jupyter sẽ không có gì được hiển thị cho đến khi chúng ta sử dụng thêm một vài lệnh.\n",
        "\n",
        "`plt.figure` có một số tùy chọn, chẳng hạn như `figsize` sẽ đảm bảo hình có kích thước và tỷ lệ khung hình nhất định nếu được lưu vào máy.\n",
        "\n",
        "Bạn không thể tạo một đồ thị với một hình trống. Bạn phải tạo một đồ thị hoặc nhiều đồ thị con hoặc bằng cách sử dụng `add_subplot`:"
      ],
      "id": "_0U9aRhln_8H"
    },
    {
      "cell_type": "code",
      "execution_count": null,
      "metadata": {
        "id": "q6tEBhV0n_8H"
      },
      "outputs": [],
      "source": [
        "ax1 = fig.add_subplot(2, 2, 1)"
      ],
      "id": "q6tEBhV0n_8H"
    },
    {
      "cell_type": "markdown",
      "metadata": {
        "id": "_fEJcEjGn_8H"
      },
      "source": [
        "Điều này có nghĩa là tạo ra khung hình 2 × 2 (tức là tối đa bốn đồ thị), và chúng ta đang chọn subplot đầu tiên trong số bốn subplot (được đánh số từ 1). Nếu bạn tạo hai subplot tiếp theo, bạn sẽ có một hình trực quan trống với ba đồ thị con như sau:"
      ],
      "id": "_fEJcEjGn_8H"
    },
    {
      "cell_type": "code",
      "execution_count": null,
      "metadata": {
        "id": "YMWJeHv0n_8H"
      },
      "outputs": [],
      "source": [
        "fig = plt.figure() # Phải tạo lại fig vì cell trước có thể đã được thực thi riêng\n",
        "ax1 = fig.add_subplot(2, 2, 1)\n",
        "ax2 = fig.add_subplot(2, 2, 2)\n",
        "ax3 = fig.add_subplot(2, 2, 3)\n",
        "plt.savefig(\"chart1.png\") # Để lưu hình"
      ],
      "id": "YMWJeHv0n_8H"
    },
    {
      "cell_type": "markdown",
      "source": [
        "![](https://raw.githubusercontent.com/toantran249/NEU_KHDL/70c3dcccbc152116fd201f1b380767d116132165/chart1.png)"
      ],
      "metadata": {
        "id": "-rMbjhTXvJ1Q"
      },
      "id": "-rMbjhTXvJ1Q"
    },
    {
      "cell_type": "markdown",
      "metadata": {
        "id": "TBRu5lD0n_8I"
      },
      "source": [
        "**Lưu ý**\n",
        "\n",
        "Khi sử dụng Jupyter notebooks là các đồ thị được đặt lại sau mỗi ô, vì vậy bạn phải đặt tất cả các lệnh vẽ đồ thị vào một ô notebook duy nhất.\n",
        "\n",
        "Ở trên chúng ta đã chạy tất cả các lệnh này trong cùng một ô:"
      ],
      "id": "TBRu5lD0n_8I"
    },
    {
      "cell_type": "markdown",
      "metadata": {
        "id": "TBTSpGi9n_8I"
      },
      "source": [
        "Các đối tượng trục đồ thị này có nhiều phương thức khác nhau để tạo ra các loại đồ thị khác nhau, và ưu tiên sử dụng các phương thức trục hơn là các hàm vẽ đồ thị cấp cao nhất như `plt.plot`. Ví dụ, chúng ta có thể tạo một đồ thị dạng đường bằng phương thức `plot`:"
      ],
      "id": "TBTSpGi9n_8I"
    },
    {
      "cell_type": "code",
      "execution_count": null,
      "metadata": {
        "id": "Bf0Fv2Ipn_8I"
      },
      "outputs": [],
      "source": [
        "fig = plt.figure()\n",
        "ax1 = fig.add_subplot(2, 2, 1)\n",
        "ax2 = fig.add_subplot(2, 2, 2)\n",
        "ax3 = fig.add_subplot(2, 2, 3)\n",
        "ax1.plot(np.random.standard_normal(50).cumsum(), color=\"red\", linestyle=\"dashed\")\n",
        "ax2.plot(np.random.standard_normal(50).cumsum(), color=\"green\", linestyle=\"dashed\")\n",
        "ax3.plot(np.random.standard_normal(50).cumsum(), color=\"blue\", linestyle=\"dashed\")\n",
        "plt.savefig(\"chart2.png\")"
      ],
      "id": "Bf0Fv2Ipn_8I"
    },
    {
      "cell_type": "markdown",
      "source": [
        "![](https://raw.githubusercontent.com/toantran249/NEU_KHDL/70c3dcccbc152116fd201f1b380767d116132165/chart2.png)"
      ],
      "metadata": {
        "id": "XgBjTQF7vM1G"
      },
      "id": "XgBjTQF7vM1G"
    },
    {
      "cell_type": "markdown",
      "metadata": {
        "id": "MYcWuMmRn_8I"
      },
      "source": [
        "Các đối tượng được trả về bởi `fig.add_subplot` ở trên, bao gồm `ax1`, `ax2`, và `ax3` còn được gọi là các đối tượng `AxesSubplot`. Trên các đối tượng này bạn có thể vẽ trực tiếp trên các subplot trống khác bằng cách gọi phương thức khác nhau của mỗi subplot. Bạn đọc tham khảo phần tiếp theo của chương để biết về các phương thức này:"
      ],
      "id": "MYcWuMmRn_8I"
    },
    {
      "cell_type": "code",
      "execution_count": null,
      "metadata": {
        "id": "mrge0cton_8I"
      },
      "outputs": [],
      "source": [
        "fig = plt.figure()\n",
        "ax1 = fig.add_subplot(2, 2, 1)\n",
        "ax2 = fig.add_subplot(2, 2, 2)\n",
        "ax3 = fig.add_subplot(2, 2, 3)\n",
        "\n",
        "ax1.hist(np.random.standard_normal(100), bins=20, alpha=0.5);\n",
        "ax2.scatter(np.arange(30), np.arange(30) + 3 * np.random.standard_normal(30));\n",
        "ax3.plot(np.random.standard_normal(50).cumsum(),  linestyle=\"dashed\")\n",
        "plt.savefig(\"chart3.png\")"
      ],
      "id": "mrge0cton_8I"
    },
    {
      "cell_type": "markdown",
      "source": [
        "![](https://raw.githubusercontent.com/toantran249/NEU_KHDL/70c3dcccbc152116fd201f1b380767d116132165/chart3.png)"
      ],
      "metadata": {
        "id": "GQhb5-FQvP9v"
      },
      "id": "GQhb5-FQvP9v"
    },
    {
      "cell_type": "markdown",
      "metadata": {
        "id": "EC4Heq5Pn_8I"
      },
      "source": [
        "Tùy chọn `alpha=0.5` sử dụng trong `ax1` chỉ định độ trong suốt của đồ thị.\n",
        "\n",
        "Bạn có thể tìm thấy một danh mục toàn diện các loại đồ thị trong tài liệu [matplotlib](https://matplotlib.org/)\n",
        "\n",
        "Để tạo một lưới các subplot thuận tiện hơn, matplotlib bao gồm một phương thức `plt.subplots` tạo một hình mới và trả về một mảng NumPy chứa các đối tượng subplot đã tạo:"
      ],
      "id": "EC4Heq5Pn_8I"
    },
    {
      "cell_type": "code",
      "execution_count": null,
      "metadata": {
        "id": "i7ol4L30n_8I"
      },
      "outputs": [],
      "source": [
        "fig, axes = plt.subplots(2, 3)\n",
        "axes\n",
        "plt.savefig(\"chart4.png\")"
      ],
      "id": "i7ol4L30n_8I"
    },
    {
      "cell_type": "markdown",
      "source": [
        "![](https://raw.githubusercontent.com/toantran249/NEU_KHDL/70c3dcccbc152116fd201f1b380767d116132165/chart4.png)"
      ],
      "metadata": {
        "id": "j-gkOf3_vS13"
      },
      "id": "j-gkOf3_vS13"
    },
    {
      "cell_type": "markdown",
      "metadata": {
        "id": "zr4eWnWEn_8I"
      },
      "source": [
        "Mảng `axes` sau đó có thể được lập chỉ mục giống như một mảng hai chiều; ví dụ, `axes[0, 1]` tham chiếu đến subplot ở hàng trên cùng ở giữa. Bạn đọc cũng có thể chỉ ra rằng các subplot nên có cùng trục x hoặc y tương ứng bằng cách sử dụng `sharex` và `sharey`. Điều này có thể hữu ích khi bạn đang so sánh dữ liệu trên cùng một thang đo; nếu không, matplotlib sẽ tự động điều chỉnh giới hạn đồ thị một cách độc lập. Xem bảng ... để biết thêm về phương thức này.\n",
        "\n",
        "**Bảng ... Các tùy chọn matplotlib.pyplot.subplots**\n",
        "\n",
        "| Đối số      | Mô tả                                                                                                |\n",
        "|---------------|------------------------------------------------------------------------------------------------------|\n",
        "| `nrows`       | Số hàng của các subplot                                                                             |\n",
        "| `ncols`       | Số cột của các subplot                                                                              |\n",
        "| `sharex`      | Tất cả các subplot nên sử dụng cùng một vạch chia trục x (điều chỉnh `xlim` sẽ ảnh hưởng đến tất cả các subplot) |\n",
        "| `sharey`      | Tất cả các subplot nên sử dụng cùng một vạch chia trục y (điều chỉnh `ylim` sẽ ảnh hưởng đến tất cả các subplot) |\n",
        "| `subplot_kw`  | Từ điển các từ khóa được truyền cho lệnh gọi `add_subplot` được sử dụng để tạo mỗi subplot                  |\n",
        "| `**fig_kw`    | Các từ khóa bổ sung cho `subplots` được sử dụng khi tạo hình, chẳng hạn như `plt.subplots(2, 2, figsize=(8, 6))` |\n"
      ],
      "id": "zr4eWnWEn_8I"
    },
    {
      "cell_type": "markdown",
      "metadata": {
        "id": "jdLoRlTEn_8I"
      },
      "source": [
        "## Điều chỉnh khoảng cách xung quanh các subplot\n",
        "<hr>"
      ],
      "id": "jdLoRlTEn_8I"
    },
    {
      "cell_type": "markdown",
      "metadata": {
        "id": "0YLrYJ1Mn_8I"
      },
      "source": [
        "Theo mặc định, `matplotlib` để lại một khoảng đệm nhất định xung quanh bên ngoài các subplot và khoảng cách giữa các subplot. Khoảng cách này đều được chỉ định tương đối với chiều cao và chiều rộng của đồ thị, do đó nếu bạn thay đổi kích thước đồ thị theo chương trình hoặc thủ công bằng cửa sổ GUI, đồ thị sẽ tự động điều chỉnh. Bạn có thể thay đổi khoảng cách bằng phương thức `subplots_adjust` trên các đối tượng `Figure`:\n",
        "\n",
        "`subplots_adjust(left=None, bottom=None, right=None, top=None, wspace=None, hspace=None)`\n",
        "\n",
        "`wspace` và `hspace` kiểm soát phần trăm chiều rộng và chiều cao của hình, tương ứng, để sử dụng làm khoảng cách giữa các subplot. Đây là một ví dụ nhỏ bạn có thể thực thi trong Jupyter, nơi chúng tôi thu nhỏ khoảng cách giữa các đồ thị con xuống bằng không:"
      ],
      "id": "0YLrYJ1Mn_8I"
    },
    {
      "cell_type": "code",
      "execution_count": null,
      "metadata": {
        "id": "6SKY5TRln_8I"
      },
      "outputs": [],
      "source": [
        "fig, axes = plt.subplots(2, 2, sharex=True, sharey=True)\n",
        "for i in range(2):\n",
        "    for j in range(2):\n",
        "        axes[i, j].hist(np.random.standard_normal(500), bins=50, color=\"black\", alpha=0.5)\n",
        "fig.subplots_adjust(wspace=0, hspace=0)\n",
        "plt.savefig(\"chart5.png\")"
      ],
      "id": "6SKY5TRln_8I"
    },
    {
      "cell_type": "markdown",
      "source": [
        "![](https://raw.githubusercontent.com/toantran249/NEU_KHDL/70c3dcccbc152116fd201f1b380767d116132165/chart5.png)"
      ],
      "metadata": {
        "id": "HAs0siWHvV7e"
      },
      "id": "HAs0siWHvV7e"
    },
    {
      "cell_type": "markdown",
      "metadata": {
        "id": "MsCve3tzn_8I"
      },
      "source": [
        "Bạn có thể nhận thấy rằng các nhãn trục chồng chéo lên nhau. matplotlib không kiểm tra xem các nhãn có chồng chéo hay không, vì vậy trong trường hợp như thế này, bạn sẽ cần tự sửa các nhãn bằng cách chỉ định các vị trí vạch chia và nhãn vạch chia rõ ràng (chúng ta sẽ xem xét cách thực hiện điều này trong phần sau *Vạch chia, Nhãn và Chú giải*)."
      ],
      "id": "MsCve3tzn_8I"
    },
    {
      "cell_type": "markdown",
      "metadata": {
        "id": "0ONbGhf6n_8I"
      },
      "source": [
        "## Màu sắc, điểm đánh dấu, kiểu line\n",
        "<hr>"
      ],
      "id": "0ONbGhf6n_8I"
    },
    {
      "cell_type": "markdown",
      "metadata": {
        "id": "gh9HlUiUn_8I"
      },
      "source": [
        "Hàm vẽ đồ thị đường của matplotlib chấp nhận các mảng tọa độ x và y và các tùy chọn tạo kiểu màu tùy chọn. Ví dụ, để vẽ x và y bằng các đường gạch ngang màu xanh dương, bạn sẽ thực thi:"
      ],
      "id": "gh9HlUiUn_8I"
    },
    {
      "cell_type": "code",
      "execution_count": null,
      "metadata": {
        "id": "w8ZmTQp7n_8I"
      },
      "outputs": [],
      "source": [
        "# Giả sử x và y đã được định nghĩa\n",
        "x = np.arange(-10, 10, 0.1)\n",
        "y = np.sin(x)\n",
        "fig, ax = plt.subplots()\n",
        "ax.plot(x, y, linestyle=\"--\", color=\"blue\")\n",
        "plt.savefig(\"chart6.png\")"
      ],
      "id": "w8ZmTQp7n_8I"
    },
    {
      "cell_type": "markdown",
      "source": [
        "![](https://raw.githubusercontent.com/toantran249/NEU_KHDL/70c3dcccbc152116fd201f1b380767d116132165/chart6.png)"
      ],
      "metadata": {
        "id": "JbtyXhKCvYwG"
      },
      "id": "JbtyXhKCvYwG"
    },
    {
      "cell_type": "markdown",
      "metadata": {
        "id": "-J0yRZ3Nn_8J"
      },
      "source": [
        "Một số tên màu được cung cấp cho các màu thường được sử dụng, nhưng bạn có thể sử dụng bất kỳ màu nào trên phổ màu bằng cách chỉ định mã hex, ví dụ: `\"#640000\"`. Bạn có thể xem một số kiểu đường được hỗ trợ bằng cách xem docstring cho `plt.plot`. Bạn đọc sử dụng `plt.plot?` trong IPython hoặc Jupyter để xem docstring.\n",
        "\n",
        "Các đồ thị đường có thể có thêm các điểm đánh dấu để làm nổi bật các điểm dữ liệu thực tế. Vì hàm `plot` của matplotlib tạo ra một đồ thị đường liên tục, nội suy giữa các điểm, đôi khi có thể không rõ ràng vị trí các điểm nằm ở đâu. Điểm đánh dấu có thể được cung cấp dưới dạng một tùy chọn tạo kiểu bổ sung:"
      ],
      "id": "-J0yRZ3Nn_8J"
    },
    {
      "cell_type": "code",
      "execution_count": null,
      "metadata": {
        "id": "4Ri4Ha3jn_8J"
      },
      "outputs": [],
      "source": [
        "fig = plt.figure() # Cần tạo figure mới\n",
        "ax = fig.add_subplot()\n",
        "ax.plot(np.random.standard_normal(30).cumsum(), color=\"black\", linestyle=\"dashed\", marker=\"o\");\n",
        "plt.savefig(\"chart7.png\")"
      ],
      "id": "4Ri4Ha3jn_8J"
    },
    {
      "cell_type": "markdown",
      "source": [
        "![](https://raw.githubusercontent.com/toantran249/NEU_KHDL/70c3dcccbc152116fd201f1b380767d116132165/chart7.png)"
      ],
      "metadata": {
        "id": "P6Fp_sEQvcKu"
      },
      "id": "P6Fp_sEQvcKu"
    },
    {
      "cell_type": "markdown",
      "metadata": {
        "id": "KJK00QTdn_8J"
      },
      "source": [
        "Đối với các đồ thị đường, bạn sẽ nhận thấy rằng các điểm tiếp theo được nội suy tuyến tính theo mặc định. Điều này có thể được thay đổi bằng tùy chọn `drawstyle`:"
      ],
      "id": "KJK00QTdn_8J"
    },
    {
      "cell_type": "code",
      "execution_count": null,
      "metadata": {
        "id": "5B2vqe9on_8J"
      },
      "outputs": [],
      "source": [
        "fig = plt.figure()\n",
        "ax = fig.add_subplot()\n",
        "data = np.random.standard_normal(30).cumsum()\n",
        "ax.plot(data, color=\"black\", linestyle=\"dashed\", label=\"Default\");\n",
        "ax.plot(data, color=\"black\", linestyle=\"dashed\", drawstyle=\"steps-post\", label=\"steps-post\");\n",
        "ax.legend()\n",
        "plt.savefig(\"chart8.png\")"
      ],
      "id": "5B2vqe9on_8J"
    },
    {
      "cell_type": "markdown",
      "source": [
        "![](https://raw.githubusercontent.com/toantran249/NEU_KHDL/70c3dcccbc152116fd201f1b380767d116132165/chart8.png)"
      ],
      "metadata": {
        "id": "xfZp1PhDvfPu"
      },
      "id": "xfZp1PhDvfPu"
    },
    {
      "cell_type": "markdown",
      "metadata": {
        "id": "vPoguFKhn_8J"
      },
      "source": [
        "Ở đây, vì chúng ta đã sử dụng các tham số `label` cho `plot`, chúng ta có thể tạo một chú giải đồ thị để xác định mỗi dòng bằng cách sử dụng `ax.legend`. Chúng ta sẽ thảo luận thêm về chú giải trong phần *Vạch chia (ticks), nhãn (labels) và chú giải (legends)*.\n",
        "\n",
        "**Lưu ý**\n",
        "\n",
        "Bạn phải gọi `ax.legend` để tạo chú giải, cho dù bạn có truyền các tùy chọn `label` khi vẽ dữ liệu hay không."
      ],
      "id": "vPoguFKhn_8J"
    },
    {
      "cell_type": "markdown",
      "metadata": {
        "id": "BSApze2Qn_8J"
      },
      "source": [
        "## Ticks, labels, và legends\n",
        "<hr>"
      ],
      "id": "BSApze2Qn_8J"
    },
    {
      "cell_type": "markdown",
      "metadata": {
        "id": "7h1Q62BHn_8J"
      },
      "source": [
        "Hầu hết các kiểu trang trí đồ thị có thể được truy cập thông qua các phương thức trên các đối tượng trục matplotlib. Điều này bao gồm các phương thức như `xlim`, `xticks`, và `xticklabels`. Chúng kiểm soát phạm vi đồ thị, vị trí vạch chia và nhãn vạch chia, tương ứng. Chúng có thể được sử dụng theo hai cách:\n",
        "\n",
        "*   Gọi không có đối số trả về giá trị tham số hiện tại (ví dụ: `ax.xlim()` trả về phạm vi vẽ trục x hiện tại)\n",
        "*   Gọi với các tham số đặt giá trị tham số (ví dụ: `ax.xlim([0, 10])` đặt phạm vi trục x thành 0 đến 10)\n",
        "\n",
        "Tất cả các phương thức như vậy đều hoạt động trên `AxesSubplot` đang hoạt động hoặc được tạo gần đây nhất. Mỗi phương thức tương ứng với hai phương thức trên chính đối tượng subplot; trong trường hợp `xlim`, đó là `ax.get_xlim` và `ax.set_xlim`."
      ],
      "id": "7h1Q62BHn_8J"
    },
    {
      "cell_type": "markdown",
      "metadata": {
        "id": "unmY0XpVn_8J"
      },
      "source": [
        "### Đặt tiêu đề, nhãn trục, vạch chia và nhãn vạch chia\n",
        "\n",
        "Để minh họa việc tùy chỉnh các trục, tôi sẽ tạo một hình đơn giản và đồ thị của một bước đi ngẫu nhiên:"
      ],
      "id": "unmY0XpVn_8J"
    },
    {
      "cell_type": "code",
      "execution_count": null,
      "metadata": {
        "id": "TpgRPjann_8J"
      },
      "outputs": [],
      "source": [
        "fig, ax = plt.subplots()\n",
        "ax.plot(np.random.standard_normal(1000).cumsum());\n",
        "plt.savefig(\"chart9.png\")"
      ],
      "id": "TpgRPjann_8J"
    },
    {
      "cell_type": "markdown",
      "source": [
        "![](https://raw.githubusercontent.com/toantran249/NEU_KHDL/70c3dcccbc152116fd201f1b380767d116132165/chart9.png)"
      ],
      "metadata": {
        "id": "_yoQTUXHvh-Y"
      },
      "id": "_yoQTUXHvh-Y"
    },
    {
      "cell_type": "markdown",
      "metadata": {
        "id": "uYBFJfTdn_8J"
      },
      "source": [
        "Để thay đổi các vạch chia trục x, cách dễ nhất là sử dụng `set_xticks` và `set_xticklabels`. Lệnh đầu tiên hướng dẫn matplotlib đặt các vạch chia ở đâu dọc theo phạm vi dữ liệu; theo mặc định, các vị trí này cũng sẽ là các nhãn. Nhưng chúng ta có thể đặt bất kỳ giá trị nào khác làm nhãn bằng cách sử dụng `set_xticklabels`:"
      ],
      "id": "uYBFJfTdn_8J"
    },
    {
      "cell_type": "code",
      "execution_count": null,
      "metadata": {
        "id": "YPV6L0EYn_8J"
      },
      "outputs": [],
      "source": [
        "fig, ax = plt.subplots()\n",
        "ax.plot(np.random.standard_normal(1000).cumsum());\n",
        "\n",
        "ticks = ax.set_xticks([0, 250, 500, 750, 1000])\n",
        "labels = ax.set_xticklabels([\"one\", \"two\", \"three\", \"four\", \"five\"], rotation=30, fontsize=8)\n",
        "plt.savefig(\"chart10.png\")"
      ],
      "id": "YPV6L0EYn_8J"
    },
    {
      "cell_type": "markdown",
      "source": [
        "![](https://raw.githubusercontent.com/toantran249/NEU_KHDL/70c3dcccbc152116fd201f1b380767d116132165/chart10.png)"
      ],
      "metadata": {
        "id": "rdBPmE9QvmjP"
      },
      "id": "rdBPmE9QvmjP"
    },
    {
      "cell_type": "markdown",
      "metadata": {
        "id": "df4N_xden_8J"
      },
      "source": [
        "Tùy chọn `rotation` đặt các nhãn vạch chia x ở một góc xoay 30 độ. Cuối cùng, `set_xlabel` đặt tên cho trục x và `set_title` là tiêu đề subplot:"
      ],
      "id": "df4N_xden_8J"
    },
    {
      "cell_type": "code",
      "execution_count": null,
      "metadata": {
        "id": "yaF3Cr_gn_8J"
      },
      "outputs": [],
      "source": [
        "fig, ax = plt.subplots()\n",
        "ax.plot(np.random.standard_normal(1000).cumsum());\n",
        "\n",
        "ticks = ax.set_xticks([0, 250, 500, 750, 1000])\n",
        "labels = ax.set_xticklabels([\"one\", \"two\", \"three\", \"four\", \"five\"], rotation=30, fontsize=8)\n",
        "\n",
        "ax.set_xlabel(\"Stages\")\n",
        "ax.set_title(\"Đồ thị bước ngẫu nhiên\")\n",
        "plt.savefig(\"chart11.png\")"
      ],
      "id": "yaF3Cr_gn_8J"
    },
    {
      "cell_type": "markdown",
      "source": [
        "![](https://raw.githubusercontent.com/toantran249/NEU_KHDL/70c3dcccbc152116fd201f1b380767d116132165/chart11.png)"
      ],
      "metadata": {
        "id": "Tnaf4wjgvrdf"
      },
      "id": "Tnaf4wjgvrdf"
    },
    {
      "cell_type": "markdown",
      "metadata": {
        "id": "mm_EcSLSn_8J"
      },
      "source": [
        "Việc sửa đổi trục y bao gồm quy trình tương tự, thay thế y bằng x trong ví dụ này. Lớp `axes` có một phương thức `set` cho phép đặt hàng loạt các thuộc tính đồ thị. Từ ví dụ trước, chúng ta cũng có thể viết:\n",
        "\n",
        "`ax.set(title=\"My first matplotlib plot\", xlabel=\"Stages\")`"
      ],
      "id": "mm_EcSLSn_8J"
    },
    {
      "cell_type": "markdown",
      "metadata": {
        "id": "7pHjm6h8n_8J"
      },
      "source": [
        "### Thêm chú giải\n",
        "\n",
        "Chú giải là một yếu tố quan trọng khác để xác định các thành phần của đồ thị. Có một vài cách để thêm một chú giải. Cách dễ nhất là truyền tham số  `label` khi thêm mỗi phần của đồ thị:"
      ],
      "id": "7pHjm6h8n_8J"
    },
    {
      "cell_type": "code",
      "execution_count": null,
      "metadata": {
        "id": "T-_65o_Wn_8J"
      },
      "outputs": [],
      "source": [
        "fig, ax = plt.subplots()\n",
        "ax.plot(np.random.randn(1000).cumsum(), color=\"black\", label=\"one\");\n",
        "ax.plot(np.random.randn(1000).cumsum(), color=\"black\", linestyle=\"dashed\", label=\"two\");\n",
        "ax.plot(np.random.randn(1000).cumsum(), color=\"black\", linestyle=\"dotted\", label=\"three\");\n",
        "\n",
        "ax.legend()\n",
        "plt.savefig(\"chart12.png\")"
      ],
      "id": "T-_65o_Wn_8J"
    },
    {
      "cell_type": "markdown",
      "source": [
        "![](https://raw.githubusercontent.com/toantran249/NEU_KHDL/70c3dcccbc152116fd201f1b380767d116132165/chart12.png)"
      ],
      "metadata": {
        "id": "zruNW-jOvugI"
      },
      "id": "zruNW-jOvugI"
    },
    {
      "cell_type": "markdown",
      "metadata": {
        "id": "lN2nd1WHn_8J"
      },
      "source": [
        "Phương thức `legend` có một số lựa chọn khác cho đối số vị trí `loc`. Bạn đọc có thể xem docstring với `ax.legend?` để biết thêm thông tin.\n",
        "\n",
        "Tùy chọn `loc` của chú giải cho matplotlib biết vị trí đặt đồ thị. Mặc định là `\"best\"`, nghĩa là cố gắng chọn một vị trí ít bị cản trở nhất. Để loại trừ một hoặc nhiều yếu tố khỏi chú giải, bạn đọc không sử dụng tham số `label` hoặc sử dụng tham số như sau `label=\"_nolegend_\"`."
      ],
      "id": "lN2nd1WHn_8J"
    },
    {
      "cell_type": "markdown",
      "metadata": {
        "id": "wOfEhdW8n_8K"
      },
      "source": [
        "## Chú thích vẽ trên một đồ thị con\n",
        "<hr>"
      ],
      "id": "wOfEhdW8n_8K"
    },
    {
      "cell_type": "markdown",
      "metadata": {
        "id": "OpzHhdk8n_8K"
      },
      "source": [
        "Ngoài các loại đồ thị tiêu chuẩn, bạn có thể muốn vẽ các chú thích đồ thị của riêng mình, có thể bao gồm văn bản, mũi tên hoặc các hình dạng khác. Bạn có thể thêm chú thích và văn bản bằng các hàm `text`, `arrow`, và `annotate`. Hàm `text` vẽ văn bản tại các tọa độ (x, y) đã cho trên đồ thị với kiểu tùy chỉnh tùy chọn:\n",
        "\n",
        "`ax.text(x, y, \"Hello world!\", family=\"monospace\", fontsize=10)`\n",
        "\n",
        "Chú thích có thể vẽ cả văn bản và mũi tên được sắp xếp phù hợp. Ví dụ, hãy vẽ đồ thị giá đóng cửa của chỉ số S&P 500 kể từ năm 2007 (lấy từ Yahoo! Finance) và chú thích nó với một số ngày quan trọng từ cuộc khủng hoảng tài chính 2008–2009. Bạn có thể chạy ví dụ mã này trong một ô duy nhất trong Jupyter notebook. Xem *Các ngày quan trọng trong cuộc khủng hoảng tài chính 2008–2009* cho kết quả:"
      ],
      "id": "OpzHhdk8n_8K"
    },
    {
      "cell_type": "code",
      "execution_count": null,
      "metadata": {
        "id": "LWqwDFwwn_8K"
      },
      "outputs": [],
      "source": [
        "from datetime import datetime\n",
        "# Create spx.csv file for the example\n",
        "spx_csv_content = \"date,SPX\\n2003-01-02,909.03\\n2007-05-04,1499.26\\n2007-10-11,1554.41\\n2008-03-12,1290.35\\n2008-09-15,1172.22\\n2010-12-31,1257.64\\n2011-01-03,1271.87\"\n",
        "with open(\"spx.csv\", \"w\") as f:\n",
        "    f.write(spx_csv_content)\n",
        "\n",
        "fig, ax = plt.subplots(figsize=(12, 6)) # Tăng kích thước để dễ nhìn hơn\n",
        "data = pd.read_csv(\"spx.csv\", index_col=0, parse_dates=True)\n",
        "spx = data[\"SPX\"]\n",
        "\n",
        "spx.plot(ax=ax, color=\"black\")\n",
        "\n",
        "crisis_data = [\n",
        "    (datetime(2007, 10, 11), \"Peak of bull market\"),\n",
        "    (datetime(2008, 3, 12), \"Bear Stearns Fails\"),\n",
        "    (datetime(2008, 9, 15), \"Lehman Bankruptcy\")\n",
        "]\n",
        "\n",
        "for date, label in crisis_data:\n",
        "    ax.annotate(label, xy=(date, spx.asof(date) + 75),\n",
        "                xytext=(date, spx.asof(date) + 225),\n",
        "                arrowprops=dict(facecolor=\"black\", headwidth=4, width=2,\n",
        "                                headlength=4),\n",
        "                horizontalalignment=\"left\",\n",
        "                verticalalignment=\"top\")\n",
        "\n",
        "# Zoom in on 2007-2010\n",
        "ax.set_xlim([\"1/1/2007\", \"1/1/2011\"])\n",
        "ax.set_ylim([600, 1800])\n",
        "ax.set_title(\"Important dates in the 2008–2009 financial crisis\")\n",
        "plt.savefig(\"chart13.png\")"
      ],
      "id": "LWqwDFwwn_8K"
    },
    {
      "cell_type": "markdown",
      "source": [
        "![](https://raw.githubusercontent.com/toantran249/NEU_KHDL/70c3dcccbc152116fd201f1b380767d116132165/chart13.png)"
      ],
      "metadata": {
        "id": "G1KlOy1uvzSf"
      },
      "id": "G1KlOy1uvzSf"
    },
    {
      "cell_type": "markdown",
      "metadata": {
        "id": "lEmkGQvin_8K"
      },
      "source": [
        "Có một vài điểm quan trọng cần làm nổi bật trong đồ thị này. Phương thức `ax.annotate` có thể vẽ các nhãn tại các tọa độ x và y được chỉ định. Chúng ta sử dụng các phương thức `set_xlim` và `set_ylim` để đặt thủ công các ranh giới bắt đầu và kết thúc cho đồ thị thay vì sử dụng mặc định của matplotlib. Cuối cùng, `ax.set_title` thêm một tiêu đề chính cho đồ thị.\n",
        "\n",
        "Bạn đọc có thể xem thư viện matplotlib trực tuyến để biết nhiều ví dụ chú thích khác."
      ],
      "id": "lEmkGQvin_8K"
    },
    {
      "cell_type": "markdown",
      "metadata": {
        "id": "GMnzi8cFn_8K"
      },
      "source": [
        "Việc vẽ các hình dạng đòi hỏi sự cẩn thận và tỉ mỉ hơn. `matplotlib` có các đối tượng đại diện cho nhiều hình dạng phổ biến, được gọi là các `patches`. Một số trong số này, như `Rectangle` và `Circle`, được tìm thấy trong `matplotlib.pyplot`, nhưng thông tin đầy đủ nằm trong `matplotlib.patches`.\n",
        "\n",
        "Để thêm một hình dạng vào đồ thị, bạn tạo đối tượng `patches` và thêm nó vào một đồ thị con `ax` bằng cách truyền đối tượng `patches` cho `ax.add_patch`:"
      ],
      "id": "GMnzi8cFn_8K"
    },
    {
      "cell_type": "code",
      "execution_count": null,
      "metadata": {
        "id": "FY8tuGzRn_8K"
      },
      "outputs": [],
      "source": [
        "fig, ax = plt.subplots()\n",
        "\n",
        "rect = plt.Rectangle((0.2, 0.75), 0.4, 0.15, color=\"black\", alpha=0.3)\n",
        "circ = plt.Circle((0.7, 0.2), 0.15, color=\"blue\", alpha=0.3)\n",
        "pgon = plt.Polygon([[0.15, 0.15], [0.35, 0.4], [0.2, 0.6]],\n",
        "                   color=\"green\", alpha=0.5)\n",
        "\n",
        "ax.add_patch(rect)\n",
        "ax.add_patch(circ)\n",
        "ax.add_patch(pgon)\n",
        "plt.savefig(\"chart14.png\")"
      ],
      "id": "FY8tuGzRn_8K"
    },
    {
      "cell_type": "markdown",
      "source": [
        "![](https://raw.githubusercontent.com/toantran249/NEU_KHDL/70c3dcccbc152116fd201f1b380767d116132165/chart14.png)"
      ],
      "metadata": {
        "id": "hDzcKIrKv2Hv"
      },
      "id": "hDzcKIrKv2Hv"
    },
    {
      "cell_type": "markdown",
      "metadata": {
        "id": "2L0NZ6emn_8K"
      },
      "source": [
        "Nếu bạn xem xét việc triển khai nhiều loại đồ thị quen thuộc, bạn sẽ thấy rằng chúng được lắp ráp từ nhiều `patches` khác nhau."
      ],
      "id": "2L0NZ6emn_8K"
    },
    {
      "cell_type": "markdown",
      "metadata": {
        "id": "ps5qG8wYn_8K"
      },
      "source": [
        "## Lưu đồ thị vào máy tính\n",
        "<hr>"
      ],
      "id": "ps5qG8wYn_8K"
    },
    {
      "cell_type": "markdown",
      "metadata": {
        "id": "qygDvPw3n_8K"
      },
      "source": [
        "Bạn đọc có thể lưu hình đang hoạt động vào tệp bằng phương thức `savefig` của đối tượng này. Ví dụ, để lưu một hình dưới định dạng `.svg`, bạn chỉ cần nhập:\n",
        "\n",
        "`fig.savefig(\"figpath.svg\")`\n",
        "\n",
        "Loại tệp được suy ra từ phần mở rộng của tệp. Vì vậy, nếu bạn sử dụng `.pdf` thay vào đó, bạn sẽ nhận được một tệp PDF. Một tùy chọn quan trọng mà chúng tôi thường xuyên sử dụng để xuất bản đồ họa là `dpi`, kiểm soát độ phân giải điểm trên mỗi inch. Để có được cùng một đồ thị dưới dạng PNG ở 400 DPI, bạn sẽ làm:\n",
        "\n",
        "`fig.savefig(\"figpath.png\", dpi=400)`\n",
        "\n",
        "Xem bảng ... để biết danh sách một số tùy chọn khác cho `savefig`. Để có danh sách đầy đủ, hãy tham khảo docstring trong IPython hoặc Jupyter.\n",
        "\n",
        "**Bảng ...: một số tùy chọn fig.savefig**\n",
        "\n",
        "| Đối số        | Mô tả                                                                                                    |\n",
        "|-----------------|----------------------------------------------------------------------------------------------------------|\n",
        "| `fname`         | Chuỗi ký tự chứa đường dẫn tệp hoặc đối tượng giống tệp Python. Định dạng hình được suy ra từ phần mở rộng của tệp (ví dụ: `.pdf` cho PDF hoặc `.png` cho PNG). |\n",
        "| `dpi`           | Độ phân giải của hình tính bằng điểm trên mỗi inch; mặc định là 100 trong IPython hoặc 72 trong Jupyter nhưng có thể được cấu hình. |\n",
        "| `facecolor`, `edgecolor` | Màu của nền hình bên ngoài các subplot; `\"w\"` (trắng), theo mặc định.                                   |\n",
        "| `format`        | Định dạng tệp rõ ràng để sử dụng (`\"png\"`, `\"pdf\"`, `\"svg\"`, `\"ps\"`, `\"eps\"`, ...).                               |\n"
      ],
      "id": "qygDvPw3n_8K"
    },
    {
      "cell_type": "code",
      "execution_count": null,
      "metadata": {
        "id": "gyALHmC4n_8K"
      },
      "outputs": [],
      "source": [
        "# Ví dụ lưu file, không tạo hình ảnh trực tiếp trong notebook output\n",
        "fig, ax = plt.subplots()\n",
        "ax.plot(np.random.standard_normal(30).cumsum(), color=\"black\", linestyle=\"dashed\", marker=\"o\");\n",
        "# fig.savefig(\"figpath.svg\")\n",
        "# fig.savefig(\"figpath.png\", dpi=400)\n",
        "plt.savefig(\"chart15.png\")"
      ],
      "id": "gyALHmC4n_8K"
    },
    {
      "cell_type": "markdown",
      "source": [
        "![](https://raw.githubusercontent.com/toantran249/NEU_KHDL/70c3dcccbc152116fd201f1b380767d116132165/chart15.png)"
      ],
      "metadata": {
        "id": "WRAsiEHCv4n-"
      },
      "id": "WRAsiEHCv4n-"
    },
    {
      "cell_type": "markdown",
      "metadata": {
        "id": "JDxT4xmbn_8K"
      },
      "source": [
        "## Cấu hình matplotlib\n",
        "<hr>"
      ],
      "id": "JDxT4xmbn_8K"
    },
    {
      "cell_type": "markdown",
      "metadata": {
        "id": "DQlDq7TXn_8K"
      },
      "source": [
        "`matplotlib` đi kèm với các lược đồ màu và các giá trị mặc định hướng đến việc chuẩn bị cho các hình sẵn sàng lưu vào máy. Hầu như tất cả các tham số mặc định đều có thể được tùy chỉnh thông qua các tham số toàn cục quy định kích thước hình, khoảng cách subplot, màu sắc, kích thước phông chữ, kiểu lưới, v.v. Một cách để sửa đổi cấu hình theo chương trình từ Python là sử dụng phương thức `rc`; ví dụ, để đặt kích thước hình mặc định toàn cục là 10 × 10, bạn có thể nhập:\n",
        "\n",
        "`plt.rc(\"figure\", figsize=(10, 10))`\n",
        "\n",
        "Tất cả các cài đặt cấu hình hiện tại được tìm thấy trong từ điển `plt.rcParams`, và chúng có thể được khôi phục về giá trị mặc định bằng cách gọi hàm `plt.rcdefaults()`.\n",
        "\n",
        "Đối số đầu tiên cho `rc` là thành phần bạn muốn tùy chỉnh, chẳng hạn như `\"figure\"`, `\"axes\"`, `\"xtick\"`, `\"ytick\"`, `\"grid\"`, `\"legend\"`, hoặc nhiều thành phần khác. Sau đó có thể là một chuỗi các tham số từ khóa cho biết các tham số mới. Một cách thuận tiện để viết các tùy chọn trong chương trình của bạn là dưới dạng một từ điển:\n",
        "\n",
        "`plt.rc(\"font\", family=\"monospace\", weight=\"bold\", size=8)`\n",
        "\n",
        "Để tùy chỉnh rộng hơn và xem danh sách tất cả các tùy chọn, matplotlib đi kèm với một tệp cấu hình `matplotlibrc` trong thư mục `matplotlib/mpl-data`. Nếu bạn tùy chỉnh tệp này và đặt nó trong thư mục chính của mình với tên `.matplotlibrc`, nó sẽ được tải mỗi khi bạn sử dụng matplotlib.\n",
        "\n",
        "Như chúng ta sẽ thấy trong phần tiếp theo, thư viện `seaborn` có một số chủ đề hoặc kiểu đồ thị tích hợp sẵn sử dụng hệ thống cấu hình của matplotlib bên trong."
      ],
      "id": "DQlDq7TXn_8K"
    },
    {
      "cell_type": "markdown",
      "id": "0d7f9f3d-66d0-4e18-8532-0df99af7508a",
      "metadata": {
        "id": "0d7f9f3d-66d0-4e18-8532-0df99af7508a"
      },
      "source": [
        "# Vẽ đồ thị với pandas và seaborn\n",
        "<hr>"
      ]
    },
    {
      "cell_type": "markdown",
      "id": "1fbe8c64",
      "metadata": {
        "id": "1fbe8c64"
      },
      "source": [
        "`matplotlib` là một công cụ trực quan hóa dữ liệu ở mức độ khá cơ bản. Giống như bạn đang *lắp ráp* một đồ thị từ các thành phần cơ bản của nó bao gồm: hiển thị dữ liệu, chú giải, tiêu đề, nhãn vạch chia và các chú thích khác.\n",
        "\n",
        "Trong `pandas`, chúng ta có thể có nhiều cột dữ liệu, cùng với các chỉ số tên hàng và tên cột. Bản thân `pandas` có các phương thức tích hợp sẵn giúp đơn giản hóa việc tạo hình trực quan từ các đối tượng `DataFrame` và `Series`. Một thư viện khác là `seaborn`, một thư viện đồ họa thống kê cấp cao được xây dựng trên `matplotlib`. Ưu điểm của seaborn là đơn giản hóa việc tạo nhiều loại hình trực quan phổ biến."
      ]
    },
    {
      "cell_type": "markdown",
      "id": "39cb27e9-5d12-4178-b033-35c4e4fcb28d",
      "metadata": {
        "id": "39cb27e9-5d12-4178-b033-35c4e4fcb28d"
      },
      "source": [
        "## Đồ thị đường\n",
        "<hr>"
      ]
    },
    {
      "cell_type": "markdown",
      "id": "c2929e3c",
      "metadata": {
        "id": "c2929e3c"
      },
      "source": [
        "`Series` và `DataFrame` của `pandas` có một thuộc tính `plot` để tạo một số loại đồ thị cơ bản. Theo mặc định, `plot()` tạo đồ thị đường:"
      ]
    },
    {
      "cell_type": "code",
      "execution_count": null,
      "id": "1255c1c2",
      "metadata": {
        "id": "1255c1c2"
      },
      "outputs": [],
      "source": [
        "s = pd.Series(np.random.standard_normal(10).cumsum(), index=np.arange(0, 100, 10))\n",
        "s.plot()\n",
        "plt.savefig(\"chart16.png\")"
      ]
    },
    {
      "cell_type": "markdown",
      "source": [
        "![](https://raw.githubusercontent.com/toantran249/NEU_KHDL/70c3dcccbc152116fd201f1b380767d116132165/chart16.png)"
      ],
      "metadata": {
        "id": "MmS52GQtv8vm"
      },
      "id": "MmS52GQtv8vm"
    },
    {
      "cell_type": "markdown",
      "id": "2a38c505",
      "metadata": {
        "id": "2a38c505"
      },
      "source": [
        "Chỉ số của đối tượng `Series` được truyền cho `matplotlib` để vẽ trên trục x. Bạn đọc có thể vô hiệu hóa điều này bằng cách truyền `use_index=False`. Các vạch chia và giới hạn trục x có thể được điều chỉnh bằng các tùy chọn `xticks` và `xlim`, và trục y tương ứng với `yticks` và `ylim`. Bạn đọc xem bảng ... để biết danh sách một phần các tùy chọn `plot`. Chúng tôi sẽ giải thích thêm về một vài tùy chọn trong số đó và để lại phần còn lại cho bạn đọc khám phá.\n",
        "\n",
        "**Bảng ... các tham số phương thức Series.plot**\n",
        "\n",
        "| Đối số      | Mô tả                                                                                                  |\n",
        "|---------------|--------------------------------------------------------------------------------------------------------|\n",
        "| `label`       | Nhãn cho chú giải đồ thị                                                                                |\n",
        "| `ax`          | Đối tượng subplot matplotlib để vẽ trên đó; nếu không có gì được truyền, sử dụng subplot matplotlib đang hoạt động |\n",
        "| `style`       | Chuỗi kiểu, như `\"ko--\"`, được truyền cho matplotlib                                                    |\n",
        "| `alpha`       | Độ trong suốt của phần tô màu đồ thị (từ 0 đến 1)                                                               |\n",
        "| `kind`        | Có thể là `\"area\"`, `\"bar\"`, `\"barh\"`, `\"density\"`, `\"hist\"`, `\"kde\"`, `\"line\"`, hoặc `\"pie\"`; mặc định là `\"line\"` |\n",
        "| `figsize`     | Kích thước của đối tượng hình để tạo                                                                      |\n",
        "| `logx`        | Truyền `True` để chia tỷ lệ logarit trên trục x; truyền `\"sym\"` cho logarit đối xứng cho phép các giá trị âm |\n",
        "| `logy`        | Truyền `True` để chia tỷ lệ logarit trên trục y; truyền `\"sym\"` cho logarit đối xứng cho phép các giá trị âm |\n",
        "| `title`       | Tiêu đề để sử dụng cho đồ thị                                                                            |\n",
        "| `use_index`   | Sử dụng chỉ mục đối tượng cho các nhãn vạch chia                                                            |\n",
        "| `rot`         | Xoay các nhãn vạch chia (0 đến 360)                                                                      |\n",
        "| `xticks`      | Các giá trị để sử dụng cho các vạch chia trục x                                                               |\n",
        "| `yticks`      | Các giá trị để sử dụng cho các vạch chia trục y                                                               |\n",
        "| `xlim`        | Giới hạn trục x (ví dụ: `[0, 10]`)                                                                      |\n",
        "| `ylim`        | Giới hạn trục y                                                                                         |\n",
        "| `grid`        | Hiển thị lưới trục (tắt theo mặc định)                                                                      |\n",
        "\n",
        "Hầu hết các phương thức vẽ đồ thị của `pandas` đều chấp nhận một tham số `ax` tùy chọn, có thể là một đối tượng đồ thị con. Điều này mang lại cho chúng ta sự linh hoạt hơn trong việc bố trí các đồ thị con trong một bố cục.\n",
        "\n",
        "Phương thức `plot` của `DataFrame` vẽ từng cột dưới dạng một đường khác nhau trên cùng một đồ thị con đồng thời tự động tạo chú giải:"
      ]
    },
    {
      "cell_type": "code",
      "execution_count": null,
      "id": "693824b5",
      "metadata": {
        "id": "693824b5"
      },
      "outputs": [],
      "source": [
        "df = pd.DataFrame(np.random.standard_normal((10, 4)).cumsum(0),\n",
        "                  columns=[\"A\", \"B\", \"C\", \"D\"],\n",
        "                  index=np.arange(0, 100, 10))\n",
        "# plt.style.use('styles/bluestyle.txt')\n",
        "df.plot()\n",
        "plt.savefig(\"chart17.png\")"
      ]
    },
    {
      "cell_type": "markdown",
      "source": [
        "![](https://raw.githubusercontent.com/toantran249/NEU_KHDL/70c3dcccbc152116fd201f1b380767d116132165/chart17.png)"
      ],
      "metadata": {
        "id": "xxhXkU24v_eu"
      },
      "id": "xxhXkU24v_eu"
    },
    {
      "cell_type": "markdown",
      "id": "1750dd89",
      "metadata": {
        "id": "1750dd89"
      },
      "source": [
        "**Lưu ý**\n",
        "\n",
        "Ở đây chúng tôi đã sử dụng `plt.style.use('grayscale')` để chuyển sang một lược đồ màu phù hợp hơn cho in bản đen trắng.\n",
        "\n",
        "Thuộc tính `plot` chứa một \"họ\" các phương thức cho các loại đồ thị khác nhau. Ví dụ, `df.plot()` tương đương với `df.plot.line()`. Chúng ta sẽ khám phá một số phương thức này tiếp theo.\n",
        "\n",
        "**Lưu ý**\n",
        "\n",
        "Các tham số từ khóa bổ sung cho `plot` được truyền qua hàm vẽ đồ thị `matplotlib` tương ứng, vì vậy bạn có thể tùy chỉnh thêm các đồ thị này bằng cách tìm hiểu thêm về API matplotlib.\n",
        "\n",
        "`DataFrame` có một số tùy chọn cho phép một số linh hoạt về cách xử lý các cột, ví dụ, có vẽ tất cả chúng trên cùng một đồ thị con hay tạo các đồ thị con riêng biệt. Xem bảng ... để biết thêm về những điều này.\n",
        "\n",
        "**Bảng ... các tham số plot cụ thể của DataFrame**\n",
        "\n",
        "| Đối số          | Mô tả                                                                                      |\n",
        "|-------------------|--------------------------------------------------------------------------------------------|\n",
        "| `subplots`        | Vẽ mỗi cột DataFrame trong một subplot riêng biệt                                            |\n",
        "| `layouts`         | Tuple 2 chiều (hàng, cột) cung cấp bố cục của các subplot                                      |\n",
        "| `sharex`          | Nếu `subplots=True`, chia sẻ cùng một trục x, liên kết các vạch chia và giới hạn                   |\n",
        "| `sharey`          | Nếu `subplots=True`, chia sẻ cùng một trục y                                                   |\n",
        "| `legend`          | Thêm chú giải subplot (Mặc định là `True`)                                                      |\n",
        "| `sort_columns`    | Vẽ các cột theo thứ tự bảng chữ cái; theo mặc định sử dụng thứ tự cột hiện có                 |"
      ]
    },
    {
      "cell_type": "markdown",
      "id": "4488f11a-8ca7-4276-8759-b19ccad7a001",
      "metadata": {
        "id": "4488f11a-8ca7-4276-8759-b19ccad7a001"
      },
      "source": [
        "## Đồ thị cột\n",
        "<hr>"
      ]
    },
    {
      "cell_type": "markdown",
      "id": "e5852b41",
      "metadata": {
        "id": "e5852b41"
      },
      "source": [
        "`plot.bar()` và `plot.barh()` tạo các đồ thị cột dọc và cột ngang. Trong trường hợp này, chỉ số của `Series` hoặc `DataFrame` sẽ được sử dụng làm các vạch chia x (`bar`) hoặc y (`barh`):"
      ]
    },
    {
      "cell_type": "code",
      "execution_count": null,
      "id": "d5798405",
      "metadata": {
        "id": "d5798405"
      },
      "outputs": [],
      "source": [
        "fig, axes = plt.subplots(2, 1)\n",
        "data = pd.Series(np.random.uniform(size=16), index=list(\"abcdefghijklmnop\"))\n",
        "data.plot.bar(ax=axes[0], color=\"black\", alpha=0.7)\n",
        "data.plot.barh(ax=axes[1], color=\"black\", alpha=0.7)\n",
        "plt.tight_layout() # Để các subplot không bị chồng chéo\n",
        "plt.savefig(\"chart18.png\")"
      ]
    },
    {
      "cell_type": "markdown",
      "source": [
        "![](https://raw.githubusercontent.com/toantran249/NEU_KHDL/70c3dcccbc152116fd201f1b380767d116132165/chart18.png)"
      ],
      "metadata": {
        "id": "-5yWeyGawCpo"
      },
      "id": "-5yWeyGawCpo"
    },
    {
      "cell_type": "markdown",
      "id": "88d64083",
      "metadata": {
        "id": "88d64083"
      },
      "source": [
        "Với một DataFrame, các đồ thị cột nhóm các giá trị trong mỗi hàng thành các cột, đặt cạnh nhau, cho mỗi giá trị:"
      ]
    },
    {
      "cell_type": "code",
      "execution_count": null,
      "id": "cc758827",
      "metadata": {
        "id": "cc758827",
        "outputId": "e401ea3f-ad49-4396-a626-12347e82b873",
        "colab": {
          "base_uri": "https://localhost:8080/",
          "height": 238
        }
      },
      "outputs": [
        {
          "output_type": "execute_result",
          "data": {
            "text/plain": [
              "Genus         A         B         C         D\n",
              "one    0.529407  0.370528  0.319786  0.490527\n",
              "two    0.403968  0.083505  0.646519  0.095995\n",
              "three  0.546039  0.694285  0.763815  0.655596\n",
              "four   0.613853  0.001118  0.981829  0.564056\n",
              "five   0.308413  0.797035  0.154014  0.144516\n",
              "six    0.951734  0.316804  0.844746  0.369363"
            ],
            "text/html": [
              "\n",
              "  <div id=\"df-799d965e-ff0f-48c7-a4e2-42ffa10c50e3\" class=\"colab-df-container\">\n",
              "    <div>\n",
              "<style scoped>\n",
              "    .dataframe tbody tr th:only-of-type {\n",
              "        vertical-align: middle;\n",
              "    }\n",
              "\n",
              "    .dataframe tbody tr th {\n",
              "        vertical-align: top;\n",
              "    }\n",
              "\n",
              "    .dataframe thead th {\n",
              "        text-align: right;\n",
              "    }\n",
              "</style>\n",
              "<table border=\"1\" class=\"dataframe\">\n",
              "  <thead>\n",
              "    <tr style=\"text-align: right;\">\n",
              "      <th>Genus</th>\n",
              "      <th>A</th>\n",
              "      <th>B</th>\n",
              "      <th>C</th>\n",
              "      <th>D</th>\n",
              "    </tr>\n",
              "  </thead>\n",
              "  <tbody>\n",
              "    <tr>\n",
              "      <th>one</th>\n",
              "      <td>0.529407</td>\n",
              "      <td>0.370528</td>\n",
              "      <td>0.319786</td>\n",
              "      <td>0.490527</td>\n",
              "    </tr>\n",
              "    <tr>\n",
              "      <th>two</th>\n",
              "      <td>0.403968</td>\n",
              "      <td>0.083505</td>\n",
              "      <td>0.646519</td>\n",
              "      <td>0.095995</td>\n",
              "    </tr>\n",
              "    <tr>\n",
              "      <th>three</th>\n",
              "      <td>0.546039</td>\n",
              "      <td>0.694285</td>\n",
              "      <td>0.763815</td>\n",
              "      <td>0.655596</td>\n",
              "    </tr>\n",
              "    <tr>\n",
              "      <th>four</th>\n",
              "      <td>0.613853</td>\n",
              "      <td>0.001118</td>\n",
              "      <td>0.981829</td>\n",
              "      <td>0.564056</td>\n",
              "    </tr>\n",
              "    <tr>\n",
              "      <th>five</th>\n",
              "      <td>0.308413</td>\n",
              "      <td>0.797035</td>\n",
              "      <td>0.154014</td>\n",
              "      <td>0.144516</td>\n",
              "    </tr>\n",
              "    <tr>\n",
              "      <th>six</th>\n",
              "      <td>0.951734</td>\n",
              "      <td>0.316804</td>\n",
              "      <td>0.844746</td>\n",
              "      <td>0.369363</td>\n",
              "    </tr>\n",
              "  </tbody>\n",
              "</table>\n",
              "</div>\n",
              "    <div class=\"colab-df-buttons\">\n",
              "\n",
              "  <div class=\"colab-df-container\">\n",
              "    <button class=\"colab-df-convert\" onclick=\"convertToInteractive('df-799d965e-ff0f-48c7-a4e2-42ffa10c50e3')\"\n",
              "            title=\"Convert this dataframe to an interactive table.\"\n",
              "            style=\"display:none;\">\n",
              "\n",
              "  <svg xmlns=\"http://www.w3.org/2000/svg\" height=\"24px\" viewBox=\"0 -960 960 960\">\n",
              "    <path d=\"M120-120v-720h720v720H120Zm60-500h600v-160H180v160Zm220 220h160v-160H400v160Zm0 220h160v-160H400v160ZM180-400h160v-160H180v160Zm440 0h160v-160H620v160ZM180-180h160v-160H180v160Zm440 0h160v-160H620v160Z\"/>\n",
              "  </svg>\n",
              "    </button>\n",
              "\n",
              "  <style>\n",
              "    .colab-df-container {\n",
              "      display:flex;\n",
              "      gap: 12px;\n",
              "    }\n",
              "\n",
              "    .colab-df-convert {\n",
              "      background-color: #E8F0FE;\n",
              "      border: none;\n",
              "      border-radius: 50%;\n",
              "      cursor: pointer;\n",
              "      display: none;\n",
              "      fill: #1967D2;\n",
              "      height: 32px;\n",
              "      padding: 0 0 0 0;\n",
              "      width: 32px;\n",
              "    }\n",
              "\n",
              "    .colab-df-convert:hover {\n",
              "      background-color: #E2EBFA;\n",
              "      box-shadow: 0px 1px 2px rgba(60, 64, 67, 0.3), 0px 1px 3px 1px rgba(60, 64, 67, 0.15);\n",
              "      fill: #174EA6;\n",
              "    }\n",
              "\n",
              "    .colab-df-buttons div {\n",
              "      margin-bottom: 4px;\n",
              "    }\n",
              "\n",
              "    [theme=dark] .colab-df-convert {\n",
              "      background-color: #3B4455;\n",
              "      fill: #D2E3FC;\n",
              "    }\n",
              "\n",
              "    [theme=dark] .colab-df-convert:hover {\n",
              "      background-color: #434B5C;\n",
              "      box-shadow: 0px 1px 3px 1px rgba(0, 0, 0, 0.15);\n",
              "      filter: drop-shadow(0px 1px 2px rgba(0, 0, 0, 0.3));\n",
              "      fill: #FFFFFF;\n",
              "    }\n",
              "  </style>\n",
              "\n",
              "    <script>\n",
              "      const buttonEl =\n",
              "        document.querySelector('#df-799d965e-ff0f-48c7-a4e2-42ffa10c50e3 button.colab-df-convert');\n",
              "      buttonEl.style.display =\n",
              "        google.colab.kernel.accessAllowed ? 'block' : 'none';\n",
              "\n",
              "      async function convertToInteractive(key) {\n",
              "        const element = document.querySelector('#df-799d965e-ff0f-48c7-a4e2-42ffa10c50e3');\n",
              "        const dataTable =\n",
              "          await google.colab.kernel.invokeFunction('convertToInteractive',\n",
              "                                                    [key], {});\n",
              "        if (!dataTable) return;\n",
              "\n",
              "        const docLinkHtml = 'Like what you see? Visit the ' +\n",
              "          '<a target=\"_blank\" href=https://colab.research.google.com/notebooks/data_table.ipynb>data table notebook</a>'\n",
              "          + ' to learn more about interactive tables.';\n",
              "        element.innerHTML = '';\n",
              "        dataTable['output_type'] = 'display_data';\n",
              "        await google.colab.output.renderOutput(dataTable, element);\n",
              "        const docLink = document.createElement('div');\n",
              "        docLink.innerHTML = docLinkHtml;\n",
              "        element.appendChild(docLink);\n",
              "      }\n",
              "    </script>\n",
              "  </div>\n",
              "\n",
              "\n",
              "    <div id=\"df-2e9931c7-a5ab-45fc-9bbd-b4c498ba44f8\">\n",
              "      <button class=\"colab-df-quickchart\" onclick=\"quickchart('df-2e9931c7-a5ab-45fc-9bbd-b4c498ba44f8')\"\n",
              "                title=\"Suggest charts\"\n",
              "                style=\"display:none;\">\n",
              "\n",
              "<svg xmlns=\"http://www.w3.org/2000/svg\" height=\"24px\"viewBox=\"0 0 24 24\"\n",
              "     width=\"24px\">\n",
              "    <g>\n",
              "        <path d=\"M19 3H5c-1.1 0-2 .9-2 2v14c0 1.1.9 2 2 2h14c1.1 0 2-.9 2-2V5c0-1.1-.9-2-2-2zM9 17H7v-7h2v7zm4 0h-2V7h2v10zm4 0h-2v-4h2v4z\"/>\n",
              "    </g>\n",
              "</svg>\n",
              "      </button>\n",
              "\n",
              "<style>\n",
              "  .colab-df-quickchart {\n",
              "      --bg-color: #E8F0FE;\n",
              "      --fill-color: #1967D2;\n",
              "      --hover-bg-color: #E2EBFA;\n",
              "      --hover-fill-color: #174EA6;\n",
              "      --disabled-fill-color: #AAA;\n",
              "      --disabled-bg-color: #DDD;\n",
              "  }\n",
              "\n",
              "  [theme=dark] .colab-df-quickchart {\n",
              "      --bg-color: #3B4455;\n",
              "      --fill-color: #D2E3FC;\n",
              "      --hover-bg-color: #434B5C;\n",
              "      --hover-fill-color: #FFFFFF;\n",
              "      --disabled-bg-color: #3B4455;\n",
              "      --disabled-fill-color: #666;\n",
              "  }\n",
              "\n",
              "  .colab-df-quickchart {\n",
              "    background-color: var(--bg-color);\n",
              "    border: none;\n",
              "    border-radius: 50%;\n",
              "    cursor: pointer;\n",
              "    display: none;\n",
              "    fill: var(--fill-color);\n",
              "    height: 32px;\n",
              "    padding: 0;\n",
              "    width: 32px;\n",
              "  }\n",
              "\n",
              "  .colab-df-quickchart:hover {\n",
              "    background-color: var(--hover-bg-color);\n",
              "    box-shadow: 0 1px 2px rgba(60, 64, 67, 0.3), 0 1px 3px 1px rgba(60, 64, 67, 0.15);\n",
              "    fill: var(--button-hover-fill-color);\n",
              "  }\n",
              "\n",
              "  .colab-df-quickchart-complete:disabled,\n",
              "  .colab-df-quickchart-complete:disabled:hover {\n",
              "    background-color: var(--disabled-bg-color);\n",
              "    fill: var(--disabled-fill-color);\n",
              "    box-shadow: none;\n",
              "  }\n",
              "\n",
              "  .colab-df-spinner {\n",
              "    border: 2px solid var(--fill-color);\n",
              "    border-color: transparent;\n",
              "    border-bottom-color: var(--fill-color);\n",
              "    animation:\n",
              "      spin 1s steps(1) infinite;\n",
              "  }\n",
              "\n",
              "  @keyframes spin {\n",
              "    0% {\n",
              "      border-color: transparent;\n",
              "      border-bottom-color: var(--fill-color);\n",
              "      border-left-color: var(--fill-color);\n",
              "    }\n",
              "    20% {\n",
              "      border-color: transparent;\n",
              "      border-left-color: var(--fill-color);\n",
              "      border-top-color: var(--fill-color);\n",
              "    }\n",
              "    30% {\n",
              "      border-color: transparent;\n",
              "      border-left-color: var(--fill-color);\n",
              "      border-top-color: var(--fill-color);\n",
              "      border-right-color: var(--fill-color);\n",
              "    }\n",
              "    40% {\n",
              "      border-color: transparent;\n",
              "      border-right-color: var(--fill-color);\n",
              "      border-top-color: var(--fill-color);\n",
              "    }\n",
              "    60% {\n",
              "      border-color: transparent;\n",
              "      border-right-color: var(--fill-color);\n",
              "    }\n",
              "    80% {\n",
              "      border-color: transparent;\n",
              "      border-right-color: var(--fill-color);\n",
              "      border-bottom-color: var(--fill-color);\n",
              "    }\n",
              "    90% {\n",
              "      border-color: transparent;\n",
              "      border-bottom-color: var(--fill-color);\n",
              "    }\n",
              "  }\n",
              "</style>\n",
              "\n",
              "      <script>\n",
              "        async function quickchart(key) {\n",
              "          const quickchartButtonEl =\n",
              "            document.querySelector('#' + key + ' button');\n",
              "          quickchartButtonEl.disabled = true;  // To prevent multiple clicks.\n",
              "          quickchartButtonEl.classList.add('colab-df-spinner');\n",
              "          try {\n",
              "            const charts = await google.colab.kernel.invokeFunction(\n",
              "                'suggestCharts', [key], {});\n",
              "          } catch (error) {\n",
              "            console.error('Error during call to suggestCharts:', error);\n",
              "          }\n",
              "          quickchartButtonEl.classList.remove('colab-df-spinner');\n",
              "          quickchartButtonEl.classList.add('colab-df-quickchart-complete');\n",
              "        }\n",
              "        (() => {\n",
              "          let quickchartButtonEl =\n",
              "            document.querySelector('#df-2e9931c7-a5ab-45fc-9bbd-b4c498ba44f8 button');\n",
              "          quickchartButtonEl.style.display =\n",
              "            google.colab.kernel.accessAllowed ? 'block' : 'none';\n",
              "        })();\n",
              "      </script>\n",
              "    </div>\n",
              "\n",
              "  <div id=\"id_bbeba244-d8b6-40e8-a7e7-977fc0774838\">\n",
              "    <style>\n",
              "      .colab-df-generate {\n",
              "        background-color: #E8F0FE;\n",
              "        border: none;\n",
              "        border-radius: 50%;\n",
              "        cursor: pointer;\n",
              "        display: none;\n",
              "        fill: #1967D2;\n",
              "        height: 32px;\n",
              "        padding: 0 0 0 0;\n",
              "        width: 32px;\n",
              "      }\n",
              "\n",
              "      .colab-df-generate:hover {\n",
              "        background-color: #E2EBFA;\n",
              "        box-shadow: 0px 1px 2px rgba(60, 64, 67, 0.3), 0px 1px 3px 1px rgba(60, 64, 67, 0.15);\n",
              "        fill: #174EA6;\n",
              "      }\n",
              "\n",
              "      [theme=dark] .colab-df-generate {\n",
              "        background-color: #3B4455;\n",
              "        fill: #D2E3FC;\n",
              "      }\n",
              "\n",
              "      [theme=dark] .colab-df-generate:hover {\n",
              "        background-color: #434B5C;\n",
              "        box-shadow: 0px 1px 3px 1px rgba(0, 0, 0, 0.15);\n",
              "        filter: drop-shadow(0px 1px 2px rgba(0, 0, 0, 0.3));\n",
              "        fill: #FFFFFF;\n",
              "      }\n",
              "    </style>\n",
              "    <button class=\"colab-df-generate\" onclick=\"generateWithVariable('df')\"\n",
              "            title=\"Generate code using this dataframe.\"\n",
              "            style=\"display:none;\">\n",
              "\n",
              "  <svg xmlns=\"http://www.w3.org/2000/svg\" height=\"24px\"viewBox=\"0 0 24 24\"\n",
              "       width=\"24px\">\n",
              "    <path d=\"M7,19H8.4L18.45,9,17,7.55,7,17.6ZM5,21V16.75L18.45,3.32a2,2,0,0,1,2.83,0l1.4,1.43a1.91,1.91,0,0,1,.58,1.4,1.91,1.91,0,0,1-.58,1.4L9.25,21ZM18.45,9,17,7.55Zm-12,3A5.31,5.31,0,0,0,4.9,8.1,5.31,5.31,0,0,0,1,6.5,5.31,5.31,0,0,0,4.9,4.9,5.31,5.31,0,0,0,6.5,1,5.31,5.31,0,0,0,8.1,4.9,5.31,5.31,0,0,0,12,6.5,5.46,5.46,0,0,0,6.5,12Z\"/>\n",
              "  </svg>\n",
              "    </button>\n",
              "    <script>\n",
              "      (() => {\n",
              "      const buttonEl =\n",
              "        document.querySelector('#id_bbeba244-d8b6-40e8-a7e7-977fc0774838 button.colab-df-generate');\n",
              "      buttonEl.style.display =\n",
              "        google.colab.kernel.accessAllowed ? 'block' : 'none';\n",
              "\n",
              "      buttonEl.onclick = () => {\n",
              "        google.colab.notebook.generateWithVariable('df');\n",
              "      }\n",
              "      })();\n",
              "    </script>\n",
              "  </div>\n",
              "\n",
              "    </div>\n",
              "  </div>\n"
            ],
            "application/vnd.google.colaboratory.intrinsic+json": {
              "type": "dataframe",
              "variable_name": "df",
              "summary": "{\n  \"name\": \"df\",\n  \"rows\": 6,\n  \"fields\": [\n    {\n      \"column\": \"A\",\n      \"properties\": {\n        \"dtype\": \"number\",\n        \"std\": 0.22141428245795644,\n        \"min\": 0.30841304927560476,\n        \"max\": 0.9517340606473539,\n        \"num_unique_values\": 6,\n        \"samples\": [\n          0.5294067483427319,\n          0.4039677135358841,\n          0.9517340606473539\n        ],\n        \"semantic_type\": \"\",\n        \"description\": \"\"\n      }\n    },\n    {\n      \"column\": \"B\",\n      \"properties\": {\n        \"dtype\": \"number\",\n        \"std\": 0.3188072875622597,\n        \"min\": 0.0011178608359119213,\n        \"max\": 0.7970347328726851,\n        \"num_unique_values\": 6,\n        \"samples\": [\n          0.3705284719407931,\n          0.0835053891517491,\n          0.3168037406568067\n        ],\n        \"semantic_type\": \"\",\n        \"description\": \"\"\n      }\n    },\n    {\n      \"column\": \"C\",\n      \"properties\": {\n        \"dtype\": \"number\",\n        \"std\": 0.3193973404301331,\n        \"min\": 0.15401423445572537,\n        \"max\": 0.9818287224957888,\n        \"num_unique_values\": 6,\n        \"samples\": [\n          0.31978612168795495,\n          0.6465186246516564,\n          0.8447455512468695\n        ],\n        \"semantic_type\": \"\",\n        \"description\": \"\"\n      }\n    },\n    {\n      \"column\": \"D\",\n      \"properties\": {\n        \"dtype\": \"number\",\n        \"std\": 0.22715764430479163,\n        \"min\": 0.09599525116655372,\n        \"max\": 0.6555959277734653,\n        \"num_unique_values\": 6,\n        \"samples\": [\n          0.49052702216780353,\n          0.09599525116655372,\n          0.36936303925165626\n        ],\n        \"semantic_type\": \"\",\n        \"description\": \"\"\n      }\n    }\n  ]\n}"
            }
          },
          "metadata": {},
          "execution_count": 48
        }
      ],
      "source": [
        "df = pd.DataFrame(np.random.uniform(size=(6, 4)),\n",
        "                  index=[\"one\", \"two\", \"three\", \"four\", \"five\", \"six\"],\n",
        "                  columns=pd.Index([\"A\", \"B\", \"C\", \"D\"], name=\"Genus\"))\n",
        "df"
      ]
    },
    {
      "cell_type": "code",
      "execution_count": null,
      "id": "bc179aec-2105-43c5-8bc7-d805d10780e8",
      "metadata": {
        "id": "bc179aec-2105-43c5-8bc7-d805d10780e8"
      },
      "outputs": [],
      "source": [
        "df.plot.bar()\n",
        "plt.savefig(\"chart19.png\")"
      ]
    },
    {
      "cell_type": "markdown",
      "source": [
        "![](https://raw.githubusercontent.com/toantran249/NEU_KHDL/70c3dcccbc152116fd201f1b380767d116132165/chart19.png)"
      ],
      "metadata": {
        "id": "uXFOXLA-wF64"
      },
      "id": "uXFOXLA-wF64"
    },
    {
      "cell_type": "markdown",
      "id": "58994ac2",
      "metadata": {
        "id": "58994ac2"
      },
      "source": [
        "Lưu ý rằng tên “Genus” trên các cột của `DataFrame` được sử dụng để đặt tiêu đề cho chú giải.\n",
        "\n",
        "Chúng ta tạo các đồ thị cột xếp chồng từ một `DataFrame` bằng cách sử dụng `stacked=True`, dẫn đến giá trị trong mỗi hàng được xếp chồng lên nhau theo chiều ngang:"
      ]
    },
    {
      "cell_type": "code",
      "execution_count": null,
      "id": "f9f41d33-fa52-40a3-8636-fcc00dc1184a",
      "metadata": {
        "id": "f9f41d33-fa52-40a3-8636-fcc00dc1184a"
      },
      "outputs": [],
      "source": [
        "df.plot.barh(stacked=True, alpha=0.8)\n",
        "plt.savefig(\"chart20.png\")"
      ]
    },
    {
      "cell_type": "markdown",
      "source": [
        "![](https://raw.githubusercontent.com/toantran249/NEU_KHDL/70c3dcccbc152116fd201f1b380767d116132165/chart20.png)"
      ],
      "metadata": {
        "id": "B6EDO53nwIDg"
      },
      "id": "B6EDO53nwIDg"
    },
    {
      "cell_type": "markdown",
      "id": "a1a2a3d9",
      "metadata": {
        "id": "a1a2a3d9"
      },
      "source": [
        "**Lưu ý**\n",
        "\n",
        "Một công thức hữu ích cho các đồ thị cột là trực quan hóa tần suất giá trị của một `Series` bằng cách sử dụng `value_counts`: `s.value_counts().plot.bar()`.\n",
        "\n",
        "Hãy xem một ví dụ về tập dữ liệu tiền boa nhà hàng. Giả sử chúng ta muốn tạo một đồ thị cột xếp chồng hiển thị tỷ lệ phần trăm các điểm dữ liệu cho mỗi quy mô bữa tiệc cho mỗi ngày. Chúng ta tải dữ liệu bằng `read_csv` và tạo một bảng chéo theo ngày và quy mô bữa tiệc. Hàm `pandas.crosstab` là một cách thuận tiện để tính toán một bảng tần suất đơn giản từ hai cột DataFrame:"
      ]
    },
    {
      "cell_type": "code",
      "execution_count": null,
      "id": "19630933",
      "metadata": {
        "id": "19630933",
        "outputId": "e502d22b-9d49-4924-d448-b466a1607fbe",
        "colab": {
          "base_uri": "https://localhost:8080/",
          "height": 424
        }
      },
      "outputs": [
        {
          "output_type": "execute_result",
          "data": {
            "text/plain": [
              "     total_bill   tip smoker   day    time  size\n",
              "0         16.99  1.01     No   Sun  Dinner     2\n",
              "1         10.34  1.66     No   Sun  Dinner     3\n",
              "2         21.01  3.50     No   Sun  Dinner     3\n",
              "3         23.68  3.31     No   Sun  Dinner     2\n",
              "4         24.59  3.61     No   Sun  Dinner     4\n",
              "..          ...   ...    ...   ...     ...   ...\n",
              "282       29.03  5.92     No   Sat  Dinner     3\n",
              "283       27.18  2.00     No   Sat  Dinner     2\n",
              "284       22.67  2.00    Yes   Sat  Dinner     2\n",
              "285       17.82  1.75     No   Sat  Dinner     2\n",
              "286       18.78  3.00     No  Thur  Dinner     2\n",
              "\n",
              "[287 rows x 6 columns]"
            ],
            "text/html": [
              "\n",
              "  <div id=\"df-3ef75de2-39df-4ba6-8e11-d4c0e82b5753\" class=\"colab-df-container\">\n",
              "    <div>\n",
              "<style scoped>\n",
              "    .dataframe tbody tr th:only-of-type {\n",
              "        vertical-align: middle;\n",
              "    }\n",
              "\n",
              "    .dataframe tbody tr th {\n",
              "        vertical-align: top;\n",
              "    }\n",
              "\n",
              "    .dataframe thead th {\n",
              "        text-align: right;\n",
              "    }\n",
              "</style>\n",
              "<table border=\"1\" class=\"dataframe\">\n",
              "  <thead>\n",
              "    <tr style=\"text-align: right;\">\n",
              "      <th></th>\n",
              "      <th>total_bill</th>\n",
              "      <th>tip</th>\n",
              "      <th>smoker</th>\n",
              "      <th>day</th>\n",
              "      <th>time</th>\n",
              "      <th>size</th>\n",
              "    </tr>\n",
              "  </thead>\n",
              "  <tbody>\n",
              "    <tr>\n",
              "      <th>0</th>\n",
              "      <td>16.99</td>\n",
              "      <td>1.01</td>\n",
              "      <td>No</td>\n",
              "      <td>Sun</td>\n",
              "      <td>Dinner</td>\n",
              "      <td>2</td>\n",
              "    </tr>\n",
              "    <tr>\n",
              "      <th>1</th>\n",
              "      <td>10.34</td>\n",
              "      <td>1.66</td>\n",
              "      <td>No</td>\n",
              "      <td>Sun</td>\n",
              "      <td>Dinner</td>\n",
              "      <td>3</td>\n",
              "    </tr>\n",
              "    <tr>\n",
              "      <th>2</th>\n",
              "      <td>21.01</td>\n",
              "      <td>3.50</td>\n",
              "      <td>No</td>\n",
              "      <td>Sun</td>\n",
              "      <td>Dinner</td>\n",
              "      <td>3</td>\n",
              "    </tr>\n",
              "    <tr>\n",
              "      <th>3</th>\n",
              "      <td>23.68</td>\n",
              "      <td>3.31</td>\n",
              "      <td>No</td>\n",
              "      <td>Sun</td>\n",
              "      <td>Dinner</td>\n",
              "      <td>2</td>\n",
              "    </tr>\n",
              "    <tr>\n",
              "      <th>4</th>\n",
              "      <td>24.59</td>\n",
              "      <td>3.61</td>\n",
              "      <td>No</td>\n",
              "      <td>Sun</td>\n",
              "      <td>Dinner</td>\n",
              "      <td>4</td>\n",
              "    </tr>\n",
              "    <tr>\n",
              "      <th>...</th>\n",
              "      <td>...</td>\n",
              "      <td>...</td>\n",
              "      <td>...</td>\n",
              "      <td>...</td>\n",
              "      <td>...</td>\n",
              "      <td>...</td>\n",
              "    </tr>\n",
              "    <tr>\n",
              "      <th>282</th>\n",
              "      <td>29.03</td>\n",
              "      <td>5.92</td>\n",
              "      <td>No</td>\n",
              "      <td>Sat</td>\n",
              "      <td>Dinner</td>\n",
              "      <td>3</td>\n",
              "    </tr>\n",
              "    <tr>\n",
              "      <th>283</th>\n",
              "      <td>27.18</td>\n",
              "      <td>2.00</td>\n",
              "      <td>No</td>\n",
              "      <td>Sat</td>\n",
              "      <td>Dinner</td>\n",
              "      <td>2</td>\n",
              "    </tr>\n",
              "    <tr>\n",
              "      <th>284</th>\n",
              "      <td>22.67</td>\n",
              "      <td>2.00</td>\n",
              "      <td>Yes</td>\n",
              "      <td>Sat</td>\n",
              "      <td>Dinner</td>\n",
              "      <td>2</td>\n",
              "    </tr>\n",
              "    <tr>\n",
              "      <th>285</th>\n",
              "      <td>17.82</td>\n",
              "      <td>1.75</td>\n",
              "      <td>No</td>\n",
              "      <td>Sat</td>\n",
              "      <td>Dinner</td>\n",
              "      <td>2</td>\n",
              "    </tr>\n",
              "    <tr>\n",
              "      <th>286</th>\n",
              "      <td>18.78</td>\n",
              "      <td>3.00</td>\n",
              "      <td>No</td>\n",
              "      <td>Thur</td>\n",
              "      <td>Dinner</td>\n",
              "      <td>2</td>\n",
              "    </tr>\n",
              "  </tbody>\n",
              "</table>\n",
              "<p>287 rows × 6 columns</p>\n",
              "</div>\n",
              "    <div class=\"colab-df-buttons\">\n",
              "\n",
              "  <div class=\"colab-df-container\">\n",
              "    <button class=\"colab-df-convert\" onclick=\"convertToInteractive('df-3ef75de2-39df-4ba6-8e11-d4c0e82b5753')\"\n",
              "            title=\"Convert this dataframe to an interactive table.\"\n",
              "            style=\"display:none;\">\n",
              "\n",
              "  <svg xmlns=\"http://www.w3.org/2000/svg\" height=\"24px\" viewBox=\"0 -960 960 960\">\n",
              "    <path d=\"M120-120v-720h720v720H120Zm60-500h600v-160H180v160Zm220 220h160v-160H400v160Zm0 220h160v-160H400v160ZM180-400h160v-160H180v160Zm440 0h160v-160H620v160ZM180-180h160v-160H180v160Zm440 0h160v-160H620v160Z\"/>\n",
              "  </svg>\n",
              "    </button>\n",
              "\n",
              "  <style>\n",
              "    .colab-df-container {\n",
              "      display:flex;\n",
              "      gap: 12px;\n",
              "    }\n",
              "\n",
              "    .colab-df-convert {\n",
              "      background-color: #E8F0FE;\n",
              "      border: none;\n",
              "      border-radius: 50%;\n",
              "      cursor: pointer;\n",
              "      display: none;\n",
              "      fill: #1967D2;\n",
              "      height: 32px;\n",
              "      padding: 0 0 0 0;\n",
              "      width: 32px;\n",
              "    }\n",
              "\n",
              "    .colab-df-convert:hover {\n",
              "      background-color: #E2EBFA;\n",
              "      box-shadow: 0px 1px 2px rgba(60, 64, 67, 0.3), 0px 1px 3px 1px rgba(60, 64, 67, 0.15);\n",
              "      fill: #174EA6;\n",
              "    }\n",
              "\n",
              "    .colab-df-buttons div {\n",
              "      margin-bottom: 4px;\n",
              "    }\n",
              "\n",
              "    [theme=dark] .colab-df-convert {\n",
              "      background-color: #3B4455;\n",
              "      fill: #D2E3FC;\n",
              "    }\n",
              "\n",
              "    [theme=dark] .colab-df-convert:hover {\n",
              "      background-color: #434B5C;\n",
              "      box-shadow: 0px 1px 3px 1px rgba(0, 0, 0, 0.15);\n",
              "      filter: drop-shadow(0px 1px 2px rgba(0, 0, 0, 0.3));\n",
              "      fill: #FFFFFF;\n",
              "    }\n",
              "  </style>\n",
              "\n",
              "    <script>\n",
              "      const buttonEl =\n",
              "        document.querySelector('#df-3ef75de2-39df-4ba6-8e11-d4c0e82b5753 button.colab-df-convert');\n",
              "      buttonEl.style.display =\n",
              "        google.colab.kernel.accessAllowed ? 'block' : 'none';\n",
              "\n",
              "      async function convertToInteractive(key) {\n",
              "        const element = document.querySelector('#df-3ef75de2-39df-4ba6-8e11-d4c0e82b5753');\n",
              "        const dataTable =\n",
              "          await google.colab.kernel.invokeFunction('convertToInteractive',\n",
              "                                                    [key], {});\n",
              "        if (!dataTable) return;\n",
              "\n",
              "        const docLinkHtml = 'Like what you see? Visit the ' +\n",
              "          '<a target=\"_blank\" href=https://colab.research.google.com/notebooks/data_table.ipynb>data table notebook</a>'\n",
              "          + ' to learn more about interactive tables.';\n",
              "        element.innerHTML = '';\n",
              "        dataTable['output_type'] = 'display_data';\n",
              "        await google.colab.output.renderOutput(dataTable, element);\n",
              "        const docLink = document.createElement('div');\n",
              "        docLink.innerHTML = docLinkHtml;\n",
              "        element.appendChild(docLink);\n",
              "      }\n",
              "    </script>\n",
              "  </div>\n",
              "\n",
              "\n",
              "    <div id=\"df-6d68800a-06ce-43ea-8bf5-9bd0dab39a9d\">\n",
              "      <button class=\"colab-df-quickchart\" onclick=\"quickchart('df-6d68800a-06ce-43ea-8bf5-9bd0dab39a9d')\"\n",
              "                title=\"Suggest charts\"\n",
              "                style=\"display:none;\">\n",
              "\n",
              "<svg xmlns=\"http://www.w3.org/2000/svg\" height=\"24px\"viewBox=\"0 0 24 24\"\n",
              "     width=\"24px\">\n",
              "    <g>\n",
              "        <path d=\"M19 3H5c-1.1 0-2 .9-2 2v14c0 1.1.9 2 2 2h14c1.1 0 2-.9 2-2V5c0-1.1-.9-2-2-2zM9 17H7v-7h2v7zm4 0h-2V7h2v10zm4 0h-2v-4h2v4z\"/>\n",
              "    </g>\n",
              "</svg>\n",
              "      </button>\n",
              "\n",
              "<style>\n",
              "  .colab-df-quickchart {\n",
              "      --bg-color: #E8F0FE;\n",
              "      --fill-color: #1967D2;\n",
              "      --hover-bg-color: #E2EBFA;\n",
              "      --hover-fill-color: #174EA6;\n",
              "      --disabled-fill-color: #AAA;\n",
              "      --disabled-bg-color: #DDD;\n",
              "  }\n",
              "\n",
              "  [theme=dark] .colab-df-quickchart {\n",
              "      --bg-color: #3B4455;\n",
              "      --fill-color: #D2E3FC;\n",
              "      --hover-bg-color: #434B5C;\n",
              "      --hover-fill-color: #FFFFFF;\n",
              "      --disabled-bg-color: #3B4455;\n",
              "      --disabled-fill-color: #666;\n",
              "  }\n",
              "\n",
              "  .colab-df-quickchart {\n",
              "    background-color: var(--bg-color);\n",
              "    border: none;\n",
              "    border-radius: 50%;\n",
              "    cursor: pointer;\n",
              "    display: none;\n",
              "    fill: var(--fill-color);\n",
              "    height: 32px;\n",
              "    padding: 0;\n",
              "    width: 32px;\n",
              "  }\n",
              "\n",
              "  .colab-df-quickchart:hover {\n",
              "    background-color: var(--hover-bg-color);\n",
              "    box-shadow: 0 1px 2px rgba(60, 64, 67, 0.3), 0 1px 3px 1px rgba(60, 64, 67, 0.15);\n",
              "    fill: var(--button-hover-fill-color);\n",
              "  }\n",
              "\n",
              "  .colab-df-quickchart-complete:disabled,\n",
              "  .colab-df-quickchart-complete:disabled:hover {\n",
              "    background-color: var(--disabled-bg-color);\n",
              "    fill: var(--disabled-fill-color);\n",
              "    box-shadow: none;\n",
              "  }\n",
              "\n",
              "  .colab-df-spinner {\n",
              "    border: 2px solid var(--fill-color);\n",
              "    border-color: transparent;\n",
              "    border-bottom-color: var(--fill-color);\n",
              "    animation:\n",
              "      spin 1s steps(1) infinite;\n",
              "  }\n",
              "\n",
              "  @keyframes spin {\n",
              "    0% {\n",
              "      border-color: transparent;\n",
              "      border-bottom-color: var(--fill-color);\n",
              "      border-left-color: var(--fill-color);\n",
              "    }\n",
              "    20% {\n",
              "      border-color: transparent;\n",
              "      border-left-color: var(--fill-color);\n",
              "      border-top-color: var(--fill-color);\n",
              "    }\n",
              "    30% {\n",
              "      border-color: transparent;\n",
              "      border-left-color: var(--fill-color);\n",
              "      border-top-color: var(--fill-color);\n",
              "      border-right-color: var(--fill-color);\n",
              "    }\n",
              "    40% {\n",
              "      border-color: transparent;\n",
              "      border-right-color: var(--fill-color);\n",
              "      border-top-color: var(--fill-color);\n",
              "    }\n",
              "    60% {\n",
              "      border-color: transparent;\n",
              "      border-right-color: var(--fill-color);\n",
              "    }\n",
              "    80% {\n",
              "      border-color: transparent;\n",
              "      border-right-color: var(--fill-color);\n",
              "      border-bottom-color: var(--fill-color);\n",
              "    }\n",
              "    90% {\n",
              "      border-color: transparent;\n",
              "      border-bottom-color: var(--fill-color);\n",
              "    }\n",
              "  }\n",
              "</style>\n",
              "\n",
              "      <script>\n",
              "        async function quickchart(key) {\n",
              "          const quickchartButtonEl =\n",
              "            document.querySelector('#' + key + ' button');\n",
              "          quickchartButtonEl.disabled = true;  // To prevent multiple clicks.\n",
              "          quickchartButtonEl.classList.add('colab-df-spinner');\n",
              "          try {\n",
              "            const charts = await google.colab.kernel.invokeFunction(\n",
              "                'suggestCharts', [key], {});\n",
              "          } catch (error) {\n",
              "            console.error('Error during call to suggestCharts:', error);\n",
              "          }\n",
              "          quickchartButtonEl.classList.remove('colab-df-spinner');\n",
              "          quickchartButtonEl.classList.add('colab-df-quickchart-complete');\n",
              "        }\n",
              "        (() => {\n",
              "          let quickchartButtonEl =\n",
              "            document.querySelector('#df-6d68800a-06ce-43ea-8bf5-9bd0dab39a9d button');\n",
              "          quickchartButtonEl.style.display =\n",
              "            google.colab.kernel.accessAllowed ? 'block' : 'none';\n",
              "        })();\n",
              "      </script>\n",
              "    </div>\n",
              "\n",
              "  <div id=\"id_5ac4ef89-f6b6-423f-b58b-ced7745d0735\">\n",
              "    <style>\n",
              "      .colab-df-generate {\n",
              "        background-color: #E8F0FE;\n",
              "        border: none;\n",
              "        border-radius: 50%;\n",
              "        cursor: pointer;\n",
              "        display: none;\n",
              "        fill: #1967D2;\n",
              "        height: 32px;\n",
              "        padding: 0 0 0 0;\n",
              "        width: 32px;\n",
              "      }\n",
              "\n",
              "      .colab-df-generate:hover {\n",
              "        background-color: #E2EBFA;\n",
              "        box-shadow: 0px 1px 2px rgba(60, 64, 67, 0.3), 0px 1px 3px 1px rgba(60, 64, 67, 0.15);\n",
              "        fill: #174EA6;\n",
              "      }\n",
              "\n",
              "      [theme=dark] .colab-df-generate {\n",
              "        background-color: #3B4455;\n",
              "        fill: #D2E3FC;\n",
              "      }\n",
              "\n",
              "      [theme=dark] .colab-df-generate:hover {\n",
              "        background-color: #434B5C;\n",
              "        box-shadow: 0px 1px 3px 1px rgba(0, 0, 0, 0.15);\n",
              "        filter: drop-shadow(0px 1px 2px rgba(0, 0, 0, 0.3));\n",
              "        fill: #FFFFFF;\n",
              "      }\n",
              "    </style>\n",
              "    <button class=\"colab-df-generate\" onclick=\"generateWithVariable('tips')\"\n",
              "            title=\"Generate code using this dataframe.\"\n",
              "            style=\"display:none;\">\n",
              "\n",
              "  <svg xmlns=\"http://www.w3.org/2000/svg\" height=\"24px\"viewBox=\"0 0 24 24\"\n",
              "       width=\"24px\">\n",
              "    <path d=\"M7,19H8.4L18.45,9,17,7.55,7,17.6ZM5,21V16.75L18.45,3.32a2,2,0,0,1,2.83,0l1.4,1.43a1.91,1.91,0,0,1,.58,1.4,1.91,1.91,0,0,1-.58,1.4L9.25,21ZM18.45,9,17,7.55Zm-12,3A5.31,5.31,0,0,0,4.9,8.1,5.31,5.31,0,0,0,1,6.5,5.31,5.31,0,0,0,4.9,4.9,5.31,5.31,0,0,0,6.5,1,5.31,5.31,0,0,0,8.1,4.9,5.31,5.31,0,0,0,12,6.5,5.46,5.46,0,0,0,6.5,12Z\"/>\n",
              "  </svg>\n",
              "    </button>\n",
              "    <script>\n",
              "      (() => {\n",
              "      const buttonEl =\n",
              "        document.querySelector('#id_5ac4ef89-f6b6-423f-b58b-ced7745d0735 button.colab-df-generate');\n",
              "      buttonEl.style.display =\n",
              "        google.colab.kernel.accessAllowed ? 'block' : 'none';\n",
              "\n",
              "      buttonEl.onclick = () => {\n",
              "        google.colab.notebook.generateWithVariable('tips');\n",
              "      }\n",
              "      })();\n",
              "    </script>\n",
              "  </div>\n",
              "\n",
              "    </div>\n",
              "  </div>\n"
            ],
            "application/vnd.google.colaboratory.intrinsic+json": {
              "type": "dataframe",
              "variable_name": "tips",
              "summary": "{\n  \"name\": \"tips\",\n  \"rows\": 287,\n  \"fields\": [\n    {\n      \"column\": \"total_bill\",\n      \"properties\": {\n        \"dtype\": \"number\",\n        \"std\": 8.485099299884208,\n        \"min\": 3.07,\n        \"max\": 50.81,\n        \"num_unique_values\": 231,\n        \"samples\": [\n          12.66,\n          13.81,\n          14.78\n        ],\n        \"semantic_type\": \"\",\n        \"description\": \"\"\n      }\n    },\n    {\n      \"column\": \"tip\",\n      \"properties\": {\n        \"dtype\": \"number\",\n        \"std\": 1.3038763003419467,\n        \"min\": 1.0,\n        \"max\": 10.0,\n        \"num_unique_values\": 125,\n        \"samples\": [\n          3.35,\n          1.5,\n          1.32\n        ],\n        \"semantic_type\": \"\",\n        \"description\": \"\"\n      }\n    },\n    {\n      \"column\": \"smoker\",\n      \"properties\": {\n        \"dtype\": \"category\",\n        \"num_unique_values\": 2,\n        \"samples\": [\n          \"Yes\",\n          \"No\"\n        ],\n        \"semantic_type\": \"\",\n        \"description\": \"\"\n      }\n    },\n    {\n      \"column\": \"day\",\n      \"properties\": {\n        \"dtype\": \"category\",\n        \"num_unique_values\": 4,\n        \"samples\": [\n          \"Sat\",\n          \"Fri\"\n        ],\n        \"semantic_type\": \"\",\n        \"description\": \"\"\n      }\n    },\n    {\n      \"column\": \"time\",\n      \"properties\": {\n        \"dtype\": \"category\",\n        \"num_unique_values\": 2,\n        \"samples\": [\n          \"Lunch\",\n          \"Dinner\"\n        ],\n        \"semantic_type\": \"\",\n        \"description\": \"\"\n      }\n    },\n    {\n      \"column\": \"size\",\n      \"properties\": {\n        \"dtype\": \"number\",\n        \"std\": 0,\n        \"min\": 1,\n        \"max\": 6,\n        \"num_unique_values\": 6,\n        \"samples\": [\n          2,\n          3\n        ],\n        \"semantic_type\": \"\",\n        \"description\": \"\"\n      }\n    }\n  ]\n}"
            }
          },
          "metadata": {},
          "execution_count": 55
        }
      ],
      "source": [
        "tips = pd.read_csv(\"data/tips.csv\")\n",
        "tips"
      ]
    },
    {
      "cell_type": "code",
      "execution_count": null,
      "id": "ee5b1b4d-95ae-46ca-a8bc-9867eef1ca79",
      "metadata": {
        "id": "ee5b1b4d-95ae-46ca-a8bc-9867eef1ca79",
        "outputId": "4fadc3e7-fd92-4e75-99d9-4c4e12eb5137",
        "colab": {
          "base_uri": "https://localhost:8080/",
          "height": 206
        }
      },
      "outputs": [
        {
          "output_type": "execute_result",
          "data": {
            "text/plain": [
              "size  1   2   3   4  5  6\n",
              "day                      \n",
              "Thur  2  75   7   8  1  2\n",
              "Fri   0  20   1   1  0  0\n",
              "Sat   3  60  21  14  0  0\n",
              "Sun   1  36  17  14  3  1"
            ],
            "text/html": [
              "\n",
              "  <div id=\"df-3cf362f7-9464-4252-9463-7ea3491077e2\" class=\"colab-df-container\">\n",
              "    <div>\n",
              "<style scoped>\n",
              "    .dataframe tbody tr th:only-of-type {\n",
              "        vertical-align: middle;\n",
              "    }\n",
              "\n",
              "    .dataframe tbody tr th {\n",
              "        vertical-align: top;\n",
              "    }\n",
              "\n",
              "    .dataframe thead th {\n",
              "        text-align: right;\n",
              "    }\n",
              "</style>\n",
              "<table border=\"1\" class=\"dataframe\">\n",
              "  <thead>\n",
              "    <tr style=\"text-align: right;\">\n",
              "      <th>size</th>\n",
              "      <th>1</th>\n",
              "      <th>2</th>\n",
              "      <th>3</th>\n",
              "      <th>4</th>\n",
              "      <th>5</th>\n",
              "      <th>6</th>\n",
              "    </tr>\n",
              "    <tr>\n",
              "      <th>day</th>\n",
              "      <th></th>\n",
              "      <th></th>\n",
              "      <th></th>\n",
              "      <th></th>\n",
              "      <th></th>\n",
              "      <th></th>\n",
              "    </tr>\n",
              "  </thead>\n",
              "  <tbody>\n",
              "    <tr>\n",
              "      <th>Thur</th>\n",
              "      <td>2</td>\n",
              "      <td>75</td>\n",
              "      <td>7</td>\n",
              "      <td>8</td>\n",
              "      <td>1</td>\n",
              "      <td>2</td>\n",
              "    </tr>\n",
              "    <tr>\n",
              "      <th>Fri</th>\n",
              "      <td>0</td>\n",
              "      <td>20</td>\n",
              "      <td>1</td>\n",
              "      <td>1</td>\n",
              "      <td>0</td>\n",
              "      <td>0</td>\n",
              "    </tr>\n",
              "    <tr>\n",
              "      <th>Sat</th>\n",
              "      <td>3</td>\n",
              "      <td>60</td>\n",
              "      <td>21</td>\n",
              "      <td>14</td>\n",
              "      <td>0</td>\n",
              "      <td>0</td>\n",
              "    </tr>\n",
              "    <tr>\n",
              "      <th>Sun</th>\n",
              "      <td>1</td>\n",
              "      <td>36</td>\n",
              "      <td>17</td>\n",
              "      <td>14</td>\n",
              "      <td>3</td>\n",
              "      <td>1</td>\n",
              "    </tr>\n",
              "  </tbody>\n",
              "</table>\n",
              "</div>\n",
              "    <div class=\"colab-df-buttons\">\n",
              "\n",
              "  <div class=\"colab-df-container\">\n",
              "    <button class=\"colab-df-convert\" onclick=\"convertToInteractive('df-3cf362f7-9464-4252-9463-7ea3491077e2')\"\n",
              "            title=\"Convert this dataframe to an interactive table.\"\n",
              "            style=\"display:none;\">\n",
              "\n",
              "  <svg xmlns=\"http://www.w3.org/2000/svg\" height=\"24px\" viewBox=\"0 -960 960 960\">\n",
              "    <path d=\"M120-120v-720h720v720H120Zm60-500h600v-160H180v160Zm220 220h160v-160H400v160Zm0 220h160v-160H400v160ZM180-400h160v-160H180v160Zm440 0h160v-160H620v160ZM180-180h160v-160H180v160Zm440 0h160v-160H620v160Z\"/>\n",
              "  </svg>\n",
              "    </button>\n",
              "\n",
              "  <style>\n",
              "    .colab-df-container {\n",
              "      display:flex;\n",
              "      gap: 12px;\n",
              "    }\n",
              "\n",
              "    .colab-df-convert {\n",
              "      background-color: #E8F0FE;\n",
              "      border: none;\n",
              "      border-radius: 50%;\n",
              "      cursor: pointer;\n",
              "      display: none;\n",
              "      fill: #1967D2;\n",
              "      height: 32px;\n",
              "      padding: 0 0 0 0;\n",
              "      width: 32px;\n",
              "    }\n",
              "\n",
              "    .colab-df-convert:hover {\n",
              "      background-color: #E2EBFA;\n",
              "      box-shadow: 0px 1px 2px rgba(60, 64, 67, 0.3), 0px 1px 3px 1px rgba(60, 64, 67, 0.15);\n",
              "      fill: #174EA6;\n",
              "    }\n",
              "\n",
              "    .colab-df-buttons div {\n",
              "      margin-bottom: 4px;\n",
              "    }\n",
              "\n",
              "    [theme=dark] .colab-df-convert {\n",
              "      background-color: #3B4455;\n",
              "      fill: #D2E3FC;\n",
              "    }\n",
              "\n",
              "    [theme=dark] .colab-df-convert:hover {\n",
              "      background-color: #434B5C;\n",
              "      box-shadow: 0px 1px 3px 1px rgba(0, 0, 0, 0.15);\n",
              "      filter: drop-shadow(0px 1px 2px rgba(0, 0, 0, 0.3));\n",
              "      fill: #FFFFFF;\n",
              "    }\n",
              "  </style>\n",
              "\n",
              "    <script>\n",
              "      const buttonEl =\n",
              "        document.querySelector('#df-3cf362f7-9464-4252-9463-7ea3491077e2 button.colab-df-convert');\n",
              "      buttonEl.style.display =\n",
              "        google.colab.kernel.accessAllowed ? 'block' : 'none';\n",
              "\n",
              "      async function convertToInteractive(key) {\n",
              "        const element = document.querySelector('#df-3cf362f7-9464-4252-9463-7ea3491077e2');\n",
              "        const dataTable =\n",
              "          await google.colab.kernel.invokeFunction('convertToInteractive',\n",
              "                                                    [key], {});\n",
              "        if (!dataTable) return;\n",
              "\n",
              "        const docLinkHtml = 'Like what you see? Visit the ' +\n",
              "          '<a target=\"_blank\" href=https://colab.research.google.com/notebooks/data_table.ipynb>data table notebook</a>'\n",
              "          + ' to learn more about interactive tables.';\n",
              "        element.innerHTML = '';\n",
              "        dataTable['output_type'] = 'display_data';\n",
              "        await google.colab.output.renderOutput(dataTable, element);\n",
              "        const docLink = document.createElement('div');\n",
              "        docLink.innerHTML = docLinkHtml;\n",
              "        element.appendChild(docLink);\n",
              "      }\n",
              "    </script>\n",
              "  </div>\n",
              "\n",
              "\n",
              "    <div id=\"df-4870fbde-d168-4160-90fe-11e77bdd0bdf\">\n",
              "      <button class=\"colab-df-quickchart\" onclick=\"quickchart('df-4870fbde-d168-4160-90fe-11e77bdd0bdf')\"\n",
              "                title=\"Suggest charts\"\n",
              "                style=\"display:none;\">\n",
              "\n",
              "<svg xmlns=\"http://www.w3.org/2000/svg\" height=\"24px\"viewBox=\"0 0 24 24\"\n",
              "     width=\"24px\">\n",
              "    <g>\n",
              "        <path d=\"M19 3H5c-1.1 0-2 .9-2 2v14c0 1.1.9 2 2 2h14c1.1 0 2-.9 2-2V5c0-1.1-.9-2-2-2zM9 17H7v-7h2v7zm4 0h-2V7h2v10zm4 0h-2v-4h2v4z\"/>\n",
              "    </g>\n",
              "</svg>\n",
              "      </button>\n",
              "\n",
              "<style>\n",
              "  .colab-df-quickchart {\n",
              "      --bg-color: #E8F0FE;\n",
              "      --fill-color: #1967D2;\n",
              "      --hover-bg-color: #E2EBFA;\n",
              "      --hover-fill-color: #174EA6;\n",
              "      --disabled-fill-color: #AAA;\n",
              "      --disabled-bg-color: #DDD;\n",
              "  }\n",
              "\n",
              "  [theme=dark] .colab-df-quickchart {\n",
              "      --bg-color: #3B4455;\n",
              "      --fill-color: #D2E3FC;\n",
              "      --hover-bg-color: #434B5C;\n",
              "      --hover-fill-color: #FFFFFF;\n",
              "      --disabled-bg-color: #3B4455;\n",
              "      --disabled-fill-color: #666;\n",
              "  }\n",
              "\n",
              "  .colab-df-quickchart {\n",
              "    background-color: var(--bg-color);\n",
              "    border: none;\n",
              "    border-radius: 50%;\n",
              "    cursor: pointer;\n",
              "    display: none;\n",
              "    fill: var(--fill-color);\n",
              "    height: 32px;\n",
              "    padding: 0;\n",
              "    width: 32px;\n",
              "  }\n",
              "\n",
              "  .colab-df-quickchart:hover {\n",
              "    background-color: var(--hover-bg-color);\n",
              "    box-shadow: 0 1px 2px rgba(60, 64, 67, 0.3), 0 1px 3px 1px rgba(60, 64, 67, 0.15);\n",
              "    fill: var(--button-hover-fill-color);\n",
              "  }\n",
              "\n",
              "  .colab-df-quickchart-complete:disabled,\n",
              "  .colab-df-quickchart-complete:disabled:hover {\n",
              "    background-color: var(--disabled-bg-color);\n",
              "    fill: var(--disabled-fill-color);\n",
              "    box-shadow: none;\n",
              "  }\n",
              "\n",
              "  .colab-df-spinner {\n",
              "    border: 2px solid var(--fill-color);\n",
              "    border-color: transparent;\n",
              "    border-bottom-color: var(--fill-color);\n",
              "    animation:\n",
              "      spin 1s steps(1) infinite;\n",
              "  }\n",
              "\n",
              "  @keyframes spin {\n",
              "    0% {\n",
              "      border-color: transparent;\n",
              "      border-bottom-color: var(--fill-color);\n",
              "      border-left-color: var(--fill-color);\n",
              "    }\n",
              "    20% {\n",
              "      border-color: transparent;\n",
              "      border-left-color: var(--fill-color);\n",
              "      border-top-color: var(--fill-color);\n",
              "    }\n",
              "    30% {\n",
              "      border-color: transparent;\n",
              "      border-left-color: var(--fill-color);\n",
              "      border-top-color: var(--fill-color);\n",
              "      border-right-color: var(--fill-color);\n",
              "    }\n",
              "    40% {\n",
              "      border-color: transparent;\n",
              "      border-right-color: var(--fill-color);\n",
              "      border-top-color: var(--fill-color);\n",
              "    }\n",
              "    60% {\n",
              "      border-color: transparent;\n",
              "      border-right-color: var(--fill-color);\n",
              "    }\n",
              "    80% {\n",
              "      border-color: transparent;\n",
              "      border-right-color: var(--fill-color);\n",
              "      border-bottom-color: var(--fill-color);\n",
              "    }\n",
              "    90% {\n",
              "      border-color: transparent;\n",
              "      border-bottom-color: var(--fill-color);\n",
              "    }\n",
              "  }\n",
              "</style>\n",
              "\n",
              "      <script>\n",
              "        async function quickchart(key) {\n",
              "          const quickchartButtonEl =\n",
              "            document.querySelector('#' + key + ' button');\n",
              "          quickchartButtonEl.disabled = true;  // To prevent multiple clicks.\n",
              "          quickchartButtonEl.classList.add('colab-df-spinner');\n",
              "          try {\n",
              "            const charts = await google.colab.kernel.invokeFunction(\n",
              "                'suggestCharts', [key], {});\n",
              "          } catch (error) {\n",
              "            console.error('Error during call to suggestCharts:', error);\n",
              "          }\n",
              "          quickchartButtonEl.classList.remove('colab-df-spinner');\n",
              "          quickchartButtonEl.classList.add('colab-df-quickchart-complete');\n",
              "        }\n",
              "        (() => {\n",
              "          let quickchartButtonEl =\n",
              "            document.querySelector('#df-4870fbde-d168-4160-90fe-11e77bdd0bdf button');\n",
              "          quickchartButtonEl.style.display =\n",
              "            google.colab.kernel.accessAllowed ? 'block' : 'none';\n",
              "        })();\n",
              "      </script>\n",
              "    </div>\n",
              "\n",
              "  <div id=\"id_d0e7eec7-a12d-4523-baf3-7d842f088fa9\">\n",
              "    <style>\n",
              "      .colab-df-generate {\n",
              "        background-color: #E8F0FE;\n",
              "        border: none;\n",
              "        border-radius: 50%;\n",
              "        cursor: pointer;\n",
              "        display: none;\n",
              "        fill: #1967D2;\n",
              "        height: 32px;\n",
              "        padding: 0 0 0 0;\n",
              "        width: 32px;\n",
              "      }\n",
              "\n",
              "      .colab-df-generate:hover {\n",
              "        background-color: #E2EBFA;\n",
              "        box-shadow: 0px 1px 2px rgba(60, 64, 67, 0.3), 0px 1px 3px 1px rgba(60, 64, 67, 0.15);\n",
              "        fill: #174EA6;\n",
              "      }\n",
              "\n",
              "      [theme=dark] .colab-df-generate {\n",
              "        background-color: #3B4455;\n",
              "        fill: #D2E3FC;\n",
              "      }\n",
              "\n",
              "      [theme=dark] .colab-df-generate:hover {\n",
              "        background-color: #434B5C;\n",
              "        box-shadow: 0px 1px 3px 1px rgba(0, 0, 0, 0.15);\n",
              "        filter: drop-shadow(0px 1px 2px rgba(0, 0, 0, 0.3));\n",
              "        fill: #FFFFFF;\n",
              "      }\n",
              "    </style>\n",
              "    <button class=\"colab-df-generate\" onclick=\"generateWithVariable('party_counts')\"\n",
              "            title=\"Generate code using this dataframe.\"\n",
              "            style=\"display:none;\">\n",
              "\n",
              "  <svg xmlns=\"http://www.w3.org/2000/svg\" height=\"24px\"viewBox=\"0 0 24 24\"\n",
              "       width=\"24px\">\n",
              "    <path d=\"M7,19H8.4L18.45,9,17,7.55,7,17.6ZM5,21V16.75L18.45,3.32a2,2,0,0,1,2.83,0l1.4,1.43a1.91,1.91,0,0,1,.58,1.4,1.91,1.91,0,0,1-.58,1.4L9.25,21ZM18.45,9,17,7.55Zm-12,3A5.31,5.31,0,0,0,4.9,8.1,5.31,5.31,0,0,0,1,6.5,5.31,5.31,0,0,0,4.9,4.9,5.31,5.31,0,0,0,6.5,1,5.31,5.31,0,0,0,8.1,4.9,5.31,5.31,0,0,0,12,6.5,5.46,5.46,0,0,0,6.5,12Z\"/>\n",
              "  </svg>\n",
              "    </button>\n",
              "    <script>\n",
              "      (() => {\n",
              "      const buttonEl =\n",
              "        document.querySelector('#id_d0e7eec7-a12d-4523-baf3-7d842f088fa9 button.colab-df-generate');\n",
              "      buttonEl.style.display =\n",
              "        google.colab.kernel.accessAllowed ? 'block' : 'none';\n",
              "\n",
              "      buttonEl.onclick = () => {\n",
              "        google.colab.notebook.generateWithVariable('party_counts');\n",
              "      }\n",
              "      })();\n",
              "    </script>\n",
              "  </div>\n",
              "\n",
              "    </div>\n",
              "  </div>\n"
            ],
            "application/vnd.google.colaboratory.intrinsic+json": {
              "type": "dataframe",
              "variable_name": "party_counts",
              "summary": "{\n  \"name\": \"party_counts\",\n  \"rows\": 4,\n  \"fields\": [\n    {\n      \"column\": \"day\",\n      \"properties\": {\n        \"dtype\": \"string\",\n        \"num_unique_values\": 4,\n        \"samples\": [\n          \"Fri\",\n          \"Sun\",\n          \"Thur\"\n        ],\n        \"semantic_type\": \"\",\n        \"description\": \"\"\n      }\n    },\n    {\n      \"column\": 1,\n      \"properties\": {\n        \"dtype\": \"number\",\n        \"std\": 1,\n        \"min\": 0,\n        \"max\": 3,\n        \"num_unique_values\": 4,\n        \"samples\": [\n          0,\n          1,\n          2\n        ],\n        \"semantic_type\": \"\",\n        \"description\": \"\"\n      }\n    },\n    {\n      \"column\": 2,\n      \"properties\": {\n        \"dtype\": \"number\",\n        \"std\": 24,\n        \"min\": 20,\n        \"max\": 75,\n        \"num_unique_values\": 4,\n        \"samples\": [\n          20,\n          36,\n          75\n        ],\n        \"semantic_type\": \"\",\n        \"description\": \"\"\n      }\n    },\n    {\n      \"column\": 3,\n      \"properties\": {\n        \"dtype\": \"number\",\n        \"std\": 9,\n        \"min\": 1,\n        \"max\": 21,\n        \"num_unique_values\": 4,\n        \"samples\": [\n          1,\n          17,\n          7\n        ],\n        \"semantic_type\": \"\",\n        \"description\": \"\"\n      }\n    },\n    {\n      \"column\": 4,\n      \"properties\": {\n        \"dtype\": \"number\",\n        \"std\": 6,\n        \"min\": 1,\n        \"max\": 14,\n        \"num_unique_values\": 3,\n        \"samples\": [\n          8,\n          1,\n          14\n        ],\n        \"semantic_type\": \"\",\n        \"description\": \"\"\n      }\n    },\n    {\n      \"column\": 5,\n      \"properties\": {\n        \"dtype\": \"number\",\n        \"std\": 1,\n        \"min\": 0,\n        \"max\": 3,\n        \"num_unique_values\": 3,\n        \"samples\": [\n          1,\n          0,\n          3\n        ],\n        \"semantic_type\": \"\",\n        \"description\": \"\"\n      }\n    },\n    {\n      \"column\": 6,\n      \"properties\": {\n        \"dtype\": \"number\",\n        \"std\": 0,\n        \"min\": 0,\n        \"max\": 2,\n        \"num_unique_values\": 3,\n        \"samples\": [\n          2,\n          0,\n          1\n        ],\n        \"semantic_type\": \"\",\n        \"description\": \"\"\n      }\n    }\n  ]\n}"
            }
          },
          "metadata": {},
          "execution_count": 56
        }
      ],
      "source": [
        "party_counts = pd.crosstab(tips[\"day\"], tips[\"size\"])\n",
        "party_counts = party_counts.reindex(index=[\"Thur\", \"Fri\", \"Sat\", \"Sun\"])\n",
        "party_counts"
      ]
    },
    {
      "cell_type": "markdown",
      "id": "4b093cca",
      "metadata": {
        "id": "4b093cca"
      },
      "source": [
        "Vì có không nhiều bữa tiệc một và sáu người, chúng ta loại bỏ các giá trị này:"
      ]
    },
    {
      "cell_type": "code",
      "execution_count": null,
      "id": "284d360e",
      "metadata": {
        "id": "284d360e",
        "outputId": "1b2f21f1-6553-4532-c4ee-9600c74dabe3",
        "colab": {
          "base_uri": "https://localhost:8080/",
          "height": 206
        }
      },
      "outputs": [
        {
          "output_type": "execute_result",
          "data": {
            "text/plain": [
              "size   2   3   4  5\n",
              "day                \n",
              "Thur  75   7   8  1\n",
              "Fri   20   1   1  0\n",
              "Sat   60  21  14  0\n",
              "Sun   36  17  14  3"
            ],
            "text/html": [
              "\n",
              "  <div id=\"df-0250e893-d3c0-4775-9686-d464fd4dc8fa\" class=\"colab-df-container\">\n",
              "    <div>\n",
              "<style scoped>\n",
              "    .dataframe tbody tr th:only-of-type {\n",
              "        vertical-align: middle;\n",
              "    }\n",
              "\n",
              "    .dataframe tbody tr th {\n",
              "        vertical-align: top;\n",
              "    }\n",
              "\n",
              "    .dataframe thead th {\n",
              "        text-align: right;\n",
              "    }\n",
              "</style>\n",
              "<table border=\"1\" class=\"dataframe\">\n",
              "  <thead>\n",
              "    <tr style=\"text-align: right;\">\n",
              "      <th>size</th>\n",
              "      <th>2</th>\n",
              "      <th>3</th>\n",
              "      <th>4</th>\n",
              "      <th>5</th>\n",
              "    </tr>\n",
              "    <tr>\n",
              "      <th>day</th>\n",
              "      <th></th>\n",
              "      <th></th>\n",
              "      <th></th>\n",
              "      <th></th>\n",
              "    </tr>\n",
              "  </thead>\n",
              "  <tbody>\n",
              "    <tr>\n",
              "      <th>Thur</th>\n",
              "      <td>75</td>\n",
              "      <td>7</td>\n",
              "      <td>8</td>\n",
              "      <td>1</td>\n",
              "    </tr>\n",
              "    <tr>\n",
              "      <th>Fri</th>\n",
              "      <td>20</td>\n",
              "      <td>1</td>\n",
              "      <td>1</td>\n",
              "      <td>0</td>\n",
              "    </tr>\n",
              "    <tr>\n",
              "      <th>Sat</th>\n",
              "      <td>60</td>\n",
              "      <td>21</td>\n",
              "      <td>14</td>\n",
              "      <td>0</td>\n",
              "    </tr>\n",
              "    <tr>\n",
              "      <th>Sun</th>\n",
              "      <td>36</td>\n",
              "      <td>17</td>\n",
              "      <td>14</td>\n",
              "      <td>3</td>\n",
              "    </tr>\n",
              "  </tbody>\n",
              "</table>\n",
              "</div>\n",
              "    <div class=\"colab-df-buttons\">\n",
              "\n",
              "  <div class=\"colab-df-container\">\n",
              "    <button class=\"colab-df-convert\" onclick=\"convertToInteractive('df-0250e893-d3c0-4775-9686-d464fd4dc8fa')\"\n",
              "            title=\"Convert this dataframe to an interactive table.\"\n",
              "            style=\"display:none;\">\n",
              "\n",
              "  <svg xmlns=\"http://www.w3.org/2000/svg\" height=\"24px\" viewBox=\"0 -960 960 960\">\n",
              "    <path d=\"M120-120v-720h720v720H120Zm60-500h600v-160H180v160Zm220 220h160v-160H400v160Zm0 220h160v-160H400v160ZM180-400h160v-160H180v160Zm440 0h160v-160H620v160ZM180-180h160v-160H180v160Zm440 0h160v-160H620v160Z\"/>\n",
              "  </svg>\n",
              "    </button>\n",
              "\n",
              "  <style>\n",
              "    .colab-df-container {\n",
              "      display:flex;\n",
              "      gap: 12px;\n",
              "    }\n",
              "\n",
              "    .colab-df-convert {\n",
              "      background-color: #E8F0FE;\n",
              "      border: none;\n",
              "      border-radius: 50%;\n",
              "      cursor: pointer;\n",
              "      display: none;\n",
              "      fill: #1967D2;\n",
              "      height: 32px;\n",
              "      padding: 0 0 0 0;\n",
              "      width: 32px;\n",
              "    }\n",
              "\n",
              "    .colab-df-convert:hover {\n",
              "      background-color: #E2EBFA;\n",
              "      box-shadow: 0px 1px 2px rgba(60, 64, 67, 0.3), 0px 1px 3px 1px rgba(60, 64, 67, 0.15);\n",
              "      fill: #174EA6;\n",
              "    }\n",
              "\n",
              "    .colab-df-buttons div {\n",
              "      margin-bottom: 4px;\n",
              "    }\n",
              "\n",
              "    [theme=dark] .colab-df-convert {\n",
              "      background-color: #3B4455;\n",
              "      fill: #D2E3FC;\n",
              "    }\n",
              "\n",
              "    [theme=dark] .colab-df-convert:hover {\n",
              "      background-color: #434B5C;\n",
              "      box-shadow: 0px 1px 3px 1px rgba(0, 0, 0, 0.15);\n",
              "      filter: drop-shadow(0px 1px 2px rgba(0, 0, 0, 0.3));\n",
              "      fill: #FFFFFF;\n",
              "    }\n",
              "  </style>\n",
              "\n",
              "    <script>\n",
              "      const buttonEl =\n",
              "        document.querySelector('#df-0250e893-d3c0-4775-9686-d464fd4dc8fa button.colab-df-convert');\n",
              "      buttonEl.style.display =\n",
              "        google.colab.kernel.accessAllowed ? 'block' : 'none';\n",
              "\n",
              "      async function convertToInteractive(key) {\n",
              "        const element = document.querySelector('#df-0250e893-d3c0-4775-9686-d464fd4dc8fa');\n",
              "        const dataTable =\n",
              "          await google.colab.kernel.invokeFunction('convertToInteractive',\n",
              "                                                    [key], {});\n",
              "        if (!dataTable) return;\n",
              "\n",
              "        const docLinkHtml = 'Like what you see? Visit the ' +\n",
              "          '<a target=\"_blank\" href=https://colab.research.google.com/notebooks/data_table.ipynb>data table notebook</a>'\n",
              "          + ' to learn more about interactive tables.';\n",
              "        element.innerHTML = '';\n",
              "        dataTable['output_type'] = 'display_data';\n",
              "        await google.colab.output.renderOutput(dataTable, element);\n",
              "        const docLink = document.createElement('div');\n",
              "        docLink.innerHTML = docLinkHtml;\n",
              "        element.appendChild(docLink);\n",
              "      }\n",
              "    </script>\n",
              "  </div>\n",
              "\n",
              "\n",
              "    <div id=\"df-b0b81f2b-2959-4a98-ab1a-2bb82782d40c\">\n",
              "      <button class=\"colab-df-quickchart\" onclick=\"quickchart('df-b0b81f2b-2959-4a98-ab1a-2bb82782d40c')\"\n",
              "                title=\"Suggest charts\"\n",
              "                style=\"display:none;\">\n",
              "\n",
              "<svg xmlns=\"http://www.w3.org/2000/svg\" height=\"24px\"viewBox=\"0 0 24 24\"\n",
              "     width=\"24px\">\n",
              "    <g>\n",
              "        <path d=\"M19 3H5c-1.1 0-2 .9-2 2v14c0 1.1.9 2 2 2h14c1.1 0 2-.9 2-2V5c0-1.1-.9-2-2-2zM9 17H7v-7h2v7zm4 0h-2V7h2v10zm4 0h-2v-4h2v4z\"/>\n",
              "    </g>\n",
              "</svg>\n",
              "      </button>\n",
              "\n",
              "<style>\n",
              "  .colab-df-quickchart {\n",
              "      --bg-color: #E8F0FE;\n",
              "      --fill-color: #1967D2;\n",
              "      --hover-bg-color: #E2EBFA;\n",
              "      --hover-fill-color: #174EA6;\n",
              "      --disabled-fill-color: #AAA;\n",
              "      --disabled-bg-color: #DDD;\n",
              "  }\n",
              "\n",
              "  [theme=dark] .colab-df-quickchart {\n",
              "      --bg-color: #3B4455;\n",
              "      --fill-color: #D2E3FC;\n",
              "      --hover-bg-color: #434B5C;\n",
              "      --hover-fill-color: #FFFFFF;\n",
              "      --disabled-bg-color: #3B4455;\n",
              "      --disabled-fill-color: #666;\n",
              "  }\n",
              "\n",
              "  .colab-df-quickchart {\n",
              "    background-color: var(--bg-color);\n",
              "    border: none;\n",
              "    border-radius: 50%;\n",
              "    cursor: pointer;\n",
              "    display: none;\n",
              "    fill: var(--fill-color);\n",
              "    height: 32px;\n",
              "    padding: 0;\n",
              "    width: 32px;\n",
              "  }\n",
              "\n",
              "  .colab-df-quickchart:hover {\n",
              "    background-color: var(--hover-bg-color);\n",
              "    box-shadow: 0 1px 2px rgba(60, 64, 67, 0.3), 0 1px 3px 1px rgba(60, 64, 67, 0.15);\n",
              "    fill: var(--button-hover-fill-color);\n",
              "  }\n",
              "\n",
              "  .colab-df-quickchart-complete:disabled,\n",
              "  .colab-df-quickchart-complete:disabled:hover {\n",
              "    background-color: var(--disabled-bg-color);\n",
              "    fill: var(--disabled-fill-color);\n",
              "    box-shadow: none;\n",
              "  }\n",
              "\n",
              "  .colab-df-spinner {\n",
              "    border: 2px solid var(--fill-color);\n",
              "    border-color: transparent;\n",
              "    border-bottom-color: var(--fill-color);\n",
              "    animation:\n",
              "      spin 1s steps(1) infinite;\n",
              "  }\n",
              "\n",
              "  @keyframes spin {\n",
              "    0% {\n",
              "      border-color: transparent;\n",
              "      border-bottom-color: var(--fill-color);\n",
              "      border-left-color: var(--fill-color);\n",
              "    }\n",
              "    20% {\n",
              "      border-color: transparent;\n",
              "      border-left-color: var(--fill-color);\n",
              "      border-top-color: var(--fill-color);\n",
              "    }\n",
              "    30% {\n",
              "      border-color: transparent;\n",
              "      border-left-color: var(--fill-color);\n",
              "      border-top-color: var(--fill-color);\n",
              "      border-right-color: var(--fill-color);\n",
              "    }\n",
              "    40% {\n",
              "      border-color: transparent;\n",
              "      border-right-color: var(--fill-color);\n",
              "      border-top-color: var(--fill-color);\n",
              "    }\n",
              "    60% {\n",
              "      border-color: transparent;\n",
              "      border-right-color: var(--fill-color);\n",
              "    }\n",
              "    80% {\n",
              "      border-color: transparent;\n",
              "      border-right-color: var(--fill-color);\n",
              "      border-bottom-color: var(--fill-color);\n",
              "    }\n",
              "    90% {\n",
              "      border-color: transparent;\n",
              "      border-bottom-color: var(--fill-color);\n",
              "    }\n",
              "  }\n",
              "</style>\n",
              "\n",
              "      <script>\n",
              "        async function quickchart(key) {\n",
              "          const quickchartButtonEl =\n",
              "            document.querySelector('#' + key + ' button');\n",
              "          quickchartButtonEl.disabled = true;  // To prevent multiple clicks.\n",
              "          quickchartButtonEl.classList.add('colab-df-spinner');\n",
              "          try {\n",
              "            const charts = await google.colab.kernel.invokeFunction(\n",
              "                'suggestCharts', [key], {});\n",
              "          } catch (error) {\n",
              "            console.error('Error during call to suggestCharts:', error);\n",
              "          }\n",
              "          quickchartButtonEl.classList.remove('colab-df-spinner');\n",
              "          quickchartButtonEl.classList.add('colab-df-quickchart-complete');\n",
              "        }\n",
              "        (() => {\n",
              "          let quickchartButtonEl =\n",
              "            document.querySelector('#df-b0b81f2b-2959-4a98-ab1a-2bb82782d40c button');\n",
              "          quickchartButtonEl.style.display =\n",
              "            google.colab.kernel.accessAllowed ? 'block' : 'none';\n",
              "        })();\n",
              "      </script>\n",
              "    </div>\n",
              "\n",
              "  <div id=\"id_d3acbbdd-6d06-4005-b371-2933dcdce9ff\">\n",
              "    <style>\n",
              "      .colab-df-generate {\n",
              "        background-color: #E8F0FE;\n",
              "        border: none;\n",
              "        border-radius: 50%;\n",
              "        cursor: pointer;\n",
              "        display: none;\n",
              "        fill: #1967D2;\n",
              "        height: 32px;\n",
              "        padding: 0 0 0 0;\n",
              "        width: 32px;\n",
              "      }\n",
              "\n",
              "      .colab-df-generate:hover {\n",
              "        background-color: #E2EBFA;\n",
              "        box-shadow: 0px 1px 2px rgba(60, 64, 67, 0.3), 0px 1px 3px 1px rgba(60, 64, 67, 0.15);\n",
              "        fill: #174EA6;\n",
              "      }\n",
              "\n",
              "      [theme=dark] .colab-df-generate {\n",
              "        background-color: #3B4455;\n",
              "        fill: #D2E3FC;\n",
              "      }\n",
              "\n",
              "      [theme=dark] .colab-df-generate:hover {\n",
              "        background-color: #434B5C;\n",
              "        box-shadow: 0px 1px 3px 1px rgba(0, 0, 0, 0.15);\n",
              "        filter: drop-shadow(0px 1px 2px rgba(0, 0, 0, 0.3));\n",
              "        fill: #FFFFFF;\n",
              "      }\n",
              "    </style>\n",
              "    <button class=\"colab-df-generate\" onclick=\"generateWithVariable('party_counts')\"\n",
              "            title=\"Generate code using this dataframe.\"\n",
              "            style=\"display:none;\">\n",
              "\n",
              "  <svg xmlns=\"http://www.w3.org/2000/svg\" height=\"24px\"viewBox=\"0 0 24 24\"\n",
              "       width=\"24px\">\n",
              "    <path d=\"M7,19H8.4L18.45,9,17,7.55,7,17.6ZM5,21V16.75L18.45,3.32a2,2,0,0,1,2.83,0l1.4,1.43a1.91,1.91,0,0,1,.58,1.4,1.91,1.91,0,0,1-.58,1.4L9.25,21ZM18.45,9,17,7.55Zm-12,3A5.31,5.31,0,0,0,4.9,8.1,5.31,5.31,0,0,0,1,6.5,5.31,5.31,0,0,0,4.9,4.9,5.31,5.31,0,0,0,6.5,1,5.31,5.31,0,0,0,8.1,4.9,5.31,5.31,0,0,0,12,6.5,5.46,5.46,0,0,0,6.5,12Z\"/>\n",
              "  </svg>\n",
              "    </button>\n",
              "    <script>\n",
              "      (() => {\n",
              "      const buttonEl =\n",
              "        document.querySelector('#id_d3acbbdd-6d06-4005-b371-2933dcdce9ff button.colab-df-generate');\n",
              "      buttonEl.style.display =\n",
              "        google.colab.kernel.accessAllowed ? 'block' : 'none';\n",
              "\n",
              "      buttonEl.onclick = () => {\n",
              "        google.colab.notebook.generateWithVariable('party_counts');\n",
              "      }\n",
              "      })();\n",
              "    </script>\n",
              "  </div>\n",
              "\n",
              "    </div>\n",
              "  </div>\n"
            ],
            "application/vnd.google.colaboratory.intrinsic+json": {
              "type": "dataframe",
              "variable_name": "party_counts",
              "summary": "{\n  \"name\": \"party_counts\",\n  \"rows\": 4,\n  \"fields\": [\n    {\n      \"column\": \"day\",\n      \"properties\": {\n        \"dtype\": \"string\",\n        \"num_unique_values\": 4,\n        \"samples\": [\n          \"Fri\",\n          \"Sun\",\n          \"Thur\"\n        ],\n        \"semantic_type\": \"\",\n        \"description\": \"\"\n      }\n    },\n    {\n      \"column\": 2,\n      \"properties\": {\n        \"dtype\": \"number\",\n        \"std\": 24,\n        \"min\": 20,\n        \"max\": 75,\n        \"num_unique_values\": 4,\n        \"samples\": [\n          20,\n          36,\n          75\n        ],\n        \"semantic_type\": \"\",\n        \"description\": \"\"\n      }\n    },\n    {\n      \"column\": 3,\n      \"properties\": {\n        \"dtype\": \"number\",\n        \"std\": 9,\n        \"min\": 1,\n        \"max\": 21,\n        \"num_unique_values\": 4,\n        \"samples\": [\n          1,\n          17,\n          7\n        ],\n        \"semantic_type\": \"\",\n        \"description\": \"\"\n      }\n    },\n    {\n      \"column\": 4,\n      \"properties\": {\n        \"dtype\": \"number\",\n        \"std\": 6,\n        \"min\": 1,\n        \"max\": 14,\n        \"num_unique_values\": 3,\n        \"samples\": [\n          8,\n          1,\n          14\n        ],\n        \"semantic_type\": \"\",\n        \"description\": \"\"\n      }\n    },\n    {\n      \"column\": 5,\n      \"properties\": {\n        \"dtype\": \"number\",\n        \"std\": 1,\n        \"min\": 0,\n        \"max\": 3,\n        \"num_unique_values\": 3,\n        \"samples\": [\n          1,\n          0,\n          3\n        ],\n        \"semantic_type\": \"\",\n        \"description\": \"\"\n      }\n    }\n  ]\n}"
            }
          },
          "metadata": {},
          "execution_count": 57
        }
      ],
      "source": [
        "# Tiếp tục từ cell trước\n",
        "party_counts = party_counts.loc[:, 2:5]\n",
        "party_counts"
      ]
    },
    {
      "cell_type": "markdown",
      "id": "554bfe97",
      "metadata": {
        "id": "554bfe97"
      },
      "source": [
        "Sau đó, để thuận tiện cho trực quan hóa, chúng ta sẽ chuẩn hóa để mỗi hàng có tổng bằng 1 trước khi tạo đồ thị:"
      ]
    },
    {
      "cell_type": "code",
      "execution_count": null,
      "id": "99384aa6",
      "metadata": {
        "id": "99384aa6"
      },
      "outputs": [],
      "source": [
        "# Tiếp tục từ cell trước\n",
        "party_pcts = party_counts.div(party_counts.sum(axis=\"columns\"), axis=\"index\")\n",
        "party_pcts.plot.bar(stacked=True, alpha = 0.8)\n",
        "plt.savefig(\"chart21.png\")"
      ]
    },
    {
      "cell_type": "markdown",
      "source": [
        "![](https://raw.githubusercontent.com/toantran249/NEU_KHDL/70c3dcccbc152116fd201f1b380767d116132165/chart21.png)"
      ],
      "metadata": {
        "id": "oLdq-ZAAwLDZ"
      },
      "id": "oLdq-ZAAwLDZ"
    },
    {
      "cell_type": "markdown",
      "id": "038f5a29",
      "metadata": {
        "id": "038f5a29"
      },
      "source": [
        "Như vậy, bạn có thể thấy rằng quy mô bữa tiệc tăng vào cuối tuần trong tập dữ liệu.\n",
        "\n",
        "Với dữ liệu yêu cầu tổng hợp hoặc tóm tắt trước khi tạo đồ thị, việc sử dụng thư viện `seaborn` có thể làm cho mọi thứ đơn giản hơn nhiều. Hãy xem xét tỷ lệ phần trăm tiền boa theo ngày với `seaborn` như sau:"
      ]
    },
    {
      "cell_type": "code",
      "execution_count": null,
      "id": "dc1b9637",
      "metadata": {
        "id": "dc1b9637"
      },
      "outputs": [],
      "source": [
        "import seaborn as sns\n",
        "\n",
        "tips = pd.read_csv(\"data/tips.csv\") # Tải lại dữ liệu gốc tips\n",
        "tips[\"tip_pct\"] = tips[\"tip\"] / (tips[\"total_bill\"] - tips[\"tip\"])\n",
        "sns.barplot(x=\"tip_pct\", y=\"day\", data=tips, orient=\"h\", alpha = 0.8)\n",
        "plt.savefig(\"chart22.png\")"
      ]
    },
    {
      "cell_type": "markdown",
      "source": [
        "![](https://raw.githubusercontent.com/toantran249/NEU_KHDL/70c3dcccbc152116fd201f1b380767d116132165/chart22.png)"
      ],
      "metadata": {
        "id": "w2OMk_iBwNP4"
      },
      "id": "w2OMk_iBwNP4"
    },
    {
      "cell_type": "markdown",
      "id": "2f62308f",
      "metadata": {
        "id": "2f62308f"
      },
      "source": [
        "Các hàm vẽ đồ thị trong seaborn nhận một tham số `data`, có thể là một `DataFrame` của `pandas`. Các tham số khác tham chiếu đến tên cột. Bởi vì có nhiều quan sát cho mỗi giá trị trong `day`, các thanh là giá trị trung bình của `tip_pct`. Các đường màu đen được vẽ trên các thanh biểu thị khoảng tin cậy 95% của giá trị trung bình.\n",
        "\n",
        "`seaborn.barplot` có một tùy chọn `hue` cho phép chúng ta chia nhỏ theo một giá trị phân loại bổ sung:"
      ]
    },
    {
      "cell_type": "code",
      "execution_count": null,
      "id": "222b9bf7",
      "metadata": {
        "id": "222b9bf7"
      },
      "outputs": [],
      "source": [
        "tips = pd.read_csv(\"data/tips.csv\") # Tải lại dữ liệu gốc tips\n",
        "tips[\"tip_pct\"] = tips[\"tip\"] / (tips[\"total_bill\"] - tips[\"tip\"])\n",
        "sns.barplot(x=\"tip_pct\", y=\"day\", hue=\"time\", data=tips, orient=\"h\", alpha = 0.8)\n",
        "plt.savefig(\"chart23.png\")"
      ]
    },
    {
      "cell_type": "markdown",
      "source": [
        "![](https://raw.githubusercontent.com/toantran249/NEU_KHDL/70c3dcccbc152116fd201f1b380767d116132165/chart23.png)"
      ],
      "metadata": {
        "id": "Hdo37fGlwPlI"
      },
      "id": "Hdo37fGlwPlI"
    },
    {
      "cell_type": "markdown",
      "id": "e18f678d",
      "metadata": {
        "id": "e18f678d"
      },
      "source": [
        "Lưu ý rằng seaborn đã tự động thay đổi tính thẩm mỹ của đồ thị: bảng màu mặc định, nền đồ thị và màu đường lưới. Bạn đọc có thể chuyển đổi giữa các giao diện đồ thị khác nhau bằng cách sử dụng `seaborn.set_style`:"
      ]
    },
    {
      "cell_type": "code",
      "execution_count": null,
      "id": "8f98400e",
      "metadata": {
        "id": "8f98400e"
      },
      "outputs": [],
      "source": [
        "sns.set_style(\"whitegrid\")\n",
        "# sns.set_palette(\"Greys_r\") # Dòng này được đề cập trong text nhưng không có hình minh họa cụ thể sau khi chạy\n",
        "# Để thấy hiệu ứng, bạn có thể chạy lại một trong các đồ thị seaborn ở trên sau khi chạy dòng này."
      ]
    },
    {
      "cell_type": "markdown",
      "id": "205ed51f",
      "metadata": {
        "id": "205ed51f"
      },
      "source": [
        "Khi tạo đồ thị cho các bản in đen trắng, bạn đọc có thể thấy hữu ích khi đặt bảng màu thang độ xám, như sau:\n",
        "\n",
        "`sns.set_palette(\"Greys_r\")`"
      ]
    },
    {
      "cell_type": "markdown",
      "id": "afa0630d-4122-4ca7-be65-cead7e4a05ce",
      "metadata": {
        "id": "afa0630d-4122-4ca7-be65-cead7e4a05ce"
      },
      "source": [
        "## Biểu đồ tần suất và đồ thị hàm mật độ\n",
        "<hr>"
      ]
    },
    {
      "cell_type": "markdown",
      "id": "fcddb575",
      "metadata": {
        "id": "fcddb575"
      },
      "source": [
        "Biểu đồ tần suất, hay histogram, là một loại đồ thị cột hiển thị tần suất giá trị một cách rời rạc. Các điểm dữ liệu được chia vào các miền rời rạc, cách đều nhau và số lượng điểm dữ liệu trong mỗi miền được vẽ bằng 1 thanh có chiều cao tương đương với số lượng điểm. Sử dụng dữ liệu tiền boa từ phần trước, chúng ta có thể tạo biểu đồ tần suất tỷ lệ phần trăm tiền boa của tổng hóa đơn bằng phương thức `plot.hist` trên Series:"
      ]
    },
    {
      "cell_type": "code",
      "execution_count": null,
      "id": "1eaa4711",
      "metadata": {
        "id": "1eaa4711"
      },
      "outputs": [],
      "source": [
        "tips = pd.read_csv(\"data/tips.csv\") # Tải lại dữ liệu gốc tips\n",
        "tips[\"tip_pct\"] = tips[\"tip\"] / (tips[\"total_bill\"] - tips[\"tip\"])\n",
        "tips[\"tip_pct\"].plot.hist(bins=50)\n",
        "plt.savefig(\"chart24.png\")"
      ]
    },
    {
      "cell_type": "markdown",
      "source": [
        "![](https://raw.githubusercontent.com/toantran249/NEU_KHDL/70c3dcccbc152116fd201f1b380767d116132165/chart24.png)"
      ],
      "metadata": {
        "id": "123Gr4fgwSdP"
      },
      "id": "123Gr4fgwSdP"
    },
    {
      "cell_type": "markdown",
      "id": "ab6c94d9",
      "metadata": {
        "id": "ab6c94d9"
      },
      "source": [
        "Một loại đồ thị liên quan là đồ thị hàm mật độ, được hình thành bằng cách tính toán ước tính của một phân phối xác suất liên tục có thể đã tạo ra dữ liệu quan sát được. Quy trình thông thường là xấp xỉ phân phối này dưới dạng hỗn hợp (mixed) của các kernel - là các phân phối đơn giản hơn như phân phối chuẩn. Do đó, các đồ thị mật độ còn được gọi là đồ thị ước tính mật độ theo kernel (KDE). Sử dụng `plot.density` tạo một đồ thị mật độ bằng cách sử dụng ước tính hỗn hợp các phân phối chuẩn thông thường như sau:"
      ]
    },
    {
      "cell_type": "code",
      "execution_count": null,
      "id": "917f2cb7",
      "metadata": {
        "id": "917f2cb7"
      },
      "outputs": [],
      "source": [
        "tips = pd.read_csv(\"data/tips.csv\") # Tải lại dữ liệu gốc tips\n",
        "tips[\"tip_pct\"] = tips[\"tip\"] / (tips[\"total_bill\"] - tips[\"tip\"])\n",
        "tips[\"tip_pct\"].plot.density()\n",
        "plt.savefig(\"chart25.png\")"
      ]
    },
    {
      "cell_type": "markdown",
      "source": [
        "![](https://raw.githubusercontent.com/toantran249/NEU_KHDL/70c3dcccbc152116fd201f1b380767d116132165/chart25.png)"
      ],
      "metadata": {
        "id": "a0TlHYhSwUlA"
      },
      "id": "a0TlHYhSwUlA"
    },
    {
      "cell_type": "markdown",
      "id": "c14b2442",
      "metadata": {
        "id": "c14b2442"
      },
      "source": [
        "Thư viện `seaborn` giúp việc tạo biểu đồ tần suất và đồ thị mật độ trở nên dễ dàng hơn thông qua phương thức `histplot` của nó, có thể vẽ cả biểu đồ tần suất và ước tính hàm mật độ liên tục đồng thời. Ví dụ, hãy xem xét một phân phối hai mode bao gồm các lần rút từ hai phân phối chuẩn tiêu chuẩn khác nhau:"
      ]
    },
    {
      "cell_type": "code",
      "execution_count": null,
      "id": "7e60a3a3",
      "metadata": {
        "id": "7e60a3a3"
      },
      "outputs": [],
      "source": [
        "comp1 = np.random.standard_normal(200)\n",
        "comp2 = 10 + 2 * np.random.standard_normal(200)\n",
        "values = pd.Series(np.concatenate([comp1, comp2]))\n",
        "sns.histplot(values, bins=100)\n",
        "plt.savefig(\"chart26.png\")"
      ]
    },
    {
      "cell_type": "markdown",
      "source": [
        "![](https://raw.githubusercontent.com/toantran249/NEU_KHDL/70c3dcccbc152116fd201f1b380767d116132165/chart26.png)"
      ],
      "metadata": {
        "id": "CxY89EsNwXhO"
      },
      "id": "CxY89EsNwXhO"
    },
    {
      "cell_type": "markdown",
      "id": "21febe8f-d964-44cd-abb1-000624c4ce31",
      "metadata": {
        "id": "21febe8f-d964-44cd-abb1-000624c4ce31"
      },
      "source": [
        "## Đồ thị phân tán\n",
        "<hr>"
      ]
    },
    {
      "cell_type": "markdown",
      "id": "f9eba0b9",
      "metadata": {
        "id": "f9eba0b9"
      },
      "source": [
        "Đồ thị rải điểm hoặc đồ thị phân tán là một công cụ hữu ích để kiểm tra mối quan hệ giữa hai chuỗi dữ liệu. Giả sử bạn đọc muốn mô tả mối liên hệ giữa chi phí quảng cáo qua truyền hình với doanh thu của các cửa hàng trên toàn quốc từ dữ liệu `Sales`, chúng ta có thể sử dụng đồ thị phân tán như sau"
      ]
    },
    {
      "cell_type": "code",
      "execution_count": null,
      "id": "9e404262",
      "metadata": {
        "id": "9e404262",
        "outputId": "f0c3184d-a619-4e18-f93d-6a2ca324064f",
        "colab": {
          "base_uri": "https://localhost:8080/",
          "height": 261
        }
      },
      "outputs": [
        {
          "output_type": "stream",
          "name": "stderr",
          "text": [
            "/tmp/ipython-input-2395242282.py:3: UserWarning: Could not infer format, so each element will be parsed individually, falling back to `dateutil`. To ensure parsing is consistent and as-expected, please specify a format.\n",
            "  df = pd.read_csv(path, index_col=0, parse_dates=True)\n"
          ]
        },
        {
          "output_type": "execute_result",
          "data": {
            "text/plain": [
              "   Sales      TV  Social_Media  Flyer\n",
              "1   8.41  148.12         23.99  46.24\n",
              "2   8.95  147.50         25.71  50.78\n",
              "3   8.03  141.21         23.28  44.57\n",
              "4   9.00  150.16         27.70  52.46\n",
              "5   8.66  150.19         27.44  52.37"
            ],
            "text/html": [
              "\n",
              "  <div id=\"df-dcadaeb8-512a-46b1-8d16-027155b0b988\" class=\"colab-df-container\">\n",
              "    <div>\n",
              "<style scoped>\n",
              "    .dataframe tbody tr th:only-of-type {\n",
              "        vertical-align: middle;\n",
              "    }\n",
              "\n",
              "    .dataframe tbody tr th {\n",
              "        vertical-align: top;\n",
              "    }\n",
              "\n",
              "    .dataframe thead th {\n",
              "        text-align: right;\n",
              "    }\n",
              "</style>\n",
              "<table border=\"1\" class=\"dataframe\">\n",
              "  <thead>\n",
              "    <tr style=\"text-align: right;\">\n",
              "      <th></th>\n",
              "      <th>Sales</th>\n",
              "      <th>TV</th>\n",
              "      <th>Social_Media</th>\n",
              "      <th>Flyer</th>\n",
              "    </tr>\n",
              "  </thead>\n",
              "  <tbody>\n",
              "    <tr>\n",
              "      <th>1</th>\n",
              "      <td>8.41</td>\n",
              "      <td>148.12</td>\n",
              "      <td>23.99</td>\n",
              "      <td>46.24</td>\n",
              "    </tr>\n",
              "    <tr>\n",
              "      <th>2</th>\n",
              "      <td>8.95</td>\n",
              "      <td>147.50</td>\n",
              "      <td>25.71</td>\n",
              "      <td>50.78</td>\n",
              "    </tr>\n",
              "    <tr>\n",
              "      <th>3</th>\n",
              "      <td>8.03</td>\n",
              "      <td>141.21</td>\n",
              "      <td>23.28</td>\n",
              "      <td>44.57</td>\n",
              "    </tr>\n",
              "    <tr>\n",
              "      <th>4</th>\n",
              "      <td>9.00</td>\n",
              "      <td>150.16</td>\n",
              "      <td>27.70</td>\n",
              "      <td>52.46</td>\n",
              "    </tr>\n",
              "    <tr>\n",
              "      <th>5</th>\n",
              "      <td>8.66</td>\n",
              "      <td>150.19</td>\n",
              "      <td>27.44</td>\n",
              "      <td>52.37</td>\n",
              "    </tr>\n",
              "  </tbody>\n",
              "</table>\n",
              "</div>\n",
              "    <div class=\"colab-df-buttons\">\n",
              "\n",
              "  <div class=\"colab-df-container\">\n",
              "    <button class=\"colab-df-convert\" onclick=\"convertToInteractive('df-dcadaeb8-512a-46b1-8d16-027155b0b988')\"\n",
              "            title=\"Convert this dataframe to an interactive table.\"\n",
              "            style=\"display:none;\">\n",
              "\n",
              "  <svg xmlns=\"http://www.w3.org/2000/svg\" height=\"24px\" viewBox=\"0 -960 960 960\">\n",
              "    <path d=\"M120-120v-720h720v720H120Zm60-500h600v-160H180v160Zm220 220h160v-160H400v160Zm0 220h160v-160H400v160ZM180-400h160v-160H180v160Zm440 0h160v-160H620v160ZM180-180h160v-160H180v160Zm440 0h160v-160H620v160Z\"/>\n",
              "  </svg>\n",
              "    </button>\n",
              "\n",
              "  <style>\n",
              "    .colab-df-container {\n",
              "      display:flex;\n",
              "      gap: 12px;\n",
              "    }\n",
              "\n",
              "    .colab-df-convert {\n",
              "      background-color: #E8F0FE;\n",
              "      border: none;\n",
              "      border-radius: 50%;\n",
              "      cursor: pointer;\n",
              "      display: none;\n",
              "      fill: #1967D2;\n",
              "      height: 32px;\n",
              "      padding: 0 0 0 0;\n",
              "      width: 32px;\n",
              "    }\n",
              "\n",
              "    .colab-df-convert:hover {\n",
              "      background-color: #E2EBFA;\n",
              "      box-shadow: 0px 1px 2px rgba(60, 64, 67, 0.3), 0px 1px 3px 1px rgba(60, 64, 67, 0.15);\n",
              "      fill: #174EA6;\n",
              "    }\n",
              "\n",
              "    .colab-df-buttons div {\n",
              "      margin-bottom: 4px;\n",
              "    }\n",
              "\n",
              "    [theme=dark] .colab-df-convert {\n",
              "      background-color: #3B4455;\n",
              "      fill: #D2E3FC;\n",
              "    }\n",
              "\n",
              "    [theme=dark] .colab-df-convert:hover {\n",
              "      background-color: #434B5C;\n",
              "      box-shadow: 0px 1px 3px 1px rgba(0, 0, 0, 0.15);\n",
              "      filter: drop-shadow(0px 1px 2px rgba(0, 0, 0, 0.3));\n",
              "      fill: #FFFFFF;\n",
              "    }\n",
              "  </style>\n",
              "\n",
              "    <script>\n",
              "      const buttonEl =\n",
              "        document.querySelector('#df-dcadaeb8-512a-46b1-8d16-027155b0b988 button.colab-df-convert');\n",
              "      buttonEl.style.display =\n",
              "        google.colab.kernel.accessAllowed ? 'block' : 'none';\n",
              "\n",
              "      async function convertToInteractive(key) {\n",
              "        const element = document.querySelector('#df-dcadaeb8-512a-46b1-8d16-027155b0b988');\n",
              "        const dataTable =\n",
              "          await google.colab.kernel.invokeFunction('convertToInteractive',\n",
              "                                                    [key], {});\n",
              "        if (!dataTable) return;\n",
              "\n",
              "        const docLinkHtml = 'Like what you see? Visit the ' +\n",
              "          '<a target=\"_blank\" href=https://colab.research.google.com/notebooks/data_table.ipynb>data table notebook</a>'\n",
              "          + ' to learn more about interactive tables.';\n",
              "        element.innerHTML = '';\n",
              "        dataTable['output_type'] = 'display_data';\n",
              "        await google.colab.output.renderOutput(dataTable, element);\n",
              "        const docLink = document.createElement('div');\n",
              "        docLink.innerHTML = docLinkHtml;\n",
              "        element.appendChild(docLink);\n",
              "      }\n",
              "    </script>\n",
              "  </div>\n",
              "\n",
              "\n",
              "    <div id=\"df-4bc6d3a3-d67a-4bcf-9a9c-a3bb3072c7fa\">\n",
              "      <button class=\"colab-df-quickchart\" onclick=\"quickchart('df-4bc6d3a3-d67a-4bcf-9a9c-a3bb3072c7fa')\"\n",
              "                title=\"Suggest charts\"\n",
              "                style=\"display:none;\">\n",
              "\n",
              "<svg xmlns=\"http://www.w3.org/2000/svg\" height=\"24px\"viewBox=\"0 0 24 24\"\n",
              "     width=\"24px\">\n",
              "    <g>\n",
              "        <path d=\"M19 3H5c-1.1 0-2 .9-2 2v14c0 1.1.9 2 2 2h14c1.1 0 2-.9 2-2V5c0-1.1-.9-2-2-2zM9 17H7v-7h2v7zm4 0h-2V7h2v10zm4 0h-2v-4h2v4z\"/>\n",
              "    </g>\n",
              "</svg>\n",
              "      </button>\n",
              "\n",
              "<style>\n",
              "  .colab-df-quickchart {\n",
              "      --bg-color: #E8F0FE;\n",
              "      --fill-color: #1967D2;\n",
              "      --hover-bg-color: #E2EBFA;\n",
              "      --hover-fill-color: #174EA6;\n",
              "      --disabled-fill-color: #AAA;\n",
              "      --disabled-bg-color: #DDD;\n",
              "  }\n",
              "\n",
              "  [theme=dark] .colab-df-quickchart {\n",
              "      --bg-color: #3B4455;\n",
              "      --fill-color: #D2E3FC;\n",
              "      --hover-bg-color: #434B5C;\n",
              "      --hover-fill-color: #FFFFFF;\n",
              "      --disabled-bg-color: #3B4455;\n",
              "      --disabled-fill-color: #666;\n",
              "  }\n",
              "\n",
              "  .colab-df-quickchart {\n",
              "    background-color: var(--bg-color);\n",
              "    border: none;\n",
              "    border-radius: 50%;\n",
              "    cursor: pointer;\n",
              "    display: none;\n",
              "    fill: var(--fill-color);\n",
              "    height: 32px;\n",
              "    padding: 0;\n",
              "    width: 32px;\n",
              "  }\n",
              "\n",
              "  .colab-df-quickchart:hover {\n",
              "    background-color: var(--hover-bg-color);\n",
              "    box-shadow: 0 1px 2px rgba(60, 64, 67, 0.3), 0 1px 3px 1px rgba(60, 64, 67, 0.15);\n",
              "    fill: var(--button-hover-fill-color);\n",
              "  }\n",
              "\n",
              "  .colab-df-quickchart-complete:disabled,\n",
              "  .colab-df-quickchart-complete:disabled:hover {\n",
              "    background-color: var(--disabled-bg-color);\n",
              "    fill: var(--disabled-fill-color);\n",
              "    box-shadow: none;\n",
              "  }\n",
              "\n",
              "  .colab-df-spinner {\n",
              "    border: 2px solid var(--fill-color);\n",
              "    border-color: transparent;\n",
              "    border-bottom-color: var(--fill-color);\n",
              "    animation:\n",
              "      spin 1s steps(1) infinite;\n",
              "  }\n",
              "\n",
              "  @keyframes spin {\n",
              "    0% {\n",
              "      border-color: transparent;\n",
              "      border-bottom-color: var(--fill-color);\n",
              "      border-left-color: var(--fill-color);\n",
              "    }\n",
              "    20% {\n",
              "      border-color: transparent;\n",
              "      border-left-color: var(--fill-color);\n",
              "      border-top-color: var(--fill-color);\n",
              "    }\n",
              "    30% {\n",
              "      border-color: transparent;\n",
              "      border-left-color: var(--fill-color);\n",
              "      border-top-color: var(--fill-color);\n",
              "      border-right-color: var(--fill-color);\n",
              "    }\n",
              "    40% {\n",
              "      border-color: transparent;\n",
              "      border-right-color: var(--fill-color);\n",
              "      border-top-color: var(--fill-color);\n",
              "    }\n",
              "    60% {\n",
              "      border-color: transparent;\n",
              "      border-right-color: var(--fill-color);\n",
              "    }\n",
              "    80% {\n",
              "      border-color: transparent;\n",
              "      border-right-color: var(--fill-color);\n",
              "      border-bottom-color: var(--fill-color);\n",
              "    }\n",
              "    90% {\n",
              "      border-color: transparent;\n",
              "      border-bottom-color: var(--fill-color);\n",
              "    }\n",
              "  }\n",
              "</style>\n",
              "\n",
              "      <script>\n",
              "        async function quickchart(key) {\n",
              "          const quickchartButtonEl =\n",
              "            document.querySelector('#' + key + ' button');\n",
              "          quickchartButtonEl.disabled = true;  // To prevent multiple clicks.\n",
              "          quickchartButtonEl.classList.add('colab-df-spinner');\n",
              "          try {\n",
              "            const charts = await google.colab.kernel.invokeFunction(\n",
              "                'suggestCharts', [key], {});\n",
              "          } catch (error) {\n",
              "            console.error('Error during call to suggestCharts:', error);\n",
              "          }\n",
              "          quickchartButtonEl.classList.remove('colab-df-spinner');\n",
              "          quickchartButtonEl.classList.add('colab-df-quickchart-complete');\n",
              "        }\n",
              "        (() => {\n",
              "          let quickchartButtonEl =\n",
              "            document.querySelector('#df-4bc6d3a3-d67a-4bcf-9a9c-a3bb3072c7fa button');\n",
              "          quickchartButtonEl.style.display =\n",
              "            google.colab.kernel.accessAllowed ? 'block' : 'none';\n",
              "        })();\n",
              "      </script>\n",
              "    </div>\n",
              "\n",
              "    </div>\n",
              "  </div>\n"
            ],
            "application/vnd.google.colaboratory.intrinsic+json": {
              "type": "dataframe",
              "variable_name": "df",
              "summary": "{\n  \"name\": \"df\",\n  \"rows\": 55,\n  \"fields\": [\n    {\n      \"column\": \"Sales\",\n      \"properties\": {\n        \"dtype\": \"number\",\n        \"std\": 0.2666672979790506,\n        \"min\": 8.03,\n        \"max\": 9.2,\n        \"num_unique_values\": 41,\n        \"samples\": [\n          9.09,\n          8.9,\n          8.65\n        ],\n        \"semantic_type\": \"\",\n        \"description\": \"\"\n      }\n    },\n    {\n      \"column\": \"TV\",\n      \"properties\": {\n        \"dtype\": \"number\",\n        \"std\": 5.382607093647012,\n        \"min\": 135.23,\n        \"max\": 161.12,\n        \"num_unique_values\": 54,\n        \"samples\": [\n          152.95,\n          149.43,\n          151.23\n        ],\n        \"semantic_type\": \"\",\n        \"description\": \"\"\n      }\n    },\n    {\n      \"column\": \"Social_Media\",\n      \"properties\": {\n        \"dtype\": \"number\",\n        \"std\": 2.046816202216644,\n        \"min\": 21.08,\n        \"max\": 28.88,\n        \"num_unique_values\": 54,\n        \"samples\": [\n          23.81,\n          24.9,\n          27.98\n        ],\n        \"semantic_type\": \"\",\n        \"description\": \"\"\n      }\n    },\n    {\n      \"column\": \"Flyer\",\n      \"properties\": {\n        \"dtype\": \"number\",\n        \"std\": 2.864309660572654,\n        \"min\": 42.38,\n        \"max\": 56.25,\n        \"num_unique_values\": 53,\n        \"samples\": [\n          50.8,\n          48.61,\n          52.28\n        ],\n        \"semantic_type\": \"\",\n        \"description\": \"\"\n      }\n    }\n  ]\n}"
            }
          },
          "metadata": {},
          "execution_count": 67
        }
      ],
      "source": [
        "# Load dữ liệu\n",
        "path = 'https://raw.githubusercontent.com/nguyenquanghuy85/Khdl-ktkd-python/refs/heads/main/Sales%20dataset.csv'\n",
        "df = pd.read_csv(path, index_col=0, parse_dates=True)\n",
        "df.head()"
      ]
    },
    {
      "cell_type": "markdown",
      "id": "7ad4a407",
      "metadata": {
        "id": "7ad4a407"
      },
      "source": [
        "Sau đó, chúng ta có thể sử dụng phương thức `regplot` của `seaborn` để tạo một đồ thị phân tán và khớp một đường hồi quy tuyến tính:"
      ]
    },
    {
      "cell_type": "code",
      "execution_count": null,
      "id": "5f10f684",
      "metadata": {
        "id": "5f10f684"
      },
      "outputs": [],
      "source": [
        "ax = sns.regplot(x=\"TV\", y=\"Sales\", data= df)\n",
        "ax.set_title(\"Mối liên hệ giữa chi phí quảng cáo truyền hình và doanh thu\")\n",
        "plt.savefig(\"chart27.png\")"
      ]
    },
    {
      "cell_type": "markdown",
      "source": [
        "![](https://raw.githubusercontent.com/toantran249/NEU_KHDL/70c3dcccbc152116fd201f1b380767d116132165/chart27.png)"
      ],
      "metadata": {
        "id": "MusXkxZ0waJg"
      },
      "id": "MusXkxZ0waJg"
    },
    {
      "cell_type": "markdown",
      "id": "97e6fa4c",
      "metadata": {
        "id": "97e6fa4c"
      },
      "source": [
        "Trong phân tích khai phá dữ liệu, việc có thể xem tất cả các đồ thị phân tán giữa một nhóm các biến là cần thiết. Biểu đồ thể hiện các mối liên hệ này được gọi là đồ thị cặp hoặc ma trận đồ thị phân tán. Việc tạo một đồ thị như vậy từ Python sẽ cần viết vòng lặp. Thư viện `seaborn` có hàm `pairplot` tiện lợi hỗ trợ đặt biểu đồ tần suất hoặc ước tính mật độ của mỗi biến dọc theo đường chéo:"
      ]
    },
    {
      "cell_type": "code",
      "execution_count": null,
      "id": "690c4c1c",
      "metadata": {
        "id": "690c4c1c"
      },
      "outputs": [],
      "source": [
        "# Ma trận đồ thị phân tán\n",
        "sns.pairplot(df, diag_kind=\"kde\", plot_kws={\"alpha\": 0.8})\n",
        "plt.savefig(\"chart28.png\")"
      ]
    },
    {
      "cell_type": "markdown",
      "source": [
        "![](https://raw.githubusercontent.com/toantran249/NEU_KHDL/70c3dcccbc152116fd201f1b380767d116132165/chart28.png)"
      ],
      "metadata": {
        "id": "x0KuKmI2wchf"
      },
      "id": "x0KuKmI2wchf"
    },
    {
      "cell_type": "markdown",
      "id": "dfa08e4c",
      "metadata": {
        "id": "dfa08e4c"
      },
      "source": [
        "Bạn đọc có thể nhận thấy tham số `plot_kws` cho phép chúng ta truyền các tùy chọn cấu hình xuống các lệnh gọi vẽ đồ thị riêng lẻ trên các phần tử ngoài đường chéo. Bạn đọc xem docstring của `seaborn.pairplot` để biết các tùy chọn cấu hình chi tiết hơn."
      ]
    },
    {
      "cell_type": "markdown",
      "id": "c93318f6-cd3f-46d0-99b2-d5828949db06",
      "metadata": {
        "id": "c93318f6-cd3f-46d0-99b2-d5828949db06"
      },
      "source": [
        "## Lưới đa điểm và dữ liệu phân loại\n",
        "<hr>"
      ]
    },
    {
      "cell_type": "markdown",
      "id": "cb8193fd",
      "metadata": {
        "id": "cb8193fd"
      },
      "source": [
        "Một cách để trực quan hóa dữ liệu với nhiều biến phân loại là sử dụng lưới đa diện - một bố cục hai chiều của các đồ thị trong đó dữ liệu được chia trên các đồ thị trên mỗi trục dựa trên các giá trị riêng biệt của một biến nhất định. `seaborn` có một hàm tích hợp hữu ích `catplot` giúp đơn giản hóa việc tạo nhiều loại đồ thị đa diện được chia theo các biến phân loại:"
      ]
    },
    {
      "cell_type": "code",
      "execution_count": null,
      "id": "16436342",
      "metadata": {
        "id": "16436342"
      },
      "outputs": [],
      "source": [
        "tips = pd.read_csv(\"data/tips.csv\") # Tải lại dữ liệu gốc tips\n",
        "tips[\"tip_pct\"] = tips[\"tip\"] / (tips[\"total_bill\"] - tips[\"tip\"])\n",
        "sns.catplot(x=\"day\", y=\"tip_pct\", hue=\"time\", col=\"smoker\",\n",
        "            kind=\"bar\", data=tips[tips.tip_pct < 1])\n",
        "plt.savefig(\"chart29.png\")"
      ]
    },
    {
      "cell_type": "markdown",
      "source": [
        "![](https://raw.githubusercontent.com/toantran249/NEU_KHDL/70c3dcccbc152116fd201f1b380767d116132165/chart29.png)"
      ],
      "metadata": {
        "id": "_ahjTrdPwe_2"
      },
      "id": "_ahjTrdPwe_2"
    },
    {
      "cell_type": "markdown",
      "id": "4cb132f1",
      "metadata": {
        "id": "4cb132f1"
      },
      "source": [
        "Thay vì nhóm theo `\"time\"` bằng các màu cột khác nhau trong một facet, chúng ta cũng có thể mở rộng lưới facet bằng cách thêm một hàng cho mỗi giá trị `time`:"
      ]
    },
    {
      "cell_type": "code",
      "execution_count": null,
      "id": "a7de2c68",
      "metadata": {
        "id": "a7de2c68"
      },
      "outputs": [],
      "source": [
        "tips[\"tip_pct\"] = tips[\"tip\"] / (tips[\"total_bill\"] - tips[\"tip\"])\n",
        "sns.catplot(x=\"day\", y=\"tip_pct\", row=\"time\",\n",
        "            col=\"smoker\",\n",
        "            kind=\"bar\", data=tips[tips.tip_pct < 1])\n",
        "plt.savefig(\"chart30.png\")"
      ]
    },
    {
      "cell_type": "markdown",
      "source": [
        "![](https://raw.githubusercontent.com/toantran249/NEU_KHDL/70c3dcccbc152116fd201f1b380767d116132165/chart30.png)"
      ],
      "metadata": {
        "id": "H_fYRYr1whH_"
      },
      "id": "H_fYRYr1whH_"
    },
    {
      "cell_type": "markdown",
      "id": "b0ef9c30",
      "metadata": {
        "id": "b0ef9c30"
      },
      "source": [
        "`catplot` hỗ trợ các loại đồ thị khác có thể hữu ích tùy thuộc vào những gì bạn đang cố gắng hiển thị. Ví dụ, đồ thị hộp có thể là một loại hình trực quan hiệu quả:"
      ]
    },
    {
      "cell_type": "code",
      "execution_count": null,
      "id": "1a4c566e",
      "metadata": {
        "id": "1a4c566e"
      },
      "outputs": [],
      "source": [
        "tips[\"tip_pct\"] = tips[\"tip\"] / (tips[\"total_bill\"] - tips[\"tip\"])\n",
        "sns.catplot(x=\"tip_pct\", y=\"day\", kind=\"box\",\n",
        "            data=tips[tips.tip_pct < 0.5])\n",
        "plt.savefig(\"chart31.png\")"
      ]
    },
    {
      "cell_type": "markdown",
      "source": [
        "![](https://raw.githubusercontent.com/toantran249/NEU_KHDL/70c3dcccbc152116fd201f1b380767d116132165/chart31.png)"
      ],
      "metadata": {
        "id": "Y5gvDhX1wjxo"
      },
      "id": "Y5gvDhX1wjxo"
    },
    {
      "cell_type": "markdown",
      "id": "d64034c0",
      "metadata": {
        "id": "d64034c0"
      },
      "source": [
        "Bạn có thể tạo các đồ thị lưới của riêng mình bằng cách sử dụng lớp `seaborn.FacetGrid` tổng quát hơn."
      ]
    },
    {
      "cell_type": "markdown",
      "id": "47dd40d3",
      "metadata": {
        "id": "47dd40d3"
      },
      "source": [
        "Python là một ngôn ngữ lập trình mã nguồn mở, vì vậy có rất nhiều lựa chọn phong phú cho việc tạo ra các biểu đồ và đồ họa. Kể từ năm 2010, cộng đồng phát triển đã đầu tư đáng kể vào việc xây dựng các công cụ cho phép tạo ra đồ họa tương tác có thể hiển thị trực tiếp trên trình duyệt web. Các thư viện tiêu biểu cho mục tiêu này bao gồm **Altair**, **Bokeh** và **Plotly**. Nhờ những công cụ này, người dùng Python có thể dễ dàng xây dựng các biểu diễn dữ liệu động và có tính tương tác cao, phục vụ tốt cho các ứng dụng web hiện đại.\n",
        "\n",
        "Đối với các nhu cầu tạo đồ họa tĩnh — chẳng hạn như hình minh họa cho tài liệu in ấn hoặc xuất bản trên web — các thư viện như **`matplotlib`** cùng với các thư viện mở rộng như **`pandas`** và **`seaborn`** được khuyến nghị sử dụng. Đây là những công cụ mạnh mẽ, linh hoạt và đã được kiểm chứng qua thời gian cho các mục đích trực quan hóa dữ liệu trong khoa học, kinh tế và kỹ thuật.\n",
        "\n",
        "Tuy nhiên, hệ sinh thái các công cụ trực quan hóa trong Python không ngừng phát triển và đổi mới. Vì vậy, việc tìm hiểu thêm các công cụ mới và đa dạng hóa phương pháp trực quan hóa có thể giúp bạn mở rộng khả năng phân tích và trình bày dữ liệu hiệu quả hơn.\n",
        "\n",
        "Một tài liệu tham khảo đáng chú ý trong lĩnh vực này là cuốn sách *Fundamentals of Data Visualization* của tác giả **Claus O. Wilke**, được xuất bản bởi O'Reilly. Cuốn sách này hiện có sẵn dưới dạng bản in, đồng thời có thể truy cập miễn phí tại trang web của tác giả: [https://clauswilke.com/dataviz](https://clauswilke.com/dataviz)."
      ]
    },
    {
      "cell_type": "markdown",
      "id": "4997565f",
      "metadata": {
        "id": "4997565f"
      },
      "source": [
        "Mục tiêu của chương này là cung cấp cho người học những kiến thức cơ bản ban đầu về trực quan hóa dữ liệu trong Python thông qua việc sử dụng các thư viện phổ biến như `pandas`, `matplotlib` và `seaborn`. Những công cụ này cho phép người dùng xây dựng các biểu đồ, đồ họa và hình ảnh hóa dữ liệu phục vụ cho việc khám phá, phân tích và trình bày kết quả một cách trực quan và dễ hiểu.\n",
        "\n",
        "Trong bối cảnh ngày càng nhiều lĩnh vực ứng dụng dữ liệu trong nghiên cứu và thực tiễn, việc truyền đạt kết quả phân tích thông qua trực quan hóa hiệu quả là một kỹ năng thiết yếu. Nếu công việc của bạn đòi hỏi khả năng diễn giải dữ liệu một cách trực quan, bạn nên đầu tư thời gian tìm hiểu thêm về các nguyên tắc thiết kế và công cụ trực quan hóa dữ liệu tiên tiến. Đây là một lĩnh vực đang phát triển mạnh mẽ, với nhiều tài nguyên học tập phong phú có sẵn trên Internet và dưới dạng sách chuyên khảo.\n",
        "\n",
        "Trong chương tiếp theo, chúng ta sẽ tập trung vào các kỹ thuật xây dựng mô hình trên dữ liệu, từ những phương pháp cơ bản đến các kỹ thuật nâng cao. Nội dung chương sẽ bao gồm việc lựa chọn mô hình phù hợp, huấn luyện mô hình trên dữ liệu, đánh giá hiệu quả dự đoán, và tối ưu hóa hiệu suất thông qua các công cụ trong hệ sinh thái Python. Đây là bước quan trọng trong quy trình phân tích dữ liệu, cho phép chuyển hóa dữ liệu thành tri thức có khả năng dự đoán và hỗ trợ ra quyết định."
      ]
    }
  ],
  "metadata": {
    "kernelspec": {
      "display_name": "Python 3 (ipykernel)",
      "language": "python",
      "name": "python3"
    },
    "language_info": {
      "codemirror_mode": {
        "name": "ipython",
        "version": 3
      },
      "file_extension": ".py",
      "mimetype": "text/x-python",
      "name": "python",
      "nbconvert_exporter": "python",
      "pygments_lexer": "ipython3",
      "version": "3.13.2"
    },
    "colab": {
      "provenance": [],
      "collapsed_sections": [
        "92ac13cd-f5f6-4db2-9c0a-6e37b6230be6",
        "3c614018-5569-4364-af9e-219e79c2dade",
        "FEWRg-1h56RX",
        "rz3w2uP9hB7w",
        "TITQ9FFjhB7w",
        "mAb85mmZhB7x",
        "AR4PvbzykSWB",
        "j03ToPnukVX5"
      ]
    }
  },
  "nbformat": 4,
  "nbformat_minor": 5
}