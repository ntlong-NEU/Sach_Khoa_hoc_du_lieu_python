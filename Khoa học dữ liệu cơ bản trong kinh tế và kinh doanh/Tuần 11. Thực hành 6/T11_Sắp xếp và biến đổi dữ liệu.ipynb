{
 "cells": [
  {
   "cell_type": "markdown",
   "id": "50225438",
   "metadata": {
    "vscode": {
     "languageId": "plaintext"
    }
   },
   "source": [
    "# 🏪 Thực hành Sắp xếp và biến đổi dữ liệu\n",
    "\n",
    "Trong notebook này, chúng ta sẽ luyện tập các kỹ thuật:\n",
    "- Hierarchical Indexing\n",
    "- Combining & Merging\n",
    "- Concatenation\n",
    "- Reshaping & Pivoting\n",
    "\n",
    "Dữ liệu sử dụng: [Walmart Store Sales Forecasting](https://www.kaggle.com/competitions/walmart-recruiting-store-sales-forecasting)\n",
    "\n",
    "---"
   ]
  },
  {
   "cell_type": "code",
   "execution_count": 31,
   "id": "f78792e7",
   "metadata": {},
   "outputs": [
    {
     "data": {
      "text/html": [
       "<div>\n",
       "<style scoped>\n",
       "    .dataframe tbody tr th:only-of-type {\n",
       "        vertical-align: middle;\n",
       "    }\n",
       "\n",
       "    .dataframe tbody tr th {\n",
       "        vertical-align: top;\n",
       "    }\n",
       "\n",
       "    .dataframe thead th {\n",
       "        text-align: right;\n",
       "    }\n",
       "</style>\n",
       "<table border=\"1\" class=\"dataframe\">\n",
       "  <thead>\n",
       "    <tr style=\"text-align: right;\">\n",
       "      <th></th>\n",
       "      <th>Store</th>\n",
       "      <th>Dept</th>\n",
       "      <th>Date</th>\n",
       "      <th>Weekly_Sales</th>\n",
       "      <th>IsHoliday</th>\n",
       "    </tr>\n",
       "  </thead>\n",
       "  <tbody>\n",
       "    <tr>\n",
       "      <th>0</th>\n",
       "      <td>1</td>\n",
       "      <td>1</td>\n",
       "      <td>2010-02-05</td>\n",
       "      <td>24924.50</td>\n",
       "      <td>False</td>\n",
       "    </tr>\n",
       "    <tr>\n",
       "      <th>1</th>\n",
       "      <td>1</td>\n",
       "      <td>1</td>\n",
       "      <td>2010-02-12</td>\n",
       "      <td>46039.49</td>\n",
       "      <td>True</td>\n",
       "    </tr>\n",
       "    <tr>\n",
       "      <th>2</th>\n",
       "      <td>1</td>\n",
       "      <td>1</td>\n",
       "      <td>2010-02-19</td>\n",
       "      <td>41595.55</td>\n",
       "      <td>False</td>\n",
       "    </tr>\n",
       "    <tr>\n",
       "      <th>3</th>\n",
       "      <td>1</td>\n",
       "      <td>1</td>\n",
       "      <td>2010-02-26</td>\n",
       "      <td>19403.54</td>\n",
       "      <td>False</td>\n",
       "    </tr>\n",
       "    <tr>\n",
       "      <th>4</th>\n",
       "      <td>1</td>\n",
       "      <td>1</td>\n",
       "      <td>2010-03-05</td>\n",
       "      <td>21827.90</td>\n",
       "      <td>False</td>\n",
       "    </tr>\n",
       "  </tbody>\n",
       "</table>\n",
       "</div>"
      ],
      "text/plain": [
       "   Store  Dept       Date  Weekly_Sales  IsHoliday\n",
       "0      1     1 2010-02-05      24924.50      False\n",
       "1      1     1 2010-02-12      46039.49       True\n",
       "2      1     1 2010-02-19      41595.55      False\n",
       "3      1     1 2010-02-26      19403.54      False\n",
       "4      1     1 2010-03-05      21827.90      False"
      ]
     },
     "execution_count": 31,
     "metadata": {},
     "output_type": "execute_result"
    }
   ],
   "source": [
    "import pandas as pd\n",
    "import numpy as np\n",
    "\n",
    "# Đọc dữ liệu (chỉnh lại path nếu cần)\n",
    "train = pd.read_csv('data/train.csv')\n",
    "features = pd.read_csv('data/features.csv')\n",
    "stores = pd.read_csv('data/stores.csv')\n",
    "\n",
    "train['Date'] = pd.to_datetime(train['Date'])\n",
    "features['Date'] = pd.to_datetime(features['Date'])\n",
    "\n",
    "train.head()"
   ]
  },
  {
   "cell_type": "markdown",
   "id": "964d1ba3",
   "metadata": {},
   "source": [
    "# Phần 1: Chỉ số phân cấp\n",
    "**Ngữ cảnh:** Dữ liệu doanh số theo `Store` và `Dept`. Nếu chỉ dùng index 1 cấp thì khó truy vấn chi tiết. MultiIndex sẽ hữu ích.\n",
    "\n",
    "---"
   ]
  },
  {
   "cell_type": "markdown",
   "id": "26b8c1e6",
   "metadata": {},
   "source": [
    "**Bài 1:** Tạo MultiIndex từ hai cột `Store` và `Dept`, sau đó hiển thị dữ liệu của `Store = 1, Dept = 1`. "
   ]
  },
  {
   "cell_type": "code",
   "execution_count": 1,
   "id": "27504ba3",
   "metadata": {},
   "outputs": [],
   "source": [
    "# Solution"
   ]
  },
  {
   "cell_type": "markdown",
   "id": "9ea1dc76",
   "metadata": {},
   "source": [
    "**Bài 2:** Lấy toàn bộ dữ liệu của `Store = 2` (tất cả Dept)."
   ]
  },
  {
   "cell_type": "code",
   "execution_count": 3,
   "id": "ace55967",
   "metadata": {},
   "outputs": [],
   "source": [
    "# Solution"
   ]
  },
  {
   "cell_type": "markdown",
   "id": "50d6c4e6",
   "metadata": {},
   "source": [
    "**Bài 3:** Lấy dữ liệu của tất cả các `Dept = 5` trên toàn bộ các `Store`."
   ]
  },
  {
   "cell_type": "code",
   "execution_count": 5,
   "id": "133bca82",
   "metadata": {},
   "outputs": [],
   "source": [
    "# Solution"
   ]
  },
  {
   "cell_type": "markdown",
   "id": "be91ca0d",
   "metadata": {},
   "source": [
    "**Bài 4:** Tính doanh số trung bình cho từng `Dept` trong mỗi `Store` bằng `groupby` rồi chuyển kết quả thành MultiIndex."
   ]
  },
  {
   "cell_type": "code",
   "execution_count": 7,
   "id": "f2822077",
   "metadata": {},
   "outputs": [],
   "source": [
    "# Solution"
   ]
  },
  {
   "cell_type": "markdown",
   "id": "586a6470",
   "metadata": {},
   "source": [
    "**Bài 5:** Sau khi tạo MultiIndex, thử dùng `.xs()` để truy cập nhanh một cấp chỉ số (ví dụ: Dept = 10 của tất cả các Store)."
   ]
  },
  {
   "cell_type": "code",
   "execution_count": 9,
   "id": "5e757d6a",
   "metadata": {},
   "outputs": [],
   "source": [
    "# Solution"
   ]
  },
  {
   "cell_type": "markdown",
   "id": "c9361933",
   "metadata": {},
   "source": [
    "# Phần 2: Kết hợp các tập dữ liệu\n",
    "**Ngữ cảnh:** Dữ liệu doanh số (`train.csv`) cần ghép với thông tin kinh tế khác (`features.csv`) để thấy được các yếu tố khác ảnh hưởng tới doanh số như thế nào.\n",
    "\n",
    "---"
   ]
  },
  {
   "cell_type": "markdown",
   "id": "1c05eff7",
   "metadata": {},
   "source": [
    "**Bài 1:** Merge `train` với `features` dựa trên `Store` và `Date` (left join)."
   ]
  },
  {
   "cell_type": "code",
   "execution_count": 10,
   "id": "b15a851a",
   "metadata": {},
   "outputs": [],
   "source": [
    "# Solution"
   ]
  },
  {
   "cell_type": "markdown",
   "id": "3ef94e43",
   "metadata": {},
   "source": [
    "**Bài 2:** Kiểm tra có bao nhiêu bản ghi trong `train` không tìm thấy trong `features`."
   ]
  },
  {
   "cell_type": "code",
   "execution_count": 12,
   "id": "d3ce729a",
   "metadata": {},
   "outputs": [],
   "source": [
    "# Solution"
   ]
  },
  {
   "cell_type": "markdown",
   "id": "7ce0b95e",
   "metadata": {},
   "source": [
    "**Bài 3:** Thêm dữ liệu `stores.csv` để có thêm cột `Type` và `Size` cho mỗi `Store`."
   ]
  },
  {
   "cell_type": "code",
   "execution_count": 14,
   "id": "9c003d80",
   "metadata": {},
   "outputs": [],
   "source": [
    "# Solution"
   ]
  },
  {
   "cell_type": "markdown",
   "id": "6ba8da8f",
   "metadata": {},
   "source": [
    "**Bài 4:** Tìm `Store` nào có doanh số trung bình cao nhất khi merge đủ cả 3 bảng (`train`, `features`, `stores`)."
   ]
  },
  {
   "cell_type": "code",
   "execution_count": 15,
   "id": "0b195250",
   "metadata": {},
   "outputs": [],
   "source": [
    "# Solution"
   ]
  },
  {
   "cell_type": "markdown",
   "id": "1a181e4e",
   "metadata": {},
   "source": [
    "**Bài 5:** Sau khi merge, tính doanh số trung bình của các `Store` theo từng loại `Type` (A/B/C)."
   ]
  },
  {
   "cell_type": "code",
   "execution_count": 17,
   "id": "7989ccfb",
   "metadata": {},
   "outputs": [],
   "source": [
    "# Solution"
   ]
  },
  {
   "cell_type": "markdown",
   "id": "c570ea91",
   "metadata": {},
   "source": [
    "**Bài 6:** Chia `train` thành 3 DataFrame theo năm (2010, 2011, 2012)."
   ]
  },
  {
   "cell_type": "code",
   "execution_count": 18,
   "id": "ba2f8e93",
   "metadata": {},
   "outputs": [],
   "source": [
    "# Solution"
   ]
  },
  {
   "cell_type": "markdown",
   "id": "92272062",
   "metadata": {},
   "source": [
    "**Bài 7:** Ghép chúng lại thành một DataFrame duy nhất bằng `pd.concat`."
   ]
  },
  {
   "cell_type": "code",
   "execution_count": 20,
   "id": "edf387a2",
   "metadata": {},
   "outputs": [],
   "source": [
    "# Solution"
   ]
  },
  {
   "cell_type": "markdown",
   "id": "c0bf08df",
   "metadata": {},
   "source": [
    "**Bài 8:** Thử ghép theo **cột** (`axis=1`) và quan sát sự khác biệt."
   ]
  },
  {
   "cell_type": "code",
   "execution_count": 22,
   "id": "27b53e6d",
   "metadata": {},
   "outputs": [],
   "source": [
    "# Solution"
   ]
  },
  {
   "cell_type": "markdown",
   "id": "c2aea520",
   "metadata": {},
   "source": [
    "**Bài 9:** Gán keys = `['2010','2011','2012']` khi concat để tạo MultiIndex ở cấp trên."
   ]
  },
  {
   "cell_type": "code",
   "execution_count": 24,
   "id": "ae7caf29",
   "metadata": {},
   "outputs": [],
   "source": [
    "# Solution"
   ]
  },
  {
   "cell_type": "markdown",
   "id": "834346a2",
   "metadata": {},
   "source": [
    "**Bài 10:** So sánh số bản ghi trước và sau khi concat để kiểm tra tính toàn vẹn dữ liệu."
   ]
  },
  {
   "cell_type": "code",
   "execution_count": 25,
   "id": "dc77ef0b",
   "metadata": {},
   "outputs": [],
   "source": [
    "# Solution"
   ]
  },
  {
   "cell_type": "markdown",
   "id": "89ae5df7",
   "metadata": {
    "vscode": {
     "languageId": "plaintext"
    }
   },
   "source": [
    "# Phần 3: Tổ chức và Cấu trúc lại dữ liệu\n",
    "**Ngữ cảnh:** Ban lãnh đạo cần báo cáo doanh số dễ đọc hơn, thay vì dữ liệu dạng long.\n",
    "\n",
    "---"
   ]
  },
  {
   "cell_type": "markdown",
   "id": "cd2b765b",
   "metadata": {},
   "source": [
    "**Bài 1:** Dùng `pivot_table` để tính doanh số trung bình theo `Store` (hàng) và `Dept` (cột)."
   ]
  },
  {
   "cell_type": "code",
   "execution_count": 26,
   "id": "7c83b604",
   "metadata": {},
   "outputs": [],
   "source": [
    "# Solution"
   ]
  },
  {
   "cell_type": "markdown",
   "id": "4a55c799",
   "metadata": {},
   "source": [
    "**Bài 2:** Lấy doanh số trung bình theo từng `Store` theo từng năm (sử dụng `Date`)."
   ]
  },
  {
   "cell_type": "code",
   "execution_count": 27,
   "id": "ca64e8f9",
   "metadata": {},
   "outputs": [],
   "source": [
    "# Solution"
   ]
  },
  {
   "cell_type": "markdown",
   "id": "dca4d4ed",
   "metadata": {},
   "source": [
    "**Bài 3:** Dùng `stack` và `unstack` để biến đổi bảng pivot thành long rồi wide trở lại."
   ]
  },
  {
   "cell_type": "code",
   "execution_count": 28,
   "id": "2b509701",
   "metadata": {},
   "outputs": [],
   "source": [
    "# Solution"
   ]
  },
  {
   "cell_type": "markdown",
   "id": "20c9e055",
   "metadata": {},
   "source": [
    "**Bài 4:** Tạo pivot table để xem doanh số trung bình theo `Type` của Store và theo từng năm."
   ]
  },
  {
   "cell_type": "code",
   "execution_count": 30,
   "id": "a781f1f4",
   "metadata": {},
   "outputs": [],
   "source": [
    "# Solution"
   ]
  }
 ],
 "metadata": {
  "kernelspec": {
   "display_name": "base",
   "language": "python",
   "name": "python3"
  },
  "language_info": {
   "codemirror_mode": {
    "name": "ipython",
    "version": 3
   },
   "file_extension": ".py",
   "mimetype": "text/x-python",
   "name": "python",
   "nbconvert_exporter": "python",
   "pygments_lexer": "ipython3",
   "version": "3.12.2"
  }
 },
 "nbformat": 4,
 "nbformat_minor": 5
}
