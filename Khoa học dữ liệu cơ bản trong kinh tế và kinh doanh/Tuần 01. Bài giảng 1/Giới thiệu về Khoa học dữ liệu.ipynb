{
 "cells": [
  {
   "cell_type": "markdown",
   "metadata": {
    "slideshow": {
     "slide_type": "slide"
    }
   },
   "source": [
    "# GIỚI THIỆU VỀ KHOA HỌC DỮ LIỆU"
   ]
  },
  {
   "cell_type": "markdown",
   "metadata": {
    "slideshow": {
     "slide_type": "slide"
    }
   },
   "source": [
    "## Các khái niệm cơ bản trong Khoa học dữ liệu."
   ]
  },
  {
   "cell_type": "markdown",
   "metadata": {
    "slideshow": {
     "slide_type": "subslide"
    }
   },
   "source": [
    "### Khoa học dữ liệu (Data Science) là gì?\n",
    "\n",
    "Là một lĩnh vực liên ngành, kết hợp chặt chẽ giữa ba trụ cột chính là Toán học & Thống kê, Khoa học máy tính, và Kiến thức chuyên ngành nhằm khám phá những tri thức và hiểu biết ẩn giấu trong dữ liệu.\n",
    "\n",
    "![](https://raw.githubusercontent.com/NCT-NEU/Sach_Khoa_hoc_du_lieu_python/main/Khoa%20h%E1%BB%8Dc%20d%E1%BB%AF%20li%E1%BB%87u%20c%C6%A1%20b%E1%BA%A3n%20trong%20kinh%20t%E1%BA%BF%20v%C3%A0%20kinh%20doanh/Tu%E1%BA%A7n%2001.%20B%C3%A0i%20gi%E1%BA%A3ng%201/Hinh_anh/intro1.png)\n",
    "\n",
    "1. **Toán học & thống kê** cung cấp nền tảng lý thuyết cho việc xây dựng mô hình, phân tích dữ liệu và kiểm định kết quả. Các lĩnh vực trọng tâm bao gồm: xác suất, hồi quy, tối ưu hóa và thống kê suy luận.\n",
    "\n",
    "2. **Khoa học máy tính** cung cấp nền tảng về lập trình, thuật toán và hệ thống lưu trữ dữ liệu lớn, đồng thời hỗ trợ triển khai các ứng dụng Khoa học dữ liệu thành những sản phẩm có giá trị thực tiễn.\n",
    "\n",
    "3. **Kiến thức chuyên ngành** giúp hiểu rõ bối cảnh và đặc thù của lĩnh vực ứng dụng, từ đó hỗ trợ việc xây dựng mô hình phù hợp và diễn giải kết quả một cách chính xác và có ý nghĩa."
   ]
  },
  {
   "cell_type": "markdown",
   "metadata": {
    "slideshow": {
     "slide_type": "subslide"
    }
   },
   "source": [
    "### Chu trình khai thác dữ liệu để giải quyết vấn đề thực tế.\n",
    "\n",
    "*Định nghĩa:* *Khoa học dữ liệu là một lĩnh vực liên ngành, nghiên cứu các tri thức, phương pháp luận và công cụ kỹ thuật nhằm hỗ trợ việc thực hiện một cách toàn diện, có hệ thống và hiệu quả tất cả các bước trong chu trình khai thác dữ liệu – từ việc xác định vấn đề, thu thập dữ liệu, làm sạch, phân tích, trực quan hóa đến việc diễn giải kết quả và hỗ trợ ra quyết định dựa trên dữ liệu.*\n",
    "\n",
    "![](https://raw.githubusercontent.com/NCT-NEU/Sach_Khoa_hoc_du_lieu_python/main/Khoa%20h%E1%BB%8Dc%20d%E1%BB%AF%20li%E1%BB%87u%20c%C6%A1%20b%E1%BA%A3n%20trong%20kinh%20t%E1%BA%BF%20v%C3%A0%20kinh%20doanh/Tu%E1%BA%A7n%2001.%20B%C3%A0i%20gi%E1%BA%A3ng%201/Hinh_anh/Data_Cycle.png)\n",
    "\n",
    "\n",
    "**Bước 1: Xác định bài toán**\n",
    "\n",
    "- Làm rõ mục tiêu kinh doanh hoặc câu hỏi nghiên cứu, xác định nhu cầu thực tế từ phía tổ chức hoặc người dùng.\n",
    "- Xác định các chỉ số đánh giá thành công và yêu cầu dữ liệu cần thiết để giải quyết bài toán.\n",
    "\n",
    "**Bước 2: Thu thập dữ liệu**\n",
    "\n",
    "- Thu thập dữ liệu từ nhiều nguồn khác nhau như cơ sở dữ liệu nội bộ, hệ thống giao dịch, API, dữ liệu mở hoặc web scraping.\n",
    "- Đảm bảo tuân thủ các quy định pháp lý và đạo đức, đồng thời tổ chức lưu trữ dữ liệu một cách có hệ thống và an toàn.\n",
    "\n",
    "**Bước 3: Khai phá dữ liệu**\n",
    "\n",
    "- Sử dụng thống kê mô tả và trực quan hóa để khám phá cấu trúc dữ liệu, phân phối, xu hướng, và các mối quan hệ giữa biến.\n",
    "- Phát hiện các bất thường hoặc điểm nổi bật và hình thành các giả thuyết cho các phân tích sâu hơn.\n",
    "\n",
    "**Bước 4: Xử lý dữ liệu**\n",
    "\n",
    "- Làm sạch dữ liệu bằng cách xử lý giá trị thiếu, dữ liệu nhiễu, lỗi nhập liệu và chuẩn hóa định dạng.\n",
    "- Biến đổi dữ liệu và tích hợp từ nhiều nguồn: mã hóa biến phân loại, tạo đặc trưng mới và thống nhất định dạng dữ liệu.\n",
    "\n",
    "**Bước 5: Xây dựng mô hình**\n",
    "\n",
    "- Chọn thuật toán phù hợp với mục tiêu (giám sát hoặc không giám sát) và huấn luyện mô hình trên tập dữ liệu đào tạo.\n",
    "- Chia tập dữ liệu thành các phần huấn luyện, kiểm tra và kiểm định chéo; thực hiện tối ưu hóa tham số mô hình.\n",
    "\n",
    "**Bước 6: Đánh giá mô hình**\n",
    "\n",
    "- Đánh giá mô hình bằng các chỉ số phù hợp (accuracy, precision, recall, F1, AUC...) tùy theo bài toán cụ thể.\n",
    "- So sánh hiệu suất giữa các mô hình và đánh giá tính khả giải, ổn định và ý nghĩa thực tiễn của mô hình đã chọn.\n",
    "\n",
    "**Bước 7: Triển khai và giám sát**\n",
    "\n",
    "- Triển khai mô hình vào môi trường thực tế như hệ thống web, ứng dụng, dashboard hoặc báo cáo động.\n",
    "- Giám sát hiệu suất mô hình theo thời gian, cập nhật mô hình khi có dữ liệu mới hoặc khi hiệu suất suy giảm."
   ]
  },
  {
   "cell_type": "markdown",
   "metadata": {},
   "source": [
    "### Đặc thù của Khoa học dữ liệu trong Kinh tế & Kinh doanh.\n",
    "\n",
    "- Dữ liệu trong kinh tế – kinh doanh phản ánh hành vi con người, chịu tác động của thông tin bất cân xứng và yếu tố vĩ mô → cần phân tích và giải thích thận trọng.\n",
    "\n",
    "- Mô hình không chỉ cần chính xác mà còn phải minh bạch, dễ giải thích và phù hợp với lý thuyết kinh tế – quản trị.\n",
    "\n",
    "- Mục tiêu hướng tới hiệu quả kinh tế, tối ưu vận hành và quản trị rủi ro.\n",
    "\n",
    "\n",
    "| **Bước** | **KHDL thông thường** | **KHDL trong Kinh tế & Kinh doanh** |\n",
    "|:---------|:----------------------|:--------------------------|\n",
    "| **1. Xác định bài toán** | Tập trung vào kỹ thuật như nhận diện ảnh, âm thanh, tối ưu hệ thống. | Gắn với hoạt động kinh doanh, tối ưu lợi nhuận, chiến lược, hiểu bối cảnh thực tế. |\n",
    "| **2. Thu thập dữ liệu** | Dữ liệu cảm biến, hình ảnh, tín hiệu số. | Dữ liệu dạng bảng: tài chính, khách hàng; cần hiểu rõ ngữ cảnh và đơn vị đo. |\n",
    "| **3. Khai phá dữ liệu** | Phân tích dữ liệu mang tính kỹ thuật, thuật toán. | Phân tích thống kê cơ bản, phù hợp tư duy kinh doanh – quản lý. |\n",
    "| **4. Xử lý dữ liệu** | Làm sạch tín hiệu, chuẩn hóa kỹ thuật đầu vào. | Làm sạch nhập liệu, chuẩn hóa số liệu, phân nhóm khách hàng. |\n",
    "| **5. Xây dựng mô hình** | Mô hình phức tạp (deep learning), tối ưu hiệu suất. | Mô hình dễ hiểu (hồi quy, cây quyết định), dễ áp dụng và giải thích. |\n",
    "| **6. Đánh giá mô hình** | Dựa vào độ chính xác và chỉ số kỹ thuật. | Tính đến hiệu quả kinh doanh và khả năng triển khai thực tiễn. |\n",
    "| **7. Triển khai & giám sát** | Nhúng vào hệ thống, thiết bị thông minh. | Tích hợp vào dashboard, báo cáo, giám sát theo biến động thị trường. |"
   ]
  },
  {
   "cell_type": "markdown",
   "metadata": {},
   "source": [
    "### Các lĩnh vực chuyên sâu trong Khoa học dữ liệu.\n",
    "\n",
    "Khoa học dữ liệu gồm ba lĩnh vực chuyên sâu: Kỹ thuật dữ liệu, Phân tích dữ liệu và Học máy.\n",
    "\n",
    "Cả ba cùng đóng góp vào hầu hết các bước trong chu trình, nhưng mỗi lĩnh vực giữ vai trò trọng tâm ở từng giai đoạn khác nhau:\n",
    "\n",
    "**1. Kỹ thuật dữ liệu (Data Engineering)** đảm nhiệm việc thiết kế hạ tầng và thu thập dữ liệu đúng cách, đảm bảo sẵn sàng cho phân tích.  \n",
    "- Bước 1: Xác định bài toán – hỗ trợ xác định yêu cầu dữ liệu và nguồn dữ liệu khả dụng  \n",
    "- Bước 2: Thu thập dữ liệu – xây dựng pipeline, tích hợp và lưu trữ dữ liệu hiệu quả\n",
    "\n",
    "**2. Phân tích dữ liệu (Data Analytics)** giúp hiểu rõ dữ liệu và chuẩn bị đầu vào chất lượng cho mô hình hóa.  \n",
    "- Bước 3: Khám phá dữ liệu – tìm hiểu phân phối, xu hướng, bất thường  \n",
    "- Bước 4: Xử lý dữ liệu – làm sạch, biến đổi, tạo đặc trưng\n",
    "\n",
    "**3. Học máy (Machine Learning)** tạo ra mô hình dự đoán và tối ưu ra quyết định tự động.  \n",
    "- Bước 5: Xây dựng mô hình – lựa chọn, huấn luyện và tối ưu thuật toán  \n",
    "- Bước 6: Đánh giá mô hình – kiểm định hiệu suất và tính khả giải  \n",
    "- Bước 7: Triển khai & giám sát – đưa mô hình vào hệ thống và theo dõi hiệu quả thực tế"
   ]
  },
  {
   "cell_type": "markdown",
   "metadata": {
    "slideshow": {
     "slide_type": "subslide"
    }
   },
   "source": [
    "### Các khái niệm cơ bản liên quan đến dữ liệu.\n",
    "\n",
    "Dữ liệu là tập hợp các sự kiện, quan sát, con số, ký hiệu, hình ảnh... tồn tại ở dạng thô, chưa được xử lý hoặc phân tích. Đây là nguyên liệu đầu vào cho quá trình ra quyết định dựa trên dữ liệu.\n",
    "\n",
    "**Phân loại dữ liệu theo cấu trúc**\n",
    "\n",
    "- Dữ liệu có cấu trúc (Structured): được tổ chức theo hàng – cột trong bảng, dễ lưu trữ và truy vấn bằng SQL, Excel...\n",
    "- Dữ liệu bán cấu trúc (Semi-structured): có cấu trúc linh hoạt, không theo lược đồ cứng nhắc. Ví dụ: email, XML, JSON.\n",
    "- Dữ liệu phi cấu trúc (Unstructured): không có cấu trúc rõ ràng, khó phân tích trực tiếp. Ví dụ: văn bản tự do, hình ảnh, video, bài đăng mạng xã hội.\n",
    "\n",
    "**Các định dạng tệp dữ liệu phổ biến**\n",
    "\n",
    "- CSV, TSV: Văn bản phân tách bằng dấu phẩy hoặc tab; dễ xử lý bằng Excel, Python, R.  \n",
    "- Excel (.xlsx): Dữ liệu dạng bảng có thể định dạng và tính toán; phổ biến trong phân tích văn phòng.  \n",
    "- XML: Dữ liệu phân cấp với thẻ do người dùng định nghĩa; phù hợp truyền tải dữ liệu trên web.  \n",
    "- PDF: Định dạng trình bày cố định; dùng trong báo cáo, biểu mẫu, tài liệu pháp lý.  \n",
    "- JSON: Dạng khóa–giá trị, nhẹ và dễ phân tích; phổ biến trong lập trình và trao đổi dữ liệu.\n",
    "\n",
    "**Các nguồn dữ liệu phổ biến**\n",
    "\n",
    "- Cơ sở dữ liệu quan hệ (SQL, Oracle, MySQL): Lưu trữ dữ liệu có cấu trúc trong hệ thống giao dịch, khách hàng, dự báo.  \n",
    "- Tệp văn bản, bảng tính, XML: Dữ liệu dạng văn bản, Excel, XML phân cấp; thường dùng trong khảo sát, sao kê, hành chính.  \n",
    "- API & Web Services: Truy xuất dữ liệu từ hệ thống bên ngoài như tài chính, thời tiết, chứng khoán.  \n",
    "- Web Scraping: Trích xuất dữ liệu từ web không có API; dùng để thu thập nội dung, giá cả, huấn luyện mô hình.  \n",
    "- Dữ liệu truyền trực tiếp (Streaming): Dữ liệu thời gian thực từ IoT, GPS, mạng xã hội; xử lý bằng Kafka, Spark, Storm.\n",
    "\n",
    "**Ngôn ngữ phổ biến trong Khoa học Dữ liệu**\n",
    "\n",
    "- Ngôn ngữ truy vấn:\n",
    "  - *SQL*: ngôn ngữ tiêu chuẩn để thao tác dữ liệu trong cơ sở dữ liệu quan hệ.\n",
    "\n",
    "- Ngôn ngữ lập trình:\n",
    "  - *Python*: mã nguồn mở, dễ học, có hệ sinh thái mạnh (NumPy, Pandas, Scikit-learn...).\n",
    "  - *R*: mạnh về thống kê và trực quan hóa (ggplot2, dplyr, Shiny...).\n",
    "\n",
    "- Ngôn ngữ shell/script:\n",
    "  - *Unix/Linux Shell*: tự động hóa xử lý dữ liệu và hệ thống.\n",
    "  - *PowerShell*: làm việc với dữ liệu có cấu trúc, hỗ trợ API, tạo báo cáo và GUI.\n",
    "\n",
    "Thành thạo ngôn ngữ trong ba nhóm trên là điều kiện thiết yếu cho chuyên gia dữ liệu hiện đại."
   ]
  },
  {
   "cell_type": "markdown",
   "metadata": {},
   "source": [
    "### Các vị trí công việc trong lĩnh vực Khoa học Dữ liệu."
   ]
  },
  {
   "cell_type": "markdown",
   "metadata": {
    "slideshow": {
     "slide_type": "subslide"
    }
   },
   "source": [
    "**Kỹ sư dữ liệu (Data Engineer)**\n",
    "\n",
    "- Thiết kế, xây dựng và vận hành hạ tầng lưu trữ và xử lý dữ liệu lớn, đảm bảo khả năng mở rộng, an toàn và hiệu quả cho toàn bộ hệ thống dữ liệu doanh nghiệp.\n",
    "\n",
    "- Thành thạo các công nghệ nền tảng như SQL, Apache Spark, Apache Kafka, cùng các dịch vụ điện toán đám mây (AWS, GCP, Azure...).\n",
    "\n",
    "- Các vai trò chuyên sâu trong lĩnh vực kỹ thuật dữ liệu bao gồm:\n",
    "  - *Data Platform Engineer*: Xây dựng và duy trì nền tảng dữ liệu lớn, hỗ trợ cho toàn bộ chu trình phân tích và mô hình hóa.\n",
    "  - *Streaming Data Engineer*: Thiết kế hệ thống xử lý dữ liệu thời gian thực từ cảm biến, IoT, log hệ thống...\n",
    "  - *ETL/ELT Developer*: Phát triển quy trình trích xuất, biến đổi và nạp dữ liệu.\n",
    "  - *DataOps Engineer*: Tự động hóa và tối ưu quy trình triển khai dữ liệu trong môi trường sản xuất.\n",
    "  - *Data Reliability Engineer*: Đảm bảo độ tin cậy, giám sát và duy trì tính ổn định của hệ thống dữ liệu.\n",
    "\n",
    "**Nhà phân tích dữ liệu (Data Analyst)**\n",
    "\n",
    "- Thực hiện phân tích thống kê, trực quan hóa dữ liệu và xây dựng báo cáo nhằm hỗ trợ ra quyết định trong kinh doanh, sản phẩm, tiếp thị hoặc tài chính.\n",
    "\n",
    "- Thành thạo các công cụ phân tích như SQL, Excel, Tableau/Power BI và kỹ năng storytelling để truyền đạt kết quả một cách thuyết phục.\n",
    "\n",
    "- Các nhánh chuyên sâu trong phân tích dữ liệu bao gồm:\n",
    "  - *Business Analyst*: Phân tích các chỉ số tài chính – kinh doanh như CLV (Customer Lifetime Value), ROI (Return on Investment), tăng trưởng doanh thu.\n",
    "  - *Product Analyst*: Phân tích hành vi người dùng như DAU (Daily Active Users), churn rate, retention...\n",
    "  - *Marketing Analyst*: Theo dõi và tối ưu hiệu quả chiến dịch quảng cáo qua các chỉ số CPA (Cost per Acquisition), ROAS (Return on Ad Spend).\n",
    "  - *Financial Analyst*: Phân tích báo cáo tài chính, dự báo dòng tiền, đánh giá hiệu quả đầu tư.\n",
    "  - *Operations Analyst*: Tối ưu hóa quy trình vận hành, quản lý chi phí và hiệu quả chuỗi cung ứng.\n",
    "\n",
    "**Nhà khoa học dữ liệu (Data Scientist)**\n",
    "\n",
    "- Kết hợp kỹ năng lập trình, phân tích thống kê, học máy và hiểu biết nghiệp vụ để xây dựng mô hình dự đoán, phân loại và hỗ trợ ra quyết định dựa trên dữ liệu.\n",
    "\n",
    "- Thành thạo các công cụ và ngôn ngữ như Python hoặc R, thư viện Scikit-learn, SQL, Spark, cùng khả năng xử lý và phân tích dữ liệu lớn.\n",
    "\n",
    "**Kỹ sư học máy (ML Engineer)**\n",
    "\n",
    "- Chịu trách nhiệm triển khai, tối ưu và duy trì các mô hình học máy trong môi trường sản xuất, đảm bảo hiệu suất, độ ổn định và khả năng mở rộng của hệ thống.\n",
    "\n",
    "- Thành thạo MLOps, phát triển phần mềm và các công nghệ hệ thống phân tán như Docker, Kubernetes, TensorFlow Serving.\n",
    "\n",
    "- Một số vai trò chuyên biệt trong lĩnh vực kỹ thuật học máy bao gồm:\n",
    "  - *MLOps Engineer*: Tự động hóa quy trình huấn luyện, triển khai và giám sát mô hình.\n",
    "  - *Model Optimization Engineer*: Tối ưu hóa tốc độ, kích thước và hiệu suất mô hình.\n",
    "  - *AI Research Engineer*: Nghiên cứu và phát triển các thuật toán học máy tiên tiến.\n",
    "  - *CV/NLP Engineer*: Phát triển mô hình chuyên sâu cho xử lý ảnh (Computer Vision) hoặc ngôn ngữ tự nhiên (Natural Language Processing)."
   ]
  },
  {
   "cell_type": "markdown",
   "metadata": {},
   "source": [
    "## Tổng quan về lĩnh vực Kỹ thuật dữ liệu."
   ]
  },
  {
   "cell_type": "markdown",
   "metadata": {},
   "source": [
    "### Giới thiệu về lĩnh vực Kỹ thuật dữ liệu. \n",
    "\n",
    "Kỹ thuật dữ liệu là lĩnh vực được phát triển độc lập, nhưng liên hệ mật thiết với lĩnh vực Khoa học dữ liệu.\n",
    "\n",
    "Kỹ thuật dữ liệu chuyên **thiết kế, triển khai và duy trì hạ tầng dữ liệu** phục vụ cho toàn bộ chu trình phân tích và khoa học dữ liệu.  \n",
    "\n",
    "Khác với Khoa học dữ liệu – vốn tập trung vào phân tích và xây dựng mô hình – Kỹ thuật dữ liệu đảm nhận các bước:  \n",
    "- Thu thập dữ liệu\n",
    "- Làm sạch, chuẩn hóa\n",
    "- Lưu trữ và tổ chức dữ liệu\n",
    "- Phân phối dữ liệu cho hệ thống phân tích\n",
    "\n",
    "Trên thực tế, tới **70–80% thời gian** của các dự án khoa học dữ liệu được dành cho các hoạt động liên quan đến kỹ thuật dữ liệu.\n",
    "\n",
    "Kỹ thuật dữ liệu đóng vai trò **cầu nối giữa dữ liệu thô và dữ liệu có giá trị**, đảm bảo rằng thông tin đầu vào cho các hệ thống phân tích và học máy là **chính xác, đầy đủ, và luôn sẵn sàng**."
   ]
  },
  {
   "cell_type": "markdown",
   "metadata": {},
   "source": [
    "### Quy trình Kỹ thuật dữ liệu đầy đủ.\n",
    "\n",
    "![](https://raw.githubusercontent.com/NCT-NEU/Sach_Khoa_hoc_du_lieu_python/main/Khoa%20h%E1%BB%8Dc%20d%E1%BB%AF%20li%E1%BB%87u%20c%C6%A1%20b%E1%BA%A3n%20trong%20kinh%20t%E1%BA%BF%20v%C3%A0%20kinh%20doanh/Tu%E1%BA%A7n%2001.%20B%C3%A0i%20gi%E1%BA%A3ng%201/Hinh_anh/data_engineering_life_cycle.png)\n",
    "\n",
    "Quy trình Kỹ thuật dữ liệu có thể được chia thành năm giai đoạn chính:\n",
    "\n",
    "- Xác định nguồn sinh dữ liệu (Source Systems): Xác định hệ thống nguồn nơi dữ liệu được tạo ra như phần mềm nghiệp vụ, thiết bị cảm biến, giao dịch thương mại, hệ thống quản lý khách hàng, v.v.\n",
    "- Tổ chức lưu trữ dữ liệu (Storage): Dữ liệu được lưu trữ có tổ chức trong các hệ thống phù hợp với đặc tính và mục đích sử dụng của dữ liệu, như cơ sở dữ liệu quan hệ, kho dữ liệu, hồ dữ liệu, hoặc các hệ thống lưu trữ phân tán.\n",
    "- Thu nạp dữ liệu (Data Ingestion): Dữ liệu được trích xuất từ các hệ thống nguồn và chuyển vào môi trường lưu trữ trung tâm, thông qua các cơ chế như batch, streaming, push hoặc pull.\n",
    "- Biến đổi dữ liệu (Data Transformation): Dữ liệu được xử lý, chuẩn hóa và tái cấu trúc để đảm bảo tính sẵn sàng sử dụng trong các tác vụ phân tích, mô hình hóa và ra quyết định.\n",
    "- Phục vụ dữ liệu (Data Serving): Dữ liệu đã qua xử lý được cung cấp cho người dùng cuối và các hệ thống ứng dụng để hỗ trợ phân tích nghiệp vụ, vận hành, học máy, hoặc phản hồi thời gian thực."
   ]
  },
  {
   "cell_type": "markdown",
   "metadata": {},
   "source": [
    "### Bước 1: Xác định Nguồn Sinh Dữ liệu.\n",
    "\n",
    "**Hệ thống nguồn** là điểm khởi đầu trong kỹ thuật dữ liệu – nơi dữ liệu thô được tạo ra từ các hoạt động thực tiễn của tổ chức.\n",
    "\n",
    "- Cung cấp *“nguyên liệu đầu vào”* cho toàn bộ quy trình lưu trữ, xử lý và phân tích dữ liệu.\n",
    "- Ảnh hưởng trực tiếp đến chất lượng, độ phức tạp và độ tin cậy của toàn bộ pipeline dữ liệu.\n",
    "\n",
    "**Ví dụ trong kinh tế & kinh doanh**\n",
    "\n",
    "- Cơ sở dữ liệu giao dịch: bao gồm dữ liệu từ ngân hàng, hệ thống thương mại điện tử, hoặc các nền tảng thanh toán trực tuyến.\n",
    "- Hệ thống CRM: lưu trữ thông tin hành vi, tương tác và lịch sử giao dịch của khách hàng trên các kênh khác nhau.\n",
    "- Cổng khảo sát và API dữ liệu vĩ mô: thu thập dữ liệu từ các nền tảng như IMF, World Bank, Tổng cục Thống kê phục vụ phân tích bối cảnh kinh tế.\n",
    "- Tệp dữ liệu nội bộ: bao gồm Excel, CSV, các bảng tổng hợp từ nhập liệu thủ công hoặc phần mềm nội bộ.\n",
    "\n",
    "**Đặc tính cần phân tích**\n",
    "\n",
    "- Cách sinh dữ liệu: dữ liệu được tạo ra theo sự kiện (event-based), theo chu kỳ định kỳ (daily, monthly), hoặc theo lô (batch).\n",
    "- Tần suất dữ liệu: xác định dữ liệu được cập nhật theo thời gian thực (real-time), hàng ngày hay theo chu kỳ định trước.\n",
    "- Tính ổn định schema: xem xét cấu trúc dữ liệu có thay đổi thường xuyên không, ảnh hưởng đến khả năng phân tích tự động.\n",
    "- Khả năng truy cập: dữ liệu có thể truy xuất qua ngôn ngữ truy vấn (SQL), qua API, hay thông qua các tệp được xuất (export).\n",
    "- Định dạng dữ liệu: phân loại thành có cấu trúc (SQL, bảng), bán cấu trúc (JSON, XML) và phi cấu trúc (PDF, hình ảnh, văn bản tự do).\n",
    "- Chất lượng dữ liệu: đánh giá mức độ đầy đủ, chính xác và kịp thời của dữ liệu để đảm bảo tin cậy cho phân tích."
   ]
  },
  {
   "cell_type": "markdown",
   "metadata": {},
   "source": [
    "### Bước 2: Tổ chức lưu trữ dữ liệu.\n",
    "\n",
    "Lưu trữ là giai đoạn cốt lõi giúp bảo toàn và tổ chức dữ liệu từ các hệ thống nguồn, tạo nền tảng cho xử lý và phân tích về sau.\n",
    "\n",
    "**Các hình thức lưu trữ phổ biến**\n",
    "\n",
    "- CSDL quan hệ (SQL): Lưu dữ liệu có cấu trúc dạng bảng. Phù hợp với nghiệp vụ truyền thống (ERP, bán hàng, kế toán).\n",
    "- CSDL phi quan hệ (NoSQL): Linh hoạt cho dữ liệu bán/phi cấu trúc. Ví dụ: MongoDB, Redis, Cassandra, Neo4j.\n",
    "- Data Warehouse: Tích hợp, chuẩn hóa dữ liệu phục vụ phân tích nhanh. Nền tảng: BigQuery, Redshift, Snowflake, Azure Synapse.\n",
    "- Data Mart: Kho dữ liệu chuyên biệt theo phòng ban (marketing, tài chính...). Tối ưu truy vấn, hỗ trợ công cụ BI như Tableau, Power BI.\n",
    "- Data Lake: Lưu trữ dữ liệu thô đa định dạng (text, hình, video...). Phù hợp với AI, ML, khai phá dữ liệu. Dùng Amazon S3, Azure DL, GCP, HDFS.\n",
    "\n",
    "**Yếu tố cần cân nhắc khi thiết kế lưu trữ**\n",
    "\n",
    "- Tần suất truy cập: phân loại dữ liệu theo mức độ sử dụng như dữ liệu nóng (thường xuyên truy cập) và dữ liệu nguội (ít truy cập) để tối ưu hiệu suất và chi phí.\n",
    "- Khả năng mở rộng: hệ thống cần có khả năng mở rộng linh hoạt để đáp ứng sự gia tăng nhanh chóng của khối lượng dữ liệu theo thời gian.\n",
    "- Bảo mật và tuân thủ pháp lý: đảm bảo dữ liệu được lưu trữ an toàn, tuân thủ các quy định về quyền riêng tư, phân quyền truy cập và bảo vệ dữ liệu nhạy cảm.\n",
    "- Cấu trúc dữ liệu: xem xét liệu dữ liệu có cấu trúc cố định (relational) hay thay đổi linh hoạt (NoSQL, JSON) để lựa chọn giải pháp lưu trữ phù hợp.\n",
    "- Khả năng tích hợp: hệ thống cần dễ dàng kết nối với các công cụ phân tích, mô hình học máy, trực quan hóa và các nền tảng dữ liệu khác."
   ]
  },
  {
   "cell_type": "markdown",
   "metadata": {},
   "source": [
    "### Bước 3: Thu nạp Dữ liệu.\n",
    "\n",
    "Thu nạp dữ liệu là giai đoạn chuyển dữ liệu từ hệ thống nguồn sang hệ thống lưu trữ.\n",
    "\n",
    "**Thách thức & yêu cầu**\n",
    "\n",
    "- Dữ liệu dễ phát sinh lỗi do hệ thống nguồn không ổn định hoặc thiếu kiểm soát chất lượng.\n",
    "- Cần đảm bảo độ tin cậy, định dạng nhất quán và cập nhật đúng thời điểm.\n",
    "- Tối ưu hóa quy trình để tránh trùng lặp, hỗ trợ tái sử dụng và kiểm soát dung lượng cũng như tần suất truyền tải.\n",
    "\n",
    "**Phân loại theo phương thức xử lý**\n",
    "\n",
    "- *Batch*: Xử lý dữ liệu theo lô theo lịch trình (hàng giờ, hàng ngày); phù hợp với báo cáo định kỳ hoặc xử lý khối lượng lớn không yêu cầu thời gian thực.\n",
    "- *Streaming*: Xử lý dữ liệu liên tục theo thời gian thực; thích hợp với các ứng dụng như phát hiện gian lận, giám sát hệ thống, phân tích hành vi người dùng.\n",
    "\n",
    "**Phân loại theo cơ chế truyền tải**\n",
    "\n",
    "- *Push*: Hệ thống nguồn chủ động gửi dữ liệu đến nơi lưu trữ hoặc xử lý (ví dụ: CRM tự động đẩy đơn hàng mới).\n",
    "- *Pull*: Hệ thống đích chủ động truy vấn hoặc lấy dữ liệu từ nguồn theo lịch định kỳ (ví dụ: ETL thu thập dữ liệu từ API mỗi ngày).\n",
    "\n",
    "**Phân loại theo quy trình xử lý: mô hình ETL vs. ELT**\n",
    "\n",
    "- *ETL (Extract → Transform → Load)*: Dữ liệu được biến đổi trước khi lưu trữ; phù hợp khi cần kiểm soát chặt chẽ chất lượng và cấu trúc dữ liệu đầu vào.\n",
    "- *ELT (Extract → Load → Transform)*: Dữ liệu được lưu trữ trước rồi mới biến đổi; thích hợp cho hệ thống lưu trữ lớn (Data Lake, Cloud DW) và nhu cầu linh hoạt trong phân tích sau này."
   ]
  },
  {
   "cell_type": "markdown",
   "metadata": {},
   "source": [
    "### Bước 4: Biến đổi Dữ liệu.\n",
    "\n",
    "Biến đổi dữ liệu là bước **chuyển đổi dữ liệu thô thành định dạng có thể phân tích**, giúp dữ liệu phát huy giá trị trong báo cáo, phân tích và học máy.\n",
    "\n",
    "**Mục tiêu**\n",
    "\n",
    "- Làm sạch và chuẩn hóa dữ liệu đầu vào để đảm bảo độ tin cậy và nhất quán trong phân tích.  \n",
    "- Chuyển đổi cấu trúc, định dạng và kiểu dữ liệu cho phù hợp với yêu cầu xử lý và phân tích.  \n",
    "- Trích xuất các đặc trưng (features) có giá trị phục vụ huấn luyện mô hình học máy.  \n",
    "- Đảm bảo dữ liệu phản ánh đúng logic nghiệp vụ và phù hợp với mục tiêu phân tích cụ thể.\n",
    "\n",
    "**Các thao tác phổ biến**\n",
    "\n",
    "- Chuyển đổi kiểu dữ liệu (ví dụ: từ chuỗi sang số nguyên, từ text sang ngày tháng...).  \n",
    "- Loại bỏ hoặc xử lý dữ liệu sai lệch, thiếu giá trị, trùng lặp không cần thiết.  \n",
    "- Gộp nhóm, tính tổng, tính trung bình, và xoay bảng (pivot/unpivot) để phù hợp với mục tiêu phân tích.  \n",
    "- Chuẩn hóa định dạng: đơn vị đo lường, mã quốc gia, ký hiệu tiền tệ, định dạng ngày giờ...\n",
    "\n",
    "**Phương pháp biến đổi**\n",
    "\n",
    "- *Batch transformation*: Xử lý theo lô vào các thời điểm định kỳ (ngày, tuần) – phù hợp cho báo cáo tổng hợp hoặc xử lý dữ liệu lớn.  \n",
    "- *Streaming transformation*: Xử lý liên tục trong thời gian thực – thường được dùng trong hệ thống event-driven như theo dõi hành vi người dùng, phát hiện gian lận\n",
    "  \n",
    "**Trích xuất đặc trưng (Feature Engineering)**\n",
    "\n",
    "- Là bước quan trọng để chuyển đổi dữ liệu gốc thành các biến đầu vào có ý nghĩa cho mô hình học máy.  \n",
    "- Kết hợp giữa kiến thức nghiệp vụ và kỹ thuật xử lý dữ liệu để tạo ra các đặc trưng hữu ích, nâng cao hiệu quả mô hình."
   ]
  },
  {
   "cell_type": "markdown",
   "metadata": {},
   "source": [
    "### Bước 5: Phục vụ Dữ liệu."
   ]
  },
  {
   "cell_type": "markdown",
   "metadata": {},
   "source": [
    "Là bước cuối trong chu trình kỹ thuật dữ liệu, nơi dữ liệu đã được xử lý và chuẩn hóa được cung cấp cho hệ thống hoặc người dùng cuối nhằm tạo ra giá trị thực tiễn.\n",
    "\n",
    "**Mục tiêu**\n",
    "\n",
    "- Hỗ trợ phân tích, báo cáo, ra quyết định  \n",
    "- Cung cấp dữ liệu cho mô hình học máy  \n",
    "- Đưa dữ liệu ngược vào hệ thống tác nghiệp (reverse ETL)\n",
    "\n",
    "**Các hình thức phục vụ dữ liệu**\n",
    "\n",
    "- Business analytics: báo cáo tổng hợp, phân tích lịch sử, hỗ trợ ra quyết định chiến lược.  \n",
    "- Operational analytics: giám sát vận hành, tồn kho, rủi ro, hành vi người dùng gần thời gian thực.  \n",
    "- Machine learning serving: cung cấp dữ liệu đầu vào cho mô hình dự đoán, phân loại, tối ưu hóa.  \n",
    "- Reverse ETL: đồng bộ kết quả phân tích trở lại CRM, nền tảng quảng cáo, hệ thống tác nghiệp.\n",
    "\n",
    "**Yêu cầu khi thiết kế hệ thống phục vụ dữ liệu**\n",
    "\n",
    "- Đúng người dùng – đúng thời điểm – đúng mục tiêu  \n",
    "- Phối hợp chặt chẽ giữa kỹ sư dữ liệu, nhà phân tích, ML engineer & bộ phận nghiệp vụ  \n",
    "- Tối ưu khả năng truy cập, độ trễ thấp, bảo mật cao  \n",
    "\n",
    "Đây là giai đoạn **chuyển hóa dữ liệu thành giá trị thực tế**, là nơi dữ liệu phục vụ hành động, quyết định và đổi mới quy trình kinh doanh."
   ]
  },
  {
   "cell_type": "markdown",
   "metadata": {},
   "source": [
    "## Quy trình và công cụ trong Phân tích dữ liệu."
   ]
  },
  {
   "cell_type": "markdown",
   "metadata": {},
   "source": [
    "### Giới thiệu về Phân tích dữ liệu (Data Analytics)."
   ]
  },
  {
   "cell_type": "markdown",
   "metadata": {
    "slideshow": {
     "slide_type": "subslide"
    }
   },
   "source": [
    "\n",
    "**Phân tích dữ liệu** – cách tiếp cận linh hoạt của Khoa học dữ liệu\n",
    "- Khối lượng & tốc độ dữ liệu tăng nhanh → phương pháp truyền thống không còn đủ đáp ứng.\n",
    "- Khoa học dữ liệu ra đời nhằm khai thác tri thức từ dữ liệu, nhờ sự phát triển của công nghệ và thuật toán.\n",
    "- Trong thực tiễn kinh tế – kinh doanh, không phải lúc nào cũng triển khai đầy đủ chu trình Khoa học dữ liệu.\n",
    "- Phân tích dữ liệu được sử dụng như một công cụ linh hoạt để trả lời nhanh các câu hỏi cụ thể trong điều kiện thiếu thời gian & tài nguyên.\n",
    "- Phù hợp với các tình huống ra quyết định ngắn hạn, nhanh chóng, dưới áp lực thời gian.\n",
    "\n",
    "**So sánh giữa Khoa học dữ liệu và Phân tích dữ liệu**\n",
    "\n",
    "\n",
    "| **Tiêu chí**                        | **Phân tích dữ liệu (Data Analytics)**                  | **Khoa học dữ liệu (Data Science)**                         |\n",
    "|:-----------------------------------|:---------------------------------------------------------|:------------------------------------------------------------|\n",
    "| **Mục tiêu**                       | Trả lời câu hỏi \"Điều gì đã xảy ra?\" và \"Tại sao?\"      | Trả lời câu hỏi \"Điều gì sẽ xảy ra?\" và \"Nên làm gì?\"      |\n",
    "| **Phạm vi**                        | Tập trung vào phân tích mô tả, chẩn đoán                 | Bao phủ toàn bộ quy trình từ dữ liệu thô đến mô hình hóa và triển khai |\n",
    "| **Công cụ & kỹ thuật**             | Excel, SQL, Tableau, thống kê mô tả                      | Python/R, ML, AI, xử lý dữ liệu lớn, tự động hóa            |\n",
    "| **Đầu ra**                         | Báo cáo, dashboard, thống kê                             | Mô hình dự đoán, hệ thống thông minh, giải pháp ra quyết định |\n",
    "| **Tính phức tạp**                  | Thấp đến trung bình                                      | Trung bình đến cao, yêu cầu tư duy mô hình và lập trình     |\n",
    "| **Yêu cầu nguồn lực**              | Linh hoạt, dễ triển khai                                 | Cần đội ngũ đa kỹ năng, hạ tầng và thời gian lớn hơn        |\n",
    "| **Ứng dụng điển hình**             | Báo cáo tài chính, theo dõi hiệu suất, phân tích thị trường | Dự đoán hành vi khách hàng, phát hiện gian lận, tối ưu chuỗi cung ứng |"
   ]
  },
  {
   "cell_type": "markdown",
   "metadata": {},
   "source": [
    "### Quy trình cơ bản của Phân tích dữ liệu."
   ]
  },
  {
   "cell_type": "markdown",
   "metadata": {},
   "source": [
    "Phân tích dữ liệu là phiên bản đơn giản hơn của quy trình Khoa học dữ liệu, phù hợp với điều kiện **hạn chế về thời gian & nguồn lực**, đặc biệt trong kinh tế – kinh doanh.\n",
    "\n",
    "**Mục tiêu**\n",
    "\n",
    "- Khai thác dữ liệu hiện có\n",
    "- Hỗ trợ ra quyết định nhanh & hiệu quả\n",
    "- Không cần triển khai toàn bộ hệ thống hạ tầng và học máy\n",
    "\n",
    "![](https://raw.githubusercontent.com/NCT-NEU/Sach_Khoa_hoc_du_lieu_python/main/Khoa%20h%E1%BB%8Dc%20d%E1%BB%AF%20li%E1%BB%87u%20c%C6%A1%20b%E1%BA%A3n%20trong%20kinh%20t%E1%BA%BF%20v%C3%A0%20kinh%20doanh/Tu%E1%BA%A7n%2001.%20B%C3%A0i%20gi%E1%BA%A3ng%201/Hinh_anh/Data_Analytic.png)\n",
    "\n",
    "**4 bước cơ bản trong quy trình**\n",
    "\n",
    "1. Xác định dữ liệu cần phân tích: lựa chọn dữ liệu phù hợp mục tiêu, đánh giá tính sẵn có, độ tin cậy và nguồn gốc.  \n",
    "2. Chuẩn bị & xử lý dữ liệu: làm sạch, xử lý giá trị thiếu, chuẩn hóa và mã hóa để sẵn sàng phân tích.  \n",
    "3. Thực hiện phân tích dữ liệu: áp dụng thống kê mô tả, trực quan hóa và mô hình hóa đơn giản nếu cần.  \n",
    "4. Truyền đạt kết quả: trình bày kết quả qua bảng biểu, biểu đồ, dashboard và rút ra hàm ý thực tiễn.\n",
    "\n",
    "**Khi nào nên áp dụng?**\n",
    "\n",
    "- Khi cần đưa ra quyết định kinh doanh nhanh chóng, linh hoạt dựa trên dữ liệu sẵn có.  \n",
    "- Khi không đủ nguồn lực, thời gian hoặc hạ tầng để triển khai toàn bộ quy trình Khoa học Dữ liệu."
   ]
  },
  {
   "cell_type": "markdown",
   "metadata": {},
   "source": [
    "### Bước 1: Xác định dữ liệu cần phân tích."
   ]
  },
  {
   "cell_type": "markdown",
   "metadata": {},
   "source": [
    "**Các bước xác định dữ liệu**\n",
    "\n",
    "- Xác định loại thông tin cần thu thập dựa trên mục tiêu phân tích, bao gồm dữ liệu định tính, định lượng, hành vi hoặc nhân khẩu học.\n",
    "- Lập kế hoạch thu thập: xác định thời điểm, khối lượng dữ liệu cần thiết và cách xử lý thiếu sót, rủi ro kỹ thuật.\n",
    "- Lựa chọn phương pháp thu thập phù hợp với nguồn dữ liệu (CRM, khảo sát, web, mạng xã hội...), cân nhắc giữa tự động hóa (API, tracking) và thủ công.\n",
    "\n",
    "**Những lưu ý khi thu thập dữ liệu**\n",
    "\n",
    "- Đảm bảo chất lượng dữ liệu với các tiêu chí: chính xác, đầy đủ, nhất quán, phù hợp và dễ truy cập; thiết lập checkpoints để kiểm tra định kỳ.\n",
    "- Thực hiện quản trị dữ liệu (Data Governance) nhằm tuân thủ pháp luật, bảo vệ quyền riêng tư, và phòng tránh rủi ro pháp lý, đạo đức và mất niềm tin từ người dùng.\n",
    "\n",
    "**Các nguồn dữ liệu phổ biến**\n",
    "\n",
    "- Dữ liệu sơ cấp: nội bộ doanh nghiệp, khảo sát, phỏng vấn  \n",
    "- Dữ liệu thứ cấp: thống kê chính thức, báo cáo ngành, tài liệu học thuật  \n",
    "- Dữ liệu bên thứ ba: mua từ nhà cung cấp, sàn thương mại dữ liệu\n",
    "\n",
    "**Công cụ hỗ trợ xác định và thu thập dữ liệu**\n",
    "\n",
    "- Bảng khảo sát & biểu mẫu điện tử: Google Forms, Microsoft Forms, SurveyMonkey – thu thập ý kiến khách hàng, khảo sát thị trường, đánh giá dịch vụ.\n",
    "- Công cụ theo dõi hành vi người dùng: Google Analytics, Hotjar, Mixpanel – ghi nhận hành vi trên web/app như thời gian truy cập, click, scroll, chuyển đổi.\n",
    "- API & kết nối dữ liệu tự động: RESTful API, Webhook, Zapier – truy xuất dữ liệu từ CRM, mạng xã hội, sàn thương mại điện tử, dịch vụ công.\n",
    "- Web Scraping: Sử dụng Python (BeautifulSoup, Selenium, Scrapy) để trích xuất dữ liệu từ các website không cung cấp API.\n",
    "- Thiết bị IoT và cảm biến: GPS, camera, thiết bị đo – ghi nhận dữ liệu vật lý như vị trí, nhiệt độ, chuyển động, tiêu thụ năng lượng.\n",
    "- Hệ thống giao dịch & phần mềm nghiệp vụ: ERP, POS, CRM, phần mềm kế toán, quản lý kho – là nguồn dữ liệu vận hành chính trong doanh nghiệp."
   ]
  },
  {
   "cell_type": "markdown",
   "metadata": {},
   "source": [
    "### Bước 2: Xử lý dữ liệu và chuẩn bị cho phân tích.\n",
    "\n",
    "**Vai trò của xử lý dữ liệu**\n",
    "\n",
    "- Dữ liệu thô thường không sẵn sàng để phân tích: thiếu, sai định dạng, dư thừa, không nhất quán.\n",
    "- Xử lý dữ liệu giúp làm sạch, chuẩn hóa và biến đổi dữ liệu theo mục tiêu phân tích.\n",
    "\n",
    "**Khai phá dữ liệu (Data Exploration)**\n",
    "\n",
    "- Đánh giá chất lượng dữ liệu, phát hiện ngoại lệ, hiểu phân bố và mối quan hệ.\n",
    "- Công cụ: pandas, seaborn, matplotlib, pandas-profiling (Python); dplyr, skimr (R); Power BI, Tableau.\n",
    "\n",
    "**Biến đổi dữ liệu (Data Transformation)**\n",
    "\n",
    "- Cấu trúc lại dữ liệu: nối bảng, xoay chiều, chuẩn hóa định dạng.\n",
    "- Làm sạch: xử lý thiếu, trùng lặp, sai lệch logic, chuẩn hóa biến.\n",
    "- Làm giàu dữ liệu: tích hợp thêm thông tin từ nguồn bên trong và bên ngoài.\n",
    "\n",
    "**Kiểm định dữ liệu (Data Validation)**\n",
    "\n",
    "- Đảm bảo dữ liệu đạt yêu cầu: đầy đủ (completeness), chính xác (accuracy), nhất quán (consistency), duy nhất (uniqueness), kịp thời (timeliness).\n",
    "- Giúp phát hiện các lỗi logic, kỹ thuật và các vấn đề ảnh hưởng đến phân tích.\n",
    "\n",
    "**Công bố dữ liệu (Data Publishing)**\n",
    "\n",
    "- Phát hành dữ liệu kèm metadata và nhật ký xử lý để đảm bảo minh bạch, khả năng kiểm chứng và tái sử dụng.\n",
    "- Metadata mô tả từng biến; nhật ký ghi lại các thao tác đã thực hiện và giả định phân tích.\n",
    "\n",
    "**Công cụ xử lý dữ liệu**\n",
    "\n",
    "- Python và các thư viện chính:\n",
    "\n",
    "  - NumPy: Xử lý mảng số học hiệu suất cao,dùng trong tính toán chỉ số kinh tế, tối ưu hóa, mô phỏng tài chính.\n",
    "  - pandas: Xử lý dữ liệu bảng với Series và DataFrame,đọc/ghi dữ liệu từ CSV, Excel, SQL, JSON, hỗ trợ groupby, merge, pivot, xử lý thiếu, outliers, chuỗi thời gian.\n",
    "  - json và jsonlines: Xử lý dữ liệu bán cấu trúc từ web, API, phản hồi khách hàng, phù hợp với phân tích log, lịch sử hành vi, dữ liệu đánh giá sản phẩm.\n",
    "- Công cụ thay thế hoặc bổ sung cho Python: bảng tính (Excel, Google Sheets), R, Power BI, Tableau, SQL và các RDBMS,..."
   ]
  },
  {
   "cell_type": "markdown",
   "metadata": {},
   "source": [
    "### Bước 3: Các cấp độ trong thực hiện phân tích dữ liệu.\n",
    "\n",
    "**Phân tích mô tả (Descriptive Analytics)**\n",
    "\n",
    "* Câu hỏi: *“Điều gì đã xảy ra?”*\n",
    "* Mục tiêu: Tổng hợp, trình bày dữ liệu quá khứ\n",
    "* Ví dụ: báo cáo doanh số, tỉ lệ chuyển đổi, dashboard theo dõi hoạt động\n",
    "* Kỹ thuật: thống kê mô tả, trực quan hóa dữ liệu, phân cụm (unsupervised)\n",
    "* Ví dụ: Từ dữ liệu nhận thấy Doanh thu tăng khi tăng chi phí cho quảng cáo tờ rơi (tính trung bình, phương sai)\n",
    "\n",
    "**Phân tích chẩn đoán (Diagnostic Analytics)**\n",
    "\n",
    "* Câu hỏi: *“Tại sao điều đó xảy ra?”*\n",
    "* Mục tiêu: Tìm nguyên nhân, cơ chế sinh dữ liệu\n",
    "* Ví dụ: kiểm định giả thuyết, phân tích phương sai, hồi quy tuyến tính\n",
    "* Kỹ thuật: thống kê suy luận, phân tích tương quan, hồi quy đa biến\n",
    "* Tăng quảng cáo cho tờ rơi thì tăng doanh thu là khá hiển nhiên, nhưng cần kiểm định Anova, kiểm định correlation, đánh giá mối tiên hệ trong tổng thể với các biến giải thích khác\n",
    "\n",
    "**Phân tích dự báo (Predictive Analytics)**\n",
    "\n",
    "* Câu hỏi: *“Điều gì có thể xảy ra?”*\n",
    "* Mục tiêu: Dự đoán tương lai dựa trên dữ liệu lịch sử\n",
    "* Ví dụ: dự đoán doanh thu, nhu cầu tiêu dùng, rủi ro tín dụng\n",
    "* Kỹ thuật: hồi quy, cây quyết định, random forest, boosting, neural networks\n",
    "* Xây dựng mô hình dự báo: với mức ngân sách cho các loại hình quảng cáo cố định, doanh thu sẽ là bao nhiêu\n",
    "\n",
    "**Phân tích định hướng hành động (Prescriptive Analytics)**\n",
    "\n",
    "* Câu hỏi: *“Chúng ta nên làm gì?”*\n",
    "* Mục tiêu: Đề xuất hành động tối ưu\n",
    "* Ví dụ: phân bổ ngân sách quảng cáo, tối ưu chuỗi cung ứng\n",
    "* Kỹ thuật: tối ưu hóa tuyến tính/phi tuyến, lập mô hình kịch bản, mô phỏng rủi ro\n",
    "* Với mô hình dự báo, và các ràng buộc về ngân sách, nên phân bổ ngân sách như thế nào để tối đa hóa lợi nhuận"
   ]
  },
  {
   "cell_type": "markdown",
   "metadata": {},
   "source": [
    "### Bước 4: Truyền đạt kết quả phân tích."
   ]
  },
  {
   "cell_type": "markdown",
   "metadata": {},
   "source": [
    "**Truyền đạt kết quả** – ở cấp độ cao nhất là khả năng **kể chuyện bằng dữ liệu** (data storytelling) – chính là một trong những kỹ năng quan trọng và tạo khác biệt nhất đối với chuyên gia phân tích dữ liệu\n",
    "-   Xác định đối tượng và mục tiêu: Ai là người nghe? Điều gì quan trọng với họ?\n",
    "-   Cấu trúc bài trình bày: Logic, minh bạch về nguồn và phương pháp để xây dựng độ tin cậy.\n",
    "-   Trực quan hóa dữ liệu (Data Visualization): Sử dụng biểu đồ, hình ảnh, màu sắc, ..., để làm thông tin trở nên sống động và dễ hiểu.\n",
    "-   Nguyên tắc: *A picture is worth a thousand words.* - *Một biểu đồ tốt có thể thay thế hàng ngàn lời nói*.\n",
    "\n",
    "Một ví dụ trực quan sinh động: **Quá trình cải thiện y tế toàn cầu từ năm 1960 đến nay**\n",
    "\n",
    "- Xem dữ liệu [Gapminder](https://github.com/NCT-NEU/Sach_Khoa_hoc_du_lieu_python/blob/main/datasets/Gapminder.csv)\n",
    "\n",
    "- Dữ liệu có 12,000 dòng $\\times$ 10 cột\n",
    "\n",
    "- Biểu đồ phân tán động: **Sự thay đổi của tuổi thọ trung bình và tỷ lệ tử vong của trẻ sơ sinh của các quốc gia từ 1960**\n",
    "\n",
    "![](https://raw.githubusercontent.com/NCT-NEU/Sach_Khoa_hoc_du_lieu_python/main/Khoa%20h%E1%BB%8Dc%20d%E1%BB%AF%20li%E1%BB%87u%20c%C6%A1%20b%E1%BA%A3n%20trong%20kinh%20t%E1%BA%BF%20v%C3%A0%20kinh%20doanh/Tu%E1%BA%A7n%2001.%20B%C3%A0i%20gi%E1%BA%A3ng%201/Hinh_anh/gapminder.gif)"
   ]
  },
  {
   "cell_type": "markdown",
   "metadata": {},
   "source": [
    "Ví dụ về trực quan hóa dữ liệu: **Đại dịch covid-19 đã diễn biến như thế nào?**\n",
    "\n",
    "- Xem dữ liệu [Covid19](https://github.com/NCT-NEU/Sach_Khoa_hoc_du_lieu_python/blob/main/datasets/Covid19-sample.csv)\n",
    "- Dữ liệu có kích thước 420,000 dòng $\\times$ 67 cột\n",
    "- Biểu đồ: **Diễn biến của đại dịch covid-19 từ 2019 đến 2023** \n",
    "\n",
    "![](https://raw.githubusercontent.com/NCT-NEU/Sach_Khoa_hoc_du_lieu_python/main/Khoa%20h%E1%BB%8Dc%20d%E1%BB%AF%20li%E1%BB%87u%20c%C6%A1%20b%E1%BA%A3n%20trong%20kinh%20t%E1%BA%BF%20v%C3%A0%20kinh%20doanh/Tu%E1%BA%A7n%2001.%20B%C3%A0i%20gi%E1%BA%A3ng%201/Hinh_anh/Covid19.gif)"
   ]
  },
  {
   "cell_type": "markdown",
   "metadata": {
    "slideshow": {
     "slide_type": "slide"
    }
   },
   "source": [
    "## Ứng dụng của học máy trong lĩnh vực khoa học dữ liệu."
   ]
  },
  {
   "cell_type": "markdown",
   "metadata": {
    "slideshow": {
     "slide_type": "subslide"
    }
   },
   "source": [
    "### Giới thiệu chung về Học máy.\n",
    "\n",
    "**Học máy (Machine Learning)** \n",
    "- Là lĩnh vực sử dụng các thuật toán và mô hình toán học để trích xuất tri thức từ dữ liệu.  \n",
    "- Cho phép hệ thống học từ dữ liệu mà không cần lập trình tường minh từng quy tắc.\n",
    "\n",
    "**Tại sao cần Học máy?**  \n",
    "- Các hệ thống rule-based (`if-else`) cứng nhắc, khó mở rộng và phụ thuộc vào chuyên gia.  \n",
    "- Học máy giúp hệ thống tự học các quy luật từ dữ liệu, tăng tính linh hoạt và khả năng thích ứng.\n",
    "\n",
    "**Các loại bài toán Học máy**\n",
    "- Học có giám sát (Supervised Learning): Dữ liệu có gán nhãn, mục tiêu là dự đoán đầu ra cho dữ liệu mới.  \n",
    "  Ví dụ: phân loại thư rác, dự đoán giá nhà.\n",
    "\n",
    "- Học không giám sát (Unsupervised Learning): Dữ liệu không có nhãn, mục tiêu là khám phá cấu trúc tiềm ẩn.  \n",
    "  Ví dụ: phân nhóm khách hàng, phát hiện bất thường.\n",
    "\n",
    "- Học tăng cường (Reinforcement Learning): Hệ thống học thông qua tương tác với môi trường và tối ưu hóa phần thưởng theo thời gian.  \n",
    "  Ví dụ: huấn luyện robot, chơi cờ, tối ưu phân phối quảng cáo theo hành vi người dùng."
   ]
  },
  {
   "cell_type": "markdown",
   "metadata": {
    "slideshow": {
     "slide_type": "subslide"
    }
   },
   "source": [
    "### Tìm hiểu về Học máy qua ví dụ: Tối ưu hóa ngân sách chi cho quảng cáo.\n",
    "\n",
    "**Ví dụ:** Một công ty muốn phân tích tác động của chi phí quảng cáo (TV, Mạng xã hội, Tờ rơi) đến doanh thu bán hàng.\n",
    "\n",
    "**Câu hỏi:**\n",
    "1.  Mối liên hệ giữa chi phí quảng cáo và doanh thu mạnh đến mức nào?\n",
    "2.  Phương tiện nào đóng góp nhiều nhất?\n",
    "3.  Tác động có tuyến tính không?\n",
    "4.  Có sự tương tác giữa các loại hình quảng cáo không?\n",
    "5.  Phân bổ ngân sách vào các loại hình quảng cáo như thế nào?\n",
    "\n",
    "Dữ liệu về chi phí cho các loại hình quảng cáo và doanh thu của 55 cửa hàng: [XEM TẠI ĐÂY](https://github.com/NCT-NEU/Sach_Khoa_hoc_du_lieu_python/blob/main/datasets/Sales_dataset.csv)\n",
    "\n",
    "Dữ liệu đã được xử lý để sẵn sàng cho mô hình học máy: \n",
    "- Biến mục tiêu: Sales là doanh thu của cửa hàng tính bằng tỷ đồng.\n",
    "- Biến độc lập: Chi phí quảng cáo trên truyền hình (TV), chi phí quảng cáo trên mạng xã hội (Social_Media), chi phí quảng cáo bằng tờ rơi (Flyer) tính bằng triệu đồng.\n",
    "\n",
    "**Hiểu về dữ liệu bằng trực quan hóa**:"
   ]
  },
  {
   "cell_type": "code",
   "execution_count": null,
   "metadata": {},
   "outputs": [],
   "source": [
    "# ================================\n",
    "# Phân tích mối quan hệ giữa chi phí quảng cáo và doanh thu\n",
    "# ================================\n",
    "\n",
    "# 1. Nhập các thư viện cần thiết\n",
    "import pandas as pd                  # Xử lý dữ liệu dạng bảng\n",
    "import numpy as np                  # Xử lý số liệu\n",
    "import seaborn as sns               # Trực quan hóa nâng cao\n",
    "import matplotlib.pyplot as plt     # Trực quan hóa cơ bản\n",
    "import warnings                     # Tắt cảnh báo\n",
    "warnings.filterwarnings(\"ignore\", category=UserWarning)\n",
    "\n",
    "# 2. Đọc dữ liệu từ GitHub\n",
    "path = 'https://raw.githubusercontent.com/NCT-NEU/Sach_Khoa_hoc_du_lieu_python/main/datasets/Sales_dataset.csv'\n",
    "df = pd.read_csv(path, index_col=0, parse_dates=True)\n",
    "\n",
    "# 3. Tạo figure chứa 3 biểu đồ con (subplots)\n",
    "fig = plt.figure(figsize=(12, 4))\n",
    "\n",
    "# 3.1. Biểu đồ 1: TV vs Sales\n",
    "ax1 = fig.add_subplot(1, 3, 1)\n",
    "sns.regplot(x=\"TV\", y=\"Sales\", data=df, ax=ax1)\n",
    "ax1.set_title(\"TV vs Doanh thu\")\n",
    "\n",
    "# 3.2. Biểu đồ 2: Social Media vs Sales\n",
    "ax2 = fig.add_subplot(1, 3, 2)\n",
    "sns.regplot(x=\"Social_Media\", y=\"Sales\", data=df, ax=ax2)\n",
    "ax2.set_title(\"Mạng xã hội vs Doanh thu\")\n",
    "\n",
    "# 3.3. Biểu đồ 3: Flyer vs Sales\n",
    "ax3 = fig.add_subplot(1, 3, 3)\n",
    "sns.regplot(x=\"Flyer\", y=\"Sales\", data=df, ax=ax3)\n",
    "ax3.set_title(\"Tờ rơi vs Doanh thu\")\n",
    "\n",
    "# 4. Tiêu đề tổng và định dạng hiển thị\n",
    "fig.suptitle('Mối liên hệ của các Chi phí quảng cáo và Doanh thu bán hàng')\n",
    "plt.tight_layout()\n",
    "\n",
    "# 5. Lưu và hiển thị biểu đồ\n",
    "plt.savefig('fig1.png')"
   ]
  },
  {
   "cell_type": "markdown",
   "metadata": {
    "slideshow": {
     "slide_type": "subslide"
    }
   },
   "source": [
    "**Trực quan hóa dữ liệu: liệu có tồn tại mối liên hệ giữa các chi phí quảng cáo?**"
   ]
  },
  {
   "cell_type": "code",
   "execution_count": null,
   "metadata": {
    "slideshow": {
     "slide_type": "fragment"
    }
   },
   "outputs": [],
   "source": [
    "### Trực quan hóa dữ liệu: chi phí quảng cáo và doanh thu của các cửa hàng\n",
    "# =============================================\n",
    "# Trực quan hóa mối quan hệ giữa các kênh quảng cáo\n",
    "# =============================================\n",
    "\n",
    "# 1. Nhập thư viện cần thiết\n",
    "import pandas as pd\n",
    "import numpy as np\n",
    "import seaborn as sns\n",
    "import matplotlib.pyplot as plt\n",
    "import warnings\n",
    "warnings.filterwarnings(\"ignore\", category=UserWarning)\n",
    "\n",
    "# 2. Đọc dữ liệu từ GitHub\n",
    "url = 'https://raw.githubusercontent.com/NCT-NEU/Sach_Khoa_hoc_du_lieu_python/main/datasets/Sales_dataset.csv'\n",
    "df = pd.read_csv(url, index_col=0, parse_dates=True)\n",
    "\n",
    "# 3. Tạo figure với 3 biểu đồ con (subplot)\n",
    "fig, axes = plt.subplots(1, 3, figsize=(12, 4))\n",
    "\n",
    "# 3.1 TV vs Flyer\n",
    "sns.regplot(x=\"TV\", y=\"Flyer\", data=df, ax=axes[0])\n",
    "axes[0].set_title(\"TV vs Flyer\")\n",
    "\n",
    "# 3.2 Flyer vs Social Media\n",
    "sns.regplot(x=\"Flyer\", y=\"Social_Media\", data=df, ax=axes[1])\n",
    "axes[1].set_title(\"Flyer vs Mạng xã hội\")\n",
    "\n",
    "# 3.3 Social Media vs TV\n",
    "sns.regplot(x=\"Social_Media\", y=\"TV\", data=df, ax=axes[2])\n",
    "axes[2].set_title(\"Mạng xã hội vs TV\")\n",
    "\n",
    "# 4. Tiêu đề tổng và định dạng bố cục\n",
    "fig.suptitle(\"Mối liên hệ của các Chi phí quảng cáo\")\n",
    "plt.tight_layout()\n",
    "\n",
    "# 5. Lưu và hiển thị biểu đồ\n",
    "plt.savefig(\"fig2.png\")"
   ]
  },
  {
   "cell_type": "markdown",
   "metadata": {
    "slideshow": {
     "slide_type": "subslide"
    }
   },
   "source": [
    "Xây dựng một mô hình toán học tương đương với quá trình **ước lượng một hàm số $f$** mô tả mối quan hệ giữa Doanh thu và các khoản chi cho quảng cáo:\n",
    "\n",
    "$$\n",
    "\\text{Sales} = f(\\text{TV}, \\text{SocialMedia}, \\text{Flyer}) + \\epsilon\n",
    "$$\n",
    "\n",
    "trong đó\n",
    "\n",
    "- Sales: biến phụ thuộc\n",
    "- TV, SocialMedia, Flyer: các biến giải thích\n",
    "- $\\epsilon$: sai số ngẫu nhiên không thể giải thích được\n",
    "\n",
    "**Mục tiêu khi xây dựng mô hình**\n",
    "\n",
    "- Ước lượng hàm $f$ từ dữ liệu quan sát được\n",
    "- Mô tả định lượng tác động của từng kênh quảng cáo đến doanh thu\n",
    "\n",
    "**Phương pháp tiếp cận khi xây dựng mô hình**\n",
    "\n",
    "- Biến Sales là biến liên tục → cần xây dựng mô hình **hồi quy**\n",
    "- Mô hình sử dụng trong bối cảnh hỗ trợ ra quyết định trong kinh tế → cần xây dựng các mô hình **có tham số**\n",
    "- Các mô hình hồi quy có thể áp dụng: Hồi quy tuyến tính (linear regression), cây quyết định hồi quy (regression tree), rừng ngẫu nhiên (random forest), học tăng cường (gradient boost)\n",
    "- Dữ liệu nhỏ và ưu tiên khả năng giải thích → Mô hình hồi quy tuyến tính\n",
    "\n",
    "**Mô hình hồi quy tuyến tính**\n",
    "\n",
    "Hàm $f$ là tuyến tính theo các tham số cần ước lượng:\n",
    "\n",
    "$$\n",
    "f(\\text{TV}, \\text{SocialMedia}, \\text{Flyer}) = \\beta_0 + \\beta_1 \\cdot \\text{TV} + \\beta_2 \\cdot \\text{SocialMedia} + \\beta_3 \\cdot \\text{Flyer}\n",
    "$$\n",
    "\n",
    "**Thư viện Sklearn của Python cho phép ướng lượng tham số:**\n",
    "\n",
    "$$\n",
    "\\text{Sales} = 4.09 + 0.016 \\cdot \\text{TV} + 0.063 \\cdot \\text{SocialMedia} + 0.012 \\cdot \\text{Flyer}\n",
    "$$\n",
    "\n",
    "**Kiểm định ý nghĩa các hệ số**\n",
    "\n",
    "- Hệ số 0.012 của biến Flyer **không có ý nghĩa thống kê**\n",
    "- ⇒ Quảng cáo bằng tờ rơi không ảnh hưởng rõ rệt đến doanh thu\n",
    "\n",
    "**Ước lượng lại mô hình sau khi loại bỏ Flyer**\n",
    "\n",
    "$$\n",
    "\\text{Sales} = 4.09 + 0.019 \\cdot \\text{TV} + 0.070 \\cdot \\text{SocialMedia}\n",
    "$$\n",
    "\n",
    "- Cả hai hệ số TV và SocialMedia đều **có ý nghĩa thống kê**\n",
    "\n",
    "**Kết luận**\n",
    "\n",
    "- TV và Social Media có tác động tích cực và đáng kể đến doanh thu\n",
    "- Flyer không mang lại hiệu quả trong việc thúc đẩy doanh thu bán hàng\n",
    "- Có thể sử dụng mô hình tuyến tính để tìm phân bổ ngân sách tối ưu"
   ]
  },
  {
   "cell_type": "markdown",
   "metadata": {
    "slideshow": {
     "slide_type": "slide"
    }
   },
   "source": [
    "### Ứng dụng Học máy trên dữ liệu thực tế: Phân loại các loài hoa Iris."
   ]
  },
  {
   "cell_type": "markdown",
   "metadata": {
    "slideshow": {
     "slide_type": "subslide"
    }
   },
   "source": [
    "**Bài toán**: xây dựng mô hình dự đoán loài hoa *Iris* (setosa, versicolor, virginica) dựa trên các đặc trưng:\n",
    "-   Chiều dài và chiều rộng cánh hoa (petal length & width).\n",
    "-   Chiều dài và chiều rộng đài hoa (sepal length & width).\n",
    "\n",
    "![Hoa iris](https://raw.githubusercontent.com/NCT-NEU/Sach_Khoa_hoc_du_lieu_python/main/Khoa%20h%E1%BB%8Dc%20d%E1%BB%AF%20li%E1%BB%87u%20c%C6%A1%20b%E1%BA%A3n%20trong%20kinh%20t%E1%BA%BF%20v%C3%A0%20kinh%20doanh/Tu%E1%BA%A7n%2001.%20B%C3%A0i%20gi%E1%BA%A3ng%201/Hinh_anh/iris.png)\n",
    "\n",
    "Xem dữ liệu thu thập được của 150 bông hoa iris [tại đây](https://github.com/NCT-NEU/Sach_Khoa_hoc_du_lieu_python/blob/main/datasets/iris.csv)\n",
    "\n",
    "Xây dựng mô hình tương đương với **ước lượng từ dữ liệu một hàm số $f$** mô tả mối liên hệ giữa 4 đặc trưng và loài hoa tương ứng:\n",
    "\n",
    "$$\n",
    "\\text{Loài hoa} = f(\\text{Cánh hoa (dài, rộng)}, \\text{Đài hoa (dài, rộng)})\n",
    "$$\n",
    "\n",
    "Trong bài toán này,\n",
    "\n",
    "- Hàm $f$ chỉ có thể nhận một trong 3 giá trị *setosa*, *versicolor*, hoặc *virginica*\n",
    "- Hàm $f$ cần tìm phải là một **mô hình phân loại**"
   ]
  },
  {
   "cell_type": "markdown",
   "metadata": {},
   "source": [
    "#### Làm thế nào để đánh giá được một mô hình?"
   ]
  },
  {
   "cell_type": "markdown",
   "metadata": {
    "slideshow": {
     "slide_type": "subslide"
    }
   },
   "source": [
    "Để đánh giá một cách **khách quan hiệu suất** của mô hình học máy, ta cần kiểm tra mô hình trên những dữ liệu mà nó **chưa từng được huấn luyện** trước đó. Điều này giúp phản ánh khả năng tổng quát hóa của mô hình đối với dữ liệu thực tế. \n",
    "\n",
    "Tập dữ liệu ban đầu thường được chia thành hai phần:\n",
    "\n",
    "- Tập huấn luyện (Training Set): Dùng để xây dựng và huấn luyện mô hình, giúp mô hình học được các mối quan hệ từ dữ liệu\n",
    "- Tập kiểm tra (Test Set): Dùng để đánh giá hiệu suất của mô hình trên dữ liệu mới chưa từng thấy, từ đó đo lường khả năng dự đoán thực tế.\n",
    "- Việc phân chia dữ liệu phải đảm bảo **tính ngẫu nhiên**"
   ]
  },
  {
   "cell_type": "code",
   "execution_count": null,
   "metadata": {
    "slideshow": {
     "slide_type": "fragment"
    }
   },
   "outputs": [],
   "source": [
    "# Import thư viện cần thiết\n",
    "from sklearn.model_selection import train_test_split  # Dùng để chia dữ liệu thành train/test\n",
    "import pandas as pd  # Thư viện thao tác với dữ liệu dạng bảng (DataFrame)\n",
    "import warnings                     # Tắt cảnh báo\n",
    "warnings.filterwarnings(\"ignore\", category=UserWarning)\n",
    "\n",
    "# Đường dẫn tới file dữ liệu Iris (định dạng Excel)\n",
    "url = 'https://raw.githubusercontent.com/NCT-NEU/Sach_Khoa_hoc_du_lieu_python/refs/heads/main/datasets/iris.xlsx'\n",
    "\n",
    "# Đọc dữ liệu từ file Excel vào DataFrame\n",
    "df = pd.read_excel(url)\n",
    "\n",
    "# Phân chia dữ liệu thành tập huấn luyện và kiểm tra\n",
    "# - X chứa 4 đặc trưng (feature) định lượng của hoa\n",
    "# - Y là biến mục tiêu (label), chính là tên loài hoa\n",
    "# - test_size=0.3 nghĩa là dùng 30% dữ liệu để kiểm tra, 70% để huấn luyện\n",
    "# - random_state=10 đảm bảo việc chia dữ liệu ngẫu nhiên nhưng có thể tái lặp (reproducible)\n",
    "X_train, X_test, Y_train, Y_test = train_test_split(\n",
    "    df[[\"Chiều_dài_đài_hoa\", \"Chiều_rộng_đài_hoa\", \"Chiều_dài_cánh_hoa\", \"Chiều_rộng_cánh_hoa\"]],\n",
    "    df[\"Loài_hoa\"],\n",
    "    test_size=0.3,\n",
    "    random_state=10\n",
    ")\n",
    "\n",
    "# In ra kích thước của tập huấn luyện\n",
    "print(\"Kích thước dữ liệu huấn luyện mô hình:\")\n",
    "print(\"- Biến độc lập (X_train):\", X_train.shape)  # Số dòng và số đặc trưng\n",
    "print(\"- Biến phụ thuộc (Y_train):\", Y_train.shape)  # Số nhãn tương ứng\n",
    "\n",
    "# In ra kích thước của tập kiểm tra\n",
    "print(\"Kích thước dữ liệu kiểm tra mô hình:\")\n",
    "print(\"- Biến độc lập (X_test):\", X_test.shape)\n",
    "print(\"- Biến phụ thuộc (Y_test):\", Y_test.shape)"
   ]
  },
  {
   "cell_type": "markdown",
   "metadata": {
    "slideshow": {
     "slide_type": "subslide"
    }
   },
   "source": [
    "**Phân tích dữ liệu khám phá.**\n",
    "\n",
    "Trước khi xây dựng mô hình, cần kiểm tra và khám phá dữ liệu để:\n",
    "-   Hiểu cấu trúc và mối quan hệ giữa các biến.\n",
    "-   Phát hiện các điểm bất thường hoặc sai lệch.\n",
    "\n",
    "Trước hết chúng ta tính toán các thống kê đơn giản:"
   ]
  },
  {
   "cell_type": "code",
   "execution_count": null,
   "metadata": {
    "slideshow": {
     "slide_type": "fragment"
    }
   },
   "outputs": [],
   "source": [
    "# Import các thư viện cần thiết\n",
    "import pandas as pd                      # Xử lý dữ liệu dạng bảng\n",
    "import matplotlib.pyplot as plt          # Trực quan hóa dữ liệu (nếu cần)\n",
    "from sklearn.model_selection import train_test_split  # Chia tập train/test\n",
    "from IPython.display import display      # Hiển thị bảng đẹp trong Jupyter Notebook\n",
    "import warnings                     # Tắt cảnh báo\n",
    "warnings.filterwarnings(\"ignore\", category=UserWarning)\n",
    "\n",
    "\n",
    "# Đường dẫn đến file dữ liệu iris (định dạng Excel) lưu trên GitHub\n",
    "url = 'https://raw.githubusercontent.com/NCT-NEU/Sach_Khoa_hoc_du_lieu_python/refs/heads/main/datasets/iris.xlsx'\n",
    "\n",
    "# Đọc dữ liệu từ Excel vào DataFrame\n",
    "df = pd.read_excel(url)\n",
    "\n",
    "# Phân chia dữ liệu thành tập huấn luyện (train) và tập kiểm tra (test)\n",
    "# - X gồm các đặc trưng định lượng (chiều dài, chiều rộng đài hoa, cánh hoa)\n",
    "# - Y là nhãn (label): tên loài hoa\n",
    "X_train, X_test, Y_train, Y_test = train_test_split(\n",
    "    df[[\"Chiều_dài_đài_hoa\", \"Chiều_rộng_đài_hoa\", \"Chiều_dài_cánh_hoa\", \"Chiều_rộng_cánh_hoa\"]],\n",
    "    df[\"Loài_hoa\"],\n",
    "    test_size=0.3,       # 30% dữ liệu được dùng làm tập kiểm tra\n",
    "    random_state=10      # Đảm bảo việc chia dữ liệu có thể tái lặp được\n",
    ")\n",
    "\n",
    "# Tính các thống kê mô tả cho tập huấn luyện, phân theo từng loài hoa\n",
    "# - Gồm: Giá trị trung bình (mean), độ lệch chuẩn (std), giá trị nhỏ nhất (min) và lớn nhất (max)\n",
    "summary = X_train.groupby(Y_train).agg([\"mean\", \"std\", \"min\", \"max\"]).round(3)\n",
    "\n",
    "# Đổi tên các mức chỉ số thống kê (cột cấp độ 2) sang tiếng Việt\n",
    "summary.columns = summary.columns.set_levels(\n",
    "    [\"Trung bình\", \"Độ lệch chuẩn\", \"Giá trị nhỏ nhất\", \"Giá trị lớn nhất\"],\n",
    "    level=1\n",
    ")\n",
    "\n",
    "# Hiển thị bảng thống kê mô tả theo từng loài hoa\n",
    "print(summary.to_string())"
   ]
  },
  {
   "cell_type": "markdown",
   "metadata": {
    "slideshow": {
     "slide_type": "subslide"
    }
   },
   "source": [
    "**Trực quan hóa dữ liệu** để xem xét mối liên hệ giữa các biến."
   ]
  },
  {
   "cell_type": "code",
   "execution_count": null,
   "metadata": {
    "slideshow": {
     "slide_type": "fragment"
    }
   },
   "outputs": [],
   "source": [
    "# Import thư viện\n",
    "import seaborn as sns\n",
    "import matplotlib.pyplot as plt\n",
    "import pandas as pd\n",
    "from sklearn.model_selection import train_test_split\n",
    "import warnings                     # Tắt cảnh báo\n",
    "warnings.filterwarnings(\"ignore\", category=UserWarning)\n",
    "\n",
    "\n",
    "# Tải dữ liệu iris từ GitHub (.xlsx)\n",
    "url = 'https://raw.githubusercontent.com/NCT-NEU/Sach_Khoa_hoc_du_lieu_python/refs/heads/main/datasets/iris.xlsx'\n",
    "df = pd.read_excel(url)\n",
    "\n",
    "# Chia dữ liệu ngẫu nhiên thành train (70%) và test (30%)\n",
    "X_train, X_test, Y_train, Y_test = train_test_split(\n",
    "    df[[\"Chiều_dài_đài_hoa\", \"Chiều_rộng_đài_hoa\", \"Chiều_dài_cánh_hoa\", \"Chiều_rộng_cánh_hoa\"]],\n",
    "    df[\"Loài_hoa\"], \n",
    "    test_size=0.3,\n",
    "    random_state=10\n",
    ")\n",
    "\n",
    "# Tạo biểu đồ phân tán giữa chiều dài và chiều rộng cánh hoa\n",
    "plt.figure(figsize=(7, 4))  # Tăng kích thước biểu đồ\n",
    "sns.scatterplot(\n",
    "    data=X_train,\n",
    "    x=\"Chiều_dài_cánh_hoa\",\n",
    "    y=\"Chiều_rộng_cánh_hoa\",\n",
    "    hue=Y_train,          # Phân nhóm theo loài hoa (label)\n",
    "    palette=\"Set1\",       # Màu sắc tươi sáng\n",
    "    s=100,                # Kích thước điểm\n",
    "    edgecolor='k'         # Viền đen giúp điểm nổi bật hơn\n",
    ")\n",
    "\n",
    "# Ghi chú biểu đồ\n",
    "plt.title(\"Biểu đồ phân tán: Chiều dài vs Chiều rộng cánh hoa theo loài\")\n",
    "plt.xlabel(\"Chiều dài cánh hoa (cm)\")\n",
    "plt.ylabel(\"Chiều rộng cánh hoa (cm)\")\n",
    "plt.legend(title=\"Loài hoa\")\n",
    "plt.tight_layout()  # Căn chỉnh tránh trùng trục\n",
    "\n",
    "# Lưu biểu đồ ra file PNG\n",
    "plt.savefig(\"fig1.png\")"
   ]
  },
  {
   "cell_type": "markdown",
   "metadata": {
    "slideshow": {
     "slide_type": "subslide"
    }
   },
   "source": [
    "**Phương pháp tiếp cận khi xây dựng mô hình**\n",
    "\n",
    "- Biến mục tiêu là kiểu phân loại →  xây dựng mô hình **phân loại (classification)**\n",
    "- Mô hình sử dụng trong bối cảnh hỗ dự đoán càng chính xác càng tốt → có thể xây dựng các mô hình **có tham số**, hoặc **phi tham số**\n",
    "- Các mô hình **phân loại** có thể áp dụng: k-láng giềng gần nhất, Hồi quy logistic, cây quyết định phân loại (classification tree), rừng ngẫu nhiên (random forest), học tăng cường (gradient boost)\n",
    "\n",
    "**Mô hình 1: k-láng giềng gần nhất**\n",
    "\n",
    "Ý tưởng chính:\n",
    "- Mô hình k-láng giềng gần nhất dự đoán giá trị của một dữ liệu mới bằng cách tìm k điểm dữ liệu trong tập huấn luyện gần nó nhất\n",
    "- Gán nhãn phổ biến nhất trong số các điểm này làm kết quả.\\\n",
    "- Cách hàm $f$ hoạt động: khi gặp một điểm dữ liệu mới:\n",
    "  - Tính khoảng cách từ điểm mới đến tất cả các điểm trong tập huấn luyện.\n",
    "  - Chọn k điểm gần nhất.\n",
    "  - Gán nhãn cho điểm mới dựa trên **đa số**.\n",
    "\n",
    "Ví dụ, một bông hoa iris có các thông số:\n",
    "- Chiều dài cánh hoa: 5cm\n",
    "- Chiều rộng cánh hoa: 2.9cm\n",
    "- Chiều dài đài hoa: 1cm\n",
    "- Chiều rộng đài hoa: 0.2cm\n",
    "\n",
    "Được dự đoán như sau"
   ]
  },
  {
   "cell_type": "code",
   "execution_count": null,
   "metadata": {
    "slideshow": {
     "slide_type": "fragment"
    }
   },
   "outputs": [],
   "source": [
    "# Import các thư viện cần thiết\n",
    "from sklearn.neighbors import KNeighborsClassifier  # Mô hình KNN phân loại\n",
    "import matplotlib.pyplot as plt                     # Trực quan hóa (nếu cần)\n",
    "import pandas as pd                                 # Xử lý dữ liệu bảng\n",
    "import numpy as np                                  # Tính toán mảng số\n",
    "from sklearn.model_selection import train_test_split  # Chia train/test\n",
    "import warnings\n",
    "warnings.filterwarnings(\"ignore\", category=UserWarning)\n",
    "\n",
    "# Tải dữ liệu iris từ GitHub (.xlsx)\n",
    "url = 'https://raw.githubusercontent.com/NCT-NEU/Sach_Khoa_hoc_du_lieu_python/refs/heads/main/datasets/iris.xlsx'\n",
    "df = pd.read_excel(url)\n",
    "\n",
    "# Chia dữ liệu thành tập huấn luyện (70%) và kiểm tra (30%)\n",
    "X_train, X_test, Y_train, Y_test = train_test_split(\n",
    "    df[[\"Chiều_dài_đài_hoa\", \"Chiều_rộng_đài_hoa\", \"Chiều_dài_cánh_hoa\", \"Chiều_rộng_cánh_hoa\"]],\n",
    "    df[\"Loài_hoa\"], \n",
    "    test_size=0.3,\n",
    "    random_state=10\n",
    ")\n",
    "\n",
    "# Khởi tạo mô hình KNN với k = 3\n",
    "knn = KNeighborsClassifier(n_neighbors=3)\n",
    "\n",
    "# Huấn luyện mô hình trên tập huấn luyện\n",
    "knn.fit(X_train, Y_train)\n",
    "\n",
    "# Tạo một mẫu dữ liệu mới với 4 đặc trưng: [sepal_length, sepal_width, petal_length, petal_width]\n",
    "X_new = np.array([[5, 2.9, 1, 0.2]])\n",
    "\n",
    "# Dự đoán loài hoa cho mẫu mới\n",
    "prediction = knn.predict(X_new)\n",
    "\n",
    "# In kết quả dự đoán\n",
    "df = pd.DataFrame([{\n",
    "    \"Chiều_dài_đài_hoa\": 5.0,\n",
    "    \"Chiều_rộng_đài_hoa\": 2.9,\n",
    "    \"Chiều_dài_cánh_hoa\": 1,\n",
    "    \"Chiều_rộng_cánh_hoa\": 0.2,\n",
    "    \"Loài hoa dự đoán\": prediction[0]  # lấy phần tử đầu của mảng kết quả\n",
    "}])\n",
    "\n",
    "print(df.to_string())"
   ]
  },
  {
   "cell_type": "markdown",
   "metadata": {
    "slideshow": {
     "slide_type": "subslide"
    }
   },
   "source": [
    "**Đánh giá sự chính xác của mô hình**\n",
    "- Không sử dụng dữ liệu huấn luyện mô hình (`X_train`)\n",
    "- Sử dụng dữ liệu kiểm tra (`X_test`) để đánh giá độ chính xác của mô hình."
   ]
  },
  {
   "cell_type": "code",
   "execution_count": null,
   "metadata": {
    "slideshow": {
     "slide_type": "fragment"
    }
   },
   "outputs": [],
   "source": [
    "import pandas as pd                  # Xử lý dữ liệu dạng bảng\n",
    "import numpy as np                  # Xử lý số liệu\n",
    "import seaborn as sns               # Trực quan hóa nâng cao\n",
    "import matplotlib.pyplot as plt     # Trực quan hóa cơ bản\n",
    "import matplotlib.pyplot as plt\n",
    "from sklearn.model_selection import train_test_split\n",
    "from sklearn.neighbors import KNeighborsClassifier\n",
    "import warnings                     # Tắt cảnh báo\n",
    "warnings.filterwarnings(\"ignore\", category=UserWarning)\n",
    "\n",
    "\n",
    "# Tải dữ liệu iris\n",
    "url = 'https://raw.githubusercontent.com/NCT-NEU/Sach_Khoa_hoc_du_lieu_python/refs/heads/main/datasets/iris.xlsx'\n",
    "df = pd.read_excel(url)\n",
    "\n",
    "# Chia dữ liệu thành dữ liệu huấn luyện (train) - kiểm tra (test) một cách ngẫu nhiên\n",
    "X_train, X_test, Y_train, Y_test = train_test_split(\n",
    "    df[[\"Chiều_dài_đài_hoa\", \"Chiều_rộng_đài_hoa\", \"Chiều_dài_cánh_hoa\", \"Chiều_rộng_cánh_hoa\"]], df[\"Loài_hoa\"], \n",
    "    random_state = 10, test_size=0.3)\n",
    "\n",
    "knn = KNeighborsClassifier(n_neighbors=3)\n",
    "knn.fit(X_train, Y_train)\n",
    "\n",
    "# Dự đoán trên dữ liệu kiểm tra\n",
    "Y_pred = knn.predict(X_test)\n",
    "\n",
    "# Tạo bảng so sánh\n",
    "comparison = pd.DataFrame({\n",
    "    \"Thực tế\": Y_test.values,\n",
    "    \"Dự đoán\": Y_pred\n",
    "})\n",
    "\n",
    "# Hiển thị bảng\n",
    "print(comparison.head(20))  # In ra 10 dòng đầu tiên để xem thử\n",
    "\n",
    "# Tính độ chính xác\n",
    "print(\"Điểm tập kiểm tra: {:.2f}\".format(np.mean(Y_pred == Y_test)))"
   ]
  },
  {
   "cell_type": "markdown",
   "metadata": {},
   "source": [
    "**Có thể thấy rằng mô hình cho khả năng dự báo đúng đến 49/50 trường hợp (tỷ lệ chính xác là 98%)**"
   ]
  },
  {
   "cell_type": "markdown",
   "metadata": {
    "slideshow": {
     "slide_type": "slide"
    }
   },
   "source": [
    "### Ứng dụng Học máy trên dữ liệu thực tế: Dự đoán giá bất động sản tại Hà Nội"
   ]
  },
  {
   "cell_type": "markdown",
   "metadata": {
    "slideshow": {
     "slide_type": "subslide"
    }
   },
   "source": [
    "**Bài toán**: \n",
    "\n",
    "Xây dựng mô hình dự đoán giá nhà (triệu đồng/m²) tại Hà Nội dựa trên các đặc trưng:\n",
    "-   Vị trí (Quận, Huyện).\n",
    "-   Tính chất nhà ở (Loại hình, số tầng, số phòng ngủ, diện tích...).\n",
    "-   Pháp lý (Giấy tờ).\n",
    "\n",
    "Dữ liệu được cho [tại đây](https://github.com/NCT-NEU/Sach_Khoa_hoc_du_lieu_python/blob/main/datasets/HN_housing_price_raw_1.csv)"
   ]
  },
  {
   "cell_type": "markdown",
   "metadata": {
    "slideshow": {
     "slide_type": "subslide"
    }
   },
   "source": [
    "**Phân tích khai phá và tiền xử lý dữ liệu**\n",
    "\n",
    "Dữ liệu thực tế thường không hoàn hảo. Cần các bước làm sạch và chuẩn hóa.\n",
    "\n",
    "**Ví dụ**: Cột Giá/m2 đang ở dạng chuỗi ký tự và có nhiều đơn vị khác nhau.\n",
    "- Có ngôi nhà đang là tỷ đồng, ngôi nhà đang để đơn vị là đồng\n",
    "- Chúng ta cần tách giá trị số và đơn vị → chuẩn hóa về cùng một đơn vị (triệu đồng/m²).\n",
    "\n",
    "Kiến thức về khai phá và xử lý dữ liệu như vậy sẽ được trình bày trong Phần sau của môn học\n",
    "\n",
    "Dữ liệu sau khi làm sạch"
   ]
  },
  {
   "cell_type": "code",
   "execution_count": null,
   "metadata": {},
   "outputs": [],
   "source": [
    "# Import thư viện pandas để xử lý dữ liệu bảng\n",
    "import pandas as pd\n",
    "\n",
    "# Đường dẫn tới file CSV chứa dữ liệu giá nhà Hà Nội (đã làm sạch)\n",
    "path = \"https://raw.githubusercontent.com/NCT-NEU/Sach_Khoa_hoc_du_lieu_python/refs/heads/main/datasets/HN_housing_price_clean.csv\"\n",
    "\n",
    "# Đọc dữ liệu từ file CSV vào DataFrame\n",
    "# - index_col=0: cột đầu tiên sẽ được dùng làm chỉ mục (index)\n",
    "# - parse_dates=True: tự động chuyển các cột dạng ngày tháng về kiểu datetime\n",
    "df = pd.read_csv(path, index_col=0, parse_dates=True)\n",
    "\n",
    "# Hiển thị 10 dòng đầu tiên của bảng dữ liệu\n",
    "print(df.head(10).to_string())"
   ]
  },
  {
   "cell_type": "markdown",
   "metadata": {
    "slideshow": {
     "slide_type": "subslide"
    }
   },
   "source": [
    "**Trực quan hóa dữ liệu sau khi làm sạch**\n",
    "\n",
    "Giá nhà theo Quận/Huyện"
   ]
  },
  {
   "cell_type": "code",
   "execution_count": null,
   "metadata": {
    "slideshow": {
     "slide_type": "fragment"
    }
   },
   "outputs": [],
   "source": [
    "import pandas as pd                  # Xử lý dữ liệu dạng bảng\n",
    "import numpy as np                  # Xử lý số liệu\n",
    "import seaborn as sns               # Trực quan hóa nâng cao\n",
    "import matplotlib.pyplot as plt     # Trực quan hóa cơ bản\n",
    "\n",
    "path = \"https://raw.githubusercontent.com/NCT-NEU/Sach_Khoa_hoc_du_lieu_python/refs/heads/main/datasets/HN_housing_price_clean.csv\"\n",
    "df = pd.read_csv(path, index_col=0, parse_dates=True)\n",
    "\n",
    "# Sắp xếp các quận theo giá trung bình\n",
    "df['Quận'] = pd.Categorical(df['Quận'], \n",
    "                             categories=df.groupby('Quận')['Giá/m2'].mean().sort_values().index,\n",
    "                             ordered=True)\n",
    "\n",
    "# Vẽ boxplot theo Quận\n",
    "plt.figure(figsize=(8, 5))\n",
    "sns.boxplot(x='Quận', y='Giá/m2', data=df, color = \"#00A7F0\")\n",
    "plt.xticks(rotation=90)\n",
    "plt.ylim(-10, 650)\n",
    "plt.title('Phân phối giá nhà theo Quận')\n",
    "plt.tight_layout()\n",
    "plt.savefig(\"fig1.png\")"
   ]
  },
  {
   "cell_type": "markdown",
   "metadata": {},
   "source": [
    "Liệu số tầng có ảnh hưởng đến giá nhà/mét vuông?"
   ]
  },
  {
   "cell_type": "code",
   "execution_count": null,
   "metadata": {
    "slideshow": {
     "slide_type": "fragment"
    }
   },
   "outputs": [],
   "source": [
    "import pandas as pd                  # Xử lý dữ liệu dạng bảng\n",
    "import numpy as np                  # Xử lý số liệu\n",
    "import seaborn as sns               # Trực quan hóa nâng cao\n",
    "import matplotlib.pyplot as plt     # Trực quan hóa cơ bản\n",
    "\n",
    "path = \"https://raw.githubusercontent.com/NCT-NEU/Sach_Khoa_hoc_du_lieu_python/refs/heads/main/datasets/HN_housing_price_clean.csv\"\n",
    "df = pd.read_csv(path, index_col=0, parse_dates=True)\n",
    "# Sắp xếp theo số tầng\n",
    "df['Số tầng'] = pd.Categorical(df['Số tầng'], \n",
    "                            categories=df.groupby('Số tầng')['Giá/m2'].mean().sort_values().index,\n",
    "                            ordered=True)\n",
    "\n",
    "# Vẽ boxplot theo Số tầng\n",
    "plt.figure(figsize=(8, 5))\n",
    "sns.boxplot(x='Số tầng', y='Giá/m2', data=df, color = \"#00A7F0\")\n",
    "plt.ylim(-10, 650)\n",
    "plt.title('Phân phối giá nhà theo Số tầng')\n",
    "plt.tight_layout()\n",
    "plt.savefig(\"fig1.png\")"
   ]
  },
  {
   "cell_type": "markdown",
   "metadata": {
    "slideshow": {
     "slide_type": "subslide"
    }
   },
   "source": [
    "**Phương pháp tiếp cận khi xây dựng mô hình**\n",
    "\n",
    "- Biến mục tiêu là kiểu số →  xây dựng mô hình **hồi quy**\n",
    "- Mô hình sử dụng trong bối cảnh hỗ dự đoán càng chính xác càng tốt → có thể xây dựng các mô hình **có tham số**, hoặc **phi tham số**\n",
    "- Các mô hình **hồi quy** có thể áp dụng: k-láng giềng gần nhất, hồi quy tuyến tính, rừng ngẫu nhiên (random forest), học tăng cường (gradient boost)\n",
    "- Dữ liệu khá lớn và phức tạp, nên lựa chọn các mô hình có độ phức tạp tương ứng, rừng ngẫu nhiên là một ví dụ\n",
    "\n",
    "**Xây dựng mô hình: Rừng ngẫu nhiên (Random Forest)**\n",
    "\n",
    "Ý tưởng: \n",
    "- Xây dựng nhiều **cây quyết định độc lập** và lấy trung bình kết quả dự đoán.\n",
    "- Để đánh giá mô hình: chia dữ liệu thành train & test; train để xây dựng mô hình, test để đánh giá mô hình\n",
    "- Chỉ số đánh giá sai số trên tập test cho bài toán Hồi quy:\n",
    "  - Sai số tuyệt đối trung bình (Mean Absolute Error - MAE)\n",
    "  - Sai số bình phương trung bình (Mean Square Error - MSE)\n",
    "  - Hệ số xác định (R-squared - R²)\n",
    "  - Thực thi trên Python **(LƯU Ý THỜI GIAN CHẠY SẼ MẤT 1-2 PHÚT)**"
   ]
  },
  {
   "cell_type": "code",
   "execution_count": null,
   "metadata": {
    "slideshow": {
     "slide_type": "fragment"
    }
   },
   "outputs": [],
   "source": [
    "from sklearn.ensemble import RandomForestRegressor\n",
    "from sklearn.metrics import r2_score, mean_absolute_error\n",
    "from sklearn.model_selection import train_test_split\n",
    "import pandas as pd                  # Xử lý dữ liệu dạng bảng\n",
    "import numpy as np                  # Xử lý số liệu\n",
    "import seaborn as sns               # Trực quan hóa nâng cao\n",
    "import matplotlib.pyplot as plt     # Trực quan hóa cơ bản\n",
    "\n",
    "path = \"https://raw.githubusercontent.com/NCT-NEU/Sach_Khoa_hoc_du_lieu_python/refs/heads/main/datasets/HN_housing_price_clean.csv\"\n",
    "df = pd.read_csv(path, index_col=0, parse_dates=True)\n",
    "\n",
    "# Thống nhất các biến kiểu số\n",
    "num_vars = [\"Diện tích\", \"Dài\",\t\"Rộng\", \"Giá/m2\"]\n",
    "for var in num_vars:\n",
    "    df[var] = df[var].astype('float')\n",
    "    \n",
    "X_train, X_test, Y_train, Y_test = train_test_split(\n",
    "    df[[\"Quận\", \"Huyện\", \"Loại hình nhà ở\", \"Giấy tờ pháp lý\",\"Số tầng\",\"Số phòng ngủ\",\"Diện tích\", \"Dài\",\"Rộng\"]], df[\"Giá/m2\"], \n",
    "    random_state = 0, test_size=0.3)\n",
    "\n",
    "# Chuyển đổi biến sang kiểu one hot\n",
    "X_train_encoded = pd.get_dummies(X_train, drop_first=True)\n",
    "X_test_encoded = pd.get_dummies(X_test, drop_first=True)\n",
    "\n",
    "# Đồng bộ hóa cột giữa train/test\n",
    "X_train_encoded, X_test_encoded = X_train_encoded.align(X_test_encoded, join='left', axis=1, fill_value=0)\n",
    "\n",
    "# Khởi tạo mô hình Random Forest\n",
    "rf_model = RandomForestRegressor(\n",
    "    n_estimators = 100,      # số lượng cây\n",
    "    max_depth = 50,        # độ sâu tối đa\n",
    "    max_features = 9,        # số lượng đặc trưng của mỗi cây quyết định\n",
    "    random_state = 10,       # khởi tạo ngẫu nhiên để tái lập kết quả\n",
    ")\n",
    "\n",
    "# Huấn luyện mô hình với dữ liệu huấn luyện\n",
    "rf_model.fit(X_train_encoded, Y_train)\n",
    "\n",
    "# Tính toán sai số\n",
    "Y_pred = rf_model.predict(X_test_encoded)\n",
    "\n",
    "# Tạo bản sao dữ liệu kiểm tra (đã chuẩn hóa)\n",
    "X_test_display = X_test.copy()\n",
    "\n",
    "# Gắn giá trị thực tế và dự đoán\n",
    "X_test_display[\"Giá/m2_thực_tế\"] = Y_test.values\n",
    "X_test_display[\"Giá/m2_dự_đoán\"] = Y_pred\n",
    "\n",
    "# In ra 20 dòng đầu\n",
    "print(X_test_display.head(10))\n",
    "print(f\"Sai số tuyệt đối trung bình: {mean_absolute_error(Y_test, Y_pred):.2f}\")\n",
    "print(f\"Hệ số xác định (R²): {r2_score(Y_test, Y_pred):.3f}\")"
   ]
  },
  {
   "cell_type": "markdown",
   "metadata": {
    "slideshow": {
     "slide_type": "subslide"
    }
   },
   "source": [
    "**Kết quả**\n",
    "- Dự đoán đang **sai trung bình** khoảng 27 - 28 triệu\n",
    "- Mô hình rừng ngẫu nhiên giải thích được khoảng 47% sự biến thiên của giá nhà"
   ]
  },
  {
   "cell_type": "markdown",
   "metadata": {
    "slideshow": {
     "slide_type": "fragment"
    }
   },
   "source": [
    "**Trực quan hóa kết quả**"
   ]
  },
  {
   "cell_type": "code",
   "execution_count": null,
   "metadata": {
    "slideshow": {
     "slide_type": "fragment"
    }
   },
   "outputs": [],
   "source": [
    "from sklearn.ensemble import RandomForestRegressor\n",
    "from sklearn.metrics import r2_score, mean_absolute_error\n",
    "from sklearn.model_selection import train_test_split\n",
    "import pandas as pd                  # Xử lý dữ liệu dạng bảng\n",
    "import numpy as np                  # Xử lý số liệu\n",
    "import seaborn as sns               # Trực quan hóa nâng cao\n",
    "import matplotlib.pyplot as plt     # Trực quan hóa cơ bản\n",
    "\n",
    "path = \"https://raw.githubusercontent.com/NCT-NEU/Sach_Khoa_hoc_du_lieu_python/refs/heads/main/datasets/HN_housing_price_clean.csv\"\n",
    "df = pd.read_csv(path, index_col=0, parse_dates=True)\n",
    "\n",
    "# Thống nhất các biến kiểu số\n",
    "num_vars = [\"Diện tích\", \"Dài\",\t\"Rộng\", \"Giá/m2\"]\n",
    "for var in num_vars:\n",
    "    df[var] = df[var].astype('float')\n",
    "    \n",
    "X_train, X_test, Y_train, Y_test = train_test_split(\n",
    "    df[[\"Quận\", \"Huyện\", \"Loại hình nhà ở\", \"Giấy tờ pháp lý\",\"Số tầng\",\"Số phòng ngủ\",\"Diện tích\", \"Dài\",\"Rộng\"]], df[\"Giá/m2\"], \n",
    "    random_state = 0, test_size=0.3)\n",
    "\n",
    "# Chuyển đổi biến sang kiểu one hot\n",
    "X_train_encoded = pd.get_dummies(X_train, drop_first=True)\n",
    "X_test_encoded = pd.get_dummies(X_test, drop_first=True)\n",
    "\n",
    "# Đồng bộ hóa cột giữa train/test\n",
    "X_train_encoded, X_test_encoded = X_train_encoded.align(X_test_encoded, join='left', axis=1, fill_value=0)\n",
    "\n",
    "# Khởi tạo mô hình Random Forest\n",
    "rf_model = RandomForestRegressor(\n",
    "    n_estimators = 100,      # số lượng cây\n",
    "    max_depth = 50,        # độ sâu tối đa\n",
    "    max_features = 9,        # số lượng đặc trưng của mỗi cây quyết định\n",
    "    random_state = 10,       # khởi tạo ngẫu nhiên để tái lập kết quả\n",
    ")\n",
    "\n",
    "# Huấn luyện mô hình với dữ liệu huấn luyện\n",
    "rf_model.fit(X_train_encoded, Y_train)\n",
    "\n",
    "# Tính toán sai số\n",
    "Y_pred = rf_model.predict(X_test_encoded)\n",
    "\n",
    "# Tạo đồ thị scatter: Giá thực tế vs Giá dự đoán\n",
    "plt.figure(figsize=(5, 5))\n",
    "sns.scatterplot(x=Y_test, y=Y_pred)\n",
    "\n",
    "# Thêm đường chéo y = x để tham chiếu\n",
    "plt.plot([Y_test.min(), Y_test.max()],\n",
    "         [Y_test.min(), Y_test.max()], color = \"grey\", linestyle='--')\n",
    "\n",
    "# Thêm MAE và R2 vào góc trên bên trái\n",
    "mae = mean_absolute_error(Y_test, Y_pred)\n",
    "r2 = r2_score(Y_test, Y_pred)\n",
    "plt.text(x=Y_test.min(), \n",
    "         y=Y_test.max()*0.95, \n",
    "         s=f\"Sai số tuyệt đối trung bình: {mae:.2f}\\nHệ số xác định: {r2:.3f}\", \n",
    "         fontsize=10, \n",
    "         bbox=dict(facecolor='white', alpha=0.5))\n",
    "\n",
    "# Nhãn trục và tiêu đề\n",
    "plt.xlabel('Giá thực tế (Y_test)')\n",
    "plt.ylabel('Giá dự đoán (Y_pred)')\n",
    "plt.title('So sánh giá thực tế và giá dự đoán')\n",
    "plt.tight_layout()\n",
    "plt.savefig(\"fig1.png\")"
   ]
  },
  {
   "cell_type": "markdown",
   "metadata": {
    "slideshow": {
     "slide_type": "slide"
    }
   },
   "source": [
    "### Ứng dụng Học máy trên dữ liệu thực tế: Tìm khách hàng tiềm năng cho chiến dịch quảng cáo"
   ]
  },
  {
   "cell_type": "markdown",
   "metadata": {
    "slideshow": {
     "slide_type": "subslide"
    }
   },
   "source": [
    "**Bài toán**: \n",
    "\n",
    "Một ngân hàng muốn thực hiện chiến dịch tiếp thị qua điện thoại để mời khách hàng gửi tiết kiệm có kỳ hạn. Với ngân sách giới hạn, họ chỉ có thể gọi cho 2000 khách hàng từ danh sách 20,000 người.\n",
    "\n",
    "**Mục tiêu**: Lựa chọn 2000 khách hàng có **khả năng đồng ý cao nhất** để tối ưu hóa tỷ lệ chuyển đổi.\n",
    "\n",
    "Dữ liệu về khách hàng [ở đây](https://github.com/NCT-NEU/Sach_Khoa_hoc_du_lieu_python/blob/main/datasets/BankCustomerData_view.csv)\n",
    "\n",
    "Đây là một bài toán **phân loại nhị phân có giám sát**.\n",
    "- Biến mục tiêu term_deposit nhận giá trị 0 (không đồng ý) hoặc 1 (đồng ý).\n",
    "- Biến giải thích: Thông tin khách hàng (tuổi, nghề nghiệp, tài sản...) và lịch sử tương tác.\n",
    "- Biến mục tiêu mất cân bằng\n",
    "  - Tỷ lệ khách hàng đồng ý chỉ chiếm khoảng 9.3%\n",
    "  - Lựa chọn ngẫu nhiên 2000 khách hàng sẽ có khoảng 180 khách hàng đồng ý"
   ]
  },
  {
   "cell_type": "code",
   "execution_count": null,
   "metadata": {
    "slideshow": {
     "slide_type": "fragment"
    }
   },
   "outputs": [],
   "source": [
    "import pandas as pd                  # Xử lý dữ liệu dạng bảng\n",
    "import numpy as np                  # Xử lý số liệu\n",
    "import seaborn as sns               # Trực quan hóa nâng cao\n",
    "import matplotlib.pyplot as plt     # Trực quan hóa cơ bản\n",
    "\n",
    "path = 'https://raw.githubusercontent.com/NCT-NEU/Sach_Khoa_hoc_du_lieu_python/refs/heads/main/datasets/BankCustomerData_clean.csv'\n",
    "df = pd.read_csv(path, index_col=0, parse_dates=True)\n",
    "sns.countplot(x='term_deposit', data=df)\n",
    "plt.title('Phân phối biến mục tiêu')\n",
    "plt.savefig(\"fig1.png\")\n",
    "print(df['term_deposit'].value_counts(normalize=True))"
   ]
  },
  {
   "cell_type": "markdown",
   "metadata": {},
   "source": [
    "**Đánh giá tác động của các biến đến biến mục tiêu bằng trực quan hóa**\n",
    "- Khách đang có vay mua nhà thì ít có khả năng đồng ý hơn\n",
    "- Khách đang có khoản vay khác cũng ít có khả năng đồng ý"
   ]
  },
  {
   "cell_type": "code",
   "execution_count": null,
   "metadata": {
    "slideshow": {
     "slide_type": "subslide"
    }
   },
   "outputs": [],
   "source": [
    "import pandas as pd                  # Xử lý dữ liệu dạng bảng\n",
    "import numpy as np                  # Xử lý số liệu\n",
    "import seaborn as sns               # Trực quan hóa nâng cao\n",
    "import matplotlib.pyplot as plt     # Trực quan hóa cơ bản\n",
    "import warnings                     # Tắt cảnh báo\n",
    "warnings.filterwarnings(\"ignore\", category=UserWarning)\n",
    "\n",
    "path = 'https://raw.githubusercontent.com/NCT-NEU/Sach_Khoa_hoc_du_lieu_python/refs/heads/main/datasets/BankCustomerData_clean.csv'\n",
    "df = pd.read_csv(path, index_col=0, parse_dates=True)\n",
    "\n",
    "# Đếm số lượng theo housing/loan và term_deposit\n",
    "housing_td = df.groupby(['housing', 'term_deposit']).size().unstack(fill_value=0)\n",
    "loan_td = df.groupby(['loan', 'term_deposit']).size().unstack(fill_value=0)\n",
    "\n",
    "# Tính tỷ lệ phần trăm\n",
    "housing_td_pct = housing_td.div(housing_td.sum(axis=1), axis=0)\n",
    "loan_td_pct = loan_td.div(loan_td.sum(axis=1), axis=0)\n",
    "\n",
    "# Vẽ biểu đồ\n",
    "fig, axes = plt.subplots(1, 2, figsize=(10, 4))\n",
    "\n",
    "# BIỂU ĐỒ 1: Housing\n",
    "axes[0].barh(housing_td.index.astype(str), housing_td[0], label='Không gửi', color='lightcoral')\n",
    "axes[0].barh(housing_td.index.astype(str), -housing_td[1], label='Có gửi tiết kiệm', color='steelblue')\n",
    "\n",
    "axes[0].set_title(\"Phân bố term_deposit theo trạng thái Housing\")\n",
    "axes[0].set_ylabel(\"Housing (0 = Không vay, 1 = Có vay)\")\n",
    "axes[0].set_xlabel(\"Số lượng khách hàng\")\n",
    "axes[0].axvline(0, color='black', linewidth=0.8)\n",
    "axes[0].legend()\n",
    "axes[0].grid(axis='x', linestyle='--', alpha=0.6)\n",
    "\n",
    "# Thêm nhãn %\n",
    "for i, idx in enumerate(housing_td.index):\n",
    "    l = housing_td.loc[idx, 0]\n",
    "    r = housing_td.loc[idx, 1]\n",
    "    axes[0].text(l + 1, i, f\"{housing_td_pct.loc[idx, 0]*100:.1f}%\", va='center', ha='left')\n",
    "\n",
    "# BIỂU ĐỒ 2: Loan\n",
    "axes[1].barh(loan_td.index.astype(str), loan_td[0], label='Không gửi', color='lightcoral')\n",
    "axes[1].barh(loan_td.index.astype(str), -loan_td[1], label='Có gửi tiết kiệm', color='steelblue')\n",
    "\n",
    "axes[1].set_title(\"Phân bố term_deposit theo trạng thái Loan\")\n",
    "axes[1].set_ylabel(\"Loan (0 = Không vay, 1 = Có vay)\")\n",
    "axes[1].set_xlabel(\"Số lượng khách hàng\")\n",
    "axes[1].axvline(0, color='black', linewidth=0.8)\n",
    "axes[1].legend()\n",
    "axes[1].grid(axis='x', linestyle='--', alpha=0.6)\n",
    "\n",
    "# Thêm nhãn %\n",
    "for i, idx in enumerate(loan_td.index):\n",
    "    l = loan_td.loc[idx, 0]\n",
    "    r = loan_td.loc[idx, 1]\n",
    "    axes[1].text(l + 1, i, f\"{loan_td_pct.loc[idx, 0]*100:.1f}%\", va='center', ha='left')\n",
    "\n",
    "plt.savefig(\"fig1.png\")"
   ]
  },
  {
   "cell_type": "markdown",
   "metadata": {
    "slideshow": {
     "slide_type": "subslide"
    }
   },
   "source": [
    "**Nghề nghiệp có ảnh hưởng đến khả năng đồng ý hay không**\n",
    "- Người đã nghỉ hưu có khả năng đồng ý thế nào?\n",
    "- Sinh viên thì sao?"
   ]
  },
  {
   "cell_type": "code",
   "execution_count": null,
   "metadata": {},
   "outputs": [],
   "source": [
    "import pandas as pd                  # Xử lý dữ liệu dạng bảng\n",
    "import numpy as np                  # Xử lý số liệu\n",
    "import seaborn as sns               # Trực quan hóa nâng cao\n",
    "import matplotlib.pyplot as plt     # Trực quan hóa cơ bản\n",
    "import warnings                     # Tắt cảnh báo\n",
    "warnings.filterwarnings(\"ignore\", category=UserWarning)\n",
    "\n",
    "path = 'https://raw.githubusercontent.com/NCT-NEU/Sach_Khoa_hoc_du_lieu_python/refs/heads/main/datasets/BankCustomerData_clean.csv'\n",
    "df = pd.read_csv(path, index_col=0, parse_dates=True)\n",
    "\n",
    "# Tính số lượng khách hàng theo job và term_deposit\n",
    "job_ct = df.groupby(['job', 'term_deposit']).size().unstack(fill_value=0)\n",
    "\n",
    "# Tính tỷ lệ phần trăm đồng ý\n",
    "job_pct = job_ct.div(job_ct.sum(axis=1), axis=0)\n",
    "\n",
    "# Sắp xếp theo tổng số để biểu đồ trực quan hơn\n",
    "job_ct = job_ct.loc[job_ct.sum(axis=1).sort_values(ascending=False).index]\n",
    "job_pct = job_pct.loc[job_ct.index]\n",
    "\n",
    "# Trục x\n",
    "x = np.arange(len(job_ct))\n",
    "width = 0.6\n",
    "\n",
    "# Vẽ biểu đồ\n",
    "fig, ax = plt.subplots(figsize=(10, 4))\n",
    "\n",
    "bars1 = ax.bar(x, job_ct[0], label='Không đồng ý', color='lightcoral', width=width)\n",
    "bars2 = ax.bar(x, job_ct[1], bottom=job_ct[0], label='Đồng ý', color='steelblue', width=width)\n",
    "\n",
    "# Cài đặt trục và tiêu đề\n",
    "ax.set_xticks(x)\n",
    "ax.set_xticklabels(job_ct.index, rotation=45, ha='right')\n",
    "ax.set_ylabel(\"Số lượng khách hàng\")\n",
    "ax.set_title(\"Tỷ lệ đồng ý gửi tiết kiệm theo nhóm nghề nghiệp\")\n",
    "ax.legend()\n",
    "ax.grid(axis='y', linestyle='--', alpha=0.6)\n",
    "\n",
    "# Thêm nhãn phần trăm ở phía trên cột\n",
    "for i in range(len(x)):\n",
    "    total = job_ct.iloc[i].sum()\n",
    "    pct_yes = job_pct.iloc[i, 1] * 100\n",
    "    top = job_ct.iloc[i, 0] + job_ct.iloc[i, 1]\n",
    "    ax.text(x[i], top + 2, f\"{pct_yes:.1f}%\", ha='center', va='bottom', fontsize=9, color='black')\n",
    "\n",
    "plt.tight_layout()\n",
    "plt.savefig(\"fig1.png\")"
   ]
  },
  {
   "cell_type": "markdown",
   "metadata": {},
   "source": [
    "**Phương pháp tiếp cận khi xây dựng mô hình**\n",
    "\n",
    "- Biến mục tiêu là kiểu nhị phân →  xây dựng mô hình **phân loại**\n",
    "- Mô hình sử dụng trong bối cảnh hỗ dự đoán càng chính xác càng tốt nhưng vẫn cần phải giải thích được → xây dựng các mô hình **có tham số**\n",
    "- Các mô hình **phân loại** có thể áp dụng: Hồi quy logistic, cây quyết định, rừng ngẫu nhiên (random forest), học tăng cường (gradient boost)\n",
    "- Mô hình ưu tiên giải thích được → Hồi quy logistic kết hợp với các mô hình khác để đánh giá.\n",
    "  \n",
    "**Xây dựng mô hình Hồi quy Logistic và đánh giá**\n",
    "\n",
    "- Là một phương pháp mở rộng của hồi quy tuyến tính khi biến mục tiêu phân loại\n",
    "- Mô hình có khả năng để dự đoán xác suất một khách hàng sẽ đồng ý gửi tiết kiệm\n",
    "- So sánh hiệu quả giữa việc chọn ngẫu nhiên và chọn dựa trên mô hình.\n",
    "  - **Ngẫu nhiên**: Chọn 2000 khách hàng -> Tỷ lệ thành công ~9.3% -> Khoảng **186** người đồng ý.\n",
    "  - **Dựa trên mô hình**: Chọn 2000 khách hàng có xác suất đồng ý cao nhất, so sánh với ngẫu nhiên."
   ]
  },
  {
   "cell_type": "code",
   "execution_count": null,
   "metadata": {
    "slideshow": {
     "slide_type": "fragment"
    }
   },
   "outputs": [],
   "source": [
    "from sklearn.metrics import classification_report, confusion_matrix\n",
    "import pandas as pd\n",
    "import numpy as np\n",
    "from sklearn.model_selection import train_test_split\n",
    "import warnings                     # Tắt cảnh báo\n",
    "warnings.filterwarnings(\"ignore\", category=UserWarning)\n",
    "\n",
    "path = 'https://raw.githubusercontent.com/NCT-NEU/Sach_Khoa_hoc_du_lieu_python/refs/heads/main/datasets/BankCustomerData_clean.csv'\n",
    "df = pd.read_csv(path, index_col=0, parse_dates=True)\n",
    "\n",
    "X_train, X_test, Y_train, Y_test = train_test_split(\n",
    "    df[[\"job\", \"marital\", \"education\", \"housing\", \"loan\", \"previous\", \"campaign\",\"balance\"]], df[\"term_deposit\"], \n",
    "    random_state = 0, test_size=0.5)\n",
    "\n",
    "# Chuyển đổi biến sang kiểu one hot\n",
    "X_train_encoded = pd.get_dummies(X_train, drop_first=True)\n",
    "X_test_encoded = pd.get_dummies(X_test, drop_first=True)\n",
    "\n",
    "# Đồng bộ hóa cột giữa train/test\n",
    "X_train_encoded, X_test_encoded = X_train_encoded.align(X_test_encoded, join='left', axis=1, fill_value=0)\n",
    "\n",
    "from sklearn.linear_model import LogisticRegression\n",
    "\n",
    "# Huấn luyện mô hình\n",
    "model = LogisticRegression(max_iter = 200, class_weight='balanced')\n",
    "model.fit(X_train_encoded, Y_train)\n",
    "\n",
    "# Dự đoán\n",
    "Y_pred = model.predict(X_test_encoded)\n",
    "\n",
    "# Dự đoán xác suất đồng ý gửi tiết kiệm\n",
    "y_proba = model.predict_proba(X_test_encoded)[:, 1]\n",
    "\n",
    "# Tạo DataFrame kết quả\n",
    "df_proba = pd.DataFrame({'probability': y_proba, 'true_label': Y_test.values})\n",
    "\n",
    "# Sắp xếp theo xác suất giảm dần và chọn top 2000\n",
    "df_top2000 = df_proba.sort_values(by='probability', ascending=False).head(2000)\n",
    "\n",
    "# Số lượng khách hàng thực sự đồng ý trong top 2000\n",
    "success_count = sum(df_top2000['true_label'])\n",
    "\n",
    "print(f\"Số khách hàng đồng ý trong 2000 khách hàng (Logistic Regression): {success_count}\")\n",
    "print(f\"Tỷ lệ chuyển đổi: {success_count/2000:.1%}\")"
   ]
  },
  {
   "cell_type": "markdown",
   "metadata": {
    "slideshow": {
     "slide_type": "subslide"
    }
   },
   "source": [
    "Như vậy sẽ có 484 khách hàng đồng ý gửi tiết kiệm. Tỷ lệ đồng ý tăng từ 9.3% lên 24.7%"
   ]
  },
  {
   "cell_type": "markdown",
   "metadata": {},
   "source": [
    "## Câu hỏi ôn tập lý thuyết"
   ]
  },
  {
   "cell_type": "markdown",
   "metadata": {},
   "source": [
    "| **Khoa học dữ liệu là gì?** | |\n",
    "|---|---|\n",
    "| Một lĩnh vực chỉ tập trung vào lập trình | |\n",
    "| Lĩnh vực kết hợp toán học, khoa học máy tính và kiến thức chuyên ngành | |\n",
    "| Một ngành chỉ nghiên cứu về thống kê | |\n",
    "| Chỉ là quá trình trực quan hóa dữ liệu | |\n",
    "\n",
    "| **Thành phần nào KHÔNG thuộc quy trình khoa học dữ liệu?** | |\n",
    "|---|---|\n",
    "| Thu thập dữ liệu | |\n",
    "| Phân tích dữ liệu | |\n",
    "| Phát triển phần cứng máy tính | |\n",
    "| Trực quan hóa dữ liệu | |\n",
    "\n",
    "| **Khoa học dữ liệu trong kinh tế và kinh doanh khác Khoa học dữ liệu thông thường như thế nào?** | |\n",
    "|---|---|\n",
    "| Chỉ sử dụng dữ liệu tài chính | |\n",
    "| Tập trung vào tối ưu hóa mô hình học máy hơn | |\n",
    "| Ưu tiên giải thích, ra quyết định và hiểu bản chất kinh tế | |\n",
    "| Không cần trực quan hóa dữ liệu | |\n",
    "\n",
    "| **Lĩnh vực Kỹ thuật dữ liệu tập trung vào giải quyết bước nào trong chu trình khoa học dữ liệu?** | |\n",
    "|---|---|\n",
    "| Tập trung vào xác định, tổ chức, và thu thập dữ liệu | |\n",
    "| Trực quan hóa dữ liệu | |\n",
    "| Tất cả các bước: từ xác định vấn đề đến truyền đạt kết quả | |\n",
    "| Đánh giá mô hình học máy | |\n",
    "\n",
    "| **Kể chuyện bằng dữ liệu là kỹ năng quan trọng nhất của ai?** | |\n",
    "|---|---|\n",
    "| Lập trình viên | |\n",
    "| Chuyên gia phân tích dữ liệu | |\n",
    "| Kỹ sư phần mềm | |\n",
    "| Kỹ sư dữ liệu | |\n",
    "\n",
    "| **Học máy khác với lập trình truyền thống như thế nào?** | |\n",
    "|---|---|\n",
    "| Viết các câu lệnh phức tạp hơn hơn | |\n",
    "| Không cần dữ liệu đầu vào | |\n",
    "| Học từ dữ liệu thay vì được lập trình rõ ràng | |\n",
    "| Không cần kiểm thử | |\n",
    "\n",
    "| **Các nguồn dữ liệu phổ biến trong kinh tế và kinh doanh baop gồm?** | |\n",
    "|---|---|\n",
    "| Hệ thống ERP, CRM, dữ liệu giao dịch, dữ liệu khách hàng | |\n",
    "| Dữ liệu vật lý thiên văn | |\n",
    "| Dữ liệu gen và sinh học phân tử | |\n",
    "| Dữ liệu mạng máy tính | |\n",
    "\n",
    "| **Tại sao mô hình học máy trong kinh tế và kinh doanh lại ưu tiên khả năng giải thích?** | |\n",
    "|---|---|\n",
    "| Vì độ chính xác luôn là thấp | |\n",
    "| Vì cần tuân thủ quy định và ra quyết định có trách nhiệm | |\n",
    "| Vì không sử dụng được trong thực tế | |\n",
    "| Vì không cần dự báo | |\n",
    "\n",
    "| **Vai trò chính của nhà khoa học dữ liệu là gì?** | |\n",
    "|---|---|\n",
    "| Chỉ lập trình ứng dụng | |\n",
    "| Phân tích, trích xuất và tạo giá trị từ dữ liệu | |\n",
    "| Quản lý cơ sở hạ tầng mạng | |\n",
    "| Chỉ thiết kế giao diện người dùng | |\n",
    "\n",
    "| **Dữ liệu phi cấu trúc là gì?** | |\n",
    "|---|---|\n",
    "| Dữ liệu được tổ chức trong các bảng có hàng và cột | |\n",
    "| Dữ liệu không có cấu trúc cố định, ví dụ: văn bản, hình ảnh, video | |\n",
    "| Dữ liệu được lưu trữ trong hệ quản trị CSDL quan hệ | |\n",
    "| Dữ liệu luôn có dạng số và dễ xử lý | |\n",
    "\n",
    "| **Mục tiêu chính của học không giám sát là gì??** | |\n",
    "|---|---|\n",
    "| Dự đoán đầu ra từ dữ liệu đã gán nhãn | |\n",
    "| Tối ưu hóa phần thưởng thông qua hành động | |\n",
    "| Phân nhóm, phát hiện cấu trúc ẩn trong dữ liệu | |\n",
    "| Tăng độ chính xác của mô hình học sâu | |\n",
    "\n",
    "| **Các mô hình Học máy trong Khoa học dữ liệu được dùng để làm gì?** | |\n",
    "|---|---|\n",
    "| Tự động hóa quá trình ra quyết định dựa trên dữ liệu | |\n",
    "| Chỉ để thiết kế website | |\n",
    "| Chỉ dùng để vẽ biểu đồ dữ liệu | |\n",
    "| Tăng tốc độ truyền dữ liệu trong mạng | |\n",
    "\n",
    "| **Python được ưa chuộng trong khoa học dữ liệu vì lý do nào?** | |\n",
    "|---|---|\n",
    "| Chỉ vì cú pháp ngắn gọn | |\n",
    "| Có nhiều thư viện hỗ trợ phân tích và học máy | |\n",
    "| Không cần học thuật toán cũng lập trình được | |\n",
    "| Chỉ chạy nhanh hơn các ngôn ngữ khác | |\n",
    "\n",
    "| **Trực quan hóa dữ liệu giúp ích gì trong khoa học dữ liệu?** | |\n",
    "|---|---|\n",
    "| Giảm dung lượng lưu trữ dữ liệu | |\n",
    "| Giúp hiểu và truyền đạt thông tin từ dữ liệu một cách dễ dàng | |\n",
    "| Chỉ phục vụ mục đích làm đẹp báo cáo | |\n",
    "| Loại bỏ hoàn toàn dữ liệu nhiễu | |\n",
    "\n",
    "| **Nguồn dữ liệu nào sau đây là dữ liệu phi cấu trúc?** | |\n",
    "|---|---|\n",
    "| Bảng chấm công nhân viên | |\n",
    "| Ảnh và video từ mạng xã hội | |\n",
    "| Bảng điểm sinh viên trong Excel | |\n",
    "| Danh sách sản phẩm trong cơ sở dữ liệu quan hệ | |\n",
    "\n"
   ]
  },
  {
   "cell_type": "markdown",
   "metadata": {
    "slideshow": {
     "slide_type": "slide"
    }
   },
   "source": [
    "## Tóm tắt nội dung chính của bài giảng.\n",
    "\n",
    "-   Khoa học dữ liệu là một lĩnh vực liên ngành, áp dụng các phương pháp khoa học để trích xuất tri thức từ dữ liệu.\n",
    "-   Quy trình phân tích bao gồm nhiều bước từ xác định vấn đề, thu thập, xử lý, phân tích đến truyền đạt kết quả.\n",
    "-   Khoa học dữ liệu có 3 lĩnh vực chuyên sâu: Kỹ thuật dữ liệu, Phân tích dữ liệu, và Học máy.\n",
    "-   Kỹ thuật dữ liệu là lĩnh vực tập trung vào việc thiết kế, xây dựng và quản lý hạ tầng dữ liệu, đảm bảo dữ liệu được thu thập, lưu trữ và xử lý một cách hiệu quả và sẵn sàng cho phân tích.\n",
    "-   Phân tích dữ liệu là quá trình khám phá, trực quan hóa và diễn giải dữ liệu để rút ra thông tin có giá trị.\n",
    "-   Học máy là lĩnh vực phát triển các thuật toán cho phép máy tính học từ dữ liệu và đưa ra dự đoán.\n",
    "-   Để trở thành một nhà khoa học dữ liệu, người học cần nắm vững kiến thức và kỹ năng trong cả ba lĩnh vực chuyên sâu này.\n",
    "\n",
    "**Q&A**"
   ]
  }
 ],
 "metadata": {
  "kernelspec": {
   "display_name": "Python 3 (ipykernel)",
   "language": "python",
   "name": "python3"
  },
  "language_info": {
   "codemirror_mode": {
    "name": "ipython",
    "version": 3
   },
   "file_extension": ".py",
   "mimetype": "text/x-python",
   "name": "python",
   "nbconvert_exporter": "python",
   "pygments_lexer": "ipython3",
   "version": "3.13.2"
  }
 },
 "nbformat": 4,
 "nbformat_minor": 4
}
