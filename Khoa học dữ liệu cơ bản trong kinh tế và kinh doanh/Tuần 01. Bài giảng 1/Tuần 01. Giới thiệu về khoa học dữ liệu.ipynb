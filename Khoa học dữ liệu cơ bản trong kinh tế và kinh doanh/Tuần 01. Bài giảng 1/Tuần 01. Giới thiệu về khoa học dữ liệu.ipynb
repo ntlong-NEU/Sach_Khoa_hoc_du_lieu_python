{
 "cells": [
  {
   "cell_type": "markdown",
   "metadata": {
    "slideshow": {
     "slide_type": "slide"
    }
   },
   "source": [
    "# GIỚI THIỆU VỀ KHOA HỌC DỮ LIỆU"
   ]
  },
  {
   "cell_type": "markdown",
   "metadata": {
    "slideshow": {
     "slide_type": "slide"
    }
   },
   "source": [
    "## Phần 1: Giới thiệu các khái niệm cơ bản"
   ]
  },
  {
   "cell_type": "markdown",
   "metadata": {
    "slideshow": {
     "slide_type": "subslide"
    }
   },
   "source": [
    "### Khoa học dữ liệu (Data Science) là gì?\n",
    "\n",
    "Là một lĩnh vực liên ngành, kết hợp chặt chẽ giữa ba trụ cột chính:\n",
    "\n",
    "1.  **Toán học và Thống kê**: Nền tảng lý thuyết để xây dựng và kiểm định mô hình.\n",
    "2.  **Khoa học Máy tính**: Công cụ để xử lý, lưu trữ và tính toán trên dữ liệu ở quy mô lớn.\n",
    "3.  **Kiến thức chuyên ngành (Domain Knowledge)**: Bối cảnh để hiểu và giải quyết vấn đề thực tiễn."
   ]
  },
  {
   "cell_type": "markdown",
   "metadata": {
    "slideshow": {
     "slide_type": "subslide"
    }
   },
   "source": [
    "### Quy trình ứng dụng Khoa học Dữ liệu\n",
    "\n",
    "![Quy trình KHDL](https://raw.githubusercontent.com/NCT-NEU/Sach_Khoa_hoc_du_lieu_python/refs/heads/main/docs/intro2.png)\n",
    "\n",
    "1.  **Nhập liệu (Ingestion)**: Thu thập dữ liệu từ nhiều nguồn.\n",
    "2.  **Sắp xếp (Wrangling/Preprocessing)**: Chuyển dữ liệu thô thành định dạng mong muốn.\n",
    "3.  **Biến đổi (Transformation)**: Tính toán, tạo biến mới để chuẩn bị cho phân tích.\n",
    "4.  **Trực quan (Visualization)**: Biến dữ liệu số thành hình ảnh để dễ hiểu, dễ phân tích.\n",
    "5.  **Xây dựng mô hình (Modeling)**: Tìm mối liên hệ, dự đoán giá trị mục tiêu."
   ]
  },
  {
   "cell_type": "markdown",
   "metadata": {
    "slideshow": {
     "slide_type": "subslide"
    }
   },
   "source": [
    "### Phân biệt: Phân tích dữ liệu và Khoa học dữ liệu\n",
    "\n",
    "-   **Phân tích dữ liệu (Data Analysis)**: Là một phần của KHDL, tập trung vào việc **phát hiện giá trị, mối liên hệ** trong dữ liệu để hiểu quá khứ và định hướng tương lai.\n",
    "    -   *Phân tích mô tả*: Chuyện gì đã xảy ra?\n",
    "    -   *Phân tích chẩn đoán*: Tại sao nó xảy ra?\n",
    "    -   *Phân tích dự đoán*: Chuyện gì có thể xảy ra?\n",
    "    -   *Phân tích đề xuất*: Chúng ta nên làm gì?\n",
    "\n",
    "-   **Khoa học dữ liệu (Data Science)**: Lĩnh vực rộng hơn, bao gồm cả phân tích, xây dựng mô hình dự đoán phức tạp, phát triển thuật toán, và **tự động hóa quy trình** ra quyết định."
   ]
  },
  {
   "cell_type": "markdown",
   "metadata": {
    "slideshow": {
     "slide_type": "subslide"
    }
   },
   "source": [
    "### Các vai trò trong hệ sinh thái dữ liệu\n",
    "\n",
    "-   **Kỹ sư dữ liệu (Data Engineer)**: Xây dựng và duy trì kiến trúc, pipeline dữ liệu.\n",
    "-   **Chuyên viên phân tích dữ liệu (Data Analyst)**: Diễn giải dữ liệu, khám phá xu hướng, tạo báo cáo/dashboard.\n",
    "-   **Nhà khoa học dữ liệu (Data Scientist)**: Xây dựng các mô hình dự đoán (học máy, học sâu).\n",
    "-   **Chuyên viên phân tích nghiệp vụ (Business Analyst)**: Sử dụng kết quả phân tích để đưa ra khuyến nghị chiến lược kinh doanh."
   ]
  },
  {
   "cell_type": "markdown",
   "metadata": {
    "slideshow": {
     "slide_type": "subslide"
    }
   },
   "source": [
    "### Dữ liệu là gì?\n",
    "\n",
    "Là thông tin chưa được xử lý, tồn tại ở dạng thô. Dữ liệu là tập hợp các sự kiện, quan sát, con số, ký tự, hình ảnh.\n",
    "\n",
    "**Phân loại theo cấu trúc:**\n",
    "-   **Dữ liệu có cấu trúc (Structured)**: Có định dạng rõ ràng, dạng bảng (SQL, Excel).\n",
    "-   **Dữ liệu bán cấu trúc (Semi-structured)**: Có một số đặc điểm tổ chức nhưng không theo lược đồ cố định (Email, XML, JSON).\n",
    "-   **Dữ liệu phi cấu trúc (Unstructured)**: Không có định dạng cụ thể (Trang web, mạng xã hội, hình ảnh, video, văn bản)."
   ]
  },
  {
   "cell_type": "markdown",
   "metadata": {
    "slideshow": {
     "slide_type": "subslide"
    }
   },
   "source": [
    "### Công nghệ và Ngôn ngữ cho chuyên gia dữ liệu\n",
    "\n",
    "**Kho lưu trữ dữ liệu:**\n",
    "-   *Cơ sở dữ liệu quan hệ (SQL)*: MySQL, PostgreSQL.\n",
    "-   *Cơ sở dữ liệu phi quan hệ (NoSQL)*: MongoDB (dạng tài liệu), Redis (key-value), Neo4j (đồ thị).\n",
    "-   *Kho dữ liệu (Data Warehouse), Hồ dữ liệu (Data Lake)*.\n",
    "\n",
    "**Ngôn ngữ phổ biến:**\n",
    "-   *Ngôn ngữ truy vấn*: **SQL**.\n",
    "-   *Ngôn ngữ lập trình*: **Python**, **R**.\n",
    "-   *Ngôn ngữ shell/script*: Unix/Linux Shell, PowerShell."
   ]
  },
  {
   "cell_type": "markdown",
   "metadata": {
    "slideshow": {
     "slide_type": "slide"
    }
   },
   "source": [
    "## Chương 2: Nguyên lý Phân tích Dữ liệu"
   ]
  },
  {
   "cell_type": "markdown",
   "metadata": {
    "slideshow": {
     "slide_type": "subslide"
    }
   },
   "source": [
    "### Vòng đời Phân tích Dữ liệu\n",
    "\n",
    "1.  **Xác định dữ liệu cần phân tích**: Đặt câu hỏi, xác định mục tiêu.\n",
    "2.  **Thu thập và Nhập dữ liệu**: Lấy dữ liệu từ các nguồn.\n",
    "3.  **Xử lý dữ liệu (Làm sạch & Biến đổi)**: Chuẩn bị dữ liệu cho phân tích.\n",
    "4.  **Phân tích dữ liệu**: Áp dụng thống kê, khai phá để tìm ra insight.\n",
    "5.  **Truyền đạt kết quả**: Trực quan hóa, kể chuyện bằng dữ liệu."
   ]
  },
  {
   "cell_type": "markdown",
   "metadata": {
    "slideshow": {
     "slide_type": "subslide"
    }
   },
   "source": [
    "### Bước 1 & 2: Xác định và Thu thập dữ liệu\n",
    "\n",
    "**Các bước xác định:**\n",
    "-   Làm rõ loại thông tin cần thu thập (dựa vào mục tiêu).\n",
    "-   Lập kế hoạch thu thập (thời gian, số lượng).\n",
    "-   Lựa chọn phương pháp thu thập (SQL, API, Web Scraping).\n",
    "\n",
    "**Những lưu ý quan trọng:**\n",
    "-   **Chất lượng dữ liệu**: Phải đúng đắn, đầy đủ, phù hợp, không lỗi.\n",
    "-   **Quản trị dữ liệu (Data Governance)**: Tuân thủ pháp lý, bảo mật, và quyền riêng tư."
   ]
  },
  {
   "cell_type": "markdown",
   "metadata": {
    "slideshow": {
     "slide_type": "subslide"
    }
   },
   "source": [
    "### Các nguồn dữ liệu\n",
    "\n",
    "-   **Dữ liệu sơ cấp (Primary Data)**: Tự thu thập trực tiếp (từ hệ thống CRM, khảo sát, phỏng vấn).\n",
    "-   **Dữ liệu thứ cấp (Secondary Data)**: Trích xuất từ các nguồn có sẵn (bài báo, Internet, báo cáo tài chính).\n",
    "-   **Dữ liệu từ bên thứ ba (Third-party Data)**: Mua từ các nhà cung cấp chuyên nghiệp.\n",
    "\n",
    "**Nguồn phổ biến:** Cơ sở dữ liệu, Điện toán đám mây, Internet, Thiết bị cảm biến (IoT), Khảo sát."
   ]
  },
  {
   "cell_type": "markdown",
   "metadata": {
    "slideshow": {
     "slide_type": "subslide"
    }
   },
   "source": [
    "### Bước 3: Xử lý dữ liệu (Data Wrangling)\n",
    "\n",
    "Là quy trình lặp đi lặp lại nhằm khám phá, biến đổi, kiểm định và chuẩn bị dữ liệu thô.\n",
    "\n",
    "**Các giai đoạn chính:**\n",
    "-   **Khai phá (Exploring)**: Hiểu đặc điểm dữ liệu.\n",
    "-   **Biến đổi (Transforming)**:\n",
    "    -   *Cấu trúc lại (Restructuring)*: Join, Union để hợp nhất dữ liệu.\n",
    "    -   *Chuẩn hóa (Normalizing)*: Loại bỏ dư thừa, đảm bảo nhất quán.\n",
    "    -   *Làm sạch (Cleaning)*: Xử lý lỗi, giá trị thiếu, bất thường.\n",
    "    -   *Làm giàu (Enriching)*: Bổ sung các đặc trưng mới để tăng giá trị phân tích.\n",
    "-   **Kiểm định (Validating)**: Đánh giá chất lượng dữ liệu sau xử lý.\n",
    "-   **Công bố (Publishing)**: Phân phối dữ liệu đã xử lý cho các bước tiếp theo."
   ]
  },
  {
   "cell_type": "markdown",
   "metadata": {
    "slideshow": {
     "slide_type": "subslide"
    }
   },
   "source": [
    "### Công cụ xử lý dữ liệu\n",
    "\n",
    "-   **Bảng tính**: Microsoft Excel, Google Sheets.\n",
    "-   **Python**: Thư viện **Pandas** (cho dữ liệu dạng bảng), **NumPy** (cho dữ liệu số).\n",
    "-   **R**: Gói thư viện **dplyr**, **data.table**.\n",
    "-   **OpenRefine**: Phần mềm mã nguồn mở để làm sạch, cấu trúc lại dữ liệu.\n",
    "-   **Google DataPrep**: Dịch vụ đám mây thông minh để khám phá, làm sạch dữ liệu."
   ]
  },
  {
   "cell_type": "markdown",
   "metadata": {
    "slideshow": {
     "slide_type": "subslide"
    }
   },
   "source": [
    "### Bước 4 & 5: Phân tích và Truyền đạt kết quả\n",
    "\n",
    "**Phân tích dữ liệu:**\n",
    "-   Sử dụng **Phân tích thống kê** và **Khai phá dữ liệu (Data Mining)** để tìm ra các insight.\n",
    "-   Tích hợp các phương pháp để có cái nhìn toàn diện.\n",
    "\n",
    "**Truyền đạt kết quả - Kể chuyện bằng dữ liệu (Data Storytelling):**\n",
    "-   **Xác định đối tượng và mục tiêu**: Ai là người nghe? Điều gì quan trọng với họ?\n",
    "-   **Cấu trúc bài trình bày**: Logic, minh bạch về nguồn và phương pháp để xây dựng độ tin cậy.\n",
    "-   **Trực quan hóa dữ liệu (Data Visualization)**: Sử dụng biểu đồ (thanh, tròn, đường, cột...) để làm thông tin trở nên sống động và dễ hiểu. *Một biểu đồ tốt có thể thay thế hàng ngàn từ ngữ*."
   ]
  },
  {
   "cell_type": "markdown",
   "metadata": {
    "slideshow": {
     "slide_type": "slide"
    }
   },
   "source": [
    "## Chương 3: Khung phương pháp xây dựng mô hình"
   ]
  },
  {
   "cell_type": "markdown",
   "metadata": {
    "slideshow": {
     "slide_type": "subslide"
    }
   },
   "source": [
    "### Giới thiệu chung về xây dựng mô hình\n",
    "\n",
    "-   **Học máy (Machine Learning)**: Lĩnh vực trích xuất tri thức từ dữ liệu thông qua các thuật toán và mô hình toán học.\n",
    "\n",
    "-   **Tại sao cần Học máy?**\n",
    "    -   Các hệ thống dựa trên luật (rule-based) như `if-else` có nhiều hạn chế: cứng nhắc, khó mở rộng, phụ thuộc tri thức chuyên gia.\n",
    "    -   Học máy cho phép hệ thống **tự động học** các quy luật và đặc trưng từ dữ liệu, giúp linh hoạt và thích ứng tốt hơn.\n",
    "\n",
    "-   **Các loại bài toán Học máy:**\n",
    "    -   **Học có giám sát (Supervised Learning)**: Dữ liệu đầu vào có gán nhãn (đầu ra mong muốn). Mục tiêu là dự đoán đầu ra cho dữ liệu mới. (VD: phân loại thư rác, dự đoán giá nhà).\n",
    "    -   **Học không giám sát (Unsupervised Learning)**: Dữ liệu đầu vào không có nhãn. Mục tiêu là khám phá cấu trúc ẩn trong dữ liệu. (VD: phân nhóm khách hàng, phát hiện bất thường)."
   ]
  },
  {
   "cell_type": "markdown",
   "metadata": {
    "slideshow": {
     "slide_type": "subslide"
    }
   },
   "source": [
    "### Học máy trong Kinh tế và Kinh doanh\n",
    "\n",
    "**Ví dụ:** Một công ty muốn phân tích tác động của chi phí quảng cáo (TV, Mạng xã hội, Tờ rơi) đến doanh thu bán hàng.\n",
    "\n",
    "**Câu hỏi:**\n",
    "1.  Mối liên hệ giữa chi phí quảng cáo và doanh thu mạnh đến mức nào?\n",
    "2.  Phương tiện nào đóng góp nhiều nhất?\n",
    "3.  Tác động có tuyến tính không?\n",
    "4.  Có sự tương tác giữa các loại hình quảng cáo không?"
   ]
  },
  {
   "cell_type": "markdown",
   "metadata": {
    "slideshow": {
     "slide_type": "subslide"
    }
   },
   "source": [
    "### Trực quan hóa mối quan hệ giữa chi phí quảng cáo và doanh thu"
   ]
  },
  {
   "cell_type": "code",
   "execution_count": 1,
   "metadata": {
    "slideshow": {
     "slide_type": "fragment"
    }
   },
   "outputs": [
    {
     "data": {
      "image/png": "[encoded data removed]",
      "text/plain": [
       "<Figure size 900x300 with 3 Axes>"
      ]
     },
     "metadata": {},
     "output_type": "display_data"
    }
   ],
   "source": [
    "import pandas as pd\n",
    "import numpy as np\n",
    "import seaborn as sns\n",
    "import matplotlib.pyplot as plt\n",
    "import warnings\n",
    "warnings.filterwarnings(\"ignore\", category=UserWarning)\n",
    "\n",
    "path = 'https://raw.githubusercontent.com/nguyenquanghuy85/Khdl-ktkd-python/refs/heads/main/Sales%20dataset.csv'\n",
    "df = pd.read_csv(path, index_col=0, parse_dates=True)\n",
    "\n",
    "fig = plt.figure(figsize=(9, 3))\n",
    "\n",
    "ax1 = fig.add_subplot(1, 3, 1)\n",
    "ax1 = sns.regplot(x=\"TV\", y=\"Sales\", data= df)\n",
    "\n",
    "ax2 = fig.add_subplot(1, 3, 2)\n",
    "ax2 = sns.regplot(y=\"Sales\", x=\"Social_Media\", data= df)\n",
    "\n",
    "ax3 = fig.add_subplot(1, 3, 3)\n",
    "ax3 = sns.regplot(y=\"Sales\", x=\"Flyer\", data= df)\n",
    "fig.suptitle('Tác động của các loại chi phí quảng cáo đến doanh thu bán hàng')\n",
    "\n",
    "plt.tight_layout() \n",
    "plt.show()"
   ]
  },
  {
   "cell_type": "markdown",
   "metadata": {
    "slideshow": {
     "slide_type": "subslide"
    }
   },
   "source": [
    "### Trực quan hóa sự tác động qua lại giữa các loại chi phí quảng cáo"
   ]
  },
  {
   "cell_type": "code",
   "execution_count": null,
   "metadata": {
    "slideshow": {
     "slide_type": "fragment"
    }
   },
   "outputs": [],
   "source": [
    "fig = plt.figure(figsize=(9, 3))\n",
    "\n",
    "ax1 = fig.add_subplot(1, 3, 1)\n",
    "ax1 = sns.regplot(x=\"TV\", y=\"Flyer\", data= df)\n",
    "\n",
    "ax2 = fig.add_subplot(1, 3, 2)\n",
    "ax2 = sns.regplot(x=\"Flyer\", y=\"Social_Media\", data= df)\n",
    "\n",
    "ax3 = fig.add_subplot(1, 3, 3)\n",
    "ax3 = sns.regplot(x=\"Social_Media\", y=\"TV\", data= df)\n",
    "fig.suptitle('Tác động của qua lại của các loại chi phí quảng cáo')\n",
    "\n",
    "plt.tight_layout()  # ✅ tránh chồng chữ trục\n",
    "plt.show()"
   ]
  },
  {
   "cell_type": "markdown",
   "metadata": {
    "slideshow": {
     "slide_type": "subslide"
    }
   },
   "source": [
    "### Mô hình hóa bài toán\n",
    "\n",
    "Để trả lời các câu hỏi, chúng ta cần xây dựng một mô hình toán học. Về bản chất, đây là một hàm số $f$ mô tả mối liên hệ:\n",
    "\n",
    "$$ \\text{Sales} = f(\\text{TV}, \\text{SocialMedia}, \\text{Flyer}) + \\epsilon $$\n",
    "\n",
    "-   `Sales`: biến phụ thuộc (đầu ra).\n",
    "-   `TV`, `SocialMedia`, `Flyer`: biến giải thích (đầu vào).\n",
    "-   $\\epsilon$: sai số ngẫu nhiên không thể giải thích được.\n",
    "\n",
    "**Mục tiêu**: Ước lượng hàm $f$ từ dữ liệu quan sát được."
   ]
  },
  {
   "cell_type": "markdown",
   "metadata": {
    "slideshow": {
     "slide_type": "slide"
    }
   },
   "source": [
    "### Ứng dụng thực tế 1: Phân loại các loài hoa Iris"
   ]
  },
  {
   "cell_type": "markdown",
   "metadata": {
    "slideshow": {
     "slide_type": "subslide"
    }
   },
   "source": [
    "**Bài toán**: Xây dựng mô hình dự đoán loài hoa *Iris* (setosa, versicolor, virginica) dựa trên các đặc trưng:\n",
    "-   Chiều dài và chiều rộng cánh hoa (petal length & width).\n",
    "-   Chiều dài và chiều rộng đài hoa (sepal length & width).\n",
    "\n",
    "Đây là một bài toán **phân loại có giám sát** (Supervised Classification).\n",
    "\n",
    "#### Làm quen với dữ liệu"
   ]
  },
  {
   "cell_type": "code",
   "execution_count": null,
   "metadata": {
    "slideshow": {
     "slide_type": "fragment"
    }
   },
   "outputs": [],
   "source": [
    "from sklearn.datasets import load_iris\n",
    "import pandas as pd\n",
    "\n",
    "# Tải dữ liệu iris\n",
    "iris_dataset = load_iris()\n",
    "\n",
    "# Tạo DataFrame từ dữ liệu và tên cột\n",
    "df = pd.DataFrame(data=iris_dataset.data, columns=iris_dataset.feature_names)\n",
    "\n",
    "# Thêm cột target (nhãn loài)\n",
    "df[\"target\"] = iris_dataset.target\n",
    "\n",
    "# (Tùy chọn) Thêm tên loài (setosa, versicolor, virginica)\n",
    "df[\"species\"] = pd.Categorical.from_codes(iris_dataset.target, iris_dataset.target_names)\n",
    "\n",
    "# Xem dữ liệu\n",
    "df.head()"
   ]
  },
  {
   "cell_type": "markdown",
   "metadata": {
    "slideshow": {
     "slide_type": "subslide"
    }
   },
   "source": [
    "#### Dữ liệu Huấn luyện và Kiểm tra\n",
    "\n",
    "Để đánh giá khách quan hiệu suất của mô hình, ta cần chia dữ liệu thành 2 phần:\n",
    "-   **Tập huấn luyện (Training Set)**: Dùng để xây dựng mô hình.\n",
    "-   **Tập kiểm tra (Test Set)**: Dùng để đánh giá mô hình trên dữ liệu nó chưa từng thấy.\n",
    "\n",
    "Sử dụng hàm `train_test_split` của `scikit-learn`."
   ]
  },
  {
   "cell_type": "code",
   "execution_count": null,
   "metadata": {
    "slideshow": {
     "slide_type": "fragment"
    }
   },
   "outputs": [],
   "source": [
    "from sklearn.model_selection import train_test_split\n",
    "\n",
    "X_train, X_test, Y_train, Y_test = train_test_split(\n",
    "    df[[\"sepal length (cm)\", \"sepal width (cm)\", \"petal length (cm)\", \"petal width (cm)\"]], df['species'], \n",
    "    random_state = 10, test_size=0.3)"
   ]
  },
  {
   "cell_type": "code",
   "execution_count": null,
   "metadata": {
    "slideshow": {
     "slide_type": "fragment"
    }
   },
   "outputs": [],
   "source": [
    "print(\"Hình dạng X_train: {}\".format(X_train.shape))\n",
    "print(\"Hình dạng Y_train: {}\".format(Y_train.shape))"
   ]
  },
  {
   "cell_type": "code",
   "execution_count": null,
   "metadata": {
    "slideshow": {
     "slide_type": "fragment"
    }
   },
   "outputs": [],
   "source": [
    "print(\"Hình dạng X_test: {}\".format(X_test.shape))\n",
    "print(\"Hình dạng Y_test: {}\".format(Y_test.shape))"
   ]
  },
  {
   "cell_type": "markdown",
   "metadata": {
    "slideshow": {
     "slide_type": "subslide"
    }
   },
   "source": [
    "#### Phân tích dữ liệu khám phá (EDA)\n",
    "\n",
    "Trước khi xây dựng mô hình, cần kiểm tra và khám phá dữ liệu để:\n",
    "-   Hiểu cấu trúc và mối quan hệ giữa các biến.\n",
    "-   Phát hiện các điểm bất thường hoặc sai lệch.\n",
    "\n",
    "Một trong những công cụ hiệu quả nhất là **trực quan hóa**."
   ]
  },
  {
   "cell_type": "code",
   "execution_count": null,
   "metadata": {
    "slideshow": {
     "slide_type": "fragment"
    }
   },
   "outputs": [],
   "source": [
    "import seaborn as sns\n",
    "import matplotlib.pyplot as plt\n",
    "\n",
    "# Thống kê mô tả theo loài\n",
    "display(X_train.groupby(Y_train).agg([\"mean\", \"std\", \"min\", \"max\"]))\n",
    "\n",
    "# Phân phối các loài\n",
    "display(Y_train.describe())"
   ]
  },
  {
   "cell_type": "markdown",
   "metadata": {
    "slideshow": {
     "slide_type": "subslide"
    }
   },
   "source": [
    "#### Biểu đồ phân tán để xem xét mối quan hệ"
   ]
  },
  {
   "cell_type": "code",
   "execution_count": null,
   "metadata": {
    "slideshow": {
     "slide_type": "fragment"
    }
   },
   "outputs": [],
   "source": [
    "sns.scatterplot(\n",
    "    data= X_train,\n",
    "    x=\"petal length (cm)\",\n",
    "    y=\"petal width (cm)\",\n",
    "    hue = Y_train,  \n",
    "    palette = \"Set1\", \n",
    "    s = 100,  # size điểm\n",
    "    edgecolor='k'\n",
    ")\n",
    "\n",
    "plt.title(\"Biểu đồ phân tán Petal Length vs. Petal Width theo loại hoa\")\n",
    "plt.show()"
   ]
  },
  {
   "cell_type": "markdown",
   "metadata": {
    "slideshow": {
     "slide_type": "subslide"
    }
   },
   "source": [
    "#### Mô hình 1: k-Láng giềng gần nhất (k-Nearest Neighbors)\n",
    "\n",
    "**Ý tưởng**: Dự đoán nhãn của một điểm dữ liệu mới bằng cách tìm các điểm trong tập huấn luyện gần nhất với nó, và gán nhãn của đa số các điểm gần nhất làm kết quả.\n",
    "\n",
    "-   **Huấn luyện**: Chỉ đơn giản là lưu trữ toàn bộ tập dữ liệu huấn luyện.\n",
    "-   **Dự đoán**: Tìm k điểm gần nhất và bỏ phiếu."
   ]
  },
  {
   "cell_type": "code",
   "execution_count": null,
   "metadata": {
    "slideshow": {
     "slide_type": "fragment"
    }
   },
   "outputs": [],
   "source": [
    "from sklearn.neighbors import KNeighborsClassifier\n",
    "knn = KNeighborsClassifier(n_neighbors=3)"
   ]
  },
  {
   "cell_type": "code",
   "execution_count": null,
   "metadata": {
    "slideshow": {
     "slide_type": "fragment"
    }
   },
   "outputs": [],
   "source": [
    "knn.fit(X_train, Y_train)"
   ]
  },
  {
   "cell_type": "markdown",
   "metadata": {
    "slideshow": {
     "slide_type": "subslide"
    }
   },
   "source": [
    "#### Đưa ra dự đoán và đánh giá mô hình\n",
    "\n",
    "Sử dụng tập kiểm tra (`X_test`) để đánh giá độ chính xác của mô hình."
   ]
  },
  {
   "cell_type": "code",
   "execution_count": null,
   "metadata": {
    "slideshow": {
     "slide_type": "fragment"
    }
   },
   "outputs": [],
   "source": [
    "# Tạo một mẫu dữ liệu mới để dự đoán\n",
    "X_new = np.array([[5, 2.9, 1, 0.2]])\n",
    "prediction = knn.predict(X_new)\n",
    "print(\"Dự đoán cho mẫu mới: {}\".format(prediction))"
   ]
  },
  {
   "cell_type": "code",
   "execution_count": null,
   "metadata": {
    "slideshow": {
     "slide_type": "fragment"
    }
   },
   "outputs": [],
   "source": [
    "# Đánh giá trên tập kiểm tra\n",
    "Y_pred = knn.predict(X_test)\n",
    "print(\"Dự đoán tập kiểm tra:\\n {}\".format(Y_pred))"
   ]
  },
  {
   "cell_type": "code",
   "execution_count": null,
   "metadata": {
    "slideshow": {
     "slide_type": "fragment"
    }
   },
   "outputs": [],
   "source": [
    "# Tính độ chính xác\n",
    "print(\"Điểm tập kiểm tra: {:.2f}\".format(np.mean(Y_pred == Y_test)))"
   ]
  },
  {
   "cell_type": "code",
   "execution_count": null,
   "metadata": {
    "slideshow": {
     "slide_type": "fragment"
    }
   },
   "outputs": [],
   "source": [
    "# Hoặc dùng phương thức score\n",
    "print(\"Điểm tập kiểm tra: {:.2f}\".format(knn.score(X_test, Y_test)))"
   ]
  },
  {
   "cell_type": "markdown",
   "metadata": {
    "slideshow": {
     "slide_type": "subslide"
    }
   },
   "source": [
    "#### Mô hình 2: Cây quyết định (Decision Tree)\n",
    "\n",
    "**Ý tưởng**: Xây dựng một tập hợp các quy tắc phân tách dữ liệu dưới dạng cây để đưa ra quyết định.\n",
    "\n",
    "Chúng ta sẽ xây dựng một cây quyết định với độ sâu tối đa là 2."
   ]
  },
  {
   "cell_type": "code",
   "execution_count": null,
   "metadata": {
    "slideshow": {
     "slide_type": "fragment"
    }
   },
   "outputs": [],
   "source": [
    "from sklearn.tree import DecisionTreeClassifier\n",
    "\n",
    "# Khởi tạo mô hình cây quyết định với độ sâu tối đa là 2\n",
    "tree = DecisionTreeClassifier(max_depth=2)\n",
    "tree.fit(X_train, Y_train)\n",
    "\n",
    "# Đánh giá mô hình\n",
    "print(\"Điểm tập kiểm tra: {:.2f}\".format(tree.score(X_test, Y_test)))"
   ]
  },
  {
   "cell_type": "markdown",
   "metadata": {
    "slideshow": {
     "slide_type": "slide"
    }
   },
   "source": [
    "### Ứng dụng thực tế 2: Dự đoán giá bất động sản tại Hà Nội"
   ]
  },
  {
   "cell_type": "markdown",
   "metadata": {
    "slideshow": {
     "slide_type": "subslide"
    }
   },
   "source": [
    "**Bài toán**: Xây dựng mô hình dự đoán giá nhà (triệu đồng/m²) tại Hà Nội dựa trên các đặc trưng:\n",
    "-   Vị trí (Quận, Huyện).\n",
    "-   Tính chất nhà ở (Loại hình, số tầng, số phòng ngủ, diện tích...).\n",
    "-   Pháp lý (Giấy tờ).\n",
    "\n",
    "Đây là một bài toán **hồi quy có giám sát** (Supervised Regression).\n",
    "\n",
    "#### Dữ liệu thô ban đầu"
   ]
  },
  {
   "cell_type": "code",
   "execution_count": null,
   "metadata": {
    "slideshow": {
     "slide_type": "fragment"
    }
   },
   "outputs": [],
   "source": [
    "path = 'https://raw.githubusercontent.com/nguyenquanghuy85/Khdl-ktkd-python/main/HN_housing_price_raw.csv'\n",
    "df_raw = pd.read_csv(path, index_col=0, parse_dates=True)\n",
    "display(df_raw.head())"
   ]
  },
  {
   "cell_type": "markdown",
   "metadata": {
    "slideshow": {
     "slide_type": "subslide"
    }
   },
   "source": [
    "#### Phân tích khai phá & Tiền xử lý\n",
    "\n",
    "Dữ liệu thực tế thường không hoàn hảo. Cần các bước làm sạch và chuẩn hóa.\n",
    "\n",
    "**Ví dụ**: Cột `Giá/m2` đang ở dạng chuỗi ký tự và có nhiều đơn vị khác nhau.\n",
    "-   Tách giá trị số và đơn vị.\n",
    "-   Chuẩn hóa về cùng một đơn vị (triệu đồng/m²)."
   ]
  },
  {
   "cell_type": "code",
   "execution_count": null,
   "metadata": {
    "slideshow": {
     "slide_type": "fragment"
    }
   },
   "outputs": [],
   "source": [
    "# Tách cột giá nhà thành 2 cột price_value và price_unit\n",
    "df_raw[[\"price_value\", \"price_unit\"]] = df_raw[\"Giá/m2\"].str.extract(r\"([\\\\d.,]+)\\\\s*(.*)\")\n",
    "\n",
    "# Chuyển đổi định dạng số\n",
    "df_raw[\"price_value\"] = (\n",
    "    df_raw[\"price_value\"]\n",
    "    .astype(str)                     # Đảm bảo là chuỗi\n",
    "    .str.replace(\".\", \"\", regex=False)\n",
    "    .str.replace(\",\", \".\", regex=False)\n",
    "    .astype(float)                   # Chuyển sang số thực\n",
    ")\n",
    "\n",
    "# Hàm số dùng để chuyển đổi đơn vị\n",
    "def normalize_price(value, unit):\n",
    "    if unit == \"triệu/m²\":\n",
    "        return value\n",
    "    elif unit == \"đ/m²\":\n",
    "        return value / 10**6\n",
    "    elif unit == \"tỷ/m²\":\n",
    "        return value * 10**3\n",
    "    else:\n",
    "        return None\n",
    "\n",
    "# Áp dụng cho dữ liệu giá nhà\n",
    "df_raw[\"price_value\"] = df_raw.apply(\n",
    "    lambda row: normalize_price(row[\"price_value\"], row[\"price_unit\"]), axis=1\n",
    ")\n",
    "\n",
    "# Xem lại các mô tả thống kê cho biến price_value\n",
    "df_raw[\"price_value\"].describe()"
   ]
  },
  {
   "cell_type": "markdown",
   "metadata": {
    "slideshow": {
     "slide_type": "subslide"
    }
   },
   "source": [
    "#### Trực quan hóa dữ liệu đã làm sạch\n",
    "\n",
    "Sau khi làm sạch, ta có thể khám phá mối quan hệ giữa các đặc trưng và giá nhà."
   ]
  },
  {
   "cell_type": "code",
   "execution_count": null,
   "metadata": {
    "slideshow": {
     "slide_type": "fragment"
    }
   },
   "outputs": [],
   "source": [
    "path = 'https://raw.githubusercontent.com/nguyenquanghuy85/Khdl-ktkd-python/main/HN_housing_price_clean.csv'\n",
    "df_clean = pd.read_csv(path, index_col=0, parse_dates=True)\n",
    "display(df_clean.head())"
   ]
  },
  {
   "cell_type": "code",
   "execution_count": null,
   "metadata": {
    "slideshow": {
     "slide_type": "fragment"
    }
   },
   "outputs": [],
   "source": [
    "df1 = df_clean.copy()\n",
    "\n",
    "# Sắp xếp các quận theo giá trung bình\n",
    "df1['Quận'] = pd.Categorical(df1['Quận'], \n",
    "                             categories=df1.groupby('Quận')['Giá/m2'].mean().sort_values().index,\n",
    "                             ordered=True)\n",
    "\n",
    "# Vẽ boxplot theo Quận\n",
    "plt.figure(figsize=(10, 6))\n",
    "sns.boxplot(x='Quận', y='Giá/m2', data=df1, color = \"#00A7F0\")\n",
    "plt.xticks(rotation=90)\n",
    "plt.ylim(-10, 650)\n",
    "plt.title('Phân phối giá nhà theo Quận')\n",
    "plt.tight_layout()\n",
    "plt.show()"
   ]
  },
  {
   "cell_type": "code",
   "execution_count": null,
   "metadata": {
    "slideshow": {
     "slide_type": "fragment"
    }
   },
   "outputs": [],
   "source": [
    "# Sắp xếp theo số tầng\n",
    "df1['Số tầng'] = pd.Categorical(df1['Số tầng'], \n",
    "                            categories=df1.groupby('Số tầng')['Giá/m2'].mean().sort_values().index,\n",
    "                            ordered=True)\n",
    "\n",
    "# Vẽ boxplot theo Số tầng\n",
    "plt.figure(figsize=(10, 6))\n",
    "sns.boxplot(x='Số tầng', y='Giá/m2', data=df1, color = \"#00A7F0\")\n",
    "plt.ylim(-10, 650)\n",
    "plt.title('Phân phối giá nhà theo Số tầng')\n",
    "plt.tight_layout()\n",
    "plt.show()"
   ]
  },
  {
   "cell_type": "markdown",
   "metadata": {
    "slideshow": {
     "slide_type": "subslide"
    }
   },
   "source": [
    "#### Xây dựng mô hình Rừng ngẫu nhiên (Random Forest)\n",
    "\n",
    "**Ý tưởng**: Xây dựng nhiều cây quyết định độc lập và lấy trung bình kết quả dự đoán để giảm sai số và tránh khớp quá mức (overfitting).\n",
    "\n",
    "-   **Chia dữ liệu**: Train/Test\n",
    "-   **Mã hóa biến phân loại**: One-Hot Encoding.\n",
    "-   **Huấn luyện mô hình**."
   ]
  },
  {
   "cell_type": "code",
   "execution_count": null,
   "metadata": {
    "slideshow": {
     "slide_type": "fragment"
    }
   },
   "outputs": [],
   "source": [
    "df_model = df_clean.copy()\n",
    "# Thống nhất các biến kiểu số\n",
    "num_vars = [\"Diện tích\", \"Dài\",\t\"Rộng\", \"Giá/m2\"]\n",
    "for var in num_vars:\n",
    "    df_model[var] = df_model[var].astype('float')\n",
    "    \n",
    "X_train, X_test, Y_train, Y_test = train_test_split(\n",
    "    df_model[[\"Quận\", \"Huyện\", \"Loại hình nhà ở\", \"Giấy tờ pháp lý\",\"Số tầng\",\"Số phòng ngủ\",\"Diện tích\", \"Dài\",\"Rộng\"]], df_model[\"Giá/m2\"], \n",
    "    random_state = 0, test_size=0.3)\n",
    "\n",
    "# Chuyển đổi biến sang kiểu one hot\n",
    "X_train_encoded = pd.get_dummies(X_train, drop_first=True)\n",
    "X_test_encoded = pd.get_dummies(X_test, drop_first=True)\n",
    "\n",
    "# Đồng bộ hóa cột giữa train/test\n",
    "X_train_encoded, X_test_encoded = X_train_encoded.align(X_test_encoded, join='left', axis=1, fill_value=0)"
   ]
  },
  {
   "cell_type": "code",
   "execution_count": null,
   "metadata": {
    "slideshow": {
     "slide_type": "fragment"
    }
   },
   "outputs": [],
   "source": [
    "from sklearn.ensemble import RandomForestRegressor\n",
    "\n",
    "# Khởi tạo mô hình Random Forest\n",
    "rf_model = RandomForestRegressor(\n",
    "    n_estimators = 2000,      # số lượng cây\n",
    "    max_depth = 50,        # độ sâu tối đa\n",
    "    max_features = 9,        # số lượng đặc trưng của mỗi cây quyết định\n",
    "    random_state = 10,       # khởi tạo ngẫu nhiên để tái lập kết quả\n",
    ")\n",
    "\n",
    "# Huấn luyện mô hình với dữ liệu huấn luyện\n",
    "rf_model.fit(X_train_encoded, Y_train)"
   ]
  },
  {
   "cell_type": "markdown",
   "metadata": {
    "slideshow": {
     "slide_type": "subslide"
    }
   },
   "source": [
    "#### Đánh giá mô hình Hồi quy\n",
    "\n",
    "Các chỉ số thường dùng:\n",
    "-   **Sai số tuyệt đối trung bình (Mean Absolute Error - MAE)**: Sai lệch trung bình tuyệt đối.\n",
    "-   **Hệ số xác định (R-squared - R²)**: Tỷ lệ phương sai của biến mục tiêu được mô hình giải thích (từ 0 đến 1, càng cao càng tốt)."
   ]
  },
  {
   "cell_type": "code",
   "execution_count": null,
   "metadata": {
    "slideshow": {
     "slide_type": "fragment"
    }
   },
   "outputs": [],
   "source": [
    "from sklearn.metrics import r2_score, mean_absolute_error\n",
    "\n",
    "Y_pred = rf_model.predict(X_test_encoded)\n",
    "\n",
    "print(f\"Mean Absolute Error (MAE): {mean_absolute_error(Y_test, Y_pred):.2f}\")\n",
    "print(f\"R-squared (R²): {r2_score(Y_test, Y_pred):.3f}\")"
   ]
  },
  {
   "cell_type": "code",
   "execution_count": null,
   "metadata": {
    "slideshow": {
     "slide_type": "fragment"
    }
   },
   "outputs": [],
   "source": [
    "# Tạo đồ thị scatter: Giá thực tế vs Giá dự đoán\n",
    "plt.figure(figsize=(6, 6))\n",
    "sns.scatterplot(x=Y_test, y=Y_pred)\n",
    "\n",
    "# Thêm đường chéo y = x để tham chiếu\n",
    "plt.plot([Y_test.min(), Y_test.max()],\n",
    "         [Y_test.min(), Y_test.max()], color = \"grey\", linestyle='--')\n",
    "\n",
    "# Nhãn trục và tiêu đề\n",
    "plt.xlabel('Giá thực tế (Y_test)')\n",
    "plt.ylabel('Giá dự đoán (Y_pred)')\n",
    "plt.title('So sánh giá thực tế và giá dự đoán')\n",
    "plt.tight_layout()\n",
    "plt.show()"
   ]
  },
  {
   "cell_type": "markdown",
   "metadata": {
    "slideshow": {
     "slide_type": "slide"
    }
   },
   "source": [
    "### Ứng dụng thực tế 3: Tìm khách hàng tiềm năng cho chiến dịch quảng cáo"
   ]
  },
  {
   "cell_type": "markdown",
   "metadata": {
    "slideshow": {
     "slide_type": "subslide"
    }
   },
   "source": [
    "**Bài toán**: Một ngân hàng muốn thực hiện chiến dịch tiếp thị qua điện thoại để mời khách hàng gửi tiết kiệm có kỳ hạn. Với ngân sách giới hạn, họ chỉ có thể gọi cho 2000 khách hàng từ danh sách 20,000 người.\n",
    "\n",
    "**Mục tiêu**: Lựa chọn 2000 khách hàng có **khả năng đồng ý cao nhất** để tối ưu hóa tỷ lệ chuyển đổi.\n",
    "\n",
    "Đây là một bài toán **phân loại nhị phân có giám sát**.\n",
    "-   **Biến mục tiêu (`term_deposit`)**: 0 (không đồng ý) hoặc 1 (đồng ý).\n",
    "-   **Biến giải thích**: Thông tin khách hàng (tuổi, nghề nghiệp, tài sản...) và lịch sử tương tác."
   ]
  },
  {
   "cell_type": "code",
   "execution_count": null,
   "metadata": {
    "slideshow": {
     "slide_type": "fragment"
    }
   },
   "outputs": [],
   "source": [
    "path = 'https://raw.githubusercontent.com/nguyenquanghuy85/Khdl-ktkd-python/main/BankCustomerData_clean.csv'\n",
    "df_bank = pd.read_csv(path, index_col=0, parse_dates=True)\n",
    "display(df_bank.head())"
   ]
  },
  {
   "cell_type": "markdown",
   "metadata": {
    "slideshow": {
     "slide_type": "subslide"
    }
   },
   "source": [
    "#### Phân tích khai phá dữ liệu (EDA)\n",
    "\n",
    "**Tỷ lệ mất cân bằng (Imbalance Ratio)**: Tỷ lệ khách hàng đồng ý chỉ chiếm khoảng 9.3%. Lựa chọn ngẫu nhiên sẽ không hiệu quả."
   ]
  },
  {
   "cell_type": "code",
   "execution_count": null,
   "metadata": {
    "slideshow": {
     "slide_type": "fragment"
    }
   },
   "outputs": [],
   "source": [
    "sns.countplot(x='term_deposit', data=df_bank)\n",
    "plt.title('Phân phối biến mục tiêu')\n",
    "plt.show()\n",
    "print(df_bank['term_deposit'].value_counts(normalize=True))"
   ]
  },
  {
   "cell_type": "code",
   "execution_count": null,
   "metadata": {
    "slideshow": {
     "slide_type": "subslide"
    }
   },
   "outputs": [],
   "source": [
    "# Phân phối một số biến theo biến mục tiêu\n",
    "numerical_vars = ['balance', 'age']\n",
    "for col in numerical_vars:\n",
    "    plt.figure(figsize=(10, 4))\n",
    "    sns.histplot(data=df_bank, x=col, hue='term_deposit', bins=50, multiple=\"stack\")\n",
    "    plt.title(f'Phân phối biến {col}')\n",
    "    if col == 'balance': plt.xlim([-2000, 10000])\n",
    "    plt.show()"
   ]
  },
  {
   "cell_type": "markdown",
   "metadata": {
    "slideshow": {
     "slide_type": "subslide"
    }
   },
   "source": [
    "#### Xây dựng mô hình Hồi quy Logistic\n",
    "\n",
    "Chúng ta sẽ xây dựng mô hình để dự đoán xác suất một khách hàng sẽ đồng ý."
   ]
  },
  {
   "cell_type": "code",
   "execution_count": null,
   "metadata": {
    "slideshow": {
     "slide_type": "fragment"
    }
   },
   "outputs": [],
   "source": [
    "X_train, X_test, Y_train, Y_test = train_test_split(\n",
    "    df_bank[[\"job\", \"marital\", \"education\", \"housing\", \"loan\", \"previous\", \"campaign\",\"balance\"]], df_bank[\"term_deposit\"], \n",
    "    random_state = 0, test_size=0.5)\n",
    "\n",
    "# Chuyển đổi biến sang kiểu one hot\n",
    "X_train_encoded = pd.get_dummies(X_train, drop_first=True)\n",
    "X_test_encoded = pd.get_dummies(X_test, drop_first=True)\n",
    "\n",
    "# Đồng bộ hóa cột giữa train/test\n",
    "X_train_encoded, X_test_encoded = X_train_encoded.align(X_test_encoded, join='left', axis=1, fill_value=0)\n",
    "\n",
    "from sklearn.linear_model import LogisticRegression\n",
    "\n",
    "# Huấn luyện mô hình\n",
    "model = LogisticRegression(max_iter=1000, class_weight='balanced')\n",
    "model.fit(X_train_encoded, Y_train)"
   ]
  },
  {
   "cell_type": "markdown",
   "metadata": {
    "slideshow": {
     "slide_type": "subslide"
    }
   },
   "source": [
    "#### Đánh giá mô hình Phân loại\n",
    "\n",
    "Sử dụng **Ma trận nhầm lẫn (Confusion Matrix)** để xem xét chi tiết hiệu suất.\n",
    "-   **Accuracy**: Tỷ lệ dự đoán đúng trên tổng thể.\n",
    "-   **Precision**: Trong số các dự đoán là 1, có bao nhiêu là đúng?\n",
    "-   **Recall**: Trong số các trường hợp thực tế là 1, mô hình nhận diện được bao nhiêu?\n",
    "-   **F1-score**: Trung bình điều hòa của Precision và Recall."
   ]
  },
  {
   "cell_type": "code",
   "execution_count": null,
   "metadata": {
    "slideshow": {
     "slide_type": "fragment"
    }
   },
   "outputs": [],
   "source": [
    "from sklearn.metrics import classification_report, confusion_matrix\n",
    "\n",
    "# Dự đoán\n",
    "Y_pred = model.predict(X_test_encoded)\n",
    "\n",
    "# Đánh giá mô hình\n",
    "print(\"Confusion Matrix:\\n\", confusion_matrix(Y_test, Y_pred))\n",
    "print(\"\\nClassification Report:\\n\", classification_report(Y_test, Y_pred))"
   ]
  },
  {
   "cell_type": "markdown",
   "metadata": {
    "slideshow": {
     "slide_type": "subslide"
    }
   },
   "source": [
    "#### Áp dụng mô hình vào bài toán kinh doanh\n",
    "\n",
    "So sánh hiệu quả giữa việc chọn ngẫu nhiên và chọn dựa trên mô hình.\n",
    "\n",
    "-   **Ngẫu nhiên**: Chọn 2000 khách hàng -> Tỷ lệ thành công ~9.3% -> Khoảng **186** người đồng ý.\n",
    "-   **Dựa trên mô hình**: Chọn 2000 khách hàng có xác suất đồng ý cao nhất."
   ]
  },
  {
   "cell_type": "code",
   "execution_count": null,
   "metadata": {
    "slideshow": {
     "slide_type": "fragment"
    }
   },
   "outputs": [],
   "source": [
    "# Dự đoán xác suất đồng ý gửi tiết kiệm\n",
    "y_proba = model.predict_proba(X_test_encoded)[:, 1]\n",
    "\n",
    "# Tạo DataFrame kết quả\n",
    "df_proba = pd.DataFrame({'probability': y_proba, 'true_label': Y_test.values})\n",
    "\n",
    "# Sắp xếp theo xác suất giảm dần và chọn top 2000\n",
    "df_top2000 = df_proba.sort_values(by='probability', ascending=False).head(2000)\n",
    "\n",
    "# Số lượng khách hàng thực sự đồng ý trong top 2000\n",
    "success_count = sum(df_top2000['true_label'])\n",
    "print(f\"Số khách hàng đồng ý (Logistic Regression): {success_count}\")\n",
    "print(f\"Tỷ lệ chuyển đổi: {success_count/2000:.1%}\")"
   ]
  },
  {
   "cell_type": "markdown",
   "metadata": {
    "slideshow": {
     "slide_type": "subslide"
    }
   },
   "source": [
    "#### Thử nghiệm với mô hình Rừng ngẫu nhiên"
   ]
  },
  {
   "cell_type": "code",
   "execution_count": null,
   "metadata": {
    "slideshow": {
     "slide_type": "fragment"
    }
   },
   "outputs": [],
   "source": [
    "from sklearn.ensemble import RandomForestRegressor\n",
    "\n",
    "# Khởi tạo và huấn luyện mô hình Random Forest\n",
    "rf_model = RandomForestRegressor(\n",
    "    n_estimators = 500, max_depth = 10, max_features = 5, random_state = 10)\n",
    "rf_model.fit(X_train_encoded, Y_train)\n",
    "Y_pred_rf = rf_model.predict(X_test_encoded)\n",
    "\n",
    "# Đánh giá tương tự\n",
    "df_proba_rf = pd.DataFrame({'probability': Y_pred_rf, 'true_label': Y_test.values})\n",
    "df_top2000_rf = df_proba_rf.sort_values(by='probability', ascending=False).head(2000)\n",
    "\n",
    "success_count_rf = sum(df_top2000_rf['true_label'])\n",
    "print(f\"Số khách hàng đồng ý (Random Forest): {success_count_rf}\")\n",
    "print(f\"Tỷ lệ chuyển đổi: {success_count_rf/2000:.1%}\")"
   ]
  },
  {
   "cell_type": "markdown",
   "metadata": {
    "slideshow": {
     "slide_type": "slide"
    }
   },
   "source": [
    "## Tổng kết\n",
    "\n",
    "-   Khoa học dữ liệu là một lĩnh vực liên ngành, áp dụng các phương pháp khoa học để trích xuất tri thức từ dữ liệu.\n",
    "-   Quy trình phân tích bao gồm nhiều bước từ xác định vấn đề, thu thập, xử lý, phân tích đến truyền đạt kết quả.\n",
    "-   Học máy là công cụ mạnh mẽ để xây dựng các mô hình dự đoán từ dữ liệu.\n",
    "-   Việc lựa chọn mô hình và đặc trưng phù hợp, cùng với việc đánh giá khách quan, là chìa khóa để xây dựng các ứng dụng dữ liệu thành công.\n",
    "\n",
    "**Q&A**"
   ]
  }
 ],
 "metadata": {
  "kernelspec": {
   "display_name": "Python 3 (ipykernel)",
   "language": "python",
   "name": "python3"
  },
  "language_info": {
   "codemirror_mode": {
    "name": "ipython",
    "version": 3
   },
   "file_extension": ".py",
   "mimetype": "text/x-python",
   "name": "python",
   "nbconvert_exporter": "python",
   "pygments_lexer": "ipython3",
   "version": "3.13.2"
  }
 },
 "nbformat": 4,
 "nbformat_minor": 4
}
