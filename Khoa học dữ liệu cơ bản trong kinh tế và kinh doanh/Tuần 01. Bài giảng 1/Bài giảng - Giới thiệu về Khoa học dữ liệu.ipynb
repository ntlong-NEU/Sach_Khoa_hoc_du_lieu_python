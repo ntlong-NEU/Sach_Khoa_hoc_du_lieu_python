{
 "cells": [
  {
   "cell_type": "markdown",
   "metadata": {
    "slideshow": {
     "slide_type": "slide"
    }
   },
   "source": [
    "# GIỚI THIỆU VỀ KHOA HỌC DỮ LIỆU"
   ]
  },
  {
   "cell_type": "markdown",
   "metadata": {
    "slideshow": {
     "slide_type": "slide"
    }
   },
   "source": [
    "## Các khái niệm cơ bản trong Khoa học dữ liệu"
   ]
  },
  {
   "cell_type": "markdown",
   "metadata": {
    "slideshow": {
     "slide_type": "subslide"
    }
   },
   "source": [
    "### Khoa học dữ liệu (Data Science) là gì?\n",
    "\n",
    "Là một lĩnh vực liên ngành, kết hợp chặt chẽ giữa ba trụ cột chính là Toán học & Thống kê, Khoa học máy tính, và Kiến thức chuyên ngành nhằm khám phá những tri thức và hiểu biết ẩn giấu trong dữ liệu.\n",
    "\n",
    "![](https://raw.githubusercontent.com/NCT-NEU/Sach_Khoa_hoc_du_lieu_python/main/Khoa%20h%E1%BB%8Dc%20d%E1%BB%AF%20li%E1%BB%87u%20c%C6%A1%20b%E1%BA%A3n%20trong%20kinh%20t%E1%BA%BF%20v%C3%A0%20kinh%20doanh/Tu%E1%BA%A7n%2001.%20B%C3%A0i%20gi%E1%BA%A3ng%201/Hinh_anh/intro1.png)\n",
    "\n",
    "1. **Toán học và thống kê**  \n",
    "   Cung cấp nền tảng để xây dựng mô hình, phân tích và kiểm định kết quả. Bao gồm xác suất, hồi quy, tối ưu hóa và thống kê suy luận.\n",
    "\n",
    "2. **Khoa học máy tính**  \n",
    "   Trang bị kỹ năng lập trình, xử lý và lưu trữ dữ liệu lớn, sử dụng thuật toán và thư viện phân tích như `scikit-learn`, `SQL`, `Python`.\n",
    "\n",
    "3. **Kiến thức chuyên ngành (Domain Knowledge)**  \n",
    "   Giúp hiểu bối cảnh và đặc thù của lĩnh vực ứng dụng, từ đó xây dựng mô hình phù hợp và giải thích kết quả một cách chính xác."
   ]
  },
  {
   "cell_type": "markdown",
   "metadata": {
    "slideshow": {
     "slide_type": "subslide"
    }
   },
   "source": [
    "### Chu trình khai thác dữ liệu để giải quyết vấn đề thực tế\n",
    "\n",
    "![](https://raw.githubusercontent.com/NCT-NEU/Sach_Khoa_hoc_du_lieu_python/main/Khoa%20h%E1%BB%8Dc%20d%E1%BB%AF%20li%E1%BB%87u%20c%C6%A1%20b%E1%BA%A3n%20trong%20kinh%20t%E1%BA%BF%20v%C3%A0%20kinh%20doanh/Tu%E1%BA%A7n%2001.%20B%C3%A0i%20gi%E1%BA%A3ng%201/Hinh_anh/Data_Cycle.png)\n",
    "\n",
    "[**Định nghĩa:** *Khoa học dữ liệu là một lĩnh vực liên ngành, nghiên cứu các tri thức, phương pháp luận và công cụ kỹ thuật nhằm hỗ trợ việc thực hiện một cách toàn diện, có hệ thống và hiệu quả tất cả các bước trong chu trình khai thác dữ liệu – từ việc xác định vấn đề, thu thập dữ liệu, làm sạch, phân tích, trực quan hóa đến việc diễn giải kết quả và hỗ trợ ra quyết định dựa trên dữ liệu.*]\n",
    "\n",
    "**Bước 1: Xác định bài toán**\n",
    "\n",
    "- Làm rõ mục tiêu kinh doanh hoặc câu hỏi nghiên cứu\n",
    "- Hiểu nhu cầu của tổ chức, khách hàng hoặc người dùng cuối\n",
    "- Xác định các chỉ số thành công và yêu cầu dữ liệu liên quan\n",
    "\n",
    "**Bước 2: Thu thập dữ liệu**\n",
    "\n",
    "- Thu thập dữ liệu từ các nguồn khác nhau: hệ thống giao dịch, cơ sở dữ liệu, API, dữ liệu mở, web scraping,...\n",
    "- Có thể bao gồm cả dữ liệu có cấu trúc và phi cấu trúc.\n",
    "- Đảm bảo tuân thủ các quy định về quyền riêng tư và đạo đức.\n",
    "- Tổ chức lưu trữ dữ liệu một cách khoa học và an toàn.\n",
    "\n",
    "**Bước 3: Khai phá dữ liệu**\n",
    "\n",
    "- Khám phá dữ liệu bằng thống kê mô tả và trực quan hóa\n",
    "- Xác định xu hướng, mối tương quan, phân phối, và ngoại lệ\n",
    "- Đặt ra các giả thuyết cho các bước phân tích tiếp theo\n",
    "\n",
    "**Bước 4: Xử lý dữ liệu**\n",
    "\n",
    "- Làm sạch dữ liệu: xử lý giá trị thiếu, dữ liệu nhiễu, lỗi nhập liệu\n",
    "- Biến đổi dữ liệu: chuẩn hóa, mã hóa biến phân loại, tạo đặc trưng mới\n",
    "- Tích hợp dữ liệu từ nhiều nguồn và định dạng thống nhất\n",
    "\n",
    "**Bước 5: Xây dựng mô hình**\n",
    "\n",
    "- Chọn và huấn luyện mô hình học máy phù hợp (supervised / unsupervised)\n",
    "- Chia tập dữ liệu: huấn luyện, kiểm tra, kiểm định chéo\n",
    "- Tối ưu hóa tham số.\n",
    "\n",
    "**Bước 6: Đánh giá mô hình**\n",
    "\n",
    "- Đánh giá hiệu suất mô hình bằng các chỉ số phù hợp\n",
    "- So sánh giữa các mô hình và chọn mô hình tốt nhất\n",
    "- Đánh giá tính khả giải và ý nghĩa thực tiễn của mô hình\n",
    "\n",
    "**Bước 7: Triển khai và giám sát**\n",
    "\n",
    "- Triển khai mô hình vào hệ thống sản xuất (web, app, dashboard,...).\n",
    "- Theo dõi hiệu suất mô hình theo thời gian (monitoring).\n",
    "- Tự động câp nhật mô hình khi có dữ liệu mới."
   ]
  },
  {
   "cell_type": "markdown",
   "metadata": {},
   "source": [
    "### Khoa học dữ liệu trong Kinh tế và Kinh doanh\n",
    "\n",
    "- Dữ liệu phản ánh hành vi con người, chịu ảnh hưởng của nhiều thông tin bất cân xứng và yếu tố vĩ mô -> cần thận trọng trong phân tích và giải thích.\n",
    "- Yêu cầu cao về khả năng giải thích và minh bạch trong mô hình, không chỉ dự đoán chính xác mà còn phải phù hợp với lý thuyết kinh tế và quản trị.\n",
    "- Mục tiêu gắn với hiệu quả kinh tế, tối ưu vận hành, quản trị rủi ro.\n",
    "\n",
    "\n",
    "| **Bước** | **KHDL thông thường** | **Kinh tế & Kinh doanh** |\n",
    "|:---------|:------------------|:---------------------------|\n",
    "| **1. Xác định bài toán** | Tập trung vào kỹ thuật và độ chính xác như nhận diện ảnh, nhận diện âm thanh, tối ưu hệ thống. | Gắn với hoạt động kinh doanh, tối ưu lợi nhuận, đưa ra chiến lược, cần hiểu về môi trường thực tế. |\n",
    "| **2. Thu thập dữ liệu** | Dữ liệu cảm biến, hình ảnh, tín hiệu phức tạp. | Dữ liệu dạng bảng, tài chính, khách hàng; cần hiểu rõ ngữ cảnh và đơn vị đo. |\n",
    "| **3. Khai phá dữ liệu** | Phân tích dữ liêu mang tính kỹ thuật | Phân tích thống kê cơ bản, phù hợp với tư duy quản lý, kinh doanh. |\n",
    "| **4. Xử lý dữ liệu** | Làm sạch tín hiệu, chuẩn hóa kỹ thuật đầu vào. | Làm sạch nhập liệu, phân nhóm khách hàng, chuẩn hóa đơn vị đo. |\n",
    "| **5. Xây dựng mô hình** | Mô hình phức tạp (deep learning), tối ưu hiệu năng. | Mô hình dễ hiểu (hồi quy, cây quyết định), dễ ứng dụng và giải thích. |\n",
    "| **6. Đánh giá mô hình** | Dựa vào độ chính xác, chỉ số kỹ thuật. | Tính đến cả hiệu quả kinh doanh và ý nghĩa thực tiễn. |\n",
    "| **7. Triển khai & giám sát** | Nhúng vào hệ thống kỹ thuật, thiết bị thông minh. | Tích hợp vào báo cáo, dashboard, cần giám sát theo biến động thị trường. |"
   ]
  },
  {
   "cell_type": "markdown",
   "metadata": {},
   "source": [
    "### Các lĩnh vực chuyên sâu trong phân tích dữ liệu\n",
    "\n",
    "Khoa học dữ liệu có ba lĩnh vực chuyên sâu là:\n",
    "\n",
    "- Kỹ thuật dữ liệu (Data Engineering)\n",
    "- Phân tích dữ liệu (Data Analytics)\n",
    "- Học máy (Machine Learning)\n",
    "\n",
    "Cả ba lĩnh vực cùng có đóng góp vào đa số các bước trong chu trình xử lý dữ liệu. Tuy nhiên nhưng mỗi lĩnh vực giữ vai trò trọng tâm ở các giai đoạn khác nhau\n",
    "\n",
    "**1. Kỹ thuật dữ liệu (Data Engineering)**\n",
    "- Mục tiêu: Xây dựng hạ tầng dữ liệu, thu thập và lưu trữ hiệu quả.\n",
    "- Tập trung vào:\n",
    "  - **Bước 1: Xác định bài toán**\n",
    "  - **Bước 2: Thu thập dữ liệu**\n",
    "\n",
    "**2. Phân tích dữ liệu (Data Analytics)**\n",
    "- Mục tiêu: Hiểu và xử lý dữ liệu để rút ra thông tin hữu ích.\n",
    "- Tập trung vào:\n",
    "  - **Bước 3: Khám phá dữ liệu (EDA)**\n",
    "  - **Bước 4: Xử lý dữ liệu**\n",
    "\n",
    "**3. Học máy (Machine Learning)**\n",
    "- Mục tiêu: Xây dựng mô hình dự đoán và ra quyết định tự động.\n",
    "- Tập trung vào:\n",
    "  - **Bước 5: Xây dựng mô hình**\n",
    "  - **Bước 6: Đánh giá mô hình**\n",
    "  - **Bước 7: Triển khai & giám sát**"
   ]
  },
  {
   "cell_type": "markdown",
   "metadata": {
    "slideshow": {
     "slide_type": "subslide"
    }
   },
   "source": [
    "### Các khái niệm liên quan đến dữ liệu.\n",
    "\n",
    "Dữ liệu là tập hợp các sự kiện, quan sát, con số, ký hiệu, hình ảnh... tồn tại ở dạng thô, chưa được xử lý hoặc phân tích. Đây là nguyên liệu đầu vào cho quá trình ra quyết định dựa trên dữ liệu.\n",
    "\n",
    "**Phân loại dữ liệu theo cấu trúc**\n",
    "\n",
    "- *Dữ liệu có cấu trúc (Structured)*: được tổ chức theo hàng – cột trong bảng, dễ lưu trữ và truy vấn bằng SQL, Excel...\n",
    "\n",
    "- *Dữ liệu bán cấu trúc (Semi-structured)*: có cấu trúc linh hoạt, không theo lược đồ cứng nhắc. Ví dụ: email, XML, JSON.\n",
    "\n",
    "- *Dữ liệu phi cấu trúc (Unstructured)*: không có cấu trúc rõ ràng, khó phân tích trực tiếp. Ví dụ: văn bản tự do, hình ảnh, video, bài đăng mạng xã hội.\n",
    "\n",
    "**Các định dạng tệp dữ liệu phổ biến**\n",
    "\n",
    "- *Delimited text (CSV, TSV)*: lưu dữ liệu dạng văn bản, mỗi dòng là một bản ghi, phân tách bởi dấu phẩy, tab, hoặc ký tự khác.  \n",
    "  👉 Dễ xử lý bằng nhiều công cụ phân tích như Excel, Python, R.\n",
    "\n",
    "- *Excel (.xlsx)*: dữ liệu tổ chức theo bảng gồm nhiều trang tính.  \n",
    "  👉 Hỗ trợ định dạng, tính toán, và tương thích cao với phần mềm văn phòng và phân tích.\n",
    "\n",
    "- *XML*: định dạng dữ liệu phân cấp, người dùng tự định nghĩa thẻ.  \n",
    "  👉 Phù hợp với truyền tải dữ liệu trên web và có tính độc lập nền tảng.\n",
    "\n",
    "- *PDF*: định dạng tài liệu cố định, dùng để trình bày nội dung nhất quán trên mọi thiết bị.  \n",
    "  👉 Phổ biến trong văn bản pháp lý, báo cáo, biểu mẫu cần bảo toàn định dạng.\n",
    "\n",
    "- *JSON*: dữ liệu dạng khóa–giá trị, nhẹ và dễ phân tích.  \n",
    "  👉 Rất phổ biến trong lập trình web và trao đổi dữ liệu giữa hệ thống.\n",
    "\n",
    "**Các nguồn dữ liệu phổ biến**\n",
    "\n",
    "- *Cơ sở dữ liệu quan hệ (SQL, Oracle, MySQL)*: lưu trữ dữ liệu có cấu trúc phục vụ các hệ thống giao dịch, quản lý khách hàng, dự báo doanh số.\n",
    "\n",
    "- *Tệp văn bản, bảng tính, XML*: dữ liệu dạng dòng văn bản, bảng tính Excel, Google Sheets, hoặc XML cho cấu trúc phân cấp.  \n",
    "  👉 Phổ biến trong khảo sát, sao kê, và dữ liệu hành chính.\n",
    "\n",
    "- *API & Web Services*: cho phép truy xuất dữ liệu từ hệ thống bên ngoài (TCBS, chứng khoán, thời tiết...).\n",
    "\n",
    "- *Web Scraping*: trích xuất dữ liệu từ các website không cung cấp API.  \n",
    "  👉 Dùng công cụ như Selenium để thu thập giá cả, nội dung khách hàng, huấn luyện mô hình ML.\n",
    "\n",
    "- *Dữ liệu truyền trực tiếp (Streaming)*: đến từ IoT, GPS, cảm biến, mạng xã hội.  \n",
    "  👉 Xử lý thời gian thực bằng Kafka, Spark Streaming, Storm.\n",
    "\n",
    "**Ngôn ngữ phổ biến trong Khoa học Dữ liệu**\n",
    "\n",
    "- *Ngôn ngữ truy vấn*:\n",
    "  - *SQL*: ngôn ngữ tiêu chuẩn để thao tác dữ liệu trong cơ sở dữ liệu quan hệ.\n",
    "\n",
    "- *Ngôn ngữ lập trình*:\n",
    "  - *Python*: mã nguồn mở, dễ học, có hệ sinh thái mạnh (NumPy, Pandas, Scikit-learn...).\n",
    "  - *R*: mạnh về thống kê và trực quan hóa (ggplot2, dplyr, Shiny...).\n",
    "\n",
    "- *Ngôn ngữ shell/script*:\n",
    "  - *Unix/Linux Shell*: tự động hóa xử lý dữ liệu và hệ thống.\n",
    "  - *PowerShell*: làm việc với dữ liệu có cấu trúc, hỗ trợ API, tạo báo cáo và GUI.\n",
    "\n",
    "👉 Thành thạo một số ngôn ngữ trong ba nhóm trên là điều kiện thiết yếu cho chuyên gia dữ liệu hiện đại."
   ]
  },
  {
   "cell_type": "markdown",
   "metadata": {
    "slideshow": {
     "slide_type": "subslide"
    }
   },
   "source": [
    "### Các vị trí công việc trong Khoa học Dữ liệu\n",
    "\n",
    "Khoa học dữ liệu là một hệ sinh thái nghề nghiệp đa dạng, bao gồm 4 nhóm vị trí chính:\n",
    "\n",
    "**Kỹ sư dữ liệu (Data Engineer)**\n",
    "\n",
    "- Xây dựng và vận hành hạ tầng lưu trữ & xử lý dữ liệu.\n",
    "- Thành thạo SQL, Spark, Kafka, cloud (AWS, GCP...).\n",
    "- Các vai trò chuyên sâu:\n",
    "  - *Data Platform Engineer*: Xây nền tảng dữ liệu lớn.\n",
    "  - *Streaming Data Engineer*: Xử lý dữ liệu thời gian thực.\n",
    "  - *ETL/ELT Developer*, *DataOps*, *Data Reliability Engineer*.\n",
    "\n",
    "**Nhà phân tích dữ liệu (Data Analyst)**\n",
    "\n",
    "- Phân tích thống kê, trực quan hóa dữ liệu, hỗ trợ ra quyết định.\n",
    "- Kỹ năng: SQL, Excel, Tableau/Power BI, storytelling.\n",
    "- Các nhánh chuyên sâu:\n",
    "  - *Business Analyst*: phân tích CLV, ROI…\n",
    "  - *Product Analyst*: phân tích DAU, churn…\n",
    "  - *Marketing Analyst*: phân tích CPA, ROAS…\n",
    "  - *Financial Analyst*, *Operations Analyst*.\n",
    "\n",
    "**Nhà khoa học dữ liệu (Data Scientist)**\n",
    "\n",
    "- Kết hợp lập trình, thống kê, ML & hiểu biết nghiệp vụ để xây dựng mô hình dự đoán.\n",
    "- Thành thạo Python/R, Scikit-learn, SQL, Spark.\n",
    "- Lộ trình nghề nghiệp: *Junior → Senior → Lead → Manager/Director*.\n",
    "\n",
    "\n",
    "**Kỹ sư học máy (ML Engineer)**\n",
    "\n",
    "- Triển khai & tối ưu mô hình học máy ở quy mô lớn.\n",
    "- Thành thạo MLOps, phần mềm, hệ thống phân tán.\n",
    "- Vai trò chuyên biệt:\n",
    "  - *MLOps Engineer*\n",
    "  - *Model Optimization Engineer*\n",
    "  - *AI Research Engineer*\n",
    "  - *CV/NLP Engineer*\n",
    "\n",
    "👉 Mỗi vị trí đóng vai trò riêng nhưng phối hợp chặt chẽ trong chu trình dữ liệu, đòi hỏi kiến thức liên ngành và kỹ năng công "
   ]
  },
  {
   "cell_type": "markdown",
   "metadata": {},
   "source": [
    "## Kỹ thuật dữ liệu"
   ]
  },
  {
   "cell_type": "markdown",
   "metadata": {},
   "source": [
    "### Kỹ thuật dữ liệu là gì?\n",
    "\n",
    "Kỹ thuật dữ liệu là lĩnh vực được phát triển độc lập, nhưng liên hệ mật thiết với lĩnh vực KHDL \n",
    "\n",
    "Kỹ thuật dữ liệu chuyên thiết kế, triển khai và duy trì **hạ tầng dữ liệu** phục vụ cho toàn bộ chu trình phân tích và khoa học dữ liệu.  \n",
    "\n",
    "Khác với khoa học dữ liệu – vốn tập trung vào phân tích và xây dựng mô hình – kỹ thuật dữ liệu đảm nhận các bước:  \n",
    "🔹 Thu thập dữ liệu  \n",
    "🔹 Làm sạch, chuẩn hóa  \n",
    "🔹 Lưu trữ và tổ chức dữ liệu  \n",
    "🔹 Phân phối dữ liệu cho hệ thống phân tích\n",
    "\n",
    "👉 Trên thực tế, tới **70–80% thời gian** của các dự án khoa học dữ liệu được dành cho các hoạt động liên quan đến kỹ thuật dữ liệu.\n",
    "\n",
    "Kỹ thuật dữ liệu đóng vai trò **cầu nối giữa dữ liệu thô và dữ liệu có giá trị**, đảm bảo rằng thông tin đầu vào cho các hệ thống phân tích và học máy là **chính xác, đầy đủ, và luôn sẵn sàng**."
   ]
  },
  {
   "cell_type": "markdown",
   "metadata": {},
   "source": [
    "### Quy trình kỹ thuật dữ liệu\n",
    "\n",
    "![](https://raw.githubusercontent.com/NCT-NEU/Sach_Khoa_hoc_du_lieu_python/main/Khoa%20h%E1%BB%8Dc%20d%E1%BB%AF%20li%E1%BB%87u%20c%C6%A1%20b%E1%BA%A3n%20trong%20kinh%20t%E1%BA%BF%20v%C3%A0%20kinh%20doanh/Tu%E1%BA%A7n%2001.%20B%C3%A0i%20gi%E1%BA%A3ng%201/Hinh_anh/data_engineering_life_cycle.png)\n",
    "\n",
    "Chu trình kỹ thuật dữ liệu có thể được chia thành năm giai đoạn chính:\n",
    "\n",
    "- Xác định nguồn sinh dữ liệu: Xác định hệ thống nguồn nơi dữ liệu được tạo ra như phần mềm nghiệp vụ, thiết bị cảm biến, giao dịch thương mại, hệ thống quản lý khách hàng (CRM), v.v.\n",
    "- Tổ chức lưu trữ dữ liệu: Dữ liệu được lưu trữ có tổ chức trong các hệ thống phù hợp với đặc tính và mục đích sử dụng của dữ liệu, như cơ sở dữ liệu quan hệ, kho dữ liệu (data warehouse), hồ dữ liệu (data lake), hoặc các hệ thống lưu trữ phân tán.\n",
    "- Thu nạp dữ liệu: Dữ liệu được trích xuất từ các hệ thống nguồn và chuyển vào môi trường lưu trữ trung tâm, thông qua các cơ chế như batch, streaming, push hoặc pull.\n",
    "- Biến đổi dữ liệu: Dữ liệu được xử lý, chuẩn hóa và tái cấu trúc để đảm bảo tính sẵn sàng sử dụng trong các tác vụ phân tích, mô hình hóa và ra quyết định.\n",
    "- Phục vụ dữ liệu: Dữ liệu đã qua xử lý được cung cấp cho người dùng cuối và các hệ thống ứng dụng để hỗ trợ phân tích nghiệp vụ, vận hành, học máy, hoặc phản hồi thời gian thực."
   ]
  },
  {
   "cell_type": "markdown",
   "metadata": {},
   "source": [
    "### Bước 1: Xác định Nguồn Sinh Dữ liệu (Source Systems)\n",
    "\n",
    "Hệ thống nguồn là điểm khởi đầu trong kỹ thuật dữ liệu – nơi dữ liệu thô được tạo ra từ các hoạt động thực tiễn của tổ chức.\n",
    "\n",
    "**Vai trò**\n",
    "\n",
    "- Cung cấp *“nguyên liệu đầu vào”* cho toàn bộ quy trình lưu trữ, xử lý và phân tích dữ liệu.\n",
    "- Ảnh hưởng trực tiếp đến chất lượng, độ phức tạp và độ tin cậy của toàn bộ pipeline dữ liệu.\n",
    "\n",
    "**Ví dụ trong kinh tế & kinh doanh**\n",
    "\n",
    "- *CSDL giao dịch*: ngân hàng, thương mại điện tử.\n",
    "- *CRM*: hành vi và tương tác khách hàng.\n",
    "- *Cổng khảo sát*, *API vĩ mô* (IMF, World Bank).\n",
    "- *Tệp nội bộ*: Excel, CSV, dữ liệu thủ công.\n",
    "\n",
    "**Đặc tính cần phân tích**\n",
    "\n",
    "- *Cách sinh dữ liệu*: theo sự kiện, định kỳ, theo lô.\n",
    "- *Tần suất*: real-time, hàng ngày, định kỳ.\n",
    "- *Tính ổn định schema*: dữ liệu có thay đổi thường xuyên không?\n",
    "- *Khả năng truy cập*: SQL, API, export file.\n",
    "- *Định dạng*: có cấu trúc (SQL), bán cấu trúc (JSON), phi cấu trúc (PDF, ảnh).\n",
    "- *Chất lượng*: đầy đủ, chính xác, kịp thời?\n",
    "\n",
    "✅ Hiểu rõ hệ thống nguồn giúp xây dựng pipeline bền vững, linh hoạt và tối ưu hóa giá trị dữ liệu từ đầu vào."
   ]
  },
  {
   "cell_type": "markdown",
   "metadata": {},
   "source": [
    "### Bước 2: Tổ chức & Lưu trữ Dữ liệu\n",
    "\n",
    "Lưu trữ là giai đoạn cốt lõi giúp bảo toàn và tổ chức dữ liệu từ các hệ thống nguồn, tạo nền tảng cho xử lý và phân tích về sau.\n",
    "\n",
    "---\n",
    "\n",
    "**Các hình thức lưu trữ phổ biến**\n",
    "\n",
    "- **CSDL quan hệ (SQL):** Lưu dữ liệu có cấu trúc dạng bảng.  \n",
    "  👉 Phù hợp với nghiệp vụ truyền thống (ERP, bán hàng, kế toán).\n",
    "\n",
    "- **CSDL phi quan hệ (NoSQL):** Linh hoạt cho dữ liệu bán/phi cấu trúc.  \n",
    "  👉 Ví dụ: MongoDB, Redis, Cassandra, Neo4j.\n",
    "\n",
    "- **Data Warehouse:** Tích hợp, chuẩn hóa dữ liệu phục vụ phân tích nhanh.  \n",
    "  👉 Nền tảng: BigQuery, Redshift, Snowflake, Azure Synapse.\n",
    "\n",
    "- **Data Mart:** Kho dữ liệu chuyên biệt theo phòng ban (marketing, tài chính...).  \n",
    "  👉 Tối ưu truy vấn, hỗ trợ công cụ BI như Tableau, Power BI.\n",
    "\n",
    "- **Data Lake:** Lưu trữ dữ liệu thô đa định dạng (text, hình, video...).  \n",
    "  👉 Phù hợp với AI, ML, khai phá dữ liệu. Dùng Amazon S3, Azure DL, GCP, HDFS.\n",
    "\n",
    "---\n",
    "\n",
    "**Yếu tố cần cân nhắc khi thiết kế lưu trữ**\n",
    "\n",
    "- **Tần suất truy cập:** Dữ liệu nóng vs. dữ liệu nguội.  \n",
    "- **Khả năng mở rộng:** Đáp ứng tăng trưởng dữ liệu nhanh.  \n",
    "- **Bảo mật & pháp lý:** Quy định lưu trữ, phân quyền, bảo vệ dữ liệu nhạy cảm.  \n",
    "- **Cấu trúc dữ liệu:** Cố định hay linh hoạt?  \n",
    "- **Khả năng tích hợp:** Dễ kết nối với công cụ phân tích, ML, trực quan hóa?\n",
    "\n",
    "---\n",
    "\n",
    "Lựa chọn đúng hệ thống lưu trữ là nền móng cho pipeline dữ liệu hiệu quả, bền vững và dễ mở rộng trong tương lai."
   ]
  },
  {
   "cell_type": "markdown",
   "metadata": {},
   "source": [
    "### Bước 3: Thu nạp Dữ liệu (Data Ingestion)\n",
    "\n",
    "Thu nạp dữ liệu là giai đoạn chuyển dữ liệu từ hệ thống nguồn sang hệ thống lưu trữ — cầu nối quan trọng trong pipeline kỹ thuật dữ liệu.\n",
    "\n",
    "---\n",
    "\n",
    "**Thách thức & yêu cầu**\n",
    "\n",
    "- Dễ phát sinh lỗi do hệ thống nguồn không ổn định  \n",
    "- Cần đảm bảo: độ tin cậy, đúng định dạng, đúng thời điểm  \n",
    "- Tối ưu: tránh trùng lặp, hỗ trợ tái sử dụng, kiểm soát dung lượng & tần suất  \n",
    "\n",
    "---\n",
    "\n",
    "**Phân loại theo phương thức xử lý**\n",
    "\n",
    "- **Batch**: Xử lý theo lô (hàng giờ/ngày); phù hợp với báo cáo định kỳ  \n",
    "- **Streaming**: Xử lý thời gian thực; ứng dụng trong phát hiện gian lận, phân tích hành vi  \n",
    "\n",
    "---\n",
    "\n",
    "**Phân loại theo cơ chế truyền tải**\n",
    "\n",
    "- **Push**: Nguồn chủ động gửi dữ liệu (ex: CRM đẩy đơn hàng)  \n",
    "- **Pull**: Hệ thống đích chủ động truy vấn theo lịch định kỳ  \n",
    "\n",
    "---\n",
    "\n",
    "**Phân loại theo quy trình: mô hình ETL vs. ELT**\n",
    "\n",
    "- **ETL (Extract → Transform → Load)**: Biến đổi trước khi lưu trữ → Phù hợp khi cần dữ liệu sạch, có cấu trúc  \n",
    "- **ELT (Extract → Load → Transform)**: Lưu trữ rồi mới biến đổi → Hiệu quả với dữ liệu lớn và hệ thống lưu trữ mạnh  \n",
    "\n",
    "---\n",
    "\n",
    "Một quy trình thu nạp tốt giúp dữ liệu được thu nạp vào nơi lưu trữ chảy ổn định, đúng thời gian và đúng cách, tạo nền cho các bước phân tích."
   ]
  },
  {
   "cell_type": "markdown",
   "metadata": {},
   "source": [
    "### Bước 4: Biến đổi Dữ liệu (Data Transformation)\n",
    "\n",
    "**Biến đổi dữ liệu là bước chuyển đổi dữ liệu thô thành định dạng có thể phân tích, giúp dữ liệu phát huy giá trị trong báo cáo, phân tích và học máy.**\n",
    "\n",
    "---\n",
    "\n",
    "**Mục tiêu**\n",
    "\n",
    "- Làm sạch và chuẩn hóa dữ liệu đầu vào  \n",
    "- Chuyển đổi cấu trúc, định dạng, kiểu dữ liệu  \n",
    "- Trích xuất đặc trưng cho mô hình học máy  \n",
    "- Gắn với logic nghiệp vụ & yêu cầu phân tích cụ thể  \n",
    "\n",
    "---\n",
    "\n",
    "**Các thao tác phổ biến**\n",
    "\n",
    "- Chuyển đổi kiểu dữ liệu (string → int, date...)  \n",
    "- Loại bỏ dữ liệu sai lệch, thiếu, trùng  \n",
    "- Gộp nhóm, tổng hợp, xoay bảng (pivot)  \n",
    "- Chuẩn hóa định dạng (đơn vị đo, ký hiệu...)  \n",
    "\n",
    "---\n",
    "\n",
    "**Phương pháp biến đổi**\n",
    "\n",
    "- **Batch transformation**: xử lý định kỳ → phù hợp cho báo cáo, tổng hợp  \n",
    "- **Streaming transformation**: xử lý trong thời gian thực → dùng trong hệ thống event-driven  \n",
    "\n",
    "---\n",
    "\n",
    "**Đặc biệt: Trích xuất đặc trưng (feature engineering)**\n",
    "\n",
    "- Phục vụ huấn luyện mô hình học máy  \n",
    "- Kết hợp kiến thức nghiệp vụ + kỹ thuật tự động hóa  \n",
    "\n",
    "---\n",
    "\n",
    "✅ Biến đổi dữ liệu không chỉ là bước kỹ thuật, mà còn đòi hỏi hiểu biết sâu về mục tiêu phân tích, thường được đánh giá quan trọng hơn trong lĩnh vực phân tích dữ liệu (Data Analytics)"
   ]
  },
  {
   "cell_type": "markdown",
   "metadata": {},
   "source": [
    "### Bước 5: Phục vụ Dữ liệu (Data Serving)\n",
    "\n",
    "Là bước cuối trong chu trình kỹ thuật dữ liệu, nơi dữ liệu đã được xử lý và chuẩn hóa được cung cấp cho hệ thống hoặc người dùng cuối nhằm tạo ra giá trị thực tiễn.\n",
    "\n",
    "**Mục tiêu**\n",
    "\n",
    "- Hỗ trợ phân tích, báo cáo, ra quyết định  \n",
    "- Cung cấp dữ liệu cho mô hình học máy  \n",
    "- Đưa dữ liệu ngược vào hệ thống tác nghiệp (reverse ETL)\n",
    "\n",
    "**Các hình thức phục vụ dữ liệu**\n",
    "\n",
    "- **Business Analytics**  \n",
    "  → Tổng hợp báo cáo, hỗ trợ chiến lược, phân tích lịch sử  \n",
    "\n",
    "- **Operational Analytics**  \n",
    "  → Giám sát vận hành, tồn kho, rủi ro, hành vi người dùng (gần real-time)  \n",
    "\n",
    "- **Machine Learning Serving**  \n",
    "  → Dữ liệu đầu vào cho mô hình dự đoán, phân loại, tối ưu hóa  \n",
    "\n",
    "- **Reverse ETL**  \n",
    "  → Đồng bộ dữ liệu đã phân tích trở lại CRM, nền tảng quảng cáo, hệ thống vận hành  \n",
    "\n",
    "**Yêu cầu khi thiết kế hệ thống phục vụ dữ liệu**\n",
    "\n",
    "- Đúng người dùng – đúng thời điểm – đúng mục tiêu  \n",
    "- Phối hợp chặt chẽ giữa kỹ sư dữ liệu, nhà phân tích, ML engineer & bộ phận nghiệp vụ  \n",
    "- Tối ưu khả năng truy cập, độ trễ thấp, bảo mật cao  \n",
    "\n",
    "✅ Đây là giai đoạn **chuyển hóa dữ liệu thành giá trị thực tế**, là nơi dữ liệu phục vụ hành động, quyết định và đổi mới quy trình kinh doanh."
   ]
  },
  {
   "cell_type": "markdown",
   "metadata": {},
   "source": [
    "## Quy trình và công cụ trong Phân tích dữ liệu"
   ]
  },
  {
   "cell_type": "markdown",
   "metadata": {},
   "source": [
    "### Giới thiệu về Phân tích dữ liệu (Data Analytics)"
   ]
  },
  {
   "cell_type": "markdown",
   "metadata": {
    "slideshow": {
     "slide_type": "subslide"
    }
   },
   "source": [
    "- Trong 10 năm qua, doanh nghiệp thu thập dữ liệu toàn diện từ sản xuất, vận hành, khách hàng đến thị trường.\n",
    "- Khối lượng & tốc độ dữ liệu tăng nhanh → phương pháp truyền thống không còn đủ đáp ứng.\n",
    "- **Khoa học dữ liệu** ra đời nhằm khai thác tri thức từ dữ liệu, nhờ sự phát triển của công nghệ và thuật toán.\n",
    "\n",
    "Phân tích dữ liệu – cách tiếp cận linh hoạt\n",
    "\n",
    "- Trong thực tiễn kinh tế – kinh doanh, không phải lúc nào cũng triển khai đầy đủ chu trình Khoa học dữ liệu.\n",
    "- **Phân tích dữ liệu** được sử dụng như một công cụ linh hoạt để trả lời nhanh các câu hỏi cụ thể trong điều kiện thiếu thời gian & tài nguyên.\n",
    "- Phù hợp với các tình huống ra quyết định ngắn hạn, nhanh chóng, dưới áp lực thời gian.\n",
    "\n",
    "\n",
    "**So sánh nhanh**\n",
    "\n",
    "| Khoa học dữ liệu                  | Phân tích dữ liệu                      |\n",
    "|----------------------------------|----------------------------------------|\n",
    "| Hệ thống toàn diện, end-to-end   | Tập trung vào giải bài toán cụ thể     |\n",
    "| Bao gồm cả mô hình, AI, automation | Tập trung vào phân tích mô tả và hỗ trợ ra quyết định |\n",
    "| Yêu cầu nhiều nguồn lực và thời gian | Linh hoạt, dễ triển khai trong thực tiễn |\n",
    "\n",
    "\n",
    "✅ **Kết luận**: Phân tích dữ liệu là \"ứng dụng thực chiến\" của Khoa học dữ liệu – phù hợp với môi trường kinh tế năng động và quyết định nhanh.\n"
   ]
  },
  {
   "cell_type": "markdown",
   "metadata": {},
   "source": [
    "### Quy trình trong Phân tích dữ liệu"
   ]
  },
  {
   "cell_type": "markdown",
   "metadata": {},
   "source": [
    "Phân tích dữ liệu là phiên bản đơn giản hơn của quy trình Khoa học dữ liệu, phù hợp với điều kiện **hạn chế về thời gian & nguồn lực**, đặc biệt trong kinh tế – kinh doanh.\n",
    "\n",
    "**Mục tiêu**\n",
    "- Khai thác dữ liệu hiện có\n",
    "- Hỗ trợ ra quyết định nhanh & hiệu quả\n",
    "- Không cần triển khai toàn bộ hệ thống hạ tầng và học máy\n",
    "\n",
    "![](https://raw.githubusercontent.com/NCT-NEU/Sach_Khoa_hoc_du_lieu_python/main/Khoa%20h%E1%BB%8Dc%20d%E1%BB%AF%20li%E1%BB%87u%20c%C6%A1%20b%E1%BA%A3n%20trong%20kinh%20t%E1%BA%BF%20v%C3%A0%20kinh%20doanh/Tu%E1%BA%A7n%2001.%20B%C3%A0i%20gi%E1%BA%A3ng%201/Hinh_anh/Data_Analytic.png)\n",
    "\n",
    "**4 bước cơ bản trong quy trình**\n",
    "\n",
    "1. Xác định dữ liệu cần phân tích\n",
    "   - Phù hợp với mục tiêu phân tích\n",
    "   - Đánh giá tính sẵn có, chi phí, độ tin cậy\n",
    "   - Nguồn dữ liệu nội bộ hay bên ngoài, định lượng hay định tính\n",
    "\n",
    "2. *Chuẩn bị & xử lý dữ liệu*\n",
    "   - Làm sạch, xử lý giá trị thiếu, chuẩn hóa, mã hóa\n",
    "   - Sắp xếp dữ liệu sẵn sàng cho phân tích\n",
    "\n",
    "3. *Phân tích dữ liệu*\n",
    "   - Thống kê mô tả, trực quan hóa, tìm xu hướng\n",
    "   - Có thể áp dụng mô hình đơn giản nếu cần\n",
    "   - Mức độ phức tạp tùy theo mục tiêu\n",
    "\n",
    "4. *Truyền đạt kết quả*\n",
    "   - Dễ hiểu: biểu đồ, bảng biểu, dashboard, báo cáo\n",
    "   - Nhấn mạnh các hàm ý thực tiễn để hành động\n",
    "\n",
    "Quá trình phân tích có tính lặp nếu kết quả chưa đủ rõ ràng\n",
    "\n",
    "**Khi nào nên dùng?**\n",
    "- Bối cảnh quyết định kinh doanh nhanh\n",
    "- Không đủ điều kiện triển khai toàn bộ pipeline Khoa học Dữ liệu\n",
    "\n",
    "✅ Tuy đơn giản, quy trình vẫn **đòi hỏi tư duy phân tích, kỹ năng đánh giá dữ liệu và truyền thông hiệu quả**, rất quan trọng trong kỷ nguyên ra quyết định dựa trên dữ liệu."
   ]
  },
  {
   "cell_type": "markdown",
   "metadata": {},
   "source": [
    "### Bước 1: Xác định dữ liệu cần phân tích."
   ]
  },
  {
   "cell_type": "markdown",
   "metadata": {},
   "source": [
    "**Các bước xác định dữ liệu**\n",
    "\n",
    "- *Làm rõ loại thông tin cần thu thập*  \n",
    "  → Gắn với mục tiêu phân tích cụ thể  \n",
    "  → Xác định dữ liệu định tính, định lượng, hành vi, nhân khẩu học...\n",
    "\n",
    "- *Lập kế hoạch thu thập dữ liệu*  \n",
    "  → Khi nào thu thập?  \n",
    "  → Bao nhiêu là đủ?  \n",
    "  → Xử lý thiếu sót, rủi ro kỹ thuật như thế nào?\n",
    "\n",
    "- *Lựa chọn phương pháp thu thập*  \n",
    "  → Tùy loại dữ liệu và nguồn: CRM, khảo sát, web/app, mạng xã hội  \n",
    "  → Cân nhắc tự động hóa (API, tracking, streaming) hay thủ công\n",
    "\n",
    "**Những lưu ý khi thu thập dữ liệu**\n",
    "\n",
    "- *Chất lượng dữ liệu*  \n",
    "  → Chính xác, đầy đủ, nhất quán, phù hợp, dễ truy cập  \n",
    "  → Có checkpoints đánh giá chất lượng\n",
    "\n",
    "- *Quản trị dữ liệu (Data Governance)*  \n",
    "  → Tuân thủ pháp luật (bảo mật, đồng thuận)  \n",
    "  → Bảo vệ quyền riêng tư cá nhân  \n",
    "  → Tránh rủi ro pháp lý, đạo đức, và suy giảm niềm tin\n",
    "\n",
    "**Các nguồn dữ liệu phổ biến**\n",
    "\n",
    "- *Dữ liệu sơ cấp:* nội bộ doanh nghiệp, khảo sát, phỏng vấn  \n",
    "- *Dữ liệu thứ cấp:* thống kê chính thức, báo cáo ngành, tài liệu học thuật  \n",
    "- *Dữ liệu bên thứ ba:* mua từ nhà cung cấp, sàn thương mại dữ liệu\n",
    "\n",
    "**Công cụ hỗ trợ xác định và thu thập dữ liệu**\n",
    "\n",
    "- *Bảng khảo sát & biểu mẫu điện tử:*  \n",
    "  → Google Forms, Microsoft Forms, SurveyMonkey  \n",
    "  → Thu thập ý kiến người dùng, khảo sát thị trường, đánh giá dịch vụ\n",
    "\n",
    "- *Công cụ theo dõi hành vi người dùng:*  \n",
    "  → Google Analytics, Hotjar, Mixpanel  \n",
    "  → Ghi nhận hành vi trên web/app: thời gian truy cập, click, scroll, chuyển đổi...\n",
    "\n",
    "- *API & kết nối dữ liệu tự động:*  \n",
    "  → RESTful API, Webhook, Zapier  \n",
    "  → Truy xuất dữ liệu từ CRM, mạng xã hội, sàn TMĐT, dịch vụ công\n",
    "\n",
    "- *Kỹ thuật Web Scraping:*  \n",
    "  → Dùng Python (BeautifulSoup, Selenium, Scrapy)  \n",
    "  → Trích xuất dữ liệu từ các website không có API\n",
    "\n",
    "- *Thiết bị IoT và cảm biến:*  \n",
    "  → GPS, camera, thiết bị đo lường…  \n",
    "  → Ghi nhận dữ liệu vật lý: vị trí, nhiệt độ, chuyển động, tiêu thụ điện...\n",
    "\n",
    "- *Hệ thống giao dịch & phần mềm nghiệp vụ:*  \n",
    "  → ERP, POS, CRM, phần mềm kế toán, quản lý kho  \n",
    "  → Là nguồn chính của dữ liệu vận hành trong doanh nghiệp\n",
    "\n",
    "*Việc lựa chọn công cụ phù hợp phụ thuộc vào loại dữ liệu, ngân sách, mức độ kỹ thuật và yêu cầu khai thác trong từng tình huống cụ thể.*"
   ]
  },
  {
   "cell_type": "markdown",
   "metadata": {},
   "source": [
    "### Bước 2: Xử lý dữ liệu và chuẩn bị cho phân tích\n",
    "\n",
    "**Vai trò của xử lý dữ liệu**\n",
    "\n",
    "- _Dữ liệu thô thường không sẵn sàng để phân tích: thiếu, sai định dạng, dư thừa, không nhất quán._\n",
    "- _Xử lý dữ liệu giúp làm sạch, chuẩn hóa và biến đổi dữ liệu theo mục tiêu phân tích._\n",
    "- _Quy trình gồm 4 bước chính: khai phá, biến đổi, kiểm định và công bố dữ liệu._\n",
    "\n",
    "**Khai phá dữ liệu (Data Exploration)**\n",
    "\n",
    "- _Đánh giá chất lượng dữ liệu, phát hiện ngoại lệ, hiểu phân bố và mối quan hệ._\n",
    "- _Công cụ: pandas, seaborn, matplotlib, pandas-profiling (Python); dplyr, skimr (R); Power BI, Tableau._\n",
    "\n",
    "**Biến đổi dữ liệu (Data Transformation)**\n",
    "\n",
    "- _Cấu trúc lại dữ liệu: nối bảng, xoay chiều, chuẩn hóa định dạng._\n",
    "- _Làm sạch: xử lý thiếu, trùng lặp, sai lệch logic, chuẩn hóa biến._\n",
    "- _Làm giàu dữ liệu: tích hợp thêm thông tin từ nguồn bên trong và bên ngoài._\n",
    "\n",
    "**Kiểm định dữ liệu (Data Validation)**\n",
    "\n",
    "- _Đảm bảo dữ liệu đạt yêu cầu: đầy đủ (completeness), chính xác (accuracy), nhất quán (consistency), duy nhất (uniqueness), kịp thời (timeliness)._\n",
    "- _Giúp phát hiện các lỗi logic, kỹ thuật và các vấn đề ảnh hưởng đến phân tích._\n",
    "\n",
    "**Công bố dữ liệu (Data Publishing)**\n",
    "\n",
    "- _Phát hành dữ liệu kèm metadata và nhật ký xử lý để đảm bảo minh bạch, khả năng kiểm chứng và tái sử dụng._\n",
    "- _Metadata mô tả từng biến; nhật ký ghi lại các thao tác đã thực hiện và giả định phân tích._\n",
    "\n",
    "**Công cụ xử lý dữ liệu**\n",
    "\n",
    "- _Python và các thư viện chính:\n",
    "\n",
    "  -**NumPy**\": _Xử lý mảng số học hiệu suất cao,dùng trong tính toán chỉ số kinh tế, tối ưu hóa, mô phỏng tài chính._\n",
    "\n",
    "  -**pandas**_Xử lý dữ liệu bảng với Series và DataFrame,đọc/ghi dữ liệu từ CSV, Excel, SQL, JSON, hỗ trợ groupby, merge, pivot, xử lý thiếu, outliers, chuỗi thời gian._\n",
    "\n",
    "  -**json và jsonlines**:_Xử lý dữ liệu bán cấu trúc từ web, API, phản hồi khách hàng, phù hợp với phân tích log, lịch sử hành vi, dữ liệu đánh giá sản phẩm._\n",
    "\n",
    " - Công cụ thay thế hoặc bổ sung cho Python: bảng tính (Excel, Google Sheets), R, Power BI, Tableau, SQL và các RDBMS,...\n",
    "\n",
    "**Tổng kết**\n",
    "\n",
    "- _Tùy theo năng lực, mục tiêu và quy mô, có thể kết hợp linh hoạt giữa Python và các công cụ bổ trợ._\n",
    "- _Mục tiêu là tối ưu hóa hiệu quả, chi phí và chất lượng xử lý dữ liệu trong tổ chức._"
   ]
  },
  {
   "cell_type": "markdown",
   "metadata": {},
   "source": [
    "### Các mức độ phân tích dữ liệu\n",
    "\n",
    "**Phân tích mô tả (Descriptive Analytics)**\n",
    "\n",
    "* Câu hỏi: *“Điều gì đã xảy ra?”*\n",
    "* Mục tiêu: Tổng hợp, trình bày dữ liệu quá khứ\n",
    "* Ví dụ: báo cáo doanh số, tỉ lệ chuyển đổi, dashboard theo dõi hoạt động\n",
    "* Kỹ thuật: thống kê mô tả, trực quan hóa dữ liệu, phân cụm (unsupervised)\n",
    "* Ví dụ: Từ dữ liệu nhận thấy Doanh thu tăng khi tăng chi phí cho quảng cáo tờ rơi (tính trung bình, phương sai)\n",
    "\n",
    "**Phân tích chẩn đoán (Diagnostic Analytics)**\n",
    "\n",
    "* Câu hỏi: *“Tại sao điều đó xảy ra?”*\n",
    "* Mục tiêu: Tìm nguyên nhân, cơ chế sinh dữ liệu\n",
    "* Ví dụ: kiểm định giả thuyết, phân tích phương sai, hồi quy tuyến tính\n",
    "* Kỹ thuật: thống kê suy luận, phân tích tương quan, hồi quy đa biến\n",
    "* Tăng quảng cáo cho tờ rơi thì tăng doanh thu là khá hiển nhiên, nhưng cần kiểm định Anova, kiểm định correlation, đánh giá mối tiên hệ trong tổng thể với các biến giải thích khác\n",
    "\n",
    "**Phân tích dự báo (Predictive Analytics)**\n",
    "\n",
    "* Câu hỏi: *“Điều gì có thể xảy ra?”*\n",
    "* Mục tiêu: Dự đoán tương lai dựa trên dữ liệu lịch sử\n",
    "* Ví dụ: dự đoán doanh thu, nhu cầu tiêu dùng, rủi ro tín dụng\n",
    "* Kỹ thuật: hồi quy, cây quyết định, random forest, boosting, neural networks\n",
    "* Xây dựng mô hình dự báo: với mức ngân sách cho các loại hình quảng cáo cố định, doanh thu sẽ là bao nhiêu\n",
    "\n",
    "*Phân tích định hướng hành động (Prescriptive Analytics)*\n",
    "\n",
    "* Câu hỏi: *“Chúng ta nên làm gì?”*\n",
    "* Mục tiêu: Đề xuất hành động tối ưu\n",
    "* Ví dụ: phân bổ ngân sách quảng cáo, tối ưu chuỗi cung ứng\n",
    "* Kỹ thuật: tối ưu hóa tuyến tính/phi tuyến, lập mô hình kịch bản, mô phỏng rủi ro\n",
    "* Với mô hình dự báo, và các ràng buộc về ngân sách, nên phân bổ ngân sách như thế nào để tối đa hóa lợi nhuận"
   ]
  },
  {
   "cell_type": "markdown",
   "metadata": {},
   "source": [
    "### Bước 5: Truyền đạt kết quả.\n",
    "\n",
    "Truyền đạt kết quả - Kể chuyện bằng dữ liệu (Data Storytelling): **Là kỹ năng quan trọng nhất của chuyên gia phân tích dữ liệu!**\n",
    "-   **Xác định đối tượng và mục tiêu**: Ai là người nghe? Điều gì quan trọng với họ?\n",
    "-   **Cấu trúc bài trình bày**: Logic, minh bạch về nguồn và phương pháp để xây dựng độ tin cậy.\n",
    "-   **Trực quan hóa dữ liệu (Data Visualization)**: Sử dụng biểu đồ (thanh, tròn, đường, cột...) để làm thông tin trở nên sống động và dễ hiểu.\n",
    "-   *A picture is worth a thousand words.* - *Một biểu đồ tốt có thể thay thế hàng ngàn lời nói*.\n",
    "\n",
    "**Ví dụ về trực quan hóa dữ liệu: Sự tiến bộ của y tế thế giới từ 1960.**\n",
    "\n",
    "- Xem dữ liệu [Gapminder](https://github.com/NCT-NEU/Sach_Khoa_hoc_du_lieu_python/blob/main/datasets/Gapminder.csv)\n",
    "\n",
    "- Dữ liệu có 12,000 dòng $\\times$ 10 cột\n",
    "\n",
    "- **Biểu đồ: Sự thay đổi của tuổi thọ trung bình và tỷ lệ tử vong của trẻ sơ sinh từ 1960**\n",
    "\n",
    "![](https://raw.githubusercontent.com/NCT-NEU/Sach_Khoa_hoc_du_lieu_python/main/Khoa%20h%E1%BB%8Dc%20d%E1%BB%AF%20li%E1%BB%87u%20c%C6%A1%20b%E1%BA%A3n%20trong%20kinh%20t%E1%BA%BF%20v%C3%A0%20kinh%20doanh/Tu%E1%BA%A7n%2001.%20B%C3%A0i%20gi%E1%BA%A3ng%201/Hinh_anh/gapminder.gif)\n",
    "\n",
    "**Ví dụ về trực quan hóa dữ liệu: Đại dịch covid đã diễn biến như thế nào**\n",
    "\n",
    "- Xem dữ liệu [Covid19](https://github.com/NCT-NEU/Sach_Khoa_hoc_du_lieu_python/blob/main/datasets/Covid19-sample.csv)\n",
    "\n",
    "- Dữ liệu có kích thước 420,000 dòng $\\times$ 67 cột\n",
    "\n",
    "- **Biểu đồ: Diễn biến của đại dịch covid-19 từ 2019 đến 2023** \n",
    "\n",
    "![](https://raw.githubusercontent.com/NCT-NEU/Sach_Khoa_hoc_du_lieu_python/main/Khoa%20h%E1%BB%8Dc%20d%E1%BB%AF%20li%E1%BB%87u%20c%C6%A1%20b%E1%BA%A3n%20trong%20kinh%20t%E1%BA%BF%20v%C3%A0%20kinh%20doanh/Tu%E1%BA%A7n%2001.%20B%C3%A0i%20gi%E1%BA%A3ng%201/Hinh_anh/Covid19.gif)"
   ]
  },
  {
   "cell_type": "markdown",
   "metadata": {
    "slideshow": {
     "slide_type": "slide"
    }
   },
   "source": [
    "## Xây dựng mô hình học máy (Machine Learning)."
   ]
  },
  {
   "cell_type": "markdown",
   "metadata": {
    "slideshow": {
     "slide_type": "subslide"
    }
   },
   "source": [
    "### Giới thiệu chung về xây dựng mô hình.\n",
    "\n",
    "-   **Học máy (Machine Learning)**: Lĩnh vực trích xuất tri thức từ dữ liệu thông qua các thuật toán và mô hình toán học.\n",
    "\n",
    "-   **Tại sao cần Học máy?**\n",
    "    -   Các hệ thống dựa trên luật (rule-based) như `if-else` có nhiều hạn chế: cứng nhắc, khó mở rộng, phụ thuộc tri thức chuyên gia.\n",
    "    -   Học máy cho phép hệ thống **tự động học** các quy luật và đặc trưng từ dữ liệu, giúp linh hoạt và thích ứng tốt hơn.\n",
    "\n",
    "-   **Các loại bài toán Học máy:**\n",
    "    -   **Học có giám sát (Supervised Learning)**: Dữ liệu đầu vào có gán nhãn (đầu ra mong muốn). Mục tiêu là dự đoán đầu ra cho dữ liệu mới. (VD: phân loại thư rác, dự đoán giá nhà).\n",
    "    -   **Học không giám sát (Unsupervised Learning)**: Dữ liệu đầu vào không có nhãn. Mục tiêu là khám phá cấu trúc ẩn trong dữ liệu. (VD: phân nhóm khách hàng, phát hiện bất thường)."
   ]
  },
  {
   "cell_type": "markdown",
   "metadata": {
    "slideshow": {
     "slide_type": "subslide"
    }
   },
   "source": [
    "### Ứng dụng Học máy trong Kinh tế và Kinh doanh.\n",
    "\n",
    "**Ví dụ:** Một công ty muốn phân tích tác động của chi phí quảng cáo (TV, Mạng xã hội, Tờ rơi) đến doanh thu bán hàng.\n",
    "\n",
    "**Câu hỏi:**\n",
    "1.  Mối liên hệ giữa chi phí quảng cáo và doanh thu mạnh đến mức nào?\n",
    "2.  Phương tiện nào đóng góp nhiều nhất?\n",
    "3.  Tác động có tuyến tính không?\n",
    "4.  Có sự tương tác giữa các loại hình quảng cáo không?\n",
    "5.  Phân bổ ngân sách vào các loại hình quảng cáo như thế nào?\n",
    "\n",
    "**Dữ liệu về chi phí cho các loại hình quảng cáo và doanh thu của 55 cửa hàng**: [doanh thu bán hàng và chi phí quảng cáo](https://github.com/NCT-NEU/Sach_Khoa_hoc_du_lieu_python/blob/main/datasets/Sales_dataset.csv)"
   ]
  },
  {
   "cell_type": "markdown",
   "metadata": {},
   "source": [
    "- **Trực quan hóa dữ liệu: chi phí quảng cáo và doanh thu của các cửa hàng**"
   ]
  },
  {
   "cell_type": "code",
   "execution_count": 9,
   "metadata": {},
   "outputs": [
    {
     "data": {
      "image/png": "[encoded data removed]",
      "text/plain": [
       "<Figure size 1200x400 with 3 Axes>"
      ]
     },
     "metadata": {},
     "output_type": "display_data"
    }
   ],
   "source": [
    "# ================================\n",
    "# Phân tích mối quan hệ giữa chi phí quảng cáo và doanh thu\n",
    "# ================================\n",
    "\n",
    "# 1. Nhập các thư viện cần thiết\n",
    "import pandas as pd                  # Xử lý dữ liệu dạng bảng\n",
    "import numpy as np                  # Xử lý số liệu\n",
    "import seaborn as sns               # Trực quan hóa nâng cao\n",
    "import matplotlib.pyplot as plt     # Trực quan hóa cơ bản\n",
    "import warnings                     # Tắt cảnh báo\n",
    "warnings.filterwarnings(\"ignore\", category=UserWarning)\n",
    "\n",
    "# 2. Đọc dữ liệu từ GitHub\n",
    "path = 'https://raw.githubusercontent.com/NCT-NEU/Sach_Khoa_hoc_du_lieu_python/main/datasets/Sales_dataset.csv'\n",
    "df = pd.read_csv(path, index_col=0, parse_dates=True)\n",
    "\n",
    "# 3. Tạo figure chứa 3 biểu đồ con (subplots)\n",
    "fig = plt.figure(figsize=(12, 4))\n",
    "\n",
    "# 3.1. Biểu đồ 1: TV vs Sales\n",
    "ax1 = fig.add_subplot(1, 3, 1)\n",
    "sns.regplot(x=\"TV\", y=\"Sales\", data=df, ax=ax1)\n",
    "ax1.set_title(\"TV vs Doanh thu\")\n",
    "\n",
    "# 3.2. Biểu đồ 2: Social Media vs Sales\n",
    "ax2 = fig.add_subplot(1, 3, 2)\n",
    "sns.regplot(x=\"Social_Media\", y=\"Sales\", data=df, ax=ax2)\n",
    "ax2.set_title(\"Mạng xã hội vs Doanh thu\")\n",
    "\n",
    "# 3.3. Biểu đồ 3: Flyer vs Sales\n",
    "ax3 = fig.add_subplot(1, 3, 3)\n",
    "sns.regplot(x=\"Flyer\", y=\"Sales\", data=df, ax=ax3)\n",
    "ax3.set_title(\"Tờ rơi vs Doanh thu\")\n",
    "\n",
    "# 4. Tiêu đề tổng và định dạng hiển thị\n",
    "fig.suptitle('Tác động của các loại chi phí quảng cáo đến doanh thu bán hàng', fontsize=14)\n",
    "plt.subplots_adjust(top=0.85)\n",
    "\n",
    "# 5. Lưu và hiển thị biểu đồ\n",
    "plt.savefig('fig1.png', dpi=500)\n",
    "plt.show()"
   ]
  },
  {
   "cell_type": "markdown",
   "metadata": {
    "slideshow": {
     "slide_type": "subslide"
    }
   },
   "source": [
    "- **Trực quan hóa dữ liệu: mối liên hệ giữa các chi phí quảng cáo**"
   ]
  },
  {
   "cell_type": "code",
   "execution_count": 11,
   "metadata": {
    "slideshow": {
     "slide_type": "fragment"
    }
   },
   "outputs": [
    {
     "data": {
      "image/png": "[encoded data removed]",
      "text/plain": [
       "<Figure size 1200x400 with 3 Axes>"
      ]
     },
     "metadata": {},
     "output_type": "display_data"
    }
   ],
   "source": [
    "### Trực quan hóa dữ liệu: chi phí quảng cáo và doanh thu của các cửa hàng\n",
    "# =============================================\n",
    "# Trực quan hóa mối quan hệ giữa các kênh quảng cáo\n",
    "# =============================================\n",
    "\n",
    "# 1. Nhập thư viện cần thiết\n",
    "import pandas as pd\n",
    "import numpy as np\n",
    "import seaborn as sns\n",
    "import matplotlib.pyplot as plt\n",
    "import warnings\n",
    "warnings.filterwarnings(\"ignore\", category=UserWarning)\n",
    "\n",
    "# 2. Đọc dữ liệu từ GitHub\n",
    "url = 'https://raw.githubusercontent.com/NCT-NEU/Sach_Khoa_hoc_du_lieu_python/main/datasets/Sales_dataset.csv'\n",
    "df = pd.read_csv(url, index_col=0, parse_dates=True)\n",
    "\n",
    "# 3. Tạo figure với 3 biểu đồ con (subplot)\n",
    "fig, axes = plt.subplots(1, 3, figsize=(12, 4))\n",
    "\n",
    "# 3.1 TV vs Flyer\n",
    "sns.regplot(x=\"TV\", y=\"Flyer\", data=df, ax=axes[0])\n",
    "axes[0].set_title(\"TV vs Flyer\")\n",
    "\n",
    "# 3.2 Flyer vs Social Media\n",
    "sns.regplot(x=\"Flyer\", y=\"Social_Media\", data=df, ax=axes[1])\n",
    "axes[1].set_title(\"Flyer vs Mạng xã hội\")\n",
    "\n",
    "# 3.3 Social Media vs TV\n",
    "sns.regplot(x=\"Social_Media\", y=\"TV\", data=df, ax=axes[2])\n",
    "axes[2].set_title(\"Mạng xã hội vs TV\")\n",
    "\n",
    "# 4. Tiêu đề tổng và định dạng bố cục\n",
    "fig.suptitle(\"Tác động qua lại giữa các khoản chi phí quảng cáo\", fontsize=14)\n",
    "plt.tight_layout()\n",
    "plt.subplots_adjust(top=0.85)\n",
    "\n",
    "# 5. Lưu và hiển thị biểu đồ\n",
    "plt.savefig(\"fig2.png\")\n",
    "plt.show()"
   ]
  },
  {
   "cell_type": "markdown",
   "metadata": {
    "slideshow": {
     "slide_type": "subslide"
    }
   },
   "source": [
    "### Xây dựng mô hình hồi quy tuyến tính để đánh giá ảnh hưởng của các biến đến doanh thu bán hàng.\n",
    " \n",
    "Để trả lời các câu hỏi nghiên cứu, chúng ta cần xây dựng một mô hình toán học. Về bản chất, đây là một hàm số $f$ mô tả mối quan hệ giữa doanh thu và các khoản chi cho quảng cáo:\n",
    "\n",
    "$$\n",
    "\\text{Sales} = f(\\text{TV}, \\text{SocialMedia}, \\text{Flyer}) + \\epsilon\n",
    "$$\n",
    "\n",
    "- `Sales`: biến phụ thuộc (đầu ra)\n",
    "- `TV`, `SocialMedia`, `Flyer`: các biến giải thích (đầu vào)\n",
    "- $\\epsilon$: sai số ngẫu nhiên không thể giải thích được\n",
    "\n",
    "**Mục tiêu của mô hình**\n",
    "\n",
    "- Ước lượng hàm $f$ từ dữ liệu quan sát được\n",
    "- Mô tả định lượng tác động của từng kênh quảng cáo đến doanh thu\n",
    "\n",
    "**Phương pháp tiếp cận: Hồi quy tuyến tính**\n",
    "\n",
    "Giả định hàm $f$ là tuyến tính theo các biến đầu vào:\n",
    "\n",
    "$$\n",
    "f(\\text{TV}, \\text{SocialMedia}, \\text{Flyer}) = \\beta_0 + \\beta_1 \\cdot \\text{TV} + \\beta_2 \\cdot \\text{SocialMedia} + \\beta_3 \\cdot \\text{Flyer}\n",
    "$$\n",
    "\n",
    "**Ước lượng mô hình ban đầu (bằng Python)**\n",
    "\n",
    "$$\n",
    "\\text{Sales} = 4.09 + 0.016 \\cdot \\text{TV} + 0.063 \\cdot \\text{SocialMedia} + 0.012 \\cdot \\text{Flyer}\n",
    "$$\n",
    "\n",
    "- Phương pháp ước lượng: bình phương nhỏ nhất (OLS)\n",
    "\n",
    "**Kiểm định ý nghĩa các hệ số**\n",
    "\n",
    "- Hệ số 0.012 của biến `Flyer` **không có ý nghĩa thống kê**\n",
    "- ⇒ Quảng cáo bằng tờ rơi không ảnh hưởng rõ rệt đến doanh thu\n",
    "\n",
    "**Ước lượng lại mô hình sau khi loại bỏ `Flyer`**\n",
    "\n",
    "$$\n",
    "\\text{Sales} = 4.09 + 0.019 \\cdot \\text{TV} + 0.070 \\cdot \\text{SocialMedia}\n",
    "$$\n",
    "\n",
    "- Cả hai hệ số `TV` và `SocialMedia` đều **có ý nghĩa thống kê**\n",
    "\n",
    "**Kết luận**\n",
    "\n",
    "- **TV** và **Social Media** có tác động tích cực và đáng kể đến doanh thu\n",
    "- **Flyer** không mang lại hiệu quả trong việc thúc đẩy doanh thu bán hàng"
   ]
  },
  {
   "cell_type": "markdown",
   "metadata": {
    "slideshow": {
     "slide_type": "slide"
    }
   },
   "source": [
    "### Ứng dụng mô hình học máy trên dữ liệu thực tế: Phân loại các loài hoa Iris."
   ]
  },
  {
   "cell_type": "markdown",
   "metadata": {
    "slideshow": {
     "slide_type": "subslide"
    }
   },
   "source": [
    "**Bài toán**: Xây dựng mô hình dự đoán loài hoa *Iris* (setosa, versicolor, virginica) dựa trên các đặc trưng:\n",
    "-   Chiều dài và chiều rộng cánh hoa (petal length & width).\n",
    "-   Chiều dài và chiều rộng đài hoa (sepal length & width).\n",
    "\n",
    "![Hoa iris](https://raw.githubusercontent.com/NCT-NEU/Sach_Khoa_hoc_du_lieu_python/main/Khoa%20h%E1%BB%8Dc%20d%E1%BB%AF%20li%E1%BB%87u%20c%C6%A1%20b%E1%BA%A3n%20trong%20kinh%20t%E1%BA%BF%20v%C3%A0%20kinh%20doanh/Tu%E1%BA%A7n%2001.%20B%C3%A0i%20gi%E1%BA%A3ng%201/Hinh_anh/iris.png)\n",
    "\n",
    "Đây là một bài toán **phân loại có giám sát** (Supervised Classification)."
   ]
  },
  {
   "cell_type": "markdown",
   "metadata": {},
   "source": [
    "#### Làm quen với dữ liệu"
   ]
  },
  {
   "cell_type": "code",
   "execution_count": null,
   "metadata": {
    "slideshow": {
     "slide_type": "fragment"
    }
   },
   "outputs": [],
   "source": [
    "from sklearn.datasets import load_iris\n",
    "import pandas as pd\n",
    "\n",
    "# Tải dữ liệu iris\n",
    "iris_dataset = load_iris()\n",
    "\n",
    "# Tạo DataFrame từ dữ liệu và tên cột\n",
    "df = pd.DataFrame(data=iris_dataset.data, columns=iris_dataset.feature_names)\n",
    "\n",
    "# Thêm cột target (nhãn loài)\n",
    "df[\"target\"] = iris_dataset.target\n",
    "\n",
    "# (Tùy chọn) Thêm tên loài (setosa, versicolor, virginica)\n",
    "df[\"species\"] = pd.Categorical.from_codes(iris_dataset.target, iris_dataset.target_names)\n",
    "\n",
    "# Xem dữ liệu\n",
    "df.head()"
   ]
  },
  {
   "cell_type": "markdown",
   "metadata": {
    "slideshow": {
     "slide_type": "subslide"
    }
   },
   "source": [
    "#### Dữ liệu Huấn luyện và Kiểm tra\n",
    "\n",
    "Để đánh giá khách quan hiệu suất của mô hình, ta cần chia dữ liệu thành 2 phần:\n",
    "-   **Tập huấn luyện (Training Set)**: Dùng để xây dựng mô hình.\n",
    "-   **Tập kiểm tra (Test Set)**: Dùng để đánh giá mô hình trên dữ liệu nó chưa từng thấy.\n",
    "\n",
    "Sử dụng hàm `train_test_split` của `scikit-learn`."
   ]
  },
  {
   "cell_type": "code",
   "execution_count": null,
   "metadata": {
    "slideshow": {
     "slide_type": "fragment"
    }
   },
   "outputs": [],
   "source": [
    "from sklearn.model_selection import train_test_split\n",
    "\n",
    "X_train, X_test, Y_train, Y_test = train_test_split(\n",
    "    df[[\"sepal length (cm)\", \"sepal width (cm)\", \"petal length (cm)\", \"petal width (cm)\"]], df['species'], \n",
    "    random_state = 10, test_size=0.3)"
   ]
  },
  {
   "cell_type": "code",
   "execution_count": null,
   "metadata": {
    "slideshow": {
     "slide_type": "fragment"
    }
   },
   "outputs": [],
   "source": [
    "print(\"Hình dạng X_train: {}\".format(X_train.shape))\n",
    "print(\"Hình dạng Y_train: {}\".format(Y_train.shape))"
   ]
  },
  {
   "cell_type": "code",
   "execution_count": null,
   "metadata": {
    "slideshow": {
     "slide_type": "fragment"
    }
   },
   "outputs": [],
   "source": [
    "print(\"Hình dạng X_test: {}\".format(X_test.shape))\n",
    "print(\"Hình dạng Y_test: {}\".format(Y_test.shape))"
   ]
  },
  {
   "cell_type": "markdown",
   "metadata": {
    "slideshow": {
     "slide_type": "subslide"
    }
   },
   "source": [
    "#### Phân tích dữ liệu khám phá (EDA)\n",
    "\n",
    "Trước khi xây dựng mô hình, cần kiểm tra và khám phá dữ liệu để:\n",
    "-   Hiểu cấu trúc và mối quan hệ giữa các biến.\n",
    "-   Phát hiện các điểm bất thường hoặc sai lệch.\n",
    "\n",
    "Một trong những công cụ hiệu quả nhất là **trực quan hóa**."
   ]
  },
  {
   "cell_type": "code",
   "execution_count": null,
   "metadata": {
    "slideshow": {
     "slide_type": "fragment"
    }
   },
   "outputs": [],
   "source": [
    "import seaborn as sns\n",
    "import matplotlib.pyplot as plt\n",
    "\n",
    "# Thống kê mô tả theo loài\n",
    "display(X_train.groupby(Y_train).agg([\"mean\", \"std\", \"min\", \"max\"]))\n",
    "\n",
    "# Phân phối các loài\n",
    "display(Y_train.describe())"
   ]
  },
  {
   "cell_type": "markdown",
   "metadata": {
    "slideshow": {
     "slide_type": "subslide"
    }
   },
   "source": [
    "#### Biểu đồ phân tán để xem xét mối quan hệ"
   ]
  },
  {
   "cell_type": "code",
   "execution_count": null,
   "metadata": {
    "slideshow": {
     "slide_type": "fragment"
    }
   },
   "outputs": [],
   "source": [
    "sns.scatterplot(\n",
    "    data= X_train,\n",
    "    x=\"petal length (cm)\",\n",
    "    y=\"petal width (cm)\",\n",
    "    hue = Y_train,  \n",
    "    palette = \"Set1\", \n",
    "    s = 100,  # size điểm\n",
    "    edgecolor='k'\n",
    ")\n",
    "\n",
    "plt.title(\"Biểu đồ phân tán Petal Length vs. Petal Width theo loại hoa\")\n",
    "plt.show()"
   ]
  },
  {
   "cell_type": "markdown",
   "metadata": {
    "slideshow": {
     "slide_type": "subslide"
    }
   },
   "source": [
    "#### Mô hình 1: k-Láng giềng gần nhất (k-Nearest Neighbors)\n",
    "\n",
    "**Ý tưởng**: Dự đoán nhãn của một điểm dữ liệu mới bằng cách tìm các điểm trong tập huấn luyện gần nhất với nó, và gán nhãn của đa số các điểm gần nhất làm kết quả.\n",
    "\n",
    "-   **Huấn luyện**: Chỉ đơn giản là lưu trữ toàn bộ tập dữ liệu huấn luyện.\n",
    "-   **Dự đoán**: Tìm k điểm gần nhất và bỏ phiếu."
   ]
  },
  {
   "cell_type": "code",
   "execution_count": null,
   "metadata": {
    "slideshow": {
     "slide_type": "fragment"
    }
   },
   "outputs": [],
   "source": [
    "from sklearn.neighbors import KNeighborsClassifier\n",
    "knn = KNeighborsClassifier(n_neighbors=3)"
   ]
  },
  {
   "cell_type": "code",
   "execution_count": null,
   "metadata": {
    "slideshow": {
     "slide_type": "fragment"
    }
   },
   "outputs": [],
   "source": [
    "knn.fit(X_train, Y_train)"
   ]
  },
  {
   "cell_type": "markdown",
   "metadata": {
    "slideshow": {
     "slide_type": "subslide"
    }
   },
   "source": [
    "#### Đưa ra dự đoán và đánh giá mô hình\n",
    "\n",
    "Sử dụng tập kiểm tra (`X_test`) để đánh giá độ chính xác của mô hình."
   ]
  },
  {
   "cell_type": "code",
   "execution_count": null,
   "metadata": {
    "slideshow": {
     "slide_type": "fragment"
    }
   },
   "outputs": [],
   "source": [
    "# Tạo một mẫu dữ liệu mới để dự đoán\n",
    "X_new = np.array([[5, 2.9, 1, 0.2]])\n",
    "prediction = knn.predict(X_new)\n",
    "print(\"Dự đoán cho mẫu mới: {}\".format(prediction))"
   ]
  },
  {
   "cell_type": "code",
   "execution_count": null,
   "metadata": {
    "slideshow": {
     "slide_type": "fragment"
    }
   },
   "outputs": [],
   "source": [
    "# Đánh giá trên tập kiểm tra\n",
    "Y_pred = knn.predict(X_test)\n",
    "print(\"Dự đoán tập kiểm tra:\\n {}\".format(Y_pred))"
   ]
  },
  {
   "cell_type": "code",
   "execution_count": null,
   "metadata": {
    "slideshow": {
     "slide_type": "fragment"
    }
   },
   "outputs": [],
   "source": [
    "# Tính độ chính xác\n",
    "print(\"Điểm tập kiểm tra: {:.2f}\".format(np.mean(Y_pred == Y_test)))"
   ]
  },
  {
   "cell_type": "code",
   "execution_count": null,
   "metadata": {
    "slideshow": {
     "slide_type": "fragment"
    }
   },
   "outputs": [],
   "source": [
    "# Hoặc dùng phương thức score\n",
    "print(\"Điểm tập kiểm tra: {:.2f}\".format(knn.score(X_test, Y_test)))"
   ]
  },
  {
   "cell_type": "markdown",
   "metadata": {
    "slideshow": {
     "slide_type": "subslide"
    }
   },
   "source": [
    "#### Mô hình 2: Cây quyết định (Decision Tree)\n",
    "\n",
    "**Ý tưởng**: Xây dựng một tập hợp các quy tắc phân tách dữ liệu dưới dạng cây để đưa ra quyết định.\n",
    "\n",
    "Chúng ta sẽ xây dựng một cây quyết định với độ sâu tối đa là 2."
   ]
  },
  {
   "cell_type": "code",
   "execution_count": null,
   "metadata": {
    "slideshow": {
     "slide_type": "fragment"
    }
   },
   "outputs": [],
   "source": [
    "from sklearn.tree import DecisionTreeClassifier\n",
    "\n",
    "# Khởi tạo mô hình cây quyết định với độ sâu tối đa là 2\n",
    "tree = DecisionTreeClassifier(max_depth=2)\n",
    "tree.fit(X_train, Y_train)\n",
    "\n",
    "# Đánh giá mô hình\n",
    "print(\"Điểm tập kiểm tra: {:.2f}\".format(tree.score(X_test, Y_test)))"
   ]
  },
  {
   "cell_type": "markdown",
   "metadata": {
    "slideshow": {
     "slide_type": "slide"
    }
   },
   "source": [
    "### Ứng dụng thực tế 2: Dự đoán giá bất động sản tại Hà Nội"
   ]
  },
  {
   "cell_type": "markdown",
   "metadata": {
    "slideshow": {
     "slide_type": "subslide"
    }
   },
   "source": [
    "**Bài toán**: Xây dựng mô hình dự đoán giá nhà (triệu đồng/m²) tại Hà Nội dựa trên các đặc trưng:\n",
    "-   Vị trí (Quận, Huyện).\n",
    "-   Tính chất nhà ở (Loại hình, số tầng, số phòng ngủ, diện tích...).\n",
    "-   Pháp lý (Giấy tờ).\n",
    "\n",
    "Đây là một bài toán **hồi quy có giám sát** (Supervised Regression).\n",
    "\n",
    "#### Dữ liệu thô ban đầu"
   ]
  },
  {
   "cell_type": "code",
   "execution_count": null,
   "metadata": {
    "slideshow": {
     "slide_type": "fragment"
    }
   },
   "outputs": [],
   "source": [
    "path = 'https://raw.githubusercontent.com/nguyenquanghuy85/Khdl-ktkd-python/main/HN_housing_price_raw.csv'\n",
    "df_raw = pd.read_csv(path, index_col=0, parse_dates=True)\n",
    "display(df_raw.head())"
   ]
  },
  {
   "cell_type": "markdown",
   "metadata": {
    "slideshow": {
     "slide_type": "subslide"
    }
   },
   "source": [
    "#### Phân tích khai phá & Tiền xử lý\n",
    "\n",
    "Dữ liệu thực tế thường không hoàn hảo. Cần các bước làm sạch và chuẩn hóa.\n",
    "\n",
    "**Ví dụ**: Cột `Giá/m2` đang ở dạng chuỗi ký tự và có nhiều đơn vị khác nhau.\n",
    "-   Tách giá trị số và đơn vị.\n",
    "-   Chuẩn hóa về cùng một đơn vị (triệu đồng/m²)."
   ]
  },
  {
   "cell_type": "code",
   "execution_count": null,
   "metadata": {
    "slideshow": {
     "slide_type": "fragment"
    }
   },
   "outputs": [],
   "source": [
    "# Tách cột giá nhà thành 2 cột price_value và price_unit\n",
    "df_raw[[\"price_value\", \"price_unit\"]] = df_raw[\"Giá/m2\"].str.extract(r\"([\\\\d.,]+)\\\\s*(.*)\")\n",
    "\n",
    "# Chuyển đổi định dạng số\n",
    "df_raw[\"price_value\"] = (\n",
    "    df_raw[\"price_value\"]\n",
    "    .astype(str)                     # Đảm bảo là chuỗi\n",
    "    .str.replace(\".\", \"\", regex=False)\n",
    "    .str.replace(\",\", \".\", regex=False)\n",
    "    .astype(float)                   # Chuyển sang số thực\n",
    ")\n",
    "\n",
    "# Hàm số dùng để chuyển đổi đơn vị\n",
    "def normalize_price(value, unit):\n",
    "    if unit == \"triệu/m²\":\n",
    "        return value\n",
    "    elif unit == \"đ/m²\":\n",
    "        return value / 10**6\n",
    "    elif unit == \"tỷ/m²\":\n",
    "        return value * 10**3\n",
    "    else:\n",
    "        return None\n",
    "\n",
    "# Áp dụng cho dữ liệu giá nhà\n",
    "df_raw[\"price_value\"] = df_raw.apply(\n",
    "    lambda row: normalize_price(row[\"price_value\"], row[\"price_unit\"]), axis=1\n",
    ")\n",
    "\n",
    "# Xem lại các mô tả thống kê cho biến price_value\n",
    "df_raw[\"price_value\"].describe()"
   ]
  },
  {
   "cell_type": "markdown",
   "metadata": {
    "slideshow": {
     "slide_type": "subslide"
    }
   },
   "source": [
    "#### Trực quan hóa dữ liệu đã làm sạch\n",
    "\n",
    "Sau khi làm sạch, ta có thể khám phá mối quan hệ giữa các đặc trưng và giá nhà."
   ]
  },
  {
   "cell_type": "code",
   "execution_count": null,
   "metadata": {
    "slideshow": {
     "slide_type": "fragment"
    }
   },
   "outputs": [],
   "source": [
    "path = 'https://raw.githubusercontent.com/nguyenquanghuy85/Khdl-ktkd-python/main/HN_housing_price_clean.csv'\n",
    "df_clean = pd.read_csv(path, index_col=0, parse_dates=True)\n",
    "display(df_clean.head())"
   ]
  },
  {
   "cell_type": "code",
   "execution_count": null,
   "metadata": {
    "slideshow": {
     "slide_type": "fragment"
    }
   },
   "outputs": [],
   "source": [
    "df1 = df_clean.copy()\n",
    "\n",
    "# Sắp xếp các quận theo giá trung bình\n",
    "df1['Quận'] = pd.Categorical(df1['Quận'], \n",
    "                             categories=df1.groupby('Quận')['Giá/m2'].mean().sort_values().index,\n",
    "                             ordered=True)\n",
    "\n",
    "# Vẽ boxplot theo Quận\n",
    "plt.figure(figsize=(10, 6))\n",
    "sns.boxplot(x='Quận', y='Giá/m2', data=df1, color = \"#00A7F0\")\n",
    "plt.xticks(rotation=90)\n",
    "plt.ylim(-10, 650)\n",
    "plt.title('Phân phối giá nhà theo Quận')\n",
    "plt.tight_layout()\n",
    "plt.show()"
   ]
  },
  {
   "cell_type": "code",
   "execution_count": null,
   "metadata": {
    "slideshow": {
     "slide_type": "fragment"
    }
   },
   "outputs": [],
   "source": [
    "# Sắp xếp theo số tầng\n",
    "df1['Số tầng'] = pd.Categorical(df1['Số tầng'], \n",
    "                            categories=df1.groupby('Số tầng')['Giá/m2'].mean().sort_values().index,\n",
    "                            ordered=True)\n",
    "\n",
    "# Vẽ boxplot theo Số tầng\n",
    "plt.figure(figsize=(10, 6))\n",
    "sns.boxplot(x='Số tầng', y='Giá/m2', data=df1, color = \"#00A7F0\")\n",
    "plt.ylim(-10, 650)\n",
    "plt.title('Phân phối giá nhà theo Số tầng')\n",
    "plt.tight_layout()\n",
    "plt.show()"
   ]
  },
  {
   "cell_type": "markdown",
   "metadata": {
    "slideshow": {
     "slide_type": "subslide"
    }
   },
   "source": [
    "#### Xây dựng mô hình Rừng ngẫu nhiên (Random Forest)\n",
    "\n",
    "**Ý tưởng**: Xây dựng nhiều cây quyết định độc lập và lấy trung bình kết quả dự đoán để giảm sai số và tránh khớp quá mức (overfitting).\n",
    "\n",
    "-   **Chia dữ liệu**: Train/Test\n",
    "-   **Mã hóa biến phân loại**: One-Hot Encoding.\n",
    "-   **Huấn luyện mô hình**."
   ]
  },
  {
   "cell_type": "code",
   "execution_count": null,
   "metadata": {
    "slideshow": {
     "slide_type": "fragment"
    }
   },
   "outputs": [],
   "source": [
    "df_model = df_clean.copy()\n",
    "# Thống nhất các biến kiểu số\n",
    "num_vars = [\"Diện tích\", \"Dài\",\t\"Rộng\", \"Giá/m2\"]\n",
    "for var in num_vars:\n",
    "    df_model[var] = df_model[var].astype('float')\n",
    "    \n",
    "X_train, X_test, Y_train, Y_test = train_test_split(\n",
    "    df_model[[\"Quận\", \"Huyện\", \"Loại hình nhà ở\", \"Giấy tờ pháp lý\",\"Số tầng\",\"Số phòng ngủ\",\"Diện tích\", \"Dài\",\"Rộng\"]], df_model[\"Giá/m2\"], \n",
    "    random_state = 0, test_size=0.3)\n",
    "\n",
    "# Chuyển đổi biến sang kiểu one hot\n",
    "X_train_encoded = pd.get_dummies(X_train, drop_first=True)\n",
    "X_test_encoded = pd.get_dummies(X_test, drop_first=True)\n",
    "\n",
    "# Đồng bộ hóa cột giữa train/test\n",
    "X_train_encoded, X_test_encoded = X_train_encoded.align(X_test_encoded, join='left', axis=1, fill_value=0)"
   ]
  },
  {
   "cell_type": "code",
   "execution_count": null,
   "metadata": {
    "slideshow": {
     "slide_type": "fragment"
    }
   },
   "outputs": [],
   "source": [
    "from sklearn.ensemble import RandomForestRegressor\n",
    "\n",
    "# Khởi tạo mô hình Random Forest\n",
    "rf_model = RandomForestRegressor(\n",
    "    n_estimators = 2000,      # số lượng cây\n",
    "    max_depth = 50,        # độ sâu tối đa\n",
    "    max_features = 9,        # số lượng đặc trưng của mỗi cây quyết định\n",
    "    random_state = 10,       # khởi tạo ngẫu nhiên để tái lập kết quả\n",
    ")\n",
    "\n",
    "# Huấn luyện mô hình với dữ liệu huấn luyện\n",
    "rf_model.fit(X_train_encoded, Y_train)"
   ]
  },
  {
   "cell_type": "markdown",
   "metadata": {
    "slideshow": {
     "slide_type": "subslide"
    }
   },
   "source": [
    "#### Đánh giá mô hình Hồi quy\n",
    "\n",
    "Các chỉ số thường dùng:\n",
    "-   **Sai số tuyệt đối trung bình (Mean Absolute Error - MAE)**: Sai lệch trung bình tuyệt đối.\n",
    "-   **Hệ số xác định (R-squared - R²)**: Tỷ lệ phương sai của biến mục tiêu được mô hình giải thích (từ 0 đến 1, càng cao càng tốt)."
   ]
  },
  {
   "cell_type": "code",
   "execution_count": null,
   "metadata": {
    "slideshow": {
     "slide_type": "fragment"
    }
   },
   "outputs": [],
   "source": [
    "from sklearn.metrics import r2_score, mean_absolute_error\n",
    "\n",
    "Y_pred = rf_model.predict(X_test_encoded)\n",
    "\n",
    "print(f\"Mean Absolute Error (MAE): {mean_absolute_error(Y_test, Y_pred):.2f}\")\n",
    "print(f\"R-squared (R²): {r2_score(Y_test, Y_pred):.3f}\")"
   ]
  },
  {
   "cell_type": "code",
   "execution_count": null,
   "metadata": {
    "slideshow": {
     "slide_type": "fragment"
    }
   },
   "outputs": [],
   "source": [
    "# Tạo đồ thị scatter: Giá thực tế vs Giá dự đoán\n",
    "plt.figure(figsize=(6, 6))\n",
    "sns.scatterplot(x=Y_test, y=Y_pred)\n",
    "\n",
    "# Thêm đường chéo y = x để tham chiếu\n",
    "plt.plot([Y_test.min(), Y_test.max()],\n",
    "         [Y_test.min(), Y_test.max()], color = \"grey\", linestyle='--')\n",
    "\n",
    "# Nhãn trục và tiêu đề\n",
    "plt.xlabel('Giá thực tế (Y_test)')\n",
    "plt.ylabel('Giá dự đoán (Y_pred)')\n",
    "plt.title('So sánh giá thực tế và giá dự đoán')\n",
    "plt.tight_layout()\n",
    "plt.show()"
   ]
  },
  {
   "cell_type": "markdown",
   "metadata": {
    "slideshow": {
     "slide_type": "slide"
    }
   },
   "source": [
    "### Ứng dụng thực tế 3: Tìm khách hàng tiềm năng cho chiến dịch quảng cáo"
   ]
  },
  {
   "cell_type": "markdown",
   "metadata": {
    "slideshow": {
     "slide_type": "subslide"
    }
   },
   "source": [
    "**Bài toán**: Một ngân hàng muốn thực hiện chiến dịch tiếp thị qua điện thoại để mời khách hàng gửi tiết kiệm có kỳ hạn. Với ngân sách giới hạn, họ chỉ có thể gọi cho 2000 khách hàng từ danh sách 20,000 người.\n",
    "\n",
    "**Mục tiêu**: Lựa chọn 2000 khách hàng có **khả năng đồng ý cao nhất** để tối ưu hóa tỷ lệ chuyển đổi.\n",
    "\n",
    "Đây là một bài toán **phân loại nhị phân có giám sát**.\n",
    "-   **Biến mục tiêu (`term_deposit`)**: 0 (không đồng ý) hoặc 1 (đồng ý).\n",
    "-   **Biến giải thích**: Thông tin khách hàng (tuổi, nghề nghiệp, tài sản...) và lịch sử tương tác."
   ]
  },
  {
   "cell_type": "code",
   "execution_count": null,
   "metadata": {
    "slideshow": {
     "slide_type": "fragment"
    }
   },
   "outputs": [],
   "source": [
    "path = 'https://raw.githubusercontent.com/nguyenquanghuy85/Khdl-ktkd-python/main/BankCustomerData_clean.csv'\n",
    "df_bank = pd.read_csv(path, index_col=0, parse_dates=True)\n",
    "display(df_bank.head())"
   ]
  },
  {
   "cell_type": "markdown",
   "metadata": {
    "slideshow": {
     "slide_type": "subslide"
    }
   },
   "source": [
    "#### Phân tích khai phá dữ liệu (EDA)\n",
    "\n",
    "**Tỷ lệ mất cân bằng (Imbalance Ratio)**: Tỷ lệ khách hàng đồng ý chỉ chiếm khoảng 9.3%. Lựa chọn ngẫu nhiên sẽ không hiệu quả."
   ]
  },
  {
   "cell_type": "code",
   "execution_count": null,
   "metadata": {
    "slideshow": {
     "slide_type": "fragment"
    }
   },
   "outputs": [],
   "source": [
    "sns.countplot(x='term_deposit', data=df_bank)\n",
    "plt.title('Phân phối biến mục tiêu')\n",
    "plt.show()\n",
    "print(df_bank['term_deposit'].value_counts(normalize=True))"
   ]
  },
  {
   "cell_type": "code",
   "execution_count": null,
   "metadata": {
    "slideshow": {
     "slide_type": "subslide"
    }
   },
   "outputs": [],
   "source": [
    "# Phân phối một số biến theo biến mục tiêu\n",
    "numerical_vars = ['balance', 'age']\n",
    "for col in numerical_vars:\n",
    "    plt.figure(figsize=(10, 4))\n",
    "    sns.histplot(data=df_bank, x=col, hue='term_deposit', bins=50, multiple=\"stack\")\n",
    "    plt.title(f'Phân phối biến {col}')\n",
    "    if col == 'balance': plt.xlim([-2000, 10000])\n",
    "    plt.show()"
   ]
  },
  {
   "cell_type": "markdown",
   "metadata": {
    "slideshow": {
     "slide_type": "subslide"
    }
   },
   "source": [
    "#### Xây dựng mô hình Hồi quy Logistic\n",
    "\n",
    "Chúng ta sẽ xây dựng mô hình để dự đoán xác suất một khách hàng sẽ đồng ý."
   ]
  },
  {
   "cell_type": "code",
   "execution_count": null,
   "metadata": {
    "slideshow": {
     "slide_type": "fragment"
    }
   },
   "outputs": [],
   "source": [
    "X_train, X_test, Y_train, Y_test = train_test_split(\n",
    "    df_bank[[\"job\", \"marital\", \"education\", \"housing\", \"loan\", \"previous\", \"campaign\",\"balance\"]], df_bank[\"term_deposit\"], \n",
    "    random_state = 0, test_size=0.5)\n",
    "\n",
    "# Chuyển đổi biến sang kiểu one hot\n",
    "X_train_encoded = pd.get_dummies(X_train, drop_first=True)\n",
    "X_test_encoded = pd.get_dummies(X_test, drop_first=True)\n",
    "\n",
    "# Đồng bộ hóa cột giữa train/test\n",
    "X_train_encoded, X_test_encoded = X_train_encoded.align(X_test_encoded, join='left', axis=1, fill_value=0)\n",
    "\n",
    "from sklearn.linear_model import LogisticRegression\n",
    "\n",
    "# Huấn luyện mô hình\n",
    "model = LogisticRegression(max_iter=1000, class_weight='balanced')\n",
    "model.fit(X_train_encoded, Y_train)"
   ]
  },
  {
   "cell_type": "markdown",
   "metadata": {
    "slideshow": {
     "slide_type": "subslide"
    }
   },
   "source": [
    "#### Đánh giá mô hình Phân loại\n",
    "\n",
    "Sử dụng **Ma trận nhầm lẫn (Confusion Matrix)** để xem xét chi tiết hiệu suất.\n",
    "-   **Accuracy**: Tỷ lệ dự đoán đúng trên tổng thể.\n",
    "-   **Precision**: Trong số các dự đoán là 1, có bao nhiêu là đúng?\n",
    "-   **Recall**: Trong số các trường hợp thực tế là 1, mô hình nhận diện được bao nhiêu?\n",
    "-   **F1-score**: Trung bình điều hòa của Precision và Recall."
   ]
  },
  {
   "cell_type": "code",
   "execution_count": null,
   "metadata": {
    "slideshow": {
     "slide_type": "fragment"
    }
   },
   "outputs": [],
   "source": [
    "from sklearn.metrics import classification_report, confusion_matrix\n",
    "\n",
    "# Dự đoán\n",
    "Y_pred = model.predict(X_test_encoded)\n",
    "\n",
    "# Đánh giá mô hình\n",
    "print(\"Confusion Matrix:\\n\", confusion_matrix(Y_test, Y_pred))\n",
    "print(\"\\nClassification Report:\\n\", classification_report(Y_test, Y_pred))"
   ]
  },
  {
   "cell_type": "markdown",
   "metadata": {
    "slideshow": {
     "slide_type": "subslide"
    }
   },
   "source": [
    "#### Áp dụng mô hình vào bài toán kinh doanh\n",
    "\n",
    "So sánh hiệu quả giữa việc chọn ngẫu nhiên và chọn dựa trên mô hình.\n",
    "\n",
    "-   **Ngẫu nhiên**: Chọn 2000 khách hàng -> Tỷ lệ thành công ~9.3% -> Khoảng **186** người đồng ý.\n",
    "-   **Dựa trên mô hình**: Chọn 2000 khách hàng có xác suất đồng ý cao nhất."
   ]
  },
  {
   "cell_type": "code",
   "execution_count": null,
   "metadata": {
    "slideshow": {
     "slide_type": "fragment"
    }
   },
   "outputs": [],
   "source": [
    "# Dự đoán xác suất đồng ý gửi tiết kiệm\n",
    "y_proba = model.predict_proba(X_test_encoded)[:, 1]\n",
    "\n",
    "# Tạo DataFrame kết quả\n",
    "df_proba = pd.DataFrame({'probability': y_proba, 'true_label': Y_test.values})\n",
    "\n",
    "# Sắp xếp theo xác suất giảm dần và chọn top 2000\n",
    "df_top2000 = df_proba.sort_values(by='probability', ascending=False).head(2000)\n",
    "\n",
    "# Số lượng khách hàng thực sự đồng ý trong top 2000\n",
    "success_count = sum(df_top2000['true_label'])\n",
    "print(f\"Số khách hàng đồng ý (Logistic Regression): {success_count}\")\n",
    "print(f\"Tỷ lệ chuyển đổi: {success_count/2000:.1%}\")"
   ]
  },
  {
   "cell_type": "markdown",
   "metadata": {
    "slideshow": {
     "slide_type": "subslide"
    }
   },
   "source": [
    "#### Thử nghiệm với mô hình Rừng ngẫu nhiên"
   ]
  },
  {
   "cell_type": "code",
   "execution_count": null,
   "metadata": {
    "slideshow": {
     "slide_type": "fragment"
    }
   },
   "outputs": [],
   "source": [
    "from sklearn.ensemble import RandomForestRegressor\n",
    "\n",
    "# Khởi tạo và huấn luyện mô hình Random Forest\n",
    "rf_model = RandomForestRegressor(\n",
    "    n_estimators = 500, max_depth = 10, max_features = 5, random_state = 10)\n",
    "rf_model.fit(X_train_encoded, Y_train)\n",
    "Y_pred_rf = rf_model.predict(X_test_encoded)\n",
    "\n",
    "# Đánh giá tương tự\n",
    "df_proba_rf = pd.DataFrame({'probability': Y_pred_rf, 'true_label': Y_test.values})\n",
    "df_top2000_rf = df_proba_rf.sort_values(by='probability', ascending=False).head(2000)\n",
    "\n",
    "success_count_rf = sum(df_top2000_rf['true_label'])\n",
    "print(f\"Số khách hàng đồng ý (Random Forest): {success_count_rf}\")\n",
    "print(f\"Tỷ lệ chuyển đổi: {success_count_rf/2000:.1%}\")"
   ]
  },
  {
   "cell_type": "markdown",
   "metadata": {
    "slideshow": {
     "slide_type": "slide"
    }
   },
   "source": [
    "## Phần 4: Kết luận.\n",
    "\n",
    "-   Khoa học dữ liệu là một lĩnh vực liên ngành, áp dụng các phương pháp khoa học để trích xuất tri thức từ dữ liệu.\n",
    "-   Quy trình phân tích bao gồm nhiều bước từ xác định vấn đề, thu thập, xử lý, phân tích đến truyền đạt kết quả.\n",
    "-   Học máy là công cụ mạnh mẽ để xây dựng các mô hình dự đoán từ dữ liệu.\n",
    "-   Việc lựa chọn mô hình và đặc trưng phù hợp, cùng với việc đánh giá khách quan, là chìa khóa để xây dựng các ứng dụng dữ liệu thành công.\n",
    "\n",
    "**Q&A**"
   ]
  }
 ],
 "metadata": {
  "kernelspec": {
   "display_name": "Python 3 (ipykernel)",
   "language": "python",
   "name": "python3"
  },
  "language_info": {
   "codemirror_mode": {
    "name": "ipython",
    "version": 3
   },
   "file_extension": ".py",
   "mimetype": "text/x-python",
   "name": "python",
   "nbconvert_exporter": "python",
   "pygments_lexer": "ipython3",
   "version": "3.13.2"
  }
 },
 "nbformat": 4,
 "nbformat_minor": 4
}
