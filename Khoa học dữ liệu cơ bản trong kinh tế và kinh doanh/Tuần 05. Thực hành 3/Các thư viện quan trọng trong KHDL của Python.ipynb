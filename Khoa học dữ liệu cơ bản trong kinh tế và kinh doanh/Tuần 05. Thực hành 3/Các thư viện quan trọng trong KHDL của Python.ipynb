{
  "nbformat": 4,
  "nbformat_minor": 0,
  "metadata": {
    "colab": {
      "provenance": [],
      "toc_visible": true
    },
    "kernelspec": {
      "name": "python3",
      "display_name": "Python 3"
    },
    "language_info": {
      "name": "python"
    }
  },
  "cells": [
    {
      "cell_type": "markdown",
      "source": [
        "# Phần 1: Thư viện numpy"
      ],
      "metadata": {
        "id": "PZhDx6PffMnO"
      }
    },
    {
      "cell_type": "markdown",
      "source": [
        "## Bài 1.1"
      ],
      "metadata": {
        "id": "yPgu6Ap7fUrt"
      }
    },
    {
      "cell_type": "markdown",
      "source": [
        "1. Tạo một ma trận 3x3 có tên A với các phần tử sau:\n",
        "\n",
        "2. Chuyển đổi ma trận A thành kiểu số nguyên và lưu vào ma trận B. In ra ma trận B và kiểu dữ liệu của ma trận B.\n",
        "\n",
        "3. Tạo một vector u với giá trị $[0.5, 1.5, 2.5]$ và kiểu dữ liệu là `float64`. Cộng ma trận B với vector u và lưu kết quả vào ma trận C. In ra ma trận C và kiểu dữ liệu của ma trận C.\n",
        "\n",
        "4. Tạo một vector v với giá trị $[10, 20, 30]$ và kiểu dữ liệu là `int32`. Cộng ma trận B với vector v và lưu kết quả vào ma trận D. In ra ma trận D và kiểu dữ liệu của ma trận D."
      ],
      "metadata": {
        "id": "xgnupz0bWSnL"
      }
    },
    {
      "cell_type": "code",
      "execution_count": null,
      "metadata": {
        "id": "q7S9HDo8YFPl"
      },
      "outputs": [],
      "source": [
        "# Nhập thư viện numpy với bí danh np\n",
        "import numpy as np\n",
        "# Tạo một mảng numpy có tên A\n",
        "A = np.array([\n",
        "    [5.1, 8.7, 3.3],\n",
        "    [4.4, 0.9, 9.5],\n",
        "    [6.2, 7.5, 1.8]\n",
        "])\n",
        "# 1. Ma trận B\n",
        "# Ma trận A\n",
        "print(f\"Ma trận A: \\n {A}\")\n",
        "print(f\"Kiểu dữ liệu của ma trận A: {A.dtype}\\n\")\n",
        "\n",
        "# Ma trận B\n",
        "B = A.astype(int)\n",
        "print(f\"Ma trận B: \\n {B}\")\n",
        "print(f\"Kiểu dữ liệu của ma trận B: {B.dtype}\\n\")\n",
        "\n",
        "# 2. Ma trận C\n",
        "u = np.array([0.5, 1.5, 2.5], dtype=np.float64)\n",
        "print(f\"Vector u: {u}\")\n",
        "print(f\"Kiểu dữ liệu của vector u: {u.dtype}\")\n",
        "C = B + u\n",
        "print(f\"Ma trận C: \\n {C}\")\n",
        "print(f\"Kiểu dữ liệu của ma trận C: {C.dtype}\\n\")\n",
        "\n",
        "# 3. Ma trận D\n",
        "v = np.array([10, 20, 30], dtype=np.int32)\n",
        "print(f\"Vector u: {v}\")\n",
        "print(f\"Kiểu dữ liệu của vector u: {v.dtype}\")\n",
        "D = B + v\n",
        "print(f\"Ma trận D: \\n {D}\")\n",
        "print(f\"Kiểu dữ liệu của ma trận D: {D.dtype}\")"
      ]
    },
    {
      "cell_type": "markdown",
      "source": [
        "## Bài 1.2"
      ],
      "metadata": {
        "id": "KIs7isI7o-LD"
      }
    },
    {
      "cell_type": "markdown",
      "source": [
        "1. Tạo một ma trận 6x6 có tên M, chứa các số từ 0 đến 35.\n",
        "2. Trích xuất vùng trung tâm 4x4 của ma trận M. Vùng này bao gồm các hàng từ 1 đến 4 và cột từ 1 đến 4.\n",
        "3. Chọn các hàng 0 và 3 của ma trận con P.\n",
        "4. Gán giá trị -99 cho các cột 1 và 2 của ma trận M.\n",
        "5. Trích xuất các giá trị trong các cột lẻ (1, 3, 5) của ma trận M đã bị thay đổi, và tìm các giá trị lớn hơn 20 trong các cột này."
      ],
      "metadata": {
        "id": "Jq9bybURYjNN"
      }
    },
    {
      "cell_type": "code",
      "source": [
        "import numpy as np\n",
        "# 1. Tạo ma trận M\n",
        "M = np.arange(36).reshape(6, 6)\n",
        "print(\"Ma trận M 6x6\")\n",
        "print(M)\n",
        "\n",
        "# 2. Trích xuất vùng trung tâm 4x4\n",
        "# Hàng từ 1 đến 4, cột từ 1 đến 4\n",
        "P = M[1:5, 1:5]\n",
        "print(\"\\n Ma trận con P (vùng trung tâm 4x4)\")\n",
        "print(P)\n",
        "\n",
        "# 3. Chọn các hàng 0 và 3 của P\n",
        "selected_rows_from_P = P[[0, 3], :]\n",
        "print(\"\\n Hàng 0 và 3 của P\")\n",
        "print(selected_rows_from_P)\n",
        "\n",
        "# 4. Gán giá trị cho các cột 1 và 2 của M\n",
        "\n",
        "# 5. Trích xuất giá trị theo điều kiện kết hợp\n",
        "# Lấy ra các cột lẻ từ ma trận đã bị thay đổi"
      ],
      "metadata": {
        "id": "CiB9Ife1mwbP"
      },
      "execution_count": null,
      "outputs": []
    },
    {
      "cell_type": "markdown",
      "source": [
        "## Bài 1.3"
      ],
      "metadata": {
        "id": "RZ6QE56ppCf4"
      }
    },
    {
      "cell_type": "markdown",
      "source": [
        "1. Tạo một ma trận `data` kích thước 4x5 với các giá trị ngẫu nhiên trong khoảng từ 10 đến 100. In ra ma trận `data`.\n",
        "2. Tính ma trận chuyển vị của `data` và in ra kết quả.\n",
        "3. Tính giá trị lớn nhất và nhỏ nhất cho từng hàng trong ma trận `data`. In ra kết quả.\n",
        "4. Tìm chỉ số của cột chứa giá trị lớn nhất trong mỗi hàng của ma trận `data`. In ra kết quả."
      ],
      "metadata": {
        "id": "fjUE9AP-YwFN"
      }
    },
    {
      "cell_type": "code",
      "source": [
        "import numpy as np\n",
        "# 1. Tạo ma trận data\n",
        "data = np.random.randint(10, 100, size=(4, 5))\n",
        "print(\"Ma trận data 4x5\")\n",
        "print(data)\n",
        "\n",
        "# 2. Chuyển vị\n",
        "data_T = data.T\n",
        "print(\"\\n Ma trận chuyển vị data_T 5x4\")\n",
        "print(data_T)\n",
        "\n",
        "# 3. Tính max và min cho từng hàng\n",
        "\n",
        "# 4. Tìm chỉ số của giá trị lớn nhất trong mỗi hàng"
      ],
      "metadata": {
        "id": "y83435UDpYgZ"
      },
      "execution_count": null,
      "outputs": []
    },
    {
      "cell_type": "markdown",
      "source": [
        "## Bài 1.4"
      ],
      "metadata": {
        "id": "elaMljHjqrh0"
      }
    },
    {
      "cell_type": "markdown",
      "source": [
        "1. Tạo một ma trận chi phí có tên `costs` với các phần tử như sau:\n",
        "   * Dòng 1: Chi phí nguyên vật liệu, nhân công, vận hành cho sản phẩm A.\n",
        "   * Dòng 2: Chi phí nguyên vật liệu, nhân công, vận hành cho sản phẩm B.\n",
        "   * Dòng 3: Chi phí nguyên vật liệu, nhân công, vận hành cho sản phẩm C.\n",
        "2. Tạo một vector `production_volume` chứa số lượng sản phẩm A, B, C được sản xuất lần lượt là 1000, 500, 1500.\n",
        "3. Tính tổng chi phí cho từng loại chi phí (Nguyên vật liệu, Nhân công, Vận hành).\n",
        "4. Tính tổng chi phí cho từng sản phẩm (trên một đơn vị sản phẩm)."
      ],
      "metadata": {
        "id": "sXY-t7C8Y3P8"
      }
    },
    {
      "cell_type": "code",
      "source": [
        "import numpy as np\n",
        "# 1. Tạo ma trận chi phí\n",
        "costs = np.array([\n",
        "    [10, 5, 2],    # Sản phẩm A\n",
        "    [12, 7, 3],    # Sản phẩm B\n",
        "    [9, 4, 2.5]    # Sản phẩm C\n",
        "])\n",
        "print(\"Ma trận chi phí (Sản phẩm x Loại chi phí)\")\n",
        "print(costs)\n",
        "\n",
        "# 2. Tạo vector số lượng\n",
        "production_volume = np.array([1000, 500, 1500])\n",
        "\n",
        "# 3. Tính tổng chi phí cho từng loại\n",
        "\n",
        "# 4. Tính tổng chi phí cho từng sản phẩm (trên 1 đơn vị)"
      ],
      "metadata": {
        "id": "RuG4ZkToqtPu"
      },
      "execution_count": null,
      "outputs": []
    },
    {
      "cell_type": "markdown",
      "source": [
        "## Bài 1.5"
      ],
      "metadata": {
        "id": "LL2Qku44r7QP"
      }
    },
    {
      "cell_type": "markdown",
      "source": [
        "1. Tạo một mảng `x` từ -3 đến 3 với bước nhảy là 0.5. In ra mảng `x` sau khi làm tròn đến 2 chữ số thập phân.\n",
        "2. Tính giá trị hàm Sigmoid cho từng phần tử trong mảng `x` và in kết quả ra mảng mới. In ra mảng kết quả sau khi làm tròn đến 4 chữ số thập phân."
      ],
      "metadata": {
        "id": "6AA6KBNoZDIU"
      }
    },
    {
      "cell_type": "code",
      "source": [
        "import numpy as np\n",
        "# 1. Tạo mảng x\n",
        "x = np.arange(-3, 3.5, 0.5)\n",
        "print(\"Mảng x đầu vào:\")\n",
        "print(np.round(x, 2))\n",
        "\n",
        "# 2. Tính hàm Sigmoid"
      ],
      "metadata": {
        "id": "t1aAYMF3spnt"
      },
      "execution_count": null,
      "outputs": []
    },
    {
      "cell_type": "markdown",
      "source": [
        "## Bài 1.6"
      ],
      "metadata": {
        "id": "g97c5yiiteiy"
      }
    },
    {
      "cell_type": "markdown",
      "source": [
        "1. Tạo một ma trận 3x3 có tên A và một vector b\n",
        "\n",
        "2. Tính định thức của ma trận A và kiểm tra xem ma trận A có khả nghịch hay không.\n",
        "\n",
        "3. Tính ma trận nghịch đảo của A (A^{-1}).\n",
        "\n",
        "4. Tìm nghiệm của hệ phương trình $A \\cdot x = b$ bằng công thức $x = A^{-1} \\cdot b$.\n",
        "\n",
        "5. Kiểm tra lại nghiệm x bằng cách nhân lại với ma trận A và so sánh kết quả với vector b ban đầu.\n"
      ],
      "metadata": {
        "id": "8qh8crSPZMDm"
      }
    },
    {
      "cell_type": "code",
      "source": [
        "import numpy as np\n",
        "\n",
        "# 1. Tạo ma trận 3x3 có tên A\n",
        "A = np.array([\n",
        "    [1, 2, 3],\n",
        "    [4, 5, 6],\n",
        "    [7, 8, 9]\n",
        "])\n",
        "print(f\"Ma trận A: \\n{A}\")\n",
        "\n",
        "b = np.array([10, 20, 30])\n",
        "print(f\"Vector b: {b}\")\n",
        "\n",
        "# 2. Tính định thức của A\n",
        "\n",
        "# 3. Tính ma trận nghịch đảo A^{-1}\n",
        "\n",
        "# 4. Tìm nghiệm x bằng công thức x = A^{-1}b\n",
        "# Sử dụng toán tử @ để nhân ma trận\n",
        "\n",
        "# 5. Kiểm tra lại kết quả"
      ],
      "metadata": {
        "id": "0YVYFjlRthCz"
      },
      "execution_count": null,
      "outputs": []
    },
    {
      "cell_type": "markdown",
      "source": [
        "# Phần 2: Thư viện Pandas"
      ],
      "metadata": {
        "id": "8zK8R83UwPko"
      }
    },
    {
      "cell_type": "markdown",
      "source": [
        "## Bài 2.1"
      ],
      "metadata": {
        "id": "H2HHP0qdw4Xw"
      }
    },
    {
      "cell_type": "markdown",
      "source": [
        "1. Tạo một Series từ Dictionary với các thành phố và dân số của chúng như sau:\n",
        "   * \"Hanoi\": 8.5 triệu\n",
        "   * \"HCMC\": 9.3 triệu\n",
        "   * \"Danang\": 1.2 triệu\n",
        "   * \"Haiphong\": 2.1 triệu\n",
        "\n",
        "2. Trích xuất dân số của Hà Nội và Đà Nẵng từ Series và in ra.\n",
        "3. Thực hiện phép toán vector hóa để chuyển đổi dân số các thành phố từ triệu người sang người (nhân với 1 triệu), sau đó in kết quả ra dưới dạng số nguyên."
      ],
      "metadata": {
        "id": "zcJEqWnSZsOX"
      }
    },
    {
      "cell_type": "code",
      "source": [
        "import pandas as pd\n",
        "# 1. Tạo Series từ Dictionary\n",
        "population_dict = {\"Hanoi\": 8.5, \"HCMC\": 9.3, \"Danang\": 1.2, \"Haiphong\": 2.1}\n",
        "city_pop = pd.Series(population_dict)\n",
        "\n",
        "print(\"Dân số các thành phố (triệu người)\")\n",
        "print(city_pop)\n",
        "\n",
        "# 2. Trích xuất dữ liệu\n",
        "hanoi_danang_pop = city_pop[[\"Hanoi\", \"Danang\"]]\n",
        "print(\"\\n Dân số Hà Nội và Đà Nẵng\")\n",
        "print(hanoi_danang_pop)\n",
        "\n",
        "# 3. Thực hiện phép toán vector hóa\n",
        "city_pop_in_millions = city_pop * 1_000_000\n",
        "print(\"\\n Dân số các thành phố (đơn vị: người)\")\n",
        "print(city_pop_in_millions.astype(int))"
      ],
      "metadata": {
        "id": "Wb04qEBjxvlJ"
      },
      "execution_count": null,
      "outputs": []
    },
    {
      "cell_type": "markdown",
      "source": [
        "## Bài 2.2"
      ],
      "metadata": {
        "id": "JrQms2etw7xL"
      }
    },
    {
      "cell_type": "markdown",
      "source": [
        "1. Tạo một DataFrame có tên `sales_df` với các cột sau:\n",
        "\n",
        "   * `nhan_vien`: Danh sách tên nhân viên (\"An\", \"Binh\", \"Chi\", \"Dung\").\n",
        "   * `khu_vuc`: Danh sách khu vực làm việc của các nhân viên (\"Bắc\", \"Nam\", \"Trung\", \"Bắc\").\n",
        "   * `doanh_so`: Danh sách doanh số bán hàng của các nhân viên (120, 250, 180, 90).\n",
        "2. Thêm cột \"thuong\" vào DataFrame. Cột \"thuong\" có giá trị True nếu doanh số lớn hơn 100, ngược lại là False.\n",
        "3. Thêm cột \"tien\\_thuong\" vào DataFrame. Cột \"tien\\_thuong\" tính toán tiền thưởng cho nhân viên. Nếu cột \"thuong\" là True, tiền thưởng sẽ bằng 10% doanh số bán hàng, nếu không sẽ là 0.\n",
        "4. Xóa cột \"khu\\_vuc\" khỏi DataFrame."
      ],
      "metadata": {
        "id": "JBi_4BbCZzrh"
      }
    },
    {
      "cell_type": "code",
      "source": [
        "import pandas as pd\n",
        "\n",
        "# 1. Tạo DataFrame\n",
        "sales_data = {\n",
        "    \"nhan_vien\": [\"An\", \"Binh\", \"Chi\", \"Dung\"],\n",
        "    \"khu_vuc\": [\"Bắc\", \"Nam\", \"Trung\", \"Bắc\"],\n",
        "    \"doanh_so\": [120, 250, 180, 90]\n",
        "}\n",
        "sales_df = pd.DataFrame(sales_data)\n",
        "print(\"DataFrame Bán hàng ban đầu\")\n",
        "print(sales_df)\n",
        "\n",
        "# 2. Thêm cột \"thuong\" dựa trên điều kiện\n",
        "\n",
        "# 3. Thêm cột \"tien_thuong\"\n",
        "# Sử dụng np.where(điều_kiện, giá_trị_nếu_đúng, giá_trị_nếu_sai)\n",
        "\n",
        "# 4. Xóa cột \"khu_vuc\""
      ],
      "metadata": {
        "id": "J49kK382ymC6"
      },
      "execution_count": null,
      "outputs": []
    },
    {
      "cell_type": "markdown",
      "source": [
        "## Bài 2.3"
      ],
      "metadata": {
        "id": "i46fJ659w8tO"
      }
    },
    {
      "cell_type": "markdown",
      "source": [
        "1. Tạo một DataFrame với dữ liệu từ 0 đến 15, có kích thước 4x4. Đặt tên cho các chỉ mục hàng là \"A\", \"B\", \"C\", \"D\" và tên các cột là \"W\", \"X\", \"Y\", \"Z\".\n",
        "2. Lựa chọn dữ liệu từ hàng \"A\" và \"C\", cột \"W\" và \"Y\" bằng cách sử dụng `.loc` (theo nhãn).\n",
        "3. Lựa chọn dữ liệu từ 2 hàng cuối (vị trí 2 và 3) và 2 cột đầu (vị trí 0 và 1) bằng cách sử dụng `.iloc` (theo vị trí số nguyên).\n",
        "4. Lấy giá trị tại hàng \"B\", cột \"Z\"."
      ],
      "metadata": {
        "id": "A0npDJPRZ7-W"
      }
    },
    {
      "cell_type": "code",
      "source": [
        "import pandas as pd\n",
        "import numpy as np\n",
        "\n",
        "# 1. Tạo DataFrame\n",
        "df = pd.DataFrame(\n",
        "    np.arange(16).reshape(4, 4),\n",
        "    index=[\"A\", \"B\", \"C\", \"D\"],\n",
        "    columns=[\"W\", \"X\", \"Y\", \"Z\"]\n",
        ")\n",
        "print(\"DataFrame gốc\")\n",
        "print(df)\n",
        "\n",
        "# 2. Lựa chọn bằng .loc (theo nhãn)\n",
        "\n",
        "# 3. Lựa chọn bằng .iloc (theo vị trí số nguyên)\n",
        "\n",
        "# 4. Lấy một giá trị đơn lẻ"
      ],
      "metadata": {
        "id": "piIg1DX0zo8P"
      },
      "execution_count": null,
      "outputs": []
    },
    {
      "cell_type": "markdown",
      "source": [
        "## Bài 2.4"
      ],
      "metadata": {
        "id": "ZU1PNmXPw94c"
      }
    },
    {
      "cell_type": "markdown",
      "source": [
        "1. Tạo một Series có tên `product_stock` với các giá trị `[10, 50, 30]` và chỉ số `[0, 3, 5]`.\n",
        "2. Sử dụng phương thức `reindex` để tạo ra các chỉ số từ 0 đến 5. In ra Series sau khi reindex.\n",
        "3. Sử dụng phương thức `reindex` và điền giá trị bị thiếu bằng phương thức `ffill` (forward-fill). In ra Series sau khi reindex và điền giá trị."
      ],
      "metadata": {
        "id": "BlFLu6UlaFnm"
      }
    },
    {
      "cell_type": "code",
      "source": [
        "import pandas as pd\n",
        "import numpy as np\n",
        "\n",
        "product_stock = pd.Series([10, 50, 30], index=[0, 3, 5])\n",
        "print(\"Series ban đầu\")\n",
        "print(product_stock)\n",
        "\n",
        "# 1. Reindex để tạo ra các chỉ số bị thiếu\n",
        "\n",
        "# 2. Reindex và điền giá trị bằng 'ffill' (forward-fill)"
      ],
      "metadata": {
        "id": "-gB2-ZTF1N0l"
      },
      "execution_count": null,
      "outputs": []
    },
    {
      "cell_type": "markdown",
      "source": [
        "## Bài 2.5"
      ],
      "metadata": {
        "id": "be2MKVo3w_GW"
      }
    },
    {
      "cell_type": "markdown",
      "source": [
        "1. Tạo một DataFrame với thông tin điểm số của các sinh viên (môn Toán, Lý, Hóa) với các sinh viên là Hùng, Lan, Minh, An. In ra bảng điểm ban đầu.\n",
        "2. Sắp xếp bảng điểm theo điểm môn Toán giảm dần. In ra bảng điểm sau khi sắp xếp.\n",
        "3. Tính tổng điểm của mỗi sinh viên và thêm cột tổng điểm vào bảng điểm. In ra bảng điểm với cột tổng điểm.\n",
        "4. Thực hiện thống kê mô tả cho các môn Toán, Lý và Hóa. In ra kết quả thống kê mô tả."
      ],
      "metadata": {
        "id": "BxZTS1guaMxZ"
      }
    },
    {
      "cell_type": "code",
      "source": [
        "import pandas as pd\n",
        "import pandas as pd\n",
        "\n",
        "# 1. Tạo DataFrame\n",
        "scores_data = {\n",
        "    \"Toan\": [7, 5, 9, 8],\n",
        "    \"Ly\": [8, 9, 6, 7],\n",
        "    \"Hoa\": [6, 8, 9, 5]\n",
        "}\n",
        "student_scores = pd.DataFrame(scores_data, index=[\"Hùng\", \"Lan\", \"Minh\", \"An\"])\n",
        "print(\"Bảng điểm ban đầu\")\n",
        "print(student_scores)\n",
        "\n",
        "# 2. Sắp xếp theo điểm Toán giảm dần\n",
        "sorted_by_math = student_scores.sort_values(by=\"Toan\", ascending=False)\n",
        "print(\"\\n Bảng điểm sắp xếp theo môn Toán\")\n",
        "print(sorted_by_math)\n",
        "\n",
        "# 3. Tính tổng điểm mỗi sinh viên\n",
        "\n",
        "# 4. Thống kê mô tả"
      ],
      "metadata": {
        "id": "DCPZQ3zq2Lbn"
      },
      "execution_count": null,
      "outputs": []
    },
    {
      "cell_type": "markdown",
      "source": [
        "## Bài 2.6"
      ],
      "metadata": {
        "id": "Ejk9NJhMxAKw"
      }
    },
    {
      "cell_type": "markdown",
      "source": [
        "1. Đọc file `transactions.csv` vào DataFrame\n",
        "2. Hiển thị thông tin cơ bản về DataFrame\n",
        "   * In ra 5 dòng đầu tiên của DataFrame.\n",
        "   * Hiển thị thông tin và kiểu dữ liệu của DataFrame.\n",
        "3. Điền giá trị thiếu trong cột \"SoLuong\"\n",
        "   * Điền giá trị thiếu bằng 1 cho cột \"SoLuong\".\n",
        "   * Sử dụng `inplace=True` để thay đổi trực tiếp trên DataFrame gốc.\n",
        "4. Tạo cột mới \"ThanhTien\"\n",
        "   * Tính giá trị của cột \"ThanhTien\" bằng cách nhân cột \"DonGia\" với cột \"SoLuong\".\n",
        "5. Lọc các giao dịch thuộc nhóm hàng \"Điện tử\"\n",
        "   * Lọc và in ra các giao dịch có nhóm hàng là \"Điện tử\".\n"
      ],
      "metadata": {
        "id": "RmWCwJ-4ab1X"
      }
    },
    {
      "cell_type": "code",
      "source": [
        "# Link file: https://drive.google.com/file/d/1Nty62dcwCcSbXWLK6vXUzUoU8s2Qy7j9/view?usp=sharing\n",
        "# pip install gdown\n",
        "!gdown 1Nty62dcwCcSbXWLK6vXUzUoU8s2Qy7j9"
      ],
      "metadata": {
        "id": "3RPIscvPXdVX"
      },
      "execution_count": null,
      "outputs": []
    },
    {
      "cell_type": "code",
      "source": [
        "import pandas as pd\n",
        "import numpy as np\n",
        "\n",
        "# 1. Đọc file CSV vào DataFrame\n",
        "# Giả sử file transactions.csv nằm cùng thư mục với code\n",
        "df = pd.read_csv(\"transactions.csv\")\n",
        "\n",
        "print(\"DataFrame sau khi đọc từ file CSV\")\n",
        "print(df)\n",
        "\n",
        "# 2. Hiển thị thông tin cơ bản\n",
        "\n",
        "# 3. Điền giá trị thiếu trong cột \"SoLuong\"\n",
        "\n",
        "# 4. Tạo cột mới \"ThanhTien\"\n",
        "\n",
        "# 5. Lọc các giao dịch thuộc nhóm hàng \"Điện tử\""
      ],
      "metadata": {
        "id": "q3fNGoX33YJl"
      },
      "execution_count": null,
      "outputs": []
    }
  ]
}