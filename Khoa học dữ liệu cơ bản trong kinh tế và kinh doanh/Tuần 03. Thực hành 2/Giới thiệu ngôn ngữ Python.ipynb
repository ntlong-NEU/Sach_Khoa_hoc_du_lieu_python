{
  "cells": [
    {
      "cell_type": "markdown",
      "metadata": {
        "id": "P3sQ_n0BqaFa"
      },
      "source": [
        "# Phần 1: Biến và toán tử"
      ]
    },
    {
      "cell_type": "markdown",
      "metadata": {
        "id": "JwJTedbZryMr"
      },
      "source": [
        "## **Bài 1.1: Gán và in giá trị**"
      ]
    },
    {
      "cell_type": "markdown",
      "metadata": {
        "id": "_beDXas_uhT1"
      },
      "source": [
        "Gán giá trị 10 cho biến a, giá trị 20 cho biến b, sau đó in tổng, hiệu, tích và thương."
      ]
    },
    {
      "cell_type": "code",
      "execution_count": null,
      "metadata": {
        "id": "mI_Dx8EVuM_w"
      },
      "outputs": [],
      "source": [
        "# Gán giá trị cho các biến\n",
        "a = 10\n",
        "b = 20\n",
        "# In tổng hiệu, tích và thương của 2 số trên"
      ]
    },
    {
      "cell_type": "markdown",
      "metadata": {
        "id": "aWZLTf3ywKXc"
      },
      "source": [
        "## Bài 1.2: Nhập xuất thông tin cá nhân"
      ]
    },
    {
      "cell_type": "markdown",
      "metadata": {
        "id": "Benfx_1m8Yp0"
      },
      "source": [
        "Viết chương trình yêu cầu người dùng nhập tên, tuổi và email của họ. Sau đó, in ra một câu chào mừng có đầy đủ thông tin đã nhập, ví dụ: **\"Chào [Tên], bạn [Tuổi] tuổi và có email [Email]\"**"
      ]
    },
    {
      "cell_type": "code",
      "execution_count": null,
      "metadata": {
        "id": "hZmjiRXfwtS8"
      },
      "outputs": [],
      "source": [
        "# Yêu cầu người dùng nhập thông tin\n",
        "\n",
        "# In ra câu chào mừng\n",
        "print(f\"Chào {ten}, bạn {tuoi} tuổi và có email {email}.\")"
      ]
    },
    {
      "cell_type": "markdown",
      "metadata": {
        "id": "LtFEYfb2uwff"
      },
      "source": [
        "## Bài 1.3: Hoán đổi giá trị của hai biến"
      ]
    },
    {
      "cell_type": "markdown",
      "metadata": {
        "id": "KUR4TGbqvK07"
      },
      "source": [
        "Nhập hai số nguyên từ bàn phím, hoán đổi giá trị của chúng và in kết quả"
      ]
    },
    {
      "cell_type": "code",
      "execution_count": null,
      "metadata": {
        "id": "rgxy9k00ve4_"
      },
      "outputs": [],
      "source": [
        "# Yêu cầu người dùng nhập thông tin\n",
        "x = int(input(\"Nhập x: \"))\n",
        "y = int(input(\"Nhập y: \"))\n",
        "# Hoán đổi giá trị của 2 biên\n",
        "\n",
        "# In ra\n",
        "print(\"Sau khi hoán đổi: x =\", x, \", y =\", y)"
      ]
    },
    {
      "cell_type": "markdown",
      "metadata": {
        "id": "-4VK8eRFvn5P"
      },
      "source": [
        "## Bài 1.4: Tính diện tích và chu vi hình tròn"
      ]
    },
    {
      "cell_type": "markdown",
      "metadata": {
        "id": "9GCX5F5wvxch"
      },
      "source": [
        "Nhập bán kính hình tròn, tính và in diện tích và chu vi."
      ]
    },
    {
      "cell_type": "code",
      "execution_count": null,
      "metadata": {
        "id": "1H62QHeFvz18"
      },
      "outputs": [],
      "source": [
        "import math\n",
        "# Nhập bán kính hình tròn\n",
        "\n",
        "# Tính và in diện tích và chu vi."
      ]
    },
    {
      "cell_type": "markdown",
      "metadata": {
        "id": "UwAcRCtswyG6"
      },
      "source": [
        "# Phần 2: Cấu trúc dữ liệu tuần tự"
      ]
    },
    {
      "cell_type": "markdown",
      "metadata": {
        "id": "85YHerxgw5Re"
      },
      "source": [
        "## **Bài 2.1: Tính tổng các phần tử trong danh sách**"
      ]
    },
    {
      "cell_type": "markdown",
      "metadata": {
        "id": "oUMEbhMtw_6D"
      },
      "source": [
        "Nhập danh sách 5 số và tính tổng."
      ]
    },
    {
      "cell_type": "code",
      "execution_count": null,
      "metadata": {
        "id": "cDFW588OxPPL"
      },
      "outputs": [],
      "source": [
        "# Nhập danh sách 5 số\n",
        "numbers =\n",
        "# Tính tổng."
      ]
    },
    {
      "cell_type": "markdown",
      "metadata": {
        "id": "Pt36Bh0KxQYK"
      },
      "source": [
        "## **Bài 2.2: Tìm phần tử lớn nhất trong danh sách**"
      ]
    },
    {
      "cell_type": "markdown",
      "metadata": {
        "id": "m8tiEHD2xwKP"
      },
      "source": [
        "Tạo danh sách gồm 5 số ngẫu nhiên, in số lớn nhất."
      ]
    },
    {
      "cell_type": "code",
      "execution_count": null,
      "metadata": {
        "id": "wqLeXf-Mx2B-"
      },
      "outputs": [],
      "source": [
        "import random\n",
        "# Tạo danh sách gồm 5 số ngẫu nhiên\n",
        "\n",
        "# In số lớn nhất."
      ]
    },
    {
      "cell_type": "markdown",
      "metadata": {
        "id": "oXhnSoydx4h6"
      },
      "source": [
        "## **Bài 2.3: Đếm số lần xuất hiện của một ký tự trong chuỗi**"
      ]
    },
    {
      "cell_type": "markdown",
      "metadata": {
        "id": "M9K4Xr1KyAaO"
      },
      "source": [
        "Nhập chuỗi và một ký tự, đếm số lần xuất hiện của ký tự đó."
      ]
    },
    {
      "cell_type": "code",
      "execution_count": null,
      "metadata": {
        "id": "QU81A4BByFAO"
      },
      "outputs": [],
      "source": [
        "# Nhập chuỗi và một ký tự\n",
        "input_string = input(\"Nhập vào chuỗi: \")\n",
        "input_char = input(\"Nhập vào 1 ký tự: \")\n",
        "# Đếm số lần xuất hiện của ký tự đó."
      ]
    },
    {
      "cell_type": "markdown",
      "metadata": {
        "id": "taBbprnwERk7"
      },
      "source": [
        "## Bài 2.4 Chuyển đổi và thêm phần tử"
      ]
    },
    {
      "cell_type": "markdown",
      "metadata": {
        "id": "1BnfwIc5EcSP"
      },
      "source": [
        "Viết chương trình nhận vào một danh sách các số nguyên. Chuyển danh sách thành tuple, set và thêm một số vào mỗi cấu trúc dữ liệu, sau đó in kết quả."
      ]
    },
    {
      "cell_type": "code",
      "execution_count": null,
      "metadata": {
        "id": "nU93Jw9SEbtI"
      },
      "outputs": [],
      "source": [
        "# Bài làm"
      ]
    },
    {
      "cell_type": "markdown",
      "metadata": {
        "id": "vpGibVOTywy0"
      },
      "source": [
        "# Phần 3: Câu lệnh điều kiện"
      ]
    },
    {
      "cell_type": "markdown",
      "metadata": {
        "id": "UW4BD6Xpy2O6"
      },
      "source": [
        "## **Bài 3.1: Kiểm tra số chẵn hay lẻ**"
      ]
    },
    {
      "cell_type": "markdown",
      "metadata": {
        "id": "DlSb99SXy9oD"
      },
      "source": [
        "Nhập số nguyên, kiểm tra chẵn/lẻ."
      ]
    },
    {
      "cell_type": "code",
      "execution_count": null,
      "metadata": {
        "id": "vuwb1RfIzACT"
      },
      "outputs": [],
      "source": [
        "n = int(input(\"Nhập số nguyên: \"))\n"
      ]
    },
    {
      "cell_type": "markdown",
      "metadata": {
        "id": "tYbBTA4szDTB"
      },
      "source": [
        "## **Bài 3.2: Phân loại học lực**"
      ]
    },
    {
      "cell_type": "markdown",
      "metadata": {
        "id": "cVhgLhf7zJYd"
      },
      "source": [
        "Nhập điểm trung bình, phân loại theo tiêu chí:\n",
        "*   Từ 8 trở lên: Giỏi\n",
        "*   Từ 6.5 đến dưới 8: Khá\n",
        "*   Từ 5 đến dưới 6.5 : Trung bình\n",
        "*   Thấp hơn 5: Yếu"
      ]
    },
    {
      "cell_type": "code",
      "execution_count": null,
      "metadata": {
        "id": "Knv5e2IlzN_P"
      },
      "outputs": [],
      "source": [
        "# Nhập điểm trung bình,\n",
        "diem = float(input(\"Nhập điểm trung bình: \"))\n",
        "# Phân loại theo tiêu chí:"
      ]
    },
    {
      "cell_type": "markdown",
      "metadata": {
        "id": "dzTaXAlT0EEo"
      },
      "source": [
        "## **Bài 3.3: Kiểm tra năm nhuận**"
      ]
    },
    {
      "cell_type": "markdown",
      "metadata": {
        "id": "WqBCRUhi0NtG"
      },
      "source": [
        "Nhập năm, kiểm tra năm nhuận."
      ]
    },
    {
      "cell_type": "code",
      "execution_count": null,
      "metadata": {
        "id": "AAguKbkD0QNh"
      },
      "outputs": [],
      "source": [
        "# Nhập năm\n",
        "nam = int(input(\"Nhập năm: \"))\n",
        "# Kiểm tra năm nhuận hay không"
      ]
    },
    {
      "cell_type": "markdown",
      "metadata": {
        "id": "Me8VfzI30SyA"
      },
      "source": [
        "## Bài 3.4 Tính toán trên dãy số"
      ]
    },
    {
      "cell_type": "markdown",
      "metadata": {
        "id": "1ea1JpHc0bBv"
      },
      "source": [
        "Nhập vào một dãy số với N số nguyên. Viết chương trình thực hiện các yêu cầu sau: Tính tổng các phần tử của dãy, tìm phần tử lớn nhất, đếm số số nguyên dương, sắp xếp các dãy số theo trật tự tăng dần và in kết quả sau khi sắp xếp."
      ]
    },
    {
      "cell_type": "code",
      "execution_count": null,
      "metadata": {
        "id": "rZoIMnRx0hZl"
      },
      "outputs": [],
      "source": [
        "# Nhập số lượng phần tử của dãy\n",
        "\n",
        "# 1. Tính tổng các phần tử\n",
        "\n",
        "# 2. Tìm phần tử lớn nhất\n",
        "\n",
        "# 3. Đếm số số nguyên dương\n",
        "\n",
        "# 4. Sắp xếp dãy số theo thứ tự tăng dần\n",
        "\n",
        "# In kết quả"
      ]
    },
    {
      "cell_type": "markdown",
      "metadata": {
        "id": "kJmOi9YW0uho"
      },
      "source": [
        "# Phần 4: Vòng lặp"
      ]
    },
    {
      "cell_type": "markdown",
      "metadata": {
        "id": "UQ39-hq100c4"
      },
      "source": [
        "## **Bài 4.1: In bảng cửu chương của số n**"
      ]
    },
    {
      "cell_type": "markdown",
      "metadata": {
        "id": "j_zCW-BO06Bc"
      },
      "source": [
        "Nhập số nguyên n, in bảng cửu chương từ 1 đến 10."
      ]
    },
    {
      "cell_type": "code",
      "execution_count": null,
      "metadata": {
        "id": "UICjmdBa1ADW"
      },
      "outputs": [],
      "source": [
        "n = int(input(\"Nhập số: \"))"
      ]
    },
    {
      "cell_type": "markdown",
      "metadata": {
        "id": "hUvm4qdw1Bow"
      },
      "source": [
        "## **Bài 4.2: Tính giai thừa của một số**"
      ]
    },
    {
      "cell_type": "markdown",
      "metadata": {
        "id": "pOYBycBT1JgZ"
      },
      "source": [
        "Nhập số nguyên n, tính n!."
      ]
    },
    {
      "cell_type": "code",
      "execution_count": null,
      "metadata": {
        "id": "vQCYIfV91Ofi"
      },
      "outputs": [],
      "source": [
        "# Nhập số nguyên n\n",
        "\n",
        "# tính n!."
      ]
    },
    {
      "cell_type": "markdown",
      "metadata": {
        "id": "owmt4GXK1RoN"
      },
      "source": [
        "## **Bài 4.3: Tính tổng các số lẻ từ 1 đến n**"
      ]
    },
    {
      "cell_type": "markdown",
      "metadata": {
        "id": "liRcD3eP1XtV"
      },
      "source": [
        "Nhập số nguyên dương n, tính tổng các số lẻ từ 1 đến n."
      ]
    },
    {
      "cell_type": "code",
      "execution_count": null,
      "metadata": {
        "id": "Yk1YBcNz1dq9"
      },
      "outputs": [],
      "source": [
        "# Nhập số nguyên dương n\n",
        "\n",
        "# Tính tổng các số lẻ từ 1 đến n."
      ]
    },
    {
      "cell_type": "markdown",
      "metadata": {
        "id": "vtNBrolF1inp"
      },
      "source": [
        "## Bài 4.4 Đếm số lượng chữ số"
      ]
    },
    {
      "cell_type": "markdown",
      "metadata": {
        "id": "6utQOb8C1pMB"
      },
      "source": [
        "Viết chương trình yêu cầu người dùng nhập một số nguyên dương. Sử dụng vòng lặp `while` để đếm và in ra tổng số lượng chữ số của số đó. (ví dụ 324 -> trả về 3)"
      ]
    },
    {
      "cell_type": "code",
      "execution_count": null,
      "metadata": {
        "id": "TX1dyzN_1t89"
      },
      "outputs": [],
      "source": [
        "# Yêu cầu người dùng nhập một số nguyên dương\n",
        "\n",
        "# Vòng lặp while chạy cho đến khi temp trở về 0\n",
        "\n",
        "# In ra tổng số lượng chữ số"
      ]
    },
    {
      "cell_type": "markdown",
      "metadata": {
        "id": "C499713F1x9u"
      },
      "source": [
        "# Phần 5: Hàm"
      ]
    },
    {
      "cell_type": "markdown",
      "metadata": {
        "id": "QwYh8h8q11H2"
      },
      "source": [
        "## **Bài 5.1: Hàm tính bình phương một số**"
      ]
    },
    {
      "cell_type": "markdown",
      "metadata": {
        "id": "k4U85jwD2Fv6"
      },
      "source": [
        "Viết hàm binh_phuong(n) trả về bình phương của n."
      ]
    },
    {
      "cell_type": "code",
      "execution_count": null,
      "metadata": {
        "id": "rSFr3oQz2Lq4"
      },
      "outputs": [],
      "source": [
        "x = int(input(\"Nhập số: \"))"
      ]
    },
    {
      "cell_type": "markdown",
      "metadata": {
        "id": "LFcG8AlO2PAl"
      },
      "source": [
        "## **Bài 5.2: Hàm kiểm tra số nguyên tố**"
      ]
    },
    {
      "cell_type": "markdown",
      "metadata": {
        "id": "JTF5-cMF2V2f"
      },
      "source": [
        "Viết hàm **is_prime(n)** kiểm tra một số nguyên có phải là số nguyên tố."
      ]
    },
    {
      "cell_type": "code",
      "execution_count": null,
      "metadata": {
        "id": "lY2SNg7H2Zu_"
      },
      "outputs": [],
      "source": [
        "# Viết hàm is_prime(n)\n",
        "\n",
        "# Kiểm tra một số nguyên có phải là số nguyên tố hay không\n",
        "n = int(input(\"Nhập số: \"))\n",
        "print(\"Là số nguyên tố:\", is_prime(n))"
      ]
    },
    {
      "cell_type": "markdown",
      "metadata": {
        "id": "s-blzysv2jvI"
      },
      "source": [
        "## **Bài 5.3: Hàm tính tổng dãy số Fibonacci đến số n**"
      ]
    },
    {
      "cell_type": "markdown",
      "metadata": {
        "id": "Iaccyh3N2qpH"
      },
      "source": [
        "Viết hàm **fibonacci_sum(n)** trả về tổng các số Fibonacci không vượt quá n."
      ]
    },
    {
      "cell_type": "code",
      "execution_count": null,
      "metadata": {
        "id": "v9vbMuIO2w2N"
      },
      "outputs": [],
      "source": [
        "# Định nghĩa hàm fibonacci_sum(n\n",
        "\n",
        "# Ví dụ sử dụng"
      ]
    },
    {
      "cell_type": "markdown",
      "metadata": {
        "id": "C785ApPw215d"
      },
      "source": [
        "## **Bài 5.4 Số hoàn hảo**"
      ]
    },
    {
      "cell_type": "markdown",
      "metadata": {
        "id": "0ahuOu-_27vm"
      },
      "source": [
        "Viết hàm la_so_hoan_hao(n) kiểm tra xem số nguyên n có phải là số hoàn hảo hay không.\n",
        "(Số hoàn hảo là số bằng tổng các ước số dương nhỏ hơn nó.)\n",
        "Ví dụ: la_so_hoan_hao(6) → True\n"
      ]
    },
    {
      "cell_type": "code",
      "execution_count": null,
      "metadata": {
        "id": "pG9Kfsct3CDl"
      },
      "outputs": [],
      "source": [
        "# Định nghĩa hàm la_so_hoan_hao(n)\n",
        "\n",
        "# Ví dụ sử dụng"
      ]
    }
  ],
  "metadata": {
    "colab": {
      "collapsed_sections": [
        "P3sQ_n0BqaFa"
      ],
      "provenance": []
    },
    "kernelspec": {
      "display_name": "Python 3",
      "name": "python3"
    },
    "language_info": {
      "name": "python"
    }
  },
  "nbformat": 4,
  "nbformat_minor": 0
}
