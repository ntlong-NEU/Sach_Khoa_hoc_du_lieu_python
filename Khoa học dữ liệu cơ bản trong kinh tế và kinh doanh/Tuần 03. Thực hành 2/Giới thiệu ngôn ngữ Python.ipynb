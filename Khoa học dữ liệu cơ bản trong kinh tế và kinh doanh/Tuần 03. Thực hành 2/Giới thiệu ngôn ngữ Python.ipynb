{
  "nbformat": 4,
  "nbformat_minor": 0,
  "metadata": {
    "colab": {
      "provenance": [],
      "collapsed_sections": [
        "P3sQ_n0BqaFa"
      ]
    },
    "kernelspec": {
      "name": "python3",
      "display_name": "Python 3"
    },
    "language_info": {
      "name": "python"
    }
  },
  "cells": [
    {
      "cell_type": "markdown",
      "source": [
        "# Phần 1: Biến và toán tử"
      ],
      "metadata": {
        "id": "P3sQ_n0BqaFa"
      }
    },
    {
      "cell_type": "markdown",
      "source": [
        "## **Bài 1.1: Gán và in giá trị**"
      ],
      "metadata": {
        "id": "JwJTedbZryMr"
      }
    },
    {
      "cell_type": "markdown",
      "source": [
        "Gán giá trị 10 cho biến a, giá trị 20 cho biến b, sau đó in tổng, hiệu, tích và thương."
      ],
      "metadata": {
        "id": "_beDXas_uhT1"
      }
    },
    {
      "cell_type": "code",
      "source": [
        "# Gán giá trị cho các biến\n",
        "a = 10\n",
        "b = 20\n",
        "# In tổng hiệu, tích và thương của 2 số trên"
      ],
      "metadata": {
        "id": "mI_Dx8EVuM_w"
      },
      "execution_count": null,
      "outputs": []
    },
    {
      "cell_type": "markdown",
      "source": [
        "## Bài 1.2: Nhập xuất thông tin cá nhân"
      ],
      "metadata": {
        "id": "aWZLTf3ywKXc"
      }
    },
    {
      "cell_type": "markdown",
      "source": [
        "Viết chương trình yêu cầu người dùng nhập tên, tuổi và email của họ. Sau đó, in ra một câu chào mừng có đầy đủ thông tin đã nhập, ví dụ: **\"Chào [Tên], bạn [Tuổi] tuổi và có email [Email]\"**"
      ],
      "metadata": {
        "id": "Benfx_1m8Yp0"
      }
    },
    {
      "cell_type": "code",
      "source": [
        "# Yêu cầu người dùng nhập thông tin\n",
        "\n",
        "# In ra câu chào mừng\n",
        "print(f\"Chào {ten}, bạn {tuoi} tuổi và có email {email}.\")"
      ],
      "metadata": {
        "id": "hZmjiRXfwtS8"
      },
      "execution_count": null,
      "outputs": []
    },
    {
      "cell_type": "markdown",
      "source": [
        "## Bài 1.3: Hoán đổi giá trị của hai biến"
      ],
      "metadata": {
        "id": "LtFEYfb2uwff"
      }
    },
    {
      "cell_type": "markdown",
      "source": [
        "Nhập hai số nguyên từ bàn phím, hoán đổi giá trị của chúng và in kết quả"
      ],
      "metadata": {
        "id": "KUR4TGbqvK07"
      }
    },
    {
      "cell_type": "code",
      "source": [
        "# Yêu cầu người dùng nhập thông tin\n",
        "x = int(input(\"Nhập x: \"))\n",
        "y = int(input(\"Nhập y: \"))\n",
        "# Hoán đổi giá trị của 2 biên\n",
        "\n",
        "# In ra\n",
        "print(\"Sau khi hoán đổi: x =\", x, \", y =\", y)"
      ],
      "metadata": {
        "id": "rgxy9k00ve4_"
      },
      "execution_count": null,
      "outputs": []
    },
    {
      "cell_type": "markdown",
      "source": [
        "## Bài 1.4: Tính diện tích và chu vi hình tròn"
      ],
      "metadata": {
        "id": "-4VK8eRFvn5P"
      }
    },
    {
      "cell_type": "markdown",
      "source": [
        "Nhập bán kính hình tròn, tính và in diện tích và chu vi."
      ],
      "metadata": {
        "id": "9GCX5F5wvxch"
      }
    },
    {
      "cell_type": "code",
      "source": [
        "import math\n",
        "# Nhập bán kính hình tròn\n",
        "\n",
        "# Tính và in diện tích và chu vi."
      ],
      "metadata": {
        "id": "1H62QHeFvz18"
      },
      "execution_count": null,
      "outputs": []
    },
    {
      "cell_type": "markdown",
      "source": [
        "# Phần 2: Cấu trúc dữ liệu tuần tự"
      ],
      "metadata": {
        "id": "UwAcRCtswyG6"
      }
    },
    {
      "cell_type": "markdown",
      "source": [
        "## **Bài 2.1: Tính tổng các phần tử trong danh sách**"
      ],
      "metadata": {
        "id": "85YHerxgw5Re"
      }
    },
    {
      "cell_type": "markdown",
      "source": [
        "Nhập danh sách 5 số và tính tổng."
      ],
      "metadata": {
        "id": "oUMEbhMtw_6D"
      }
    },
    {
      "cell_type": "code",
      "source": [
        "# Nhập danh sách 5 số\n",
        "numbers =\n",
        "# Tính tổng."
      ],
      "metadata": {
        "id": "cDFW588OxPPL"
      },
      "execution_count": null,
      "outputs": []
    },
    {
      "cell_type": "markdown",
      "source": [
        "## **Bài 2.2: Tìm phần tử lớn nhất trong danh sách**"
      ],
      "metadata": {
        "id": "Pt36Bh0KxQYK"
      }
    },
    {
      "cell_type": "markdown",
      "source": [
        "Tạo danh sách gồm 5 số ngẫu nhiên, in số lớn nhất."
      ],
      "metadata": {
        "id": "m8tiEHD2xwKP"
      }
    },
    {
      "cell_type": "code",
      "source": [
        "import random\n",
        "# Tạo danh sách gồm 5 số ngẫu nhiên\n",
        "\n",
        "# In số lớn nhất."
      ],
      "metadata": {
        "id": "wqLeXf-Mx2B-"
      },
      "execution_count": null,
      "outputs": []
    },
    {
      "cell_type": "markdown",
      "source": [
        "## **Bài 2.3: Đếm số lần xuất hiện của một ký tự trong chuỗi**"
      ],
      "metadata": {
        "id": "oXhnSoydx4h6"
      }
    },
    {
      "cell_type": "markdown",
      "source": [
        "Nhập chuỗi và một ký tự, đếm số lần xuất hiện của ký tự đó."
      ],
      "metadata": {
        "id": "M9K4Xr1KyAaO"
      }
    },
    {
      "cell_type": "code",
      "source": [
        "# Nhập chuỗi và một ký tự\n",
        "input_string = input(\"Nhập vào chuỗi: \")\n",
        "input_char = input(\"Nhập vào 1 ký tự: \")\n",
        "# Đếm số lần xuất hiện của ký tự đó."
      ],
      "metadata": {
        "id": "QU81A4BByFAO"
      },
      "execution_count": null,
      "outputs": []
    },
    {
      "cell_type": "markdown",
      "source": [
        "## Bài 2.4 Chuyển đổi và thêm phần tử"
      ],
      "metadata": {
        "id": "taBbprnwERk7"
      }
    },
    {
      "cell_type": "markdown",
      "source": [
        "Viết chương trình nhận vào một danh sách các số nguyên. Chuyển danh sách thành tuple, set và thêm một số vào mỗi cấu trúc dữ liệu, sau đó in kết quả."
      ],
      "metadata": {
        "id": "1BnfwIc5EcSP"
      }
    },
    {
      "cell_type": "code",
      "source": [
        "# Bài làm"
      ],
      "metadata": {
        "id": "nU93Jw9SEbtI"
      },
      "execution_count": null,
      "outputs": []
    },
    {
      "cell_type": "markdown",
      "source": [
        "# Phần 3: Câu lệnh điều kiện"
      ],
      "metadata": {
        "id": "vpGibVOTywy0"
      }
    },
    {
      "cell_type": "markdown",
      "source": [
        "## **Bài 3.1: Kiểm tra số chẵn hay lẻ**"
      ],
      "metadata": {
        "id": "UW4BD6Xpy2O6"
      }
    },
    {
      "cell_type": "markdown",
      "source": [
        "Nhập số nguyên, kiểm tra chẵn/lẻ."
      ],
      "metadata": {
        "id": "DlSb99SXy9oD"
      }
    },
    {
      "cell_type": "code",
      "source": [
        "n = int(input(\"Nhập số nguyên: \"))\n"
      ],
      "metadata": {
        "id": "vuwb1RfIzACT"
      },
      "execution_count": null,
      "outputs": []
    },
    {
      "cell_type": "markdown",
      "source": [
        "## **Bài 3.2: Phân loại học lực**"
      ],
      "metadata": {
        "id": "tYbBTA4szDTB"
      }
    },
    {
      "cell_type": "markdown",
      "source": [
        "Nhập điểm trung bình, phân loại theo tiêu chí:\n",
        "*   Từ 8 trở lên: Giỏi\n",
        "*   Từ 6.5 đến dưới 8: Khá\n",
        "*   Từ 5 đến dưới 6.5 : Trung bình\n",
        "*   Thấp hơn 5: Yếu"
      ],
      "metadata": {
        "id": "cVhgLhf7zJYd"
      }
    },
    {
      "cell_type": "code",
      "source": [
        "# Nhập điểm trung bình,\n",
        "diem = float(input(\"Nhập điểm trung bình: \"))\n",
        "# Phân loại theo tiêu chí:"
      ],
      "metadata": {
        "id": "Knv5e2IlzN_P"
      },
      "execution_count": null,
      "outputs": []
    },
    {
      "cell_type": "markdown",
      "source": [
        "## **Bài 3.3: Kiểm tra năm nhuận**"
      ],
      "metadata": {
        "id": "dzTaXAlT0EEo"
      }
    },
    {
      "cell_type": "markdown",
      "source": [
        "Nhập năm, kiểm tra năm nhuận."
      ],
      "metadata": {
        "id": "WqBCRUhi0NtG"
      }
    },
    {
      "cell_type": "code",
      "source": [
        "# Nhập năm\n",
        "nam = int(input(\"Nhập năm: \"))\n",
        "# Kiểm tra năm nhuận hay không"
      ],
      "metadata": {
        "id": "AAguKbkD0QNh"
      },
      "execution_count": null,
      "outputs": []
    },
    {
      "cell_type": "markdown",
      "source": [
        "## Bài 3.4 Tính toán trên dãy số"
      ],
      "metadata": {
        "id": "Me8VfzI30SyA"
      }
    },
    {
      "cell_type": "markdown",
      "source": [
        "Nhập vào một dãy số với N số nguyên. Viết chương trình thực hiện các yêu cầu sau: Tính tổng các phần tử của dãy, tìm phần tử lớn nhất, đếm số số nguyên dương, sắp xếp các dãy số theo trật tự tăng dần và in kết quả sau khi sắp xếp."
      ],
      "metadata": {
        "id": "1ea1JpHc0bBv"
      }
    },
    {
      "cell_type": "code",
      "source": [
        "# Bài làm"
      ],
      "metadata": {
        "id": "rZoIMnRx0hZl"
      },
      "execution_count": null,
      "outputs": []
    },
    {
      "cell_type": "markdown",
      "source": [
        "# Phần 4: Vòng lặp"
      ],
      "metadata": {
        "id": "kJmOi9YW0uho"
      }
    },
    {
      "cell_type": "markdown",
      "source": [
        "## **Bài 4.1: In bảng cửu chương của số n**"
      ],
      "metadata": {
        "id": "UQ39-hq100c4"
      }
    },
    {
      "cell_type": "markdown",
      "source": [
        "Nhập số nguyên n, in bảng cửu chương từ 1 đến 10."
      ],
      "metadata": {
        "id": "j_zCW-BO06Bc"
      }
    },
    {
      "cell_type": "code",
      "source": [
        "n = int(input(\"Nhập số: \"))"
      ],
      "metadata": {
        "id": "UICjmdBa1ADW"
      },
      "execution_count": null,
      "outputs": []
    },
    {
      "cell_type": "markdown",
      "source": [
        "## **Bài 4.2: Tính giai thừa của một số**"
      ],
      "metadata": {
        "id": "hUvm4qdw1Bow"
      }
    },
    {
      "cell_type": "markdown",
      "source": [
        "Nhập số nguyên n, tính n!."
      ],
      "metadata": {
        "id": "pOYBycBT1JgZ"
      }
    },
    {
      "cell_type": "code",
      "source": [
        "# Nhập số nguyên n\n",
        "\n",
        "# tính n!."
      ],
      "metadata": {
        "id": "vQCYIfV91Ofi"
      },
      "execution_count": null,
      "outputs": []
    },
    {
      "cell_type": "markdown",
      "source": [
        "## **Bài 4.3: Tính tổng các số lẻ từ 1 đến n**"
      ],
      "metadata": {
        "id": "owmt4GXK1RoN"
      }
    },
    {
      "cell_type": "markdown",
      "source": [
        "Nhập số nguyên dương n, tính tổng các số lẻ từ 1 đến n."
      ],
      "metadata": {
        "id": "liRcD3eP1XtV"
      }
    },
    {
      "cell_type": "code",
      "source": [
        "# Nhập số nguyên dương n\n",
        "\n",
        "# Tính tổng các số lẻ từ 1 đến n."
      ],
      "metadata": {
        "id": "Yk1YBcNz1dq9"
      },
      "execution_count": null,
      "outputs": []
    },
    {
      "cell_type": "markdown",
      "source": [
        "## Bài 4.4 Đếm số lượng chữ số"
      ],
      "metadata": {
        "id": "vtNBrolF1inp"
      }
    },
    {
      "cell_type": "markdown",
      "source": [
        "Viết chương trình yêu cầu người dùng nhập một số nguyên dương. Sử dụng vòng lặp `while` để đếm và in ra tổng số lượng chữ số của số đó. (ví dụ 324 -> trả về 3)"
      ],
      "metadata": {
        "id": "6utQOb8C1pMB"
      }
    },
    {
      "cell_type": "code",
      "source": [
        "# Bài làm"
      ],
      "metadata": {
        "id": "TX1dyzN_1t89"
      },
      "execution_count": null,
      "outputs": []
    },
    {
      "cell_type": "markdown",
      "source": [
        "# Phần 5: Hàm"
      ],
      "metadata": {
        "id": "C499713F1x9u"
      }
    },
    {
      "cell_type": "markdown",
      "source": [
        "## **Bài 5.1: Hàm tính bình phương một số**"
      ],
      "metadata": {
        "id": "QwYh8h8q11H2"
      }
    },
    {
      "cell_type": "markdown",
      "source": [
        "Viết hàm binh_phuong(n) trả về bình phương của n."
      ],
      "metadata": {
        "id": "k4U85jwD2Fv6"
      }
    },
    {
      "cell_type": "code",
      "source": [
        "x = int(input(\"Nhập số: \"))"
      ],
      "metadata": {
        "id": "rSFr3oQz2Lq4"
      },
      "execution_count": null,
      "outputs": []
    },
    {
      "cell_type": "markdown",
      "source": [
        "## **Bài 5.2: Hàm kiểm tra số nguyên tố**"
      ],
      "metadata": {
        "id": "LFcG8AlO2PAl"
      }
    },
    {
      "cell_type": "markdown",
      "source": [
        "Viết hàm **is_prime(n)** kiểm tra một số nguyên có phải là số nguyên tố."
      ],
      "metadata": {
        "id": "JTF5-cMF2V2f"
      }
    },
    {
      "cell_type": "code",
      "source": [
        "# Viết hàm is_prime(n)\n",
        "\n",
        "# Kiểm tra một số nguyên có phải là số nguyên tố hay không\n",
        "n = int(input(\"Nhập số: \"))\n",
        "print(\"Là số nguyên tố:\", is_prime(n))"
      ],
      "metadata": {
        "id": "lY2SNg7H2Zu_"
      },
      "execution_count": null,
      "outputs": []
    },
    {
      "cell_type": "markdown",
      "source": [
        "## **Bài 5.3: Hàm tính tổng dãy số Fibonacci đến số n**"
      ],
      "metadata": {
        "id": "s-blzysv2jvI"
      }
    },
    {
      "cell_type": "markdown",
      "source": [
        "Viết hàm **fibonacci_sum(n)** trả về tổng các số Fibonacci không vượt quá n."
      ],
      "metadata": {
        "id": "Iaccyh3N2qpH"
      }
    },
    {
      "cell_type": "code",
      "source": [
        "# Bài làm"
      ],
      "metadata": {
        "id": "v9vbMuIO2w2N"
      },
      "execution_count": null,
      "outputs": []
    },
    {
      "cell_type": "markdown",
      "source": [
        "## **Bài 5.4 Số hoàn hảo**"
      ],
      "metadata": {
        "id": "C785ApPw215d"
      }
    },
    {
      "cell_type": "markdown",
      "source": [
        "Viết hàm la_so_hoan_hao(n) kiểm tra xem số nguyên n có phải là số hoàn hảo hay không.\n",
        "(Số hoàn hảo là số bằng tổng các ước số dương nhỏ hơn nó.)\n",
        "Ví dụ: la_so_hoan_hao(6) → True\n"
      ],
      "metadata": {
        "id": "0ahuOu-_27vm"
      }
    },
    {
      "cell_type": "code",
      "source": [
        "# Bài làm"
      ],
      "metadata": {
        "id": "pG9Kfsct3CDl"
      },
      "execution_count": null,
      "outputs": []
    }
  ]
}