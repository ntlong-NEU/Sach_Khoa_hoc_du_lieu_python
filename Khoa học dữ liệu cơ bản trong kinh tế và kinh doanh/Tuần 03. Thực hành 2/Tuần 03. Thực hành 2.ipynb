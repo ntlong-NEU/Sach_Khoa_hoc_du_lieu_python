{
  "nbformat": 4,
  "nbformat_minor": 0,
  "metadata": {
    "colab": {
      "provenance": []
    },
    "kernelspec": {
      "name": "python3",
      "display_name": "Python 3"
    },
    "language_info": {
      "name": "python"
    }
  },
  "cells": [
    {
      "cell_type": "markdown",
      "source": [
        "# **Thực hành 1: Giới thiệu về biến trong Python**"
      ],
      "metadata": {
        "id": "P3sQ_n0BqaFa"
      }
    },
    {
      "cell_type": "markdown",
      "source": [
        "## **Bài 1.1: Gán và in giá trị**"
      ],
      "metadata": {
        "id": "JwJTedbZryMr"
      }
    },
    {
      "cell_type": "markdown",
      "source": [
        "### **Yêu cầu**"
      ],
      "metadata": {
        "id": "Ngt3UPIStfQn"
      }
    },
    {
      "cell_type": "markdown",
      "source": [
        "Gán giá trị 10 cho biến a, giá trị 20 cho biến b, sau đó in tổng, hiệu, tích và thương."
      ],
      "metadata": {
        "id": "_beDXas_uhT1"
      }
    },
    {
      "cell_type": "markdown",
      "source": [
        "### **Lời giải**"
      ],
      "metadata": {
        "id": "nax0xFLDuHCV"
      }
    },
    {
      "cell_type": "code",
      "source": [
        "a = 10\n",
        "b = 20\n",
        "print(\"Tổng:\", a + b)\n",
        "print(\"Hiệu:\", a - b)\n",
        "print(\"Tích:\", a * b)\n",
        "print(\"Thương:\", a / b)"
      ],
      "metadata": {
        "id": "mI_Dx8EVuM_w"
      },
      "execution_count": null,
      "outputs": []
    },
    {
      "cell_type": "markdown",
      "source": [
        "## **Bài 1.2: Hoán đổi giá trị của hai biến**"
      ],
      "metadata": {
        "id": "LtFEYfb2uwff"
      }
    },
    {
      "cell_type": "markdown",
      "source": [
        "## **Yêu cầu**"
      ],
      "metadata": {
        "id": "hyVa_muavFKc"
      }
    },
    {
      "cell_type": "markdown",
      "source": [
        "Nhập hai số nguyên từ bàn phím, hoán đổi giá trị của chúng và in kết quả"
      ],
      "metadata": {
        "id": "KUR4TGbqvK07"
      }
    },
    {
      "cell_type": "markdown",
      "source": [
        "### **Lời giải**"
      ],
      "metadata": {
        "id": "QwrNEZLovQN5"
      }
    },
    {
      "cell_type": "code",
      "source": [
        "x = int(input(\"Nhập x: \"))\n",
        "y = int(input(\"Nhập y: \"))\n",
        "x, y = y, x\n",
        "print(\"Sau khi hoán đổi: x =\", x, \", y =\", y)"
      ],
      "metadata": {
        "id": "rgxy9k00ve4_"
      },
      "execution_count": null,
      "outputs": []
    },
    {
      "cell_type": "markdown",
      "source": [
        "## **Bài 1.3: Tính diện tích và chu vi hình tròn**"
      ],
      "metadata": {
        "id": "-4VK8eRFvn5P"
      }
    },
    {
      "cell_type": "markdown",
      "source": [
        "### **Yêu cầu**"
      ],
      "metadata": {
        "id": "D-H3pUlKvtpH"
      }
    },
    {
      "cell_type": "markdown",
      "source": [
        "Nhập bán kính hình tròn, tính và in diện tích và chu vi."
      ],
      "metadata": {
        "id": "9GCX5F5wvxch"
      }
    },
    {
      "cell_type": "code",
      "source": [
        "import math\n",
        "r = float(input(\"Nhập bán kính: \"))\n",
        "chu_vi = 2 * math.pi * r\n",
        "dien_tich = math.pi * r ** 2\n",
        "print(\"Chu vi:\", chu_vi)\n",
        "print(\"Diện tích:\", dien_tich)"
      ],
      "metadata": {
        "id": "1H62QHeFvz18"
      },
      "execution_count": null,
      "outputs": []
    },
    {
      "cell_type": "markdown",
      "source": [
        "## **Bài 1.4 (nâng cao)**"
      ],
      "metadata": {
        "id": "aWZLTf3ywKXc"
      }
    },
    {
      "cell_type": "markdown",
      "source": [
        "### **Yêu cầu**"
      ],
      "metadata": {
        "id": "xgxeVXXXwie-"
      }
    },
    {
      "cell_type": "markdown",
      "source": [
        "Viết chương trình yêu cầu người dùng nhập tên, tuổi và email của họ. Sau đó, in ra một câu chào mừng có đầy đủ thông tin đã nhập, ví dụ: \"Chào [Tên], bạn [Tuổi] tuổi và có email [Email]. Đảm bảo sử dụng các kiểu dữ liệu phù hợp cho từng thông tin."
      ],
      "metadata": {
        "id": "AYw7rosfwm1m"
      }
    },
    {
      "cell_type": "markdown",
      "source": [
        "### **Lời giải**"
      ],
      "metadata": {
        "id": "RMwu3l6ywqZy"
      }
    },
    {
      "cell_type": "code",
      "source": [
        "    # Yêu cầu người dùng nhập thông tin\n",
        "    ten = input(\"Nhập tên của bạn: \")\n",
        "    tuoi = input(\"Nhập tuổi của bạn: \") # Tuổi có thể được nhập dưới dạng chuỗi ban đầu\n",
        "    email = input(\"Nhập email của bạn: \")\n",
        "\n",
        "    # In ra câu chào mừng\n",
        "    print(f\"Chào {ten}, bạn {tuoi} tuổi và có email {email}.\")\n"
      ],
      "metadata": {
        "id": "hZmjiRXfwtS8"
      },
      "execution_count": null,
      "outputs": []
    },
    {
      "cell_type": "markdown",
      "source": [
        "# **Thực hành 2: Giới thiệu về véc-tơ, kiểu đối tượng có tính tuần tự**"
      ],
      "metadata": {
        "id": "UwAcRCtswyG6"
      }
    },
    {
      "cell_type": "markdown",
      "source": [
        "## **Bài 2.1: Tính tổng các phần tử trong danh sách**"
      ],
      "metadata": {
        "id": "85YHerxgw5Re"
      }
    },
    {
      "cell_type": "markdown",
      "source": [
        "### **Yêu cầu**"
      ],
      "metadata": {
        "id": "vaU7KKaaw9VW"
      }
    },
    {
      "cell_type": "markdown",
      "source": [
        "Nhập danh sách 5 số và tính tổng."
      ],
      "metadata": {
        "id": "oUMEbhMtw_6D"
      }
    },
    {
      "cell_type": "markdown",
      "source": [
        "### **Lời giải**"
      ],
      "metadata": {
        "id": "qWrjSh2RxMBm"
      }
    },
    {
      "cell_type": "code",
      "source": [
        "numbers = [int(input(f\"Nhập số thứ {i+1}: \")) for i in range(5)]\n",
        "tong = sum(numbers)\n",
        "print(\"Tổng:\", tong)"
      ],
      "metadata": {
        "id": "cDFW588OxPPL"
      },
      "execution_count": null,
      "outputs": []
    },
    {
      "cell_type": "markdown",
      "source": [
        "## **Bài 2.2: Tìm phần tử lớn nhất trong danh sách**"
      ],
      "metadata": {
        "id": "Pt36Bh0KxQYK"
      }
    },
    {
      "cell_type": "markdown",
      "source": [
        "### **Yêu cầu**"
      ],
      "metadata": {
        "id": "mmpr6rTPxtQG"
      }
    },
    {
      "cell_type": "markdown",
      "source": [
        "Tạo danh sách gồm 5 số ngẫu nhiên, in số lớn nhất."
      ],
      "metadata": {
        "id": "m8tiEHD2xwKP"
      }
    },
    {
      "cell_type": "markdown",
      "source": [
        "### **Lời giải**"
      ],
      "metadata": {
        "id": "8s6Vs5wZxytZ"
      }
    },
    {
      "cell_type": "code",
      "source": [
        "import random\n",
        "lst = [random.randint(1, 100) for _ in range(5)]\n",
        "print(\"Danh sách:\", lst)\n",
        "print(\"Số lớn nhất:\", max(lst))"
      ],
      "metadata": {
        "id": "wqLeXf-Mx2B-"
      },
      "execution_count": null,
      "outputs": []
    },
    {
      "cell_type": "markdown",
      "source": [
        "## **Bài 2.3: Đếm số lần xuất hiện của một ký tự trong chuỗi**"
      ],
      "metadata": {
        "id": "oXhnSoydx4h6"
      }
    },
    {
      "cell_type": "markdown",
      "source": [
        "### **Yêu cầu**"
      ],
      "metadata": {
        "id": "Br_mIN9mx9yq"
      }
    },
    {
      "cell_type": "markdown",
      "source": [
        "Nhập chuỗi và một ký tự, đếm số lần xuất hiện của ký tự đó."
      ],
      "metadata": {
        "id": "M9K4Xr1KyAaO"
      }
    },
    {
      "cell_type": "markdown",
      "source": [
        "### **Lời giải**"
      ],
      "metadata": {
        "id": "A9A69BsLyCtD"
      }
    },
    {
      "cell_type": "code",
      "source": [
        "chuoi = input(\"Nhập chuỗi: \")\n",
        "ky_tu = input(\"Nhập ký tự cần đếm: \")\n",
        "dem = chuoi.count(ky_tu)\n",
        "print(f\"Ký tự '{ky_tu}' xuất hiện {dem} lần\")"
      ],
      "metadata": {
        "id": "QU81A4BByFAO"
      },
      "execution_count": null,
      "outputs": []
    },
    {
      "cell_type": "markdown",
      "source": [
        "## **Bài 2.4 (nâng cao)**"
      ],
      "metadata": {
        "id": "6cO18K_qyH8l"
      }
    },
    {
      "cell_type": "markdown",
      "source": [
        "### **Yêu cầu**"
      ],
      "metadata": {
        "id": "8OjQeHnuyLeH"
      }
    },
    {
      "cell_type": "markdown",
      "source": [
        "Viết hàm dem_cau(van_ban) đếm số câu trong một đoạn văn (câu kết thúc bằng ., ! hoặc ?).\n",
        "Ví dụ: \"Hi! How are you? I'm fine.\" → 3\n"
      ],
      "metadata": {
        "id": "IQk_e7OZyOb2"
      }
    },
    {
      "cell_type": "code",
      "source": [
        "def dem_cau(van_ban):\n",
        "        dem = 0\n",
        "        for ky_tu in van_ban:\n",
        "            if ky_tu in ['.', '!', '?']: # Kiểm tra xem ký tự có phải là dấu kết thúc câu không\n",
        "                dem += 1\n",
        "        return dem\n",
        "\n",
        "    # Ví dụ sử dụng:\n",
        "    doan_van = \"Hi! How are you? I'm fine.\"\n",
        "    so_cau = dem_cau(doan_van)\n",
        "    print(f\"Số câu trong đoạn văn là: {so_cau}\") # Output: Số câu trong đoạn văn là: 3"
      ],
      "metadata": {
        "id": "puucWzpWyRXP"
      },
      "execution_count": null,
      "outputs": []
    },
    {
      "cell_type": "markdown",
      "source": [
        "# **Thực hành 3: Câu lệnh điều kiện**"
      ],
      "metadata": {
        "id": "vpGibVOTywy0"
      }
    },
    {
      "cell_type": "markdown",
      "source": [
        "## **Bài 3.1: Kiểm tra số chẵn hay lẻ**"
      ],
      "metadata": {
        "id": "UW4BD6Xpy2O6"
      }
    },
    {
      "cell_type": "markdown",
      "source": [
        "### **Yêu cầu**"
      ],
      "metadata": {
        "id": "r9faMlRGy602"
      }
    },
    {
      "cell_type": "markdown",
      "source": [
        "Nhập số nguyên, kiểm tra chẵn/lẻ."
      ],
      "metadata": {
        "id": "DlSb99SXy9oD"
      }
    },
    {
      "cell_type": "code",
      "source": [
        "n = int(input(\"Nhập số nguyên: \"))\n",
        "if n % 2 == 0:\n",
        "    print(\"Số chẵn\")\n",
        "else:\n",
        "    print(\"Số lẻ\")"
      ],
      "metadata": {
        "id": "vuwb1RfIzACT"
      },
      "execution_count": null,
      "outputs": []
    },
    {
      "cell_type": "markdown",
      "source": [
        "## **Bài 3.2: Phân loại học lực**"
      ],
      "metadata": {
        "id": "tYbBTA4szDTB"
      }
    },
    {
      "cell_type": "markdown",
      "source": [
        "### **Yêu cầu**"
      ],
      "metadata": {
        "id": "LjL6q6NFzG8x"
      }
    },
    {
      "cell_type": "markdown",
      "source": [
        "Nhập điểm trung bình, phân loại theo tiêu chí:\n",
        "*   = 8: Giỏi\n",
        "*   = 6.5: Khá\n",
        "*   = 5: Trung bình\n",
        "*   < 5: Yếu"
      ],
      "metadata": {
        "id": "cVhgLhf7zJYd"
      }
    },
    {
      "cell_type": "markdown",
      "source": [
        "### **Lời giải**"
      ],
      "metadata": {
        "id": "o2Fc7bND5IoH"
      }
    },
    {
      "cell_type": "code",
      "source": [
        "diem = float(input(\"Nhập điểm trung bình: \"))\n",
        "if diem >= 8:\n",
        "    print(\"Học lực Giỏi\")\n",
        "elif diem >= 6.5:\n",
        "    print(\"Học lực Khá\")\n",
        "elif diem >= 5:\n",
        "    print(\"Học lực Trung bình\")\n",
        "else:\n",
        "    print(\"Học lực Yếu\")"
      ],
      "metadata": {
        "id": "Knv5e2IlzN_P"
      },
      "execution_count": null,
      "outputs": []
    },
    {
      "cell_type": "markdown",
      "source": [
        "## **Bài 3.3: Kiểm tra năm nhuận**"
      ],
      "metadata": {
        "id": "dzTaXAlT0EEo"
      }
    },
    {
      "cell_type": "markdown",
      "source": [
        "### **Yêu cầu**"
      ],
      "metadata": {
        "id": "XKYxLVls0JjK"
      }
    },
    {
      "cell_type": "markdown",
      "source": [
        "Nhập năm, kiểm tra năm nhuận."
      ],
      "metadata": {
        "id": "WqBCRUhi0NtG"
      }
    },
    {
      "cell_type": "markdown",
      "source": [
        "### **Lời giải**"
      ],
      "metadata": {
        "id": "BSf8BnmT0pBZ"
      }
    },
    {
      "cell_type": "code",
      "source": [
        "nam = int(input(\"Nhập năm: \"))\n",
        "if (nam % 4 == 0 and nam % 100 != 0) or (nam % 400 == 0):\n",
        "    print(\"Năm nhuận\")\n",
        "else:\n",
        "    print(\"Không phải năm nhuận\")"
      ],
      "metadata": {
        "id": "AAguKbkD0QNh"
      },
      "execution_count": null,
      "outputs": []
    },
    {
      "cell_type": "markdown",
      "source": [
        "## **Bài 3.4 (nâng cao)**"
      ],
      "metadata": {
        "id": "Me8VfzI30SyA"
      }
    },
    {
      "cell_type": "markdown",
      "source": [
        "### **Yêu cầu**"
      ],
      "metadata": {
        "id": "cZ8oTLOY0W-F"
      }
    },
    {
      "cell_type": "markdown",
      "source": [
        "Nhập vào một dãy số với N số nguyên. Viết chương trình thực hiện các yêu cầu sau: Tính tổng các phần tử của dãy, tìm phần tử lớn nhất, đếm số số nguyên dương, sắp xếp các dãy số theo trật tự tăng dần và in kết quả sau khi sắp xếp."
      ],
      "metadata": {
        "id": "1ea1JpHc0bBv"
      }
    },
    {
      "cell_type": "markdown",
      "source": [
        "### **Lời giải**"
      ],
      "metadata": {
        "id": "85lvoBqP0eup"
      }
    },
    {
      "cell_type": "code",
      "source": [
        "    # Yêu cầu người dùng nhập số lượng phần tử N\n",
        "    N = int(input(\"Nhập số lượng phần tử của dãy: \"))\n",
        "    day_so = []\n",
        "    for i in range(N): # Vòng lặp for để nhập N số nguyên\n",
        "        so = int(input(f\"Nhập số thứ {i+1}: \"))\n",
        "        day_so.append(so)\n",
        "\n",
        "    # a. Tính tổng các phần tử của dãy\n",
        "    tong = 0\n",
        "    for so in day_so:\n",
        "        tong += so\n",
        "    print(f\"Tổng các phần tử của dãy là: {tong}\")\n",
        "\n",
        "    # b. Tìm phần tử lớn nhất\n",
        "    lon_nhat = day_so[0] # Giả sử phần tử đầu tiên là lớn nhất\n",
        "    for so in day_so:\n",
        "        if so > lon_nhat:\n",
        "            lon_nhat = so\n",
        "    print(f\"Phần tử lớn nhất trong dãy là: {lon_nhat}\")\n",
        "\n",
        "    # c. Đếm số số nguyên dương\n",
        "    dem_duong = 0\n",
        "    for so in day_so:\n",
        "        if so > 0:\n",
        "            dem_duong += 1\n",
        "    print(f\"Số lượng số nguyên dương là: {dem_duong}\")\n",
        "\n",
        "    # d. Sắp xếp các dãy số theo trật tự tăng dần và in kết quả\n",
        "    day_so.sort() # Sử dụng phương thức sort() để sắp xếp danh sách\n",
        "    print(f\"Dãy số sau khi sắp xếp tăng dần: {day_so}\")"
      ],
      "metadata": {
        "id": "rZoIMnRx0hZl"
      },
      "execution_count": null,
      "outputs": []
    },
    {
      "cell_type": "markdown",
      "source": [
        "# **Thực hành 4: Giới thiệu về vòng lặp**"
      ],
      "metadata": {
        "id": "kJmOi9YW0uho"
      }
    },
    {
      "cell_type": "markdown",
      "source": [
        "## **Bài 4.1: In bảng cửu chương của số n**"
      ],
      "metadata": {
        "id": "UQ39-hq100c4"
      }
    },
    {
      "cell_type": "markdown",
      "source": [
        "### **Yêu cầu**"
      ],
      "metadata": {
        "id": "HZjZqmDc03kI"
      }
    },
    {
      "cell_type": "markdown",
      "source": [
        "Nhập số nguyên n, in bảng cửu chương từ 1 đến 10."
      ],
      "metadata": {
        "id": "j_zCW-BO06Bc"
      }
    },
    {
      "cell_type": "markdown",
      "source": [
        "### **Lời giải**"
      ],
      "metadata": {
        "id": "26rERZFR09gM"
      }
    },
    {
      "cell_type": "code",
      "source": [
        "n = int(input(\"Nhập số: \"))\n",
        "for i in range(1, 11):\n",
        "    print(f\"{n} x {i} = {n*i}\")"
      ],
      "metadata": {
        "id": "UICjmdBa1ADW"
      },
      "execution_count": null,
      "outputs": []
    },
    {
      "cell_type": "markdown",
      "source": [
        "## **Bài 4.2: Tính giai thừa của một số**"
      ],
      "metadata": {
        "id": "hUvm4qdw1Bow"
      }
    },
    {
      "cell_type": "markdown",
      "source": [
        "### **Yêu cầu**"
      ],
      "metadata": {
        "id": "ykS9pvpA1Fb9"
      }
    },
    {
      "cell_type": "markdown",
      "source": [
        "Nhập số nguyên n, tính n!."
      ],
      "metadata": {
        "id": "pOYBycBT1JgZ"
      }
    },
    {
      "cell_type": "markdown",
      "source": [
        "### **Lời giải**"
      ],
      "metadata": {
        "id": "girYDqGv1LzF"
      }
    },
    {
      "cell_type": "code",
      "source": [
        "n = int(input(\"Nhập số nguyên dương: \"))\n",
        "giai_thua = 1\n",
        "for i in range(1, n + 1):\n",
        "    giai_thua *= i\n",
        "print(f\"{n}! = {giai_thua}\")"
      ],
      "metadata": {
        "id": "vQCYIfV91Ofi"
      },
      "execution_count": null,
      "outputs": []
    },
    {
      "cell_type": "markdown",
      "source": [
        "## **Bài 4.3: Tính tổng các số lẻ từ 1 đến n**"
      ],
      "metadata": {
        "id": "owmt4GXK1RoN"
      }
    },
    {
      "cell_type": "markdown",
      "source": [
        "### **Yêu cầu**"
      ],
      "metadata": {
        "id": "5hOK558J1VUB"
      }
    },
    {
      "cell_type": "markdown",
      "source": [
        "Nhập số nguyên dương n, tính tổng các số lẻ từ 1 đến n."
      ],
      "metadata": {
        "id": "liRcD3eP1XtV"
      }
    },
    {
      "cell_type": "markdown",
      "source": [
        "### **Lời giải**"
      ],
      "metadata": {
        "id": "Ay8UN8K71atM"
      }
    },
    {
      "cell_type": "code",
      "source": [
        "n = int(input(\"Nhập n: \"))\n",
        "tong = 0\n",
        "for i in range(1, n + 1, 2):\n",
        "    tong += i\n",
        "print(\"Tổng các số lẻ:\", tong)"
      ],
      "metadata": {
        "id": "Yk1YBcNz1dq9"
      },
      "execution_count": null,
      "outputs": []
    },
    {
      "cell_type": "markdown",
      "source": [
        "# **Bài 4.4 (nâng cao)**"
      ],
      "metadata": {
        "id": "vtNBrolF1inp"
      }
    },
    {
      "cell_type": "markdown",
      "source": [
        "### **Yêu cầu**"
      ],
      "metadata": {
        "id": "uMNjDiRA1m5K"
      }
    },
    {
      "cell_type": "markdown",
      "source": [
        "Viết chương trình yêu cầu người dùng nhập một số nguyên dương. Sử dụng vòng lặp `while` để đếm và in ra tổng số lượng chữ số của số đó."
      ],
      "metadata": {
        "id": "6utQOb8C1pMB"
      }
    },
    {
      "cell_type": "markdown",
      "source": [
        "### **Lời giải**"
      ],
      "metadata": {
        "id": "ocSKSkvE1r2O"
      }
    },
    {
      "cell_type": "code",
      "source": [
        "    so = int(input(\"Nhập một số nguyên dương: \"))\n",
        "    dem = 0\n",
        "    temp_so = abs(so) # Đảm bảo xử lý số dương, sử dụng giá trị tuyệt đối\n",
        "    if temp_so == 0: # Xử lý trường hợp số 0\n",
        "        dem = 1\n",
        "    else:\n",
        "        while temp_so > 0: # Lặp cho đến khi số trở thành 0\n",
        "            temp_so //= 10 # Chia số cho 10 (phép chia nguyên) để loại bỏ chữ số cuối cùng\n",
        "            dem += 1 # Tăng biến đếm\n",
        "    print(f\"Số lượng chữ số của {so} là: {dem}\")"
      ],
      "metadata": {
        "id": "TX1dyzN_1t89"
      },
      "execution_count": null,
      "outputs": []
    },
    {
      "cell_type": "markdown",
      "source": [
        "# **Thực hành 5: Giới thiệu về hàm số**"
      ],
      "metadata": {
        "id": "C499713F1x9u"
      }
    },
    {
      "cell_type": "markdown",
      "source": [
        "## **Bài 5.1: Hàm tính bình phương một số**"
      ],
      "metadata": {
        "id": "QwYh8h8q11H2"
      }
    },
    {
      "cell_type": "markdown",
      "source": [
        "### **Yêu cầu**"
      ],
      "metadata": {
        "id": "IVGllHgb2DWZ"
      }
    },
    {
      "cell_type": "markdown",
      "source": [
        "Viết hàm binh_phuong(n) trả về bình phương của n."
      ],
      "metadata": {
        "id": "k4U85jwD2Fv6"
      }
    },
    {
      "cell_type": "markdown",
      "source": [
        "### **Lời giải**"
      ],
      "metadata": {
        "id": "OnMG9gtb2HlB"
      }
    },
    {
      "cell_type": "code",
      "source": [
        "def binh_phuong(n):\n",
        "    return n ** 2\n",
        "\n",
        "x = int(input(\"Nhập số: \"))\n",
        "print(\"Bình phương:\", binh_phuong(x))"
      ],
      "metadata": {
        "id": "rSFr3oQz2Lq4"
      },
      "execution_count": null,
      "outputs": []
    },
    {
      "cell_type": "markdown",
      "source": [
        "## **Bài 5.2: Hàm kiểm tra số nguyên tố**"
      ],
      "metadata": {
        "id": "LFcG8AlO2PAl"
      }
    },
    {
      "cell_type": "markdown",
      "source": [
        "### **Yêu cầu**"
      ],
      "metadata": {
        "id": "L8HlW2to2TgJ"
      }
    },
    {
      "cell_type": "markdown",
      "source": [
        "Viết hàm is_prime(n) kiểm tra một số nguyên có phải là số nguyên tố."
      ],
      "metadata": {
        "id": "JTF5-cMF2V2f"
      }
    },
    {
      "cell_type": "markdown",
      "source": [
        "### **Lời giải**"
      ],
      "metadata": {
        "id": "w4TIJVEL2b_E"
      }
    },
    {
      "cell_type": "code",
      "source": [
        "def is_prime(n):\n",
        "    if n < 2:\n",
        "        return False\n",
        "    for i in range(2, int(n**0.5) + 1):\n",
        "        if n % i == 0:\n",
        "            return False\n",
        "    return True\n",
        "\n",
        "n = int(input(\"Nhập số: \"))\n",
        "print(\"Là số nguyên tố:\", is_prime(n))"
      ],
      "metadata": {
        "id": "lY2SNg7H2Zu_"
      },
      "execution_count": null,
      "outputs": []
    },
    {
      "cell_type": "markdown",
      "source": [
        "## **Bài 5.3: Hàm tính tổng dãy số Fibonacci đến số n**"
      ],
      "metadata": {
        "id": "s-blzysv2jvI"
      }
    },
    {
      "cell_type": "markdown",
      "source": [
        "### **Yêu cầu**"
      ],
      "metadata": {
        "id": "MGtNnk4D2okL"
      }
    },
    {
      "cell_type": "markdown",
      "source": [
        "Viết hàm fibonacci_sum(n) trả về tổng các số Fibonacci không vượt quá n."
      ],
      "metadata": {
        "id": "Iaccyh3N2qpH"
      }
    },
    {
      "cell_type": "markdown",
      "source": [
        "### **Lời giải**"
      ],
      "metadata": {
        "id": "yB1dU3ga2uAt"
      }
    },
    {
      "cell_type": "code",
      "source": [
        "def fibonacci_sum(n):\n",
        "    a, b = 0, 1\n",
        "    tong = 0\n",
        "    while a <= n:\n",
        "        tong += a\n",
        "        a, b = b, a + b\n",
        "    return tong\n",
        "\n",
        "n = int(input(\"Nhập n: \"))\n",
        "print(\"Tổng Fibonacci:\", fibonacci_sum(n))"
      ],
      "metadata": {
        "id": "v9vbMuIO2w2N"
      },
      "execution_count": null,
      "outputs": []
    },
    {
      "cell_type": "markdown",
      "source": [
        "## **Bài 5.4 (nâng cao)**"
      ],
      "metadata": {
        "id": "C785ApPw215d"
      }
    },
    {
      "cell_type": "markdown",
      "source": [
        "### **Yêu cầu**"
      ],
      "metadata": {
        "id": "9PMqIXII25fc"
      }
    },
    {
      "cell_type": "markdown",
      "source": [
        "Viết hàm la_so_hoan_hao(n) kiểm tra xem số nguyên n có phải là số hoàn hảo hay không.\n",
        "(Số hoàn hảo là số bằng tổng các ước số dương nhỏ hơn nó.)\n",
        "Ví dụ: la_so_hoan_hao(6) → True\n"
      ],
      "metadata": {
        "id": "0ahuOu-_27vm"
      }
    },
    {
      "cell_type": "markdown",
      "source": [
        "### **Lời giải**"
      ],
      "metadata": {
        "id": "zBohpE602-Lg"
      }
    },
    {
      "cell_type": "code",
      "source": [
        "    def la_so_hoan_hao(n):\n",
        "        if n <= 0: # Số hoàn hảo phải là số nguyên dương\n",
        "            return False\n",
        "        tong_uoc = 0\n",
        "        for i in range(1, n): # Duyệt qua các số từ 1 đến n-1\n",
        "            if n % i == 0: # Nếu i là ước của n\n",
        "                tong_uoc += i\n",
        "        return tong_uoc == n"
      ],
      "metadata": {
        "id": "pG9Kfsct3CDl"
      },
      "execution_count": null,
      "outputs": []
    }
  ]
}