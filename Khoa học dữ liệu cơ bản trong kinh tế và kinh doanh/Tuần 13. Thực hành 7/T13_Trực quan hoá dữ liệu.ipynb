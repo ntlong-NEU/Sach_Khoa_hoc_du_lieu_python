{
  "nbformat": 4,
  "nbformat_minor": 0,
  "metadata": {
    "colab": {
      "provenance": [],
      "toc_visible": true
    },
    "kernelspec": {
      "name": "python3",
      "display_name": "Python 3"
    },
    "language_info": {
      "name": "python"
    }
  },
  "cells": [
    {
      "cell_type": "markdown",
      "source": [],
      "metadata": {
        "id": "J0fh-x-7RYed"
      }
    },
    {
      "cell_type": "markdown",
      "source": [
        "# Phần 1: Vẽ đồ thị cơ bản với matplotlib"
      ],
      "metadata": {
        "id": "3lQIjqcGUUnk"
      }
    },
    {
      "cell_type": "markdown",
      "source": [
        "## Bài 1.1: Tạo đồ thị con và điều chỉnh khoảng cách\n",
        "\n",
        "* Yêu cầu:\n",
        "Tạo một hình (figure) chứa hai đồ thị con (subplots). Vẽ đồ thị đường cho hàm y = x^2 trên đồ thị con đầu tiên và đồ thị đường cho hàm y = sin(x) trên đồ thị con thứ hai. Sau đó, điều chỉnh khoảng cách giữa hai đồ thị con để chúng không bị chồng lấn.\n",
        "\n",
        "* Nội dung:\n",
        "Điều chỉnh khoảng cách xung quanh các subplot. Sinh viên sẽ học cách tạo và quản lý nhiều đồ thị trong cùng một cửa sổ, đồng thời sử dụng hàm plt.tight_layout() hoặc plt.subplots_adjust() để tối ưu hóa bố cục."
      ],
      "metadata": {
        "id": "aseXZ-ZRT6Mg"
      }
    },
    {
      "cell_type": "code",
      "source": [
        "import matplotlib.pyplot as plt\n",
        "import numpy as np\n",
        "\n",
        "# Tạo dữ liệu\n",
        "x = np.linspace(0, 10, 100)\n",
        "y1 = x**2\n",
        "y2 = np.sin(x)\n",
        "\n",
        "# Tạo figure và subplots\n",
        "fig, (ax1, ax2) = plt.subplots(1, 2)\n",
        "\n",
        "# Viết code của bạn dưới đây"
      ],
      "metadata": {
        "id": "1Nxc-ZXnT6m3"
      },
      "execution_count": null,
      "outputs": []
    },
    {
      "cell_type": "markdown",
      "source": [
        "## Bài 1.2: Tùy chỉnh màu sắc và kiểu đường\n",
        "* Yêu cầu:\n",
        "Vẽ một đồ thị đường thể hiện doanh thu hàng quý. Đồ thị phải sử dụng màu xanh, có điểm đánh dấu hình tròn và đường nét đứt.\n",
        "* Nội dung:\n",
        "Bài tập này liên quan đến mục 10.1.3. Màu sắc, điểm đánh dấu, kiểu line. Sinh viên sẽ thực hành các tham số tùy chỉnh trong hàm plt.plot() để làm cho đồ thị trực quan và dễ phân biệt hơn."
      ],
      "metadata": {
        "id": "-X7_aZJvU80d"
      }
    },
    {
      "cell_type": "code",
      "source": [
        "import matplotlib.pyplot as plt\n",
        "\n",
        "# Dữ liệu doanh thu hàng quý (triệu VND)\n",
        "quy = ['Q1', 'Q2', 'Q3', 'Q4']\n",
        "doanh_thu = [15, 22, 18, 25]\n",
        "\n",
        "# Viết code của bạn dưới đây"
      ],
      "metadata": {
        "id": "XjENaOnSVFY1"
      },
      "execution_count": null,
      "outputs": []
    },
    {
      "cell_type": "markdown",
      "source": [
        "## Bài 1.3: Thêm nhãn và chú thích\n",
        "* Yêu cầu:\n",
        "Vẽ một đồ thị đường thể hiện giá cổ phiếu của hai công ty. Thêm nhãn cho trục hoành và trục tung, tiêu đề đồ thị, và một chú thích (legend) để phân biệt hai đường.\n",
        "* Nội dung:\n",
        "Chú thích vẽ trên một đồ thị con. Sinh viên sẽ học cách sử dụng plt.xlabel(), plt.ylabel(), plt.title() và plt.legend() để cung cấp ngữ cảnh cho đồ thị, giúp người xem hiểu được ý nghĩa của dữ liệu."
      ],
      "metadata": {
        "id": "xXdYv9JWVIKi"
      }
    },
    {
      "cell_type": "code",
      "source": [
        "import matplotlib.pyplot as plt\n",
        "import numpy as np\n",
        "\n",
        "# Dữ liệu giá cổ phiếu\n",
        "ngay = np.arange(1, 11)\n",
        "gia_cty_a = [100, 102, 105, 103, 106, 108, 107, 109, 110, 112]\n",
        "gia_cty_b = [95, 96, 98, 97, 99, 101, 103, 105, 104, 106]\n",
        "\n",
        "# Viết code của bạn dưới đây"
      ],
      "metadata": {
        "id": "1mBMfEphVSU3"
      },
      "execution_count": null,
      "outputs": []
    },
    {
      "cell_type": "markdown",
      "source": [
        "## Bài 1.4: Lưu đồ thị và cấu hình\n",
        "* Yêu cầu:\n",
        "Tạo một đồ thị đường và lưu nó vào một tệp với độ phân giải cao. Sau đó, thay đổi kích thước mặc định của tất cả các đồ thị sẽ được tạo ra trong phiên làm việc.\n",
        "* Nội dung:\n",
        "Sinh viên sẽ học cách lưu đồ thị dưới dạng tệp ảnh để sử dụng trong các báo cáo hoặc bài thuyết trình, đồng thời khám phá cách tùy chỉnh các cài đặt mặc định của Matplotlib để áp dụng cho nhiều đồ thị mà không cần lặp lại code."
      ],
      "metadata": {
        "id": "HJogTIe0WQb3"
      }
    },
    {
      "cell_type": "code",
      "source": [
        "import matplotlib.pyplot as plt\n",
        "import numpy as np\n",
        "\n",
        "# Cấu hình kích thước hình mặc định\n",
        "\n",
        "# Dữ liệu mẫu\n",
        "x = np.linspace(0, 5, 50)\n",
        "y = x**3\n",
        "\n",
        "# Viết code của bạn dưới đây"
      ],
      "metadata": {
        "id": "cmqGcq1IWZnY"
      },
      "execution_count": null,
      "outputs": []
    },
    {
      "cell_type": "markdown",
      "source": [
        "# Phần 2: Vẽ đồ thị với pandas và seaborn"
      ],
      "metadata": {
        "id": "FlotXy2fUib4"
      }
    },
    {
      "cell_type": "markdown",
      "source": [
        "## Bài 2.1: Đồ thị đường\n",
        "*   Tạo bộ dữ liệu gồm 12 tháng (từ tháng 1 đến tháng 12 năm 2024).\n",
        "*   Biểu diễn dữ liệu dưới dạng đồ thị đường (line chart) để so sánh biến động giữa giá vàng và tỷ giá USD/VND.\n",
        "*   Sử dụng phong cách trực quan đen trắng (grayscale) để làm nổi bật sự so sánh.\n",
        "*   Gắn nhãn trục, tiêu đề và hiển thị lưới (grid) trên biểu đồ.\n",
        "\n"
      ],
      "metadata": {
        "id": "_C_PTGGSlOXL"
      }
    },
    {
      "cell_type": "code",
      "execution_count": null,
      "metadata": {
        "id": "rMiyv1hykBab"
      },
      "outputs": [],
      "source": [
        "# Ví dụ kinh tế: So sánh giá vàng và tỷ giá USD/VND\n",
        "import pandas as pd\n",
        "import matplotlib.pyplot as plt\n",
        "import numpy as np\n",
        "\n",
        "# Tạo dữ liệu giả lập\n",
        "dates = pd.date_range(\"2024-01-01\", periods=12, freq=\"M\")\n",
        "data = {\n",
        "    \"Giá vàng (triệu VND/lượng)\": 55 + np.cumsum(np.random.normal(0, 0.5, 12)),\n",
        "    \"Tỷ giá USD/VND (nghìn)\": 24 + np.cumsum(np.random.normal(0, 0.1, 12))\n",
        "}\n",
        "df = pd.DataFrame(data, index=dates)\n",
        "\n",
        "# Chuyển sang style đen trắng\n",
        "\n",
        "\n",
        "# Vẽ đồ thị\n"
      ]
    },
    {
      "cell_type": "markdown",
      "source": [
        "## Bài 2.2: Đồ thị cột\n",
        "*   Tạo dữ liệu doanh thu (triệu VND) cho 3 sản phẩm A, B, C tại 3 khu vực Miền Bắc, Miền Trung và Miền Nam.\n",
        "*   Trình bày dữ liệu dưới dạng DataFrame với tên hàng là sản phẩm và tên cột là khu vực.\n",
        "*   Vẽ biểu đồ cột dọc (bar chart) để so sánh doanh thu từng sản phẩm giữa các khu vực.\n",
        "*   Vẽ biểu đồ cột xếp chồng (stacked bar chart) để thể hiện tỷ trọng đóng góp của các khu vực trong tổng doanh thu từng sản phẩm.\n",
        "*   Gắn nhãn trục tung là Doanh thu (triệu VND) và tiêu đề biểu đồ rõ ràng."
      ],
      "metadata": {
        "id": "RNLW20m5mEbP"
      }
    },
    {
      "cell_type": "code",
      "source": [
        "# Nhập các thư viện cần thiết\n",
        "\n",
        "# Dữ liệu\n",
        "\n",
        "# Biểu đồ cột dọc\n",
        "\n",
        "# Biểu đồ cột xếp chồng\n"
      ],
      "metadata": {
        "id": "1KpRhpLWnkaP"
      },
      "execution_count": null,
      "outputs": []
    },
    {
      "cell_type": "markdown",
      "source": [
        "## Bài 2.3: Biểu đồ tần suất và đồ thị hàm mật độ\n",
        "*   Giả lập dữ liệu lương của công ty (đơn vị: triệu VND), gồm:\n",
        "  *   200 nhân viên phổ thông với mức lương trung bình 15 triệu, độ lệch chuẩn 2 triệu.\n",
        "  *   100 nhân viên quản lý với mức lương trung bình 30 triệu, độ lệch chuẩn 3 triệu.\n",
        "*   Lưu dữ liệu vào DataFrame với cột Lương.\n",
        "*   Vẽ biểu đồ histogram thể hiện phân phối lương.\n",
        "*   Thêm đường mật độ KDE (Kernel Density Estimation) để trực quan hóa xu hướng phân phối.\n",
        "*   Đặt tiêu đề, nhãn trục rõ ràng và dễ hiểu."
      ],
      "metadata": {
        "id": "wBnVXPNPohBm"
      }
    },
    {
      "cell_type": "code",
      "source": [
        "# Nhập các thư viện cần thiết\n",
        "import numpy as np\n",
        "import pandas as pd\n",
        "import seaborn as sns\n",
        "import matplotlib.pyplot as plt\n",
        "\n",
        "# Giả lập dữ liệu lương (triệu VND)\n",
        "\n",
        "# Vẽ histogram + KDE"
      ],
      "metadata": {
        "id": "-7f7E-XspNNt"
      },
      "execution_count": null,
      "outputs": []
    },
    {
      "cell_type": "markdown",
      "source": [
        "## Bài 2.4: Đồ thị phân tán\n",
        "*  Giả lập dữ liệu cho 100 quan sát:\n",
        "  *   Chi phí quảng cáo (triệu VND), phân phối chuẩn với trung bình 50 và độ lệch chuẩn 10.\n",
        "  *   Doanh thu (triệu VND), giả định chịu ảnh hưởng tuyến tính từ chi phí quảng cáo với hệ số nhân ~3 và có nhiễu ngẫu nhiên.\n",
        "*  Lưu dữ liệu vào DataFrame gồm 2 cột: Chi phí quảng cáo (triệu VND) và Doanh thu (triệu VND).\n",
        "*  Vẽ biểu đồ scatter plot để quan sát mối quan hệ giữa chi phí quảng cáo và doanh thu.\n",
        "*  Thêm đường hồi quy tuyến tính để làm rõ xu hướng quan hệ.\n",
        "*  Đặt tiêu đề, nhãn trục rõ ràng, dễ hiểu."
      ],
      "metadata": {
        "id": "91H0RqC-pcKM"
      }
    },
    {
      "cell_type": "markdown",
      "source": [
        "## Bài 2.5: Lưới đa điểm và dữ liệu phân loại\n",
        "*  Sử dụng bộ dữ liệu mẫu tips trong thư viện Seaborn.\n",
        "*  Phân tích mối quan hệ giữa giới tính của khách hàng (sex) và tổng hóa đơn (total_bill).\n",
        "*  Sử dụng lưới đa diện (FacetGrid) để trực quan hóa dữ liệu:\n",
        "  *   Mỗi hàng biểu diễn theo thời gian ăn uống (time: Lunch/Dinner).\n",
        "  *   Mỗi cột biểu diễn theo ngày trong tuần (day).\n",
        "*  Thêm đường hồi quy tuyến tính để làm rõ xu hướng quan hệ.\n",
        "*  Vẽ boxplot để so sánh sự phân phối hóa đơn giữa các nhóm.\n",
        "*  Hiển thị biểu đồ để quan sát sự khác biệt về tổng chi tiêu theo giới tính, thời gian và ngày trong tuần."
      ],
      "metadata": {
        "id": "sa459C4er0qD"
      }
    },
    {
      "cell_type": "code",
      "source": [
        "# Nhập thư viện cần thiết\n",
        "\n",
        "# Load dữ liệu tips\n",
        "\n",
        "# Lưới phân loại: mỗi hàng = time, mỗi cột = day\n"
      ],
      "metadata": {
        "id": "l1UGM0y9sXIS"
      },
      "execution_count": null,
      "outputs": []
    }
  ]
}