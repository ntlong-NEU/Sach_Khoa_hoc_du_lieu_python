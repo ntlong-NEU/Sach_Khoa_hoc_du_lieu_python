{
 "cells": [
  {
   "cell_type": "markdown",
   "id": "a86e3cda-f796-4528-8b4d-36d96d89426f",
   "metadata": {},
   "source": [
    "![](../docs/banner.png)"
   ]
  },
  {
   "cell_type": "markdown",
   "id": "e2ae68b6",
   "metadata": {},
   "source": [
    "# Sắp xếp và biến đổi dữ liệu"
   ]
  },
  {
   "cell_type": "markdown",
   "id": "9574d3c4",
   "metadata": {},
   "source": [
    "Trong nhiều ứng dụng, dữ liệu có thể nằm rải rác trên nhiều tệp hoặc cơ sở dữ liệu, hoặc được sắp xếp dưới dạng không thuận tiện cho việc phân tích. Chương này tập trung vào các công cụ giúp kết hợp, nối và sắp xếp lại dữ liệu.\n",
    "\n",
    "Đầu tiên, chúng ta sẽ làm quen với khái niệm về chỉ số phân cấp (hierarchical indexing) trong `pandas`, một công cụ được sử dụng rộng rãi trong sắp xếp và biến đổi dữ liệu. Sau đó, chương sách sẽ đi sâu vào các thao tác xử lý dữ liệu cụ thể. Bạn đọc có thể xem các ứng dụng thực tế của những công cụ này cả trong các phần sau của cuốn sách"
   ]
  },
  {
   "cell_type": "markdown",
   "id": "f5157e16-c017-4a07-bbf7-191edfdb8d42",
   "metadata": {},
   "source": [
    "## Chỉ số phân cấp\n",
    "<hr>"
   ]
  },
  {
   "cell_type": "markdown",
   "id": "d92970c1",
   "metadata": {},
   "source": [
    "Chỉ số phân cấp, hay hierarchical indexing, là một tính năng quan trọng của pandas cho phép bạn có nhiều cấp độ chỉ số trên một trục. Một cách khác để hình dung về chỉ số phân cấp là nó cung cấp cho bạn một cách làm việc với dữ liệu nhiều chiều bằng cách thao tác trên các dữ liệu chiều thấp hơn. Hãy bắt đầu với một ví dụ đơn giản: tạo một Series với một danh sách các danh sách hoặc mảng làm chỉ số:"
   ]
  },
  {
   "cell_type": "code",
   "execution_count": 1,
   "id": "27c2d134",
   "metadata": {},
   "outputs": [],
   "source": [
    "import pandas as pd\n",
    "import numpy as np\n",
    "data = pd.Series(np.random.uniform(size=9),\n",
    "                 index=[[\"a\", \"a\", \"a\", \"b\", \"b\", \"c\", \"c\", \"d\", \"d\"],\n",
    "                        [1, 2, 3, 1, 3, 1, 2, 2, 3]])"
   ]
  },
  {
   "cell_type": "code",
   "execution_count": 2,
   "id": "f50bde21",
   "metadata": {},
   "outputs": [
    {
     "data": {
      "text/plain": [
       "a  1    0.169921\n",
       "   2    0.055916\n",
       "   3    0.327592\n",
       "b  1    0.840680\n",
       "   3    0.920324\n",
       "c  1    0.340955\n",
       "   2    0.751418\n",
       "d  2    0.977143\n",
       "   3    0.792809\n",
       "dtype: float64"
      ]
     },
     "execution_count": 2,
     "metadata": {},
     "output_type": "execute_result"
    }
   ],
   "source": [
    "data"
   ]
  },
  {
   "cell_type": "markdown",
   "id": "7cab6723",
   "metadata": {},
   "source": [
    "```\n",
    "a  1    0.929616\n",
    "   2    0.316376\n",
    "   3    0.183919\n",
    "b  1    0.204560\n",
    "   3    0.567725\n",
    "c  1    0.595545\n",
    "   2    0.964515\n",
    "d  2    0.653177\n",
    "   3    0.748907\n",
    "dtype: float64\n",
    "```"
   ]
  },
  {
   "cell_type": "markdown",
   "id": "f5bc0959",
   "metadata": {},
   "source": [
    "Những gì bạn đang thấy là một dạng xem được làm đẹp của một Series với một MultiIndex làm chỉ số hàng. Các \"khoảng trống\" trong hiển thị chỉ số hàng chỉ mục có nghĩa là sử dụng chỉ số ngay phía trên:"
   ]
  },
  {
   "cell_type": "code",
   "execution_count": 3,
   "id": "78b0a763",
   "metadata": {},
   "outputs": [
    {
     "data": {
      "text/plain": [
       "MultiIndex([('a', 1),\n",
       "            ('a', 2),\n",
       "            ('a', 3),\n",
       "            ('b', 1),\n",
       "            ('b', 3),\n",
       "            ('c', 1),\n",
       "            ('c', 2),\n",
       "            ('d', 2),\n",
       "            ('d', 3)],\n",
       "           )"
      ]
     },
     "execution_count": 3,
     "metadata": {},
     "output_type": "execute_result"
    }
   ],
   "source": [
    "data.index"
   ]
  },
  {
   "cell_type": "markdown",
   "id": "2a79dd4f",
   "metadata": {},
   "source": [
    "```\n",
    "MultiIndex([('a', 1),\n",
    "            ('a', 2),\n",
    "            ('a', 3),\n",
    "            ('b', 1),\n",
    "            ('b', 3),\n",
    "            ('c', 1),\n",
    "            ('c', 2),\n",
    "            ('d', 2),\n",
    "            ('d', 3)],\n",
    "           )\n",
    "```"
   ]
  },
  {
   "cell_type": "markdown",
   "id": "dc249582",
   "metadata": {},
   "source": [
    "Với một đối tượng có chỉ mục phân cấp, có thể thực hiện thao tác được gọi là *truy cập một phần*, hay partial indexing, cho phép bạn chọn các tập hợp con của dữ liệu một cách ngắn gọn:"
   ]
  },
  {
   "cell_type": "code",
   "execution_count": 14,
   "id": "7594778a",
   "metadata": {},
   "outputs": [],
   "source": [
    "data[\"b\"]"
   ]
  },
  {
   "cell_type": "markdown",
   "id": "e37cb0ce",
   "metadata": {},
   "source": [
    "```\n",
    "1    0.204560\n",
    "3    0.567725\n",
    "dtype: float64\n",
    "```"
   ]
  },
  {
   "cell_type": "code",
   "execution_count": 15,
   "id": "d609a9ad",
   "metadata": {},
   "outputs": [],
   "source": [
    "data[\"b\":\"c\"]"
   ]
  },
  {
   "cell_type": "markdown",
   "id": "1d70a6de",
   "metadata": {},
   "source": [
    "```\n",
    "b  1    0.204560\n",
    "   3    0.567725\n",
    "c  1    0.595545\n",
    "   2    0.964515\n",
    "dtype: float64\n",
    "```"
   ]
  },
  {
   "cell_type": "code",
   "execution_count": 16,
   "id": "82edc038",
   "metadata": {},
   "outputs": [],
   "source": [
    "data.loc[[\"b\", \"d\"]]"
   ]
  },
  {
   "cell_type": "markdown",
   "id": "2756a16d",
   "metadata": {},
   "source": [
    "```\n",
    "b  1    0.204560\n",
    "   3    0.567725\n",
    "d  2    0.653177\n",
    "   3    0.748907\n",
    "dtype: float64\n",
    "```"
   ]
  },
  {
   "cell_type": "markdown",
   "id": "d101cc84",
   "metadata": {},
   "source": [
    "Việc lựa chọn có thể thực hiện từ các chỉ số cấp nhỏ hơn. Ví dụ, chúng ta có thể chọn các giá trị có chỉ số 1 ở cấp chỉ số thứ hai:"
   ]
  },
  {
   "cell_type": "code",
   "execution_count": 17,
   "id": "0045889a",
   "metadata": {},
   "outputs": [],
   "source": [
    "data.loc[:, 1]"
   ]
  },
  {
   "cell_type": "markdown",
   "id": "48fcc324",
   "metadata": {},
   "source": [
    "```\n",
    "a    0.316376\n",
    "c    0.964515\n",
    "d    0.653177\n",
    "dtype: float64\n",
    "```"
   ]
  },
  {
   "cell_type": "markdown",
   "id": "b0eb828d",
   "metadata": {},
   "source": [
    "Chỉ số phân cấp đóng một vai trò quan trọng trong việc định hình lại dữ liệu và trong các hoạt động dựa trên nhóm như tạo bảng tổng hợp. Ví dụ, bạn có thể sắp xếp lại dữ liệu này thành một DataFrame bằng phương thức `unstack`:"
   ]
  },
  {
   "cell_type": "code",
   "execution_count": 18,
   "id": "66b06b59",
   "metadata": {},
   "outputs": [],
   "source": [
    "data.unstack()"
   ]
  },
  {
   "cell_type": "markdown",
   "id": "a016f4b9",
   "metadata": {},
   "source": [
    "```\n",
    "        1         2         3\n",
    "a  0.929616  0.316376  0.183919\n",
    "b  0.204560       NaN  0.567725\n",
    "c  0.595545  0.964515       NaN\n",
    "d       NaN  0.653177  0.748907\n",
    "```"
   ]
  },
  {
   "cell_type": "markdown",
   "id": "e7a3233a",
   "metadata": {},
   "source": [
    "Thao tác ngược lại của `unstack` là `stack`:"
   ]
  },
  {
   "cell_type": "code",
   "execution_count": 19,
   "id": "9d9803fb",
   "metadata": {},
   "outputs": [],
   "source": [
    "data.unstack().stack()"
   ]
  },
  {
   "cell_type": "markdown",
   "id": "1bc9f267",
   "metadata": {},
   "source": [
    "```\n",
    "a  1    0.929616\n",
    "   2    0.316376\n",
    "   3    0.183919\n",
    "b  1    0.204560\n",
    "   3    0.567725\n",
    "c  1    0.595545\n",
    "   2    0.964515\n",
    "d  2    0.653177\n",
    "   3    0.748907\n",
    "dtype: float64\n",
    "```"
   ]
  },
  {
   "cell_type": "markdown",
   "id": "38f5db83",
   "metadata": {},
   "source": [
    "`stack` và `unstack` sẽ được khám phá chi tiết hơn sau trong phần sắp xếp và chuyển đổi dữ liệu"
   ]
  },
  {
   "cell_type": "markdown",
   "id": "e195a4bf",
   "metadata": {},
   "source": [
    "Với một DataFrame, cả hàng và cột đều có thể có chỉ số phân cấp:"
   ]
  },
  {
   "cell_type": "code",
   "execution_count": 20,
   "id": "22701085",
   "metadata": {},
   "outputs": [],
   "source": [
    "frame = pd.DataFrame(np.arange(12).reshape((4, 3)),\n",
    "                     index=[[\"a\", \"a\", \"b\", \"b\"], [1, 2, 1, 2]],\n",
    "                     columns=[[\"Ohio\", \"Ohio\", \"Colorado\"],\n",
    "                              [\"Green\", \"Red\", \"Green\"]])"
   ]
  },
  {
   "cell_type": "code",
   "execution_count": 21,
   "id": "29bf7f43",
   "metadata": {},
   "outputs": [],
   "source": [
    "frame"
   ]
  },
  {
   "cell_type": "markdown",
   "id": "1c065e8a",
   "metadata": {},
   "source": [
    "```\n",
    "        Ohio     Colorado\n",
    "       Green Red    Green\n",
    "a 1        0   1        2\n",
    "  2        3   4        5\n",
    "b 1        6   7        8\n",
    "  2        9  10       11\n",
    "```"
   ]
  },
  {
   "cell_type": "markdown",
   "id": "a81944e3",
   "metadata": {},
   "source": [
    "Các cấp phân cấp có thể được đặt tên tên dưới dạng chuỗi của Python."
   ]
  },
  {
   "cell_type": "code",
   "execution_count": 22,
   "id": "4c54d3a0",
   "metadata": {},
   "outputs": [],
   "source": [
    "frame.index.names = [\"key1\", \"key2\"]"
   ]
  },
  {
   "cell_type": "code",
   "execution_count": 23,
   "id": "b9991776",
   "metadata": {},
   "outputs": [],
   "source": [
    "frame.columns.names = [\"state\", \"color\"]"
   ]
  },
  {
   "cell_type": "code",
   "execution_count": 24,
   "id": "190002a6",
   "metadata": {},
   "outputs": [],
   "source": [
    "frame"
   ]
  },
  {
   "cell_type": "markdown",
   "id": "7a3008bc",
   "metadata": {},
   "source": [
    "```\n",
    "state   Ohio     Colorado\n",
    "color  Green Red    Green\n",
    "key1 key2\n",
    "a    1       0   1        2\n",
    "     2       3   4        5\n",
    "b    1       6   7        8\n",
    "     2       9  10       11\n",
    "```"
   ]
  },
  {
   "cell_type": "markdown",
   "id": "d7e4137a",
   "metadata": {},
   "source": [
    "Những tên này thay thế thuộc tính `name`, vốn chỉ được sử dụng với các chỉ số chỉ có một cấp."
   ]
  },
  {
   "cell_type": "markdown",
   "id": "a82b1505",
   "metadata": {},
   "source": [
    "**Lưu ý**\n",
    "\n",
    "Hãy cẩn thận lưu ý rằng tên chỉ số \"state\" và \"color\" là một phần của tên hàng và có thể được gọi bằng thuộc tính `index`."
   ]
  },
  {
   "cell_type": "markdown",
   "id": "b93b88ac",
   "metadata": {},
   "source": [
    "Bạn có thể xem một chỉ số có bao nhiêu cấp bằng cách sử dụng thuộc tính `nlevels`:"
   ]
  },
  {
   "cell_type": "code",
   "execution_count": 25,
   "id": "4254f339",
   "metadata": {},
   "outputs": [],
   "source": [
    "frame.index.nlevels"
   ]
  },
  {
   "cell_type": "markdown",
   "id": "5c48a354",
   "metadata": {},
   "source": [
    "```\n",
    "2\n",
    "```"
   ]
  },
  {
   "cell_type": "markdown",
   "id": "85d28a85",
   "metadata": {},
   "source": [
    "Với việc truy cập một phần cột, bạn cũng có thể chọn các nhóm cột tương tự:"
   ]
  },
  {
   "cell_type": "code",
   "execution_count": 26,
   "id": "75b24051",
   "metadata": {},
   "outputs": [],
   "source": [
    "frame[\"Ohio\"]"
   ]
  },
  {
   "cell_type": "markdown",
   "id": "fea0c860",
   "metadata": {},
   "source": [
    "```\n",
    "color     Green  Red\n",
    "key1 key2\n",
    "a    1          0    1\n",
    "     2          3    4\n",
    "b    1          6    7\n",
    "     2          9   10\n",
    "```"
   ]
  },
  {
   "cell_type": "markdown",
   "id": "9d03a31c-8722-46bc-8120-cf1ac59af86c",
   "metadata": {},
   "source": [
    "### Sắp xếp lại và sắp xếp các cấp\n",
    "<hr>"
   ]
  },
  {
   "cell_type": "markdown",
   "id": "59aed706",
   "metadata": {},
   "source": [
    "Đôi khi chúng ta có thể cần sắp xếp lại thứ tự các cấp của chỉ số hoặc sắp xếp dữ liệu theo giá trị ở một cấp cụ thể. Phương thức `swaplevel` nhận hai số hoặc tên cấp và trả về một đối tượng mới với các cấp được hoán đổi nhưng dữ liệu không thay đổi:"
   ]
  },
  {
   "cell_type": "code",
   "execution_count": 27,
   "id": "41dea257",
   "metadata": {},
   "outputs": [],
   "source": [
    "frame.swaplevel(\"key1\", \"key2\")"
   ]
  },
  {
   "cell_type": "markdown",
   "id": "cf2994fa",
   "metadata": {},
   "source": [
    "```\n",
    "state   Ohio     Colorado\n",
    "color  Green Red    Green\n",
    "key2 key1\n",
    "1    a       0   1        2\n",
    "2    a       3   4        5\n",
    "1    b       6   7        8\n",
    "2    b       9  10       11\n",
    "```"
   ]
  },
  {
   "cell_type": "markdown",
   "id": "85494c05",
   "metadata": {},
   "source": [
    "`sort_index` theo mặc định sắp xếp dữ liệu theo thứ tự từ điển sử dụng tất cả các cấp chỉ số, nhưng bạn có thể chọn chỉ sử dụng một cấp hoặc một tập hợp con các cấp để sắp xếp bằng cách truyền tham số `level`. Ví dụ:"
   ]
  },
  {
   "cell_type": "code",
   "execution_count": 28,
   "id": "8f8e1954",
   "metadata": {},
   "outputs": [],
   "source": [
    "frame.sort_index(level=1)"
   ]
  },
  {
   "cell_type": "markdown",
   "id": "40d8859c",
   "metadata": {},
   "source": [
    "```\n",
    "state   Ohio     Colorado\n",
    "color  Green Red    Green\n",
    "key1 key2\n",
    "a    1       0   1        2\n",
    "b    1       6   7        8\n",
    "a    2       3   4        5\n",
    "b    2       9  10       11\n",
    "```"
   ]
  },
  {
   "cell_type": "code",
   "execution_count": 29,
   "id": "9c365002",
   "metadata": {},
   "outputs": [],
   "source": [
    "frame.swaplevel(0, 1).sort_index(level=0)"
   ]
  },
  {
   "cell_type": "markdown",
   "id": "c6025e3a",
   "metadata": {},
   "source": [
    "```\n",
    "state   Ohio     Colorado\n",
    "color  Green Red    Green\n",
    "key2 key1\n",
    "1    a       0   1        2\n",
    "     b       6   7        8\n",
    "2    a       3   4        5\n",
    "     b       9  10       11\n",
    "```"
   ]
  },
  {
   "cell_type": "markdown",
   "id": "efd1ab52",
   "metadata": {},
   "source": [
    "**Lưu ý**\n",
    "\n",
    "Hiệu suất lựa chọn dữ liệu tốt hơn nhiều trên các đối tượng có chỉ số phân cấp nếu chỉ số được sắp xếp theo thứ tự từ điển bắt đầu từ cấp ngoài cùng—nghĩa là, kết quả của việc gọi `sort_index(level=0)` hoặc `sort_index()`."
   ]
  },
  {
   "cell_type": "markdown",
   "id": "75383c61-bc52-4adf-887f-284b5426af19",
   "metadata": {},
   "source": [
    "### Thống kê tóm tắt theo cấp\n",
    "<hr>"
   ]
  },
  {
   "cell_type": "markdown",
   "id": "274650f2",
   "metadata": {},
   "source": [
    "Nhiều thống kê mô tả và tóm tắt trên `DataFrame` và `Series` có một tùy chọn `level` trong đó bạn có thể chỉ định cấp bạn muốn tổng hợp theo trên một hàng hay một cột. Hãy xem xét `DataFrame` ở trên; chúng ta có thể tổng hợp theo cấp trên hàng hoặc cột, như sau:"
   ]
  },
  {
   "cell_type": "code",
   "execution_count": 30,
   "id": "eac48d8e",
   "metadata": {},
   "outputs": [],
   "source": [
    "frame.groupby(level=\"key2\").sum()"
   ]
  },
  {
   "cell_type": "markdown",
   "id": "29ee2295",
   "metadata": {},
   "source": [
    "```\n",
    "state  Ohio     Colorado\n",
    "color Green Red    Green\n",
    "key2\n",
    "1         6   8       10\n",
    "2        12  14       16\n",
    "```"
   ]
  },
  {
   "cell_type": "code",
   "execution_count": 31,
   "id": "f3dae620",
   "metadata": {},
   "outputs": [],
   "source": [
    "frame.groupby(level=\"color\", axis=\"columns\").sum()"
   ]
  },
  {
   "cell_type": "markdown",
   "id": "d634c49c",
   "metadata": {},
   "source": [
    "```\n",
    "color     Green  Red\n",
    "key1 key2\n",
    "a    1          2    1\n",
    "     2          8    4\n",
    "b    1         14    7\n",
    "     2         20   10\n",
    "```"
   ]
  },
  {
   "cell_type": "markdown",
   "id": "9425ecae",
   "metadata": {},
   "source": [
    "Chúng ta sẽ thảo luận chi tiết hơn về `groupby` sau trong phần tổng hợp dữ liệu."
   ]
  },
  {
   "cell_type": "markdown",
   "id": "3ae7e9ad-6416-4bab-be3a-96ce1223f48f",
   "metadata": {},
   "source": [
    "### Tạo chỉ số bằng các cột của dataFrame\n",
    "<hr>"
   ]
  },
  {
   "cell_type": "markdown",
   "id": "16b412c4",
   "metadata": {},
   "source": [
    "Trong nhiều trường hợp, chúng ta có thể sử dụng một hoặc nhiều cột từ DataFrame làm chỉ số và ngược lại, bạn có thể muốn chuyển chỉ số vào các cột của DataFrame. Ví dụ:"
   ]
  },
  {
   "cell_type": "code",
   "execution_count": 32,
   "id": "90d596b8",
   "metadata": {},
   "outputs": [],
   "source": [
    "frame = pd.DataFrame({\"a\": range(7), \"b\": range(7, 0, -1),\n",
    "                     \"c\": [\"one\", \"one\", \"one\", \"two\", \"two\",\n",
    "                           \"two\", \"two\"],\n",
    "                     \"d\": [0, 1, 2, 0, 1, 2, 3]})"
   ]
  },
  {
   "cell_type": "code",
   "execution_count": 33,
   "id": "c23f9287",
   "metadata": {},
   "outputs": [],
   "source": [
    "frame"
   ]
  },
  {
   "cell_type": "markdown",
   "id": "4930e39e",
   "metadata": {},
   "source": [
    "```\n",
    "   a  b    c  d\n",
    "0  0  7  one  0\n",
    "1  1  6  one  1\n",
    "2  2  5  one  2\n",
    "3  3  4  two  0\n",
    "4  4  3  two  1\n",
    "5  5  2  two  2\n",
    "6  6  1  two  3\n",
    "```"
   ]
  },
  {
   "cell_type": "markdown",
   "id": "81dd86f9",
   "metadata": {},
   "source": [
    "Hàm `set_index` của DataFrame sẽ tạo một DataFrame mới sử dụng một hoặc nhiều cột làm chỉ số:"
   ]
  },
  {
   "cell_type": "code",
   "execution_count": 34,
   "id": "2b39224f",
   "metadata": {},
   "outputs": [],
   "source": [
    "frame2 = frame.set_index([\"c\", \"d\"])"
   ]
  },
  {
   "cell_type": "code",
   "execution_count": 35,
   "id": "914612e4",
   "metadata": {},
   "outputs": [],
   "source": [
    "frame2"
   ]
  },
  {
   "cell_type": "markdown",
   "id": "f84f9f56",
   "metadata": {},
   "source": [
    "```\n",
    "       a  b\n",
    "c   d\n",
    "one 0  0  7\n",
    "    1  1  6\n",
    "    2  2  5\n",
    "two 0  3  4\n",
    "    1  4  3\n",
    "    2  5  2\n",
    "    3  6  1\n",
    "```"
   ]
  },
  {
   "cell_type": "markdown",
   "id": "34502a5e",
   "metadata": {},
   "source": [
    "Theo mặc định, các cột được loại bỏ khỏi DataFrame, mặc dù chúng ta có thể giữ chúng lại bằng cách truyền `drop=False` cho `set_index`:"
   ]
  },
  {
   "cell_type": "code",
   "execution_count": 36,
   "id": "ccdc99d6",
   "metadata": {},
   "outputs": [],
   "source": [
    "frame.set_index([\"c\", \"d\"], drop=False)"
   ]
  },
  {
   "cell_type": "markdown",
   "id": "e2741469",
   "metadata": {},
   "source": [
    "```\n",
    "       a  b    c  d\n",
    "c   d\n",
    "one 0  0  7  one  0\n",
    "    1  1  6  one  1\n",
    "    2  2  5  one  2\n",
    "two 0  3  4  two  0\n",
    "    1  4  3  two  1\n",
    "    2  5  2  two  2\n",
    "    3  6  1  two  3\n",
    "```"
   ]
  },
  {
   "cell_type": "markdown",
   "id": "c16743a6",
   "metadata": {},
   "source": [
    "Phương thức `reset_index`, mặt khác, thực hiện ngược lại với `set_index`; các phân cấp chỉ số được chuyển vào các cột:"
   ]
  },
  {
   "cell_type": "code",
   "execution_count": 37,
   "id": "1fb833d4",
   "metadata": {},
   "outputs": [],
   "source": [
    "frame2.reset_index()"
   ]
  },
  {
   "cell_type": "markdown",
   "id": "bc293e01",
   "metadata": {},
   "source": [
    "```\n",
    "     c  d  a  b\n",
    "0  one  0  0  7\n",
    "1  one  1  1  6\n",
    "2  one  2  2  5\n",
    "3  two  0  3  4\n",
    "4  two  1  4  3\n",
    "5  two  2  5  2\n",
    "6  two  3  6  1\n",
    "```"
   ]
  },
  {
   "cell_type": "markdown",
   "id": "ccfd53b1-f5fb-4d9e-8895-8c572a7ec856",
   "metadata": {},
   "source": [
    "## Kết hợp các tập dữ liệu\n",
    "<hr>"
   ]
  },
  {
   "cell_type": "markdown",
   "id": "96f0fb1d",
   "metadata": {},
   "source": [
    "Trong quá trình phân tích và xử lý dữ liệu, nhu cầu kết hợp nhiều nguồn dữ liệu khác nhau là rất phổ biến. Thư viện **pandas** cung cấp một số phương pháp linh hoạt và hiệu quả để kết hợp dữ liệu được lưu trữ trong các đối tượng `DataFrame`. Cụ thể, ba phương pháp thường được sử dụng bao gồm:\n",
    "\n",
    "- **`pandas.merge`**  \n",
    "  Phương pháp này cho phép kết nối các hàng giữa hai hoặc nhiều `DataFrame` dựa trên một hoặc nhiều khóa chung. Cách tiếp cận này tương tự với các thao tác *join* trong ngôn ngữ truy vấn SQL và thường được sử dụng trong các hệ quản trị cơ sở dữ liệu quan hệ.\n",
    "\n",
    "- **`pandas.concat`**\n",
    "  Được sử dụng để ghép nối các đối tượng dọc theo một trục xác định (theo hàng hoặc theo cột). Phương pháp này thích hợp trong các tình huống cần kết hợp dữ liệu có cùng cấu trúc.\n",
    "\n",
    "- **`combine_first`** \n",
    "  Dùng để kết hợp hai đối tượng có cấu trúc tương tự, trong đó các giá trị bị thiếu (*missing values*) trong một đối tượng sẽ được điền bởi các giá trị tương ứng từ đối tượng còn lại. Đây là phương pháp hữu ích trong việc làm sạch và bổ sung dữ liệu.\n",
    "\n",
    "Trong các phần tiếp theo, chúng ta sẽ trình bày chi tiết từng phương pháp trên kèm theo ví dụ minh họa cụ thể. Những phương pháp này cũng sẽ được sử dụng xuyên suốt các chương còn lại của cuốn sách để giải quyết các tình huống thực tiễn trong phân tích dữ liệu."
   ]
  },
  {
   "cell_type": "markdown",
   "id": "b66b7fe2-cb55-4046-a927-761d169fd915",
   "metadata": {},
   "source": [
    "### Các phép gộp và nối dữ liệu\n",
    "<hr>"
   ]
  },
  {
   "cell_type": "markdown",
   "id": "5ef2ce1b",
   "metadata": {},
   "source": [
    "Các hoạt động **gộp (merge)** hoặc **nối (join)** cho phép kết hợp nhiều tập dữ liệu lại với nhau bằng cách liên kết các hàng dựa trên một hoặc nhiều khóa chung. Đây là các thao tác cốt lõi trong phân tích dữ liệu, đặc biệt quan trọng trong ngữ cảnh của các hệ quản trị cơ sở dữ liệu quan hệ, chẳng hạn như các hệ thống dựa trên SQL.\n",
    "\n",
    "Trong thư viện **pandas**, hàm `pandas.merge` là công cụ chính để thực hiện các thao tác gộp dữ liệu, triển khai các thuật toán tương tự như các phép *join* trong SQL, bao gồm `inner`, `outer`, `left`, và `right join`.\n",
    "\n",
    "Hãy bắt đầu với một ví dụ đơn giản:"
   ]
  },
  {
   "cell_type": "code",
   "execution_count": 38,
   "id": "f14679c8",
   "metadata": {},
   "outputs": [],
   "source": [
    "df1 = pd.DataFrame({\"key\": [\"b\", \"b\", \"a\", \"c\", \"a\", \"a\", \"b\"],\n",
    "                     \"data1\": pd.Series(range(7), dtype=\"Int64\")})"
   ]
  },
  {
   "cell_type": "code",
   "execution_count": 39,
   "id": "4bc431e4",
   "metadata": {},
   "outputs": [],
   "source": [
    "df2 = pd.DataFrame({\"key\": [\"a\", \"b\", \"d\"],\n",
    "                     \"data2\": pd.Series(range(3), dtype=\"Int64\")})"
   ]
  },
  {
   "cell_type": "code",
   "execution_count": 40,
   "id": "a4dac984",
   "metadata": {},
   "outputs": [],
   "source": [
    "df1"
   ]
  },
  {
   "cell_type": "markdown",
   "id": "c017da08",
   "metadata": {},
   "source": [
    "```\n",
    "  key  data1\n",
    "0   b      0\n",
    "1   b      1\n",
    "2   a      2\n",
    "3   c      3\n",
    "4   a      4\n",
    "5   a      5\n",
    "6   b      6\n",
    "```"
   ]
  },
  {
   "cell_type": "code",
   "execution_count": 41,
   "id": "7b525499",
   "metadata": {},
   "outputs": [],
   "source": [
    "df2"
   ]
  },
  {
   "cell_type": "markdown",
   "id": "55087483",
   "metadata": {},
   "source": [
    "```\n",
    "  key  data2\n",
    "0   a      0\n",
    "1   b      1\n",
    "2   d      2\n",
    "```"
   ]
  },
  {
   "cell_type": "markdown",
   "id": "5873a27e",
   "metadata": {},
   "source": [
    "Đây là một ví dụ minh họa cho phép nối **nhiều–một** (*many-to-one*), trong đó dữ liệu trong `df1` chứa nhiều hàng có cùng tên, chẳng hạn như `'a'` và `'b'`, trong khi `df2` chỉ chứa một hàng tương ứng cho mỗi giá trị trong cột `key`.\n",
    "\n",
    "Khi gọi hàm `pandas.merge` để kết hợp hai bảng dữ liệu này, các hàng trong `df1` sẽ được ghép nối với các hàng phù hợp trong `df2` dựa trên giá trị khóa. Kết quả thu được là một dữ liệu mới, trong đó mỗi hàng của `df1` được bổ sung thông tin từ `df2` theo cách tương ứng với cấu trúc nhiều–một.\n",
    "\n",
    "Cụ thể, ta thực hiện như sau:"
   ]
  },
  {
   "cell_type": "code",
   "execution_count": 42,
   "id": "16f0dbfa",
   "metadata": {},
   "outputs": [],
   "source": [
    "pd.merge(df1, df2)"
   ]
  },
  {
   "cell_type": "markdown",
   "id": "d12b537b",
   "metadata": {},
   "source": [
    "```\n",
    "  key  data1  data2\n",
    "0   b      0      1\n",
    "1   b      1      1\n",
    "2   b      6      1\n",
    "3   a      2      0\n",
    "4   a      4      0\n",
    "5   a      5      0\n",
    "```"
   ]
  },
  {
   "cell_type": "markdown",
   "id": "d97841b1",
   "metadata": {},
   "source": [
    "Trong câu lệnh ở trên, chúng ta không chỉ định cột nào để join. Nếu thông tin đó không được chỉ định, `pandas.merge` sử dụng các tên cột giống nhau làm khóa. Tuy nhiên, chúng tôi khuyến khích bạn đọc nên chỉ định rõ ràng tên cột dùng để join."
   ]
  },
  {
   "cell_type": "code",
   "execution_count": 43,
   "id": "fdfe0b58",
   "metadata": {},
   "outputs": [],
   "source": [
    "pd.merge(df1, df2, on=\"key\")"
   ]
  },
  {
   "cell_type": "markdown",
   "id": "c84db1ef",
   "metadata": {},
   "source": [
    "```\n",
    "  key  data1  data2\n",
    "0   b      0      1\n",
    "1   b      1      1\n",
    "2   b      6      1\n",
    "3   a      2      0\n",
    "4   a      4      0\n",
    "5   a      5      0\n",
    "```"
   ]
  },
  {
   "cell_type": "markdown",
   "id": "b20db8fe",
   "metadata": {},
   "source": [
    "Nói chung, thứ tự của các cột trong dữ liệu đầu ra từ `pandas.merge` là không xác định. Nếu tên cột khác nhau trong mỗi đối tượng, chúng ta có thể chỉ định. Theo mặc định, `pandas.merge` thực hiện phép join trong (`inner`). Các tùy chọn khả thi khác là `\"left\"`, `\"right\"`, và `\"outer\"`. Phép join ngoài (`outer join`) lấy hợp của các khóa, kết hợp hiệu ứng của việc áp dụng cả phép join trái và phải:"
   ]
  },
  {
   "cell_type": "code",
   "execution_count": 47,
   "id": "67f6f292",
   "metadata": {},
   "outputs": [],
   "source": [
    "pd.merge(df1, df2, how=\"outer\")"
   ]
  },
  {
   "cell_type": "markdown",
   "id": "b532b0e5",
   "metadata": {},
   "source": [
    "```\n",
    "  key data1 data2\n",
    "0   b     0     1\n",
    "1   b     1     1\n",
    "2   b     6     1\n",
    "3   a     2     0\n",
    "4   a     4     0\n",
    "5   a     5     0\n",
    "6   c     3  <NA>\n",
    "7   d  <NA>     2\n",
    "```"
   ]
  },
  {
   "cell_type": "markdown",
   "id": "5afce6d2",
   "metadata": {},
   "source": [
    "Trong phép join ngoài, các hàng từ đối tượng DataFrame bên trái hoặc bên phải không khớp khóa trong DataFrame kia sẽ xuất hiện với giá trị `NA` trong các cột của DataFrame kia cho các hàng không khớp."
   ]
  },
  {
   "cell_type": "markdown",
   "id": "edca97fa",
   "metadata": {},
   "source": [
    "Xem Bảng ... để biết tóm tắt các tùy chọn cho `how`."
   ]
  },
  {
   "cell_type": "markdown",
   "id": "b31004a3",
   "metadata": {},
   "source": [
    "**Bảng ... Các loại join khác nhau với đối số `how`**\n",
    "\n",
    "| Tùy chọn      | Hành vi                                                                 |\n",
    "|---------------|-------------------------------------------------------------------------|\n",
    "| `how=\"inner\"` | Chỉ sử dụng các tổ hợp khóa được quan sát thấy trong cả hai bảng           |\n",
    "| `how=\"left\"`  | Sử dụng tất cả các tổ hợp khóa được tìm thấy trong bảng bên trái            |\n",
    "| `how=\"right\"` | Sử dụng tất cả các tổ hợp khóa được tìm thấy trong bảng bên phải           |\n",
    "| `how=\"outer\"` | Sử dụng tất cả các tổ hợp khóa được quan sát thấy trong cả hai bảng cùng nhau |"
   ]
  },
  {
   "cell_type": "markdown",
   "id": "53502759",
   "metadata": {},
   "source": [
    "Các phép gộp nhiều-nhiều (many-to-many) tạo thành tích Descartes (Cartesian product) của các khóa khớp. Đây là một ví dụ:"
   ]
  },
  {
   "cell_type": "code",
   "execution_count": 49,
   "id": "40707eeb",
   "metadata": {},
   "outputs": [],
   "source": [
    "df1 = pd.DataFrame({\"key\": [\"b\", \"b\", \"a\", \"c\", \"a\", \"b\"],\n",
    "                     \"data1\": pd.Series(range(6), dtype=\"Int64\")})"
   ]
  },
  {
   "cell_type": "code",
   "execution_count": 50,
   "id": "609f2036",
   "metadata": {},
   "outputs": [],
   "source": [
    "df2 = pd.DataFrame({\"key\": [\"a\", \"b\", \"a\", \"b\", \"d\"],\n",
    "                     \"data2\": pd.Series(range(5), dtype=\"Int64\")})"
   ]
  },
  {
   "cell_type": "code",
   "execution_count": 51,
   "id": "2cf0e8ab",
   "metadata": {},
   "outputs": [],
   "source": [
    "df1"
   ]
  },
  {
   "cell_type": "markdown",
   "id": "a759d6f3",
   "metadata": {},
   "source": [
    "```\n",
    "  key  data1\n",
    "0   b      0\n",
    "1   b      1\n",
    "2   a      2\n",
    "3   c      3\n",
    "4   a      4\n",
    "5   b      5\n",
    "```"
   ]
  },
  {
   "cell_type": "code",
   "execution_count": 52,
   "id": "c93a9191",
   "metadata": {},
   "outputs": [],
   "source": [
    "df2"
   ]
  },
  {
   "cell_type": "markdown",
   "id": "95fdab81",
   "metadata": {},
   "source": [
    "```\n",
    "  key  data2\n",
    "0   a      0\n",
    "1   b      1\n",
    "2   a      2\n",
    "3   b      3\n",
    "4   d      4\n",
    "```"
   ]
  },
  {
   "cell_type": "code",
   "execution_count": 53,
   "id": "4ddfc3a6",
   "metadata": {},
   "outputs": [],
   "source": [
    "pd.merge(df1, df2, on=\"key\", how=\"left\")"
   ]
  },
  {
   "cell_type": "markdown",
   "id": "9150be98",
   "metadata": {},
   "source": [
    "```\n",
    "   key  data1 data2\n",
    "0    b      0     1\n",
    "1    b      0     3\n",
    "2    b      1     1\n",
    "3    b      1     3\n",
    "4    a      2     0\n",
    "5    a      2     2\n",
    "6    c      3  <NA>\n",
    "7    a      4     0\n",
    "8    a      4     2\n",
    "9    b      5     1\n",
    "10   b      5     3\n",
    "```"
   ]
  },
  {
   "cell_type": "markdown",
   "id": "55bd2914",
   "metadata": {},
   "source": [
    "Vì có ba hàng \"b\" trong DataFrame bên trái và hai hàng trong DataFrame bên phải, nên có sáu hàng \"b\" trong kết quả. Phương thức join được truyền cho đối số từ khóa `how` chỉ ảnh hưởng đến các giá trị khóa riêng biệt xuất hiện trong kết quả:"
   ]
  },
  {
   "cell_type": "code",
   "execution_count": 54,
   "id": "719f41f0",
   "metadata": {},
   "outputs": [],
   "source": [
    "pd.merge(df1, df2, how=\"inner\")"
   ]
  },
  {
   "cell_type": "markdown",
   "id": "ca70719c",
   "metadata": {},
   "source": [
    "```\n",
    "  key  data1  data2\n",
    "0   b      0      1\n",
    "1   b      0      3\n",
    "2   b      1      1\n",
    "3   b      1      3\n",
    "4   b      5      1\n",
    "5   b      5      3\n",
    "6   a      2      0\n",
    "7   a      2      2\n",
    "8   a      4      0\n",
    "9   a      4      2\n",
    "```"
   ]
  },
  {
   "cell_type": "markdown",
   "id": "59a29ef0",
   "metadata": {},
   "source": [
    "Để gộp với nhiều khóa, hãy truyền một danh sách tên cột:"
   ]
  },
  {
   "cell_type": "code",
   "execution_count": 55,
   "id": "343959d1",
   "metadata": {},
   "outputs": [],
   "source": [
    "left = pd.DataFrame({\"key1\": [\"foo\", \"foo\", \"bar\"],\n",
    "                     \"key2\": [\"one\", \"two\", \"one\"],\n",
    "                     \"lval\": pd.Series([1, 2, 3], dtype='Int64')})"
   ]
  },
  {
   "cell_type": "code",
   "execution_count": 56,
   "id": "976111ed",
   "metadata": {},
   "outputs": [],
   "source": [
    "right = pd.DataFrame({\"key1\": [\"foo\", \"foo\", \"bar\", \"bar\"],\n",
    "                      \"key2\": [\"one\", \"one\", \"one\", \"two\"],\n",
    "                      \"rval\": pd.Series([4, 5, 6, 7], dtype='Int64')})"
   ]
  },
  {
   "cell_type": "code",
   "execution_count": 57,
   "id": "eeb1815b",
   "metadata": {},
   "outputs": [],
   "source": [
    "pd.merge(left, right, on=[\"key1\", \"key2\"], how=\"outer\")"
   ]
  },
  {
   "cell_type": "markdown",
   "id": "acbd5789",
   "metadata": {},
   "source": [
    "```\n",
    "  key1 key2 lval rval\n",
    "0  foo  one    1    4\n",
    "1  foo  one    1    5\n",
    "2  foo  two    2 <NA>\n",
    "3  bar  one    3    6\n",
    "4  bar  two <NA>    7\n",
    "```"
   ]
  },
  {
   "cell_type": "markdown",
   "id": "dd589287",
   "metadata": {},
   "source": [
    "Để xác định tổ hợp khóa nào sẽ xuất hiện trong kết quả tùy thuộc vào lựa chọn phương thức gộp, hãy coi nhiều khóa như tạo thành một mảng các tuple được sử dụng làm một khóa join duy nhất."
   ]
  },
  {
   "cell_type": "markdown",
   "id": "60e3b0f7",
   "metadata": {},
   "source": [
    "**Lưu ý**\n",
    "\n",
    "Khi bạn join cột với cột, các chỉ số trên các đối tượng DataFrame được truyền vào sẽ bị loại bỏ. Nếu bạn cần giữ lại các giá trị chỉ số, bạn có thể sử dụng `reset_index` để nối chỉ mục vào các cột."
   ]
  },
  {
   "cell_type": "markdown",
   "id": "0994370c",
   "metadata": {},
   "source": [
    "Một vấn đề cũng cần xem xét trong các hoạt động kết hợp dữ liệu là việc xử lý các tên cột giống nhau trong 2 dữ liệu. Ví dụ:"
   ]
  },
  {
   "cell_type": "code",
   "execution_count": 58,
   "id": "d0e160aa",
   "metadata": {},
   "outputs": [],
   "source": [
    "pd.merge(left, right, on=\"key1\")"
   ]
  },
  {
   "cell_type": "markdown",
   "id": "f07dd7fd",
   "metadata": {},
   "source": [
    "```\n",
    "  key1 key2_x  lval key2_y  rval\n",
    "0  foo    one     1    one     4\n",
    "1  foo    one     1    one     5\n",
    "2  foo    two     2    one     4\n",
    "3  foo    two     2    one     5\n",
    "4  bar    one     3    one     6\n",
    "5  bar    one     3    two     7\n",
    "```"
   ]
  },
  {
   "cell_type": "markdown",
   "id": "d4298c59",
   "metadata": {},
   "source": [
    "Bạn đọc có thể sử dụng tham số `suffixes` để chỉ định các chuỗi được nối vào các tên chồng chéo trong các đối tượng DataFrame bên trái và bên phải:"
   ]
  },
  {
   "cell_type": "code",
   "execution_count": 59,
   "id": "5e71ca0c",
   "metadata": {},
   "outputs": [],
   "source": [
    "pd.merge(left, right, on=\"key1\", suffixes=(\"_left\", \"_right\"))"
   ]
  },
  {
   "cell_type": "markdown",
   "id": "f36a0c26",
   "metadata": {},
   "source": [
    "```\n",
    "  key1 key2_left  lval key2_right  rval\n",
    "0  foo       one     1        one     4\n",
    "1  foo       one     1        one     5\n",
    "2  foo       two     2        one     4\n",
    "3  foo       two     2        one     5\n",
    "4  bar       one     3        one     6\n",
    "5  bar       one     3        two     7\n",
    "```"
   ]
  },
  {
   "cell_type": "markdown",
   "id": "b1621b1d",
   "metadata": {},
   "source": [
    "Xem Bảng ... để tham khảo các tham số của hàm `pandas.merge`. Phần tiếp theo bao gồm việc join bằng chỉ số hàng của DataFrame."
   ]
  },
  {
   "cell_type": "markdown",
   "id": "9cb28b70",
   "metadata": {},
   "source": [
    "**Bảng ....: Các tham số của hàm `pandas.merge`**\n",
    "\n",
    "| Đối số        | Mô tả                                                                                                                                                             |\n",
    "|---------------|-------------------------------------------------------------------------------------------------------------------------------------------------------------------|\n",
    "| `left`        | DataFrame được gộp ở phía bên trái.                                                                                                                                |\n",
    "| `right`       | DataFrame được gộp ở phía bên phải.                                                                                                                                |\n",
    "| `how`         | Loại join để áp dụng: một trong số `\"inner\"`, `\"outer\"`, `\"left\"`, hoặc `\"right\"`; mặc định là `\"inner\"`.                                                               |\n",
    "| `on`          | Tên cột để join. Phải được tìm thấy trong cả hai đối tượng DataFrame. Nếu không được chỉ định và không có khóa join nào khác được cung cấp, sẽ sử dụng giao điểm của các tên cột trong `left` và `right` làm khóa join. |\n",
    "| `left_on`     | Các cột trong DataFrame `left` để sử dụng làm khóa join. Có thể là một tên cột duy nhất hoặc một danh sách các tên cột.                                                     |\n",
    "| `right_on`    | Tương tự như `left_on` cho DataFrame `right`.                                                                                                                       |\n",
    "| `left_index`  | Sử dụng chỉ mục hàng trong `left` làm khóa join của nó (hoặc các khóa, nếu là `MultiIndex`).                                                                          |\n",
    "| `right_index` | Tương tự như `left_index`.                                                                                                                                          |\n",
    "| `sort`        | Sắp xếp dữ liệu đã gộp theo thứ tự từ điển bằng các khóa join; `False` theo mặc định.                                                                                |\n",
    "| `suffixes`    | Tuple các giá trị chuỗi để nối vào tên cột trong trường hợp chồng chéo; mặc định là `(\"_x\", \"_y\")` (ví dụ: nếu \"data\" có trong cả hai đối tượng DataFrame, sẽ xuất hiện dưới dạng \"data_x\" và \"data_y\" trong kết quả). |\n",
    "| `copy`        | Nếu `False`, tránh sao chép dữ liệu vào cấu trúc dữ liệu kết quả trong một số trường hợp ngoại lệ; theo mặc định luôn sao chép.                                       |\n",
    "| `validate`    | Xác minh xem phép gộp có thuộc loại được chỉ định hay không, cho dù là một-một, một-nhiều, hay nhiều-nhiều. Xem docstring để biết chi tiết đầy đủ về các tùy chọn.     |\n",
    "| `indicator`   | Thêm một cột đặc biệt `_merge` chỉ ra nguồn của mỗi hàng; các giá trị sẽ là `\"left_only\"`, `\"right_only\"`, hoặc `\"both\"` dựa trên nguồn gốc của dữ liệu được join trong mỗi hàng. |"
   ]
  },
  {
   "cell_type": "markdown",
   "id": "9260947c-9381-499d-ace6-36d06020ef66",
   "metadata": {},
   "source": [
    "### Kết hợp dữ liệu dựa trên chỉ số\n",
    "<hr>"
   ]
  },
  {
   "cell_type": "markdown",
   "id": "1d23c0ab",
   "metadata": {},
   "source": [
    "Trong một số trường hợp, các khóa trong một DataFrame sẽ được tìm thấy trong chỉ số hàng. Trong trường hợp này, bạn có thể truyền `left_index=True` hoặc `right_index=True` (hoặc cả hai) để chỉ ra rằng chỉ số được sử dụng làm khóa:"
   ]
  },
  {
   "cell_type": "code",
   "execution_count": 60,
   "id": "c07357c1",
   "metadata": {},
   "outputs": [],
   "source": [
    "left1 = pd.DataFrame({\"key\": [\"a\", \"b\", \"a\", \"a\", \"b\", \"c\"],\n",
    "                      \"value\": pd.Series(range(6), dtype=\"Int64\")})"
   ]
  },
  {
   "cell_type": "code",
   "execution_count": 61,
   "id": "8d0a628f",
   "metadata": {},
   "outputs": [],
   "source": [
    "right1 = pd.DataFrame({\"group_val\": [3.5, 7]}, index=[\"a\", \"b\"])"
   ]
  },
  {
   "cell_type": "code",
   "execution_count": 62,
   "id": "1d4cb6c9",
   "metadata": {},
   "outputs": [],
   "source": [
    "left1"
   ]
  },
  {
   "cell_type": "markdown",
   "id": "057901d5",
   "metadata": {},
   "source": [
    "```\n",
    "  key  value\n",
    "0   a      0\n",
    "1   b      1\n",
    "2   a      2\n",
    "3   a      3\n",
    "4   b      4\n",
    "5   c      5\n",
    "```"
   ]
  },
  {
   "cell_type": "code",
   "execution_count": 63,
   "id": "83d38f57",
   "metadata": {},
   "outputs": [],
   "source": [
    "right1"
   ]
  },
  {
   "cell_type": "markdown",
   "id": "732685c3",
   "metadata": {},
   "source": [
    "```\n",
    "   group_val\n",
    "a        3.5\n",
    "b        7.0\n",
    "```"
   ]
  },
  {
   "cell_type": "code",
   "execution_count": 64,
   "id": "63a130ad",
   "metadata": {},
   "outputs": [],
   "source": [
    "pd.merge(left1, right1, left_on=\"key\", right_index=True)"
   ]
  },
  {
   "cell_type": "markdown",
   "id": "6aaab5a1",
   "metadata": {},
   "source": [
    "```\n",
    "  key  value  group_val\n",
    "0   a      0        3.5\n",
    "2   a      2        3.5\n",
    "3   a      3        3.5\n",
    "1   b      1        7.0\n",
    "4   b      4        7.0\n",
    "```"
   ]
  },
  {
   "cell_type": "markdown",
   "id": "a735b538",
   "metadata": {},
   "source": [
    "**Lưu ý**\n",
    "\n",
    "Nếu bạn xem xét kỹ ví dụ trên, bạn sẽ thấy rằng các giá trị chỉ số cho `left1` đã được giữ lại, trong khi ở các ví dụ khác ở trên, các chỉ số của các đối tượng DataFrame đầu vào bị loại bỏ. Bởi vì chỉ số của `right1` là duy nhất, phép gộp \"nhiều-một\" này (với phương thức `how=\"inner\"` mặc định) có thể giữ lại các giá trị chỉ số từ `left1` tương ứng với các hàng trong đầu ra."
   ]
  },
  {
   "cell_type": "markdown",
   "id": "a9c91c79",
   "metadata": {},
   "source": [
    "Vì phương thức gộp mặc định là lấy phần giao của các khóa join, bạn có thể sử dụng phép join ngoài nếu muốn lấy phần hợp của các khóa join:"
   ]
  },
  {
   "cell_type": "code",
   "execution_count": 65,
   "id": "7510f34b",
   "metadata": {},
   "outputs": [],
   "source": [
    "pd.merge(left1, right1, left_on=\"key\", right_index=True, how=\"outer\")"
   ]
  },
  {
   "cell_type": "markdown",
   "id": "9cc02c0a",
   "metadata": {},
   "source": [
    "```\n",
    "  key  value  group_val\n",
    "0   a      0        3.5\n",
    "2   a      2        3.5\n",
    "3   a      3        3.5\n",
    "1   b      1        7.0\n",
    "4   b      4        7.0\n",
    "5   c      5        NaN\n",
    "```"
   ]
  },
  {
   "cell_type": "markdown",
   "id": "a2b37354-d5d3-4b9c-b091-5f71cdd07d05",
   "metadata": {},
   "source": [
    "### Nối dữ liệu theo một trục\n",
    "<hr>"
   ]
  },
  {
   "cell_type": "markdown",
   "id": "6eb9adb0",
   "metadata": {},
   "source": [
    "Một loại hoạt động kết hợp dữ liệu khác được gọi thay thế cho nhau là nối dữ liệu. Hàm `concatenate` của NumPy có thể thực hiện điều này với các mảng NumPy:"
   ]
  },
  {
   "cell_type": "code",
   "execution_count": 84,
   "id": "5b35ade9",
   "metadata": {},
   "outputs": [],
   "source": [
    "arr = np.arange(12).reshape((3, 4))"
   ]
  },
  {
   "cell_type": "code",
   "execution_count": 85,
   "id": "92fb82f8",
   "metadata": {},
   "outputs": [],
   "source": [
    "arr"
   ]
  },
  {
   "cell_type": "markdown",
   "id": "63e547cb",
   "metadata": {},
   "source": [
    "```\n",
    "array([[ 0,  1,  2,  3],\n",
    "       [ 4,  5,  6,  7],\n",
    "       [ 8,  9, 10, 11]])\n",
    "```"
   ]
  },
  {
   "cell_type": "code",
   "execution_count": 86,
   "id": "ca725d9a",
   "metadata": {},
   "outputs": [],
   "source": [
    "np.concatenate([arr, arr], axis=1)"
   ]
  },
  {
   "cell_type": "markdown",
   "id": "96f8b8b5",
   "metadata": {},
   "source": [
    "```\n",
    "array([[ 0,  1,  2,  3,  0,  1,  2,  3],\n",
    "       [ 4,  5,  6,  7,  4,  5,  6,  7],\n",
    "       [ 8,  9, 10, 11,  8,  9, 10, 11]])\n",
    "```"
   ]
  },
  {
   "cell_type": "markdown",
   "id": "f1180eea",
   "metadata": {},
   "source": [
    "Đối với các đối tượng `pandas` như `Series` và `DataFrame`, việc mỗi trục đều được gán nhãn cho phép chúng ta mở rộng khái niệm nối mảng với mảng  theo hướng tổng quát và linh hoạt hơn. Khi thao tác với các đối tượng này, một số vấn đề bổ sung cần được xem xét nhằm đảm bảo tính nhất quán và toàn vẹn của dữ liệu sau khi thực hiện phép nối:\n",
    "\n",
    "- **Thứ nhất**, khi các đối tượng có hệ thống chỉ số khác nhau trên trục được nối, cần quyết định liệu có nên giữ lại tất cả các chỉ số hay chỉ sử dụng phần giao nhau của chúng.\n",
    "\n",
    "- **Thứ hai**, liệu các dữ liệu đầu vào có cần được bảo toàn dưới dạng riêng biệt trong đối tượng kết quả hay không, tức là có nên tạo phân vùng rõ ràng giữa các phần được nối?\n",
    "\n",
    "- **Thứ ba**, trục được sử dụng để nối dữ liệu có chứa thông tin có ý nghĩa cần được bảo toàn không? Trong nhiều trường hợp thực hành, các chỉ số dạng số nguyên mặc định của `DataFrame` không mang thông tin và nên được loại bỏ trong quá trình kết hợp.\n",
    "\n",
    "Hàm `concat` trong thư viện `pandas` cung cấp một cơ chế thống nhất và linh hoạt để giải quyết các câu hỏi nêu trên. Trong các phần tiếp theo, chúng ta sẽ minh họa cách thức hoạt động của `concat` thông qua các ví dụ cụ thể. \n",
    "\n",
    "Giả sử chúng ta có ba đối tượng `Series` với các chỉ số không chồng chéo:"
   ]
  },
  {
   "cell_type": "code",
   "execution_count": 4,
   "id": "ce2ca9e9",
   "metadata": {},
   "outputs": [],
   "source": [
    "s1 = pd.Series([0, 1], index=[\"a\", \"b\"], dtype=\"Int64\")"
   ]
  },
  {
   "cell_type": "code",
   "execution_count": 5,
   "id": "9dafab92",
   "metadata": {},
   "outputs": [],
   "source": [
    "s2 = pd.Series([2, 3, 4], index=[\"c\", \"d\", \"e\"], dtype=\"Int64\")"
   ]
  },
  {
   "cell_type": "code",
   "execution_count": 6,
   "id": "36aab840",
   "metadata": {},
   "outputs": [],
   "source": [
    "s3 = pd.Series([5, 6], index=[\"f\", \"g\"], dtype=\"Int64\")"
   ]
  },
  {
   "cell_type": "markdown",
   "id": "b472aae3",
   "metadata": {},
   "source": [
    "Gọi `pandas.concat` với các đối tượng này trong một danh sách sẽ gắn kết các giá trị và chỉ số lại với nhau:"
   ]
  },
  {
   "cell_type": "code",
   "execution_count": 90,
   "id": "6bb0cffd",
   "metadata": {},
   "outputs": [],
   "source": [
    "s1"
   ]
  },
  {
   "cell_type": "markdown",
   "id": "069b4c1e",
   "metadata": {},
   "source": [
    "```\n",
    "a    0\n",
    "b    1\n",
    "dtype: Int64\n",
    "```"
   ]
  },
  {
   "cell_type": "code",
   "execution_count": 91,
   "id": "e8365223",
   "metadata": {},
   "outputs": [],
   "source": [
    "s2"
   ]
  },
  {
   "cell_type": "markdown",
   "id": "7eb73c80",
   "metadata": {},
   "source": [
    "```\n",
    "c    2\n",
    "d    3\n",
    "e    4\n",
    "dtype: Int64\n",
    "```"
   ]
  },
  {
   "cell_type": "code",
   "execution_count": 92,
   "id": "23351948",
   "metadata": {},
   "outputs": [],
   "source": [
    "s3"
   ]
  },
  {
   "cell_type": "markdown",
   "id": "9622a2e1",
   "metadata": {},
   "source": [
    "```\n",
    "f    5\n",
    "g    6\n",
    "dtype: Int64\n",
    "```"
   ]
  },
  {
   "cell_type": "code",
   "execution_count": 7,
   "id": "8df3d6db",
   "metadata": {},
   "outputs": [
    {
     "data": {
      "text/plain": [
       "a    0\n",
       "b    1\n",
       "c    2\n",
       "d    3\n",
       "e    4\n",
       "f    5\n",
       "g    6\n",
       "dtype: Int64"
      ]
     },
     "execution_count": 7,
     "metadata": {},
     "output_type": "execute_result"
    }
   ],
   "source": [
    "pd.concat([s1, s2, s3])"
   ]
  },
  {
   "cell_type": "markdown",
   "id": "8ce6d2ef",
   "metadata": {},
   "source": [
    "```\n",
    "a    0\n",
    "b    1\n",
    "c    2\n",
    "d    3\n",
    "e    4\n",
    "f    5\n",
    "g    6\n",
    "dtype: Int64\n",
    "```"
   ]
  },
  {
   "cell_type": "markdown",
   "id": "65029b39",
   "metadata": {},
   "source": [
    "Theo mặc định, `pandas.concat` hoạt động dọc theo hàng, hay `axis=\"index\"`, để tạo ra một `Series` khác. Nếu bạn truyền `axis=\"columns\"`, kết quả sẽ là một DataFrame:"
   ]
  },
  {
   "cell_type": "code",
   "execution_count": 94,
   "id": "eba6369f",
   "metadata": {},
   "outputs": [],
   "source": [
    "pd.concat([s1, s2, s3], axis=\"columns\")"
   ]
  },
  {
   "cell_type": "markdown",
   "id": "a627f64c",
   "metadata": {},
   "source": [
    "```\n",
    "    0     1     2\n",
    "a     0  <NA>  <NA>\n",
    "b     1  <NA>  <NA>\n",
    "c  <NA>     2  <NA>\n",
    "d  <NA>     3  <NA>\n",
    "e  <NA>     4  <NA>\n",
    "f  <NA>  <NA>     5\n",
    "g  <NA>  <NA>     6\n",
    "```"
   ]
  },
  {
   "cell_type": "markdown",
   "id": "986f04d1",
   "metadata": {},
   "source": [
    "Trong trường hợp này, bạn đọc có thể thấy kết quả là hợp, hay phép join ngoài của các chỉ số. Thay vào đó, bạn có thể lấy phần giao của chỉ số bằng cách truyền `join=\"inner\"`:"
   ]
  },
  {
   "cell_type": "code",
   "execution_count": 95,
   "id": "fbdded92",
   "metadata": {},
   "outputs": [],
   "source": [
    "s4 = pd.concat([s1, s3])"
   ]
  },
  {
   "cell_type": "code",
   "execution_count": 96,
   "id": "5275bfae",
   "metadata": {},
   "outputs": [],
   "source": [
    "s4"
   ]
  },
  {
   "cell_type": "markdown",
   "id": "8db9a817",
   "metadata": {},
   "source": [
    "```\n",
    "a    0\n",
    "b    1\n",
    "f    5\n",
    "g    6\n",
    "dtype: Int64\n",
    "```"
   ]
  },
  {
   "cell_type": "code",
   "execution_count": 97,
   "id": "a6e4492c",
   "metadata": {},
   "outputs": [],
   "source": [
    "pd.concat([s1, s4], axis=\"columns\")"
   ]
  },
  {
   "cell_type": "markdown",
   "id": "b3d9f48a",
   "metadata": {},
   "source": [
    "```\n",
    "    0  1\n",
    "a  0  0\n",
    "b  1  1\n",
    "f <NA>  5\n",
    "g <NA>  6\n",
    "```"
   ]
  },
  {
   "cell_type": "code",
   "execution_count": 98,
   "id": "a89d4770",
   "metadata": {},
   "outputs": [],
   "source": [
    "pd.concat([s1, s4], axis=\"columns\", join=\"inner\")"
   ]
  },
  {
   "cell_type": "markdown",
   "id": "9102ec07",
   "metadata": {},
   "source": [
    "```\n",
    "   0  1\n",
    "a  0  0\n",
    "b  1  1\n",
    "```"
   ]
  },
  {
   "cell_type": "markdown",
   "id": "66771087",
   "metadata": {},
   "source": [
    "Trong ví dụ cuối cùng này, các chỉ số \"f\" và \"g\" đã biến mất do tùy chọn `join=\"inner\"`."
   ]
  },
  {
   "cell_type": "markdown",
   "id": "498c9a03",
   "metadata": {},
   "source": [
    "Trong trường hợp kết hợp Series dọc theo `axis=\"columns\"`, các `keys` trở thành tiêu đề cột của DataFrame:"
   ]
  },
  {
   "cell_type": "code",
   "execution_count": 102,
   "id": "e9d88b93",
   "metadata": {},
   "outputs": [],
   "source": [
    "pd.concat([s1, s2, s3], axis=\"columns\", keys=[\"one\", \"two\", \"three\"])"
   ]
  },
  {
   "cell_type": "markdown",
   "id": "2c3da70a",
   "metadata": {},
   "source": [
    "```\n",
    "   one   two three\n",
    "a     0  <NA>  <NA>\n",
    "b     1  <NA>  <NA>\n",
    "c  <NA>     2  <NA>\n",
    "d  <NA>     3  <NA>\n",
    "e  <NA>     4  <NA>\n",
    "f  <NA>  <NA>     5\n",
    "g  <NA>  <NA>     6\n",
    "```"
   ]
  },
  {
   "cell_type": "markdown",
   "id": "d07d1a97",
   "metadata": {},
   "source": [
    "Logic tương tự cho các đối tượng DataFrame:"
   ]
  },
  {
   "cell_type": "code",
   "execution_count": 103,
   "id": "16ae6aba",
   "metadata": {},
   "outputs": [],
   "source": [
    "df1 = pd.DataFrame(np.arange(6).reshape(3, 2), index=[\"a\", \"b\", \"c\"],\n",
    "                     columns=[\"one\", \"two\"])"
   ]
  },
  {
   "cell_type": "code",
   "execution_count": 104,
   "id": "52dd9ca8",
   "metadata": {},
   "outputs": [],
   "source": [
    "df2 = pd.DataFrame(5 + np.arange(4).reshape(2, 2), index=[\"a\", \"c\"],\n",
    "                     columns=[\"three\", \"four\"])"
   ]
  },
  {
   "cell_type": "code",
   "execution_count": 105,
   "id": "483ab240",
   "metadata": {},
   "outputs": [],
   "source": [
    "df1"
   ]
  },
  {
   "cell_type": "markdown",
   "id": "7d16c7be",
   "metadata": {},
   "source": [
    "```\n",
    "   one  two\n",
    "a    0    1\n",
    "b    2    3\n",
    "c    4    5\n",
    "```"
   ]
  },
  {
   "cell_type": "code",
   "execution_count": 106,
   "id": "b76a778c",
   "metadata": {},
   "outputs": [],
   "source": [
    "df2"
   ]
  },
  {
   "cell_type": "markdown",
   "id": "6f38806b",
   "metadata": {},
   "source": [
    "```\n",
    "   three  four\n",
    "a      5     6\n",
    "c      7     8\n",
    "```"
   ]
  },
  {
   "cell_type": "code",
   "execution_count": 107,
   "id": "d073db7d",
   "metadata": {},
   "outputs": [],
   "source": [
    "pd.concat([df1, df2], axis=\"columns\", keys=[\"level1\", \"level2\"])"
   ]
  },
  {
   "cell_type": "markdown",
   "id": "ed291a17",
   "metadata": {},
   "source": [
    "```\n",
    "      level1      level2\n",
    "       one  two  three  four\n",
    "a        0    1    5.0   6.0\n",
    "b        2    3    NaN   NaN\n",
    "c        4    5    7.0   8.0\n",
    "```"
   ]
  },
  {
   "cell_type": "markdown",
   "id": "4b88c3dc",
   "metadata": {},
   "source": [
    "Ở đây, tham số `keys` được sử dụng để tạo một chỉ số phân cấp nơi cấp đầu tiên có thể được sử dụng để xác định từng đối tượng DataFrame được nối."
   ]
  },
  {
   "cell_type": "markdown",
   "id": "ef364775",
   "metadata": {},
   "source": [
    "Nếu bạn truyền một từ điển các đối tượng thay vì một danh sách, các khóa của từ điển sẽ được sử dụng cho tùy chọn `keys`:"
   ]
  },
  {
   "cell_type": "code",
   "execution_count": 108,
   "id": "6c4d3971",
   "metadata": {},
   "outputs": [],
   "source": [
    "pd.concat({\"level1\": df1, \"level2\": df2}, axis=\"columns\")"
   ]
  },
  {
   "cell_type": "markdown",
   "id": "64616ac5",
   "metadata": {},
   "source": [
    "```\n",
    "      level1      level2\n",
    "       one  two  three  four\n",
    "a        0    1    5.0   6.0\n",
    "b        2    3    NaN   NaN\n",
    "c        4    5    7.0   8.0\n",
    "```"
   ]
  },
  {
   "cell_type": "markdown",
   "id": "99975d88",
   "metadata": {},
   "source": [
    "Có các tham số bổ sung chi phối cách tạo chỉ số phân cấp. Ví dụ, chúng ta có thể đặt tên cho các cấp trục được tạo bằng tham số `names`:"
   ]
  },
  {
   "cell_type": "code",
   "execution_count": 109,
   "id": "4d2c2ca7",
   "metadata": {},
   "outputs": [],
   "source": [
    "pd.concat([df1, df2], axis=\"columns\", keys=[\"level1\", \"level2\"], names=[\"upper\", \"lower\"])"
   ]
  },
  {
   "cell_type": "markdown",
   "id": "363f4a64",
   "metadata": {},
   "source": [
    "```\n",
    "upper level1      level2\n",
    "lower    one  two  three  four\n",
    "a          0    1    5.0   6.0\n",
    "b          2    3    NaN   NaN\n",
    "c          4    5    7.0   8.0\n",
    "```"
   ]
  },
  {
   "cell_type": "markdown",
   "id": "0ef301f8",
   "metadata": {},
   "source": [
    "Một xem xét cuối cùng liên quan đến các DataFrame trong đó chỉ số hàng không chứa bất kỳ dữ liệu liên quan nào:"
   ]
  },
  {
   "cell_type": "code",
   "execution_count": 110,
   "id": "8cdb4086",
   "metadata": {},
   "outputs": [],
   "source": [
    "df1 = pd.DataFrame(np.random.standard_normal((3, 4)),\n",
    "                     columns=[\"a\", \"b\", \"c\", \"d\"])"
   ]
  },
  {
   "cell_type": "code",
   "execution_count": 111,
   "id": "ea78fe7f",
   "metadata": {},
   "outputs": [],
   "source": [
    "df2 = pd.DataFrame(np.random.standard_normal((2, 3)),\n",
    "                     columns=[\"b\", \"d\", \"a\"])"
   ]
  },
  {
   "cell_type": "code",
   "execution_count": 112,
   "id": "68dd44ba",
   "metadata": {},
   "outputs": [],
   "source": [
    "df1"
   ]
  },
  {
   "cell_type": "markdown",
   "id": "35776a4c",
   "metadata": {},
   "source": [
    "```\n",
    "          a         b         c         d\n",
    "0  1.248804  0.774191 -0.319657 -0.624964\n",
    "1  1.078814  0.544647  0.855588  1.343268\n",
    "2 -0.267175  1.793095 -0.652929 -1.886837\n",
    "```"
   ]
  },
  {
   "cell_type": "code",
   "execution_count": 113,
   "id": "9204451d",
   "metadata": {},
   "outputs": [],
   "source": [
    "df2"
   ]
  },
  {
   "cell_type": "markdown",
   "id": "fef56707",
   "metadata": {},
   "source": [
    "```\n",
    "          b         d         a\n",
    "0  1.059626  0.644448 -0.007799\n",
    "1 -0.449204  2.448963  0.667226\n",
    "```"
   ]
  },
  {
   "cell_type": "markdown",
   "id": "35bcb2c0",
   "metadata": {},
   "source": [
    "Trong trường hợp này, bạn có thể truyền `ignore_index=True`, thao tác này sẽ loại bỏ các chỉ số từ mỗi DataFrame và chỉ nối dữ liệu trong các cột, gán một chỉ số mặc định mới:"
   ]
  },
  {
   "cell_type": "code",
   "execution_count": 114,
   "id": "6e749d94",
   "metadata": {},
   "outputs": [],
   "source": [
    "pd.concat([df1, df2], ignore_index=True)"
   ]
  },
  {
   "cell_type": "markdown",
   "id": "5c5e6fea",
   "metadata": {},
   "source": [
    "```\n",
    "          a         b         c         d\n",
    "0  1.248804  0.774191 -0.319657 -0.624964\n",
    "1  1.078814  0.544647  0.855588  1.343268\n",
    "2 -0.267175  1.793095 -0.652929 -1.886837\n",
    "3 -0.007799  1.059626       NaN  0.644448\n",
    "4  0.667226 -0.449204       NaN  2.448963\n",
    "```"
   ]
  },
  {
   "cell_type": "markdown",
   "id": "0625b523",
   "metadata": {},
   "source": [
    "Bảng ... mô tả các tham số của hàm `pandas.concat`."
   ]
  },
  {
   "cell_type": "markdown",
   "id": "8ee5b478",
   "metadata": {},
   "source": [
    "**Bảng ... các tham số của hàm `pandas.concat`**\n",
    "\n",
    "| Đối số             | Mô tả                                                                                                                                                              |\n",
    "|--------------------|--------------------------------------------------------------------------------------------------------------------------------------------------------------------|\n",
    "| `objs`             | Danh sách hoặc từ điển các đối tượng pandas cần nối; đây là đối số bắt buộc duy nhất.                                                                                 |\n",
    "| `axis`             | Trục để nối dọc theo; mặc định là nối dọc theo hàng (`axis=\"index\"`).                                                                                                |\n",
    "| `join`             | Hoặc `\"inner\"` hoặc `\"outer\"` (`\"outer\"` theo mặc định); liệu có lấy giao điểm (inner) hay hợp (outer) các chỉ số dọc theo các trục khác.                                |\n",
    "| `keys`             | Các giá trị để liên kết với các đối tượng đang được nối, tạo thành một chỉ số phân cấp dọc theo trục nối; có thể là một danh sách hoặc mảng các giá trị tùy ý, một mảng các tuple, hoặc một danh sách các mảng (nếu nhiều mảng cấp được truyền vào `levels`). || `levels`           | Các chỉ mục cụ thể để sử dụng làm cấp hoặc các cấp chỉ mục phân cấp nếu `keys` được truyền.                                                                            |\n",
    "| `names`            | Tên cho các cấp phân cấp được tạo nếu `keys` và/hoặc `levels` được truyền.                                                                                             |\n",
    "| `verify_integrity` | Kiểm tra trục mới trong đối tượng được nối xem có trùng lặp không và đưa ra một ngoại lệ nếu có; theo mặc định (`False`) cho phép trùng lặp.                             |\n",
    "| `ignore_index`     | Không bảo toàn các chỉ số dọc theo trục nối, thay vào đó tạo ra một chỉ số `range(total_length)` mới.                                                                   |"
   ]
  },
  {
   "cell_type": "markdown",
   "id": "04e94da9-0b29-47d0-b1bb-a4dd96c3ee62",
   "metadata": {},
   "source": [
    "## Định hình lại dữ liệu và thay đổi trục\n",
    "<hr>"
   ]
  },
  {
   "cell_type": "markdown",
   "id": "17f26978",
   "metadata": {},
   "source": [
    "Có một số hoạt động cơ bản để sắp xếp lại dữ liệu dạng bảng, các hoạt động này bao gồm định hình lại dữ liệu, hay reshape, hoặc và thay đổi trục hay còn gọi là pivot."
   ]
  },
  {
   "cell_type": "markdown",
   "id": "281d2c30",
   "metadata": {},
   "source": [
    "### Định hình lại với chỉ số phân cấp\n",
    "\n",
    "Chỉ số phân cấp cung cấp một cách nhất quán để sắp xếp lại dữ liệu trong một `DataFrame`. Có hai thao tác chính khi định hình lại là:\n",
    "\n",
    "*   `stack`: thao tác này \"xoay\" hoặc chuyển các cột trong dữ liệu thành hàng.\n",
    "*   `unstack`: thao tác này chuyển các hàng thành cột.\n",
    "\n",
    "Chúng ta sẽ minh họa các thao tác này thông qua các ví dụ. Hãy xem xét một DataFrame nhỏ với các mảng chuỗi làm chỉ số hàng và cột:"
   ]
  },
  {
   "cell_type": "code",
   "execution_count": 126,
   "id": "1a94495d",
   "metadata": {},
   "outputs": [],
   "source": [
    "data = pd.DataFrame(np.arange(6).reshape((2, 3)),\n",
    "                     index=pd.Index([\"Ohio\", \"Colorado\"], name=\"state\"),\n",
    "                     columns=pd.Index([\"one\", \"two\", \"three\"], name=\"number\"))"
   ]
  },
  {
   "cell_type": "code",
   "execution_count": 127,
   "id": "a0651cd3",
   "metadata": {},
   "outputs": [],
   "source": [
    "data"
   ]
  },
  {
   "cell_type": "markdown",
   "id": "c0658368",
   "metadata": {},
   "source": [
    "```\n",
    "number    one  two  three\n",
    "state\n",
    "Ohio        0    1      2\n",
    "Colorado    3    4      5\n",
    "```"
   ]
  },
  {
   "cell_type": "markdown",
   "id": "11574b76",
   "metadata": {},
   "source": [
    "Sử dụng phương thức `stack` trên dữ liệu này sẽ xoay các cột thành hàng, tạo ra một Series:"
   ]
  },
  {
   "cell_type": "code",
   "execution_count": 128,
   "id": "5adc50dc",
   "metadata": {},
   "outputs": [],
   "source": [
    "result = data.stack()"
   ]
  },
  {
   "cell_type": "code",
   "execution_count": 129,
   "id": "6cfeebd7",
   "metadata": {},
   "outputs": [],
   "source": [
    "result"
   ]
  },
  {
   "cell_type": "markdown",
   "id": "3c64d061",
   "metadata": {},
   "source": [
    "```\n",
    "state     number\n",
    "Ohio      one       0\n",
    "          two       1\n",
    "          three     2\n",
    "Colorado  one       3\n",
    "          two       4\n",
    "          three     5\n",
    "dtype: int64\n",
    "```"
   ]
  },
  {
   "cell_type": "markdown",
   "id": "356c7639",
   "metadata": {},
   "source": [
    "Từ một Series có chỉ số phân cấp, chúng ta có thể sắp xếp lại dữ liệu trở lại thành một DataFrame bằng `unstack`:"
   ]
  },
  {
   "cell_type": "code",
   "execution_count": 130,
   "id": "e5579315",
   "metadata": {},
   "outputs": [],
   "source": [
    "result.unstack()"
   ]
  },
  {
   "cell_type": "markdown",
   "id": "49ba6682",
   "metadata": {},
   "source": [
    "```\n",
    "number    one  two  three\n",
    "state\n",
    "Ohio        0    1      2\n",
    "Colorado    3    4      5\n",
    "```"
   ]
  },
  {
   "cell_type": "markdown",
   "id": "81b83459",
   "metadata": {},
   "source": [
    "Khi sử dụng phương thức `unstack`, dữ liệu được tạo ra có thể có dữ liệu không quan sát được nếu không phải tất cả các giá trị đều được tìm thấy trong mỗi nhóm con:"
   ]
  },
  {
   "cell_type": "code",
   "execution_count": 133,
   "id": "3d664dcf",
   "metadata": {},
   "outputs": [],
   "source": [
    "s1 = pd.Series([0, 1, 2, 3], index=[\"a\", \"b\", \"c\", \"d\"], dtype=\"Int64\")"
   ]
  },
  {
   "cell_type": "code",
   "execution_count": 134,
   "id": "4237a7ee",
   "metadata": {},
   "outputs": [],
   "source": [
    "s2 = pd.Series([4, 5, 6], index=[\"c\", \"d\", \"e\"], dtype=\"Int64\")"
   ]
  },
  {
   "cell_type": "code",
   "execution_count": 135,
   "id": "b3235f29",
   "metadata": {},
   "outputs": [],
   "source": [
    "data2 = pd.concat([s1, s2], keys=[\"one\", \"two\"])"
   ]
  },
  {
   "cell_type": "code",
   "execution_count": 136,
   "id": "4da641a6",
   "metadata": {},
   "outputs": [],
   "source": [
    "data2"
   ]
  },
  {
   "cell_type": "markdown",
   "id": "97fa4ed5",
   "metadata": {},
   "source": [
    "```\n",
    "one  a    0\n",
    "     b    1\n",
    "     c    2\n",
    "     d    3\n",
    "two  c    4\n",
    "     d    5\n",
    "     e    6\n",
    "dtype: Int64\n",
    "```"
   ]
  },
  {
   "cell_type": "markdown",
   "id": "82f1ad61",
   "metadata": {},
   "source": [
    "Phương thức `stack` lọc bỏ dữ liệu không quan sát được theo mặc định, vì vậy thao tác này dễ dàng đảo ngược hơn:"
   ]
  },
  {
   "cell_type": "code",
   "execution_count": 137,
   "id": "6018ca8a",
   "metadata": {},
   "outputs": [],
   "source": [
    "data2.unstack()"
   ]
  },
  {
   "cell_type": "markdown",
   "id": "3a368767",
   "metadata": {},
   "source": [
    "```\n",
    "       a     b  c  d     e\n",
    "one    0     1  2  3  <NA>\n",
    "two <NA>  <NA>  4  5     6\n",
    "```"
   ]
  },
  {
   "cell_type": "code",
   "execution_count": 138,
   "id": "4de1de13",
   "metadata": {},
   "outputs": [],
   "source": [
    "data2.unstack().stack()"
   ]
  },
  {
   "cell_type": "markdown",
   "id": "b89f1064",
   "metadata": {},
   "source": [
    "```\n",
    "one  a    0\n",
    "     b    1\n",
    "     c    2\n",
    "     d    3\n",
    "two  c    4\n",
    "     d    5\n",
    "     e    6\n",
    "dtype: Int64\n",
    "```"
   ]
  },
  {
   "cell_type": "code",
   "execution_count": 139,
   "id": "6369fbb8",
   "metadata": {},
   "outputs": [],
   "source": [
    "data2.unstack().stack(dropna=False)"
   ]
  },
  {
   "cell_type": "markdown",
   "id": "bb59bbc8",
   "metadata": {},
   "source": [
    "```\n",
    "one  a       0\n",
    "     b       1\n",
    "     c       2\n",
    "     d       3\n",
    "     e    <NA>\n",
    "two  a    <NA>\n",
    "     b    <NA>\n",
    "     c       4\n",
    "     d       5\n",
    "     e       6\n",
    "dtype: Int64\n",
    "```"
   ]
  },
  {
   "cell_type": "markdown",
   "id": "7983c853",
   "metadata": {},
   "source": [
    "Khi `unstack` trong một DataFrame, cấp được `unstack` trở thành cấp thấp nhất trong kết quả:"
   ]
  },
  {
   "cell_type": "code",
   "execution_count": 140,
   "id": "cf6135fe",
   "metadata": {},
   "outputs": [],
   "source": [
    "df = pd.DataFrame({\"left\": result, \"right\": result + 5},\n",
    "                     columns=pd.Index([\"left\", \"right\"], name=\"side\"))"
   ]
  },
  {
   "cell_type": "code",
   "execution_count": 141,
   "id": "c0ef3ba2",
   "metadata": {},
   "outputs": [],
   "source": [
    "df"
   ]
  },
  {
   "cell_type": "markdown",
   "id": "e71a410a",
   "metadata": {},
   "source": [
    "```\n",
    "side        left  right\n",
    "state    number\n",
    "Ohio     one       0      5\n",
    "         two       1      6\n",
    "         three     2      7\n",
    "Colorado one       3      8\n",
    "         two       4      9\n",
    "         three     5     10\n",
    "```"
   ]
  },
  {
   "cell_type": "code",
   "execution_count": 142,
   "id": "e48d391a",
   "metadata": {},
   "outputs": [],
   "source": [
    "df.unstack(level=\"state\")"
   ]
  },
  {
   "cell_type": "markdown",
   "id": "e240559d",
   "metadata": {},
   "source": [
    "```\n",
    "side   left          right\n",
    "state  Ohio Colorado  Ohio Colorado\n",
    "number\n",
    "one       0        3     5        8\n",
    "two       1        4     6        9\n",
    "three     2        5     7       10\n",
    "```"
   ]
  },
  {
   "cell_type": "markdown",
   "id": "73247caa",
   "metadata": {},
   "source": [
    "Tương tự như `unstack`, khi gọi `stack`, chúng ta có thể chỉ định tên của trục:"
   ]
  },
  {
   "cell_type": "code",
   "execution_count": 143,
   "id": "fa2bc9e7",
   "metadata": {},
   "outputs": [],
   "source": [
    "df.unstack(level=\"state\").stack(level=\"side\")"
   ]
  },
  {
   "cell_type": "markdown",
   "id": "258b9b7c",
   "metadata": {},
   "source": [
    "```\n",
    "state     Colorado  Ohio\n",
    "number side\n",
    "one    left          3     0\n",
    "       right         8     5\n",
    "two    left          4     1\n",
    "       right         9     6\n",
    "three  left          5     2\n",
    "       right        10     7\n",
    "```"
   ]
  },
  {
   "cell_type": "markdown",
   "id": "9ba1a515-24b3-4179-8785-1eea888411e2",
   "metadata": {},
   "source": [
    "### Xoay trục từ định dạng dài sang rộng và ngược lại\n",
    "<hr>"
   ]
  },
  {
   "cell_type": "markdown",
   "id": "035a365a",
   "metadata": {},
   "source": [
    "Một cách phổ biến để lưu trữ nhiều chuỗi thời gian trong cùng một dữ liệu định dạng đôi khi được gọi là định dạng dài. Trong định dạng này, các giá trị riêng lẻ được biểu thị bằng một hàng duy nhất trong bảng thay vì nhiều giá trị trên mỗi hàng.\n",
    "\n",
    "Hãy quan sát dữ liệu thường được định dạng kiểu dài như sau:"
   ]
  },
  {
   "cell_type": "code",
   "execution_count": 9,
   "id": "890416f8",
   "metadata": {},
   "outputs": [],
   "source": [
    "data = pd.read_csv(\"data/macrodata.csv\")"
   ]
  },
  {
   "cell_type": "code",
   "execution_count": 145,
   "id": "e000ff57",
   "metadata": {},
   "outputs": [],
   "source": [
    "data = data.loc[:, [\"year\", \"quarter\", \"realgdp\", \"infl\", \"unemp\"]]"
   ]
  },
  {
   "cell_type": "code",
   "execution_count": 10,
   "id": "752c871a",
   "metadata": {},
   "outputs": [
    {
     "data": {
      "text/html": [
       "<div>\n",
       "<style scoped>\n",
       "    .dataframe tbody tr th:only-of-type {\n",
       "        vertical-align: middle;\n",
       "    }\n",
       "\n",
       "    .dataframe tbody tr th {\n",
       "        vertical-align: top;\n",
       "    }\n",
       "\n",
       "    .dataframe thead th {\n",
       "        text-align: right;\n",
       "    }\n",
       "</style>\n",
       "<table border=\"1\" class=\"dataframe\">\n",
       "  <thead>\n",
       "    <tr style=\"text-align: right;\">\n",
       "      <th></th>\n",
       "      <th>year</th>\n",
       "      <th>quarter</th>\n",
       "      <th>realgdp</th>\n",
       "      <th>realcons</th>\n",
       "      <th>realinv</th>\n",
       "      <th>realgovt</th>\n",
       "      <th>realdpi</th>\n",
       "      <th>cpi</th>\n",
       "      <th>m1</th>\n",
       "      <th>tbilrate</th>\n",
       "      <th>unemp</th>\n",
       "      <th>pop</th>\n",
       "      <th>infl</th>\n",
       "      <th>realint</th>\n",
       "    </tr>\n",
       "  </thead>\n",
       "  <tbody>\n",
       "    <tr>\n",
       "      <th>0</th>\n",
       "      <td>1959</td>\n",
       "      <td>1</td>\n",
       "      <td>2710.349</td>\n",
       "      <td>1707.4</td>\n",
       "      <td>286.898</td>\n",
       "      <td>470.045</td>\n",
       "      <td>1886.9</td>\n",
       "      <td>28.98</td>\n",
       "      <td>139.7</td>\n",
       "      <td>2.82</td>\n",
       "      <td>5.8</td>\n",
       "      <td>177.146</td>\n",
       "      <td>0.00</td>\n",
       "      <td>0.00</td>\n",
       "    </tr>\n",
       "    <tr>\n",
       "      <th>1</th>\n",
       "      <td>1959</td>\n",
       "      <td>2</td>\n",
       "      <td>2778.801</td>\n",
       "      <td>1733.7</td>\n",
       "      <td>310.859</td>\n",
       "      <td>481.301</td>\n",
       "      <td>1919.7</td>\n",
       "      <td>29.15</td>\n",
       "      <td>141.7</td>\n",
       "      <td>3.08</td>\n",
       "      <td>5.1</td>\n",
       "      <td>177.830</td>\n",
       "      <td>2.34</td>\n",
       "      <td>0.74</td>\n",
       "    </tr>\n",
       "    <tr>\n",
       "      <th>2</th>\n",
       "      <td>1959</td>\n",
       "      <td>3</td>\n",
       "      <td>2775.488</td>\n",
       "      <td>1751.8</td>\n",
       "      <td>289.226</td>\n",
       "      <td>491.260</td>\n",
       "      <td>1916.4</td>\n",
       "      <td>29.35</td>\n",
       "      <td>140.5</td>\n",
       "      <td>3.82</td>\n",
       "      <td>5.3</td>\n",
       "      <td>178.657</td>\n",
       "      <td>2.74</td>\n",
       "      <td>1.09</td>\n",
       "    </tr>\n",
       "    <tr>\n",
       "      <th>3</th>\n",
       "      <td>1959</td>\n",
       "      <td>4</td>\n",
       "      <td>2785.204</td>\n",
       "      <td>1753.7</td>\n",
       "      <td>299.356</td>\n",
       "      <td>484.052</td>\n",
       "      <td>1931.3</td>\n",
       "      <td>29.37</td>\n",
       "      <td>140.0</td>\n",
       "      <td>4.33</td>\n",
       "      <td>5.6</td>\n",
       "      <td>179.386</td>\n",
       "      <td>0.27</td>\n",
       "      <td>4.06</td>\n",
       "    </tr>\n",
       "    <tr>\n",
       "      <th>4</th>\n",
       "      <td>1960</td>\n",
       "      <td>1</td>\n",
       "      <td>2847.699</td>\n",
       "      <td>1770.5</td>\n",
       "      <td>331.722</td>\n",
       "      <td>462.199</td>\n",
       "      <td>1955.5</td>\n",
       "      <td>29.54</td>\n",
       "      <td>139.6</td>\n",
       "      <td>3.50</td>\n",
       "      <td>5.2</td>\n",
       "      <td>180.007</td>\n",
       "      <td>2.31</td>\n",
       "      <td>1.19</td>\n",
       "    </tr>\n",
       "  </tbody>\n",
       "</table>\n",
       "</div>"
      ],
      "text/plain": [
       "   year  quarter   realgdp  realcons  realinv  realgovt  realdpi    cpi  \\\n",
       "0  1959        1  2710.349    1707.4  286.898   470.045   1886.9  28.98   \n",
       "1  1959        2  2778.801    1733.7  310.859   481.301   1919.7  29.15   \n",
       "2  1959        3  2775.488    1751.8  289.226   491.260   1916.4  29.35   \n",
       "3  1959        4  2785.204    1753.7  299.356   484.052   1931.3  29.37   \n",
       "4  1960        1  2847.699    1770.5  331.722   462.199   1955.5  29.54   \n",
       "\n",
       "      m1  tbilrate  unemp      pop  infl  realint  \n",
       "0  139.7      2.82    5.8  177.146  0.00     0.00  \n",
       "1  141.7      3.08    5.1  177.830  2.34     0.74  \n",
       "2  140.5      3.82    5.3  178.657  2.74     1.09  \n",
       "3  140.0      4.33    5.6  179.386  0.27     4.06  \n",
       "4  139.6      3.50    5.2  180.007  2.31     1.19  "
      ]
     },
     "execution_count": 10,
     "metadata": {},
     "output_type": "execute_result"
    }
   ],
   "source": [
    "data.head()"
   ]
  },
  {
   "cell_type": "markdown",
   "id": "9bdfdc24",
   "metadata": {},
   "source": [
    "```\n",
    "   year  quarter   realgdp  infl  unemp\n",
    "0  1959        1  2710.349  0.00    5.8\n",
    "1  1959        2  2778.801  2.34    5.1\n",
    "2  1959        3  2775.488  2.74    5.3\n",
    "3  1959        4  2785.204  0.27    5.6\n",
    "4  1960        1  2847.699  2.31    5.2\n",
    "```"
   ]
  },
  {
   "cell_type": "markdown",
   "id": "0662782e",
   "metadata": {},
   "source": [
    "Chúng ta sử dụng `pandas.PeriodIndex` để kết hợp các cột `year` và `quarter` nhằm đặt chỉ mục bao gồm các giá trị datetime vào cuối mỗi quý:"
   ]
  },
  {
   "cell_type": "code",
   "execution_count": 11,
   "id": "2dafcdd4",
   "metadata": {},
   "outputs": [
    {
     "name": "stderr",
     "output_type": "stream",
     "text": [
      "C:\\Users\\AD\\AppData\\Local\\Temp\\ipykernel_8872\\3617454192.py:1: FutureWarning: Constructing PeriodIndex from fields is deprecated. Use PeriodIndex.from_fields instead.\n",
      "  periods = pd.PeriodIndex(year=data.pop(\"year\"),\n"
     ]
    }
   ],
   "source": [
    "periods = pd.PeriodIndex(year=data.pop(\"year\"),\n",
    "                         quarter=data.pop(\"quarter\"),\n",
    "                         name=\"date\")"
   ]
  },
  {
   "cell_type": "code",
   "execution_count": 12,
   "id": "eca9b3cc",
   "metadata": {},
   "outputs": [
    {
     "data": {
      "text/plain": [
       "PeriodIndex(['1959Q1', '1959Q2', '1959Q3', '1959Q4', '1960Q1', '1960Q2',\n",
       "             '1960Q3', '1960Q4', '1961Q1', '1961Q2',\n",
       "             ...\n",
       "             '2007Q2', '2007Q3', '2007Q4', '2008Q1', '2008Q2', '2008Q3',\n",
       "             '2008Q4', '2009Q1', '2009Q2', '2009Q3'],\n",
       "            dtype='period[Q-DEC]', name='date', length=203)"
      ]
     },
     "execution_count": 12,
     "metadata": {},
     "output_type": "execute_result"
    }
   ],
   "source": [
    "periods"
   ]
  },
  {
   "cell_type": "code",
   "execution_count": 13,
   "id": "b93cc214",
   "metadata": {},
   "outputs": [],
   "source": [
    "data.index = periods.to_timestamp(\"D\")"
   ]
  },
  {
   "cell_type": "code",
   "execution_count": 14,
   "id": "81203bcb",
   "metadata": {},
   "outputs": [
    {
     "data": {
      "text/html": [
       "<div>\n",
       "<style scoped>\n",
       "    .dataframe tbody tr th:only-of-type {\n",
       "        vertical-align: middle;\n",
       "    }\n",
       "\n",
       "    .dataframe tbody tr th {\n",
       "        vertical-align: top;\n",
       "    }\n",
       "\n",
       "    .dataframe thead th {\n",
       "        text-align: right;\n",
       "    }\n",
       "</style>\n",
       "<table border=\"1\" class=\"dataframe\">\n",
       "  <thead>\n",
       "    <tr style=\"text-align: right;\">\n",
       "      <th></th>\n",
       "      <th>realgdp</th>\n",
       "      <th>realcons</th>\n",
       "      <th>realinv</th>\n",
       "      <th>realgovt</th>\n",
       "      <th>realdpi</th>\n",
       "      <th>cpi</th>\n",
       "      <th>m1</th>\n",
       "      <th>tbilrate</th>\n",
       "      <th>unemp</th>\n",
       "      <th>pop</th>\n",
       "      <th>infl</th>\n",
       "      <th>realint</th>\n",
       "    </tr>\n",
       "    <tr>\n",
       "      <th>date</th>\n",
       "      <th></th>\n",
       "      <th></th>\n",
       "      <th></th>\n",
       "      <th></th>\n",
       "      <th></th>\n",
       "      <th></th>\n",
       "      <th></th>\n",
       "      <th></th>\n",
       "      <th></th>\n",
       "      <th></th>\n",
       "      <th></th>\n",
       "      <th></th>\n",
       "    </tr>\n",
       "  </thead>\n",
       "  <tbody>\n",
       "    <tr>\n",
       "      <th>1959-01-01</th>\n",
       "      <td>2710.349</td>\n",
       "      <td>1707.4</td>\n",
       "      <td>286.898</td>\n",
       "      <td>470.045</td>\n",
       "      <td>1886.9</td>\n",
       "      <td>28.98</td>\n",
       "      <td>139.7</td>\n",
       "      <td>2.82</td>\n",
       "      <td>5.8</td>\n",
       "      <td>177.146</td>\n",
       "      <td>0.00</td>\n",
       "      <td>0.00</td>\n",
       "    </tr>\n",
       "    <tr>\n",
       "      <th>1959-04-01</th>\n",
       "      <td>2778.801</td>\n",
       "      <td>1733.7</td>\n",
       "      <td>310.859</td>\n",
       "      <td>481.301</td>\n",
       "      <td>1919.7</td>\n",
       "      <td>29.15</td>\n",
       "      <td>141.7</td>\n",
       "      <td>3.08</td>\n",
       "      <td>5.1</td>\n",
       "      <td>177.830</td>\n",
       "      <td>2.34</td>\n",
       "      <td>0.74</td>\n",
       "    </tr>\n",
       "    <tr>\n",
       "      <th>1959-07-01</th>\n",
       "      <td>2775.488</td>\n",
       "      <td>1751.8</td>\n",
       "      <td>289.226</td>\n",
       "      <td>491.260</td>\n",
       "      <td>1916.4</td>\n",
       "      <td>29.35</td>\n",
       "      <td>140.5</td>\n",
       "      <td>3.82</td>\n",
       "      <td>5.3</td>\n",
       "      <td>178.657</td>\n",
       "      <td>2.74</td>\n",
       "      <td>1.09</td>\n",
       "    </tr>\n",
       "    <tr>\n",
       "      <th>1959-10-01</th>\n",
       "      <td>2785.204</td>\n",
       "      <td>1753.7</td>\n",
       "      <td>299.356</td>\n",
       "      <td>484.052</td>\n",
       "      <td>1931.3</td>\n",
       "      <td>29.37</td>\n",
       "      <td>140.0</td>\n",
       "      <td>4.33</td>\n",
       "      <td>5.6</td>\n",
       "      <td>179.386</td>\n",
       "      <td>0.27</td>\n",
       "      <td>4.06</td>\n",
       "    </tr>\n",
       "    <tr>\n",
       "      <th>1960-01-01</th>\n",
       "      <td>2847.699</td>\n",
       "      <td>1770.5</td>\n",
       "      <td>331.722</td>\n",
       "      <td>462.199</td>\n",
       "      <td>1955.5</td>\n",
       "      <td>29.54</td>\n",
       "      <td>139.6</td>\n",
       "      <td>3.50</td>\n",
       "      <td>5.2</td>\n",
       "      <td>180.007</td>\n",
       "      <td>2.31</td>\n",
       "      <td>1.19</td>\n",
       "    </tr>\n",
       "  </tbody>\n",
       "</table>\n",
       "</div>"
      ],
      "text/plain": [
       "             realgdp  realcons  realinv  realgovt  realdpi    cpi     m1  \\\n",
       "date                                                                       \n",
       "1959-01-01  2710.349    1707.4  286.898   470.045   1886.9  28.98  139.7   \n",
       "1959-04-01  2778.801    1733.7  310.859   481.301   1919.7  29.15  141.7   \n",
       "1959-07-01  2775.488    1751.8  289.226   491.260   1916.4  29.35  140.5   \n",
       "1959-10-01  2785.204    1753.7  299.356   484.052   1931.3  29.37  140.0   \n",
       "1960-01-01  2847.699    1770.5  331.722   462.199   1955.5  29.54  139.6   \n",
       "\n",
       "            tbilrate  unemp      pop  infl  realint  \n",
       "date                                                 \n",
       "1959-01-01      2.82    5.8  177.146  0.00     0.00  \n",
       "1959-04-01      3.08    5.1  177.830  2.34     0.74  \n",
       "1959-07-01      3.82    5.3  178.657  2.74     1.09  \n",
       "1959-10-01      4.33    5.6  179.386  0.27     4.06  \n",
       "1960-01-01      3.50    5.2  180.007  2.31     1.19  "
      ]
     },
     "execution_count": 14,
     "metadata": {},
     "output_type": "execute_result"
    }
   ],
   "source": [
    "data.head()"
   ]
  },
  {
   "cell_type": "markdown",
   "id": "45b5a2f1",
   "metadata": {},
   "source": [
    "```\n",
    "            realgdp  infl  unemp\n",
    "date\n",
    "1959-01-01   2710.349  0.00    5.8\n",
    "1959-04-01   2778.801  2.34    5.1\n",
    "1959-07-01   2775.488  2.74    5.3\n",
    "1959-10-01   2785.204  0.27    5.6\n",
    "1960-01-01   2847.699  2.31    5.2\n",
    "```"
   ]
  },
  {
   "cell_type": "markdown",
   "id": "9da2265f",
   "metadata": {},
   "source": [
    "Chúng ta đã sử dụng phương thức `pop` trên DataFrame, phương thức này trả về một cột đồng thời xóa nó khỏi DataFrame."
   ]
  },
  {
   "cell_type": "markdown",
   "id": "a32cfbe6",
   "metadata": {},
   "source": [
    "Sau đó, chúng ta chọn một tập hợp con các cột và đặt tên cho chỉ số cột là `\"item\"`:"
   ]
  },
  {
   "cell_type": "code",
   "execution_count": 15,
   "id": "a06d5e75",
   "metadata": {},
   "outputs": [],
   "source": [
    "data = data.reindex(columns=[\"realgdp\", \"infl\", \"unemp\"])"
   ]
  },
  {
   "cell_type": "code",
   "execution_count": 16,
   "id": "370e8afc",
   "metadata": {},
   "outputs": [],
   "source": [
    "data.columns.name = \"item\""
   ]
  },
  {
   "cell_type": "code",
   "execution_count": 17,
   "id": "43be75aa",
   "metadata": {},
   "outputs": [
    {
     "data": {
      "text/html": [
       "<div>\n",
       "<style scoped>\n",
       "    .dataframe tbody tr th:only-of-type {\n",
       "        vertical-align: middle;\n",
       "    }\n",
       "\n",
       "    .dataframe tbody tr th {\n",
       "        vertical-align: top;\n",
       "    }\n",
       "\n",
       "    .dataframe thead th {\n",
       "        text-align: right;\n",
       "    }\n",
       "</style>\n",
       "<table border=\"1\" class=\"dataframe\">\n",
       "  <thead>\n",
       "    <tr style=\"text-align: right;\">\n",
       "      <th>item</th>\n",
       "      <th>realgdp</th>\n",
       "      <th>infl</th>\n",
       "      <th>unemp</th>\n",
       "    </tr>\n",
       "    <tr>\n",
       "      <th>date</th>\n",
       "      <th></th>\n",
       "      <th></th>\n",
       "      <th></th>\n",
       "    </tr>\n",
       "  </thead>\n",
       "  <tbody>\n",
       "    <tr>\n",
       "      <th>1959-01-01</th>\n",
       "      <td>2710.349</td>\n",
       "      <td>0.00</td>\n",
       "      <td>5.8</td>\n",
       "    </tr>\n",
       "    <tr>\n",
       "      <th>1959-04-01</th>\n",
       "      <td>2778.801</td>\n",
       "      <td>2.34</td>\n",
       "      <td>5.1</td>\n",
       "    </tr>\n",
       "    <tr>\n",
       "      <th>1959-07-01</th>\n",
       "      <td>2775.488</td>\n",
       "      <td>2.74</td>\n",
       "      <td>5.3</td>\n",
       "    </tr>\n",
       "    <tr>\n",
       "      <th>1959-10-01</th>\n",
       "      <td>2785.204</td>\n",
       "      <td>0.27</td>\n",
       "      <td>5.6</td>\n",
       "    </tr>\n",
       "    <tr>\n",
       "      <th>1960-01-01</th>\n",
       "      <td>2847.699</td>\n",
       "      <td>2.31</td>\n",
       "      <td>5.2</td>\n",
       "    </tr>\n",
       "  </tbody>\n",
       "</table>\n",
       "</div>"
      ],
      "text/plain": [
       "item         realgdp  infl  unemp\n",
       "date                             \n",
       "1959-01-01  2710.349  0.00    5.8\n",
       "1959-04-01  2778.801  2.34    5.1\n",
       "1959-07-01  2775.488  2.74    5.3\n",
       "1959-10-01  2785.204  0.27    5.6\n",
       "1960-01-01  2847.699  2.31    5.2"
      ]
     },
     "execution_count": 17,
     "metadata": {},
     "output_type": "execute_result"
    }
   ],
   "source": [
    "data.head()"
   ]
  },
  {
   "cell_type": "markdown",
   "id": "493de8ec",
   "metadata": {},
   "source": [
    "```\n",
    "item        realgdp  infl  unemp\n",
    "date\n",
    "1959-01-01   2710.349  0.00    5.8\n",
    "1959-04-01   2778.801  2.34    5.1\n",
    "1959-07-01   2775.488  2.74    5.3\n",
    "1959-10-01   2785.204  0.27    5.6\n"
   ]
  },
  {
   "cell_type": "markdown",
   "id": "2515e3b0-8bfb-4ff9-bfe6-0d3f583392d5",
   "metadata": {},
   "source": [
    "Cuối cùng, dữ liệu được định dạng lại bằng phương thức `stack`, trong đó các cột bên trong được chuyển thành một cấp chỉ số mới. Tiếp theo, phương thức `reset_index` được sử dụng để đưa hệ chỉ số phân cấp này trở lại dạng cột thông thường. Cột chứa giá trị dữ liệu sau đó được đặt tên rõ ràng là `\"value\"` nhằm đảm bảo tính minh bạch và nhất quán trong xử lý dữ liệu."
   ]
  },
  {
   "cell_type": "code",
   "execution_count": 18,
   "id": "ca92d5f9-8e36-4db2-a70b-2021a819cffc",
   "metadata": {},
   "outputs": [],
   "source": [
    "long_data = (data.stack()\n",
    "             .reset_index()\n",
    "             .rename(columns={0: \"value\"}))"
   ]
  },
  {
   "cell_type": "code",
   "execution_count": 19,
   "id": "0ad73a60-eecd-433b-8af1-e32b857d8f4f",
   "metadata": {},
   "outputs": [
    {
     "data": {
      "text/html": [
       "<div>\n",
       "<style scoped>\n",
       "    .dataframe tbody tr th:only-of-type {\n",
       "        vertical-align: middle;\n",
       "    }\n",
       "\n",
       "    .dataframe tbody tr th {\n",
       "        vertical-align: top;\n",
       "    }\n",
       "\n",
       "    .dataframe thead th {\n",
       "        text-align: right;\n",
       "    }\n",
       "</style>\n",
       "<table border=\"1\" class=\"dataframe\">\n",
       "  <thead>\n",
       "    <tr style=\"text-align: right;\">\n",
       "      <th></th>\n",
       "      <th>date</th>\n",
       "      <th>item</th>\n",
       "      <th>value</th>\n",
       "    </tr>\n",
       "  </thead>\n",
       "  <tbody>\n",
       "    <tr>\n",
       "      <th>0</th>\n",
       "      <td>1959-01-01</td>\n",
       "      <td>realgdp</td>\n",
       "      <td>2710.349</td>\n",
       "    </tr>\n",
       "    <tr>\n",
       "      <th>1</th>\n",
       "      <td>1959-01-01</td>\n",
       "      <td>infl</td>\n",
       "      <td>0.000</td>\n",
       "    </tr>\n",
       "    <tr>\n",
       "      <th>2</th>\n",
       "      <td>1959-01-01</td>\n",
       "      <td>unemp</td>\n",
       "      <td>5.800</td>\n",
       "    </tr>\n",
       "    <tr>\n",
       "      <th>3</th>\n",
       "      <td>1959-04-01</td>\n",
       "      <td>realgdp</td>\n",
       "      <td>2778.801</td>\n",
       "    </tr>\n",
       "    <tr>\n",
       "      <th>4</th>\n",
       "      <td>1959-04-01</td>\n",
       "      <td>infl</td>\n",
       "      <td>2.340</td>\n",
       "    </tr>\n",
       "    <tr>\n",
       "      <th>5</th>\n",
       "      <td>1959-04-01</td>\n",
       "      <td>unemp</td>\n",
       "      <td>5.100</td>\n",
       "    </tr>\n",
       "    <tr>\n",
       "      <th>6</th>\n",
       "      <td>1959-07-01</td>\n",
       "      <td>realgdp</td>\n",
       "      <td>2775.488</td>\n",
       "    </tr>\n",
       "    <tr>\n",
       "      <th>7</th>\n",
       "      <td>1959-07-01</td>\n",
       "      <td>infl</td>\n",
       "      <td>2.740</td>\n",
       "    </tr>\n",
       "    <tr>\n",
       "      <th>8</th>\n",
       "      <td>1959-07-01</td>\n",
       "      <td>unemp</td>\n",
       "      <td>5.300</td>\n",
       "    </tr>\n",
       "    <tr>\n",
       "      <th>9</th>\n",
       "      <td>1959-10-01</td>\n",
       "      <td>realgdp</td>\n",
       "      <td>2785.204</td>\n",
       "    </tr>\n",
       "  </tbody>\n",
       "</table>\n",
       "</div>"
      ],
      "text/plain": [
       "        date     item     value\n",
       "0 1959-01-01  realgdp  2710.349\n",
       "1 1959-01-01     infl     0.000\n",
       "2 1959-01-01    unemp     5.800\n",
       "3 1959-04-01  realgdp  2778.801\n",
       "4 1959-04-01     infl     2.340\n",
       "5 1959-04-01    unemp     5.100\n",
       "6 1959-07-01  realgdp  2775.488\n",
       "7 1959-07-01     infl     2.740\n",
       "8 1959-07-01    unemp     5.300\n",
       "9 1959-10-01  realgdp  2785.204"
      ]
     },
     "execution_count": 19,
     "metadata": {},
     "output_type": "execute_result"
    }
   ],
   "source": [
    "long_data[:10]"
   ]
  },
  {
   "cell_type": "markdown",
   "id": "25f2d80a-f35d-4609-8b34-4e679523320b",
   "metadata": {},
   "source": [
    "Trong định dạng `long` dành cho dữ liệu chuỗi thời gian đa biến, mỗi hàng trong bảng biểu thị một quan sát duy nhất.\n",
    "\n",
    "Dữ liệu thường được lưu trữ theo cách này trong các cơ sở dữ liệu quan hệ sử dụng SQL, vì lược đồ cố định (bao gồm tên cột và kiểu dữ liệu) cho phép số lượng giá trị phân biệt trong cột \"item\" có thể thay đổi linh hoạt khi dữ liệu mới được thêm vào bảng. Trong ví dụ trước, các cột `date` và `item` thường được sử dụng làm **khóa chính** (theo thuật ngữ của cơ sở dữ liệu quan hệ), nhằm đảm bảo tính toàn vẹn quan hệ và hỗ trợ các thao tác nối bảng (join) một cách hiệu quả.\n",
    "\n",
    "Tuy nhiên, trong một số trường hợp, việc thao tác với dữ liệu ở định dạng này có thể kém trực quan hoặc khó xử lý hơn. Khi đó, bạn có thể muốn chuyển dữ liệu sang định dạng bảng rộng (*wide format*), trong đó mỗi mục (`item`) sẽ trở thành một cột riêng, và bảng được lập chỉ số theo thời gian (`date`). Phương thức `pivot` của `DataFrame` trong Pandas cho phép thực hiện chính xác quá trình chuyển đổi này."
   ]
  },
  {
   "cell_type": "code",
   "execution_count": 20,
   "id": "2f299780-d4ea-4574-98f1-8edadd89cc93",
   "metadata": {},
   "outputs": [],
   "source": [
    "pivoted = long_data.pivot(index=\"date\", columns=\"item\",\n",
    "                           values=\"value\")"
   ]
  },
  {
   "cell_type": "code",
   "execution_count": 21,
   "id": "c96dfff8-36f2-46e3-a79f-699467883953",
   "metadata": {},
   "outputs": [
    {
     "data": {
      "text/html": [
       "<div>\n",
       "<style scoped>\n",
       "    .dataframe tbody tr th:only-of-type {\n",
       "        vertical-align: middle;\n",
       "    }\n",
       "\n",
       "    .dataframe tbody tr th {\n",
       "        vertical-align: top;\n",
       "    }\n",
       "\n",
       "    .dataframe thead th {\n",
       "        text-align: right;\n",
       "    }\n",
       "</style>\n",
       "<table border=\"1\" class=\"dataframe\">\n",
       "  <thead>\n",
       "    <tr style=\"text-align: right;\">\n",
       "      <th>item</th>\n",
       "      <th>infl</th>\n",
       "      <th>realgdp</th>\n",
       "      <th>unemp</th>\n",
       "    </tr>\n",
       "    <tr>\n",
       "      <th>date</th>\n",
       "      <th></th>\n",
       "      <th></th>\n",
       "      <th></th>\n",
       "    </tr>\n",
       "  </thead>\n",
       "  <tbody>\n",
       "    <tr>\n",
       "      <th>1959-01-01</th>\n",
       "      <td>0.00</td>\n",
       "      <td>2710.349</td>\n",
       "      <td>5.8</td>\n",
       "    </tr>\n",
       "    <tr>\n",
       "      <th>1959-04-01</th>\n",
       "      <td>2.34</td>\n",
       "      <td>2778.801</td>\n",
       "      <td>5.1</td>\n",
       "    </tr>\n",
       "    <tr>\n",
       "      <th>1959-07-01</th>\n",
       "      <td>2.74</td>\n",
       "      <td>2775.488</td>\n",
       "      <td>5.3</td>\n",
       "    </tr>\n",
       "    <tr>\n",
       "      <th>1959-10-01</th>\n",
       "      <td>0.27</td>\n",
       "      <td>2785.204</td>\n",
       "      <td>5.6</td>\n",
       "    </tr>\n",
       "    <tr>\n",
       "      <th>1960-01-01</th>\n",
       "      <td>2.31</td>\n",
       "      <td>2847.699</td>\n",
       "      <td>5.2</td>\n",
       "    </tr>\n",
       "  </tbody>\n",
       "</table>\n",
       "</div>"
      ],
      "text/plain": [
       "item        infl   realgdp  unemp\n",
       "date                             \n",
       "1959-01-01  0.00  2710.349    5.8\n",
       "1959-04-01  2.34  2778.801    5.1\n",
       "1959-07-01  2.74  2775.488    5.3\n",
       "1959-10-01  0.27  2785.204    5.6\n",
       "1960-01-01  2.31  2847.699    5.2"
      ]
     },
     "execution_count": 21,
     "metadata": {},
     "output_type": "execute_result"
    }
   ],
   "source": [
    "pivoted.head()"
   ]
  },
  {
   "cell_type": "markdown",
   "id": "1429acbd-9dd3-44ef-b974-ced0a9430991",
   "metadata": {},
   "source": [
    "Hai tham số đầu tiên được truyền vào phương thức `pivot` lần lượt xác định các cột sẽ được sử dụng làm chỉ số hàng (*row index*) và chỉ số cột (*column index*). Tham số thứ ba, không bắt buộc, xác định cột chứa giá trị sẽ được sử dụng để lấp đầy bảng `DataFrame` sau khi chuyển đổi.\n",
    "\n",
    "Giả sử bạn có hai cột giá trị riêng biệt và mong muốn thay đổi cấu trúc của chúng đồng thời (tức là chuyển đổi từ định dạng “long” sang “wide” cho nhiều cột cùng lúc). Trong trường hợp này, `pivot` không thể trực tiếp xử lý nhiều cột giá trị trong một lệnh duy nhất. Bạn sẽ cần thực hiện thao tác này bằng cách sử dụng các phương thức khác như `pivot_table`, hoặc áp dụng `pivot` cho từng cột một, sau đó kết hợp kết quả lại."
   ]
  },
  {
   "cell_type": "code",
   "execution_count": 22,
   "id": "91611c6a-191e-44c7-908c-296a5687c741",
   "metadata": {},
   "outputs": [
    {
     "data": {
      "text/html": [
       "<div>\n",
       "<style scoped>\n",
       "    .dataframe tbody tr th:only-of-type {\n",
       "        vertical-align: middle;\n",
       "    }\n",
       "\n",
       "    .dataframe tbody tr th {\n",
       "        vertical-align: top;\n",
       "    }\n",
       "\n",
       "    .dataframe thead th {\n",
       "        text-align: right;\n",
       "    }\n",
       "</style>\n",
       "<table border=\"1\" class=\"dataframe\">\n",
       "  <thead>\n",
       "    <tr style=\"text-align: right;\">\n",
       "      <th></th>\n",
       "      <th>date</th>\n",
       "      <th>item</th>\n",
       "      <th>value</th>\n",
       "      <th>value2</th>\n",
       "    </tr>\n",
       "  </thead>\n",
       "  <tbody>\n",
       "    <tr>\n",
       "      <th>0</th>\n",
       "      <td>1959-01-01</td>\n",
       "      <td>realgdp</td>\n",
       "      <td>2710.349</td>\n",
       "      <td>-0.334617</td>\n",
       "    </tr>\n",
       "    <tr>\n",
       "      <th>1</th>\n",
       "      <td>1959-01-01</td>\n",
       "      <td>infl</td>\n",
       "      <td>0.000</td>\n",
       "      <td>-0.709258</td>\n",
       "    </tr>\n",
       "    <tr>\n",
       "      <th>2</th>\n",
       "      <td>1959-01-01</td>\n",
       "      <td>unemp</td>\n",
       "      <td>5.800</td>\n",
       "      <td>-1.253860</td>\n",
       "    </tr>\n",
       "    <tr>\n",
       "      <th>3</th>\n",
       "      <td>1959-04-01</td>\n",
       "      <td>realgdp</td>\n",
       "      <td>2778.801</td>\n",
       "      <td>1.277502</td>\n",
       "    </tr>\n",
       "    <tr>\n",
       "      <th>4</th>\n",
       "      <td>1959-04-01</td>\n",
       "      <td>infl</td>\n",
       "      <td>2.340</td>\n",
       "      <td>0.037299</td>\n",
       "    </tr>\n",
       "    <tr>\n",
       "      <th>5</th>\n",
       "      <td>1959-04-01</td>\n",
       "      <td>unemp</td>\n",
       "      <td>5.100</td>\n",
       "      <td>-0.588836</td>\n",
       "    </tr>\n",
       "    <tr>\n",
       "      <th>6</th>\n",
       "      <td>1959-07-01</td>\n",
       "      <td>realgdp</td>\n",
       "      <td>2775.488</td>\n",
       "      <td>1.088038</td>\n",
       "    </tr>\n",
       "    <tr>\n",
       "      <th>7</th>\n",
       "      <td>1959-07-01</td>\n",
       "      <td>infl</td>\n",
       "      <td>2.740</td>\n",
       "      <td>0.872458</td>\n",
       "    </tr>\n",
       "    <tr>\n",
       "      <th>8</th>\n",
       "      <td>1959-07-01</td>\n",
       "      <td>unemp</td>\n",
       "      <td>5.300</td>\n",
       "      <td>-0.482196</td>\n",
       "    </tr>\n",
       "    <tr>\n",
       "      <th>9</th>\n",
       "      <td>1959-10-01</td>\n",
       "      <td>realgdp</td>\n",
       "      <td>2785.204</td>\n",
       "      <td>-1.429992</td>\n",
       "    </tr>\n",
       "  </tbody>\n",
       "</table>\n",
       "</div>"
      ],
      "text/plain": [
       "        date     item     value    value2\n",
       "0 1959-01-01  realgdp  2710.349 -0.334617\n",
       "1 1959-01-01     infl     0.000 -0.709258\n",
       "2 1959-01-01    unemp     5.800 -1.253860\n",
       "3 1959-04-01  realgdp  2778.801  1.277502\n",
       "4 1959-04-01     infl     2.340  0.037299\n",
       "5 1959-04-01    unemp     5.100 -0.588836\n",
       "6 1959-07-01  realgdp  2775.488  1.088038\n",
       "7 1959-07-01     infl     2.740  0.872458\n",
       "8 1959-07-01    unemp     5.300 -0.482196\n",
       "9 1959-10-01  realgdp  2785.204 -1.429992"
      ]
     },
     "execution_count": 22,
     "metadata": {},
     "output_type": "execute_result"
    }
   ],
   "source": [
    "long_data[\"value2\"] = np.random.standard_normal(len(long_data))\n",
    "long_data[:10]"
   ]
  },
  {
   "cell_type": "markdown",
   "id": "b34e219d-486c-4a32-bf83-394e67df7aea",
   "metadata": {},
   "source": [
    "Khi không chỉ định tham số cuối cùng (tức là cột giá trị) trong phương thức `pivot`, kết quả trả về là một `DataFrame` có cấu trúc **cột phân cấp**. Trong cấu trúc này, các giá trị duy nhất từ cột ban đầu, thường là cột chứa nhiều biến giá trị, sẽ được đưa lên cấp thứ hai của cột trong bảng kết quả, trong khi cấp đầu tiên được xác định bởi cột chỉ mục cột đã chỉ định trong `pivot`.\n",
    "\n",
    "Kiểu tổ chức dữ liệu này rất hữu ích khi bạn muốn giữ nguyên nhiều cột giá trị đồng thời mà không làm mất thông tin, và thường xuất hiện trong các phân tích bảng chéo hoặc tổng hợp dữ liệu đa chiều.\n",
    "\n",
    "Hãy cùng quan sát ví dụ minh họa để hiểu rõ hơn cách thức hoạt động của cấu trúc cột phân cấp trong Pandas."
   ]
  },
  {
   "cell_type": "code",
   "execution_count": 23,
   "id": "44df3fbc-4782-4350-bb79-854bad9ef6fc",
   "metadata": {},
   "outputs": [
    {
     "data": {
      "text/html": [
       "<div>\n",
       "<style scoped>\n",
       "    .dataframe tbody tr th:only-of-type {\n",
       "        vertical-align: middle;\n",
       "    }\n",
       "\n",
       "    .dataframe tbody tr th {\n",
       "        vertical-align: top;\n",
       "    }\n",
       "\n",
       "    .dataframe thead tr th {\n",
       "        text-align: left;\n",
       "    }\n",
       "\n",
       "    .dataframe thead tr:last-of-type th {\n",
       "        text-align: right;\n",
       "    }\n",
       "</style>\n",
       "<table border=\"1\" class=\"dataframe\">\n",
       "  <thead>\n",
       "    <tr>\n",
       "      <th></th>\n",
       "      <th colspan=\"3\" halign=\"left\">value</th>\n",
       "      <th colspan=\"3\" halign=\"left\">value2</th>\n",
       "    </tr>\n",
       "    <tr>\n",
       "      <th>item</th>\n",
       "      <th>infl</th>\n",
       "      <th>realgdp</th>\n",
       "      <th>unemp</th>\n",
       "      <th>infl</th>\n",
       "      <th>realgdp</th>\n",
       "      <th>unemp</th>\n",
       "    </tr>\n",
       "    <tr>\n",
       "      <th>date</th>\n",
       "      <th></th>\n",
       "      <th></th>\n",
       "      <th></th>\n",
       "      <th></th>\n",
       "      <th></th>\n",
       "      <th></th>\n",
       "    </tr>\n",
       "  </thead>\n",
       "  <tbody>\n",
       "    <tr>\n",
       "      <th>1959-01-01</th>\n",
       "      <td>0.00</td>\n",
       "      <td>2710.349</td>\n",
       "      <td>5.8</td>\n",
       "      <td>-0.709258</td>\n",
       "      <td>-0.334617</td>\n",
       "      <td>-1.253860</td>\n",
       "    </tr>\n",
       "    <tr>\n",
       "      <th>1959-04-01</th>\n",
       "      <td>2.34</td>\n",
       "      <td>2778.801</td>\n",
       "      <td>5.1</td>\n",
       "      <td>0.037299</td>\n",
       "      <td>1.277502</td>\n",
       "      <td>-0.588836</td>\n",
       "    </tr>\n",
       "    <tr>\n",
       "      <th>1959-07-01</th>\n",
       "      <td>2.74</td>\n",
       "      <td>2775.488</td>\n",
       "      <td>5.3</td>\n",
       "      <td>0.872458</td>\n",
       "      <td>1.088038</td>\n",
       "      <td>-0.482196</td>\n",
       "    </tr>\n",
       "    <tr>\n",
       "      <th>1959-10-01</th>\n",
       "      <td>0.27</td>\n",
       "      <td>2785.204</td>\n",
       "      <td>5.6</td>\n",
       "      <td>-0.002710</td>\n",
       "      <td>-1.429992</td>\n",
       "      <td>0.410315</td>\n",
       "    </tr>\n",
       "    <tr>\n",
       "      <th>1960-01-01</th>\n",
       "      <td>2.31</td>\n",
       "      <td>2847.699</td>\n",
       "      <td>5.2</td>\n",
       "      <td>-0.674390</td>\n",
       "      <td>-0.900307</td>\n",
       "      <td>-0.487465</td>\n",
       "    </tr>\n",
       "  </tbody>\n",
       "</table>\n",
       "</div>"
      ],
      "text/plain": [
       "           value                    value2                    \n",
       "item        infl   realgdp unemp      infl   realgdp     unemp\n",
       "date                                                          \n",
       "1959-01-01  0.00  2710.349   5.8 -0.709258 -0.334617 -1.253860\n",
       "1959-04-01  2.34  2778.801   5.1  0.037299  1.277502 -0.588836\n",
       "1959-07-01  2.74  2775.488   5.3  0.872458  1.088038 -0.482196\n",
       "1959-10-01  0.27  2785.204   5.6 -0.002710 -1.429992  0.410315\n",
       "1960-01-01  2.31  2847.699   5.2 -0.674390 -0.900307 -0.487465"
      ]
     },
     "execution_count": 23,
     "metadata": {},
     "output_type": "execute_result"
    }
   ],
   "source": [
    "pivoted = long_data.pivot(index=\"date\", columns=\"item\")\n",
    "pivoted.head()"
   ]
  },
  {
   "cell_type": "code",
   "execution_count": 24,
   "id": "013a032d-ee20-4e6a-b95b-74ec19d25501",
   "metadata": {},
   "outputs": [
    {
     "data": {
      "text/html": [
       "<div>\n",
       "<style scoped>\n",
       "    .dataframe tbody tr th:only-of-type {\n",
       "        vertical-align: middle;\n",
       "    }\n",
       "\n",
       "    .dataframe tbody tr th {\n",
       "        vertical-align: top;\n",
       "    }\n",
       "\n",
       "    .dataframe thead th {\n",
       "        text-align: right;\n",
       "    }\n",
       "</style>\n",
       "<table border=\"1\" class=\"dataframe\">\n",
       "  <thead>\n",
       "    <tr style=\"text-align: right;\">\n",
       "      <th>item</th>\n",
       "      <th>infl</th>\n",
       "      <th>realgdp</th>\n",
       "      <th>unemp</th>\n",
       "    </tr>\n",
       "    <tr>\n",
       "      <th>date</th>\n",
       "      <th></th>\n",
       "      <th></th>\n",
       "      <th></th>\n",
       "    </tr>\n",
       "  </thead>\n",
       "  <tbody>\n",
       "    <tr>\n",
       "      <th>1959-01-01</th>\n",
       "      <td>0.00</td>\n",
       "      <td>2710.349</td>\n",
       "      <td>5.8</td>\n",
       "    </tr>\n",
       "    <tr>\n",
       "      <th>1959-04-01</th>\n",
       "      <td>2.34</td>\n",
       "      <td>2778.801</td>\n",
       "      <td>5.1</td>\n",
       "    </tr>\n",
       "    <tr>\n",
       "      <th>1959-07-01</th>\n",
       "      <td>2.74</td>\n",
       "      <td>2775.488</td>\n",
       "      <td>5.3</td>\n",
       "    </tr>\n",
       "    <tr>\n",
       "      <th>1959-10-01</th>\n",
       "      <td>0.27</td>\n",
       "      <td>2785.204</td>\n",
       "      <td>5.6</td>\n",
       "    </tr>\n",
       "    <tr>\n",
       "      <th>1960-01-01</th>\n",
       "      <td>2.31</td>\n",
       "      <td>2847.699</td>\n",
       "      <td>5.2</td>\n",
       "    </tr>\n",
       "  </tbody>\n",
       "</table>\n",
       "</div>"
      ],
      "text/plain": [
       "item        infl   realgdp  unemp\n",
       "date                             \n",
       "1959-01-01  0.00  2710.349    5.8\n",
       "1959-04-01  2.34  2778.801    5.1\n",
       "1959-07-01  2.74  2775.488    5.3\n",
       "1959-10-01  0.27  2785.204    5.6\n",
       "1960-01-01  2.31  2847.699    5.2"
      ]
     },
     "execution_count": 24,
     "metadata": {},
     "output_type": "execute_result"
    }
   ],
   "source": [
    "pivoted[\"value\"].head()"
   ]
  },
  {
   "cell_type": "markdown",
   "id": "bcecc1bc-88ab-45c9-81cb-24c06201b773",
   "metadata": {},
   "source": [
    "Cần lưu ý rằng phương thức `pivot` trong Pandas thực chất tương đương với việc tạo một hệ chỉ số phân cấp (*hierarchical index*) bằng cách sử dụng `set_index`, sau đó áp dụng phương thức `unstack`.\n",
    "\n",
    "Cụ thể, `set_index` cho phép xác định một hoặc nhiều cột làm chỉ số cho bảng dữ liệu, từ đó cấu trúc lại bảng theo hướng đa chiều. Phương thức `unstack` tiếp theo sẽ \"xoay\" một trong các cấp chỉ số đó thành cột, tạo ra một bảng mới theo định dạng \"wide\".\n",
    "\n",
    "Cách tiếp cận này đặc biệt hữu ích khi bạn cần kiểm soát linh hoạt quá trình chuyển đổi dữ liệu, hoặc khi muốn áp dụng các thao tác tương tự `pivot` trong các tình huống không thể sử dụng trực tiếp `pivot`.\n",
    "\n",
    "Ví dụ cụ thể dưới đây sẽ minh họa rõ ràng mối quan hệ tương đương giữa `pivot` và tổ hợp `set_index` + `unstack`."
   ]
  },
  {
   "cell_type": "code",
   "execution_count": null,
   "id": "77f3279c-8169-43b1-8f5c-9a985def1e88",
   "metadata": {},
   "outputs": [],
   "source": [
    "unstacked = long_data.set_index([\"date\", \"item\"]).unstack(level=\"item\")"
   ]
  },
  {
   "cell_type": "code",
   "execution_count": null,
   "id": "a7a0b182-3c81-4935-9f23-20229de84baa",
   "metadata": {},
   "outputs": [],
   "source": [
    "unstacked.head()"
   ]
  },
  {
   "cell_type": "markdown",
   "id": "e20dcc38-d5a7-49ef-9a27-8808bc3244f8",
   "metadata": {},
   "source": [
    "Một thao tác ngược lại với phương thức `pivot` trong `DataFrame` là phương thức `pandas.melt`. Thay vì chuyển một cột thành nhiều cột trong một bảng dữ liệu mới như `pivot`, `melt` thực hiện việc **gộp nhiều cột thành một**, từ đó tạo ra một `DataFrame` có **số hàng lớn hơn** so với đầu vào — tức là định dạng \"long\".\n",
    "\n",
    "Phép biến đổi này thường được sử dụng để đưa dữ liệu về **dạng chuẩn hóa** (*normalized form*), phù hợp với các quy tắc của cơ sở dữ liệu quan hệ và thuận tiện cho nhiều thao tác phân tích, trực quan hóa hoặc lưu trữ.\n",
    "\n",
    "Hãy cùng xem một ví dụ minh họa cho quá trình này:"
   ]
  },
  {
   "cell_type": "code",
   "execution_count": 28,
   "id": "d487680d-1123-4ee4-a3ab-4963a5210524",
   "metadata": {},
   "outputs": [
    {
     "data": {
      "text/html": [
       "<div>\n",
       "<style scoped>\n",
       "    .dataframe tbody tr th:only-of-type {\n",
       "        vertical-align: middle;\n",
       "    }\n",
       "\n",
       "    .dataframe tbody tr th {\n",
       "        vertical-align: top;\n",
       "    }\n",
       "\n",
       "    .dataframe thead th {\n",
       "        text-align: right;\n",
       "    }\n",
       "</style>\n",
       "<table border=\"1\" class=\"dataframe\">\n",
       "  <thead>\n",
       "    <tr style=\"text-align: right;\">\n",
       "      <th></th>\n",
       "      <th>key</th>\n",
       "      <th>A</th>\n",
       "      <th>B</th>\n",
       "      <th>C</th>\n",
       "    </tr>\n",
       "  </thead>\n",
       "  <tbody>\n",
       "    <tr>\n",
       "      <th>0</th>\n",
       "      <td>foo</td>\n",
       "      <td>1</td>\n",
       "      <td>4</td>\n",
       "      <td>7</td>\n",
       "    </tr>\n",
       "    <tr>\n",
       "      <th>1</th>\n",
       "      <td>bar</td>\n",
       "      <td>2</td>\n",
       "      <td>5</td>\n",
       "      <td>8</td>\n",
       "    </tr>\n",
       "    <tr>\n",
       "      <th>2</th>\n",
       "      <td>baz</td>\n",
       "      <td>3</td>\n",
       "      <td>6</td>\n",
       "      <td>9</td>\n",
       "    </tr>\n",
       "  </tbody>\n",
       "</table>\n",
       "</div>"
      ],
      "text/plain": [
       "   key  A  B  C\n",
       "0  foo  1  4  7\n",
       "1  bar  2  5  8\n",
       "2  baz  3  6  9"
      ]
     },
     "execution_count": 28,
     "metadata": {},
     "output_type": "execute_result"
    }
   ],
   "source": [
    "df = pd.DataFrame({\"key\": [\"foo\", \"bar\", \"baz\"],\n",
    "                      \"A\": [1, 2, 3],\n",
    "                      \"B\": [4, 5, 6],\n",
    "                      \"C\": [7, 8, 9]})\n",
    "df"
   ]
  },
  {
   "cell_type": "markdown",
   "id": "cd1ef9b0-fbe3-4e5d-8eaa-e4b3388df198",
   "metadata": {},
   "source": [
    "Trong nhiều tình huống, cột `\"key\"` đóng vai trò là một **chỉ báo nhóm**, trong khi các cột còn lại chứa các giá trị dữ liệu cần được gộp lại. Khi sử dụng phương thức `pandas.melt`, chúng ta cần chỉ rõ những cột nào (nếu có) sẽ được giữ lại làm chỉ báo nhóm.\n",
    "\n",
    "Cụ thể, trong ví dụ này, chúng ta sử dụng `\"key\"` làm **chỉ báo nhóm duy nhất**, và tiến hành gộp các cột còn lại thành một cột duy nhất chứa giá trị, đi kèm với một cột khác ghi tên thuộc tính ban đầu. Đây là cách làm phổ biến để chuyển dữ liệu từ định dạng \"wide\" sang \"long\" mà vẫn bảo toàn thông tin nhóm.\n",
    "\n",
    "Ví dụ dưới đây sẽ minh họa rõ cách sử dụng `melt` với `\"key\"` làm chỉ báo nhóm."
   ]
  },
  {
   "cell_type": "code",
   "execution_count": 29,
   "id": "cd3b7b7f-d3d3-4900-b6ec-3d66f670bb92",
   "metadata": {},
   "outputs": [],
   "source": [
    "melted = pd.melt(df, id_vars=\"key\")"
   ]
  },
  {
   "cell_type": "code",
   "execution_count": 30,
   "id": "93af3d28-cdba-45d2-9e6e-0e8fcf8b7b1c",
   "metadata": {},
   "outputs": [
    {
     "data": {
      "text/html": [
       "<div>\n",
       "<style scoped>\n",
       "    .dataframe tbody tr th:only-of-type {\n",
       "        vertical-align: middle;\n",
       "    }\n",
       "\n",
       "    .dataframe tbody tr th {\n",
       "        vertical-align: top;\n",
       "    }\n",
       "\n",
       "    .dataframe thead th {\n",
       "        text-align: right;\n",
       "    }\n",
       "</style>\n",
       "<table border=\"1\" class=\"dataframe\">\n",
       "  <thead>\n",
       "    <tr style=\"text-align: right;\">\n",
       "      <th></th>\n",
       "      <th>key</th>\n",
       "      <th>variable</th>\n",
       "      <th>value</th>\n",
       "    </tr>\n",
       "  </thead>\n",
       "  <tbody>\n",
       "    <tr>\n",
       "      <th>0</th>\n",
       "      <td>foo</td>\n",
       "      <td>A</td>\n",
       "      <td>1</td>\n",
       "    </tr>\n",
       "    <tr>\n",
       "      <th>1</th>\n",
       "      <td>bar</td>\n",
       "      <td>A</td>\n",
       "      <td>2</td>\n",
       "    </tr>\n",
       "    <tr>\n",
       "      <th>2</th>\n",
       "      <td>baz</td>\n",
       "      <td>A</td>\n",
       "      <td>3</td>\n",
       "    </tr>\n",
       "    <tr>\n",
       "      <th>3</th>\n",
       "      <td>foo</td>\n",
       "      <td>B</td>\n",
       "      <td>4</td>\n",
       "    </tr>\n",
       "    <tr>\n",
       "      <th>4</th>\n",
       "      <td>bar</td>\n",
       "      <td>B</td>\n",
       "      <td>5</td>\n",
       "    </tr>\n",
       "    <tr>\n",
       "      <th>5</th>\n",
       "      <td>baz</td>\n",
       "      <td>B</td>\n",
       "      <td>6</td>\n",
       "    </tr>\n",
       "    <tr>\n",
       "      <th>6</th>\n",
       "      <td>foo</td>\n",
       "      <td>C</td>\n",
       "      <td>7</td>\n",
       "    </tr>\n",
       "    <tr>\n",
       "      <th>7</th>\n",
       "      <td>bar</td>\n",
       "      <td>C</td>\n",
       "      <td>8</td>\n",
       "    </tr>\n",
       "    <tr>\n",
       "      <th>8</th>\n",
       "      <td>baz</td>\n",
       "      <td>C</td>\n",
       "      <td>9</td>\n",
       "    </tr>\n",
       "  </tbody>\n",
       "</table>\n",
       "</div>"
      ],
      "text/plain": [
       "   key variable  value\n",
       "0  foo        A      1\n",
       "1  bar        A      2\n",
       "2  baz        A      3\n",
       "3  foo        B      4\n",
       "4  bar        B      5\n",
       "5  baz        B      6\n",
       "6  foo        C      7\n",
       "7  bar        C      8\n",
       "8  baz        C      9"
      ]
     },
     "execution_count": 30,
     "metadata": {},
     "output_type": "execute_result"
    }
   ],
   "source": [
    "melted"
   ]
  },
  {
   "cell_type": "markdown",
   "id": "15f090af-aecd-4479-af50-0fdc107492d1",
   "metadata": {},
   "source": [
    "Sau khi đã chuyển đổi dữ liệu sang định dạng \"long\" bằng phương thức `melt`, chúng ta hoàn toàn có thể **khôi phục lại bố cục ban đầu** bằng cách sử dụng phương thức `pivot`. Phép biến đổi này cho phép tái cấu trúc bảng dữ liệu, trong đó một cột sẽ được sử dụng làm chỉ mục hàng, một cột khác làm tên cột mới, và cột cuối cùng chứa giá trị dữ liệu.\n",
    "\n",
    "Việc sử dụng `pivot` trong trường hợp này giúp minh họa rõ ràng tính **tương hỗ giữa `melt` và `pivot`**, qua đó cho phép linh hoạt chuyển đổi qua lại giữa hai định dạng dữ liệu — một kỹ năng quan trọng trong xử lý và phân tích dữ liệu bằng Pandas.\n",
    "\n",
    "Sau đây là ví dụ cụ thể cho quá trình chuyển dữ liệu về định dạng ban đầu bằng `pivot`."
   ]
  },
  {
   "cell_type": "code",
   "execution_count": 31,
   "id": "a39b814a-c9e1-455c-96eb-76d0f6089dda",
   "metadata": {},
   "outputs": [
    {
     "data": {
      "text/html": [
       "<div>\n",
       "<style scoped>\n",
       "    .dataframe tbody tr th:only-of-type {\n",
       "        vertical-align: middle;\n",
       "    }\n",
       "\n",
       "    .dataframe tbody tr th {\n",
       "        vertical-align: top;\n",
       "    }\n",
       "\n",
       "    .dataframe thead th {\n",
       "        text-align: right;\n",
       "    }\n",
       "</style>\n",
       "<table border=\"1\" class=\"dataframe\">\n",
       "  <thead>\n",
       "    <tr style=\"text-align: right;\">\n",
       "      <th>variable</th>\n",
       "      <th>A</th>\n",
       "      <th>B</th>\n",
       "      <th>C</th>\n",
       "    </tr>\n",
       "    <tr>\n",
       "      <th>key</th>\n",
       "      <th></th>\n",
       "      <th></th>\n",
       "      <th></th>\n",
       "    </tr>\n",
       "  </thead>\n",
       "  <tbody>\n",
       "    <tr>\n",
       "      <th>bar</th>\n",
       "      <td>2</td>\n",
       "      <td>5</td>\n",
       "      <td>8</td>\n",
       "    </tr>\n",
       "    <tr>\n",
       "      <th>baz</th>\n",
       "      <td>3</td>\n",
       "      <td>6</td>\n",
       "      <td>9</td>\n",
       "    </tr>\n",
       "    <tr>\n",
       "      <th>foo</th>\n",
       "      <td>1</td>\n",
       "      <td>4</td>\n",
       "      <td>7</td>\n",
       "    </tr>\n",
       "  </tbody>\n",
       "</table>\n",
       "</div>"
      ],
      "text/plain": [
       "variable  A  B  C\n",
       "key              \n",
       "bar       2  5  8\n",
       "baz       3  6  9\n",
       "foo       1  4  7"
      ]
     },
     "execution_count": 31,
     "metadata": {},
     "output_type": "execute_result"
    }
   ],
   "source": [
    "reshaped = melted.pivot(index=\"key\", columns=\"variable\",\n",
    "                            values=\"value\")\n",
    "reshaped"
   ]
  },
  {
   "cell_type": "markdown",
   "id": "beacdc6f-7459-4ca6-908c-bdba066b7074",
   "metadata": {},
   "source": [
    "Kết quả của phép biến đổi bằng `pivot` thường tạo ra một **chỉ số mới** dựa trên cột được sử dụng làm tên hàng. Trong một số trường hợp, chúng ta có thể muốn chuyển chỉ số này trở lại thành cột dữ liệu thông thường, đặc biệt nếu cần tiếp tục xử lý hoặc hiển thị dữ liệu ở định dạng bảng phẳng.\n",
    "\n",
    "Phương thức `reset_index` được sử dụng để thực hiện thao tác này. Cụ thể, `reset_index` đưa các cấp của chỉ số về thành cột của `DataFrame`, từ đó giúp đơn giản hóa cấu trúc bảng và hỗ trợ tốt hơn cho các bước xử lý tiếp theo.\n",
    "\n",
    "Ví dụ dưới đây sẽ minh họa rõ cách sử dụng `reset_index` sau khi đã thực hiện `pivot`."
   ]
  },
  {
   "cell_type": "code",
   "execution_count": 32,
   "id": "278bfea3-5a0a-4e8c-a81a-36f189637f87",
   "metadata": {},
   "outputs": [
    {
     "data": {
      "text/html": [
       "<div>\n",
       "<style scoped>\n",
       "    .dataframe tbody tr th:only-of-type {\n",
       "        vertical-align: middle;\n",
       "    }\n",
       "\n",
       "    .dataframe tbody tr th {\n",
       "        vertical-align: top;\n",
       "    }\n",
       "\n",
       "    .dataframe thead th {\n",
       "        text-align: right;\n",
       "    }\n",
       "</style>\n",
       "<table border=\"1\" class=\"dataframe\">\n",
       "  <thead>\n",
       "    <tr style=\"text-align: right;\">\n",
       "      <th>variable</th>\n",
       "      <th>key</th>\n",
       "      <th>A</th>\n",
       "      <th>B</th>\n",
       "      <th>C</th>\n",
       "    </tr>\n",
       "  </thead>\n",
       "  <tbody>\n",
       "    <tr>\n",
       "      <th>0</th>\n",
       "      <td>bar</td>\n",
       "      <td>2</td>\n",
       "      <td>5</td>\n",
       "      <td>8</td>\n",
       "    </tr>\n",
       "    <tr>\n",
       "      <th>1</th>\n",
       "      <td>baz</td>\n",
       "      <td>3</td>\n",
       "      <td>6</td>\n",
       "      <td>9</td>\n",
       "    </tr>\n",
       "    <tr>\n",
       "      <th>2</th>\n",
       "      <td>foo</td>\n",
       "      <td>1</td>\n",
       "      <td>4</td>\n",
       "      <td>7</td>\n",
       "    </tr>\n",
       "  </tbody>\n",
       "</table>\n",
       "</div>"
      ],
      "text/plain": [
       "variable  key  A  B  C\n",
       "0         bar  2  5  8\n",
       "1         baz  3  6  9\n",
       "2         foo  1  4  7"
      ]
     },
     "execution_count": 32,
     "metadata": {},
     "output_type": "execute_result"
    }
   ],
   "source": [
    "reshaped.reset_index()"
   ]
  },
  {
   "cell_type": "code",
   "execution_count": 33,
   "id": "717211fe-0932-4eb3-ab1d-f9c792b4c14f",
   "metadata": {},
   "outputs": [
    {
     "data": {
      "text/html": [
       "<div>\n",
       "<style scoped>\n",
       "    .dataframe tbody tr th:only-of-type {\n",
       "        vertical-align: middle;\n",
       "    }\n",
       "\n",
       "    .dataframe tbody tr th {\n",
       "        vertical-align: top;\n",
       "    }\n",
       "\n",
       "    .dataframe thead th {\n",
       "        text-align: right;\n",
       "    }\n",
       "</style>\n",
       "<table border=\"1\" class=\"dataframe\">\n",
       "  <thead>\n",
       "    <tr style=\"text-align: right;\">\n",
       "      <th></th>\n",
       "      <th>key</th>\n",
       "      <th>variable</th>\n",
       "      <th>value</th>\n",
       "    </tr>\n",
       "  </thead>\n",
       "  <tbody>\n",
       "    <tr>\n",
       "      <th>0</th>\n",
       "      <td>foo</td>\n",
       "      <td>A</td>\n",
       "      <td>1</td>\n",
       "    </tr>\n",
       "    <tr>\n",
       "      <th>1</th>\n",
       "      <td>bar</td>\n",
       "      <td>A</td>\n",
       "      <td>2</td>\n",
       "    </tr>\n",
       "    <tr>\n",
       "      <th>2</th>\n",
       "      <td>baz</td>\n",
       "      <td>A</td>\n",
       "      <td>3</td>\n",
       "    </tr>\n",
       "    <tr>\n",
       "      <th>3</th>\n",
       "      <td>foo</td>\n",
       "      <td>B</td>\n",
       "      <td>4</td>\n",
       "    </tr>\n",
       "    <tr>\n",
       "      <th>4</th>\n",
       "      <td>bar</td>\n",
       "      <td>B</td>\n",
       "      <td>5</td>\n",
       "    </tr>\n",
       "    <tr>\n",
       "      <th>5</th>\n",
       "      <td>baz</td>\n",
       "      <td>B</td>\n",
       "      <td>6</td>\n",
       "    </tr>\n",
       "  </tbody>\n",
       "</table>\n",
       "</div>"
      ],
      "text/plain": [
       "   key variable  value\n",
       "0  foo        A      1\n",
       "1  bar        A      2\n",
       "2  baz        A      3\n",
       "3  foo        B      4\n",
       "4  bar        B      5\n",
       "5  baz        B      6"
      ]
     },
     "execution_count": 33,
     "metadata": {},
     "output_type": "execute_result"
    }
   ],
   "source": [
    "pd.melt(df, id_vars=\"key\", value_vars=[\"A\", \"B\"])"
   ]
  },
  {
   "cell_type": "code",
   "execution_count": 34,
   "id": "c658281d-7ef7-4c03-98b6-4ebc0aa3c244",
   "metadata": {},
   "outputs": [
    {
     "data": {
      "text/html": [
       "<div>\n",
       "<style scoped>\n",
       "    .dataframe tbody tr th:only-of-type {\n",
       "        vertical-align: middle;\n",
       "    }\n",
       "\n",
       "    .dataframe tbody tr th {\n",
       "        vertical-align: top;\n",
       "    }\n",
       "\n",
       "    .dataframe thead th {\n",
       "        text-align: right;\n",
       "    }\n",
       "</style>\n",
       "<table border=\"1\" class=\"dataframe\">\n",
       "  <thead>\n",
       "    <tr style=\"text-align: right;\">\n",
       "      <th></th>\n",
       "      <th>variable</th>\n",
       "      <th>value</th>\n",
       "    </tr>\n",
       "  </thead>\n",
       "  <tbody>\n",
       "    <tr>\n",
       "      <th>0</th>\n",
       "      <td>A</td>\n",
       "      <td>1</td>\n",
       "    </tr>\n",
       "    <tr>\n",
       "      <th>1</th>\n",
       "      <td>A</td>\n",
       "      <td>2</td>\n",
       "    </tr>\n",
       "    <tr>\n",
       "      <th>2</th>\n",
       "      <td>A</td>\n",
       "      <td>3</td>\n",
       "    </tr>\n",
       "    <tr>\n",
       "      <th>3</th>\n",
       "      <td>B</td>\n",
       "      <td>4</td>\n",
       "    </tr>\n",
       "    <tr>\n",
       "      <th>4</th>\n",
       "      <td>B</td>\n",
       "      <td>5</td>\n",
       "    </tr>\n",
       "    <tr>\n",
       "      <th>5</th>\n",
       "      <td>B</td>\n",
       "      <td>6</td>\n",
       "    </tr>\n",
       "    <tr>\n",
       "      <th>6</th>\n",
       "      <td>C</td>\n",
       "      <td>7</td>\n",
       "    </tr>\n",
       "    <tr>\n",
       "      <th>7</th>\n",
       "      <td>C</td>\n",
       "      <td>8</td>\n",
       "    </tr>\n",
       "    <tr>\n",
       "      <th>8</th>\n",
       "      <td>C</td>\n",
       "      <td>9</td>\n",
       "    </tr>\n",
       "  </tbody>\n",
       "</table>\n",
       "</div>"
      ],
      "text/plain": [
       "  variable  value\n",
       "0        A      1\n",
       "1        A      2\n",
       "2        A      3\n",
       "3        B      4\n",
       "4        B      5\n",
       "5        B      6\n",
       "6        C      7\n",
       "7        C      8\n",
       "8        C      9"
      ]
     },
     "execution_count": 34,
     "metadata": {},
     "output_type": "execute_result"
    }
   ],
   "source": [
    "pd.melt(df, value_vars=[\"A\", \"B\", \"C\"])"
   ]
  },
  {
   "cell_type": "markdown",
   "id": "096b9046-3d14-4089-9951-134110d62920",
   "metadata": {},
   "source": [
    "Sau khi đã nắm vững một số kiến thức cơ bản về Pandas, bao gồm nhập dữ liệu, làm sạch và tổ chức lại cấu trúc bảng dữ liệu, chúng ta có thể chuyển sang nội dung trực quan hóa dữ liệu với thư viện Matplotlib.\n",
    "\n",
    "Việc trực quan hóa dữ liệu đóng vai trò quan trọng trong việc hiểu rõ xu hướng, mối quan hệ và các đặc điểm ẩn chứa trong tập dữ liệu. Đây cũng là công cụ hỗ trợ ra quyết định hiệu quả trong nhiều lĩnh vực ứng dụng thực tiễn.\n",
    "\n",
    "Chúng ta sẽ quay lại khám phá thêm nhiều tính năng nâng cao khác của Pandas ở các chương sau, khi bước vào các phân tích chuyên sâu và kỹ thuật xử lý dữ liệu nâng cao hơn."
   ]
  }
 ],
 "metadata": {
  "kernelspec": {
   "display_name": "Python 3 (ipykernel)",
   "language": "python",
   "name": "python3"
  },
  "language_info": {
   "codemirror_mode": {
    "name": "ipython",
    "version": 3
   },
   "file_extension": ".py",
   "mimetype": "text/x-python",
   "name": "python",
   "nbconvert_exporter": "python",
   "pygments_lexer": "ipython3",
   "version": "3.13.2"
  }
 },
 "nbformat": 4,
 "nbformat_minor": 5
}
