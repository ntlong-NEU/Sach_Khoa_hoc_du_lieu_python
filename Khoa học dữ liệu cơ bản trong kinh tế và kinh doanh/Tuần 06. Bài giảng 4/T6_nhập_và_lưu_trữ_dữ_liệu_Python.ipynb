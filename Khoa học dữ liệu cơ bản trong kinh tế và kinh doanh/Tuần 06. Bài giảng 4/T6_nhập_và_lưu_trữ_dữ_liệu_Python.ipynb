{
  "cells": [
    {
      "cell_type": "markdown",
      "metadata": {
        "id": "x_971yvtfta9"
      },
      "source": [
        "# **Bài giảng 4 - Nhập và lưu trữ dữ liệu với Python**\n",
        "\n"
      ]
    },
    {
      "cell_type": "markdown",
      "metadata": {
        "id": "R0ULjqIaMzV3"
      },
      "source": [
        "**Mục tiêu bài học**\n",
        "\n",
        "* Tìm hiểu các phương pháp nhập dữ liệu từ các nguồn phổ biến.\n",
        "* Giải thích chi tiết cách sử dụng các hàm của Pandas như read_csv, read_excel, read_json, và read_sql.\n",
        "* Đưa ra ví dụ minh họa cụ thể với code và output, kèm theo giải thích  từng tham số và trường hợp sử dụng.\n",
        "* Đề cập đến các tình huống thực tế và cách xử lý các vấn đề thường gặp (dữ liệu thiếu, cấu trúc không chuẩn).\n",
        "\n",
        "**Các hoạt động nhập/xuất dữ liệu:**\n",
        "\n",
        "* Đọc từ tệp văn bản: Bao gồm CSV, JSON, và XML.\n",
        "* Tải từ cơ sở dữ liệu: Sử dụng SQL hoặc các hệ quản trị cơ sở dữ liệu (DBMS) như SQLite.\n",
        "* Tương tác qua mạng: Lấy dữ liệu từ API web hoặc các nguồn trực tuyến."
      ]
    },
    {
      "cell_type": "markdown",
      "metadata": {
        "id": "3T536ZApRHH4"
      },
      "source": [
        "# **1. Đọc và Lưu Dữ Liệu Ở Định Dạng Văn Bản**\n",
        "\n",
        "Pandas cung cấp nhiều hàm để đọc dữ liệu dạng bảng và lưu trữ dưới dạng `DataFrame`. Các hàm này được thiết kế linh hoạt để xử lý nhiều định dạng tệp và các tình huống dữ liệu không chuẩn.\n"
      ]
    },
    {
      "cell_type": "markdown",
      "metadata": {
        "id": "-t9ImdjmcsOm"
      },
      "source": [
        "## **1.1. Tổng Quan Các Hàm Đọc Dữ Liệu**\n",
        "Dưới đây là bảng liệt kê một số hàm phổ biến trong Pandas để đọc dữ liệu:"
      ]
    },
    {
      "cell_type": "markdown",
      "metadata": {
        "id": "E33sQ23ZSoKk"
      },
      "source": [
        "| STT | Hàm             | Mô tả                                                                 |\n",
        "|-----|-----------------|----------------------------------------------------------------------|\n",
        "| 1   | `read_csv`      | Đọc dữ liệu từ tệp CSV, phân tách bằng dấu phẩy (mặc định).          |\n",
        "| 2   | `read_table`    | Đọc dữ liệu phân tách bằng ký tự tab (`\\t`) (mặc định).              |\n",
        "| 3   | `read_fwf`      | Đọc dữ liệu có độ rộng cột cố định (không phân tách).                |\n",
        "| 4   | `read_clipboard`| Đọc dữ liệu từ clipboard (hữu ích khi sao chép bảng từ web).         |\n",
        "| 5   | `read_excel`    | Đọc dữ liệu từ tệp Excel (XLS/XLSX).                                 |\n",
        "| 6   | `read_json`     | Đọc dữ liệu từ chuỗi JSON.                                           |\n",
        "| 7   | `read_html`     | Đọc tất cả bảng từ tài liệu HTML.                                    |\n",
        "| 8   | `read_xml`      | Đọc bảng từ tệp XML.                                                 |\n",
        "| 9  | `read_sql`      | Đọc kết quả truy vấn SQL vào DataFrame.                              |\n"
      ]
    },
    {
      "cell_type": "markdown",
      "metadata": {
        "id": "93eRqwftTr8V"
      },
      "source": [
        "Các hàm này hỗ trợ suy luận kiểu dữ liệu (data type inference), tức là `Pandas` tự động xác định kiểu dữ liệu của các cột (số nguyên, số thực, chuỗi, v.v.). Tuy nhiên, trong một số trường hợp (như ngày tháng hoặc kiểu dữ liệu tùy chỉnh), cần chỉ định kiểu dữ liệu rõ ràng để tránh sai sót."
      ]
    },
    {
      "cell_type": "markdown",
      "metadata": {
        "id": "-jSfRQ81ZC00"
      },
      "source": [
        "## **1.2. Đọc Dữ Liệu CSV Cơ Bản**\n",
        "* CSV (Comma-Separated Values) là một tệp văn bản (plain text) chứa dữ liệu dạng bảng.\n",
        "\n",
        "* Mỗi dòng (row) trong file tương ứng với một bản ghi (record).\n",
        "\n",
        "* Các cột (column/field) trong một dòng được phân tách bằng dấu phẩy (,) hoặc ký tự phân tách khác như ;, \\t (tab).\n",
        "\n",
        "* Nói cách khác, CSV là cách lưu dữ liệu dạng bảng (giống Excel) nhưng dưới dạng text đơn giản.\n",
        "\n",
        "**Ví dụ:** file CSV ex1.csv\n",
        "\n",
        "> Diem 1,Diem 2,Diem 3,Diem 4,Nhan xet\n",
        "\n",
        ">1,2,3,4,Hoc luc yeu\n",
        "\n",
        ">5,6,7,8,Hoc luc trung binh kha\n",
        "\n",
        ">9,10,9,10,Hoc luc xuat sac\n",
        "\n",
        "\n",
        "\n",
        "\n",
        "\n",
        "Hàm `read_csv` là công cụ chính để đọc dữ liệu CSV.\n",
        "\n",
        "**Ví dụ:** Giả sử tệp `ex1.csv` được lưu tại [đường dẫn](https://github.com/tranhungemail/DSImageCourse/blob/main/ex1.csv)\n",
        "\n"
      ]
    },
    {
      "cell_type": "code",
      "execution_count": null,
      "metadata": {
        "colab": {
          "base_uri": "https://localhost:8080/",
          "height": 269
        },
        "id": "UXUhKEbeK5DE",
        "outputId": "910751dc-109d-44af-947e-3c9eebcab920"
      },
      "outputs": [
        {
          "data": {
            "text/markdown": [
              "|    |   Diem 1 |   Diem 2 |   Diem 3 |   Diem 4 | Nhan xet               |\n",
              "|---:|---------:|---------:|---------:|---------:|:-----------------------|\n",
              "|  0 |        1 |        2 |        3 |        4 | Hoc luc yeu            |\n",
              "|  1 |        5 |        6 |        7 |        8 | Hoc luc trung binh kha |\n",
              "|  2 |        9 |       10 |        9 |       10 | Hoc luc xuat sac       |\n",
              "|  3 |        5 |        6 |        5 |        6 | Trung binh             |\n",
              "|  4 |        4 |        6 |        5 |        6 | Trung Binh             |\n",
              "|  5 |        8 |        9 |        8 |        9 | Gioi                   |\n",
              "|  6 |        2 |        1 |        2 |        1 | Hoc luc yeu            |"
            ],
            "text/plain": [
              "<IPython.core.display.Markdown object>"
            ]
          },
          "metadata": {},
          "output_type": "display_data"
        }
      ],
      "source": [
        "#Code để đọc file ex1.csv để trên Github và hiển thị dưới dạng Markdown\n",
        "import pandas as pd\n",
        "from IPython.display import display, Markdown\n",
        "\n",
        "url = \"https://raw.githubusercontent.com/tranhungemail/DSImageCourse/main/ex1.csv\"\n",
        "df = pd.read_csv(url)\n",
        "# Hiển thị 10 dòng đầu tiên thành bảng Markdown\n",
        "display(Markdown(df.head(10).to_markdown()))\n"
      ]
    },
    {
      "cell_type": "code",
      "execution_count": null,
      "metadata": {
        "colab": {
          "base_uri": "https://localhost:8080/"
        },
        "id": "WoVN7u3iZy6V",
        "outputId": "46fda01a-91d9-4e90-f84a-b7fc1147bb94"
      },
      "outputs": [
        {
          "name": "stdout",
          "output_type": "stream",
          "text": [
            "   Diem 1  Diem 2  Diem 3  Diem 4                Nhan xet\n",
            "0       1       2       3       4             Hoc luc yeu\n",
            "1       5       6       7       8  Hoc luc trung binh kha\n",
            "2       9      10       9      10        Hoc luc xuat sac\n",
            "3       5       6       5       6              Trung binh\n",
            "4       4       6       5       6              Trung Binh\n",
            "5       8       9       8       9                    Gioi\n",
            "6       2       1       2       1             Hoc luc yeu\n"
          ]
        }
      ],
      "source": [
        "#Code để đọc file ex1.csv để trên Github\n",
        "import pandas as pd\n",
        "path = \"https://raw.githubusercontent.com/tranhungemail/DSImageCourse/main/ex1.csv\"\n",
        "df = pd.read_csv(path) # Đọc file CSV và tạo thành một dataframe\n",
        "print(df)"
      ]
    },
    {
      "cell_type": "markdown",
      "metadata": {
        "id": "q0eg41SmW5Ay"
      },
      "source": [
        "**Giải thích:**\n",
        "* `read_csv` mặc định hiểu dòng đầu tiên là tên cột (header).\n",
        "* Các cột được tự động suy luận kiểu dữ liệu: `Diem 1,Diem 2,Diem 3,Diem 4,Nhan xet` là số nguyên (`int`), message là chuỗi (`object`).\n",
        "* `DataFrame` được tạo với chỉ số mặc định (0, 1, 2)."
      ]
    },
    {
      "cell_type": "markdown",
      "metadata": {
        "id": "ELzKfiG0XUfy"
      },
      "source": [
        "## **1.3. Xử Lý Tệp Không Có Header**\n",
        "* Header trong CSV là dòng đầu tiên chứa tên cột.\n",
        "* Một số file CSV không có header, tức là dòng đầu tiên đã là dữ liệu luôn.\n",
        "**Ví dụ:**"
      ]
    },
    {
      "cell_type": "code",
      "execution_count": null,
      "metadata": {
        "colab": {
          "base_uri": "https://localhost:8080/"
        },
        "id": "F_m4Mh8xa1bn",
        "outputId": "1c85e4b0-2ece-4afb-b77c-104b9d512ccb"
      },
      "outputs": [
        {
          "name": "stdout",
          "output_type": "stream",
          "text": [
            "    0      1      2                      3  4\n",
            "0   1   2000   2000                But chi  1\n",
            "1   5   6000  30000             Vo ghi chu  2\n",
            "2   9  10000  90000        Hop but chi mau  3\n",
            "3   5   6000  30000  Hop but bi Thien Long  4\n",
            "4   4   5000  20000          But viet bang  5\n",
            "5   8   8000  64000           Note sticker  6\n",
            "6  10   2000  20000                But chi  1\n"
          ]
        }
      ],
      "source": [
        "#Code để đọc file ex2.csv để trên Github\n",
        "import pandas as pd\n",
        "path = \"https://raw.githubusercontent.com/tranhungemail/DSImageCourse/main/ex2.csv\"\n",
        "df = pd.read_csv(path,header=None) # Đọc file CSV và tạo thành một dataframe\n",
        "print(df)"
      ]
    },
    {
      "cell_type": "code",
      "execution_count": null,
      "metadata": {
        "colab": {
          "base_uri": "https://localhost:8080/"
        },
        "id": "VrfUqueAbPmV",
        "outputId": "7a56b0c7-6738-43bd-f12b-b616adde4514"
      },
      "outputs": [
        {
          "name": "stdout",
          "output_type": "stream",
          "text": [
            "Trước khi gán tên cho các cột\n",
            "    0      1      2                      3  4\n",
            "0   1   2000   2000                But chi  1\n",
            "1   5   6000  30000             Vo ghi chu  2\n",
            "2   9  10000  90000        Hop but chi mau  3\n",
            "3   5   6000  30000  Hop but bi Thien Long  4\n",
            "4   4   5000  20000          But viet bang  5\n",
            "5   8   8000  64000           Note sticker  6\n",
            "6  10   2000  20000                But chi  1\n",
            "\n",
            "\n",
            "\n",
            "\n",
            "===============Sau khi gán tên cho các cột=================\n",
            "   So luong  Don gia  Thanh tien           Ten san pham  ID\n",
            "0         1     2000        2000                But chi   1\n",
            "1         5     6000       30000             Vo ghi chu   2\n",
            "2         9    10000       90000        Hop but chi mau   3\n",
            "3         5     6000       30000  Hop but bi Thien Long   4\n",
            "4         4     5000       20000          But viet bang   5\n",
            "5         8     8000       64000           Note sticker   6\n",
            "6        10     2000       20000                But chi   1\n"
          ]
        }
      ],
      "source": [
        "#***Code (gán tên cột):***\n",
        "import pandas as pd\n",
        "\n",
        "print(\"Trước khi gán tên cho các cột\")\n",
        "path = \"https://raw.githubusercontent.com/tranhungemail/DSImageCourse/main/ex2.csv\"\n",
        "df_default_names = pd.read_csv(path,header=None)\n",
        "print(df_default_names)\n",
        "print(\"\\n\\n\\n\")\n",
        "print(\"===============Sau khi gán tên cho các cột=================\")\n",
        "names = [\"So luong\", \"Don gia\", \"Thanh tien\", \"Ten san pham\", \"ID\"]\n",
        "df_custom_names = pd.read_csv(path, names=names)\n",
        "print(df_custom_names)"
      ]
    },
    {
      "cell_type": "markdown",
      "metadata": {
        "id": "N1_WofoBfI4y"
      },
      "source": [
        "**Giải thích:**\n",
        "\n",
        "* `header=None`: Ngăn Pandas coi dòng đầu tiên là tiêu đề, thay vào đó gán chỉ số cột mặc định.\n",
        "* `names`: Cho phép chỉ định danh sách tên cột tùy chỉnh.\n",
        "* Sử dụng khi tệp CSV không có tiêu đề hoặc tiêu đề không phù hợp."
      ]
    },
    {
      "cell_type": "markdown",
      "metadata": {
        "id": "OfBYoS-ediNY"
      },
      "source": [
        "## **1.4. Gán chỉ số**\n",
        "###Xác định vị trí và truy cập nhanh\n",
        "\n",
        "* Chỉ số (`index`) giống như \"nhãn\" hoặc \"số thứ tự\" để xác định từng hàng trong bảng dữ liệu.\n",
        "\n",
        "* Khi có index rõ ràng, ta có thể dễ dàng lấy ra một hàng hoặc một tập con dữ liệu mà không cần duyệt toàn bộ bảng.\n",
        "* Ví dụ: trong pandas, nếu bạn có một `DataFrame` với index là ngày tháng, bạn có thể nhanh chóng lấy dữ liệu theo ngày \"2024-08-31\" thay vì phải lọc theo cột.\n",
        "\n",
        "###Dễ dàng sắp xếp và lọc\n",
        "\n",
        "* Index cho phép bạn sắp xếp dữ liệu theo thứ tự cụ thể (thời gian, ID, tên, …).\n",
        "\n",
        "* Ngoài ra, nhiều thao tác lọc hoặc slice dữ liệu (ví dụ: lấy từ dòng số 10 đến số 20, hoặc lấy từ ngày A đến ngày B) sẽ thuận tiện hơn nếu có index.\n",
        "\n",
        "###Tăng hiệu quả khi kết hợp dữ liệu\n",
        "\n",
        "* Khi làm việc với nhiều bảng (join/merge), index đóng vai trò như một khóa (key) để ghép dữ liệu.\n",
        "\n",
        "* Ví dụ: bảng sinh viên có index là student_id và bảng điểm cũng có student_id, ta có thể merge hai bảng dễ dàng.\n",
        "\n",
        "### Giúp dữ liệu có ý nghĩa và trực quan hơn\n",
        "\n",
        "* Nếu không có index, dữ liệu chỉ đơn thuần là các dòng số thứ tự 0,1,2,...\n",
        "\n",
        "* Khi gán index phù hợp (ví dụ: mã khách hàng, tên sản phẩm, ngày tháng), dữ liệu trở nên dễ đọc và dễ hiểu hơn.\n"
      ]
    },
    {
      "cell_type": "code",
      "execution_count": null,
      "metadata": {
        "colab": {
          "base_uri": "https://localhost:8080/"
        },
        "id": "vn7iZ0hjgGvC",
        "outputId": "3b1669b0-8a30-4b81-91af-f2beebcb3944"
      },
      "outputs": [
        {
          "name": "stdout",
          "output_type": "stream",
          "text": [
            "    So luong  Don gia  Thanh tien           Ten san pham\n",
            "ID                                                      \n",
            "1          1     2000        2000                But chi\n",
            "2          5     6000       30000             Vo ghi chu\n",
            "3          9    10000       90000        Hop but chi mau\n",
            "4          5     6000       30000  Hop but bi Thien Long\n",
            "5          4     5000       20000          But viet bang\n",
            "6          8     8000       64000           Note sticker\n",
            "1         10     2000       20000                But chi\n"
          ]
        }
      ],
      "source": [
        "import pandas as pd\n",
        "names = [\"So luong\", \"Don gia\", \"Thanh tien\", \"Ten san pham\", \"ID\"]\n",
        "\n",
        "path = \"https://raw.githubusercontent.com/tranhungemail/DSImageCourse/main/ex2.csv\"\n",
        "df_indexed = pd.read_csv(path, names=names, index_col=\"ID\") # Đánh index cho cột ID\n",
        "print(df_indexed)"
      ]
    },
    {
      "cell_type": "markdown",
      "metadata": {
        "id": "N8WI4nd0gvsp"
      },
      "source": [
        "**Giải thích:**\n",
        "\n",
        "* `index_col=\"ID\"`: Chỉ định cột `ID` làm chỉ số, thay vì chỉ số mặc định.\n",
        "* Chỉ số này giúp truy cập hàng dễ dàng hơn dựa trên giá trị của `ID`."
      ]
    },
    {
      "cell_type": "markdown",
      "metadata": {
        "id": "hbTS9Uhan1i6"
      },
      "source": [
        "## **1.5. Phân Tách Không Phải Dấu Phẩy**\n",
        "\n",
        "Không phải tệp văn bản nào cũng sử dụng dấu phẩy làm phân tách. Có thể chỉ định phân tách bằng tham số `sep`, hỗ trợ cả biểu thức chính quy (regular expression).\n",
        "\n",
        "**Ví dụ:** Tệp [ex3.txt](https://raw.githubusercontent.com/tranhungemail/DSImageCourse/main/ex3.txt) phân tách bằng khoảng trắng:\n",
        "\n",
        "A B C D\n",
        "\n",
        "aaa -0.264438 -1.026059 -0.619500\n",
        "\n",
        "bbb  0.927272  0.302904 -0.032399\n",
        "\n",
        "ccc -0.264273 -0.386314 -0.217601\n",
        "\n",
        "ddd -0.871858 -0.348382  1.100491"
      ]
    },
    {
      "cell_type": "code",
      "execution_count": null,
      "metadata": {
        "colab": {
          "base_uri": "https://localhost:8080/"
        },
        "id": "h6crKBgxqxQQ",
        "outputId": "b8ecbce4-0bbd-468e-8b36-e9d34037950e"
      },
      "outputs": [
        {
          "name": "stdout",
          "output_type": "stream",
          "text": [
            "            B         C         D\n",
            "A                                \n",
            "aaa -0.264438 -1.026059 -0.619500\n",
            "bbb  0.927272  0.302904 -0.032399\n",
            "ccc -0.264273 -0.386314 -0.217601\n",
            "ddd -0.871858 -0.348382  1.100491\n"
          ]
        }
      ],
      "source": [
        "#Code\n",
        "import pandas as pd\n",
        "path = \"https://raw.githubusercontent.com/tranhungemail/DSImageCourse/main/ex3.txt\"\n",
        "result = pd.read_csv(path,index_col=[\"A\"], sep=r\"\\s+\")\n",
        "print(result)"
      ]
    },
    {
      "cell_type": "markdown",
      "metadata": {
        "id": "ahq0wTu4q_e_"
      },
      "source": [
        "**Giải thích:**\n",
        "\n",
        "* `sep=r\"\\s+\"`: Sử dụng [biểu thức chính quy](https://viblo.asia/p/python-regex-Qbq5QMeE5D8) để khớp với một hoặc nhiều khoảng trắng.\n",
        "* `Pandas` nhận diện cột \"A\" làm chỉ số."
      ]
    },
    {
      "cell_type": "code",
      "execution_count": null,
      "metadata": {
        "colab": {
          "base_uri": "https://localhost:8080/"
        },
        "id": "JE_OrIKdzuIy",
        "outputId": "69b6fb43-7b49-4f0a-c002-7dd7e6660e3f"
      },
      "outputs": [
        {
          "name": "stdout",
          "output_type": "stream",
          "text": [
            "                                                                                            Hey!\n",
            "Diem 1                                            Diem 2   Diem 3 Diem 4                Nhan xet\n",
            "just wanted to make things more difficult for you NaN      NaN    NaN                        NaN\n",
            "who reads CSV files with computers                 anyway? NaN    NaN                        NaN\n",
            "1                                                 2        3      4                  Hoc luc yeu\n",
            "5                                                 6        7      8       Hoc luc trung binh kha\n",
            "9                                                 10       9      10            Hoc luc xuat sac\n",
            "5                                                 6        5      6                   Trung binh\n",
            "4                                                 6        5      6                   Trung Binh\n",
            "8                                                 9        8      9                         Gioi\n",
            "2                                                 1        2      1                  Hoc luc yeu\n",
            "\n",
            "\n",
            "=================Sau khi skip row [0, 2, 3] ================\n",
            "   Diem 1  Diem 2  Diem 3  Diem 4                Nhan xet\n",
            "0       1       2       3       4             Hoc luc yeu\n",
            "1       5       6       7       8  Hoc luc trung binh kha\n",
            "2       9      10       9      10        Hoc luc xuat sac\n",
            "3       5       6       5       6              Trung binh\n",
            "4       4       6       5       6              Trung Binh\n",
            "5       8       9       8       9                    Gioi\n",
            "6       2       1       2       1             Hoc luc yeu\n"
          ]
        }
      ],
      "source": [
        "import pandas as pd\n",
        "#Khi chưa skip row\n",
        "path=\"https://raw.githubusercontent.com/tranhungemail/DSImageCourse/main/ex4.csv\"\n",
        "df = pd.read_csv(path) # Đọc file và không đọc các row 0, 2, 3\n",
        "print(df)\n",
        "#Sau khi skip row 0, 2, 3\n",
        "print(\"\\n\")\n",
        "print(\"=================Sau khi skip row [0, 2, 3] ================\")\n",
        "path=\"https://raw.githubusercontent.com/tranhungemail/DSImageCourse/main/ex4.csv\"\n",
        "df_skip = pd.read_csv(path, skiprows=[0, 2, 3]) # Đọc file và không đọc các file tại row 0, 2, 3\n",
        "print(df_skip)"
      ]
    },
    {
      "cell_type": "markdown",
      "metadata": {
        "id": "0kaVaX0uz5ER"
      },
      "source": [
        "**Giải thích:**\n",
        "* `skiprows=[0, 2, 3]`: Bỏ qua các dòng 0, 2, và 3.\n",
        "* Pandas chỉ đọc các dòng chứa dữ liệu thực tế, giữ nguyên tiêu đề."
      ]
    },
    {
      "cell_type": "code",
      "execution_count": null,
      "metadata": {
        "colab": {
          "base_uri": "https://localhost:8080/"
        },
        "id": "rEhT9mdk0gmQ",
        "outputId": "4d4a33ab-a319-4a16-a97f-6c2456be90f5"
      },
      "outputs": [
        {
          "name": "stdout",
          "output_type": "stream",
          "text": [
            "  Ho va ten  Diem_Toan  Diem_Van  Diem_Anh  Diem_Ly            Ghi_chu\n",
            "0        An         88      85.0      65.0     96.0                NaN\n",
            "1      Bình         92      57.0      98.0     52.0  Ko co gi dac biet\n",
            "2       Chi         51      73.0       NaN     87.0                NaN\n",
            "3      D?ng         91      90.0      56.0     95.0                NaN\n",
            "4        Hà         67      99.0      86.0     76.0                NaN\n",
            "5      H?nh         76       NaN      72.0     90.0                NaN\n",
            "6     Khánh         58      69.0      60.0     88.0                NaN\n",
            "7       Lan         90      93.0      75.0      NaN                NaN\n",
            "8      Minh         95      72.0      91.0     67.0                NaN\n",
            "9      Ng?c         97      80.0      78.0     94.0                NaN\n"
          ]
        }
      ],
      "source": [
        "#Code dữ liệu thiếu được hiển thị dưới dạng NaN\n",
        "import pandas as pd\n",
        "path = \"https://raw.githubusercontent.com/tranhungemail/DSImageCourse/main/ex5.csv\"\n",
        "df = pd.read_csv(path, encoding='latin-1')\n",
        "print(df)"
      ]
    },
    {
      "cell_type": "markdown",
      "metadata": {
        "id": "bxFc_Bwf38yI"
      },
      "source": [
        "# **2. Đọc Dữ Liệu Từ JSON**\n",
        "\n",
        "* JSON là một định dạng dữ liệu dựa trên văn bản và có thể được sử dụng với hầu hết các ngôn ngữ lập trình (Python, Java, C#, PHP, v.v.).\n",
        "\n",
        "* JSON được sử dụng để biểu diễn dữ liệu có cấu trúc, thường ở dạng cặp key-value (khóa-giá trị) hoặc danh sách các giá trị.\n",
        "* Ví dụ đơn giản về JSON:\n",
        "\n",
        "\n",
        "```\n",
        "{\n",
        "  \"name\": \"Nguyen Van A\",\n",
        "  \"age\": 25,\n",
        "  \"isStudent\": true,\n",
        "  \"hobbies\": [\"reading\", \"coding\", \"traveling\"],\n",
        "  \"address\": {\n",
        "    \"street\": \"123 Le Loi\",\n",
        "    \"city\": \"Hanoi\"\n",
        "  }\n",
        "}\n",
        "```\n",
        "\n",
        "* `\"name\", \"age\", \"isStudent\", \"hobbies\", \"address\"` là các **key**.\n",
        "* `\"Nguyen Van A\", 25, true, [\"reading\", \"coding\", \"traveling\"]`, và đối tượng `{ \"street\": \"123 Le Loi\", \"city\": \"Hanoi\" }` là các **value**.\n",
        "\n"
      ]
    },
    {
      "cell_type": "markdown",
      "metadata": {
        "id": "jk1jFObbpS3c"
      },
      "source": [
        "## **2.1. Cấu trúc của JSON**\n",
        "\n",
        "JSON có hai cấu trúc chính: Object (đối tượng), Array (mảng).\n",
        "\n",
        "**2.1.1. Object (Đối tượng):**\n",
        "\n",
        "* Là tập hợp các cặp key-value được bao quanh bởi dấu {}.\n",
        "* Key là một chuỗi (string) được bao quanh bởi dấu nháy kép (\"\").\n",
        "\n",
        "* Value có thể là:\n",
        "\n",
        "  * Chuỗi (string): \"Hello\"\n",
        "  * Số (number): 42 hoặc 3.14\n",
        "  * Boolean: true hoặc false\n",
        "  * Mảng (array): [\"item1\", \"item2\"]\n",
        "  * Đối tượng (object): { \"key\": \"value\" }\n",
        "  * Giá trị null: null\n",
        "\n",
        "* Các cặp key-value được phân tách bởi dấu phẩy (,).\n",
        "\n",
        "**2.1.2. Array (Mảng):**\n",
        "\n",
        "* Là danh sách các giá trị được bao quanh bởi dấu [].\n",
        "\n",
        "* Các giá trị trong mảng có thể thuộc bất kỳ kiểu dữ liệu nào được JSON hỗ trợ `(string, number, object, array, boolean, null)`.\n",
        "* Các giá trị được phân tách bởi dấu phẩy."
      ]
    },
    {
      "cell_type": "markdown",
      "metadata": {
        "id": "VDyrRZJ9rCFF"
      },
      "source": [
        "## 2.2. Đọc dữ liệu từ tệp JSON\n",
        "Dữ liệu từ tệp JSON được lưu tại có tên [student.json](https://raw.githubusercontent.com/tranhungemail/DSImageCourse/main/student.json)\n"
      ]
    },
    {
      "cell_type": "code",
      "execution_count": null,
      "metadata": {
        "colab": {
          "base_uri": "https://localhost:8080/"
        },
        "id": "3H-mX6iB4KJt",
        "outputId": "f811b448-31d4-4716-a4cf-8599fc437ecd"
      },
      "outputs": [
        {
          "output_type": "stream",
          "name": "stdout",
          "text": [
            "     ten  diem_toan  diem_van  diem_anh  diem_ly\n",
            "0     An         85      78.0      90.0     65.0\n",
            "1   Binh         70      88.0       NaN     74.0\n",
            "2    Chi         92       NaN      80.0    100.0\n",
            "3   Dung         60      72.0      85.0     90.0\n",
            "4     Ha         75      95.0      78.0     82.0\n",
            "5   Hanh         88      91.0      92.0      NaN\n",
            "6  Khanh         55      67.0      70.0     73.0\n",
            "7    Lan         95       NaN      88.0     97.0\n",
            "8   Minh         81      76.0      84.0      NaN\n",
            "9   Ngoc        100      89.0      95.0     98.0\n"
          ]
        }
      ],
      "source": [
        "[\n",
        "  {\"ten\": \"An\",   \"diem_toan\": 85, \"diem_van\": 78, \"diem_anh\": 90, \"diem_ly\": 65},\n",
        "  {\"ten\": \"Binh\", \"diem_toan\": 70, \"diem_van\": 88, \"diem_anh\": \"null\", \"diem_ly\": 74},\n",
        "  {\"ten\": \"Chi\",  \"diem_toan\": 92, \"diem_van\": \"null\", \"diem_anh\": 80, \"diem_ly\": 100},\n",
        "  {\"ten\": \"Dung\", \"diem_toan\": 60, \"diem_van\": 72, \"diem_anh\": 85, \"diem_ly\": 90},\n",
        "  {\"ten\": \"Ha\",   \"diem_toan\": 75, \"diem_van\": 95, \"diem_anh\": 78, \"diem_ly\": 82},\n",
        "  {\"ten\": \"Hanh\", \"diem_toan\": 88, \"diem_van\": 91, \"diem_anh\": 92, \"diem_ly\": \"null\"},\n",
        "  {\"ten\": \"Khanh\",\"diem_toan\": 55, \"diem_van\": 67, \"diem_anh\": 70, \"diem_ly\": 73},\n",
        "  {\"ten\": \"Lan\",  \"diem_toan\": 95, \"diem_van\": \"null\", \"diem_anh\": 88, \"diem_ly\": 97},\n",
        "  {\"ten\": \"Minh\", \"diem_toan\": 81, \"diem_van\": 76, \"diem_anh\": 84, \"diem_ly\": \"null\"},\n",
        "  {\"ten\": \"Ngoc\", \"diem_toan\": 100, \"diem_van\": 89, \"diem_anh\": 95, \"diem_ly\": 98}\n",
        "]\n",
        "\n",
        "import pandas as pd\n",
        "path = \"https://raw.githubusercontent.com/tranhungemail/DSImageCourse/main/student.json\"\n",
        "df_json = pd.read_json(path)\n",
        "print(df_json)\n"
      ]
    },
    {
      "cell_type": "markdown",
      "metadata": {
        "id": "pZ2lh1lB5Eqk"
      },
      "source": [
        "**Giải thích:**\n",
        "\n",
        "* `read_json` tự động ánh xạ các khóa `JSON` thành cột của `DataFrame`.\n",
        "\n",
        "* `JSON` phải có cấu trúc phù hợp (danh sách các đối tượng với các khóa nhất quán).\n"
      ]
    },
    {
      "cell_type": "code",
      "execution_count": null,
      "metadata": {
        "colab": {
          "base_uri": "https://localhost:8080/"
        },
        "id": "xVjAwUYZv_Kq",
        "outputId": "3ec866be-f6ff-4a79-92a7-8ee6d0f8d3f2"
      },
      "outputs": [
        {
          "name": "stdout",
          "output_type": "stream",
          "text": [
            "Dữ liệu gốc:\n",
            "      ten  diem_toan  diem_van  diem_anh  diem_ly\n",
            "0     An         85      78.0      90.0     65.0\n",
            "1   Binh         70      88.0       NaN     74.0\n",
            "2    Chi         92       NaN      80.0    100.0\n",
            "3   Dung         60      72.0      85.0     90.0\n",
            "4     Ha         75      95.0      78.0     82.0\n",
            "5   Hanh         88      91.0      92.0      NaN\n",
            "6  Khanh         55      67.0      70.0     73.0\n",
            "7    Lan         95       NaN      88.0     97.0\n",
            "8   Minh         81      76.0      84.0      NaN\n",
            "9   Ngoc        100      89.0      95.0     98.0 \n",
            "\n",
            "Loai bo hang co NaN:\n",
            "      ten  diem_toan  diem_van  diem_anh  diem_ly\n",
            "0     An         85      78.0      90.0     65.0\n",
            "3   Dung         60      72.0      85.0     90.0\n",
            "4     Ha         75      95.0      78.0     82.0\n",
            "6  Khanh         55      67.0      70.0     73.0\n",
            "9   Ngoc        100      89.0      95.0     98.0\n"
          ]
        }
      ],
      "source": [
        "import pandas as pd\n",
        "# Dữ liệu chưa loại bỏ NaN\n",
        "path = \"https://raw.githubusercontent.com/tranhungemail/DSImageCourse/main/student.json\"\n",
        "df_json = pd.read_json(path)\n",
        "print(\"Dữ liệu gốc:\\n\", df_json, \"\\n\")\n",
        "\n",
        "df_drop = df_json.dropna()\n",
        "print(\"Loai bo hang co NaN:\\n\", df_drop)"
      ]
    },
    {
      "cell_type": "code",
      "execution_count": null,
      "metadata": {
        "colab": {
          "base_uri": "https://localhost:8080/"
        },
        "id": "8daTNcxgs_08",
        "outputId": "5b358271-89c6-4fe7-a334-f64fb8f685bd"
      },
      "outputs": [
        {
          "name": "stdout",
          "output_type": "stream",
          "text": [
            "Dữ liệu gốc:\n",
            "      ten  diem_toan  diem_van  diem_anh  diem_ly\n",
            "0     An         85      78.0      90.0     65.0\n",
            "1   Binh         70      88.0       NaN     74.0\n",
            "2    Chi         92       NaN      80.0    100.0\n",
            "3   Dung         60      72.0      85.0     90.0\n",
            "4     Ha         75      95.0      78.0     82.0\n",
            "5   Hanh         88      91.0      92.0      NaN\n",
            "6  Khanh         55      67.0      70.0     73.0\n",
            "7    Lan         95       NaN      88.0     97.0\n",
            "8   Minh         81      76.0      84.0      NaN\n",
            "9   Ngoc        100      89.0      95.0     98.0 \n",
            "\n",
            "\n",
            "============================\n",
            "\n",
            "Điền dữ liệu thiếu bằng forward fill\n",
            "     ten  diem_toan  diem_van  diem_anh  diem_ly\n",
            "0     An         85      78.0      90.0     65.0\n",
            "1   Binh         70      88.0      90.0     74.0\n",
            "2    Chi         92      88.0      80.0    100.0\n",
            "3   Dung         60      72.0      85.0     90.0\n",
            "4     Ha         75      95.0      78.0     82.0\n",
            "5   Hanh         88      91.0      92.0     82.0\n",
            "6  Khanh         55      67.0      70.0     73.0\n",
            "7    Lan         95      67.0      88.0     97.0\n",
            "8   Minh         81      76.0      84.0     97.0\n",
            "9   Ngoc        100      89.0      95.0     98.0\n"
          ]
        },
        {
          "name": "stderr",
          "output_type": "stream",
          "text": [
            "/tmp/ipython-input-2095588677.py:9: FutureWarning: DataFrame.fillna with 'method' is deprecated and will raise in a future version. Use obj.ffill() or obj.bfill() instead.\n",
            "  df_ffill = df_json.fillna(method=\"ffill\")\n"
          ]
        }
      ],
      "source": [
        "import pandas as pd\n",
        "# Dữ liệu chưa loại bỏ NaN\n",
        "path = \"https://raw.githubusercontent.com/tranhungemail/DSImageCourse/main/student.json\"\n",
        "df_json = pd.read_json(path)\n",
        "print(\"Dữ liệu gốc:\\n\", df_json, \"\\n\")\n",
        "\n",
        "print(\"\\n============================\\n\")\n",
        "print(\"Điền dữ liệu thiếu bằng forward fill\")\n",
        "df_ffill = df_json.fillna(method=\"ffill\")\n",
        "print(df_ffill)"
      ]
    },
    {
      "cell_type": "markdown",
      "metadata": {
        "id": "mXqGsMegwgfp"
      },
      "source": [
        "# **3. Đọc dữ liệu từ web**\n",
        "* Thư viện pandas hỗ trợ đọc dữ liệu dạng bảng trực tiếp từ nhiều nguồn: file CSV, Excel, SQL, và thậm chí cả trang web (HTML table).\n",
        "* Hàm pd.read_html(url) sẽ tự động tìm kiếm tất cả các bảng `<table>` trong trang web và đưa chúng về dưới dạng DataFrame."
      ]
    },
    {
      "cell_type": "code",
      "execution_count": null,
      "metadata": {
        "colab": {
          "base_uri": "https://localhost:8080/"
        },
        "id": "siHgVJOx5kY9",
        "outputId": "fe797cfd-db64-42a8-b262-cb60c9f0b47b"
      },
      "outputs": [
        {
          "name": "stdout",
          "output_type": "stream",
          "text": [
            "Số bảng tìm thấy: 1\n",
            "                               Bank Name          City         State   Cert  \\\n",
            "0           The Santa Anna National Bank    Santa Anna         Texas   5520   \n",
            "1                   Pulaski Savings Bank       Chicago      Illinois  28611   \n",
            "2     The First National Bank of Lindsay       Lindsay      Oklahoma   4134   \n",
            "3  Republic First Bank dba Republic Bank  Philadelphia  Pennsylvania  27332   \n",
            "4                          Citizens Bank      Sac City          Iowa   8758   \n",
            "\n",
            "               Acquiring Institution      Closing Date  Fund  Sort ascending  \n",
            "0          Coleman County State Bank     June 27, 2025                 10549  \n",
            "1                    Millennium Bank  January 17, 2025                 10548  \n",
            "2             First Bank & Trust Co.  October 18, 2024                 10547  \n",
            "3  Fulton Bank, National Association    April 26, 2024                 10546  \n",
            "4          Iowa Trust & Savings Bank  November 3, 2023                 10545  \n"
          ]
        }
      ],
      "source": [
        "import pandas as pd\n",
        "\n",
        "# URL chứa bảng HTML cần lấy\n",
        "url = \"https://www.fdic.gov/resources/resolutions/bank-failures/failed-bank-list/\"\n",
        "\n",
        "# Tìm và đọc tất cả các bảng trong trang web\n",
        "tables = pd.read_html(url)\n",
        "\n",
        "# Kiểm tra có bao nhiêu bảng được tìm thấy\n",
        "print(f\"Số bảng tìm thấy: {len(tables)}\")\n",
        "\n",
        "# Chọn bảng đầu tiên (thường là bảng dữ liệu chính)\n",
        "failures = tables[0]\n",
        "\n",
        "# Xem 5 dòng đầu tiên\n",
        "print(failures.head())\n"
      ]
    },
    {
      "cell_type": "markdown",
      "metadata": {
        "id": "DFqamPVwy6lQ"
      },
      "source": [
        "## 3.1. Kiểm tra dữ liệu thiếu"
      ]
    },
    {
      "cell_type": "code",
      "execution_count": null,
      "metadata": {
        "colab": {
          "base_uri": "https://localhost:8080/"
        },
        "id": "WLDGB2K7zV8G",
        "outputId": "d40fae5a-a74f-4634-9545-2e094f1c097b"
      },
      "outputs": [
        {
          "name": "stdout",
          "output_type": "stream",
          "text": [
            "Số bảng tìm thấy: 1\n",
            "Bank Name                0\n",
            "City                     0\n",
            "State                    0\n",
            "Cert                     0\n",
            "Acquiring Institution    0\n",
            "Closing Date             0\n",
            "Fund  Sort ascending     0\n",
            "dtype: int64\n"
          ]
        }
      ],
      "source": [
        "import pandas as pd\n",
        "\n",
        "# URL chứa bảng HTML cần lấy\n",
        "url = \"https://www.fdic.gov/resources/resolutions/bank-failures/failed-bank-list/\"\n",
        "\n",
        "# Tìm và đọc tất cả các bảng trong trang web\n",
        "tables = pd.read_html(url)\n",
        "\n",
        "# Kiểm tra có bao nhiêu bảng được tìm thấy\n",
        "print(f\"Số bảng tìm thấy: {len(tables)}\")\n",
        "\n",
        "# Chọn bảng đầu tiên (thường là bảng dữ liệu chính)\n",
        "failures = tables[0]\n",
        "\n",
        "print(failures.isnull().sum())"
      ]
    },
    {
      "cell_type": "markdown",
      "metadata": {
        "id": "tqnTFvJRzfRA"
      },
      "source": [
        "## 3.2. Lưu dữ liệu ra file CSV để phân tích sau"
      ]
    },
    {
      "cell_type": "code",
      "execution_count": null,
      "metadata": {
        "colab": {
          "base_uri": "https://localhost:8080/"
        },
        "id": "YRW-Pbe-zmmJ",
        "outputId": "f557da6a-7a3d-45f8-8817-f224bdf5d943"
      },
      "outputs": [
        {
          "name": "stdout",
          "output_type": "stream",
          "text": [
            "Số bảng tìm thấy: 1\n",
            "Lưu thành công ra file CSV\n"
          ]
        }
      ],
      "source": [
        "import pandas as pd\n",
        "\n",
        "# URL chứa bảng HTML cần lấy\n",
        "url = \"https://www.fdic.gov/resources/resolutions/bank-failures/failed-bank-list/\"\n",
        "\n",
        "# Tìm và đọc tất cả các bảng trong trang web\n",
        "tables = pd.read_html(url)\n",
        "\n",
        "# Kiểm tra có bao nhiêu bảng được tìm thấy\n",
        "print(f\"Số bảng tìm thấy: {len(tables)}\")\n",
        "\n",
        "# Chọn bảng đầu tiên (thường là bảng dữ liệu chính)\n",
        "failures = tables[0]\n",
        "\n",
        "failures.to_csv(\"bank_failures.csv\", index=False, encoding=\"utf-8\")\n",
        "print(\"Lưu thành công ra file CSV\")"
      ]
    },
    {
      "cell_type": "markdown",
      "metadata": {
        "id": "z9mAuGAL55at"
      },
      "source": [
        "## 3.3. Đếm số ngân hàng phá sản theo năm:"
      ]
    },
    {
      "cell_type": "code",
      "execution_count": null,
      "metadata": {
        "colab": {
          "base_uri": "https://localhost:8080/"
        },
        "id": "s1U_DwQZ5_a7",
        "outputId": "03f992b4-88d7-44ab-e984-5792113732a0"
      },
      "outputs": [
        {
          "name": "stdout",
          "output_type": "stream",
          "text": [
            "Số bảng tìm thấy: 1\n",
            "Year\n",
            "2017    8\n",
            "2019    4\n",
            "2020    4\n",
            "2023    5\n",
            "2024    2\n",
            "2025    2\n",
            "Name: count, dtype: int64\n"
          ]
        }
      ],
      "source": [
        "import pandas as pd\n",
        "\n",
        "# URL chứa bảng HTML cần lấy\n",
        "url = \"https://www.fdic.gov/resources/resolutions/bank-failures/failed-bank-list/\"\n",
        "\n",
        "# Tìm và đọc tất cả các bảng trong trang web\n",
        "tables = pd.read_html(url)\n",
        "\n",
        "# Kiểm tra có bao nhiêu bảng được tìm thấy\n",
        "print(f\"Số bảng tìm thấy: {len(tables)}\")\n",
        "\n",
        "# Chọn bảng đầu tiên (thường là bảng dữ liệu chính)\n",
        "failures = tables[0]\n",
        "\n",
        "failures[\"Closing Date\"] = pd.to_datetime(failures[\"Closing Date\"])\n",
        "failures[\"Year\"] = failures[\"Closing Date\"].dt.year\n",
        "print(failures[\"Year\"].value_counts().sort_index())"
      ]
    },
    {
      "cell_type": "markdown",
      "metadata": {
        "id": "TQwc_Ean85px"
      },
      "source": [
        "# **4. Đọc Dữ Liệu Từ XML (RSS Feed)**\n",
        "\n",
        "**XML (Extensible Markup Language):** Là một ngôn ngữ đánh dấu dùng để lưu trữ và truyền tải dữ liệu theo cấu trúc cây, sử dụng các thẻ (tag) tùy chỉnh để mô tả dữ liệu.\n"
      ]
    },
    {
      "cell_type": "markdown",
      "metadata": {
        "id": "3WumpwG6xtbW"
      },
      "source": [
        "## **4.1. XML và RSS Feed là gì?**\n",
        "\n",
        "\n",
        "**Ví dụ:**\n",
        "```\n",
        "<item>\n",
        "    <title>Tin tức mới nhất</title>\n",
        "    <description>Nội dung tóm tắt...</description>\n",
        "    <link>https://example.com/news</link>\n",
        "</item>\n",
        "```\n",
        "**RSS Feed (Really Simple Syndication):**\n",
        "\n",
        "* Là một dạng tệp XML được sử dụng để cung cấp nội dung cập nhật tự động từ các trang web (như blog, tin tức, podcast).\n",
        "\n",
        "* RSS Feed thường có cấu trúc chuẩn với các thẻ như `<channel>, <item>, <title>, <link>, <description>`, v.v.\n",
        "\n",
        "* Một RSS Feed điển hình có dạng như sau:\n",
        "```\n",
        "<?xml version=\"1.0\" encoding=\"UTF-8\"?>\n",
        "<rss version=\"2.0\">\n",
        "    <channel>\n",
        "        <title>Tên trang web</title>\n",
        "        <link>https://example.com</link>\n",
        "        <description>Mô tả trang web</description>\n",
        "        <item>\n",
        "            <title>Tiêu đề bài viết 1</title>\n",
        "            <link>https://example.com/post1</link>\n",
        "            <description>Tóm tắt bài viết 1</description>\n",
        "            <pubDate>Mon, 24 Aug 2025 11:00:00 GMT</pubDate>\n",
        "        </item>\n",
        "        <item>\n",
        "            <title>Tiêu đề bài viết 2</title>\n",
        "            <link>https://example.com/post2</link>\n",
        "            <description>Tóm tắt bài viết 2</description>\n",
        "            <pubDate>Mon, 24 Aug 2025 10:00:00 GMT</pubDate>\n",
        "        </item>\n",
        "    </channel>\n",
        "</rss>\n",
        "```\n",
        "\n",
        "* `XML` thường được sử dụng trong các nguồn cấp `RSS`.\n",
        "* Sử dụng `BeautifulSoup` để phân tích `XML` và chuyển thành `DataFrame`.\n"
      ]
    },
    {
      "cell_type": "markdown",
      "metadata": {
        "id": "E9voekbSwtsQ"
      },
      "source": [
        "\n",
        "## **4.2. Ví dụ: Đọc RSS từ CafeF về thị trường chứng khoán**\n",
        "* BeautifulSoup phân tích XML, trích xuất các thẻ <item> và các trường như title, link."
      ]
    },
    {
      "cell_type": "code",
      "execution_count": null,
      "metadata": {
        "colab": {
          "base_uri": "https://localhost:8080/"
        },
        "id": "IIoSl3wR9GrJ",
        "outputId": "9b000ea6-ddf0-470f-85e0-96a5584b5d63"
      },
      "outputs": [
        {
          "output_type": "stream",
          "name": "stdout",
          "text": [
            "                                               title  \\\n",
            "0  Đường Man của đại gia Đường ‘bia’ báo nợ phải ...   \n",
            "1  Chậm thanh toán trái phiếu, BKAV Pro bị kiểm t...   \n",
            "2  Luật sư nói về vụ Vingroup khởi kiện 68 tổ chứ...   \n",
            "3  Các “ông lớn” chứng khoán không đứng ngoài sân...   \n",
            "4  Điều gì đằng sau những thông tin sai lệch về V...   \n",
            "\n",
            "                                                link  \\\n",
            "0  https://cafef.vn/duong-man-cua-dai-gia-duong-b...   \n",
            "1  https://cafef.vn/cham-thanh-toan-trai-phieu-bk...   \n",
            "2  https://cafef.vn/luat-su-noi-ve-vu-vingroup-kh...   \n",
            "3  https://cafef.vn/cac-ong-lon-chung-khoan-khong...   \n",
            "4  https://cafef.vn/dieu-gi-dang-sau-nhung-thong-...   \n",
            "\n",
            "                         pubDate  \\\n",
            "0  Wed, 10 Sep 25 15:10:00 +0700   \n",
            "1  Wed, 10 Sep 25 15:10:00 +0700   \n",
            "2  Wed, 10 Sep 25 13:59:00 +0700   \n",
            "3  Wed, 10 Sep 25 13:48:00 +0700   \n",
            "4  Wed, 10 Sep 25 12:30:00 +0700   \n",
            "\n",
            "                                         description  \n",
            "0  <a href=\"https://cafef.vn/duong-man-cua-dai-gi...  \n",
            "1  <a href=\"https://cafef.vn/cham-thanh-toan-trai...  \n",
            "2  <a href=\"https://cafef.vn/luat-su-noi-ve-vu-vi...  \n",
            "3  <a href=\"https://cafef.vn/cac-ong-lon-chung-kh...  \n",
            "4  <a href=\"https://cafef.vn/dieu-gi-dang-sau-nhu...  \n"
          ]
        }
      ],
      "source": [
        "# Import các thư viện cần thiết\n",
        "import requests                      # Thư viện dùng để gửi HTTP request (GET, POST, …)\n",
        "from bs4 import BeautifulSoup        # Thư viện phân tích cú pháp HTML/XML\n",
        "\n",
        "import pandas as pd                  # Thư viện xử lý dữ liệu dạng bảng\n",
        "\n",
        "# Đường dẫn đến RSS feed (nguồn tin thị trường chứng khoán trên CafeF)\n",
        "url = \"https://cafef.vn/thi-truong-chung-khoan.rss\"\n",
        "\n",
        "# Gửi HTTP GET request đến URL để lấy nội dung RSS\n",
        "res = requests.get(url)\n",
        "\n",
        "# Parse (phân tích cú pháp) nội dung RSS theo định dạng XML\n",
        "# res.content là dữ liệu dạng bytes trả về từ server\n",
        "soup = BeautifulSoup(res.content, 'xml')\n",
        "\n",
        "# Khởi tạo danh sách rỗng để lưu dữ liệu các bản tin\n",
        "data = []\n",
        "\n",
        "# Duyệt qua tất cả các thẻ <item> trong RSS (mỗi item là 1 bản tin)\n",
        "for item in soup.find_all('item'):\n",
        "    # Với mỗi bản tin, trích xuất ra 4 trường cơ bản:\n",
        "    # - title: tiêu đề bài viết\n",
        "    # - link: đường dẫn đến bài viết gốc\n",
        "    # - pubDate: ngày giờ xuất bản\n",
        "    # - description: mô tả ngắn gọn nội dung bài viết\n",
        "    data.append({\n",
        "        'title': item.find('title').text,               # Lấy text bên trong thẻ <title>\n",
        "        'link': item.find('link').text,                 # Lấy text bên trong thẻ <link>\n",
        "        'pubDate': item.find('pubDate').text,           # Lấy text bên trong thẻ <pubDate>\n",
        "        'description': item.find('description').text    # Lấy text bên trong thẻ <description>\n",
        "    })\n",
        "\n",
        "# Chuyển danh sách dict thành DataFrame của pandas để dễ xử lý và phân tích\n",
        "df_rss = pd.DataFrame(data)\n",
        "\n",
        "# In ra 5 dòng đầu tiên để kiểm tra\n",
        "print(df_rss.head())\n"
      ]
    },
    {
      "cell_type": "markdown",
      "metadata": {
        "id": "ghsvoiUsgIji"
      },
      "source": [
        "## **4.3. Lọc thông tin về Vietnam Airlines:**\n",
        "* `str.contains` lọc các hàng có chứa \"vietnam airlines\" (không phân biệt hoa thường).\n",
        "* RSS là nguồn dữ liệu động, phù hợp để theo dõi tin tức thời sự."
      ]
    },
    {
      "cell_type": "code",
      "execution_count": 1,
      "metadata": {
        "colab": {
          "base_uri": "https://localhost:8080/"
        },
        "id": "VwqCe88PM-gs",
        "outputId": "c7840001-3a05-4073-bd19-5b0210b9e52a"
      },
      "outputs": [
        {
          "output_type": "stream",
          "name": "stdout",
          "text": [
            "                                                 title  \\\n",
            "111  Cấm dùng pin sạc dự phòng trên máy bay Vietnam...   \n",
            "\n",
            "                                                  link  \\\n",
            "111  https://cafef.vn/cam-dung-pin-sac-du-phong-tre...   \n",
            "\n",
            "                           pubDate  \\\n",
            "111  Tue, 09 Sep 25 16:38:00 +0700   \n",
            "\n",
            "                                           description  \n",
            "111  <a href=\"https://cafef.vn/cam-dung-pin-sac-du-...  \n"
          ]
        }
      ],
      "source": [
        "# Import các thư viện cần thiết\n",
        "import requests                      # Thư viện dùng để gửi HTTP request (GET, POST, …)\n",
        "from bs4 import BeautifulSoup        # Thư viện phân tích cú pháp HTML/XML\n",
        "\n",
        "import pandas as pd                  # Thư viện xử lý dữ liệu dạng bảng\n",
        "\n",
        "# Đường dẫn đến RSS feed (nguồn tin thị trường chứng khoán trên CafeF)\n",
        "url = \"https://cafef.vn/thi-truong-chung-khoan.rss\"\n",
        "\n",
        "# Gửi HTTP GET request đến URL để lấy nội dung RSS\n",
        "res = requests.get(url)\n",
        "\n",
        "# Parse (phân tích cú pháp) nội dung RSS theo định dạng XML\n",
        "# res.content là dữ liệu dạng bytes trả về từ server\n",
        "soup = BeautifulSoup(res.content, 'xml')\n",
        "\n",
        "# Khởi tạo danh sách rỗng để lưu dữ liệu các bản tin\n",
        "data = []\n",
        "\n",
        "# Duyệt qua tất cả các thẻ <item> trong RSS (mỗi item là 1 bản tin)\n",
        "for item in soup.find_all('item'):\n",
        "    # Với mỗi bản tin, trích xuất ra 4 trường cơ bản:\n",
        "    # - title: tiêu đề bài viết\n",
        "    # - link: đường dẫn đến bài viết gốc\n",
        "    # - pubDate: ngày giờ xuất bản\n",
        "    # - description: mô tả ngắn gọn nội dung bài viết\n",
        "    data.append({\n",
        "        'title': item.find('title').text,               # Lấy text bên trong thẻ <title>\n",
        "        'link': item.find('link').text,                 # Lấy text bên trong thẻ <link>\n",
        "        'pubDate': item.find('pubDate').text,           # Lấy text bên trong thẻ <pubDate>\n",
        "        'description': item.find('description').text    # Lấy text bên trong thẻ <description>\n",
        "    })\n",
        "\n",
        "# Chuyển danh sách dict thành DataFrame của pandas để dễ xử lý và phân tích\n",
        "df_rss = pd.DataFrame(data)\n",
        "\n",
        "#Lọc thông tin về Vietnam Airlines:\n",
        "df_hvn = df_rss[df_rss['title'].str.contains('vietnam airlines', case=False, na=False)]\n",
        "print(df_hvn)"
      ]
    },
    {
      "cell_type": "markdown",
      "metadata": {
        "id": "TGjTmq99RWha"
      },
      "source": [
        "# **5. Đọc và Ghi Dữ Liệu Từ Microsoft Excel**\n",
        "\n",
        "* Pandas hỗ trợ đọc/ghi tệp Excel (XLS/XLSX) qua openpyxl (cho XLSX) và xlrd (cho XLS).\n",
        "* Cần cài đặt: `pip install openpyxl xlrd`."
      ]
    },
    {
      "cell_type": "markdown",
      "metadata": {
        "id": "sw3HwnqCs9OC"
      },
      "source": [
        "## 5.1. Ví dụ 11: Đọc tệp Excel"
      ]
    },
    {
      "cell_type": "code",
      "execution_count": null,
      "metadata": {
        "colab": {
          "base_uri": "https://localhost:8080/"
        },
        "id": "kdL3ZyZ0YYJL",
        "outputId": "b6eb6ec6-f6b5-4214-d575-f1ac3254bc46"
      },
      "outputs": [
        {
          "name": "stdout",
          "output_type": "stream",
          "text": [
            "================Sheet 2=======================\n",
            "    Datetime  AAPL  MSFT  GOOGL  AMZN\n",
            "0 2023-01-01   130   240     90   100\n",
            "1 2023-01-02   132   242     91   102\n",
            "2 2023-01-03   131   241     92   101\n",
            "3 2023-01-04   133   243     91   103\n",
            "4 2023-01-05   135   245     93   104\n",
            "5 2023-01-06   137   246     94   105\n",
            "6 2023-01-07   138   248     96   106\n",
            "7 2023-01-08   140   249     95   107\n",
            "8 2023-01-09   139   247     97   108\n",
            "9 2023-01-10   141   250     98   109\n",
            "================Sheet 1===================\n",
            "  Ho va ten  Diem_Toan  Diem_Van  Diem_Anh  Diem_Ly            Ghi_chu\n",
            "0        An         88      85.0      65.0     96.0                NaN\n",
            "1      Bình         92      57.0      98.0     52.0  Ko co gi dac biet\n",
            "2       Chi         51      73.0       NaN     87.0                NaN\n",
            "3      Dung         91      90.0      56.0     95.0                NaN\n",
            "4        Ha         67      99.0      86.0     76.0                NaN\n",
            "5      Hanh         76       NaN      72.0     90.0                NaN\n",
            "6     Khanh         58      69.0      60.0     88.0                NaN\n",
            "7       Lan         90      93.0      75.0      NaN                NaN\n",
            "8      Minh         95      72.0      91.0     67.0                NaN\n",
            "9      Ngoc         97      80.0      78.0     94.0                NaN\n"
          ]
        }
      ],
      "source": [
        "import pandas as pd                  # Thư viện xử lý dữ liệu dạng bảng\n",
        "xlsx = pd.ExcelFile(\"https://raw.githubusercontent.com/tranhungemail/DSImageCourse/main/ex6.xlsx\")\n",
        "df_excel_sheet2 = xlsx.parse(sheet_name=\"Sheet2\")\n",
        "print(\"================Sheet 2=======================\")\n",
        "print(df_excel_sheet2)\n",
        "print(\"================Sheet 1===================\")\n",
        "df_excel_sheet1 = xlsx.parse(sheet_name=\"Sheet1\")\n",
        "print(df_excel_sheet1)"
      ]
    },
    {
      "cell_type": "markdown",
      "metadata": {
        "id": "SYwHLey4oVyP"
      },
      "source": [
        "## 5.2. Ghi dữ liệu ra Excel\n",
        "**Quy trình**\n",
        "* Import thư viện pandas.\n",
        "\n",
        "* Chuẩn bị dữ liệu dưới dạng DataFrame (có thể đọc từ Excel, CSV, JSON, web, hoặc tạo trực tiếp).\n",
        "\n",
        "* Tạo đối tượng ExcelWriter hoặc chỉ định tên file Excel cần ghi.\n",
        "\n",
        "* Ghi dữ liệu từ DataFrame vào file Excel bằng .to_excel(), có thể chọn sheet_name, index, header, v.v.\n",
        "\n",
        "* Đóng writer (hoặc dùng with pd.ExcelWriter(...) as writer: để tự động đóng).\n",
        "\n",
        "**Kết quả:** Dữ liệu trong DataFrame sẽ được lưu vào file Excel mới hoặc ghi đè vào file có sẵn.\n",
        "\n"
      ]
    },
    {
      "cell_type": "code",
      "execution_count": null,
      "metadata": {
        "id": "SbQQckgQYgyc"
      },
      "outputs": [],
      "source": [
        "import pandas as pd                  # Thư viện xử lý dữ liệu dạng bảng\n",
        "xlsx = pd.ExcelFile(\"https://raw.githubusercontent.com/tranhungemail/DSImageCourse/main/ex6.xlsx\")\n",
        "df_excel_sheet1 = xlsx.parse(sheet_name=\"Sheet1\")\n",
        "df_excel_sheet2 = xlsx.parse(sheet_name=\"Sheet2\")\n",
        "\n",
        "writer1 = pd.ExcelWriter(\"ex6_1.xlsx\")\n",
        "writer2 = pd.ExcelWriter(\"ex6_2.xlsx\")\n",
        "\n",
        "df_excel_sheet1.to_excel(writer1, sheet_name=\"Sheet1\")\n",
        "df_excel_sheet2.to_excel(writer2, sheet_name=\"Sheet2\")\n",
        "\n",
        "writer1.close()\n",
        "writer2.close()"
      ]
    },
    {
      "cell_type": "markdown",
      "metadata": {
        "id": "vPkewEfcYofC"
      },
      "source": [
        "**Giải thích:**\n",
        "\n",
        "* `pd.ExcelFile`: Tải toàn bộ tệp `Excel` để truy cập nhiều sheet.\n",
        "* `parse`: Đọc sheet cụ thể thành `DataFrame`.\n",
        "* `to_excel`: Ghi `DataFrame` ra tệp `Excel`, có thể chỉ định sheet."
      ]
    },
    {
      "cell_type": "markdown",
      "metadata": {
        "id": "QQK9MNOgaIzg"
      },
      "source": [
        "# **6. Tương Tác Với API Web**\n",
        "\n",
        "* API (Application Programming Interface - Giao diện lập trình ứng dụng) web là một giao diện cho phép các ứng dụng hoặc thiết bị khác nhau giao tiếp với nhau qua internet, thường sử dụng giao thức HTTP/HTTPS.\n",
        "* Nó hoạt động như một cầu nối, cho phép gửi yêu cầu (request) và nhận phản hồi (response) dưới dạng dữ liệu (thường là JSON hoặc XML).\n",
        "* API web cung cấp dữ liệu qua `JSON` hoặc `XML`. Thư viện `requests` là công cụ phổ biến để truy cập `API`.\n",
        "\n",
        "##Quy trình chung\n",
        "\n",
        "\n",
        "* Import thư viện requests.\n",
        "\n",
        "* Xác định URL API cần truy cập (ví dụ: danh sách tỉnh thành Việt Nam).\n",
        "\n",
        "* Gửi request đến API (thường là GET, ngoài ra có thể là POST, PUT, DELETE tuỳ mục đích).\n",
        "\n",
        "* Kiểm tra phản hồi từ server qua status_code.\n",
        "\n",
        "> * 200 → thành công.\n",
        "\n",
        "> * Các mã khác (400, 404, 500...) báo lỗi.\n",
        "\n",
        "* Xử lý dữ liệu phản hồi:\n",
        "\n",
        "> * Nếu API trả về JSON → dùng .json() để chuyển thành đối tượng Python (list/dict).\n",
        "\n",
        "> * Nếu API trả về text hoặc HTML → dùng .text.\n",
        "\n",
        "* Sử dụng dữ liệu: in ra, lưu vào file, hoặc chuyển đổi thành DataFrame để phân tích.\n",
        "\n",
        "* Xử lý lỗi (nếu có): thông báo lỗi, retry, hoặc xử lý ngoại lệ.\n",
        "\n",
        "**Ví dụ:** Lấy danh sách tỉnh thành Việt Nam:"
      ]
    },
    {
      "cell_type": "code",
      "execution_count": null,
      "metadata": {
        "id": "EnrisJHNaVzR"
      },
      "outputs": [],
      "source": [
        "import requests\n",
        "\n",
        "# URL API lấy danh sách tỉnh thành Việt Nam\n",
        "url = \"https://provinces.open-api.vn/api/?depth=1\"\n",
        "\n",
        "# Gửi request GET đến API\n",
        "response = requests.get(url)\n",
        "\n",
        "# Kiểm tra trạng thái phản hồi\n",
        "if response.status_code == 200:\n",
        "    data = response.json()  # Dữ liệu trả về dạng JSON\n",
        "    print(\"Danh sách tỉnh thành Việt Nam:\")\n",
        "    for province in data:\n",
        "        print(f\"- {province['name']}\")\n",
        "else:\n",
        "    print(\"Không thể lấy dữ liệu. Mã lỗi:\", response.status_code)"
      ]
    },
    {
      "cell_type": "markdown",
      "metadata": {
        "id": "oqetZyjIc31O"
      },
      "source": [
        "**Giải thích:**\n",
        "\n",
        "* requests.get(url): gửi yêu cầu HTTP GET đến API.\n",
        "\n",
        "* response.json(): chuyển dữ liệu trả về từ JSON sang Python dictionary/list.\n",
        "\n",
        "* province['name']: truy xuất tên tỉnh từ dữ liệu JSON.\n",
        "\n",
        "* Nếu lỗi, in ra status_code (ví dụ: 404, 500)."
      ]
    },
    {
      "cell_type": "markdown",
      "metadata": {
        "id": "uaXu6gdglBvD"
      },
      "source": [
        "# **7. Tương Tác Với Cơ Sở Dữ Liệu (SQL)**\n",
        "`Pandas` hỗ trợ tương tác với cơ sở dữ liệu `SQL` thông qua hai phương pháp chính:\n",
        "\n",
        "* Sử dụng `sqlite3`: Đây là mô-đun tích hợp sẵn trong Python, lý tưởng cho các cơ sở dữ liệu `SQLite` nhẹ và không cần cài đặt thêm. `SQLite` lưu trữ dữ liệu trong một tệp đơn (hoặc trong bộ nhớ), phù hợp cho các ứng dụng nhỏ hoặc thử nghiệm.\n",
        "* Sử dụng `SQLAlchemy`: Thư viện này cung cấp một lớp trừu tượng hóa, cho phép làm việc với nhiều `DBMS` (`SQLite`, `MySQL`, `PostgreSQL`, v.v.) mà không cần thay đổi code nhiều. `SQLAlchemy` phù hợp cho các ứng dụng phức tạp hoặc khi làm việc với nhiều loại cơ sở dữ liệu.\n"
      ]
    },
    {
      "cell_type": "markdown",
      "metadata": {
        "id": "ztXpK9A8v-MC"
      },
      "source": [
        "\n",
        "## **7.1. Các Bước Tương Tác Với Cơ Sở Dữ Liệu**\n",
        "\n",
        "Quy trình làm việc với cơ sở dữ liệu trong `Pandas` thường bao gồm:\n",
        "\n",
        "* Kết nối đến cơ sở dữ liệu: Sử dụng `sqlite3.connect`.\n",
        "\n",
        "* Tạo bảng: Xây dựng cấu trúc bảng với các cột và kiểu dữ liệu phù hợp.\n",
        "\n",
        "* Chèn dữ liệu: Thêm dữ liệu vào bảng.\n",
        "\n",
        "* Truy vấn dữ liệu: Thực hiện truy vấn SQL và chuyển kết quả vào `DataFrame`.\n",
        "\n",
        "* Đóng kết nối: Đảm bảo tài nguyên được giải phóng sau khi sử dụng."
      ]
    },
    {
      "cell_type": "markdown",
      "metadata": {
        "id": "XNaupTekoX7e"
      },
      "source": [
        "## **7.2. Ví Dụ Sử Dụng sqlite3**\n",
        "\n",
        "Tạo một cơ sở dữ liệu `SQLite` có tên `mydata.sqlite` và một bảng `test` với các cột:\n",
        "\n",
        "a: Chuỗi ký tự (VARCHAR(20)).\n",
        "\n",
        "b: Chuỗi ký tự (VARCHAR(20)).\n",
        "\n",
        "c: Số thực (REAL).\n",
        "\n",
        "d: Số nguyên (INTEGER)."
      ]
    },
    {
      "cell_type": "code",
      "execution_count": 3,
      "metadata": {
        "id": "Lxnaekvso2hW"
      },
      "outputs": [],
      "source": [
        "import sqlite3\n",
        "\n",
        "# Kết nối đến cơ sở dữ liệu (tạo tệp mydata.sqlite nếu chưa tồn tại)\n",
        "con = sqlite3.connect(\"mydata.sqlite\")\n",
        "\n",
        "# Tạo bảng test\n",
        "query = \"\"\"\n",
        "CREATE TABLE test\n",
        "(a VARCHAR(20),\n",
        " b VARCHAR(20),\n",
        " c REAL,\n",
        " d INTEGER\n",
        ");\n",
        "\"\"\"\n",
        "\n",
        "try:\n",
        "    con.execute(query)\n",
        "    con.commit()\n",
        "except sqlite3.OperationalError as e:\n",
        "    print(f\"Lỗi khi tạo bảng (có thể bảng đã tồn tại): {e}\")"
      ]
    },
    {
      "cell_type": "markdown",
      "metadata": {
        "id": "u0le_dkrwntQ"
      },
      "source": [
        "**Giải thích:**\n",
        "\n",
        "* `sqlite3.connect(\"mydata.sqlite\")`: Tạo hoặc kết nối đến tệp cơ sở dữ liệu SQLite. Nếu tệp chưa tồn tại, nó sẽ được tạo.\n",
        "\n",
        "* Tạo bảng: Câu lệnh SQL `CREATE TABLE` định nghĩa bảng `test` với 4 cột và kiểu dữ liệu tương ứng.\n",
        "\n",
        "* `con.execute(query)`: Thực thi câu lệnh SQL để tạo bảng.\n",
        "`con.commit()`: Lưu thay đổi vào cơ sở dữ liệu.\n",
        "\n",
        "* Xử lý lỗi: Nếu bảng đã tồn tại, `OperationalError` sẽ được bắt để tránh chương trình bị dừng.\n"
      ]
    },
    {
      "cell_type": "markdown",
      "metadata": {
        "id": "ovLoYTprwTgO"
      },
      "source": [
        "\n",
        "## **7.3 Chèn Dữ Liệu**\n",
        "Chèn một số hàng dữ liệu vào bảng `test`."
      ]
    },
    {
      "cell_type": "code",
      "execution_count": 9,
      "metadata": {
        "colab": {
          "base_uri": "https://localhost:8080/"
        },
        "id": "Nq-5qAZcyi71",
        "outputId": "02713d72-f802-406a-bacc-310934fea15b"
      },
      "outputs": [
        {
          "output_type": "stream",
          "name": "stdout",
          "text": [
            "Lỗi khi tạo bảng (có thể bảng đã tồn tại): table test already exists\n",
            "Đã chèn xong\n"
          ]
        }
      ],
      "source": [
        "\n",
        "import sqlite3\n",
        "\n",
        "# Câu lệnh INSERT\n",
        "stmt = \"INSERT INTO test VALUES(?, ?, ?, ?)\"\n",
        "\n",
        "# Tạo bảng test\n",
        "query = \"\"\"\n",
        "CREATE TABLE test\n",
        "(a VARCHAR(20),\n",
        " b VARCHAR(20),\n",
        " c REAL,\n",
        " d INTEGER\n",
        ");\n",
        "\"\"\"\n",
        "\n",
        "try:\n",
        "    con.execute(query)\n",
        "    con.commit()\n",
        "except sqlite3.OperationalError as e:\n",
        "    print(f\"Lỗi khi tạo bảng (có thể bảng đã tồn tại): {e}\")\n",
        "    exit(1)\n",
        "\n",
        "# Kết nối đến cơ sở dữ liệu (tạo tệp mydata.sqlite nếu chưa tồn tại)\n",
        "con = sqlite3.connect(\"mydata.sqlite\")\n",
        "\n",
        "# Dữ liệu mẫu\n",
        "data_sql = [\n",
        "    (\"Atlanta\", \"Georgia\", 1.25, 6),\n",
        "    (\"Tallahassee\", \"Florida\", 2.6, 3),\n",
        "    (\"Sacramento\", \"California\", 1.7, 5)\n",
        "]\n",
        "\n",
        "try:\n",
        "    con.executemany(stmt, data_sql)\n",
        "    con.commit()\n",
        "    print(f\"Đã chèn xong\")\n",
        "except sqlite3.IntegrityError as e:\n",
        "    print(f\"Lỗi khi chèn dữ liệu (có thể dữ liệu đã tồn tại): {e}\")"
      ]
    },
    {
      "cell_type": "markdown",
      "metadata": {
        "id": "9UtcMiH8yxEn"
      },
      "source": [
        "**Giải thích:**\n",
        "\n",
        "* `data_sql`: Danh sách các tuple, mỗi tuple tương ứng với một hàng dữ liệu cho bảng `test`.\n",
        "\n",
        "* `executemany`: Chèn nhiều hàng cùng lúc, sử dụng dấu ? làm `placeholder`.\n",
        "\n",
        "* `con.commit()`: Lưu dữ liệu vào cơ sở dữ liệu.\n",
        "\n",
        "* Xử lý lỗi: Bắt lỗi `IntegrityError` để xử lý các vấn đề như trùng khóa chính hoặc vi phạm ràng buộc."
      ]
    },
    {
      "cell_type": "markdown",
      "metadata": {
        "id": "bSlgW9wWzas_"
      },
      "source": [
        "## **7.4. Truy Vấn Dữ Liệu**\n",
        "\n",
        "Sử dụng `sqlite3` để truy vấn dữ liệu từ bảng `test` và chuyển vào `DataFrame`."
      ]
    },
    {
      "cell_type": "code",
      "execution_count": 10,
      "metadata": {
        "id": "OzxsQoWd1kkL",
        "colab": {
          "base_uri": "https://localhost:8080/"
        },
        "outputId": "f627e7f3-2b27-40f6-d235-2716b7aa4341"
      },
      "outputs": [
        {
          "output_type": "stream",
          "name": "stdout",
          "text": [
            "              a           b     c  d\n",
            "0       Atlanta     Georgia  1.25  6\n",
            "1   Tallahassee     Florida  2.60  3\n",
            "2    Sacramento  California  1.70  5\n",
            "3       Atlanta     Georgia  1.25  6\n",
            "4   Tallahassee     Florida  2.60  3\n",
            "5    Sacramento  California  1.70  5\n",
            "6       Atlanta     Georgia  1.25  6\n",
            "7   Tallahassee     Florida  2.60  3\n",
            "8    Sacramento  California  1.70  5\n",
            "9       Atlanta     Georgia  1.25  6\n",
            "10  Tallahassee     Florida  2.60  3\n",
            "11   Sacramento  California  1.70  5\n",
            "12      Atlanta     Georgia  1.25  6\n",
            "13  Tallahassee     Florida  2.60  3\n",
            "14   Sacramento  California  1.70  5\n",
            "15      Atlanta     Georgia  1.25  6\n",
            "16  Tallahassee     Florida  2.60  3\n",
            "17   Sacramento  California  1.70  5\n"
          ]
        }
      ],
      "source": [
        "import sqlite3\n",
        "con = sqlite3.connect(\"mydata.sqlite\")\n",
        "\n",
        "# Truy vấn tất cả dữ liệu từ bảng test\n",
        "cursor = con.execute(\"SELECT * FROM test\")\n",
        "rows = cursor.fetchall()\n",
        "\n",
        "# Chuyển kết quả thành DataFrame\n",
        "df_sqlite = pd.DataFrame(rows, columns=[x[0] for x in cursor.description])\n",
        "print(df_sqlite)"
      ]
    },
    {
      "cell_type": "markdown",
      "metadata": {
        "id": "HFnF1Y4q3FkT"
      },
      "source": [
        "**Giải thích:**\n",
        "\n",
        "* `con.execute(\"SELECT * FROM test\")`: Thực thi truy vấn `SQL` để lấy tất cả dữ liệu từ bảng `test`.\n",
        "* `cursor.fetchall()`: Trả về danh sách các `tuple`, mỗi `tuple` là một hàng dữ liệu.\n",
        "* `cursor.description`: Chứa thông tin cột, ở đây lấy tên cột (a, b, c, d) để tạo `DataFrame`.\n",
        "* Tạo `DataFrame`: Sử dụng danh sách `tuple` và tên cột để xây dựng `DataFrame`."
      ]
    },
    {
      "cell_type": "markdown",
      "metadata": {
        "id": "JHvtxOug4CVQ"
      },
      "source": [
        "## **7.5. Đóng Kết Nối**\n",
        "\n",
        "Đóng kết nối để giải phóng tài nguyên."
      ]
    },
    {
      "cell_type": "code",
      "execution_count": null,
      "metadata": {
        "id": "jBCRgKxO4OHx"
      },
      "outputs": [],
      "source": [
        "con.close()"
      ]
    },
    {
      "cell_type": "markdown",
      "metadata": {
        "id": "jqQRBMR3egu9"
      },
      "source": [
        "**Giải thích:**\n",
        "* `con.close()`: Đóng kết nối SQLite để tránh rò rỉ tài nguyên.\n",
        "* Nếu cần xóa tệp cơ sở dữ liệu sau khi thử nghiệm:"
      ]
    },
    {
      "cell_type": "code",
      "execution_count": null,
      "metadata": {
        "id": "U4xeWu_zerDP"
      },
      "outputs": [],
      "source": [
        "import os\n",
        "if os.path.exists(\"mydata.sqlite\"):\n",
        "    os.remove(\"mydata.sqlite\")"
      ]
    }
  ],
  "metadata": {
    "colab": {
      "provenance": [],
      "toc_visible": true,
      "collapsed_sections": [
        "QQK9MNOgaIzg"
      ]
    },
    "kernelspec": {
      "display_name": "Python 3",
      "name": "python3"
    },
    "language_info": {
      "name": "python"
    }
  },
  "nbformat": 4,
  "nbformat_minor": 0
}