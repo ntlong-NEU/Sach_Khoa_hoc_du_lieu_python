{
 "cells": [
  {
   "cell_type": "code",
   "execution_count": 2,
   "id": "d2f61a7a",
   "metadata": {},
   "outputs": [
    {
     "name": "stderr",
     "output_type": "stream",
     "text": [
      "/var/folders/0f/hc8t0jd90c163zb996_dsryr0000gn/T/ipykernel_13216/3076386752.py:10: UserWarning: Could not infer format, so each element will be parsed individually, falling back to `dateutil`. To ensure parsing is consistent and as-expected, please specify a format.\n",
      "  df = pd.read_csv(path, index_col=0, parse_dates=True)\n"
     ]
    },
    {
     "name": "stdout",
     "output_type": "stream",
     "text": [
      "                    Quận               Huyện        Loại hình nhà ở Giấy tờ pháp lý  Số tầng Số phòng ngủ  Diện tích   Dài  Rộng  Giá/m2_thực_tế  Giá/m2_dự_đoán\n",
      "6058        Quận Đống Đa    Phường Ô Chợ Dừa  Nhà mặt phố, mặt tiền        Đã có sổ        4            4      45.00  15.0   3.0          270.00      197.802392\n",
      "3083        Quận Hà Đông      Phường Phúc La  Nhà mặt phố, mặt tiền        Đã có sổ        4            4      40.00  10.0   4.0          125.00      117.645681\n",
      "1218       Quận Cầu Giấy     Phường Mai Dịch           Nhà ngõ, hẻm        Đã có sổ        4            6      57.96  12.6   4.6          127.59      106.032023\n",
      "131     Quận Nam Từ Liêm  Phường Phương Canh           Nhà ngõ, hẻm        Đã có sổ        4            3      31.20   7.8   4.0           79.03       75.644608\n",
      "11129  Quận Hai Bà Trưng    Phường Minh Khai  Nhà mặt phố, mặt tiền        Đã có sổ        4            4      45.00   9.0   5.0          162.86      114.504227\n",
      "6197    Quận Bắc Từ Liêm     Phường Phú Diễn           Nhà ngõ, hẻm    Giấy tờ khác        4            4      30.00  10.0   3.0           78.57       74.171512\n",
      "4267      Quận Long Biên    Phường Ngọc Thụy           Nhà ngõ, hẻm        Đã có sổ        5            3      27.00   9.0   3.0           98.33       78.927561\n",
      "5824        Quận Đống Đa    Phường Ô Chợ Dừa           Nhà ngõ, hẻm        Đã có sổ        4            4      48.00  12.0   4.0          100.00      130.826444\n",
      "8529        Quận Hà Đông       Phường Phú La           Nhà biệt thự        Đã có sổ        5            4      80.00  16.0   5.0          100.00       86.949234\n",
      "5842        Quận Đống Đa      Phường Láng Hạ           Nhà ngõ, hẻm        Đã có sổ        6            3      32.00   8.0   4.0          120.00      119.566683\n",
      "Sai số tuyệt đối trung bình: 27.70\n",
      "Hệ số xác định (R²): 0.471\n"
     ]
    }
   ],
   "source": [
    "from sklearn.ensemble import RandomForestRegressor\n",
    "from sklearn.metrics import r2_score, mean_absolute_error\n",
    "from sklearn.model_selection import train_test_split\n",
    "import pandas as pd                  # Xử lý dữ liệu dạng bảng\n",
    "import numpy as np                  # Xử lý số liệu\n",
    "import seaborn as sns               # Trực quan hóa nâng cao\n",
    "import matplotlib.pyplot as plt     # Trực quan hóa cơ bản\n",
    "\n",
    "path = \"https://raw.githubusercontent.com/NCT-NEU/Sach_Khoa_hoc_du_lieu_python/refs/heads/main/datasets/HN_housing_price_clean.csv\"\n",
    "df = pd.read_csv(path, index_col=0, parse_dates=True)\n",
    "\n",
    "# Thống nhất các biến kiểu số\n",
    "num_vars = [\"Diện tích\", \"Dài\",\t\"Rộng\", \"Giá/m2\"]\n",
    "for var in num_vars:\n",
    "    df[var] = df[var].astype('float')\n",
    "    \n",
    "X_train, X_test, Y_train, Y_test = train_test_split(\n",
    "    df[[\"Quận\", \"Huyện\", \"Loại hình nhà ở\", \"Giấy tờ pháp lý\",\"Số tầng\",\"Số phòng ngủ\",\"Diện tích\", \"Dài\",\"Rộng\"]], df[\"Giá/m2\"], \n",
    "    random_state = 0, test_size=0.3)\n",
    "\n",
    "# Chuyển đổi biến sang kiểu one hot\n",
    "X_train_encoded = pd.get_dummies(X_train, drop_first=True)\n",
    "X_test_encoded = pd.get_dummies(X_test, drop_first=True)\n",
    "\n",
    "# Đồng bộ hóa cột giữa train/test\n",
    "X_train_encoded, X_test_encoded = X_train_encoded.align(X_test_encoded, join='left', axis=1, fill_value=0)\n",
    "\n",
    "# Khởi tạo mô hình Random Forest\n",
    "rf_model = RandomForestRegressor(\n",
    "    n_estimators = 2000,      # số lượng cây\n",
    "    max_depth = 50,        # độ sâu tối đa\n",
    "    max_features = 9,        # số lượng đặc trưng của mỗi cây quyết định\n",
    "    random_state = 10,       # khởi tạo ngẫu nhiên để tái lập kết quả\n",
    ")\n",
    "\n",
    "# Huấn luyện mô hình với dữ liệu huấn luyện\n",
    "rf_model.fit(X_train_encoded, Y_train)\n",
    "\n",
    "# Tính toán sai số\n",
    "Y_pred = rf_model.predict(X_test_encoded)\n",
    "\n",
    "# Tạo bản sao dữ liệu kiểm tra (đã chuẩn hóa)\n",
    "X_test_display = X_test.copy()\n",
    "\n",
    "# Gắn giá trị thực tế và dự đoán\n",
    "X_test_display[\"Giá/m2_thực_tế\"] = Y_test.values\n",
    "X_test_display[\"Giá/m2_dự_đoán\"] = Y_pred\n",
    "\n",
    "# In ra 20 dòng đầu\n",
    "print(X_test_display.head(10).to_string())\n",
    "print(f\"Sai số tuyệt đối trung bình: {mean_absolute_error(Y_test, Y_pred):.2f}\")\n",
    "print(f\"Hệ số xác định (R²): {r2_score(Y_test, Y_pred):.3f}\")"
   ]
  },
  {
   "cell_type": "code",
   "execution_count": null,
   "id": "1e5b4571",
   "metadata": {},
   "outputs": [],
   "source": []
  },
  {
   "cell_type": "code",
   "execution_count": null,
   "id": "82a903df",
   "metadata": {},
   "outputs": [],
   "source": []
  }
 ],
 "metadata": {
  "kernelspec": {
   "display_name": "Python 3 (ipykernel)",
   "language": "python",
   "name": "python3"
  },
  "language_info": {
   "codemirror_mode": {
    "name": "ipython",
    "version": 3
   },
   "file_extension": ".py",
   "mimetype": "text/x-python",
   "name": "python",
   "nbconvert_exporter": "python",
   "pygments_lexer": "ipython3",
   "version": "3.11.5"
  }
 },
 "nbformat": 4,
 "nbformat_minor": 5
}
